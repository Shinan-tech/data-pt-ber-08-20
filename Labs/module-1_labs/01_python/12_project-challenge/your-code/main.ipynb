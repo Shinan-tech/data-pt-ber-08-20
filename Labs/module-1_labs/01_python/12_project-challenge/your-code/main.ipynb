{
 "cells": [
  {
   "cell_type": "markdown",
   "metadata": {},
   "source": [
    "## Challenge A: Password Validator\n",
    "\n",
    "#### Description\n",
    "Your job is to create a simple password validation function, as seen on many websites.\n",
    "\n",
    "The rules for a valid password are as follows:\n",
    "\n",
    "There needs to be at least 1 uppercase letter.\n",
    "There needs to be at least 1 lowercase letter.\n",
    "There needs to be at least 1 number.\n",
    "The password needs to be at least 8 characters long.\n",
    "\n",
    "*You are permitted to use any methods to validate the password.*"
   ]
  },
  {
   "cell_type": "code",
   "execution_count": null,
   "metadata": {},
   "outputs": [],
   "source": [
    "def password_validator():\n",
    "    x = input(\"Enter your password here\")\n",
    "    if len(x) < 8:\n",
    "        print(\"Your password needs to be at least 8 characters long.\")\n",
    "    elif re.findall('[a-z]', x) == []:\n",
    "        print(\"Your password must contain at least 1 lowercase letter.\")\n",
    "    elif re.findall('[A-Z]', x) == []:\n",
    "        print(\"Your password must contain at least 1 uppercase letter.\")\n",
    "    elif re.findall('[0-9]', x) == []:\n",
    "        print(\"Your password must contain at least 1 number.\")\n",
    "    else:\n",
    "        print(\"Thank you!\")\n",
    "    return x\n",
    "password_validator()"
   ]
  },
  {
   "cell_type": "markdown",
   "metadata": {},
   "source": [
    "## Challenge B: Credit Card Validator\n",
    "\n",
    "#### Description\n",
    "\n",
    "Your task is to write a program which reads credit card number prints the validation result ‘Valid’ or ‘Invalid’.\n",
    "\n",
    "A valid credit card has following features:\n",
    "\n",
    "- It should start with 4, 5 or 6\n",
    "- It should have exactly 16 digits\n",
    "- It should only consist of digits (0-9)\n",
    "- It may have digits in groups of 4 and separated by one hyphen \"-\"\n",
    "- It should NOT use any other separator like ‘ ’,‘_’, etc.\n",
    "- It should NOT have 4 or more consecutive repeated digits\n",
    "\n",
    "Valid Credit Card Numbers:\n",
    "1. 4263525778615786\n",
    "2. 5535535535559555\n",
    "3. 6344-2389-7542-9163\n",
    "\n",
    "Invalid Credit Card Numbers:\n",
    "1. 42536258796157867       \n",
    "2. 66266666626662666       \n",
    "3. 5122-2368-7954 -3214   \n",
    "4. 44244x4424442444       \n",
    "5. 0525362587961578"
   ]
  },
  {
   "cell_type": "code",
   "execution_count": 2,
   "metadata": {},
   "outputs": [],
   "source": [
    "# your code here \n"
   ]
  },
  {
   "cell_type": "markdown",
   "metadata": {},
   "source": [
    "## Challenge C: Multiplication Table\n",
    "\n",
    "#### Description\n",
    "    \n",
    "Your task, is to create a function which returns a **NxN multiplication table**, of size N provided as a function argument.\n",
    "\n",
    "for example, when given size is 3:\n",
    "\n",
    "1 2 3\n",
    "\n",
    "2 4 6\n",
    "\n",
    "3 6 9\n",
    "\n",
    "So for the given example, the return value should be: [[1,2,3],[2,4,6],[3,6,9]]"
   ]
  },
  {
   "cell_type": "code",
   "execution_count": 1,
   "metadata": {},
   "outputs": [],
   "source": [
    "# your code here\n",
    "\n"
   ]
  },
  {
   "cell_type": "markdown",
   "metadata": {},
   "source": [
    "## Challenge D: ID Assignment\n",
    "\n",
    "#### Description\n",
    "\n",
    "a) You work in a company with 100 people - to start, please create a list of people ranging from Person 1 to Person 100. For company purposes, each of these people is identified with a Personal ID, which is a combination of 2 uppercase letters and a random number of 5 digits. For each person, generate a random ID, and store it in a dictionary alongside their name (for example ('Person 5': 'AB73648')). Then sort the dictionary according to the values of their Personal IDs.\n",
    "\n",
    "b) One month later, your company changes the ID format for every employee - from now on, every person will have an ID that consists of only letters. In order to convert them, every number in the employee ID should be replaced by the corresponding uppercase letter in the alphabeth. Please write a function that accomplishes this change and apply it to the dictionary."
   ]
  },
  {
   "cell_type": "code",
   "execution_count": 5,
   "metadata": {
    "scrolled": true
   },
   "outputs": [
    {
     "name": "stdout",
     "output_type": "stream",
     "text": [
      "{'Person 1': 'RM68918', 'Person 2': 'AL53978', 'Person 3': 'TS01397', 'Person 4': 'JV97351', 'Person 5': 'WO96322', 'Person 6': 'WT69554', 'Person 7': 'KD25999', 'Person 8': 'SE91669', 'Person 9': 'HY60231', 'Person 10': 'PP63754', 'Person 11': 'BM17305', 'Person 12': 'CB05927', 'Person 13': 'ZH68366', 'Person 14': 'PC24846', 'Person 15': 'JR18200', 'Person 16': 'HZ38677', 'Person 17': 'WV35494', 'Person 18': 'LE04469', 'Person 19': 'GQ76583', 'Person 20': 'NV03869', 'Person 21': 'VO42600', 'Person 22': 'BE88585', 'Person 23': 'XI15399', 'Person 24': 'WM49568', 'Person 25': 'JR28541', 'Person 26': 'CZ84821', 'Person 27': 'GF90316', 'Person 28': 'TD81945', 'Person 29': 'SF86472', 'Person 30': 'DV89305', 'Person 31': 'IZ73129', 'Person 32': 'OK61928', 'Person 33': 'RH07490', 'Person 34': 'WW72469', 'Person 35': 'VZ76769', 'Person 36': 'BA19406', 'Person 37': 'SJ36758', 'Person 38': 'XX90923', 'Person 39': 'GQ90333', 'Person 40': 'ON73718', 'Person 41': 'CO67392', 'Person 42': 'TM30004', 'Person 43': 'WY65415', 'Person 44': 'OS87895', 'Person 45': 'RU01539', 'Person 46': 'KV64415', 'Person 47': 'QE00441', 'Person 48': 'YX97270', 'Person 49': 'PP17911', 'Person 50': 'KH51191', 'Person 51': 'EY54006', 'Person 52': 'OR31246', 'Person 53': 'XG44318', 'Person 54': 'WA13135', 'Person 55': 'IW94777', 'Person 56': 'MD59311', 'Person 57': 'IW41804', 'Person 58': 'AI28643', 'Person 59': 'YC97873', 'Person 60': 'UC68422', 'Person 61': 'OY61544', 'Person 62': 'DO74718', 'Person 63': 'DH39834', 'Person 64': 'FY51137', 'Person 65': 'FH89750', 'Person 66': 'WX18826', 'Person 67': 'XE78768', 'Person 68': 'AJ58207', 'Person 69': 'UJ29465', 'Person 70': 'QF41927', 'Person 71': 'ZV12649', 'Person 72': 'IW26747', 'Person 73': 'BP59210', 'Person 74': 'JE86303', 'Person 75': 'BP05967', 'Person 76': 'BL62144', 'Person 77': 'QC69603', 'Person 78': 'WE05464', 'Person 79': 'NB03746', 'Person 80': 'IZ18267', 'Person 81': 'BD20246', 'Person 82': 'BT64706', 'Person 83': 'CM41553', 'Person 84': 'CE43135', 'Person 85': 'ZJ47685', 'Person 86': 'JK78838', 'Person 87': 'EI11126', 'Person 88': 'QN33964', 'Person 89': 'VY43033', 'Person 90': 'WF37993', 'Person 91': 'ZA36869', 'Person 92': 'JJ95887', 'Person 93': 'HL00208', 'Person 94': 'DS20284', 'Person 95': 'NB70149', 'Person 96': 'ZT70524', 'Person 97': 'KA97366', 'Person 98': 'SG18286', 'Person 99': 'AP68188', 'Person 100': 'HF11469'}\n",
      "{'Person 58': 'AI28643', 'Person 68': 'AJ58207', 'Person 2': 'AL53978', 'Person 99': 'AP68188', 'Person 36': 'BA19406', 'Person 81': 'BD20246', 'Person 22': 'BE88585', 'Person 76': 'BL62144', 'Person 11': 'BM17305', 'Person 75': 'BP05967', 'Person 73': 'BP59210', 'Person 82': 'BT64706', 'Person 12': 'CB05927', 'Person 84': 'CE43135', 'Person 83': 'CM41553', 'Person 41': 'CO67392', 'Person 26': 'CZ84821', 'Person 63': 'DH39834', 'Person 62': 'DO74718', 'Person 94': 'DS20284', 'Person 30': 'DV89305', 'Person 87': 'EI11126', 'Person 51': 'EY54006', 'Person 65': 'FH89750', 'Person 64': 'FY51137', 'Person 27': 'GF90316', 'Person 19': 'GQ76583', 'Person 39': 'GQ90333', 'Person 100': 'HF11469', 'Person 93': 'HL00208', 'Person 9': 'HY60231', 'Person 16': 'HZ38677', 'Person 72': 'IW26747', 'Person 57': 'IW41804', 'Person 55': 'IW94777', 'Person 80': 'IZ18267', 'Person 31': 'IZ73129', 'Person 74': 'JE86303', 'Person 92': 'JJ95887', 'Person 86': 'JK78838', 'Person 15': 'JR18200', 'Person 25': 'JR28541', 'Person 4': 'JV97351', 'Person 97': 'KA97366', 'Person 7': 'KD25999', 'Person 50': 'KH51191', 'Person 46': 'KV64415', 'Person 18': 'LE04469', 'Person 56': 'MD59311', 'Person 79': 'NB03746', 'Person 95': 'NB70149', 'Person 20': 'NV03869', 'Person 32': 'OK61928', 'Person 40': 'ON73718', 'Person 52': 'OR31246', 'Person 44': 'OS87895', 'Person 61': 'OY61544', 'Person 14': 'PC24846', 'Person 49': 'PP17911', 'Person 10': 'PP63754', 'Person 77': 'QC69603', 'Person 47': 'QE00441', 'Person 70': 'QF41927', 'Person 88': 'QN33964', 'Person 33': 'RH07490', 'Person 1': 'RM68918', 'Person 45': 'RU01539', 'Person 8': 'SE91669', 'Person 29': 'SF86472', 'Person 98': 'SG18286', 'Person 37': 'SJ36758', 'Person 28': 'TD81945', 'Person 42': 'TM30004', 'Person 3': 'TS01397', 'Person 60': 'UC68422', 'Person 69': 'UJ29465', 'Person 21': 'VO42600', 'Person 89': 'VY43033', 'Person 35': 'VZ76769', 'Person 54': 'WA13135', 'Person 78': 'WE05464', 'Person 90': 'WF37993', 'Person 24': 'WM49568', 'Person 5': 'WO96322', 'Person 6': 'WT69554', 'Person 17': 'WV35494', 'Person 34': 'WW72469', 'Person 66': 'WX18826', 'Person 43': 'WY65415', 'Person 67': 'XE78768', 'Person 53': 'XG44318', 'Person 23': 'XI15399', 'Person 38': 'XX90923', 'Person 59': 'YC97873', 'Person 48': 'YX97270', 'Person 91': 'ZA36869', 'Person 13': 'ZH68366', 'Person 85': 'ZJ47685', 'Person 96': 'ZT70524', 'Person 71': 'ZV12649'}\n"
     ]
    }
   ],
   "source": [
    "# your code here\n",
    "import random\n",
    "import operator\n",
    "colnames = ['primary_key']\n",
    "employee_list = [\"Person \" + str(i) for i in range(1,101)]\n",
    "personal_id_dict = {}\n",
    "for employee in employee_list:\n",
    "    personal_id = ''.join(([str(random.choice('ABCDEFGHIJKLMNOPQRSTUVWXYZ')) for i in range(0,2)])) + ''.join(([str(random.randint(0,9)) for i in range(0,5)]))\n",
    "    personal_id_dict[employee] = personal_id\n",
    "print(personal_id_dict)\n",
    "\n",
    "sorted_personal_id_dict = dict(sorted(personal_id_dict.items(), key=operator.itemgetter(1)))\n",
    "print(sorted_personal_id_dict)\n",
    "\n",
    "\n"
   ]
  },
  {
   "cell_type": "code",
   "execution_count": 16,
   "metadata": {},
   "outputs": [
    {
     "name": "stdout",
     "output_type": "stream",
     "text": [
      "{'Person 1': 'RMGIJBI', 'Person 2': 'ALFDJHI', 'Person 3': 'TSABDJH', 'Person 4': 'JVJHDFB', 'Person 5': 'WOJGDCC', 'Person 6': 'WTGJFFE', 'Person 7': 'KDCFJJJ', 'Person 8': 'SEJBGGJ', 'Person 9': 'HYGACDB', 'Person 10': 'PPGDHFE', 'Person 11': 'BMBHDAF', 'Person 12': 'CBAFJCH', 'Person 13': 'ZHGIDGG', 'Person 14': 'PCCEIEG', 'Person 15': 'JRBICAA', 'Person 16': 'HZDIGHH', 'Person 17': 'WVDFEJE', 'Person 18': 'LEAEEGJ', 'Person 19': 'GQHGFID', 'Person 20': 'NVADIGJ', 'Person 21': 'VOECGAA', 'Person 22': 'BEIIFIF', 'Person 23': 'XIBFDJJ', 'Person 24': 'WMEJFGI', 'Person 25': 'JRCIFEB', 'Person 26': 'CZIEICB', 'Person 27': 'GFJADBG', 'Person 28': 'TDIBJEF', 'Person 29': 'SFIGEHC', 'Person 30': 'DVIJDAF', 'Person 31': 'IZHDBCJ', 'Person 32': 'OKGBJCI', 'Person 33': 'RHAHEJA', 'Person 34': 'WWHCEGJ', 'Person 35': 'VZHGHGJ', 'Person 36': 'BABJEAG', 'Person 37': 'SJDGHFI', 'Person 38': 'XXJAJCD', 'Person 39': 'GQJADDD', 'Person 40': 'ONHDHBI', 'Person 41': 'COGHDJC', 'Person 42': 'TMDAAAE', 'Person 43': 'WYGFEBF', 'Person 44': 'OSIHIJF', 'Person 45': 'RUABFDJ', 'Person 46': 'KVGEEBF', 'Person 47': 'QEAAEEB', 'Person 48': 'YXJHCHA', 'Person 49': 'PPBHJBB', 'Person 50': 'KHFBBJB', 'Person 51': 'EYFEAAG', 'Person 52': 'ORDBCEG', 'Person 53': 'XGEEDBI', 'Person 54': 'WABDBDF', 'Person 55': 'IWJEHHH', 'Person 56': 'MDFJDBB', 'Person 57': 'IWEBIAE', 'Person 58': 'AICIGED', 'Person 59': 'YCJHIHD', 'Person 60': 'UCGIECC', 'Person 61': 'OYGBFEE', 'Person 62': 'DOHEHBI', 'Person 63': 'DHDJIDE', 'Person 64': 'FYFBBDH', 'Person 65': 'FHIJHFA', 'Person 66': 'WXBIICG', 'Person 67': 'XEHIHGI', 'Person 68': 'AJFICAH', 'Person 69': 'UJCJEGF', 'Person 70': 'QFEBJCH', 'Person 71': 'ZVBCGEJ', 'Person 72': 'IWCGHEH', 'Person 73': 'BPFJCBA', 'Person 74': 'JEIGDAD', 'Person 75': 'BPAFJGH', 'Person 76': 'BLGCBEE', 'Person 77': 'QCGJGAD', 'Person 78': 'WEAFEGE', 'Person 79': 'NBADHEG', 'Person 80': 'IZBICGH', 'Person 81': 'BDCACEG', 'Person 82': 'BTGEHAG', 'Person 83': 'CMEBFFD', 'Person 84': 'CEEDBDF', 'Person 85': 'ZJEHGIF', 'Person 86': 'JKHIIDI', 'Person 87': 'EIBBBCG', 'Person 88': 'QNDDJGE', 'Person 89': 'VYEDADD', 'Person 90': 'WFDHJJD', 'Person 91': 'ZADGIGJ', 'Person 92': 'JJJFIIH', 'Person 93': 'HLAACAI', 'Person 94': 'DSCACIE', 'Person 95': 'NBHABEJ', 'Person 96': 'ZTHAFCE', 'Person 97': 'KAJHDGG', 'Person 98': 'SGBICIG', 'Person 99': 'APGIBII', 'Person 100': 'HFBBEGJ'}\n"
     ]
    }
   ],
   "source": [
    "number_to_letter = lambda x: chr(ord('A')+x)\n",
    "def personid_change(x):\n",
    "    new_string_list = []\n",
    "    for i in x:\n",
    "        if i.isnumeric():\n",
    "            y = number_to_letter(int(i))\n",
    "        else:\n",
    "            y = i\n",
    "        new_string_list.append(y)\n",
    "    y = ''.join(new_string_list)\n",
    "    return y\n",
    "personid_change('RM01234')\n",
    "mutated_id_dict = {}\n",
    "for key in personal_id_dict:\n",
    "    mutated_id_dict[key] = personid_change(personal_id_dict[key])\n",
    "print(mutated_id_dict)\n",
    "# mynewdict = dict([(a,b) for a,b in zip(personal_id_dict.keys(),list(map(personid_change,personal_id_dict.values())))])"
   ]
  }
 ],
 "metadata": {
  "kernelspec": {
   "display_name": "Python 3",
   "language": "python",
   "name": "python3"
  },
  "language_info": {
   "codemirror_mode": {
    "name": "ipython",
    "version": 3
   },
   "file_extension": ".py",
   "mimetype": "text/x-python",
   "name": "python",
   "nbconvert_exporter": "python",
   "pygments_lexer": "ipython3",
   "version": "3.7.1"
  }
 },
 "nbformat": 4,
 "nbformat_minor": 2
}
