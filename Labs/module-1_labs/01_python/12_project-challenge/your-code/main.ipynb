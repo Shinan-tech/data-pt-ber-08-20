{
 "cells": [
  {
   "cell_type": "markdown",
   "metadata": {},
   "source": [
    "## Challenge A: Password Validator\n",
    "\n",
    "#### Description\n",
    "Your job is to create a simple password validation function, as seen on many websites.\n",
    "\n",
    "The rules for a valid password are as follows:\n",
    "\n",
    "There needs to be at least 1 uppercase letter.\n",
    "There needs to be at least 1 lowercase letter.\n",
    "There needs to be at least 1 number.\n",
    "The password needs to be at least 8 characters long.\n",
    "\n",
    "*You are permitted to use any methods to validate the password.*"
   ]
  },
  {
   "cell_type": "code",
   "execution_count": 1,
   "metadata": {},
   "outputs": [
    {
     "name": "stdout",
     "output_type": "stream",
     "text": [
      "Please provide your password 565lllooPPP\n",
      "Valid password\n"
     ]
    },
    {
     "data": {
      "text/plain": [
       "True"
      ]
     },
     "execution_count": 1,
     "metadata": {},
     "output_type": "execute_result"
    }
   ],
   "source": [
    "import re\n",
    "def password_validator():\n",
    "    password = input(\"Please provide your password \")\n",
    "    if len(password) < 8:\n",
    "        print(\"Invalid. The password has to be 8 characters long\")\n",
    "    elif re.findall(\"[a-z]\", password) == []:\n",
    "        print (\"Invalid. The password has to contain at least 1 lowercase\")\n",
    "    elif re.findall(\"[A-Z]\", password) == []:\n",
    "        print(\"Invalid. The password has to contain at least 1 uppercase\")\n",
    "    elif re.findall(\"[0-9]\", password) == []:\n",
    "        print(\"Invalid. The password has to contain at least 1 number\")\n",
    "    else:\n",
    "        print(\"Valid password\")\n",
    "        return True\n",
    "password_validator()\n",
    "        "
   ]
  },
  {
   "cell_type": "code",
   "execution_count": 2,
   "metadata": {},
   "outputs": [],
   "source": [
    "# list(map(fun,irrerate)))\n",
    "# sum boolean only sum True"
   ]
  },
  {
   "cell_type": "code",
   "execution_count": 13,
   "metadata": {},
   "outputs": [],
   "source": [
    "def password_val(pw):\n",
    "    if len(pw) < 8:\n",
    "        print(\"Invalid. The password has to be 8 characters long\")\n",
    "    elif sum(list(map(str.isupper, pw))) == 0:\n",
    "        print(\"Invalid. The password has to contain at least 1 uppercase\")\n",
    "    elif sum(list(map(str.islower, pw))) == 0:\n",
    "        print (\"Invalid. The password has to contain at least 1 lowercase\")\n",
    "    elif sum(list(map(str.isnumeric, pw))) ==0:\n",
    "        print(\"Invalid. The password has to contain at least 1 number\")\n",
    "    else:\n",
    "        print(\"Valid password\")\n",
    "        return True\n"
   ]
  },
  {
   "cell_type": "code",
   "execution_count": 14,
   "metadata": {},
   "outputs": [
    {
     "name": "stdout",
     "output_type": "stream",
     "text": [
      "Please give your password456EEEEFffffff\n",
      "Valid password\n"
     ]
    },
    {
     "data": {
      "text/plain": [
       "True"
      ]
     },
     "execution_count": 14,
     "metadata": {},
     "output_type": "execute_result"
    }
   ],
   "source": [
    "pw = input(\"Please give your password\")\n",
    "password_val(pw)"
   ]
  },
  {
   "cell_type": "markdown",
   "metadata": {},
   "source": [
    "## Challenge B: Credit Card Validator\n",
    "\n",
    "#### Description\n",
    "\n",
    "Your task is to write a program which reads credit card number prints the validation result ‘Valid’ or ‘Invalid’.\n",
    "\n",
    "A valid credit card has following features:\n",
    "\n",
    "- It should start with 4, 5 or 6\n",
    "- It should have exactly 16 digits\n",
    "- It should only consist of digits (0-9)\n",
    "- It may have digits in groups of 4 and separated by one hyphen \"-\"\n",
    "- It should NOT use any other separator like ‘ ’,‘_’, etc.\n",
    "- It should NOT have 4 or more consecutive repeated digits\n",
    "\n",
    "Valid Credit Card Numbers:\n",
    "1. 4263525778615786\n",
    "2. 5535535535559555\n",
    "3. 6344-2389-7542-9163\n",
    "\n",
    "Invalid Credit Card Numbers:\n",
    "1. 42536258796157867       \n",
    "2. 66266666626662666       \n",
    "3. 5122-2368-7954 -3214   \n",
    "4. 44244x4424442444       \n",
    "5. 0525362587961578"
   ]
  },
  {
   "cell_type": "code",
   "execution_count": 4,
   "metadata": {},
   "outputs": [],
   "source": [
    "def dashes(x):\n",
    "    s = str(x)\n",
    "    no_ints = \"\".join([i for i in s if not i.isdigit()])\n",
    "    if (s[4] == \"-\") and (s[9] == \"-\") and (s[14] == \"-\") and (no_ints == \"---\") and len(s) == 19:\n",
    "        return True\n",
    "\n",
    "   "
   ]
  },
  {
   "cell_type": "code",
   "execution_count": 5,
   "metadata": {},
   "outputs": [],
   "source": [
    "# split 用于分string，可x并非字符串\n",
    "def non_four_concecutive(x):\n",
    "    # res = \"\".join(x.split(\"-\"\"))\n",
    "    res = \"\".join(x.replace(\"-\",\"\"))\n",
    "    consecutives = [4*str(i) for i in range(0,10)]\n",
    "    for repeated in consecutives:\n",
    "        if repeated in res:\n",
    "            return False\n",
    "        else:\n",
    "            return True\n",
    "        \n",
    "    "
   ]
  },
  {
   "cell_type": "code",
   "execution_count": 6,
   "metadata": {},
   "outputs": [
    {
     "ename": "KeyboardInterrupt",
     "evalue": "Interrupted by user",
     "output_type": "error",
     "traceback": [
      "\u001b[1;31m---------------------------------------------------------------------------\u001b[0m",
      "\u001b[1;31mKeyboardInterrupt\u001b[0m                         Traceback (most recent call last)",
      "\u001b[1;32m<ipython-input-6-079f657e8efc>\u001b[0m in \u001b[0;36m<module>\u001b[1;34m\u001b[0m\n\u001b[0;32m      2\u001b[0m \u001b[1;31m# Python isdigit() 方法检测字符串是否只由数字组成\u001b[0m\u001b[1;33m\u001b[0m\u001b[1;33m\u001b[0m\u001b[1;33m\u001b[0m\u001b[0m\n\u001b[0;32m      3\u001b[0m \u001b[1;31m# Python isnumeric() 方法检测字符串是否只由数字组成。这种方法是只针对unicode对象。\u001b[0m\u001b[1;33m\u001b[0m\u001b[1;33m\u001b[0m\u001b[1;33m\u001b[0m\u001b[0m\n\u001b[1;32m----> 4\u001b[1;33m \u001b[0mcd\u001b[0m \u001b[1;33m=\u001b[0m \u001b[0minput\u001b[0m\u001b[1;33m(\u001b[0m\u001b[1;34m\"Please input your credit card number: \"\u001b[0m\u001b[1;33m)\u001b[0m\u001b[1;33m\u001b[0m\u001b[1;33m\u001b[0m\u001b[0m\n\u001b[0m\u001b[0;32m      5\u001b[0m \u001b[1;32mif\u001b[0m \u001b[0mcd\u001b[0m\u001b[1;33m.\u001b[0m\u001b[0mstartswith\u001b[0m\u001b[1;33m(\u001b[0m\u001b[1;33m(\u001b[0m\u001b[1;34m\"4\"\u001b[0m\u001b[1;33m,\u001b[0m \u001b[1;34m\"5\"\u001b[0m\u001b[1;33m,\u001b[0m \u001b[1;34m\"6\"\u001b[0m\u001b[1;33m)\u001b[0m\u001b[1;33m,\u001b[0m \u001b[1;36m0\u001b[0m\u001b[1;33m)\u001b[0m \u001b[1;32mis\u001b[0m \u001b[1;32mFalse\u001b[0m\u001b[1;33m:\u001b[0m\u001b[1;33m\u001b[0m\u001b[1;33m\u001b[0m\u001b[0m\n\u001b[0;32m      6\u001b[0m     \u001b[0mprint\u001b[0m\u001b[1;33m(\u001b[0m\u001b[1;34m\"Invalid credit card. Please check your first number.\"\u001b[0m\u001b[1;33m)\u001b[0m\u001b[1;33m\u001b[0m\u001b[1;33m\u001b[0m\u001b[0m\n",
      "\u001b[1;32m~\\anaconda3\\lib\\site-packages\\ipykernel\\kernelbase.py\u001b[0m in \u001b[0;36mraw_input\u001b[1;34m(self, prompt)\u001b[0m\n\u001b[0;32m    858\u001b[0m                 \u001b[1;34m\"raw_input was called, but this frontend does not support input requests.\"\u001b[0m\u001b[1;33m\u001b[0m\u001b[1;33m\u001b[0m\u001b[0m\n\u001b[0;32m    859\u001b[0m             )\n\u001b[1;32m--> 860\u001b[1;33m         return self._input_request(str(prompt),\n\u001b[0m\u001b[0;32m    861\u001b[0m             \u001b[0mself\u001b[0m\u001b[1;33m.\u001b[0m\u001b[0m_parent_ident\u001b[0m\u001b[1;33m,\u001b[0m\u001b[1;33m\u001b[0m\u001b[1;33m\u001b[0m\u001b[0m\n\u001b[0;32m    862\u001b[0m             \u001b[0mself\u001b[0m\u001b[1;33m.\u001b[0m\u001b[0m_parent_header\u001b[0m\u001b[1;33m,\u001b[0m\u001b[1;33m\u001b[0m\u001b[1;33m\u001b[0m\u001b[0m\n",
      "\u001b[1;32m~\\anaconda3\\lib\\site-packages\\ipykernel\\kernelbase.py\u001b[0m in \u001b[0;36m_input_request\u001b[1;34m(self, prompt, ident, parent, password)\u001b[0m\n\u001b[0;32m    902\u001b[0m             \u001b[1;32mexcept\u001b[0m \u001b[0mKeyboardInterrupt\u001b[0m\u001b[1;33m:\u001b[0m\u001b[1;33m\u001b[0m\u001b[1;33m\u001b[0m\u001b[0m\n\u001b[0;32m    903\u001b[0m                 \u001b[1;31m# re-raise KeyboardInterrupt, to truncate traceback\u001b[0m\u001b[1;33m\u001b[0m\u001b[1;33m\u001b[0m\u001b[1;33m\u001b[0m\u001b[0m\n\u001b[1;32m--> 904\u001b[1;33m                 \u001b[1;32mraise\u001b[0m \u001b[0mKeyboardInterrupt\u001b[0m\u001b[1;33m(\u001b[0m\u001b[1;34m\"Interrupted by user\"\u001b[0m\u001b[1;33m)\u001b[0m \u001b[1;32mfrom\u001b[0m \u001b[1;32mNone\u001b[0m\u001b[1;33m\u001b[0m\u001b[1;33m\u001b[0m\u001b[0m\n\u001b[0m\u001b[0;32m    905\u001b[0m             \u001b[1;32mexcept\u001b[0m \u001b[0mException\u001b[0m \u001b[1;32mas\u001b[0m \u001b[0me\u001b[0m\u001b[1;33m:\u001b[0m\u001b[1;33m\u001b[0m\u001b[1;33m\u001b[0m\u001b[0m\n\u001b[0;32m    906\u001b[0m                 \u001b[0mself\u001b[0m\u001b[1;33m.\u001b[0m\u001b[0mlog\u001b[0m\u001b[1;33m.\u001b[0m\u001b[0mwarning\u001b[0m\u001b[1;33m(\u001b[0m\u001b[1;34m\"Invalid Message:\"\u001b[0m\u001b[1;33m,\u001b[0m \u001b[0mexc_info\u001b[0m\u001b[1;33m=\u001b[0m\u001b[1;32mTrue\u001b[0m\u001b[1;33m)\u001b[0m\u001b[1;33m\u001b[0m\u001b[1;33m\u001b[0m\u001b[0m\n",
      "\u001b[1;31mKeyboardInterrupt\u001b[0m: Interrupted by user"
     ]
    }
   ],
   "source": [
    "# your code here \n",
    "# Python isdigit() 方法检测字符串是否只由数字组成\n",
    "# Python isnumeric() 方法检测字符串是否只由数字组成。这种方法是只针对unicode对象。\n",
    "cd = input(\"Please input your credit card number: \")\n",
    "if cd.startswith((\"4\", \"5\", \"6\"), 0) is False:\n",
    "    print(\"Invalid credit card. Please check your first number.\")\n",
    "\n",
    "elif (len(cd) != 16):\n",
    "    if dashes(cd) and non_four_concecutive(cd):\n",
    "        print (\"valid credit card\")\n",
    "    else:\n",
    "        print (\"Invalid credit card. Please check if the dashes are correct or if there are concecutive numbers \")\n",
    "elif (len(cd) == 16) and cd.isdigit():\n",
    "    if not non_four_concecutive(cd):\n",
    "        print(\"valid credit card\")\n",
    "    else:\n",
    "        print(\"invalid credit card. It has 4 consecutives number\")\n",
    "\n",
    "      \n",
    "\n",
    "\n"
   ]
  },
  {
   "cell_type": "code",
   "execution_count": null,
   "metadata": {},
   "outputs": [],
   "source": [
    "cd = input(\"Please input \")\n",
    "# [n for n in cd if not n.isdigit()]\n",
    "res = \"\".join(cd.replace(\"-\", \"\"))\n",
    "print(res)"
   ]
  },
  {
   "cell_type": "code",
   "execution_count": null,
   "metadata": {},
   "outputs": [],
   "source": [
    "# The Python isalpha() method returns true if a string only contains letters.\n",
    "# Python isnumeric() returns true if all characters in a string are numbers. \n",
    "# Python isalnum() only returns true if a string contains alphanumeric characters, without symbols.\n",
    "\n"
   ]
  },
  {
   "cell_type": "markdown",
   "metadata": {},
   "source": [
    "## Challenge C: Multiplication Table\n",
    "\n",
    "#### Description\n",
    "    \n",
    "Your task, is to create a function which returns a **NxN multiplication table**, of size N provided as a function argument.\n",
    "\n",
    "for example, when given size is 3:\n",
    "\n",
    "1 2 3\n",
    "\n",
    "2 4 6\n",
    "\n",
    "3 6 9\n",
    "\n",
    "So for the given example, the return value should be: [[1,2,3],[2,4,6],[3,6,9]]"
   ]
  },
  {
   "cell_type": "code",
   "execution_count": null,
   "metadata": {},
   "outputs": [],
   "source": [
    "# your code here\n",
    "import numpy as np\n",
    "\n",
    "def mul_table(mul):\n",
    "    \n",
    "    \n",
    "    "
   ]
  },
  {
   "cell_type": "code",
   "execution_count": null,
   "metadata": {},
   "outputs": [],
   "source": [
    "mul = input('Please give a positive number')\n",
    "multable()"
   ]
  },
  {
   "cell_type": "markdown",
   "metadata": {},
   "source": [
    "## Challenge D: ID Assignment\n",
    "\n",
    "#### Description\n",
    "\n",
    "a) You work in a company with 100 people - to start, please create a list of people ranging from Person 1 to Person 100. For company purposes, each of these people is identified with a Personal ID, which is a combination of 2 uppercase letters and a random number of 5 digits. For each person, generate a random ID, and store it in a dictionary alongside their name (for example ('Person 5': 'AB73648')). Then sort the dictionary according to the values of their Personal IDs.\n",
    "\n",
    "b) One month later, your company changes the ID format for every employee - from now on, every person will have an ID that consists of only letters. In order to convert them, every number in the employee ID should be replaced by the corresponding uppercase letter in the alphabeth. Please write a function that accomplishes this change and apply it to the dictionary."
   ]
  },
  {
   "cell_type": "code",
   "execution_count": null,
   "metadata": {
    "scrolled": false
   },
   "outputs": [],
   "source": [
    "# your code here\n",
    "import random\n",
    "import operator\n",
    "colnames = ['primary_key']\n",
    "employee_list = [\"Person \" + str(i) for i in range(1,101)]\n",
    "personal_id_dict = {}\n",
    "for employee in employee_list:\n",
    "    personal_id = ''.join(([str(random.choice('ABCDEFGHIJKLMNOPQRSTUVWXYZ')) for i in range(0,2)])) + ''.join(([str(random.randint(0,9)) for i in range(0,5)]))\n",
    "    personal_id_dict[employee] = personal_id\n",
    "print(personal_id_dict)\n",
    "\n",
    "sorted_personal_id_dict = dict(sorted(personal_id_dict.items(), key=operator.itemgetter(1)))\n",
    "print(sorted_personal_id_dict)\n",
    "\n",
    "\n"
   ]
  },
  {
   "cell_type": "code",
   "execution_count": null,
   "metadata": {},
   "outputs": [],
   "source": [
    "number_to_letter = lambda x: chr(ord('A')+x)\n",
    "def personid_change(x):\n",
    "    new_string_list = []\n",
    "    for i in x:\n",
    "        if i.isnumeric():\n",
    "            y = number_to_letter(int(i))\n",
    "        else:\n",
    "            y = i\n",
    "        new_string_list.append(y)\n",
    "    y = ''.join(new_string_list)\n",
    "    return y\n",
    "personid_change('RM01234')\n",
    "mutated_id_dict = {}\n",
    "for key in personal_id_dict:\n",
    "    mutated_id_dict[key] = personid_change(personal_id_dict[key])\n",
    "print(mutated_id_dict)\n",
    "# mynewdict = dict([(a,b) for a,b in zip(personal_id_dict.keys(),list(map(personid_change,personal_id_dict.values())))])"
   ]
  },
  {
   "cell_type": "code",
   "execution_count": null,
   "metadata": {},
   "outputs": [],
   "source": [
    "def validate(x):\n",
    "    if sum(list(map(str.isupper, x))) >= 1:\n",
    "        if sum(list(map(str.islower, x))) >= 1:\n",
    "            if sum(list(map(str.isnumeric, x))) >= 1:\n",
    "                if len(x) >= 8:\n",
    "                    print(\"Thank you! All good.\")\n",
    "                    return True\n",
    "    print(\"This password is not valid.\")\n",
    "    return False"
   ]
  },
  {
   "cell_type": "code",
   "execution_count": null,
   "metadata": {
    "scrolled": true
   },
   "outputs": [],
   "source": [
    "pw = input(\"Please type your password: \")\n",
    "validate(pw)"
   ]
  },
  {
   "cell_type": "code",
   "execution_count": null,
   "metadata": {},
   "outputs": [],
   "source": [
    "x = input (\"Please insert the number\")\n",
    "list(map(str.isnumeric, x))"
   ]
  }
 ],
 "metadata": {
  "kernelspec": {
   "display_name": "Python 3",
   "language": "python",
   "name": "python3"
  },
  "language_info": {
   "codemirror_mode": {
    "name": "ipython",
    "version": 3
   },
   "file_extension": ".py",
   "mimetype": "text/x-python",
   "name": "python",
   "nbconvert_exporter": "python",
   "pygments_lexer": "ipython3",
   "version": "3.8.3"
  }
 },
 "nbformat": 4,
 "nbformat_minor": 2
}
