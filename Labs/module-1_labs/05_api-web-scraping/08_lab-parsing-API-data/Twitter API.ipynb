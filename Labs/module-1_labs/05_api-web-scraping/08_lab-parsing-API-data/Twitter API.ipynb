{
 "cells": [
  {
   "cell_type": "markdown",
   "metadata": {},
   "source": [
    "### Twitter API"
   ]
  },
  {
   "cell_type": "markdown",
   "metadata": {},
   "source": [
    "### Install tweepy only into this jupyter notebook\n",
    "http://docs.tweepy.org/en/latest/"
   ]
  },
  {
   "cell_type": "code",
   "execution_count": 8,
   "metadata": {
    "scrolled": true
   },
   "outputs": [
    {
     "name": "stdout",
     "output_type": "stream",
     "text": [
      "Collecting tweepy\n",
      "  Downloading tweepy-3.9.0-py2.py3-none-any.whl (30 kB)\n",
      "Requirement already satisfied: six>=1.10.0 in c:\\users\\april\\anaconda3\\lib\\site-packages (from tweepy) (1.15.0)\n",
      "Collecting requests-oauthlib>=0.7.0\n",
      "  Downloading requests_oauthlib-1.3.0-py2.py3-none-any.whl (23 kB)\n",
      "Requirement already satisfied: requests[socks]>=2.11.1 in c:\\users\\april\\anaconda3\\lib\\site-packages (from tweepy) (2.24.0)\n",
      "Collecting oauthlib>=3.0.0\n",
      "  Downloading oauthlib-3.1.0-py2.py3-none-any.whl (147 kB)\n",
      "Requirement already satisfied: certifi>=2017.4.17 in c:\\users\\april\\anaconda3\\lib\\site-packages (from requests[socks]>=2.11.1->tweepy) (2020.6.20)\n",
      "Requirement already satisfied: idna<3,>=2.5 in c:\\users\\april\\anaconda3\\lib\\site-packages (from requests[socks]>=2.11.1->tweepy) (2.10)\n",
      "Requirement already satisfied: chardet<4,>=3.0.2 in c:\\users\\april\\anaconda3\\lib\\site-packages (from requests[socks]>=2.11.1->tweepy) (3.0.4)\n",
      "Requirement already satisfied: urllib3!=1.25.0,!=1.25.1,<1.26,>=1.21.1 in c:\\users\\april\\anaconda3\\lib\\site-packages (from requests[socks]>=2.11.1->tweepy) (1.25.9)\n",
      "Requirement already satisfied: PySocks!=1.5.7,>=1.5.6; extra == \"socks\" in c:\\users\\april\\anaconda3\\lib\\site-packages (from requests[socks]>=2.11.1->tweepy) (1.7.1)\n",
      "Installing collected packages: oauthlib, requests-oauthlib, tweepy\n",
      "Successfully installed oauthlib-3.1.0 requests-oauthlib-1.3.0 tweepy-3.9.0\n"
     ]
    }
   ],
   "source": [
    "import sys\n",
    "!{sys.executable} -m pip install tweepy\n",
    "import tweepy"
   ]
  },
  {
   "cell_type": "code",
   "execution_count": 9,
   "metadata": {},
   "outputs": [],
   "source": [
    "import json\n",
    "import tweepy\n",
    "import pandas as pd"
   ]
  },
  {
   "cell_type": "code",
   "execution_count": 25,
   "metadata": {},
   "outputs": [],
   "source": [
    "# create a json file and save all the credential information into this file\n",
    "\"\"\"import json\n",
    "cred = {}\n",
    "cred[\"api_key\"] = API_KEY\n",
    "cred[\"api_secret\"] = API_SECRET\n",
    "cred[\"access_token\"] = ACCESS_TOKEN\n",
    "cred[\"access_token_secret\"] = ACCESS_TOKEN_SECRET\n",
    "# creat a outfile object\n",
    "with open(\"twitter_credentials.json\", \"w\") as outfile:\n",
    "    json.dump(cred, outfile)\"\"\""
   ]
  },
  {
   "cell_type": "code",
   "execution_count": 31,
   "metadata": {},
   "outputs": [
    {
     "name": "stdout",
     "output_type": "stream",
     "text": [
      "{'api_key': 'h5oqcLmsNoIg1uYkzH9Ek0q4S', 'api_secret': 'ynkeSAxxziBNtGnfNCsBXvTa6L3d8Q4mXB1a962QCFIcqPovnU', 'access_token': '1313447553078308864-9fB26hZYaqQvSMNtNLR3HmKctZOsDt', 'access_token_secret': 'cGFhMMviwSxvRFZrg1gRr7y5pTswKhYwmvg6NeIpfIyU9'}\n"
     ]
    }
   ],
   "source": [
    "# change to json file if we only use credentials =infile.read() , it is only text file\n",
    "with open(\"twitter_credentials.json\", \"r\") as infile:\n",
    "    credentials =json.loads(infile.read())\n",
    "print(credentials)"
   ]
  },
  {
   "cell_type": "code",
   "execution_count": 32,
   "metadata": {},
   "outputs": [],
   "source": [
    "auth = tweepy.OAuthHandler(API_KEY, API_SECRET)\n",
    "auth.set_access_token(ACCESS_TOKEN, ACCESS_TOKEN_SECRET)\n",
    "api = tweepy.API(auth)"
   ]
  },
  {
   "cell_type": "code",
   "execution_count": 33,
   "metadata": {
    "collapsed": true
   },
   "outputs": [
    {
     "data": {
      "text/plain": [
       "User(_api=<tweepy.api.API object at 0x0000018566CFA640>, _json={'id': 1313447553078308864, 'id_str': '1313447553078308864', 'name': 'nannan', 'screen_name': 'nannan09787105', 'location': '', 'profile_location': None, 'description': '', 'url': None, 'entities': {'description': {'urls': []}}, 'protected': False, 'followers_count': 0, 'friends_count': 0, 'listed_count': 0, 'created_at': 'Tue Oct 06 11:56:06 +0000 2020', 'favourites_count': 0, 'utc_offset': None, 'time_zone': None, 'geo_enabled': False, 'verified': False, 'statuses_count': 0, 'lang': None, 'contributors_enabled': False, 'is_translator': False, 'is_translation_enabled': False, 'profile_background_color': 'F5F8FA', 'profile_background_image_url': None, 'profile_background_image_url_https': None, 'profile_background_tile': False, 'profile_image_url': 'http://abs.twimg.com/sticky/default_profile_images/default_profile_normal.png', 'profile_image_url_https': 'https://abs.twimg.com/sticky/default_profile_images/default_profile_normal.png', 'profile_link_color': '1DA1F2', 'profile_sidebar_border_color': 'C0DEED', 'profile_sidebar_fill_color': 'DDEEF6', 'profile_text_color': '333333', 'profile_use_background_image': True, 'has_extended_profile': True, 'default_profile': True, 'default_profile_image': True, 'following': False, 'follow_request_sent': False, 'notifications': False, 'translator_type': 'none', 'suspended': False, 'needs_phone_verification': False}, id=1313447553078308864, id_str='1313447553078308864', name='nannan', screen_name='nannan09787105', location='', profile_location=None, description='', url=None, entities={'description': {'urls': []}}, protected=False, followers_count=0, friends_count=0, listed_count=0, created_at=datetime.datetime(2020, 10, 6, 11, 56, 6), favourites_count=0, utc_offset=None, time_zone=None, geo_enabled=False, verified=False, statuses_count=0, lang=None, contributors_enabled=False, is_translator=False, is_translation_enabled=False, profile_background_color='F5F8FA', profile_background_image_url=None, profile_background_image_url_https=None, profile_background_tile=False, profile_image_url='http://abs.twimg.com/sticky/default_profile_images/default_profile_normal.png', profile_image_url_https='https://abs.twimg.com/sticky/default_profile_images/default_profile_normal.png', profile_link_color='1DA1F2', profile_sidebar_border_color='C0DEED', profile_sidebar_fill_color='DDEEF6', profile_text_color='333333', profile_use_background_image=True, has_extended_profile=True, default_profile=True, default_profile_image=True, following=False, follow_request_sent=False, notifications=False, translator_type='none', suspended=False, needs_phone_verification=False)"
      ]
     },
     "execution_count": 33,
     "metadata": {},
     "output_type": "execute_result"
    }
   ],
   "source": [
    "api.me()"
   ]
  },
  {
   "cell_type": "code",
   "execution_count": 15,
   "metadata": {
    "scrolled": true
   },
   "outputs": [
    {
     "data": {
      "text/html": [
       "<div>\n",
       "<style scoped>\n",
       "    .dataframe tbody tr th:only-of-type {\n",
       "        vertical-align: middle;\n",
       "    }\n",
       "\n",
       "    .dataframe tbody tr th {\n",
       "        vertical-align: top;\n",
       "    }\n",
       "\n",
       "    .dataframe thead th {\n",
       "        text-align: right;\n",
       "    }\n",
       "</style>\n",
       "<table border=\"1\" class=\"dataframe\">\n",
       "  <thead>\n",
       "    <tr style=\"text-align: right;\">\n",
       "      <th></th>\n",
       "      <th>name</th>\n",
       "      <th>url</th>\n",
       "      <th>parentid</th>\n",
       "      <th>country</th>\n",
       "      <th>woeid</th>\n",
       "      <th>countryCode</th>\n",
       "      <th>placeType.code</th>\n",
       "      <th>placeType.name</th>\n",
       "    </tr>\n",
       "  </thead>\n",
       "  <tbody>\n",
       "    <tr>\n",
       "      <th>0</th>\n",
       "      <td>Worldwide</td>\n",
       "      <td>http://where.yahooapis.com/v1/place/1</td>\n",
       "      <td>0</td>\n",
       "      <td></td>\n",
       "      <td>1</td>\n",
       "      <td>None</td>\n",
       "      <td>19</td>\n",
       "      <td>Supername</td>\n",
       "    </tr>\n",
       "    <tr>\n",
       "      <th>1</th>\n",
       "      <td>Winnipeg</td>\n",
       "      <td>http://where.yahooapis.com/v1/place/2972</td>\n",
       "      <td>23424775</td>\n",
       "      <td>Canada</td>\n",
       "      <td>2972</td>\n",
       "      <td>CA</td>\n",
       "      <td>7</td>\n",
       "      <td>Town</td>\n",
       "    </tr>\n",
       "    <tr>\n",
       "      <th>2</th>\n",
       "      <td>Ottawa</td>\n",
       "      <td>http://where.yahooapis.com/v1/place/3369</td>\n",
       "      <td>23424775</td>\n",
       "      <td>Canada</td>\n",
       "      <td>3369</td>\n",
       "      <td>CA</td>\n",
       "      <td>7</td>\n",
       "      <td>Town</td>\n",
       "    </tr>\n",
       "    <tr>\n",
       "      <th>3</th>\n",
       "      <td>Quebec</td>\n",
       "      <td>http://where.yahooapis.com/v1/place/3444</td>\n",
       "      <td>23424775</td>\n",
       "      <td>Canada</td>\n",
       "      <td>3444</td>\n",
       "      <td>CA</td>\n",
       "      <td>7</td>\n",
       "      <td>Town</td>\n",
       "    </tr>\n",
       "    <tr>\n",
       "      <th>4</th>\n",
       "      <td>Montreal</td>\n",
       "      <td>http://where.yahooapis.com/v1/place/3534</td>\n",
       "      <td>23424775</td>\n",
       "      <td>Canada</td>\n",
       "      <td>3534</td>\n",
       "      <td>CA</td>\n",
       "      <td>7</td>\n",
       "      <td>Town</td>\n",
       "    </tr>\n",
       "    <tr>\n",
       "      <th>...</th>\n",
       "      <td>...</td>\n",
       "      <td>...</td>\n",
       "      <td>...</td>\n",
       "      <td>...</td>\n",
       "      <td>...</td>\n",
       "      <td>...</td>\n",
       "      <td>...</td>\n",
       "      <td>...</td>\n",
       "    </tr>\n",
       "    <tr>\n",
       "      <th>462</th>\n",
       "      <td>Vietnam</td>\n",
       "      <td>http://where.yahooapis.com/v1/place/23424984</td>\n",
       "      <td>1</td>\n",
       "      <td>Vietnam</td>\n",
       "      <td>23424984</td>\n",
       "      <td>VN</td>\n",
       "      <td>12</td>\n",
       "      <td>Country</td>\n",
       "    </tr>\n",
       "    <tr>\n",
       "      <th>463</th>\n",
       "      <td>Petaling</td>\n",
       "      <td>http://where.yahooapis.com/v1/place/56013632</td>\n",
       "      <td>23424901</td>\n",
       "      <td>Malaysia</td>\n",
       "      <td>56013632</td>\n",
       "      <td>MY</td>\n",
       "      <td>7</td>\n",
       "      <td>Town</td>\n",
       "    </tr>\n",
       "    <tr>\n",
       "      <th>464</th>\n",
       "      <td>Hulu Langat</td>\n",
       "      <td>http://where.yahooapis.com/v1/place/56013645</td>\n",
       "      <td>23424901</td>\n",
       "      <td>Malaysia</td>\n",
       "      <td>56013645</td>\n",
       "      <td>MY</td>\n",
       "      <td>7</td>\n",
       "      <td>Town</td>\n",
       "    </tr>\n",
       "    <tr>\n",
       "      <th>465</th>\n",
       "      <td>Ahsa</td>\n",
       "      <td>http://where.yahooapis.com/v1/place/56120136</td>\n",
       "      <td>23424938</td>\n",
       "      <td>Saudi Arabia</td>\n",
       "      <td>56120136</td>\n",
       "      <td>SA</td>\n",
       "      <td>9</td>\n",
       "      <td>Unknown</td>\n",
       "    </tr>\n",
       "    <tr>\n",
       "      <th>466</th>\n",
       "      <td>Okayama</td>\n",
       "      <td>http://where.yahooapis.com/v1/place/90036018</td>\n",
       "      <td>23424856</td>\n",
       "      <td>Japan</td>\n",
       "      <td>90036018</td>\n",
       "      <td>JP</td>\n",
       "      <td>7</td>\n",
       "      <td>Town</td>\n",
       "    </tr>\n",
       "  </tbody>\n",
       "</table>\n",
       "<p>467 rows × 8 columns</p>\n",
       "</div>"
      ],
      "text/plain": [
       "            name                                           url  parentid  \\\n",
       "0      Worldwide         http://where.yahooapis.com/v1/place/1         0   \n",
       "1       Winnipeg      http://where.yahooapis.com/v1/place/2972  23424775   \n",
       "2         Ottawa      http://where.yahooapis.com/v1/place/3369  23424775   \n",
       "3         Quebec      http://where.yahooapis.com/v1/place/3444  23424775   \n",
       "4       Montreal      http://where.yahooapis.com/v1/place/3534  23424775   \n",
       "..           ...                                           ...       ...   \n",
       "462      Vietnam  http://where.yahooapis.com/v1/place/23424984         1   \n",
       "463     Petaling  http://where.yahooapis.com/v1/place/56013632  23424901   \n",
       "464  Hulu Langat  http://where.yahooapis.com/v1/place/56013645  23424901   \n",
       "465         Ahsa  http://where.yahooapis.com/v1/place/56120136  23424938   \n",
       "466      Okayama  http://where.yahooapis.com/v1/place/90036018  23424856   \n",
       "\n",
       "          country     woeid countryCode  placeType.code placeType.name  \n",
       "0                         1        None              19      Supername  \n",
       "1          Canada      2972          CA               7           Town  \n",
       "2          Canada      3369          CA               7           Town  \n",
       "3          Canada      3444          CA               7           Town  \n",
       "4          Canada      3534          CA               7           Town  \n",
       "..            ...       ...         ...             ...            ...  \n",
       "462       Vietnam  23424984          VN              12        Country  \n",
       "463      Malaysia  56013632          MY               7           Town  \n",
       "464      Malaysia  56013645          MY               7           Town  \n",
       "465  Saudi Arabia  56120136          SA               9        Unknown  \n",
       "466         Japan  90036018          JP               7           Town  \n",
       "\n",
       "[467 rows x 8 columns]"
      ]
     },
     "execution_count": 15,
     "metadata": {},
     "output_type": "execute_result"
    }
   ],
   "source": [
    "trends = pd.json_normalize(api.trends_available())\n",
    "trends"
   ]
  },
  {
   "cell_type": "code",
   "execution_count": 17,
   "metadata": {
    "scrolled": true
   },
   "outputs": [
    {
     "name": "stdout",
     "output_type": "stream",
     "text": [
      "[{'trends': [{'name': '#WorldMentalHealthDay', 'url': 'http://twitter.com/search?q=%23WorldMentalHealthDay', 'promoted_content': None, 'query': '%23WorldMentalHealthDay', 'tweet_volume': 211266}, {'name': '#welthundetag', 'url': 'http://twitter.com/search?q=%23welthundetag', 'promoted_content': None, 'query': '%23welthundetag', 'tweet_volume': None}, {'name': '#MapOfTheSoulOne', 'url': 'http://twitter.com/search?q=%23MapOfTheSoulOne', 'promoted_content': None, 'query': '%23MapOfTheSoulOne', 'tweet_volume': 270086}, {'name': '#Drecksloch', 'url': 'http://twitter.com/search?q=%23Drecksloch', 'promoted_content': None, 'query': '%23Drecksloch', 'tweet_volume': None}, {'name': 'Schönen Samstag', 'url': 'http://twitter.com/search?q=%22Sch%C3%B6nen+Samstag%22', 'promoted_content': None, 'query': '%22Sch%C3%B6nen+Samstag%22', 'tweet_volume': None}, {'name': '#FNCWIN', 'url': 'http://twitter.com/search?q=%23FNCWIN', 'promoted_content': None, 'query': '%23FNCWIN', 'tweet_volume': None}, {'name': '#liebig34lebt', 'url': 'http://twitter.com/search?q=%23liebig34lebt', 'promoted_content': None, 'query': '%23liebig34lebt', 'tweet_volume': None}, {'name': '#FlattenTheCurve', 'url': 'http://twitter.com/search?q=%23FlattenTheCurve', 'promoted_content': None, 'query': '%23FlattenTheCurve', 'tweet_volume': None}, {'name': '#COVID__19', 'url': 'http://twitter.com/search?q=%23COVID__19', 'promoted_content': None, 'query': '%23COVID__19', 'tweet_volume': 64521}, {'name': '#EndSARS', 'url': 'http://twitter.com/search?q=%23EndSARS', 'promoted_content': None, 'query': '%23EndSARS', 'tweet_volume': 2192554}], 'as_of': '2020-10-10T09:15:58Z', 'created_at': '2020-10-08T23:21:00Z', 'locations': [{'name': 'Berlin', 'woeid': 638242}]}]\n"
     ]
    }
   ],
   "source": [
    "trends_berlin = api.trends_place(638242)\n",
    "print(trends_berlin)"
   ]
  },
  {
   "cell_type": "code",
   "execution_count": 23,
   "metadata": {
    "scrolled": true
   },
   "outputs": [
    {
     "data": {
      "text/plain": [
       "['#WorldMentalHealthDay',\n",
       " '#welthundetag',\n",
       " '#MapOfTheSoulOne',\n",
       " '#Drecksloch',\n",
       " 'Schönen Samstag']"
      ]
     },
     "execution_count": 23,
     "metadata": {},
     "output_type": "execute_result"
    }
   ],
   "source": [
    "hashtag = [trends_berlin[0][\"trends\"][i][\"name\"] for i in range(5)]\n",
    "hashtag"
   ]
  },
  {
   "cell_type": "code",
   "execution_count": null,
   "metadata": {},
   "outputs": [],
   "source": [
    "json.dump(trends_berlin[0])"
   ]
  }
 ],
 "metadata": {
  "kernelspec": {
   "display_name": "Python 3",
   "language": "python",
   "name": "python3"
  },
  "language_info": {
   "codemirror_mode": {
    "name": "ipython",
    "version": 3
   },
   "file_extension": ".py",
   "mimetype": "text/x-python",
   "name": "python",
   "nbconvert_exporter": "python",
   "pygments_lexer": "ipython3",
   "version": "3.8.3"
  }
 },
 "nbformat": 4,
 "nbformat_minor": 4
}
