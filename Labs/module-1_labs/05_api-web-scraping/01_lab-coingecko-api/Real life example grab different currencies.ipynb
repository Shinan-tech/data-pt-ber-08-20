{
 "cells": [
  {
   "cell_type": "markdown",
   "metadata": {},
   "source": [
    "It’s a .py file (you can still open it in a jupyter notebook) and everything is in functions. So just call main() to trigger the script and it should start saving the data into a .csv file. To stop it just press stop on the jupyter notebook kernel (it was meant to be run from the command line, thus the control+C )"
   ]
  },
  {
   "cell_type": "markdown",
   "metadata": {},
   "source": [
    "https://exchangeratesapi.io/"
   ]
  },
  {
   "cell_type": "code",
   "execution_count": null,
   "metadata": {},
   "outputs": [],
   "source": [
    "import pandas as pd\n",
    "from datetime import datetime\n",
    "import requests\n",
    "from apscheduler.schedulers.blocking import BlockingScheduler\n",
    "from os import path\n",
    "\n",
    "def df_empty():\n",
    "    \"\"\" Creates an empty data frame with column headers (currencies) and saves it to a csv file.\n",
    "    \"\"\"\n",
    "    \n",
    "    empty_df = pd.DataFrame(columns=['AUD', 'BGN', 'BRL', 'CAD', 'CHF', 'CNY', 'CZK', 'DKK', 'EUR', 'GBP',\n",
    "                                     'HKD', 'HRK', 'HUF', 'IDR', 'ILS', 'INR', 'ISK', 'JPY', 'KRW', 'MXN',\n",
    "                                     'MYR', 'NOK', 'NZD', 'PHP', 'PLN', 'RON', 'RUB', 'SEK', 'SGD', 'THB',\n",
    "                                     'TRY', 'USD', 'ZAR'])\n",
    "    empty_df.to_csv('conversion_rates_hourly.csv')\n",
    "\n",
    "def get_time():\n",
    "    \"\"\" Gets current time.\n",
    "    :return: [str] timestamp.\n",
    "    \"\"\"\n",
    "    \n",
    "    now = datetime.now()\n",
    "    return now.strftime(\"%d/%m/%Y %H:%M:%S\")\n",
    "\n",
    "def get_last_rates():\n",
    "    \"\"\" Fetches currency rates (USD based) from the API.\n",
    "    This is saved as a row in a data frame, with a timestamp as index.\n",
    "    Data frame is then appended to a csv file.\n",
    "    \"\"\"\n",
    "\n",
    "    url = 'https://api.exchangeratesapi.io/latest?base=USD'\n",
    "    response = requests.get(url)\n",
    "    df = pd.DataFrame(response.json())\n",
    "    df_drop = df.drop(columns=['base', 'date'])\n",
    "    df_renamed = df_drop.rename(columns={'rates': get_time()})\n",
    "    df_t = df_renamed.T\n",
    "    df_t.to_csv('conversion_rates_hourly.csv', mode='a', header=False)\n",
    "    print(f'Rates are being fetched. Last rates fetched at {get_time()}. Press Ctrl+C to stop.')\n",
    "\n",
    "def main():\n",
    "    scheduler = BlockingScheduler()\n",
    "    # scheduler.add_job(get_last_rates, 'cron', hour='*')\n",
    "    scheduler.add_job(get_last_rates, 'interval', seconds=5)  # the above commented line fetches rates hourly\n",
    "    scheduler.start()\n",
    "\n",
    "if __name__ == '__main__':\n",
    "    if not path.exists('conversion_rates_hourly.csv'):\n",
    "        df_empty()\n",
    "        main()\n",
    "    else:\n",
    "        main()"
   ]
  }
 ],
 "metadata": {
  "kernelspec": {
   "display_name": "Python 3",
   "language": "python",
   "name": "python3"
  },
  "language_info": {
   "codemirror_mode": {
    "name": "ipython",
    "version": 3
   },
   "file_extension": ".py",
   "mimetype": "text/x-python",
   "name": "python",
   "nbconvert_exporter": "python",
   "pygments_lexer": "ipython3",
   "version": "3.8.3"
  }
 },
 "nbformat": 4,
 "nbformat_minor": 4
}
