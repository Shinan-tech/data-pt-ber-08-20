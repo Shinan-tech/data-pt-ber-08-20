{
 "cells": [
  {
   "cell_type": "markdown",
   "metadata": {},
   "source": [
    "##  Imports"
   ]
  },
  {
   "cell_type": "code",
   "execution_count": 1,
   "metadata": {},
   "outputs": [],
   "source": [
    "import pandas as pd\n",
    "import requests\n",
    "import json\n",
    "import matplotlib\n",
    "%matplotlib inline"
   ]
  },
  {
   "cell_type": "markdown",
   "metadata": {},
   "source": [
    "### Challenge 1: \n",
    "\n",
    "Get the Bitcoin market value vs USD for last 30 days. For your results, you would like to deliver them both as a DataFrame and then create an appropriate plot.\n",
    "\n",
    "Hint: start by creating a base_url for the Coingecko API, and then adding the parameters you want by looking at the documentation, which you can find here: https://www.coingecko.com/api/documentations/v3#\n",
    "\n",
    "Specifically in this example, we are looking at: https://www.coingecko.com/api/documentations/v3#/coins/get_coins__id__market_chart\n",
    "\n",
    "You want a coin (Bitcoin), vs USD, timeframe of 30 days.\n",
    "\n",
    "For creating the DataFrame, you can print out all of the keys of your resulting json file, to see which ones you would like to extract as columns! The timestamp for these dataseries is in milliseconds - you can convert it to a convenient format using pd.to_datetime (look into how you can specify the unit here!)"
   ]
  },
  {
   "cell_type": "code",
   "execution_count": 39,
   "metadata": {},
   "outputs": [
    {
     "name": "stdout",
     "output_type": "stream",
     "text": [
      "dict_keys(['prices', 'market_caps', 'total_volumes'])\n"
     ]
    },
    {
     "data": {
      "text/html": [
       "<div>\n",
       "<style scoped>\n",
       "    .dataframe tbody tr th:only-of-type {\n",
       "        vertical-align: middle;\n",
       "    }\n",
       "\n",
       "    .dataframe tbody tr th {\n",
       "        vertical-align: top;\n",
       "    }\n",
       "\n",
       "    .dataframe thead th {\n",
       "        text-align: right;\n",
       "    }\n",
       "</style>\n",
       "<table border=\"1\" class=\"dataframe\">\n",
       "  <thead>\n",
       "    <tr style=\"text-align: right;\">\n",
       "      <th></th>\n",
       "      <th>0</th>\n",
       "      <th>1</th>\n",
       "    </tr>\n",
       "  </thead>\n",
       "  <tbody>\n",
       "    <tr>\n",
       "      <th>0</th>\n",
       "      <td>1599591889351</td>\n",
       "      <td>1.845693e+11</td>\n",
       "    </tr>\n",
       "    <tr>\n",
       "      <th>1</th>\n",
       "      <td>1599595752369</td>\n",
       "      <td>1.848802e+11</td>\n",
       "    </tr>\n",
       "    <tr>\n",
       "      <th>2</th>\n",
       "      <td>1599599220045</td>\n",
       "      <td>1.853500e+11</td>\n",
       "    </tr>\n",
       "    <tr>\n",
       "      <th>3</th>\n",
       "      <td>1599602533874</td>\n",
       "      <td>1.848613e+11</td>\n",
       "    </tr>\n",
       "    <tr>\n",
       "      <th>4</th>\n",
       "      <td>1599606258405</td>\n",
       "      <td>1.859120e+11</td>\n",
       "    </tr>\n",
       "    <tr>\n",
       "      <th>...</th>\n",
       "      <td>...</td>\n",
       "      <td>...</td>\n",
       "    </tr>\n",
       "    <tr>\n",
       "      <th>716</th>\n",
       "      <td>1602169732776</td>\n",
       "      <td>2.018795e+11</td>\n",
       "    </tr>\n",
       "    <tr>\n",
       "      <th>717</th>\n",
       "      <td>1602173379632</td>\n",
       "      <td>2.016888e+11</td>\n",
       "    </tr>\n",
       "    <tr>\n",
       "      <th>718</th>\n",
       "      <td>1602176521391</td>\n",
       "      <td>2.018321e+11</td>\n",
       "    </tr>\n",
       "    <tr>\n",
       "      <th>719</th>\n",
       "      <td>1602180283163</td>\n",
       "      <td>2.013345e+11</td>\n",
       "    </tr>\n",
       "    <tr>\n",
       "      <th>720</th>\n",
       "      <td>1602183200000</td>\n",
       "      <td>2.014072e+11</td>\n",
       "    </tr>\n",
       "  </tbody>\n",
       "</table>\n",
       "<p>721 rows × 2 columns</p>\n",
       "</div>"
      ],
      "text/plain": [
       "                 0             1\n",
       "0    1599591889351  1.845693e+11\n",
       "1    1599595752369  1.848802e+11\n",
       "2    1599599220045  1.853500e+11\n",
       "3    1599602533874  1.848613e+11\n",
       "4    1599606258405  1.859120e+11\n",
       "..             ...           ...\n",
       "716  1602169732776  2.018795e+11\n",
       "717  1602173379632  2.016888e+11\n",
       "718  1602176521391  2.018321e+11\n",
       "719  1602180283163  2.013345e+11\n",
       "720  1602183200000  2.014072e+11\n",
       "\n",
       "[721 rows x 2 columns]"
      ]
     },
     "execution_count": 39,
     "metadata": {},
     "output_type": "execute_result"
    }
   ],
   "source": [
    "# Your code here:\n",
    "base = 'https://api.coingecko.com/api/v3/'\n",
    "url = base + 'coins/bitcoin/market_chart'\n",
    "param_dict = {'id':'bitcoin', 'vs_currency':'usd', 'days':30}\n",
    "\n",
    "response = requests.get(url, params=param_dict)\n",
    "results = response.json()\n",
    "\n",
    "\n",
    "print(results.keys())\n",
    "\n",
    "# now create a dataframe and a plot!\n",
    "# pd.json_normalize(results[\"prices\"])\n",
    "\n",
    "df_prices = pd.DataFrame(results[\"prices\"])\n",
    "time_stamp = pd.to_datetime(df_prices[0], unit=\"ms\")\n",
    "df_market_caps = pd.DataFrame(results[\"market_caps\"])\n",
    "df_totalvolumns = pd.DataFrame(results[\"total_volumes\"])\n",
    "\n",
    "df_market_caps\n"
   ]
  },
  {
   "cell_type": "code",
   "execution_count": 48,
   "metadata": {},
   "outputs": [
    {
     "data": {
      "text/html": [
       "<div>\n",
       "<style scoped>\n",
       "    .dataframe tbody tr th:only-of-type {\n",
       "        vertical-align: middle;\n",
       "    }\n",
       "\n",
       "    .dataframe tbody tr th {\n",
       "        vertical-align: top;\n",
       "    }\n",
       "\n",
       "    .dataframe thead th {\n",
       "        text-align: right;\n",
       "    }\n",
       "</style>\n",
       "<table border=\"1\" class=\"dataframe\">\n",
       "  <thead>\n",
       "    <tr style=\"text-align: right;\">\n",
       "      <th></th>\n",
       "      <th>timestamp</th>\n",
       "      <th>prices</th>\n",
       "      <th>market_caps</th>\n",
       "      <th>total_volumes</th>\n",
       "    </tr>\n",
       "  </thead>\n",
       "  <tbody>\n",
       "    <tr>\n",
       "      <th>0</th>\n",
       "      <td>2020-09-08 19:04:49.351</td>\n",
       "      <td>9978.866934</td>\n",
       "      <td>1.845693e+11</td>\n",
       "      <td>4.595180e+10</td>\n",
       "    </tr>\n",
       "    <tr>\n",
       "      <th>1</th>\n",
       "      <td>2020-09-08 20:09:12.369</td>\n",
       "      <td>10035.487962</td>\n",
       "      <td>1.848802e+11</td>\n",
       "      <td>4.637075e+10</td>\n",
       "    </tr>\n",
       "    <tr>\n",
       "      <th>2</th>\n",
       "      <td>2020-09-08 21:07:00.045</td>\n",
       "      <td>10004.316334</td>\n",
       "      <td>1.853500e+11</td>\n",
       "      <td>4.634483e+10</td>\n",
       "    </tr>\n",
       "    <tr>\n",
       "      <th>3</th>\n",
       "      <td>2020-09-08 22:02:13.874</td>\n",
       "      <td>10035.279584</td>\n",
       "      <td>1.848613e+11</td>\n",
       "      <td>4.665163e+10</td>\n",
       "    </tr>\n",
       "    <tr>\n",
       "      <th>4</th>\n",
       "      <td>2020-09-08 23:04:18.405</td>\n",
       "      <td>10113.466232</td>\n",
       "      <td>1.859120e+11</td>\n",
       "      <td>4.771341e+10</td>\n",
       "    </tr>\n",
       "    <tr>\n",
       "      <th>...</th>\n",
       "      <td>...</td>\n",
       "      <td>...</td>\n",
       "      <td>...</td>\n",
       "      <td>...</td>\n",
       "    </tr>\n",
       "    <tr>\n",
       "      <th>716</th>\n",
       "      <td>2020-10-08 15:08:52.776</td>\n",
       "      <td>10914.223466</td>\n",
       "      <td>2.018795e+11</td>\n",
       "      <td>1.945535e+10</td>\n",
       "    </tr>\n",
       "    <tr>\n",
       "      <th>717</th>\n",
       "      <td>2020-10-08 16:09:39.632</td>\n",
       "      <td>10905.082526</td>\n",
       "      <td>2.016888e+11</td>\n",
       "      <td>1.957902e+10</td>\n",
       "    </tr>\n",
       "    <tr>\n",
       "      <th>718</th>\n",
       "      <td>2020-10-08 17:02:01.391</td>\n",
       "      <td>10923.247265</td>\n",
       "      <td>2.018321e+11</td>\n",
       "      <td>1.984468e+10</td>\n",
       "    </tr>\n",
       "    <tr>\n",
       "      <th>719</th>\n",
       "      <td>2020-10-08 18:04:43.163</td>\n",
       "      <td>10876.165447</td>\n",
       "      <td>2.013345e+11</td>\n",
       "      <td>1.998146e+10</td>\n",
       "    </tr>\n",
       "    <tr>\n",
       "      <th>720</th>\n",
       "      <td>2020-10-08 18:53:20.000</td>\n",
       "      <td>10877.605143</td>\n",
       "      <td>2.014072e+11</td>\n",
       "      <td>1.985976e+10</td>\n",
       "    </tr>\n",
       "  </tbody>\n",
       "</table>\n",
       "<p>721 rows × 4 columns</p>\n",
       "</div>"
      ],
      "text/plain": [
       "                  timestamp        prices   market_caps  total_volumes\n",
       "0   2020-09-08 19:04:49.351   9978.866934  1.845693e+11   4.595180e+10\n",
       "1   2020-09-08 20:09:12.369  10035.487962  1.848802e+11   4.637075e+10\n",
       "2   2020-09-08 21:07:00.045  10004.316334  1.853500e+11   4.634483e+10\n",
       "3   2020-09-08 22:02:13.874  10035.279584  1.848613e+11   4.665163e+10\n",
       "4   2020-09-08 23:04:18.405  10113.466232  1.859120e+11   4.771341e+10\n",
       "..                      ...           ...           ...            ...\n",
       "716 2020-10-08 15:08:52.776  10914.223466  2.018795e+11   1.945535e+10\n",
       "717 2020-10-08 16:09:39.632  10905.082526  2.016888e+11   1.957902e+10\n",
       "718 2020-10-08 17:02:01.391  10923.247265  2.018321e+11   1.984468e+10\n",
       "719 2020-10-08 18:04:43.163  10876.165447  2.013345e+11   1.998146e+10\n",
       "720 2020-10-08 18:53:20.000  10877.605143  2.014072e+11   1.985976e+10\n",
       "\n",
       "[721 rows x 4 columns]"
      ]
     },
     "execution_count": 48,
     "metadata": {},
     "output_type": "execute_result"
    }
   ],
   "source": [
    "colnames = [\"timestamp\", \"prices\", \"market_caps\", \"total_volumes\" ]\n",
    "df = pd.concat([time_stamp, df_prices[1], df_market_caps[1], df_totalvolumns[1]], axis=1)\n",
    "df.columns = colnames\n",
    "df"
   ]
  },
  {
   "cell_type": "markdown",
   "metadata": {},
   "source": [
    "### Challenge 2: \n",
    "\n",
    "Get the Litecoin market value vs USD for last 30 days. For your results, you would like to deliver them both as a DataFrame and then create an appropriate plot.\n"
   ]
  },
  {
   "cell_type": "code",
   "execution_count": 45,
   "metadata": {},
   "outputs": [
    {
     "name": "stdout",
     "output_type": "stream",
     "text": [
      "dict_keys(['prices', 'market_caps', 'total_volumes'])\n"
     ]
    }
   ],
   "source": [
    "# Your code here:\n",
    "base = 'https://api.coingecko.com/api/v3/'\n",
    "url = base + 'coins/litecoin/market_chart'\n",
    "param_dict = {'id':'litecoin', 'vs_currency':'usd', 'days':30}\n",
    "\n",
    "response = requests.get(url, params=param_dict)\n",
    "results = response.json()\n",
    "\n",
    "\n",
    "print(results.keys())"
   ]
  },
  {
   "cell_type": "markdown",
   "metadata": {},
   "source": [
    "### Challenge 3: \n",
    "\n",
    "Get historical data for Bitcoin on January 1st, 2020. As a result, you would like to have a Dataframe which contains all of the currencies against which the price is expressed in one column, and the current price (at that date) in a second column.\n",
    "\n",
    "Hint: you might receive an error message saying \"If using all scalar values, you must pass an index\". Google it! :)\n"
   ]
  },
  {
   "cell_type": "code",
   "execution_count": 52,
   "metadata": {},
   "outputs": [
    {
     "name": "stdout",
     "output_type": "stream",
     "text": [
      "['btc', 'eth', 'ltc', 'bch', 'bnb', 'eos', 'xrp', 'xlm', 'link', 'dot', 'yfi', 'usd', 'aed', 'ars', 'aud', 'bdt', 'bhd', 'bmd', 'brl', 'cad', 'chf', 'clp', 'cny', 'czk', 'dkk', 'eur', 'gbp', 'hkd', 'huf', 'idr', 'ils', 'inr', 'jpy', 'krw', 'kwd', 'lkr', 'mmk', 'mxn', 'myr', 'nok', 'nzd', 'php', 'pkr', 'pln', 'rub', 'sar', 'sek', 'sgd', 'thb', 'try', 'twd', 'uah', 'vef', 'vnd', 'zar', 'xdr', 'xag', 'xau']\n"
     ]
    }
   ],
   "source": [
    "# Your code here:\n",
    "base = 'https://api.coingecko.com/api/v3/'\n",
    "url = base + '/simple/supported_vs_currencies'\n",
    "results = requests.get(url).json()\n",
    "\n",
    "# param_dict = {'id':'bitcoin', 'vs_currency':'usd', 'days':30}\n",
    "\n",
    "# response = requests.get(url, params=param_dict)\n",
    "# results = response.json()\n",
    "\n",
    "\n",
    "print(results)\n",
    "\n"
   ]
  },
  {
   "cell_type": "markdown",
   "metadata": {},
   "source": [
    "### Challenge 4: \n",
    "\n",
    "Get the ids of all of the coins listed on Coingecko. Extract the bottom ten IDs in a Dataframe."
   ]
  },
  {
   "cell_type": "code",
   "execution_count": 82,
   "metadata": {},
   "outputs": [],
   "source": [
    "# Your code here:\n",
    "    "
   ]
  },
  {
   "cell_type": "markdown",
   "metadata": {},
   "source": [
    "### Bonus Challenge: \n",
    "\n",
    "Write a loop that goes through the 10 coins you retrieved in challenge 3, and for each of them collects the market values against USD for the last 30 days. Then create a dataframe which has three columns: 'time', 'price' and 'coin' and combines the data of all these ten coins.\n",
    "\n",
    "If you're ambitious: create a plot with 10 subplots for all of the series!"
   ]
  },
  {
   "cell_type": "code",
   "execution_count": 83,
   "metadata": {},
   "outputs": [],
   "source": [
    "# Your code here:\n"
   ]
  }
 ],
 "metadata": {
  "kernelspec": {
   "display_name": "Python 3",
   "language": "python",
   "name": "python3"
  },
  "language_info": {
   "codemirror_mode": {
    "name": "ipython",
    "version": 3
   },
   "file_extension": ".py",
   "mimetype": "text/x-python",
   "name": "python",
   "nbconvert_exporter": "python",
   "pygments_lexer": "ipython3",
   "version": "3.8.3"
  }
 },
 "nbformat": 4,
 "nbformat_minor": 4
}
