{
 "cells": [
  {
   "cell_type": "code",
   "execution_count": 2,
   "metadata": {},
   "outputs": [],
   "source": [
    "import json\n",
    "import requests\n",
    "import pandas as pd"
   ]
  },
  {
   "cell_type": "markdown",
   "metadata": {},
   "source": [
    "### Challenge 1: Forks"
   ]
  },
  {
   "cell_type": "markdown",
   "metadata": {},
   "source": [
    "#### Obtain the full list of forks created from the main lab repo via the Github API.\n"
   ]
  },
  {
   "cell_type": "code",
   "execution_count": 31,
   "metadata": {},
   "outputs": [],
   "source": [
    "'''git ignor file\n",
    "import json\n",
    "cred = {}\n",
    "cred[\"user_name\"] = username\n",
    "cred[\"token\"] = token\n",
    "# creat a outfile object\n",
    "with open(\"github_credentials.json\", \"w\") as outfile:\n",
    "    json.dump(cred, outfile)'''"
   ]
  },
  {
   "cell_type": "code",
   "execution_count": 12,
   "metadata": {},
   "outputs": [],
   "source": [
    "# change to json file if we only use credentials =infile.read() , it is only text file\n",
    "with open(\"github_credentials.json\", \"r\") as infile:\n",
    "    credentials =json.loads(infile.read())\n"
   ]
  },
  {
   "cell_type": "code",
   "execution_count": 6,
   "metadata": {
    "collapsed": true
   },
   "outputs": [
    {
     "name": "stdout",
     "output_type": "stream",
     "text": [
      "Help on function get in module requests.api:\n",
      "\n",
      "get(url, params=None, **kwargs)\n",
      "    Sends a GET request.\n",
      "    \n",
      "    :param url: URL for the new :class:`Request` object.\n",
      "    :param params: (optional) Dictionary, list of tuples or bytes to send\n",
      "        in the query string for the :class:`Request`.\n",
      "    :param \\*\\*kwargs: Optional arguments that ``request`` takes.\n",
      "    :return: :class:`Response <Response>` object\n",
      "    :rtype: requests.Response\n",
      "\n"
     ]
    }
   ],
   "source": [
    "help(requests.get)"
   ]
  },
  {
   "cell_type": "code",
   "execution_count": 10,
   "metadata": {},
   "outputs": [
    {
     "ename": "NameError",
     "evalue": "name 'user_name' is not defined",
     "output_type": "error",
     "traceback": [
      "\u001b[1;31m---------------------------------------------------------------------------\u001b[0m",
      "\u001b[1;31mNameError\u001b[0m                                 Traceback (most recent call last)",
      "\u001b[1;32m<ipython-input-10-39a8aaa31b88>\u001b[0m in \u001b[0;36m<module>\u001b[1;34m\u001b[0m\n\u001b[0;32m      1\u001b[0m \u001b[1;31m# Retrieve a json file with information on all of the forks. You will need an \"auth\" argument here for authentication!\u001b[0m\u001b[1;33m\u001b[0m\u001b[1;33m\u001b[0m\u001b[1;33m\u001b[0m\u001b[0m\n\u001b[0;32m      2\u001b[0m \u001b[0murl\u001b[0m \u001b[1;33m=\u001b[0m \u001b[1;34m\"https://api.github.com/repos/ironhack-datalabs/data-pt-ber-08-20/forks\"\u001b[0m\u001b[1;33m\u001b[0m\u001b[1;33m\u001b[0m\u001b[0m\n\u001b[1;32m----> 3\u001b[1;33m \u001b[0mresponse\u001b[0m \u001b[1;33m=\u001b[0m \u001b[0mrequests\u001b[0m\u001b[1;33m.\u001b[0m\u001b[0mget\u001b[0m\u001b[1;33m(\u001b[0m\u001b[0murl\u001b[0m\u001b[1;33m,\u001b[0m \u001b[0mauth\u001b[0m \u001b[1;33m=\u001b[0m \u001b[1;33m(\u001b[0m\u001b[0muser_name\u001b[0m\u001b[1;33m,\u001b[0m \u001b[0mtoken\u001b[0m\u001b[1;33m)\u001b[0m\u001b[1;33m)\u001b[0m\u001b[1;33m\u001b[0m\u001b[1;33m\u001b[0m\u001b[0m\n\u001b[0m\u001b[0;32m      4\u001b[0m \u001b[0mresults\u001b[0m \u001b[1;33m=\u001b[0m \u001b[0mresponse\u001b[0m\u001b[1;33m.\u001b[0m\u001b[0mjson\u001b[0m\u001b[1;33m(\u001b[0m\u001b[1;33m)\u001b[0m\u001b[1;33m\u001b[0m\u001b[1;33m\u001b[0m\u001b[0m\n\u001b[0;32m      5\u001b[0m \u001b[0mforks\u001b[0m \u001b[1;33m=\u001b[0m \u001b[0mpd\u001b[0m\u001b[1;33m.\u001b[0m\u001b[0mjson_normalize\u001b[0m\u001b[1;33m(\u001b[0m\u001b[0mresults\u001b[0m\u001b[1;33m)\u001b[0m\u001b[1;33m\u001b[0m\u001b[1;33m\u001b[0m\u001b[0m\n",
      "\u001b[1;31mNameError\u001b[0m: name 'user_name' is not defined"
     ]
    }
   ],
   "source": [
    "# Retrieve a json file with information on all of the forks. You will need an \"auth\" argument here for authentication!\n",
    "url = \"https://api.github.com/repos/ironhack-datalabs/data-pt-ber-08-20/forks\"\n",
    "response = requests.get(url, auth = (user_name, token))\n",
    "results = response.json()\n",
    "forks = pd.json_normalize(results)\n",
    "df_forks = pd.DataFrame(forks)\n",
    "df_forks"
   ]
  },
  {
   "cell_type": "markdown",
   "metadata": {},
   "source": [
    "#### Extract a list of all the usernames of people who have forked this repo. "
   ]
  },
  {
   "cell_type": "code",
   "execution_count": 17,
   "metadata": {
    "scrolled": true
   },
   "outputs": [
    {
     "data": {
      "text/plain": [
       "0         Abdou-Man-24\n",
       "1              Seetank\n",
       "2         joao-dias-25\n",
       "3      filipamiralopes\n",
       "4         sholaayodele\n",
       "5           danielquer\n",
       "6     BehroozGharleghi\n",
       "7           Ayomi-tech\n",
       "8             Najla-Sh\n",
       "9          Shinan-tech\n",
       "10             ksaslow\n",
       "11             cabulut\n",
       "12       davidegonzale\n",
       "13        vikkieessien\n",
       "14           Benedkt93\n",
       "15        thomas-cares\n",
       "16       christinahans\n",
       "17           pepenunez\n",
       "Name: owner.login, dtype: object"
      ]
     },
     "execution_count": 17,
     "metadata": {},
     "output_type": "execute_result"
    }
   ],
   "source": [
    "# Your code:\n",
    "# print(df_forks.columns)\n",
    "df_forks[\"owner.login\"]"
   ]
  },
  {
   "cell_type": "markdown",
   "metadata": {},
   "source": [
    "### Challenge 2: Count Commits"
   ]
  },
  {
   "cell_type": "markdown",
   "metadata": {},
   "source": [
    "Obtain a dataframe which contains all of the commits made. From this dataframe, extract a list of all the commit messages. Also, count how many commits have been made."
   ]
  },
  {
   "cell_type": "code",
   "execution_count": 30,
   "metadata": {},
   "outputs": [
    {
     "name": "stdout",
     "output_type": "stream",
     "text": [
      "0                        api-scavenger-game - solutions\n",
      "1                              adding twitter-api class\n",
      "2                           adding error_messages class\n",
      "3                           solutions lab-coingecko-api\n",
      "4                                      adding api-class\n",
      "5                          solutions lab-advanced-regex\n",
      "6     Merge branch 'master' of https://github.com/ir...\n",
      "7                                             scavenger\n",
      "8     Merge branch 'master' of https://github.com/ir...\n",
      "9                                  class advanced regex\n",
      "10                                              project\n",
      "11                                        coingecko api\n",
      "12                           solutions lab-web-scraping\n",
      "13                            adding web-scraping-class\n",
      "14    Merge branch 'master' of https://github.com/ir...\n",
      "15                                     web scraping lab\n",
      "16                        solutions basics_plotting lab\n",
      "17                         adding plotting-basics-class\n",
      "18                                   basic plotting lab\n",
      "19                                        rem solutions\n",
      "20                          solutions lab-data_cleaning\n",
      "21       solutions ab-df-calculation-and-transformation\n",
      "22                   last exercise challenge 1 adjusted\n",
      "23    solutions lab data calculation-and-transformat...\n",
      "24                        data manipulation class added\n",
      "25                                    data cleaning lab\n",
      "26                               df transformations lab\n",
      "27    Merge branch 'master' of https://github.com/ir...\n",
      "28                               df transformations lab\n",
      "29                         solutions lab action queries\n",
      "Name: commit.message, dtype: object 30\n"
     ]
    },
    {
     "data": {
      "text/plain": [
       "30"
      ]
     },
     "execution_count": 30,
     "metadata": {},
     "output_type": "execute_result"
    }
   ],
   "source": [
    "# Your code:\n",
    "url = \"https://api.github.com/repos/ironhack-datalabs/data-pt-ber-08-20/commits\"\n",
    "response = requests.get(url, auth = (username, token))\n",
    "commits = pd.json_normalize(response.json())\n",
    "df_commits = pd.DataFrame(commits)\n",
    "#df_commits.columns\n",
    "print(df_commits[\"commit.message\"], df_commits[\"commit.message\"].count())\n",
    "df_commits[\"commit.message\"].count()\n"
   ]
  },
  {
   "cell_type": "markdown",
   "metadata": {},
   "source": [
    "#### Bonus Challenge: Obtain all of the commits that have been made in the past week (specify the date using a 'since' argument)."
   ]
  },
  {
   "cell_type": "code",
   "execution_count": 43,
   "metadata": {},
   "outputs": [
    {
     "data": {
      "text/html": [
       "<div>\n",
       "<style scoped>\n",
       "    .dataframe tbody tr th:only-of-type {\n",
       "        vertical-align: middle;\n",
       "    }\n",
       "\n",
       "    .dataframe tbody tr th {\n",
       "        vertical-align: top;\n",
       "    }\n",
       "\n",
       "    .dataframe thead th {\n",
       "        text-align: right;\n",
       "    }\n",
       "</style>\n",
       "<table border=\"1\" class=\"dataframe\">\n",
       "  <thead>\n",
       "    <tr style=\"text-align: right;\">\n",
       "      <th></th>\n",
       "      <th>commit.message</th>\n",
       "      <th>commit.committer.date</th>\n",
       "    </tr>\n",
       "  </thead>\n",
       "  <tbody>\n",
       "    <tr>\n",
       "      <th>0</th>\n",
       "      <td>api-scavenger-game - solutions</td>\n",
       "      <td>2020-10-11T15:35:55Z</td>\n",
       "    </tr>\n",
       "    <tr>\n",
       "      <th>1</th>\n",
       "      <td>adding twitter-api class</td>\n",
       "      <td>2020-10-11T15:34:17Z</td>\n",
       "    </tr>\n",
       "    <tr>\n",
       "      <th>2</th>\n",
       "      <td>adding error_messages class</td>\n",
       "      <td>2020-10-11T15:33:32Z</td>\n",
       "    </tr>\n",
       "    <tr>\n",
       "      <th>3</th>\n",
       "      <td>solutions lab-coingecko-api</td>\n",
       "      <td>2020-10-09T15:10:53Z</td>\n",
       "    </tr>\n",
       "    <tr>\n",
       "      <th>4</th>\n",
       "      <td>adding api-class</td>\n",
       "      <td>2020-10-08T18:27:47Z</td>\n",
       "    </tr>\n",
       "    <tr>\n",
       "      <th>5</th>\n",
       "      <td>solutions lab-advanced-regex</td>\n",
       "      <td>2020-10-07T14:49:10Z</td>\n",
       "    </tr>\n",
       "    <tr>\n",
       "      <th>6</th>\n",
       "      <td>Merge branch 'master' of https://github.com/ir...</td>\n",
       "      <td>2020-10-06T19:23:20Z</td>\n",
       "    </tr>\n",
       "    <tr>\n",
       "      <th>7</th>\n",
       "      <td>scavenger</td>\n",
       "      <td>2020-10-06T19:23:12Z</td>\n",
       "    </tr>\n",
       "    <tr>\n",
       "      <th>8</th>\n",
       "      <td>Merge branch 'master' of https://github.com/ir...</td>\n",
       "      <td>2020-10-06T18:30:41Z</td>\n",
       "    </tr>\n",
       "    <tr>\n",
       "      <th>9</th>\n",
       "      <td>class advanced regex</td>\n",
       "      <td>2020-10-06T18:29:52Z</td>\n",
       "    </tr>\n",
       "    <tr>\n",
       "      <th>10</th>\n",
       "      <td>project</td>\n",
       "      <td>2020-10-06T18:24:33Z</td>\n",
       "    </tr>\n",
       "    <tr>\n",
       "      <th>11</th>\n",
       "      <td>coingecko api</td>\n",
       "      <td>2020-10-06T14:31:29Z</td>\n",
       "    </tr>\n",
       "  </tbody>\n",
       "</table>\n",
       "</div>"
      ],
      "text/plain": [
       "                                       commit.message commit.committer.date\n",
       "0                      api-scavenger-game - solutions  2020-10-11T15:35:55Z\n",
       "1                            adding twitter-api class  2020-10-11T15:34:17Z\n",
       "2                         adding error_messages class  2020-10-11T15:33:32Z\n",
       "3                         solutions lab-coingecko-api  2020-10-09T15:10:53Z\n",
       "4                                    adding api-class  2020-10-08T18:27:47Z\n",
       "5                        solutions lab-advanced-regex  2020-10-07T14:49:10Z\n",
       "6   Merge branch 'master' of https://github.com/ir...  2020-10-06T19:23:20Z\n",
       "7                                           scavenger  2020-10-06T19:23:12Z\n",
       "8   Merge branch 'master' of https://github.com/ir...  2020-10-06T18:30:41Z\n",
       "9                                class advanced regex  2020-10-06T18:29:52Z\n",
       "10                                            project  2020-10-06T18:24:33Z\n",
       "11                                      coingecko api  2020-10-06T14:31:29Z"
      ]
     },
     "execution_count": 43,
     "metadata": {},
     "output_type": "execute_result"
    }
   ],
   "source": [
    "# Your code:\n",
    "df_commits.columns\n",
    "# df_commits[\"commit.message\"][\"commit.committer.date\" ]\n",
    "df_commits_lw = df_commits[(df_commits[\"commit.committer.date\"] > \"2020-10-05T00:00:00Z\" )]\n",
    "#df_commits[\"commit.committer.date\"]\n",
    "df_commits_lw[[\"commit.message\", \"commit.committer.date\"]]"
   ]
  }
 ],
 "metadata": {
  "kernelspec": {
   "display_name": "Python 3",
   "language": "python",
   "name": "python3"
  },
  "language_info": {
   "codemirror_mode": {
    "name": "ipython",
    "version": 3
   },
   "file_extension": ".py",
   "mimetype": "text/x-python",
   "name": "python",
   "nbconvert_exporter": "python",
   "pygments_lexer": "ipython3",
   "version": "3.8.3"
  }
 },
 "nbformat": 4,
 "nbformat_minor": 2
}
