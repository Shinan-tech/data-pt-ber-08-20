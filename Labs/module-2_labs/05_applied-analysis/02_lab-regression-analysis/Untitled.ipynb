{
 "cells": [
  {
   "cell_type": "code",
   "execution_count": 67,
   "metadata": {},
   "outputs": [],
   "source": [
    "import numpy as np\n",
    "import pandas as pd\n",
    "import matplotlib.pyplot as plt\n",
    "import seaborn as sns\n",
    "import statsmodels.api as sm"
   ]
  },
  {
   "cell_type": "code",
   "execution_count": 68,
   "metadata": {},
   "outputs": [
    {
     "data": {
      "text/html": [
       "<div>\n",
       "<style scoped>\n",
       "    .dataframe tbody tr th:only-of-type {\n",
       "        vertical-align: middle;\n",
       "    }\n",
       "\n",
       "    .dataframe tbody tr th {\n",
       "        vertical-align: top;\n",
       "    }\n",
       "\n",
       "    .dataframe thead th {\n",
       "        text-align: right;\n",
       "    }\n",
       "</style>\n",
       "<table border=\"1\" class=\"dataframe\">\n",
       "  <thead>\n",
       "    <tr style=\"text-align: right;\">\n",
       "      <th></th>\n",
       "      <th>Species</th>\n",
       "      <th>CommonName</th>\n",
       "      <th>HeadLength</th>\n",
       "      <th>BodyLength</th>\n",
       "    </tr>\n",
       "  </thead>\n",
       "  <tbody>\n",
       "    <tr>\n",
       "      <th>0</th>\n",
       "      <td>Crocodylus porosus</td>\n",
       "      <td>Estuarine Crocodile</td>\n",
       "      <td>24</td>\n",
       "      <td>161</td>\n",
       "    </tr>\n",
       "    <tr>\n",
       "      <th>1</th>\n",
       "      <td>Crocodylus porosus</td>\n",
       "      <td>Estuarine Crocodile</td>\n",
       "      <td>24</td>\n",
       "      <td>179</td>\n",
       "    </tr>\n",
       "    <tr>\n",
       "      <th>2</th>\n",
       "      <td>Crocodylus porosus</td>\n",
       "      <td>Estuarine Crocodile</td>\n",
       "      <td>32</td>\n",
       "      <td>226</td>\n",
       "    </tr>\n",
       "    <tr>\n",
       "      <th>3</th>\n",
       "      <td>Crocodylus porosus</td>\n",
       "      <td>Estuarine Crocodile</td>\n",
       "      <td>35</td>\n",
       "      <td>259</td>\n",
       "    </tr>\n",
       "    <tr>\n",
       "      <th>4</th>\n",
       "      <td>Crocodylus porosus</td>\n",
       "      <td>Estuarine Crocodile</td>\n",
       "      <td>40</td>\n",
       "      <td>287</td>\n",
       "    </tr>\n",
       "  </tbody>\n",
       "</table>\n",
       "</div>"
      ],
      "text/plain": [
       "              Species           CommonName  HeadLength  BodyLength\n",
       "0  Crocodylus porosus  Estuarine Crocodile          24         161\n",
       "1  Crocodylus porosus  Estuarine Crocodile          24         179\n",
       "2  Crocodylus porosus  Estuarine Crocodile          32         226\n",
       "3  Crocodylus porosus  Estuarine Crocodile          35         259\n",
       "4  Crocodylus porosus  Estuarine Crocodile          40         287"
      ]
     },
     "execution_count": 68,
     "metadata": {},
     "output_type": "execute_result"
    }
   ],
   "source": [
    "df = pd.read_csv(\"Estuarine_Crocodile.csv\")\n",
    "df.head()"
   ]
  },
  {
   "cell_type": "code",
   "execution_count": 69,
   "metadata": {},
   "outputs": [
    {
     "data": {
      "text/plain": [
       "0.9898911439276338"
      ]
     },
     "execution_count": 69,
     "metadata": {},
     "output_type": "execute_result"
    }
   ],
   "source": [
    "df[\"BodyLength\"].corr(df[\"HeadLength\"])"
   ]
  },
  {
   "cell_type": "code",
   "execution_count": 70,
   "metadata": {
    "scrolled": true
   },
   "outputs": [
    {
     "data": {
      "text/plain": [
       "<matplotlib.collections.PathCollection at 0x1fb1d08ac10>"
      ]
     },
     "execution_count": 70,
     "metadata": {},
     "output_type": "execute_result"
    },
    {
     "data": {
      "image/png": "[encoded data removed]",
      "text/plain": [
       "<Figure size 432x288 with 1 Axes>"
      ]
     },
     "metadata": {
      "needs_background": "light"
     },
     "output_type": "display_data"
    }
   ],
   "source": [
    "plt.scatter(x=df[\"BodyLength\"], y=df[\"HeadLength\"])"
   ]
  },
  {
   "cell_type": "code",
   "execution_count": 71,
   "metadata": {},
   "outputs": [
    {
     "data": {
      "text/plain": [
       "(-100.0, 100.0)"
      ]
     },
     "execution_count": 71,
     "metadata": {},
     "output_type": "execute_result"
    },
    {
     "data": {
      "image/png": "[encoded data removed]",
      "text/plain": [
       "<Figure size 432x288 with 1 Axes>"
      ]
     },
     "metadata": {
      "needs_background": "light"
     },
     "output_type": "display_data"
    }
   ],
   "source": [
    "plt.scatter(x=df[\"BodyLength\"], y=df[\"HeadLength\"])\n",
    "plt.ylim([-20, 100])\n",
    "plt.xlim([-100, 100])"
   ]
  },
  {
   "cell_type": "code",
   "execution_count": 72,
   "metadata": {
    "scrolled": false
   },
   "outputs": [
    {
     "data": {
      "text/plain": [
       "<matplotlib.axes._subplots.AxesSubplot at 0x1fb1d117460>"
      ]
     },
     "execution_count": 72,
     "metadata": {},
     "output_type": "execute_result"
    },
    {
     "data": {
      "image/png": "[encoded data removed]",
      "text/plain": [
       "<Figure size 432x288 with 1 Axes>"
      ]
     },
     "metadata": {
      "needs_background": "light"
     },
     "output_type": "display_data"
    }
   ],
   "source": [
    "sns.scatterplot(x=df[\"BodyLength\"], y=df[\"HeadLength\"])"
   ]
  },
  {
   "cell_type": "code",
   "execution_count": 73,
   "metadata": {
    "scrolled": true
   },
   "outputs": [
    {
     "data": {
      "text/plain": [
       "<seaborn.axisgrid.FacetGrid at 0x1fb1cf4e340>"
      ]
     },
     "execution_count": 73,
     "metadata": {},
     "output_type": "execute_result"
    },
    {
     "data": {
      "image/png": "[encoded data removed]",
      "text/plain": [
       "<Figure size 360x360 with 1 Axes>"
      ]
     },
     "metadata": {
      "needs_background": "light"
     },
     "output_type": "display_data"
    }
   ],
   "source": [
    "sns.lmplot(data=df, x=\"HeadLength\", y=\"BodyLength\")\n",
    "# which should be variable x which should be variable y"
   ]
  },
  {
   "cell_type": "code",
   "execution_count": 74,
   "metadata": {},
   "outputs": [
    {
     "name": "stdout",
     "output_type": "stream",
     "text": [
      "Help on function lmplot in module seaborn.regression:\n",
      "\n",
      "lmplot(x, y, data, hue=None, col=None, row=None, palette=None, col_wrap=None, height=5, aspect=1, markers='o', sharex=True, sharey=True, hue_order=None, col_order=None, row_order=None, legend=True, legend_out=True, x_estimator=None, x_bins=None, x_ci='ci', scatter=True, fit_reg=True, ci=95, n_boot=1000, units=None, seed=None, order=1, logistic=False, lowess=False, robust=False, logx=False, x_partial=None, y_partial=None, truncate=True, x_jitter=None, y_jitter=None, scatter_kws=None, line_kws=None, size=None)\n",
      "    Plot data and regression model fits across a FacetGrid.\n",
      "    \n",
      "    This function combines :func:`regplot` and :class:`FacetGrid`. It is\n",
      "    intended as a convenient interface to fit regression models across\n",
      "    conditional subsets of a dataset.\n",
      "    \n",
      "    When thinking about how to assign variables to different facets, a general\n",
      "    rule is that it makes sense to use ``hue`` for the most important\n",
      "    comparison, followed by ``col`` and ``row``. However, always think about\n",
      "    your particular dataset and the goals of the visualization you are\n",
      "    creating.\n",
      "    \n",
      "    There are a number of mutually exclusive options for estimating the\n",
      "    regression model. See the :ref:`tutorial <regression_tutorial>` for more\n",
      "    information.    \n",
      "    \n",
      "    The parameters to this function span most of the options in\n",
      "    :class:`FacetGrid`, although there may be occasional cases where you will\n",
      "    want to use that class and :func:`regplot` directly.\n",
      "    \n",
      "    Parameters\n",
      "    ----------\n",
      "    x, y : strings, optional\n",
      "        Input variables; these should be column names in ``data``.\n",
      "    data : DataFrame\n",
      "        Tidy (\"long-form\") dataframe where each column is a variable and each\n",
      "        row is an observation.    \n",
      "    hue, col, row : strings\n",
      "        Variables that define subsets of the data, which will be drawn on\n",
      "        separate facets in the grid. See the ``*_order`` parameters to control\n",
      "        the order of levels of this variable.\n",
      "    palette : palette name, list, or dict, optional\n",
      "        Colors to use for the different levels of the ``hue`` variable. Should\n",
      "        be something that can be interpreted by :func:`color_palette`, or a\n",
      "        dictionary mapping hue levels to matplotlib colors.    \n",
      "    col_wrap : int, optional\n",
      "        \"Wrap\" the column variable at this width, so that the column facets\n",
      "        span multiple rows. Incompatible with a ``row`` facet.    \n",
      "    height : scalar, optional\n",
      "        Height (in inches) of each facet. See also: ``aspect``.    \n",
      "    aspect : scalar, optional\n",
      "        Aspect ratio of each facet, so that ``aspect * height`` gives the width\n",
      "        of each facet in inches.    \n",
      "    markers : matplotlib marker code or list of marker codes, optional\n",
      "        Markers for the scatterplot. If a list, each marker in the list will be\n",
      "        used for each level of the ``hue`` variable.\n",
      "    share{x,y} : bool, 'col', or 'row' optional\n",
      "        If true, the facets will share y axes across columns and/or x axes\n",
      "        across rows.    \n",
      "    {hue,col,row}_order : lists, optional\n",
      "        Order for the levels of the faceting variables. By default, this will\n",
      "        be the order that the levels appear in ``data`` or, if the variables\n",
      "        are pandas categoricals, the category order.\n",
      "    legend : bool, optional\n",
      "        If ``True`` and there is a ``hue`` variable, add a legend.\n",
      "    legend_out : bool, optional\n",
      "        If ``True``, the figure size will be extended, and the legend will be\n",
      "        drawn outside the plot on the center right.    \n",
      "    x_estimator : callable that maps vector -> scalar, optional\n",
      "        Apply this function to each unique value of ``x`` and plot the\n",
      "        resulting estimate. This is useful when ``x`` is a discrete variable.\n",
      "        If ``x_ci`` is given, this estimate will be bootstrapped and a\n",
      "        confidence interval will be drawn.    \n",
      "    x_bins : int or vector, optional\n",
      "        Bin the ``x`` variable into discrete bins and then estimate the central\n",
      "        tendency and a confidence interval. This binning only influences how\n",
      "        the scatterplot is drawn; the regression is still fit to the original\n",
      "        data.  This parameter is interpreted either as the number of\n",
      "        evenly-sized (not necessary spaced) bins or the positions of the bin\n",
      "        centers. When this parameter is used, it implies that the default of\n",
      "        ``x_estimator`` is ``numpy.mean``.    \n",
      "    x_ci : \"ci\", \"sd\", int in [0, 100] or None, optional\n",
      "        Size of the confidence interval used when plotting a central tendency\n",
      "        for discrete values of ``x``. If ``\"ci\"``, defer to the value of the\n",
      "        ``ci`` parameter. If ``\"sd\"``, skip bootstrapping and show the\n",
      "        standard deviation of the observations in each bin.    \n",
      "    scatter : bool, optional\n",
      "        If ``True``, draw a scatterplot with the underlying observations (or\n",
      "        the ``x_estimator`` values).    \n",
      "    fit_reg : bool, optional\n",
      "        If ``True``, estimate and plot a regression model relating the ``x``\n",
      "        and ``y`` variables.    \n",
      "    ci : int in [0, 100] or None, optional\n",
      "        Size of the confidence interval for the regression estimate. This will\n",
      "        be drawn using translucent bands around the regression line. The\n",
      "        confidence interval is estimated using a bootstrap; for large\n",
      "        datasets, it may be advisable to avoid that computation by setting\n",
      "        this parameter to None.    \n",
      "    n_boot : int, optional\n",
      "        Number of bootstrap resamples used to estimate the ``ci``. The default\n",
      "        value attempts to balance time and stability; you may want to increase\n",
      "        this value for \"final\" versions of plots.    \n",
      "    units : variable name in ``data``, optional\n",
      "        If the ``x`` and ``y`` observations are nested within sampling units,\n",
      "        those can be specified here. This will be taken into account when\n",
      "        computing the confidence intervals by performing a multilevel bootstrap\n",
      "        that resamples both units and observations (within unit). This does not\n",
      "        otherwise influence how the regression is estimated or drawn.    \n",
      "    seed : int, numpy.random.Generator, or numpy.random.RandomState, optional\n",
      "        Seed or random number generator for reproducible bootstrapping.    \n",
      "    order : int, optional\n",
      "        If ``order`` is greater than 1, use ``numpy.polyfit`` to estimate a\n",
      "        polynomial regression.    \n",
      "    logistic : bool, optional\n",
      "        If ``True``, assume that ``y`` is a binary variable and use\n",
      "        ``statsmodels`` to estimate a logistic regression model. Note that this\n",
      "        is substantially more computationally intensive than linear regression,\n",
      "        so you may wish to decrease the number of bootstrap resamples\n",
      "        (``n_boot``) or set ``ci`` to None.    \n",
      "    lowess : bool, optional\n",
      "        If ``True``, use ``statsmodels`` to estimate a nonparametric lowess\n",
      "        model (locally weighted linear regression). Note that confidence\n",
      "        intervals cannot currently be drawn for this kind of model.    \n",
      "    robust : bool, optional\n",
      "        If ``True``, use ``statsmodels`` to estimate a robust regression. This\n",
      "        will de-weight outliers. Note that this is substantially more\n",
      "        computationally intensive than standard linear regression, so you may\n",
      "        wish to decrease the number of bootstrap resamples (``n_boot``) or set\n",
      "        ``ci`` to None.    \n",
      "    logx : bool, optional\n",
      "        If ``True``, estimate a linear regression of the form y ~ log(x), but\n",
      "        plot the scatterplot and regression model in the input space. Note that\n",
      "        ``x`` must be positive for this to work.    \n",
      "    {x,y}_partial : strings in ``data`` or matrices\n",
      "        Confounding variables to regress out of the ``x`` or ``y`` variables\n",
      "        before plotting.    \n",
      "    truncate : bool, optional\n",
      "        If ``True``, the regression line is bounded by the data limits. If\n",
      "        ``False``, it extends to the ``x`` axis limits.\n",
      "    \n",
      "    {x,y}_jitter : floats, optional\n",
      "        Add uniform random noise of this size to either the ``x`` or ``y``\n",
      "        variables. The noise is added to a copy of the data after fitting the\n",
      "        regression, and only influences the look of the scatterplot. This can\n",
      "        be helpful when plotting variables that take discrete values.    \n",
      "    {scatter,line}_kws : dictionaries\n",
      "        Additional keyword arguments to pass to ``plt.scatter`` and\n",
      "        ``plt.plot``.    \n",
      "    \n",
      "    See Also\n",
      "    --------\n",
      "    regplot : Plot data and a conditional model fit.\n",
      "    FacetGrid : Subplot grid for plotting conditional relationships.\n",
      "    pairplot : Combine :func:`regplot` and :class:`PairGrid` (when used with\n",
      "               ``kind=\"reg\"``).\n",
      "    \n",
      "    Notes\n",
      "    -----\n",
      "    \n",
      "    The :func:`regplot` and :func:`lmplot` functions are closely related, but\n",
      "    the former is an axes-level function while the latter is a figure-level\n",
      "    function that combines :func:`regplot` and :class:`FacetGrid`.    \n",
      "    \n",
      "    Examples\n",
      "    --------\n",
      "    \n",
      "    These examples focus on basic regression model plots to exhibit the\n",
      "    various faceting options; see the :func:`regplot` docs for demonstrations\n",
      "    of the other options for plotting the data and models. There are also\n",
      "    other examples for how to manipulate plot using the returned object on\n",
      "    the :class:`FacetGrid` docs.\n",
      "    \n",
      "    Plot a simple linear relationship between two variables:\n",
      "    \n",
      "    .. plot::\n",
      "        :context: close-figs\n",
      "    \n",
      "        >>> import seaborn as sns; sns.set(color_codes=True)\n",
      "        >>> tips = sns.load_dataset(\"tips\")\n",
      "        >>> g = sns.lmplot(x=\"total_bill\", y=\"tip\", data=tips)\n",
      "    \n",
      "    Condition on a third variable and plot the levels in different colors:\n",
      "    \n",
      "    .. plot::\n",
      "        :context: close-figs\n",
      "    \n",
      "        >>> g = sns.lmplot(x=\"total_bill\", y=\"tip\", hue=\"smoker\", data=tips)\n",
      "    \n",
      "    Use different markers as well as colors so the plot will reproduce to\n",
      "    black-and-white more easily:\n",
      "    \n",
      "    .. plot::\n",
      "        :context: close-figs\n",
      "    \n",
      "        >>> g = sns.lmplot(x=\"total_bill\", y=\"tip\", hue=\"smoker\", data=tips,\n",
      "        ...                markers=[\"o\", \"x\"])\n",
      "    \n",
      "    Use a different color palette:\n",
      "    \n",
      "    .. plot::\n",
      "        :context: close-figs\n",
      "    \n",
      "        >>> g = sns.lmplot(x=\"total_bill\", y=\"tip\", hue=\"smoker\", data=tips,\n",
      "        ...                palette=\"Set1\")\n",
      "    \n",
      "    Map ``hue`` levels to colors with a dictionary:\n",
      "    \n",
      "    .. plot::\n",
      "        :context: close-figs\n",
      "    \n",
      "        >>> g = sns.lmplot(x=\"total_bill\", y=\"tip\", hue=\"smoker\", data=tips,\n",
      "        ...                palette=dict(Yes=\"g\", No=\"m\"))\n",
      "    \n",
      "    Plot the levels of the third variable across different columns:\n",
      "    \n",
      "    .. plot::\n",
      "        :context: close-figs\n",
      "    \n",
      "        >>> g = sns.lmplot(x=\"total_bill\", y=\"tip\", col=\"smoker\", data=tips)\n",
      "    \n",
      "    Change the height and aspect ratio of the facets:\n",
      "    \n",
      "    .. plot::\n",
      "        :context: close-figs\n",
      "    \n",
      "        >>> g = sns.lmplot(x=\"size\", y=\"total_bill\", hue=\"day\", col=\"day\",\n",
      "        ...                data=tips, height=6, aspect=.4, x_jitter=.1)\n",
      "    \n",
      "    Wrap the levels of the column variable into multiple rows:\n",
      "    \n",
      "    .. plot::\n",
      "        :context: close-figs\n",
      "    \n",
      "        >>> g = sns.lmplot(x=\"total_bill\", y=\"tip\", col=\"day\", hue=\"day\",\n",
      "        ...                data=tips, col_wrap=2, height=3)\n",
      "    \n",
      "    Condition on two variables to make a full grid:\n",
      "    \n",
      "    .. plot::\n",
      "        :context: close-figs\n",
      "    \n",
      "        >>> g = sns.lmplot(x=\"total_bill\", y=\"tip\", row=\"sex\", col=\"time\",\n",
      "        ...                data=tips, height=3)\n",
      "    \n",
      "    Use methods on the returned :class:`FacetGrid` instance to further tweak\n",
      "    the plot:\n",
      "    \n",
      "    .. plot::\n",
      "        :context: close-figs\n",
      "    \n",
      "        >>> g = sns.lmplot(x=\"total_bill\", y=\"tip\", row=\"sex\", col=\"time\",\n",
      "        ...                data=tips, height=3)\n",
      "        >>> g = (g.set_axis_labels(\"Total bill (US Dollars)\", \"Tip\")\n",
      "        ...       .set(xlim=(0, 60), ylim=(0, 12),\n",
      "        ...            xticks=[10, 30, 50], yticks=[2, 6, 10])\n",
      "        ...       .fig.subplots_adjust(wspace=.02))\n",
      "\n"
     ]
    }
   ],
   "source": [
    "help(sns.lmplot)"
   ]
  },
  {
   "cell_type": "markdown",
   "metadata": {},
   "source": [
    "### Linear Regression"
   ]
  },
  {
   "cell_type": "code",
   "execution_count": 75,
   "metadata": {},
   "outputs": [],
   "source": [
    "X = df[\"HeadLength\"]\n",
    "Y = df[\"BodyLength\"]\n",
    "X = sm.add_constant(X)"
   ]
  },
  {
   "cell_type": "code",
   "execution_count": 76,
   "metadata": {},
   "outputs": [
    {
     "data": {
      "text/plain": [
       "'stat model has no intercept\\n Y = mX\\nfor each variable , state model will give a coefficient, but no intercept\\nif I have X, Z\\nStatsmodels does: Y=mX+nZ\\ntrick Z=1\\nY= mX + n*1 = mX+n'"
      ]
     },
     "execution_count": 76,
     "metadata": {},
     "output_type": "execute_result"
    }
   ],
   "source": [
    "'''stat model has no intercept\n",
    " Y = mX\n",
    "for each variable , state model will give a coefficient, but no intercept\n",
    "if I have X, Z\n",
    "Statsmodels does: Y=mX+nZ\n",
    "trick Z=1\n",
    "Y= mX + n*1 = mX+n'''"
   ]
  },
  {
   "cell_type": "code",
   "execution_count": 77,
   "metadata": {},
   "outputs": [
    {
     "name": "stdout",
     "output_type": "stream",
     "text": [
      "<statsmodels.regression.linear_model.OLS object at 0x000001FB1B8ED760>\n"
     ]
    }
   ],
   "source": [
    "model = sm.OLS(Y, X)\n",
    "print(model)"
   ]
  },
  {
   "cell_type": "code",
   "execution_count": 78,
   "metadata": {},
   "outputs": [
    {
     "name": "stdout",
     "output_type": "stream",
     "text": [
      "<statsmodels.regression.linear_model.RegressionResultsWrapper object at 0x000001FB1B8ED730>\n"
     ]
    }
   ],
   "source": [
    "results = model.fit()\n",
    "print(results)"
   ]
  },
  {
   "cell_type": "code",
   "execution_count": 79,
   "metadata": {},
   "outputs": [
    {
     "data": {
      "text/html": [
       "<table class=\"simpletable\">\n",
       "<caption>OLS Regression Results</caption>\n",
       "<tr>\n",
       "  <th>Dep. Variable:</th>       <td>BodyLength</td>    <th>  R-squared:         </th> <td>   0.980</td>\n",
       "</tr>\n",
       "<tr>\n",
       "  <th>Model:</th>                   <td>OLS</td>       <th>  Adj. R-squared:    </th> <td>   0.979</td>\n",
       "</tr>\n",
       "<tr>\n",
       "  <th>Method:</th>             <td>Least Squares</td>  <th>  F-statistic:       </th> <td>   1267.</td>\n",
       "</tr>\n",
       "<tr>\n",
       "  <th>Date:</th>             <td>Sat, 07 Nov 2020</td> <th>  Prob (F-statistic):</th> <td>1.38e-23</td>\n",
       "</tr>\n",
       "<tr>\n",
       "  <th>Time:</th>                 <td>12:50:22</td>     <th>  Log-Likelihood:    </th> <td> -105.32</td>\n",
       "</tr>\n",
       "<tr>\n",
       "  <th>No. Observations:</th>      <td>    28</td>      <th>  AIC:               </th> <td>   214.6</td>\n",
       "</tr>\n",
       "<tr>\n",
       "  <th>Df Residuals:</th>          <td>    26</td>      <th>  BIC:               </th> <td>   217.3</td>\n",
       "</tr>\n",
       "<tr>\n",
       "  <th>Df Model:</th>              <td>     1</td>      <th>                     </th>     <td> </td>   \n",
       "</tr>\n",
       "<tr>\n",
       "  <th>Covariance Type:</th>      <td>nonrobust</td>    <th>                     </th>     <td> </td>   \n",
       "</tr>\n",
       "</table>\n",
       "<table class=\"simpletable\">\n",
       "<tr>\n",
       "       <td></td>         <th>coef</th>     <th>std err</th>      <th>t</th>      <th>P>|t|</th>  <th>[0.025</th>    <th>0.975]</th>  \n",
       "</tr>\n",
       "<tr>\n",
       "  <th>const</th>      <td>  -18.2740</td> <td>    9.966</td> <td>   -1.834</td> <td> 0.078</td> <td>  -38.760</td> <td>    2.212</td>\n",
       "</tr>\n",
       "<tr>\n",
       "  <th>HeadLength</th> <td>    7.6601</td> <td>    0.215</td> <td>   35.588</td> <td> 0.000</td> <td>    7.218</td> <td>    8.103</td>\n",
       "</tr>\n",
       "</table>\n",
       "<table class=\"simpletable\">\n",
       "<tr>\n",
       "  <th>Omnibus:</th>       <td> 0.667</td> <th>  Durbin-Watson:     </th> <td>   2.342</td>\n",
       "</tr>\n",
       "<tr>\n",
       "  <th>Prob(Omnibus):</th> <td> 0.716</td> <th>  Jarque-Bera (JB):  </th> <td>   0.597</td>\n",
       "</tr>\n",
       "<tr>\n",
       "  <th>Skew:</th>          <td> 0.323</td> <th>  Prob(JB):          </th> <td>   0.742</td>\n",
       "</tr>\n",
       "<tr>\n",
       "  <th>Kurtosis:</th>      <td> 2.693</td> <th>  Cond. No.          </th> <td>    226.</td>\n",
       "</tr>\n",
       "</table><br/><br/>Warnings:<br/>[1] Standard Errors assume that the covariance matrix of the errors is correctly specified."
      ],
      "text/plain": [
       "<class 'statsmodels.iolib.summary.Summary'>\n",
       "\"\"\"\n",
       "                            OLS Regression Results                            \n",
       "==============================================================================\n",
       "Dep. Variable:             BodyLength   R-squared:                       0.980\n",
       "Model:                            OLS   Adj. R-squared:                  0.979\n",
       "Method:                 Least Squares   F-statistic:                     1267.\n",
       "Date:                Sat, 07 Nov 2020   Prob (F-statistic):           1.38e-23\n",
       "Time:                        12:50:22   Log-Likelihood:                -105.32\n",
       "No. Observations:                  28   AIC:                             214.6\n",
       "Df Residuals:                      26   BIC:                             217.3\n",
       "Df Model:                           1                                         \n",
       "Covariance Type:            nonrobust                                         \n",
       "==============================================================================\n",
       "                 coef    std err          t      P>|t|      [0.025      0.975]\n",
       "------------------------------------------------------------------------------\n",
       "const        -18.2740      9.966     -1.834      0.078     -38.760       2.212\n",
       "HeadLength     7.6601      0.215     35.588      0.000       7.218       8.103\n",
       "==============================================================================\n",
       "Omnibus:                        0.667   Durbin-Watson:                   2.342\n",
       "Prob(Omnibus):                  0.716   Jarque-Bera (JB):                0.597\n",
       "Skew:                           0.323   Prob(JB):                        0.742\n",
       "Kurtosis:                       2.693   Cond. No.                         226.\n",
       "==============================================================================\n",
       "\n",
       "Warnings:\n",
       "[1] Standard Errors assume that the covariance matrix of the errors is correctly specified.\n",
       "\"\"\""
      ]
     },
     "execution_count": 79,
     "metadata": {},
     "output_type": "execute_result"
    }
   ],
   "source": [
    "results.summary()"
   ]
  },
  {
   "cell_type": "code",
   "execution_count": 80,
   "metadata": {},
   "outputs": [],
   "source": [
    "Y_pred = results.predict(X)"
   ]
  },
  {
   "cell_type": "code",
   "execution_count": 81,
   "metadata": {
    "scrolled": true
   },
   "outputs": [
    {
     "data": {
      "text/plain": [
       "[<matplotlib.lines.Line2D at 0x1fb1b895850>]"
      ]
     },
     "execution_count": 81,
     "metadata": {},
     "output_type": "execute_result"
    },
    {
     "data": {
      "image/png": "[encoded data removed]",
      "text/plain": [
       "<Figure size 432x288 with 1 Axes>"
      ]
     },
     "metadata": {
      "needs_background": "light"
     },
     "output_type": "display_data"
    }
   ],
   "source": [
    "plt.plot(X[\"HeadLength\"], Y_pred, \"o\")"
   ]
  },
  {
   "cell_type": "code",
   "execution_count": 82,
   "metadata": {},
   "outputs": [
    {
     "data": {
      "text/plain": [
       "[<matplotlib.lines.Line2D at 0x1fb1b493340>]"
      ]
     },
     "execution_count": 82,
     "metadata": {},
     "output_type": "execute_result"
    },
    {
     "data": {
      "image/png": "[encoded data removed]",
      "text/plain": [
       "<Figure size 432x288 with 1 Axes>"
      ]
     },
     "metadata": {
      "needs_background": "light"
     },
     "output_type": "display_data"
    }
   ],
   "source": [
    "\n",
    "plt.plot(X[\"HeadLength\"], Y_pred, \"o\")\n",
    "plt.plot(X[\"HeadLength\"], Y, \"o\")"
   ]
  },
  {
   "cell_type": "code",
   "execution_count": 83,
   "metadata": {},
   "outputs": [],
   "source": [
    "residuals = Y - Y_pred"
   ]
  },
  {
   "cell_type": "code",
   "execution_count": 84,
   "metadata": {},
   "outputs": [
    {
     "data": {
      "text/plain": [
       "0     -4.568483\n",
       "1     13.431517\n",
       "2     -0.849320\n",
       "3      9.170366\n",
       "4     -1.130157\n",
       "5     11.869843\n",
       "6      7.909215\n",
       "7    -16.410995\n",
       "8     25.948587\n",
       "9     10.007645\n",
       "10     3.608691\n",
       "11   -15.371623\n",
       "12    -7.809948\n",
       "13    14.909215\n",
       "14    -8.809948\n",
       "15     0.928901\n",
       "16    -4.470053\n",
       "17    -1.071099\n",
       "18   -18.130157\n",
       "19     4.288482\n",
       "20    -6.992355\n",
       "21   -10.711518\n",
       "22     3.229424\n",
       "23    -5.371623\n",
       "24    12.268796\n",
       "25     0.648063\n",
       "26   -12.130157\n",
       "27    -4.391309\n",
       "dtype: float64"
      ]
     },
     "execution_count": 84,
     "metadata": {},
     "output_type": "execute_result"
    }
   ],
   "source": [
    "residuals"
   ]
  },
  {
   "cell_type": "code",
   "execution_count": 85,
   "metadata": {},
   "outputs": [
    {
     "data": {
      "text/plain": [
       "[<matplotlib.lines.Line2D at 0x1fb1b7248e0>]"
      ]
     },
     "execution_count": 85,
     "metadata": {},
     "output_type": "execute_result"
    },
    {
     "data": {
      "image/png": "[encoded data removed]",
      "text/plain": [
       "<Figure size 432x288 with 1 Axes>"
      ]
     },
     "metadata": {
      "needs_background": "light"
     },
     "output_type": "display_data"
    }
   ],
   "source": [
    "# if the residual is not randam in a line, that means the erros all be negative or positive\n",
    "# solution include more variable male femal , feet \n",
    "plt.plot(X[\"HeadLength\"], residuals, \"o\")"
   ]
  },
  {
   "cell_type": "code",
   "execution_count": 86,
   "metadata": {},
   "outputs": [
    {
     "data": {
      "text/plain": [
       "108.3283270759337"
      ]
     },
     "execution_count": 86,
     "metadata": {},
     "output_type": "execute_result"
    }
   ],
   "source": [
    "np.mean(residuals**2)\n",
    "# mean squared error the lower the better"
   ]
  },
  {
   "cell_type": "code",
   "execution_count": 87,
   "metadata": {},
   "outputs": [
    {
     "data": {
      "text/plain": [
       "10.408089501725746"
      ]
     },
     "execution_count": 87,
     "metadata": {},
     "output_type": "execute_result"
    }
   ],
   "source": [
    "np.sqrt(np.mean(residuals**2)) #RMSE root mean squre erro"
   ]
  },
  {
   "cell_type": "markdown",
   "metadata": {},
   "source": [
    "### Using the FitBit Dataset\n"
   ]
  },
  {
   "cell_type": "code",
   "execution_count": 102,
   "metadata": {
    "scrolled": true
   },
   "outputs": [
    {
     "data": {
      "text/html": [
       "<div>\n",
       "<style scoped>\n",
       "    .dataframe tbody tr th:only-of-type {\n",
       "        vertical-align: middle;\n",
       "    }\n",
       "\n",
       "    .dataframe tbody tr th {\n",
       "        vertical-align: top;\n",
       "    }\n",
       "\n",
       "    .dataframe thead th {\n",
       "        text-align: right;\n",
       "    }\n",
       "</style>\n",
       "<table border=\"1\" class=\"dataframe\">\n",
       "  <thead>\n",
       "    <tr style=\"text-align: right;\">\n",
       "      <th></th>\n",
       "      <th>Date</th>\n",
       "      <th>Calorie burned</th>\n",
       "      <th>Steps</th>\n",
       "      <th>Distance</th>\n",
       "      <th>Floors</th>\n",
       "      <th>Minutes Sedentary</th>\n",
       "      <th>Minutes Lightly Active</th>\n",
       "      <th>Minutes Fairly Active</th>\n",
       "      <th>Minutes Very Active</th>\n",
       "      <th>Activity Calories</th>\n",
       "      <th>...</th>\n",
       "      <th>Distance_miles</th>\n",
       "      <th>Days</th>\n",
       "      <th>Days_encoded</th>\n",
       "      <th>Work_or_Weekend</th>\n",
       "      <th>Hours Sleep</th>\n",
       "      <th>Sleep efficiency</th>\n",
       "      <th>Yesterday_sleep</th>\n",
       "      <th>Yesterday_sleep_efficiency</th>\n",
       "      <th>Months</th>\n",
       "      <th>Months_encoded</th>\n",
       "    </tr>\n",
       "  </thead>\n",
       "  <tbody>\n",
       "    <tr>\n",
       "      <th>0</th>\n",
       "      <td>2015-05-08</td>\n",
       "      <td>1934</td>\n",
       "      <td>905</td>\n",
       "      <td>0.65</td>\n",
       "      <td>0</td>\n",
       "      <td>1.355</td>\n",
       "      <td>46</td>\n",
       "      <td>0</td>\n",
       "      <td>0</td>\n",
       "      <td>1680</td>\n",
       "      <td>...</td>\n",
       "      <td>0.403891</td>\n",
       "      <td>Friday</td>\n",
       "      <td>4.0</td>\n",
       "      <td>1</td>\n",
       "      <td>6.400000</td>\n",
       "      <td>92.086331</td>\n",
       "      <td>0.000000</td>\n",
       "      <td>0.000000</td>\n",
       "      <td>May</td>\n",
       "      <td>5</td>\n",
       "    </tr>\n",
       "    <tr>\n",
       "      <th>1</th>\n",
       "      <td>2015-05-09</td>\n",
       "      <td>3631</td>\n",
       "      <td>18925</td>\n",
       "      <td>14.11</td>\n",
       "      <td>4</td>\n",
       "      <td>611.000</td>\n",
       "      <td>316</td>\n",
       "      <td>61</td>\n",
       "      <td>60</td>\n",
       "      <td>2248</td>\n",
       "      <td>...</td>\n",
       "      <td>8.767545</td>\n",
       "      <td>Saturday</td>\n",
       "      <td>5.0</td>\n",
       "      <td>0</td>\n",
       "      <td>7.566667</td>\n",
       "      <td>92.464358</td>\n",
       "      <td>6.400000</td>\n",
       "      <td>92.086331</td>\n",
       "      <td>May</td>\n",
       "      <td>5</td>\n",
       "    </tr>\n",
       "    <tr>\n",
       "      <th>2</th>\n",
       "      <td>2015-05-10</td>\n",
       "      <td>3204</td>\n",
       "      <td>14228</td>\n",
       "      <td>10.57</td>\n",
       "      <td>1</td>\n",
       "      <td>602.000</td>\n",
       "      <td>226</td>\n",
       "      <td>14</td>\n",
       "      <td>77</td>\n",
       "      <td>1719</td>\n",
       "      <td>...</td>\n",
       "      <td>6.567891</td>\n",
       "      <td>Sunday</td>\n",
       "      <td>6.0</td>\n",
       "      <td>0</td>\n",
       "      <td>6.450000</td>\n",
       "      <td>88.761468</td>\n",
       "      <td>7.566667</td>\n",
       "      <td>92.464358</td>\n",
       "      <td>May</td>\n",
       "      <td>5</td>\n",
       "    </tr>\n",
       "    <tr>\n",
       "      <th>3</th>\n",
       "      <td>2015-05-11</td>\n",
       "      <td>2673</td>\n",
       "      <td>6756</td>\n",
       "      <td>5.02</td>\n",
       "      <td>8</td>\n",
       "      <td>749.000</td>\n",
       "      <td>190</td>\n",
       "      <td>23</td>\n",
       "      <td>4</td>\n",
       "      <td>9620</td>\n",
       "      <td>...</td>\n",
       "      <td>3.119282</td>\n",
       "      <td>Monday</td>\n",
       "      <td>0.0</td>\n",
       "      <td>1</td>\n",
       "      <td>5.183333</td>\n",
       "      <td>88.857143</td>\n",
       "      <td>6.450000</td>\n",
       "      <td>88.761468</td>\n",
       "      <td>May</td>\n",
       "      <td>5</td>\n",
       "    </tr>\n",
       "    <tr>\n",
       "      <th>4</th>\n",
       "      <td>2015-05-12</td>\n",
       "      <td>2495</td>\n",
       "      <td>502</td>\n",
       "      <td>3.73</td>\n",
       "      <td>1</td>\n",
       "      <td>876.000</td>\n",
       "      <td>171</td>\n",
       "      <td>0</td>\n",
       "      <td>0</td>\n",
       "      <td>7360</td>\n",
       "      <td>...</td>\n",
       "      <td>2.317714</td>\n",
       "      <td>Tuesday</td>\n",
       "      <td>1.0</td>\n",
       "      <td>1</td>\n",
       "      <td>6.783333</td>\n",
       "      <td>82.892057</td>\n",
       "      <td>5.183333</td>\n",
       "      <td>88.857143</td>\n",
       "      <td>May</td>\n",
       "      <td>5</td>\n",
       "    </tr>\n",
       "  </tbody>\n",
       "</table>\n",
       "<p>5 rows × 24 columns</p>\n",
       "</div>"
      ],
      "text/plain": [
       "         Date  Calorie burned  Steps  Distance  Floors  Minutes Sedentary  \\\n",
       "0  2015-05-08            1934    905      0.65       0              1.355   \n",
       "1  2015-05-09            3631  18925     14.11       4            611.000   \n",
       "2  2015-05-10            3204  14228     10.57       1            602.000   \n",
       "3  2015-05-11            2673   6756      5.02       8            749.000   \n",
       "4  2015-05-12            2495    502      3.73       1            876.000   \n",
       "\n",
       "   Minutes Lightly Active  Minutes Fairly Active  Minutes Very Active  \\\n",
       "0                      46                      0                    0   \n",
       "1                     316                     61                   60   \n",
       "2                     226                     14                   77   \n",
       "3                     190                     23                    4   \n",
       "4                     171                      0                    0   \n",
       "\n",
       "   Activity Calories  ...  Distance_miles      Days  Days_encoded  \\\n",
       "0               1680  ...        0.403891    Friday           4.0   \n",
       "1               2248  ...        8.767545  Saturday           5.0   \n",
       "2               1719  ...        6.567891    Sunday           6.0   \n",
       "3               9620  ...        3.119282    Monday           0.0   \n",
       "4               7360  ...        2.317714   Tuesday           1.0   \n",
       "\n",
       "   Work_or_Weekend  Hours Sleep Sleep efficiency  Yesterday_sleep  \\\n",
       "0                1     6.400000        92.086331         0.000000   \n",
       "1                0     7.566667        92.464358         6.400000   \n",
       "2                0     6.450000        88.761468         7.566667   \n",
       "3                1     5.183333        88.857143         6.450000   \n",
       "4                1     6.783333        82.892057         5.183333   \n",
       "\n",
       "   Yesterday_sleep_efficiency  Months  Months_encoded  \n",
       "0                    0.000000     May               5  \n",
       "1                   92.086331     May               5  \n",
       "2                   92.464358     May               5  \n",
       "3                   88.761468     May               5  \n",
       "4                   88.857143     May               5  \n",
       "\n",
       "[5 rows x 24 columns]"
      ]
     },
     "execution_count": 102,
     "metadata": {},
     "output_type": "execute_result"
    }
   ],
   "source": [
    "df_new = pd.read_csv(\"../../03_data-visualization/02_lab-matplotlib-seaborn/your-code/Fitbit2.csv\")\n",
    "df_new.head()"
   ]
  },
  {
   "cell_type": "code",
   "execution_count": 89,
   "metadata": {},
   "outputs": [
    {
     "data": {
      "text/plain": [
       "'steps:\\n1. correlation matrix\\n2. scatterplot MinutesOfBeingAwake versus NumberOfAwakings\\n3. regression with statsmodels: [MinutesOfBeingAwake] = b0 + b1*[NumberOfAwakings]'"
      ]
     },
     "execution_count": 89,
     "metadata": {},
     "output_type": "execute_result"
    }
   ],
   "source": [
    "'''steps:\n",
    "1. correlation matrix\n",
    "2. scatterplot MinutesOfBeingAwake versus NumberOfAwakings\n",
    "3. regression with statsmodels: [MinutesOfBeingAwake] = b0 + b1*[NumberOfAwakings]'''\n"
   ]
  },
  {
   "cell_type": "code",
   "execution_count": 103,
   "metadata": {},
   "outputs": [
    {
     "data": {
      "text/html": [
       "<div>\n",
       "<style scoped>\n",
       "    .dataframe tbody tr th:only-of-type {\n",
       "        vertical-align: middle;\n",
       "    }\n",
       "\n",
       "    .dataframe tbody tr th {\n",
       "        vertical-align: top;\n",
       "    }\n",
       "\n",
       "    .dataframe thead th {\n",
       "        text-align: right;\n",
       "    }\n",
       "</style>\n",
       "<table border=\"1\" class=\"dataframe\">\n",
       "  <thead>\n",
       "    <tr style=\"text-align: right;\">\n",
       "      <th></th>\n",
       "      <th>Calorie burned</th>\n",
       "      <th>Steps</th>\n",
       "      <th>Distance</th>\n",
       "      <th>Floors</th>\n",
       "      <th>Minutes Sedentary</th>\n",
       "      <th>Minutes Lightly Active</th>\n",
       "      <th>Minutes Fairly Active</th>\n",
       "      <th>Minutes Very Active</th>\n",
       "      <th>Activity Calories</th>\n",
       "      <th>MinutesOfSleep</th>\n",
       "      <th>...</th>\n",
       "      <th>NumberOfAwakings</th>\n",
       "      <th>LengthOfRestInMinutes</th>\n",
       "      <th>Distance_miles</th>\n",
       "      <th>Days_encoded</th>\n",
       "      <th>Work_or_Weekend</th>\n",
       "      <th>Hours Sleep</th>\n",
       "      <th>Sleep efficiency</th>\n",
       "      <th>Yesterday_sleep</th>\n",
       "      <th>Yesterday_sleep_efficiency</th>\n",
       "      <th>Months_encoded</th>\n",
       "    </tr>\n",
       "  </thead>\n",
       "  <tbody>\n",
       "    <tr>\n",
       "      <th>Calorie burned</th>\n",
       "      <td>1.000000</td>\n",
       "      <td>0.255305</td>\n",
       "      <td>0.292790</td>\n",
       "      <td>0.130757</td>\n",
       "      <td>0.125353</td>\n",
       "      <td>0.209540</td>\n",
       "      <td>0.188256</td>\n",
       "      <td>0.197881</td>\n",
       "      <td>-0.130758</td>\n",
       "      <td>0.011485</td>\n",
       "      <td>...</td>\n",
       "      <td>0.030490</td>\n",
       "      <td>0.017460</td>\n",
       "      <td>0.292790</td>\n",
       "      <td>-0.041630</td>\n",
       "      <td>0.064943</td>\n",
       "      <td>0.011485</td>\n",
       "      <td>0.040965</td>\n",
       "      <td>0.048411</td>\n",
       "      <td>0.021207</td>\n",
       "      <td>0.005841</td>\n",
       "    </tr>\n",
       "    <tr>\n",
       "      <th>Steps</th>\n",
       "      <td>0.255305</td>\n",
       "      <td>1.000000</td>\n",
       "      <td>0.779678</td>\n",
       "      <td>0.306511</td>\n",
       "      <td>0.076906</td>\n",
       "      <td>0.393010</td>\n",
       "      <td>0.303244</td>\n",
       "      <td>0.571452</td>\n",
       "      <td>-0.160568</td>\n",
       "      <td>0.130986</td>\n",
       "      <td>...</td>\n",
       "      <td>0.106591</td>\n",
       "      <td>0.133405</td>\n",
       "      <td>0.779678</td>\n",
       "      <td>-0.024671</td>\n",
       "      <td>0.006498</td>\n",
       "      <td>0.130986</td>\n",
       "      <td>0.128463</td>\n",
       "      <td>0.089991</td>\n",
       "      <td>0.083499</td>\n",
       "      <td>-0.097077</td>\n",
       "    </tr>\n",
       "    <tr>\n",
       "      <th>Distance</th>\n",
       "      <td>0.292790</td>\n",
       "      <td>0.779678</td>\n",
       "      <td>1.000000</td>\n",
       "      <td>0.382940</td>\n",
       "      <td>0.160632</td>\n",
       "      <td>0.455272</td>\n",
       "      <td>0.348113</td>\n",
       "      <td>0.759310</td>\n",
       "      <td>-0.246853</td>\n",
       "      <td>0.129442</td>\n",
       "      <td>...</td>\n",
       "      <td>0.091095</td>\n",
       "      <td>0.134550</td>\n",
       "      <td>1.000000</td>\n",
       "      <td>-0.056472</td>\n",
       "      <td>0.069438</td>\n",
       "      <td>0.129442</td>\n",
       "      <td>0.126663</td>\n",
       "      <td>0.107858</td>\n",
       "      <td>0.075439</td>\n",
       "      <td>-0.122106</td>\n",
       "    </tr>\n",
       "    <tr>\n",
       "      <th>Floors</th>\n",
       "      <td>0.130757</td>\n",
       "      <td>0.306511</td>\n",
       "      <td>0.382940</td>\n",
       "      <td>1.000000</td>\n",
       "      <td>0.057812</td>\n",
       "      <td>-0.085992</td>\n",
       "      <td>0.278408</td>\n",
       "      <td>0.399503</td>\n",
       "      <td>-0.155532</td>\n",
       "      <td>0.069464</td>\n",
       "      <td>...</td>\n",
       "      <td>0.043459</td>\n",
       "      <td>0.075864</td>\n",
       "      <td>0.382940</td>\n",
       "      <td>-0.243848</td>\n",
       "      <td>0.296749</td>\n",
       "      <td>0.069464</td>\n",
       "      <td>0.057192</td>\n",
       "      <td>0.111600</td>\n",
       "      <td>0.092766</td>\n",
       "      <td>-0.032347</td>\n",
       "    </tr>\n",
       "    <tr>\n",
       "      <th>Minutes Sedentary</th>\n",
       "      <td>0.125353</td>\n",
       "      <td>0.076906</td>\n",
       "      <td>0.160632</td>\n",
       "      <td>0.057812</td>\n",
       "      <td>1.000000</td>\n",
       "      <td>0.217021</td>\n",
       "      <td>0.084137</td>\n",
       "      <td>0.105963</td>\n",
       "      <td>-0.161446</td>\n",
       "      <td>0.204242</td>\n",
       "      <td>...</td>\n",
       "      <td>0.178387</td>\n",
       "      <td>0.208539</td>\n",
       "      <td>0.160632</td>\n",
       "      <td>-0.069168</td>\n",
       "      <td>0.071185</td>\n",
       "      <td>0.204242</td>\n",
       "      <td>0.251996</td>\n",
       "      <td>0.069396</td>\n",
       "      <td>0.058520</td>\n",
       "      <td>-0.107068</td>\n",
       "    </tr>\n",
       "    <tr>\n",
       "      <th>Minutes Lightly Active</th>\n",
       "      <td>0.209540</td>\n",
       "      <td>0.393010</td>\n",
       "      <td>0.455272</td>\n",
       "      <td>-0.085992</td>\n",
       "      <td>0.217021</td>\n",
       "      <td>1.000000</td>\n",
       "      <td>0.014288</td>\n",
       "      <td>-0.034425</td>\n",
       "      <td>-0.219892</td>\n",
       "      <td>0.105048</td>\n",
       "      <td>...</td>\n",
       "      <td>0.087150</td>\n",
       "      <td>0.105406</td>\n",
       "      <td>0.455272</td>\n",
       "      <td>0.202433</td>\n",
       "      <td>-0.197896</td>\n",
       "      <td>0.105048</td>\n",
       "      <td>0.101216</td>\n",
       "      <td>0.020973</td>\n",
       "      <td>0.040472</td>\n",
       "      <td>-0.066958</td>\n",
       "    </tr>\n",
       "    <tr>\n",
       "      <th>Minutes Fairly Active</th>\n",
       "      <td>0.188256</td>\n",
       "      <td>0.303244</td>\n",
       "      <td>0.348113</td>\n",
       "      <td>0.278408</td>\n",
       "      <td>0.084137</td>\n",
       "      <td>0.014288</td>\n",
       "      <td>1.000000</td>\n",
       "      <td>0.337839</td>\n",
       "      <td>-0.204562</td>\n",
       "      <td>0.114950</td>\n",
       "      <td>...</td>\n",
       "      <td>0.100498</td>\n",
       "      <td>0.123034</td>\n",
       "      <td>0.348113</td>\n",
       "      <td>-0.098541</td>\n",
       "      <td>0.110282</td>\n",
       "      <td>0.114950</td>\n",
       "      <td>0.092485</td>\n",
       "      <td>0.191620</td>\n",
       "      <td>0.136397</td>\n",
       "      <td>0.105570</td>\n",
       "    </tr>\n",
       "    <tr>\n",
       "      <th>Minutes Very Active</th>\n",
       "      <td>0.197881</td>\n",
       "      <td>0.571452</td>\n",
       "      <td>0.759310</td>\n",
       "      <td>0.399503</td>\n",
       "      <td>0.105963</td>\n",
       "      <td>-0.034425</td>\n",
       "      <td>0.337839</td>\n",
       "      <td>1.000000</td>\n",
       "      <td>-0.187309</td>\n",
       "      <td>0.108018</td>\n",
       "      <td>...</td>\n",
       "      <td>0.099859</td>\n",
       "      <td>0.115641</td>\n",
       "      <td>0.759310</td>\n",
       "      <td>-0.111718</td>\n",
       "      <td>0.103940</td>\n",
       "      <td>0.108018</td>\n",
       "      <td>0.106693</td>\n",
       "      <td>0.120500</td>\n",
       "      <td>0.073853</td>\n",
       "      <td>-0.085153</td>\n",
       "    </tr>\n",
       "    <tr>\n",
       "      <th>Activity Calories</th>\n",
       "      <td>-0.130758</td>\n",
       "      <td>-0.160568</td>\n",
       "      <td>-0.246853</td>\n",
       "      <td>-0.155532</td>\n",
       "      <td>-0.161446</td>\n",
       "      <td>-0.219892</td>\n",
       "      <td>-0.204562</td>\n",
       "      <td>-0.187309</td>\n",
       "      <td>1.000000</td>\n",
       "      <td>-0.005804</td>\n",
       "      <td>...</td>\n",
       "      <td>0.022757</td>\n",
       "      <td>-0.004992</td>\n",
       "      <td>-0.246853</td>\n",
       "      <td>-0.074707</td>\n",
       "      <td>0.044292</td>\n",
       "      <td>-0.005804</td>\n",
       "      <td>-0.020122</td>\n",
       "      <td>-0.074408</td>\n",
       "      <td>-0.064989</td>\n",
       "      <td>-0.004207</td>\n",
       "    </tr>\n",
       "    <tr>\n",
       "      <th>MinutesOfSleep</th>\n",
       "      <td>0.011485</td>\n",
       "      <td>0.130986</td>\n",
       "      <td>0.129442</td>\n",
       "      <td>0.069464</td>\n",
       "      <td>0.204242</td>\n",
       "      <td>0.105048</td>\n",
       "      <td>0.114950</td>\n",
       "      <td>0.108018</td>\n",
       "      <td>-0.005804</td>\n",
       "      <td>1.000000</td>\n",
       "      <td>...</td>\n",
       "      <td>0.780512</td>\n",
       "      <td>0.997184</td>\n",
       "      <td>0.129442</td>\n",
       "      <td>-0.033913</td>\n",
       "      <td>0.094152</td>\n",
       "      <td>1.000000</td>\n",
       "      <td>0.807964</td>\n",
       "      <td>0.148113</td>\n",
       "      <td>0.095999</td>\n",
       "      <td>-0.127980</td>\n",
       "    </tr>\n",
       "    <tr>\n",
       "      <th>MinutesOfBeingAwake</th>\n",
       "      <td>0.041999</td>\n",
       "      <td>0.124846</td>\n",
       "      <td>0.130447</td>\n",
       "      <td>0.064587</td>\n",
       "      <td>0.200589</td>\n",
       "      <td>0.096107</td>\n",
       "      <td>0.104303</td>\n",
       "      <td>0.116559</td>\n",
       "      <td>0.010859</td>\n",
       "      <td>0.779595</td>\n",
       "      <td>...</td>\n",
       "      <td>0.951817</td>\n",
       "      <td>0.820110</td>\n",
       "      <td>0.130447</td>\n",
       "      <td>0.013195</td>\n",
       "      <td>0.038051</td>\n",
       "      <td>0.779595</td>\n",
       "      <td>0.599178</td>\n",
       "      <td>0.160424</td>\n",
       "      <td>0.131307</td>\n",
       "      <td>-0.112566</td>\n",
       "    </tr>\n",
       "    <tr>\n",
       "      <th>NumberOfAwakings</th>\n",
       "      <td>0.030490</td>\n",
       "      <td>0.106591</td>\n",
       "      <td>0.091095</td>\n",
       "      <td>0.043459</td>\n",
       "      <td>0.178387</td>\n",
       "      <td>0.087150</td>\n",
       "      <td>0.100498</td>\n",
       "      <td>0.099859</td>\n",
       "      <td>0.022757</td>\n",
       "      <td>0.780512</td>\n",
       "      <td>...</td>\n",
       "      <td>1.000000</td>\n",
       "      <td>0.817326</td>\n",
       "      <td>0.091095</td>\n",
       "      <td>0.008669</td>\n",
       "      <td>0.034571</td>\n",
       "      <td>0.780512</td>\n",
       "      <td>0.602739</td>\n",
       "      <td>0.166524</td>\n",
       "      <td>0.129371</td>\n",
       "      <td>-0.097950</td>\n",
       "    </tr>\n",
       "    <tr>\n",
       "      <th>LengthOfRestInMinutes</th>\n",
       "      <td>0.017460</td>\n",
       "      <td>0.133405</td>\n",
       "      <td>0.134550</td>\n",
       "      <td>0.075864</td>\n",
       "      <td>0.208539</td>\n",
       "      <td>0.105406</td>\n",
       "      <td>0.123034</td>\n",
       "      <td>0.115641</td>\n",
       "      <td>-0.004992</td>\n",
       "      <td>0.997184</td>\n",
       "      <td>...</td>\n",
       "      <td>0.817326</td>\n",
       "      <td>1.000000</td>\n",
       "      <td>0.134550</td>\n",
       "      <td>-0.031381</td>\n",
       "      <td>0.088413</td>\n",
       "      <td>0.997184</td>\n",
       "      <td>0.802929</td>\n",
       "      <td>0.155924</td>\n",
       "      <td>0.104498</td>\n",
       "      <td>-0.126111</td>\n",
       "    </tr>\n",
       "    <tr>\n",
       "      <th>Distance_miles</th>\n",
       "      <td>0.292790</td>\n",
       "      <td>0.779678</td>\n",
       "      <td>1.000000</td>\n",
       "      <td>0.382940</td>\n",
       "      <td>0.160632</td>\n",
       "      <td>0.455272</td>\n",
       "      <td>0.348113</td>\n",
       "      <td>0.759310</td>\n",
       "      <td>-0.246853</td>\n",
       "      <td>0.129442</td>\n",
       "      <td>...</td>\n",
       "      <td>0.091095</td>\n",
       "      <td>0.134550</td>\n",
       "      <td>1.000000</td>\n",
       "      <td>-0.056472</td>\n",
       "      <td>0.069438</td>\n",
       "      <td>0.129442</td>\n",
       "      <td>0.126663</td>\n",
       "      <td>0.107858</td>\n",
       "      <td>0.075439</td>\n",
       "      <td>-0.122106</td>\n",
       "    </tr>\n",
       "    <tr>\n",
       "      <th>Days_encoded</th>\n",
       "      <td>-0.041630</td>\n",
       "      <td>-0.024671</td>\n",
       "      <td>-0.056472</td>\n",
       "      <td>-0.243848</td>\n",
       "      <td>-0.069168</td>\n",
       "      <td>0.202433</td>\n",
       "      <td>-0.098541</td>\n",
       "      <td>-0.111718</td>\n",
       "      <td>-0.074707</td>\n",
       "      <td>-0.033913</td>\n",
       "      <td>...</td>\n",
       "      <td>0.008669</td>\n",
       "      <td>-0.031381</td>\n",
       "      <td>-0.056472</td>\n",
       "      <td>1.000000</td>\n",
       "      <td>-0.787990</td>\n",
       "      <td>-0.033913</td>\n",
       "      <td>0.012904</td>\n",
       "      <td>0.043627</td>\n",
       "      <td>0.039621</td>\n",
       "      <td>-0.015019</td>\n",
       "    </tr>\n",
       "    <tr>\n",
       "      <th>Work_or_Weekend</th>\n",
       "      <td>0.064943</td>\n",
       "      <td>0.006498</td>\n",
       "      <td>0.069438</td>\n",
       "      <td>0.296749</td>\n",
       "      <td>0.071185</td>\n",
       "      <td>-0.197896</td>\n",
       "      <td>0.110282</td>\n",
       "      <td>0.103940</td>\n",
       "      <td>0.044292</td>\n",
       "      <td>0.094152</td>\n",
       "      <td>...</td>\n",
       "      <td>0.034571</td>\n",
       "      <td>0.088413</td>\n",
       "      <td>0.069438</td>\n",
       "      <td>-0.787990</td>\n",
       "      <td>1.000000</td>\n",
       "      <td>0.094152</td>\n",
       "      <td>0.032282</td>\n",
       "      <td>0.052073</td>\n",
       "      <td>0.008960</td>\n",
       "      <td>0.009849</td>\n",
       "    </tr>\n",
       "    <tr>\n",
       "      <th>Hours Sleep</th>\n",
       "      <td>0.011485</td>\n",
       "      <td>0.130986</td>\n",
       "      <td>0.129442</td>\n",
       "      <td>0.069464</td>\n",
       "      <td>0.204242</td>\n",
       "      <td>0.105048</td>\n",
       "      <td>0.114950</td>\n",
       "      <td>0.108018</td>\n",
       "      <td>-0.005804</td>\n",
       "      <td>1.000000</td>\n",
       "      <td>...</td>\n",
       "      <td>0.780512</td>\n",
       "      <td>0.997184</td>\n",
       "      <td>0.129442</td>\n",
       "      <td>-0.033913</td>\n",
       "      <td>0.094152</td>\n",
       "      <td>1.000000</td>\n",
       "      <td>0.807964</td>\n",
       "      <td>0.148113</td>\n",
       "      <td>0.095999</td>\n",
       "      <td>-0.127980</td>\n",
       "    </tr>\n",
       "    <tr>\n",
       "      <th>Sleep efficiency</th>\n",
       "      <td>0.040965</td>\n",
       "      <td>0.128463</td>\n",
       "      <td>0.126663</td>\n",
       "      <td>0.057192</td>\n",
       "      <td>0.251996</td>\n",
       "      <td>0.101216</td>\n",
       "      <td>0.092485</td>\n",
       "      <td>0.106693</td>\n",
       "      <td>-0.020122</td>\n",
       "      <td>0.807964</td>\n",
       "      <td>...</td>\n",
       "      <td>0.602739</td>\n",
       "      <td>0.802929</td>\n",
       "      <td>0.126663</td>\n",
       "      <td>0.012904</td>\n",
       "      <td>0.032282</td>\n",
       "      <td>0.807964</td>\n",
       "      <td>1.000000</td>\n",
       "      <td>0.115567</td>\n",
       "      <td>0.069244</td>\n",
       "      <td>-0.118577</td>\n",
       "    </tr>\n",
       "    <tr>\n",
       "      <th>Yesterday_sleep</th>\n",
       "      <td>0.048411</td>\n",
       "      <td>0.089991</td>\n",
       "      <td>0.107858</td>\n",
       "      <td>0.111600</td>\n",
       "      <td>0.069396</td>\n",
       "      <td>0.020973</td>\n",
       "      <td>0.191620</td>\n",
       "      <td>0.120500</td>\n",
       "      <td>-0.074408</td>\n",
       "      <td>0.148113</td>\n",
       "      <td>...</td>\n",
       "      <td>0.166524</td>\n",
       "      <td>0.155924</td>\n",
       "      <td>0.107858</td>\n",
       "      <td>0.043627</td>\n",
       "      <td>0.052073</td>\n",
       "      <td>0.148113</td>\n",
       "      <td>0.115567</td>\n",
       "      <td>1.000000</td>\n",
       "      <td>0.810782</td>\n",
       "      <td>-0.132628</td>\n",
       "    </tr>\n",
       "    <tr>\n",
       "      <th>Yesterday_sleep_efficiency</th>\n",
       "      <td>0.021207</td>\n",
       "      <td>0.083499</td>\n",
       "      <td>0.075439</td>\n",
       "      <td>0.092766</td>\n",
       "      <td>0.058520</td>\n",
       "      <td>0.040472</td>\n",
       "      <td>0.136397</td>\n",
       "      <td>0.073853</td>\n",
       "      <td>-0.064989</td>\n",
       "      <td>0.095999</td>\n",
       "      <td>...</td>\n",
       "      <td>0.129371</td>\n",
       "      <td>0.104498</td>\n",
       "      <td>0.075439</td>\n",
       "      <td>0.039621</td>\n",
       "      <td>0.008960</td>\n",
       "      <td>0.095999</td>\n",
       "      <td>0.069244</td>\n",
       "      <td>0.810782</td>\n",
       "      <td>1.000000</td>\n",
       "      <td>-0.114661</td>\n",
       "    </tr>\n",
       "    <tr>\n",
       "      <th>Months_encoded</th>\n",
       "      <td>0.005841</td>\n",
       "      <td>-0.097077</td>\n",
       "      <td>-0.122106</td>\n",
       "      <td>-0.032347</td>\n",
       "      <td>-0.107068</td>\n",
       "      <td>-0.066958</td>\n",
       "      <td>0.105570</td>\n",
       "      <td>-0.085153</td>\n",
       "      <td>-0.004207</td>\n",
       "      <td>-0.127980</td>\n",
       "      <td>...</td>\n",
       "      <td>-0.097950</td>\n",
       "      <td>-0.126111</td>\n",
       "      <td>-0.122106</td>\n",
       "      <td>-0.015019</td>\n",
       "      <td>0.009849</td>\n",
       "      <td>-0.127980</td>\n",
       "      <td>-0.118577</td>\n",
       "      <td>-0.132628</td>\n",
       "      <td>-0.114661</td>\n",
       "      <td>1.000000</td>\n",
       "    </tr>\n",
       "  </tbody>\n",
       "</table>\n",
       "<p>21 rows × 21 columns</p>\n",
       "</div>"
      ],
      "text/plain": [
       "                            Calorie burned     Steps  Distance    Floors  \\\n",
       "Calorie burned                    1.000000  0.255305  0.292790  0.130757   \n",
       "Steps                             0.255305  1.000000  0.779678  0.306511   \n",
       "Distance                          0.292790  0.779678  1.000000  0.382940   \n",
       "Floors                            0.130757  0.306511  0.382940  1.000000   \n",
       "Minutes Sedentary                 0.125353  0.076906  0.160632  0.057812   \n",
       "Minutes Lightly Active            0.209540  0.393010  0.455272 -0.085992   \n",
       "Minutes Fairly Active             0.188256  0.303244  0.348113  0.278408   \n",
       "Minutes Very Active               0.197881  0.571452  0.759310  0.399503   \n",
       "Activity Calories                -0.130758 -0.160568 -0.246853 -0.155532   \n",
       "MinutesOfSleep                    0.011485  0.130986  0.129442  0.069464   \n",
       "MinutesOfBeingAwake               0.041999  0.124846  0.130447  0.064587   \n",
       "NumberOfAwakings                  0.030490  0.106591  0.091095  0.043459   \n",
       "LengthOfRestInMinutes             0.017460  0.133405  0.134550  0.075864   \n",
       "Distance_miles                    0.292790  0.779678  1.000000  0.382940   \n",
       "Days_encoded                     -0.041630 -0.024671 -0.056472 -0.243848   \n",
       "Work_or_Weekend                   0.064943  0.006498  0.069438  0.296749   \n",
       "Hours Sleep                       0.011485  0.130986  0.129442  0.069464   \n",
       "Sleep efficiency                  0.040965  0.128463  0.126663  0.057192   \n",
       "Yesterday_sleep                   0.048411  0.089991  0.107858  0.111600   \n",
       "Yesterday_sleep_efficiency        0.021207  0.083499  0.075439  0.092766   \n",
       "Months_encoded                    0.005841 -0.097077 -0.122106 -0.032347   \n",
       "\n",
       "                            Minutes Sedentary  Minutes Lightly Active  \\\n",
       "Calorie burned                       0.125353                0.209540   \n",
       "Steps                                0.076906                0.393010   \n",
       "Distance                             0.160632                0.455272   \n",
       "Floors                               0.057812               -0.085992   \n",
       "Minutes Sedentary                    1.000000                0.217021   \n",
       "Minutes Lightly Active               0.217021                1.000000   \n",
       "Minutes Fairly Active                0.084137                0.014288   \n",
       "Minutes Very Active                  0.105963               -0.034425   \n",
       "Activity Calories                   -0.161446               -0.219892   \n",
       "MinutesOfSleep                       0.204242                0.105048   \n",
       "MinutesOfBeingAwake                  0.200589                0.096107   \n",
       "NumberOfAwakings                     0.178387                0.087150   \n",
       "LengthOfRestInMinutes                0.208539                0.105406   \n",
       "Distance_miles                       0.160632                0.455272   \n",
       "Days_encoded                        -0.069168                0.202433   \n",
       "Work_or_Weekend                      0.071185               -0.197896   \n",
       "Hours Sleep                          0.204242                0.105048   \n",
       "Sleep efficiency                     0.251996                0.101216   \n",
       "Yesterday_sleep                      0.069396                0.020973   \n",
       "Yesterday_sleep_efficiency           0.058520                0.040472   \n",
       "Months_encoded                      -0.107068               -0.066958   \n",
       "\n",
       "                            Minutes Fairly Active  Minutes Very Active  \\\n",
       "Calorie burned                           0.188256             0.197881   \n",
       "Steps                                    0.303244             0.571452   \n",
       "Distance                                 0.348113             0.759310   \n",
       "Floors                                   0.278408             0.399503   \n",
       "Minutes Sedentary                        0.084137             0.105963   \n",
       "Minutes Lightly Active                   0.014288            -0.034425   \n",
       "Minutes Fairly Active                    1.000000             0.337839   \n",
       "Minutes Very Active                      0.337839             1.000000   \n",
       "Activity Calories                       -0.204562            -0.187309   \n",
       "MinutesOfSleep                           0.114950             0.108018   \n",
       "MinutesOfBeingAwake                      0.104303             0.116559   \n",
       "NumberOfAwakings                         0.100498             0.099859   \n",
       "LengthOfRestInMinutes                    0.123034             0.115641   \n",
       "Distance_miles                           0.348113             0.759310   \n",
       "Days_encoded                            -0.098541            -0.111718   \n",
       "Work_or_Weekend                          0.110282             0.103940   \n",
       "Hours Sleep                              0.114950             0.108018   \n",
       "Sleep efficiency                         0.092485             0.106693   \n",
       "Yesterday_sleep                          0.191620             0.120500   \n",
       "Yesterday_sleep_efficiency               0.136397             0.073853   \n",
       "Months_encoded                           0.105570            -0.085153   \n",
       "\n",
       "                            Activity Calories  MinutesOfSleep  ...  \\\n",
       "Calorie burned                      -0.130758        0.011485  ...   \n",
       "Steps                               -0.160568        0.130986  ...   \n",
       "Distance                            -0.246853        0.129442  ...   \n",
       "Floors                              -0.155532        0.069464  ...   \n",
       "Minutes Sedentary                   -0.161446        0.204242  ...   \n",
       "Minutes Lightly Active              -0.219892        0.105048  ...   \n",
       "Minutes Fairly Active               -0.204562        0.114950  ...   \n",
       "Minutes Very Active                 -0.187309        0.108018  ...   \n",
       "Activity Calories                    1.000000       -0.005804  ...   \n",
       "MinutesOfSleep                      -0.005804        1.000000  ...   \n",
       "MinutesOfBeingAwake                  0.010859        0.779595  ...   \n",
       "NumberOfAwakings                     0.022757        0.780512  ...   \n",
       "LengthOfRestInMinutes               -0.004992        0.997184  ...   \n",
       "Distance_miles                      -0.246853        0.129442  ...   \n",
       "Days_encoded                        -0.074707       -0.033913  ...   \n",
       "Work_or_Weekend                      0.044292        0.094152  ...   \n",
       "Hours Sleep                         -0.005804        1.000000  ...   \n",
       "Sleep efficiency                    -0.020122        0.807964  ...   \n",
       "Yesterday_sleep                     -0.074408        0.148113  ...   \n",
       "Yesterday_sleep_efficiency          -0.064989        0.095999  ...   \n",
       "Months_encoded                      -0.004207       -0.127980  ...   \n",
       "\n",
       "                            NumberOfAwakings  LengthOfRestInMinutes  \\\n",
       "Calorie burned                      0.030490               0.017460   \n",
       "Steps                               0.106591               0.133405   \n",
       "Distance                            0.091095               0.134550   \n",
       "Floors                              0.043459               0.075864   \n",
       "Minutes Sedentary                   0.178387               0.208539   \n",
       "Minutes Lightly Active              0.087150               0.105406   \n",
       "Minutes Fairly Active               0.100498               0.123034   \n",
       "Minutes Very Active                 0.099859               0.115641   \n",
       "Activity Calories                   0.022757              -0.004992   \n",
       "MinutesOfSleep                      0.780512               0.997184   \n",
       "MinutesOfBeingAwake                 0.951817               0.820110   \n",
       "NumberOfAwakings                    1.000000               0.817326   \n",
       "LengthOfRestInMinutes               0.817326               1.000000   \n",
       "Distance_miles                      0.091095               0.134550   \n",
       "Days_encoded                        0.008669              -0.031381   \n",
       "Work_or_Weekend                     0.034571               0.088413   \n",
       "Hours Sleep                         0.780512               0.997184   \n",
       "Sleep efficiency                    0.602739               0.802929   \n",
       "Yesterday_sleep                     0.166524               0.155924   \n",
       "Yesterday_sleep_efficiency          0.129371               0.104498   \n",
       "Months_encoded                     -0.097950              -0.126111   \n",
       "\n",
       "                            Distance_miles  Days_encoded  Work_or_Weekend  \\\n",
       "Calorie burned                    0.292790     -0.041630         0.064943   \n",
       "Steps                             0.779678     -0.024671         0.006498   \n",
       "Distance                          1.000000     -0.056472         0.069438   \n",
       "Floors                            0.382940     -0.243848         0.296749   \n",
       "Minutes Sedentary                 0.160632     -0.069168         0.071185   \n",
       "Minutes Lightly Active            0.455272      0.202433        -0.197896   \n",
       "Minutes Fairly Active             0.348113     -0.098541         0.110282   \n",
       "Minutes Very Active               0.759310     -0.111718         0.103940   \n",
       "Activity Calories                -0.246853     -0.074707         0.044292   \n",
       "MinutesOfSleep                    0.129442     -0.033913         0.094152   \n",
       "MinutesOfBeingAwake               0.130447      0.013195         0.038051   \n",
       "NumberOfAwakings                  0.091095      0.008669         0.034571   \n",
       "LengthOfRestInMinutes             0.134550     -0.031381         0.088413   \n",
       "Distance_miles                    1.000000     -0.056472         0.069438   \n",
       "Days_encoded                     -0.056472      1.000000        -0.787990   \n",
       "Work_or_Weekend                   0.069438     -0.787990         1.000000   \n",
       "Hours Sleep                       0.129442     -0.033913         0.094152   \n",
       "Sleep efficiency                  0.126663      0.012904         0.032282   \n",
       "Yesterday_sleep                   0.107858      0.043627         0.052073   \n",
       "Yesterday_sleep_efficiency        0.075439      0.039621         0.008960   \n",
       "Months_encoded                   -0.122106     -0.015019         0.009849   \n",
       "\n",
       "                            Hours Sleep  Sleep efficiency  Yesterday_sleep  \\\n",
       "Calorie burned                 0.011485          0.040965         0.048411   \n",
       "Steps                          0.130986          0.128463         0.089991   \n",
       "Distance                       0.129442          0.126663         0.107858   \n",
       "Floors                         0.069464          0.057192         0.111600   \n",
       "Minutes Sedentary              0.204242          0.251996         0.069396   \n",
       "Minutes Lightly Active         0.105048          0.101216         0.020973   \n",
       "Minutes Fairly Active          0.114950          0.092485         0.191620   \n",
       "Minutes Very Active            0.108018          0.106693         0.120500   \n",
       "Activity Calories             -0.005804         -0.020122        -0.074408   \n",
       "MinutesOfSleep                 1.000000          0.807964         0.148113   \n",
       "MinutesOfBeingAwake            0.779595          0.599178         0.160424   \n",
       "NumberOfAwakings               0.780512          0.602739         0.166524   \n",
       "LengthOfRestInMinutes          0.997184          0.802929         0.155924   \n",
       "Distance_miles                 0.129442          0.126663         0.107858   \n",
       "Days_encoded                  -0.033913          0.012904         0.043627   \n",
       "Work_or_Weekend                0.094152          0.032282         0.052073   \n",
       "Hours Sleep                    1.000000          0.807964         0.148113   \n",
       "Sleep efficiency               0.807964          1.000000         0.115567   \n",
       "Yesterday_sleep                0.148113          0.115567         1.000000   \n",
       "Yesterday_sleep_efficiency     0.095999          0.069244         0.810782   \n",
       "Months_encoded                -0.127980         -0.118577        -0.132628   \n",
       "\n",
       "                            Yesterday_sleep_efficiency  Months_encoded  \n",
       "Calorie burned                                0.021207        0.005841  \n",
       "Steps                                         0.083499       -0.097077  \n",
       "Distance                                      0.075439       -0.122106  \n",
       "Floors                                        0.092766       -0.032347  \n",
       "Minutes Sedentary                             0.058520       -0.107068  \n",
       "Minutes Lightly Active                        0.040472       -0.066958  \n",
       "Minutes Fairly Active                         0.136397        0.105570  \n",
       "Minutes Very Active                           0.073853       -0.085153  \n",
       "Activity Calories                            -0.064989       -0.004207  \n",
       "MinutesOfSleep                                0.095999       -0.127980  \n",
       "MinutesOfBeingAwake                           0.131307       -0.112566  \n",
       "NumberOfAwakings                              0.129371       -0.097950  \n",
       "LengthOfRestInMinutes                         0.104498       -0.126111  \n",
       "Distance_miles                                0.075439       -0.122106  \n",
       "Days_encoded                                  0.039621       -0.015019  \n",
       "Work_or_Weekend                               0.008960        0.009849  \n",
       "Hours Sleep                                   0.095999       -0.127980  \n",
       "Sleep efficiency                              0.069244       -0.118577  \n",
       "Yesterday_sleep                               0.810782       -0.132628  \n",
       "Yesterday_sleep_efficiency                    1.000000       -0.114661  \n",
       "Months_encoded                               -0.114661        1.000000  \n",
       "\n",
       "[21 rows x 21 columns]"
      ]
     },
     "execution_count": 103,
     "metadata": {},
     "output_type": "execute_result"
    }
   ],
   "source": [
    "df_new.corr()"
   ]
  },
  {
   "cell_type": "code",
   "execution_count": 104,
   "metadata": {
    "scrolled": true
   },
   "outputs": [
    {
     "data": {
      "text/plain": [
       "<seaborn.axisgrid.FacetGrid at 0x1fb1d170ca0>"
      ]
     },
     "execution_count": 104,
     "metadata": {},
     "output_type": "execute_result"
    },
    {
     "data": {
      "image/png": "[encoded data removed]",
      "text/plain": [
       "<Figure size 360x360 with 1 Axes>"
      ]
     },
     "metadata": {
      "needs_background": "light"
     },
     "output_type": "display_data"
    }
   ],
   "source": [
    "sns.lmplot(data=df_new, x=\"MinutesOfBeingAwake\", y=\"NumberOfAwakings\")"
   ]
  },
  {
   "cell_type": "code",
   "execution_count": 105,
   "metadata": {},
   "outputs": [],
   "source": [
    "Y = df_new[\"MinutesOfBeingAwake\"]\n",
    "X = df_new[\"NumberOfAwakings\"]\n",
    "X = sm.add_constant(X)\n"
   ]
  },
  {
   "cell_type": "code",
   "execution_count": 110,
   "metadata": {},
   "outputs": [
    {
     "name": "stdout",
     "output_type": "stream",
     "text": [
      "<statsmodels.regression.linear_model.OLS object at 0x000001FB1E1AFC40>\n",
      "<statsmodels.regression.linear_model.RegressionResultsWrapper object at 0x000001FB1E1B5B20>\n"
     ]
    },
    {
     "data": {
      "text/html": [
       "<table class=\"simpletable\">\n",
       "<caption>OLS Regression Results</caption>\n",
       "<tr>\n",
       "  <th>Dep. Variable:</th>    <td>MinutesOfBeingAwake</td> <th>  R-squared:         </th> <td>   0.906</td> \n",
       "</tr>\n",
       "<tr>\n",
       "  <th>Model:</th>                    <td>OLS</td>         <th>  Adj. R-squared:    </th> <td>   0.906</td> \n",
       "</tr>\n",
       "<tr>\n",
       "  <th>Method:</th>              <td>Least Squares</td>    <th>  F-statistic:       </th> <td>   3516.</td> \n",
       "</tr>\n",
       "<tr>\n",
       "  <th>Date:</th>              <td>Sat, 07 Nov 2020</td>   <th>  Prob (F-statistic):</th> <td>1.89e-189</td>\n",
       "</tr>\n",
       "<tr>\n",
       "  <th>Time:</th>                  <td>13:13:53</td>       <th>  Log-Likelihood:    </th> <td> -1158.1</td> \n",
       "</tr>\n",
       "<tr>\n",
       "  <th>No. Observations:</th>       <td>   367</td>        <th>  AIC:               </th> <td>   2320.</td> \n",
       "</tr>\n",
       "<tr>\n",
       "  <th>Df Residuals:</th>           <td>   365</td>        <th>  BIC:               </th> <td>   2328.</td> \n",
       "</tr>\n",
       "<tr>\n",
       "  <th>Df Model:</th>               <td>     1</td>        <th>                     </th>     <td> </td>    \n",
       "</tr>\n",
       "<tr>\n",
       "  <th>Covariance Type:</th>       <td>nonrobust</td>      <th>                     </th>     <td> </td>    \n",
       "</tr>\n",
       "</table>\n",
       "<table class=\"simpletable\">\n",
       "<tr>\n",
       "          <td></td>            <th>coef</th>     <th>std err</th>      <th>t</th>      <th>P>|t|</th>  <th>[0.025</th>    <th>0.975]</th>  \n",
       "</tr>\n",
       "<tr>\n",
       "  <th>const</th>            <td>    1.4381</td> <td>    0.538</td> <td>    2.675</td> <td> 0.008</td> <td>    0.381</td> <td>    2.495</td>\n",
       "</tr>\n",
       "<tr>\n",
       "  <th>NumberOfAwakings</th> <td>    1.6405</td> <td>    0.028</td> <td>   59.297</td> <td> 0.000</td> <td>    1.586</td> <td>    1.695</td>\n",
       "</tr>\n",
       "</table>\n",
       "<table class=\"simpletable\">\n",
       "<tr>\n",
       "  <th>Omnibus:</th>       <td>17.535</td> <th>  Durbin-Watson:     </th> <td>   1.830</td>\n",
       "</tr>\n",
       "<tr>\n",
       "  <th>Prob(Omnibus):</th> <td> 0.000</td> <th>  Jarque-Bera (JB):  </th> <td>  31.142</td>\n",
       "</tr>\n",
       "<tr>\n",
       "  <th>Skew:</th>          <td> 0.290</td> <th>  Prob(JB):          </th> <td>1.73e-07</td>\n",
       "</tr>\n",
       "<tr>\n",
       "  <th>Kurtosis:</th>      <td> 4.304</td> <th>  Cond. No.          </th> <td>    35.2</td>\n",
       "</tr>\n",
       "</table><br/><br/>Warnings:<br/>[1] Standard Errors assume that the covariance matrix of the errors is correctly specified."
      ],
      "text/plain": [
       "<class 'statsmodels.iolib.summary.Summary'>\n",
       "\"\"\"\n",
       "                             OLS Regression Results                            \n",
       "===============================================================================\n",
       "Dep. Variable:     MinutesOfBeingAwake   R-squared:                       0.906\n",
       "Model:                             OLS   Adj. R-squared:                  0.906\n",
       "Method:                  Least Squares   F-statistic:                     3516.\n",
       "Date:                 Sat, 07 Nov 2020   Prob (F-statistic):          1.89e-189\n",
       "Time:                         13:13:53   Log-Likelihood:                -1158.1\n",
       "No. Observations:                  367   AIC:                             2320.\n",
       "Df Residuals:                      365   BIC:                             2328.\n",
       "Df Model:                            1                                         \n",
       "Covariance Type:             nonrobust                                         \n",
       "====================================================================================\n",
       "                       coef    std err          t      P>|t|      [0.025      0.975]\n",
       "------------------------------------------------------------------------------------\n",
       "const                1.4381      0.538      2.675      0.008       0.381       2.495\n",
       "NumberOfAwakings     1.6405      0.028     59.297      0.000       1.586       1.695\n",
       "==============================================================================\n",
       "Omnibus:                       17.535   Durbin-Watson:                   1.830\n",
       "Prob(Omnibus):                  0.000   Jarque-Bera (JB):               31.142\n",
       "Skew:                           0.290   Prob(JB):                     1.73e-07\n",
       "Kurtosis:                       4.304   Cond. No.                         35.2\n",
       "==============================================================================\n",
       "\n",
       "Warnings:\n",
       "[1] Standard Errors assume that the covariance matrix of the errors is correctly specified.\n",
       "\"\"\""
      ]
     },
     "execution_count": 110,
     "metadata": {},
     "output_type": "execute_result"
    }
   ],
   "source": [
    "model = sm.OLS(Y, X)\n",
    "print(model)\n",
    "results = model.fit()\n",
    "print(results)\n",
    "results.summary()"
   ]
  },
  {
   "cell_type": "code",
   "execution_count": null,
   "metadata": {},
   "outputs": [],
   "source": [
    "# Y = b0 + b1 * X\n",
    "# [MinutesOfAwake] = 1.4381 + 1.64050*[NumberOfAwakings]\n",
    "# NumberOfAwakings = 5\n",
    "# NumberofAwakings = 9.64\n",
    "\n",
    "# goodness of fit -> how good the prediction is from R-squared to BIC\n",
    "# \n",
    "# Adj R-squared new variable will go down if this new variable is less to do with y\n",
    "# Adj R-squared go up-> new variable is more relevant, Adj R-squared go down-> new variable is less relevant, canbe kicked out"
   ]
  },
  {
   "cell_type": "code",
   "execution_count": 119,
   "metadata": {
    "scrolled": true
   },
   "outputs": [
    {
     "data": {
      "text/plain": [
       "0     -11.228297\n",
       "1      -2.189343\n",
       "2       3.125329\n",
       "3      -4.009213\n",
       "4      -7.272366\n",
       "         ...    \n",
       "362     0.706627\n",
       "363     5.459835\n",
       "364     7.062961\n",
       "365     3.013979\n",
       "366     5.160832\n",
       "Length: 367, dtype: float64"
      ]
     },
     "execution_count": 119,
     "metadata": {},
     "output_type": "execute_result"
    }
   ],
   "source": [
    "Y_pred = results.predict(X)\n",
    "residuals = Y - Y_pred\n",
    "residuals\n"
   ]
  },
  {
   "cell_type": "code",
   "execution_count": 120,
   "metadata": {
    "scrolled": false
   },
   "outputs": [
    {
     "data": {
      "text/plain": [
       "<matplotlib.collections.PathCollection at 0x1fb1e33d460>"
      ]
     },
     "execution_count": 120,
     "metadata": {},
     "output_type": "execute_result"
    },
    {
     "data": {
      "image/png": "[encoded data removed]",
      "text/plain": [
       "<Figure size 432x288 with 1 Axes>"
      ]
     },
     "metadata": {
      "needs_background": "light"
     },
     "output_type": "display_data"
    }
   ],
   "source": [
    "plt.scatter(X[\"NumberOfAwakings\"], residuals)"
   ]
  },
  {
   "cell_type": "code",
   "execution_count": 116,
   "metadata": {},
   "outputs": [
    {
     "data": {
      "text/plain": [
       "<matplotlib.collections.PathCollection at 0x1fb1e29e130>"
      ]
     },
     "execution_count": 116,
     "metadata": {},
     "output_type": "execute_result"
    },
    {
     "data": {
      "image/png": "[encoded data removed]",
      "text/plain": [
       "<Figure size 432x288 with 1 Axes>"
      ]
     },
     "metadata": {
      "needs_background": "light"
     },
     "output_type": "display_data"
    }
   ],
   "source": [
    "plt.scatter(Y, residuals)"
   ]
  },
  {
   "cell_type": "markdown",
   "metadata": {},
   "source": [
    "### Estimating OLS using statsmodel"
   ]
  },
  {
   "cell_type": "code",
   "execution_count": null,
   "metadata": {},
   "outputs": [],
   "source": [
    "# one more assumption: the variable should not be strongly correlated\n",
    "# we analysis look at the one idividually  one variable move (to caculate the coffecient), the rest of variables suppose to be stable\n",
    "# that is why we look at the correlation first\n"
   ]
  },
  {
   "cell_type": "code",
   "execution_count": 115,
   "metadata": {},
   "outputs": [
    {
     "data": {
      "text/html": [
       "<table class=\"simpletable\">\n",
       "<caption>OLS Regression Results</caption>\n",
       "<tr>\n",
       "  <th>Dep. Variable:</th>    <td>MinutesOfBeingAwake</td> <th>  R-squared:         </th> <td>   0.908</td> \n",
       "</tr>\n",
       "<tr>\n",
       "  <th>Model:</th>                    <td>OLS</td>         <th>  Adj. R-squared:    </th> <td>   0.907</td> \n",
       "</tr>\n",
       "<tr>\n",
       "  <th>Method:</th>              <td>Least Squares</td>    <th>  F-statistic:       </th> <td>   1794.</td> \n",
       "</tr>\n",
       "<tr>\n",
       "  <th>Date:</th>              <td>Sat, 07 Nov 2020</td>   <th>  Prob (F-statistic):</th> <td>3.22e-189</td>\n",
       "</tr>\n",
       "<tr>\n",
       "  <th>Time:</th>                  <td>14:06:23</td>       <th>  Log-Likelihood:    </th> <td> -1154.3</td> \n",
       "</tr>\n",
       "<tr>\n",
       "  <th>No. Observations:</th>       <td>   367</td>        <th>  AIC:               </th> <td>   2315.</td> \n",
       "</tr>\n",
       "<tr>\n",
       "  <th>Df Residuals:</th>           <td>   364</td>        <th>  BIC:               </th> <td>   2326.</td> \n",
       "</tr>\n",
       "<tr>\n",
       "  <th>Df Model:</th>               <td>     2</td>        <th>                     </th>     <td> </td>    \n",
       "</tr>\n",
       "<tr>\n",
       "  <th>Covariance Type:</th>       <td>nonrobust</td>      <th>                     </th>     <td> </td>    \n",
       "</tr>\n",
       "</table>\n",
       "<table class=\"simpletable\">\n",
       "<tr>\n",
       "          <td></td>            <th>coef</th>     <th>std err</th>      <th>t</th>      <th>P>|t|</th>  <th>[0.025</th>    <th>0.975]</th>  \n",
       "</tr>\n",
       "<tr>\n",
       "  <th>const</th>            <td>   -0.5001</td> <td>    0.881</td> <td>   -0.567</td> <td> 0.571</td> <td>   -2.233</td> <td>    1.233</td>\n",
       "</tr>\n",
       "<tr>\n",
       "  <th>NumberOfAwakings</th> <td>    1.6336</td> <td>    0.028</td> <td>   59.332</td> <td> 0.000</td> <td>    1.579</td> <td>    1.688</td>\n",
       "</tr>\n",
       "<tr>\n",
       "  <th>Distance_miles</th>   <td>    0.3860</td> <td>    0.140</td> <td>    2.761</td> <td> 0.006</td> <td>    0.111</td> <td>    0.661</td>\n",
       "</tr>\n",
       "</table>\n",
       "<table class=\"simpletable\">\n",
       "<tr>\n",
       "  <th>Omnibus:</th>       <td>17.462</td> <th>  Durbin-Watson:     </th> <td>   1.879</td>\n",
       "</tr>\n",
       "<tr>\n",
       "  <th>Prob(Omnibus):</th> <td> 0.000</td> <th>  Jarque-Bera (JB):  </th> <td>  32.472</td>\n",
       "</tr>\n",
       "<tr>\n",
       "  <th>Skew:</th>          <td> 0.270</td> <th>  Prob(JB):          </th> <td>8.89e-08</td>\n",
       "</tr>\n",
       "<tr>\n",
       "  <th>Kurtosis:</th>      <td> 4.353</td> <th>  Cond. No.          </th> <td>    60.3</td>\n",
       "</tr>\n",
       "</table><br/><br/>Warnings:<br/>[1] Standard Errors assume that the covariance matrix of the errors is correctly specified."
      ],
      "text/plain": [
       "<class 'statsmodels.iolib.summary.Summary'>\n",
       "\"\"\"\n",
       "                             OLS Regression Results                            \n",
       "===============================================================================\n",
       "Dep. Variable:     MinutesOfBeingAwake   R-squared:                       0.908\n",
       "Model:                             OLS   Adj. R-squared:                  0.907\n",
       "Method:                  Least Squares   F-statistic:                     1794.\n",
       "Date:                 Sat, 07 Nov 2020   Prob (F-statistic):          3.22e-189\n",
       "Time:                         14:06:23   Log-Likelihood:                -1154.3\n",
       "No. Observations:                  367   AIC:                             2315.\n",
       "Df Residuals:                      364   BIC:                             2326.\n",
       "Df Model:                            2                                         \n",
       "Covariance Type:             nonrobust                                         \n",
       "====================================================================================\n",
       "                       coef    std err          t      P>|t|      [0.025      0.975]\n",
       "------------------------------------------------------------------------------------\n",
       "const               -0.5001      0.881     -0.567      0.571      -2.233       1.233\n",
       "NumberOfAwakings     1.6336      0.028     59.332      0.000       1.579       1.688\n",
       "Distance_miles       0.3860      0.140      2.761      0.006       0.111       0.661\n",
       "==============================================================================\n",
       "Omnibus:                       17.462   Durbin-Watson:                   1.879\n",
       "Prob(Omnibus):                  0.000   Jarque-Bera (JB):               32.472\n",
       "Skew:                           0.270   Prob(JB):                     8.89e-08\n",
       "Kurtosis:                       4.353   Cond. No.                         60.3\n",
       "==============================================================================\n",
       "\n",
       "Warnings:\n",
       "[1] Standard Errors assume that the covariance matrix of the errors is correctly specified.\n",
       "\"\"\""
      ]
     },
     "execution_count": 115,
     "metadata": {},
     "output_type": "execute_result"
    }
   ],
   "source": [
    "Y = df_new[\"MinutesOfBeingAwake\"]\n",
    "X = df_new[[\"NumberOfAwakings\", \"Distance_miles\"]]\n",
    "X = sm.add_constant(X)\n",
    "model = sm.OLS(Y, X)\n",
    "results = model.fit()\n",
    "results.summary()"
   ]
  },
  {
   "cell_type": "code",
   "execution_count": null,
   "metadata": {},
   "outputs": [],
   "source": [
    "# std err = std.dev / sqrt(n)\n",
    "# t = coef / std err\n",
    "# R-squared 0,906 smaller model is better??\n",
    "# std err smaller means more presicion\n",
    "# the chance we are seeing the relationshp of this co\n",
    "# P>|t| hypothesse\n",
    "# hypothese is our model is crab, the probability is very low <5% , reject the hypothese\n",
    "# coef is the correlation between Y and X\n",
    "# you don't want high correlation between X1 and X2"
   ]
  },
  {
   "cell_type": "code",
   "execution_count": null,
   "metadata": {},
   "outputs": [],
   "source": []
  },
  {
   "cell_type": "code",
   "execution_count": null,
   "metadata": {},
   "outputs": [],
   "source": []
  },
  {
   "cell_type": "code",
   "execution_count": null,
   "metadata": {},
   "outputs": [],
   "source": []
  }
 ],
 "metadata": {
  "kernelspec": {
   "display_name": "Python 3",
   "language": "python",
   "name": "python3"
  },
  "language_info": {
   "codemirror_mode": {
    "name": "ipython",
    "version": 3
   },
   "file_extension": ".py",
   "mimetype": "text/x-python",
   "name": "python",
   "nbconvert_exporter": "python",
   "pygments_lexer": "ipython3",
   "version": "3.8.3"
  }
 },
 "nbformat": 4,
 "nbformat_minor": 4
}
