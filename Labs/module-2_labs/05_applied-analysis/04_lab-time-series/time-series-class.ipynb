{
 "cells": [
  {
   "cell_type": "code",
<<<<<<< HEAD
   "execution_count": 1,
=======
   "execution_count": 101,
>>>>>>> ec6422640a3ab4be8f661f8558e05def21483da8
   "metadata": {},
   "outputs": [],
   "source": [
    "import numpy as np\n",
    "import pandas as pd\n",
    "import statsmodels.api as sm\n",
    "import matplotlib.pyplot as plt"
   ]
  },
  {
   "cell_type": "code",
<<<<<<< HEAD
   "execution_count": 2,
=======
   "execution_count": 102,
>>>>>>> ec6422640a3ab4be8f661f8558e05def21483da8
   "metadata": {},
   "outputs": [
    {
     "data": {
      "text/html": [
       "<div>\n",
       "<style scoped>\n",
       "    .dataframe tbody tr th:only-of-type {\n",
       "        vertical-align: middle;\n",
       "    }\n",
       "\n",
       "    .dataframe tbody tr th {\n",
       "        vertical-align: top;\n",
       "    }\n",
       "\n",
       "    .dataframe thead th {\n",
       "        text-align: right;\n",
       "    }\n",
       "</style>\n",
       "<table border=\"1\" class=\"dataframe\">\n",
       "  <thead>\n",
       "    <tr style=\"text-align: right;\">\n",
       "      <th></th>\n",
       "      <th>date</th>\n",
       "      <th>Temperature</th>\n",
       "      <th>Humidity</th>\n",
       "      <th>Light</th>\n",
       "      <th>CO2</th>\n",
       "      <th>HumidityRatio</th>\n",
       "      <th>Occupancy</th>\n",
       "    </tr>\n",
       "  </thead>\n",
       "  <tbody>\n",
       "    <tr>\n",
       "      <th>0</th>\n",
       "      <td>2/2/2015 14:00</td>\n",
       "      <td>23.7000</td>\n",
       "      <td>26.272</td>\n",
       "      <td>585.200000</td>\n",
       "      <td>749.200000</td>\n",
       "      <td>0.004764</td>\n",
       "      <td>1</td>\n",
       "    </tr>\n",
       "    <tr>\n",
       "      <th>1</th>\n",
       "      <td>2/2/2015 15:00</td>\n",
       "      <td>23.7180</td>\n",
       "      <td>26.290</td>\n",
       "      <td>578.400000</td>\n",
       "      <td>760.400000</td>\n",
       "      <td>0.004773</td>\n",
       "      <td>1</td>\n",
       "    </tr>\n",
       "    <tr>\n",
       "      <th>2</th>\n",
       "      <td>2/2/2015 16:00</td>\n",
       "      <td>23.7300</td>\n",
       "      <td>26.230</td>\n",
       "      <td>572.666667</td>\n",
       "      <td>769.666667</td>\n",
       "      <td>0.004765</td>\n",
       "      <td>1</td>\n",
       "    </tr>\n",
       "    <tr>\n",
       "      <th>3</th>\n",
       "      <td>2/2/2015 17:00</td>\n",
       "      <td>23.7225</td>\n",
       "      <td>26.125</td>\n",
       "      <td>493.750000</td>\n",
       "      <td>774.750000</td>\n",
       "      <td>0.004744</td>\n",
       "      <td>1</td>\n",
       "    </tr>\n",
       "    <tr>\n",
       "      <th>4</th>\n",
       "      <td>2/2/2015 18:00</td>\n",
       "      <td>23.7540</td>\n",
       "      <td>26.200</td>\n",
       "      <td>488.600000</td>\n",
       "      <td>779.000000</td>\n",
       "      <td>0.004767</td>\n",
       "      <td>1</td>\n",
       "    </tr>\n",
       "  </tbody>\n",
       "</table>\n",
       "</div>"
      ],
      "text/plain": [
       "             date  Temperature  Humidity       Light         CO2  \\\n",
       "0  2/2/2015 14:00      23.7000    26.272  585.200000  749.200000   \n",
       "1  2/2/2015 15:00      23.7180    26.290  578.400000  760.400000   \n",
       "2  2/2/2015 16:00      23.7300    26.230  572.666667  769.666667   \n",
       "3  2/2/2015 17:00      23.7225    26.125  493.750000  774.750000   \n",
       "4  2/2/2015 18:00      23.7540    26.200  488.600000  779.000000   \n",
       "\n",
       "   HumidityRatio  Occupancy  \n",
       "0       0.004764          1  \n",
       "1       0.004773          1  \n",
       "2       0.004765          1  \n",
       "3       0.004744          1  \n",
       "4       0.004767          1  "
      ]
     },
<<<<<<< HEAD
     "execution_count": 2,
=======
     "execution_count": 102,
>>>>>>> ec6422640a3ab4be8f661f8558e05def21483da8
     "metadata": {},
     "output_type": "execute_result"
    }
   ],
   "source": [
    "df = pd.read_csv('https://s3-eu-west-1.amazonaws.com/ih-materials/uploads/data-static/data/module-2/occupancy.csv')\n",
    "df.head()"
   ]
  },
  {
   "cell_type": "code",
<<<<<<< HEAD
   "execution_count": 3,
=======
   "execution_count": 103,
>>>>>>> ec6422640a3ab4be8f661f8558e05def21483da8
   "metadata": {},
   "outputs": [
    {
     "data": {
      "text/plain": [
       "0        2/2/2015 14:00\n",
       "1        2/2/2015 15:00\n",
       "2        2/2/2015 16:00\n",
       "3        2/2/2015 17:00\n",
       "4        2/2/2015 18:00\n",
       "             ...       \n",
       "2659     5/24/2015 9:00\n",
       "2660    5/24/2015 10:00\n",
       "2661    5/24/2015 11:00\n",
       "2662    5/24/2015 12:00\n",
       "2663    5/24/2015 13:00\n",
       "Name: date, Length: 2664, dtype: object"
      ]
     },
<<<<<<< HEAD
     "execution_count": 3,
=======
     "execution_count": 103,
>>>>>>> ec6422640a3ab4be8f661f8558e05def21483da8
     "metadata": {},
     "output_type": "execute_result"
    }
   ],
   "source": [
    "df['date']"
   ]
  },
  {
   "cell_type": "markdown",
   "metadata": {},
   "source": [
    "### Declaring the date variable as a datetime object"
   ]
  },
  {
   "cell_type": "code",
<<<<<<< HEAD
   "execution_count": 4,
=======
   "execution_count": 104,
>>>>>>> ec6422640a3ab4be8f661f8558e05def21483da8
   "metadata": {},
   "outputs": [
    {
     "data": {
      "text/plain": [
       "0      2015-02-02 14:00:00\n",
       "1      2015-02-02 15:00:00\n",
       "2      2015-02-02 16:00:00\n",
       "3      2015-02-02 17:00:00\n",
       "4      2015-02-02 18:00:00\n",
       "               ...        \n",
       "2659   2015-05-24 09:00:00\n",
       "2660   2015-05-24 10:00:00\n",
       "2661   2015-05-24 11:00:00\n",
       "2662   2015-05-24 12:00:00\n",
       "2663   2015-05-24 13:00:00\n",
       "Name: date, Length: 2664, dtype: datetime64[ns]"
      ]
     },
<<<<<<< HEAD
     "execution_count": 4,
=======
     "execution_count": 104,
>>>>>>> ec6422640a3ab4be8f661f8558e05def21483da8
     "metadata": {},
     "output_type": "execute_result"
    }
   ],
   "source": [
    "df['date'] = pd.to_datetime(df['date'])\n",
    "df['date']"
   ]
  },
  {
   "cell_type": "code",
<<<<<<< HEAD
   "execution_count": 5,
   "metadata": {},
   "outputs": [],
   "source": [
    "# if there is difficult to deal with the data, we can use regular expresion "
   ]
  },
  {
   "cell_type": "code",
   "execution_count": 6,
=======
   "execution_count": 105,
>>>>>>> ec6422640a3ab4be8f661f8558e05def21483da8
   "metadata": {},
   "outputs": [
    {
     "name": "stdout",
     "output_type": "stream",
     "text": [
      "2015-07-04 00:00:00\n",
      "2001-11-09 00:00:00\n",
      "2019-02-02 15:32:00\n"
     ]
    }
   ],
   "source": [
    "print(pd.to_datetime(\"4th of July, 2015\"))\n",
    "print(pd.to_datetime(\"Nov 9 2001\"))\n",
    "print(pd.to_datetime(\"February 2nd 2019 15:32\"))"
   ]
  },
  {
   "cell_type": "markdown",
   "metadata": {},
   "source": [
    "Formatting options for datetime objects: https://strftime.org/"
   ]
  },
  {
   "cell_type": "code",
<<<<<<< HEAD
   "execution_count": 7,
=======
   "execution_count": 106,
>>>>>>> ec6422640a3ab4be8f661f8558e05def21483da8
   "metadata": {},
   "outputs": [
    {
     "data": {
      "text/plain": [
       "'Sat Feb  2 15:32:00 2019'"
      ]
     },
<<<<<<< HEAD
     "execution_count": 7,
=======
     "execution_count": 106,
>>>>>>> ec6422640a3ab4be8f661f8558e05def21483da8
     "metadata": {},
     "output_type": "execute_result"
    }
   ],
   "source": [
    "pd.to_datetime(\"February 2nd 2019 15:32\").strftime('%B')\n",
    "pd.to_datetime(\"February 2nd 2019 15:32\").strftime('%c')"
   ]
  },
  {
   "cell_type": "markdown",
   "metadata": {},
   "source": [
    "### Setting a time index"
   ]
  },
  {
   "cell_type": "code",
<<<<<<< HEAD
   "execution_count": 8,
=======
   "execution_count": 107,
>>>>>>> ec6422640a3ab4be8f661f8558e05def21483da8
   "metadata": {},
   "outputs": [
    {
     "data": {
      "text/plain": [
<<<<<<< HEAD
       "[<matplotlib.lines.Line2D at 0x22b3e162460>]"
      ]
     },
     "execution_count": 8,
=======
       "[<matplotlib.lines.Line2D at 0x1248832b0>]"
      ]
     },
     "execution_count": 107,
>>>>>>> ec6422640a3ab4be8f661f8558e05def21483da8
     "metadata": {},
     "output_type": "execute_result"
    },
    {
     "data": {
<<<<<<< HEAD
      "image/png": "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\n",
      "text/plain": [
       "<Figure size 432x288 with 1 Axes>"
=======
      "image/png": "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\n",
      "text/plain": [
       "<Figure size 864x432 with 1 Axes>"
>>>>>>> ec6422640a3ab4be8f661f8558e05def21483da8
      ]
     },
     "metadata": {
      "needs_background": "light"
     },
     "output_type": "display_data"
    }
   ],
   "source": [
    "# Without the date index\n",
    "# resizing all of the plots: \n",
    "# plt.rcParams['figure.figsize'] = (12, 6)\n",
    "plt.plot(df['Humidity'])"
   ]
  },
  {
   "cell_type": "code",
<<<<<<< HEAD
   "execution_count": 9,
   "metadata": {},
   "outputs": [
    {
     "data": {
      "text/plain": [
       "RangeIndex(start=0, stop=2664, step=1)"
      ]
     },
     "execution_count": 9,
     "metadata": {},
     "output_type": "execute_result"
    }
   ],
   "source": [
    "df.index"
   ]
  },
  {
   "cell_type": "code",
   "execution_count": 10,
=======
   "execution_count": 108,
>>>>>>> ec6422640a3ab4be8f661f8558e05def21483da8
   "metadata": {},
   "outputs": [
    {
     "data": {
      "text/plain": [
       "DatetimeIndex(['2015-02-02 14:00:00', '2015-02-02 15:00:00',\n",
       "               '2015-02-02 16:00:00', '2015-02-02 17:00:00',\n",
       "               '2015-02-02 18:00:00', '2015-02-02 19:00:00',\n",
       "               '2015-02-02 20:00:00', '2015-02-02 21:00:00',\n",
       "               '2015-02-02 22:00:00', '2015-02-02 23:00:00',\n",
       "               ...\n",
       "               '2015-05-24 04:00:00', '2015-05-24 05:00:00',\n",
       "               '2015-05-24 06:00:00', '2015-05-24 07:00:00',\n",
       "               '2015-05-24 08:00:00', '2015-05-24 09:00:00',\n",
       "               '2015-05-24 10:00:00', '2015-05-24 11:00:00',\n",
       "               '2015-05-24 12:00:00', '2015-05-24 13:00:00'],\n",
       "              dtype='datetime64[ns]', name='date', length=2664, freq='H')"
      ]
     },
<<<<<<< HEAD
     "execution_count": 10,
=======
     "execution_count": 108,
>>>>>>> ec6422640a3ab4be8f661f8558e05def21483da8
     "metadata": {},
     "output_type": "execute_result"
    }
   ],
   "source": [
    "df.index = pd.DatetimeIndex(df['date'], freq='H')\n",
    "df.index"
   ]
  },
  {
   "cell_type": "code",
<<<<<<< HEAD
   "execution_count": 11,
=======
   "execution_count": 109,
>>>>>>> ec6422640a3ab4be8f661f8558e05def21483da8
   "metadata": {},
   "outputs": [
    {
     "data": {
<<<<<<< HEAD
      "text/html": [
       "<div>\n",
       "<style scoped>\n",
       "    .dataframe tbody tr th:only-of-type {\n",
       "        vertical-align: middle;\n",
       "    }\n",
       "\n",
       "    .dataframe tbody tr th {\n",
       "        vertical-align: top;\n",
       "    }\n",
       "\n",
       "    .dataframe thead th {\n",
       "        text-align: right;\n",
       "    }\n",
       "</style>\n",
       "<table border=\"1\" class=\"dataframe\">\n",
       "  <thead>\n",
       "    <tr style=\"text-align: right;\">\n",
       "      <th></th>\n",
       "      <th>date</th>\n",
       "      <th>Temperature</th>\n",
       "      <th>Humidity</th>\n",
       "      <th>Light</th>\n",
       "      <th>CO2</th>\n",
       "      <th>HumidityRatio</th>\n",
       "      <th>Occupancy</th>\n",
       "    </tr>\n",
       "    <tr>\n",
       "      <th>date</th>\n",
       "      <th></th>\n",
       "      <th></th>\n",
       "      <th></th>\n",
       "      <th></th>\n",
       "      <th></th>\n",
       "      <th></th>\n",
       "      <th></th>\n",
       "    </tr>\n",
       "  </thead>\n",
       "  <tbody>\n",
       "    <tr>\n",
       "      <th>2015-02-02 14:00:00</th>\n",
       "      <td>2015-02-02 14:00:00</td>\n",
       "      <td>23.7000</td>\n",
       "      <td>26.272</td>\n",
       "      <td>585.200000</td>\n",
       "      <td>749.200000</td>\n",
       "      <td>0.004764</td>\n",
       "      <td>1</td>\n",
       "    </tr>\n",
       "    <tr>\n",
       "      <th>2015-02-02 15:00:00</th>\n",
       "      <td>2015-02-02 15:00:00</td>\n",
       "      <td>23.7180</td>\n",
       "      <td>26.290</td>\n",
       "      <td>578.400000</td>\n",
       "      <td>760.400000</td>\n",
       "      <td>0.004773</td>\n",
       "      <td>1</td>\n",
       "    </tr>\n",
       "    <tr>\n",
       "      <th>2015-02-02 16:00:00</th>\n",
       "      <td>2015-02-02 16:00:00</td>\n",
       "      <td>23.7300</td>\n",
       "      <td>26.230</td>\n",
       "      <td>572.666667</td>\n",
       "      <td>769.666667</td>\n",
       "      <td>0.004765</td>\n",
       "      <td>1</td>\n",
       "    </tr>\n",
       "    <tr>\n",
       "      <th>2015-02-02 17:00:00</th>\n",
       "      <td>2015-02-02 17:00:00</td>\n",
       "      <td>23.7225</td>\n",
       "      <td>26.125</td>\n",
       "      <td>493.750000</td>\n",
       "      <td>774.750000</td>\n",
       "      <td>0.004744</td>\n",
       "      <td>1</td>\n",
       "    </tr>\n",
       "    <tr>\n",
       "      <th>2015-02-02 18:00:00</th>\n",
       "      <td>2015-02-02 18:00:00</td>\n",
       "      <td>23.7540</td>\n",
       "      <td>26.200</td>\n",
       "      <td>488.600000</td>\n",
       "      <td>779.000000</td>\n",
       "      <td>0.004767</td>\n",
       "      <td>1</td>\n",
       "    </tr>\n",
       "  </tbody>\n",
       "</table>\n",
       "</div>"
      ],
      "text/plain": [
       "                                   date  Temperature  Humidity       Light  \\\n",
       "date                                                                         \n",
       "2015-02-02 14:00:00 2015-02-02 14:00:00      23.7000    26.272  585.200000   \n",
       "2015-02-02 15:00:00 2015-02-02 15:00:00      23.7180    26.290  578.400000   \n",
       "2015-02-02 16:00:00 2015-02-02 16:00:00      23.7300    26.230  572.666667   \n",
       "2015-02-02 17:00:00 2015-02-02 17:00:00      23.7225    26.125  493.750000   \n",
       "2015-02-02 18:00:00 2015-02-02 18:00:00      23.7540    26.200  488.600000   \n",
       "\n",
       "                            CO2  HumidityRatio  Occupancy  \n",
       "date                                                       \n",
       "2015-02-02 14:00:00  749.200000       0.004764          1  \n",
       "2015-02-02 15:00:00  760.400000       0.004773          1  \n",
       "2015-02-02 16:00:00  769.666667       0.004765          1  \n",
       "2015-02-02 17:00:00  774.750000       0.004744          1  \n",
       "2015-02-02 18:00:00  779.000000       0.004767          1  "
      ]
     },
     "execution_count": 11,
     "metadata": {},
     "output_type": "execute_result"
    }
   ],
   "source": [
    "df.head()"
   ]
  },
  {
   "cell_type": "code",
   "execution_count": 12,
   "metadata": {},
   "outputs": [
    {
     "data": {
      "image/png": "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\n",
      "text/plain": [
       "<Figure size 432x288 with 1 Axes>"
=======
      "text/plain": [
       "[<matplotlib.lines.Line2D at 0x1249ba100>]"
      ]
     },
     "execution_count": 109,
     "metadata": {},
     "output_type": "execute_result"
    },
    {
     "data": {
      "image/png": "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\n",
      "text/plain": [
       "<Figure size 864x432 with 1 Axes>"
>>>>>>> ec6422640a3ab4be8f661f8558e05def21483da8
      ]
     },
     "metadata": {
      "needs_background": "light"
     },
     "output_type": "display_data"
    }
   ],
   "source": [
    "plt.plot(df['Humidity'])\n",
    "plt.rcParams['figure.figsize'] = (15, 6)\n",
    "# the above the code just need to be once in the notebook, the whole notebook will have the same size."
   ]
  },
  {
   "cell_type": "markdown",
   "metadata": {},
   "source": [
    "### Changing the frequency of the data (Resampling)"
   ]
  },
  {
   "cell_type": "code",
   "execution_count": 13,
   "metadata": {
    "scrolled": false
   },
   "outputs": [
    {
     "data": {
      "text/plain": [
       "date\n",
       "2015-02-08    27.529601\n",
       "2015-02-15    24.591775\n",
       "2015-02-22    23.049012\n",
       "2015-03-01    22.288259\n",
       "2015-03-08    22.308055\n",
       "2015-03-15    22.601635\n",
       "2015-03-22    24.315943\n",
       "2015-03-29    27.812716\n",
       "2015-04-05    26.966913\n",
       "2015-04-12    30.874330\n",
       "2015-04-19    28.281236\n",
       "2015-04-26    25.749650\n",
       "2015-05-03    24.996242\n",
       "2015-05-10    24.668289\n",
       "2015-05-17    24.174230\n",
       "2015-05-24    25.638685\n",
       "Freq: W-SUN, Name: Humidity, dtype: float64"
      ]
     },
     "execution_count": 13,
     "metadata": {},
     "output_type": "execute_result"
    }
   ],
   "source": [
    "df['Humidity'].resample('W').mean()"
   ]
  },
  {
   "cell_type": "code",
   "execution_count": 14,
   "metadata": {},
   "outputs": [],
   "source": [
    "# wide format vs long format\n",
    "# jan 1st boston NY\n",
    "# jan 2nd boston NY\n",
    "# jan 3th bosten NY"
   ]
  },
  {
   "cell_type": "markdown",
   "metadata": {},
   "source": [
    "Options for resampling frequency:\n",
    "    \n",
    "- B       business day frequency\n",
    "- C       custom business day frequency (experimental)\n",
    "- D       calendar day frequency\n",
    "- W       weekly frequency\n",
    "- M       month end frequency\n",
    "- SM      semi-month end frequency (15th and end of month)\n",
    "- Q       quarter end frequency\n",
    "- A       year end frequency\n",
    "- H       hourly frequency\n",
    "- T       minutely frequency\n",
    "- S       secondly frequency\n",
    "- L       milliseonds\n",
    "- U       microseconds\n",
    "- N       nanoseconds\n",
    "- and more!"
   ]
  },
  {
   "cell_type": "code",
   "execution_count": 15,
   "metadata": {
    "scrolled": true
   },
   "outputs": [
    {
     "data": {
      "text/plain": [
       "date\n",
       "2015-02-28    24.374582\n",
       "2015-03-31    24.325819\n",
       "2015-04-30    27.677441\n",
       "2015-05-31    24.842351\n",
       "Freq: M, Name: Humidity, dtype: float64"
      ]
     },
     "execution_count": 15,
     "metadata": {},
     "output_type": "execute_result"
    }
   ],
   "source": [
    "df['Humidity'].resample('M').mean()"
   ]
  },
  {
   "cell_type": "code",
   "execution_count": 16,
   "metadata": {},
   "outputs": [
    {
     "data": {
      "text/plain": [
       "[<matplotlib.lines.Line2D at 0x22b3e272160>]"
      ]
     },
     "execution_count": 16,
     "metadata": {},
     "output_type": "execute_result"
    },
    {
     "data": {
      "image/png": "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\n",
      "text/plain": [
       "<Figure size 1080x432 with 1 Axes>"
      ]
     },
     "metadata": {
      "needs_background": "light"
     },
     "output_type": "display_data"
    }
   ],
   "source": [
    "plt.plot(df['Humidity'].resample('D').mean())"
   ]
  },
  {
   "cell_type": "markdown",
   "metadata": {},
   "source": [
    "## First Differencing your data"
   ]
  },
  {
   "cell_type": "code",
   "execution_count": 17,
   "metadata": {},
   "outputs": [
    {
     "data": {
      "text/plain": [
       "date\n",
       "2015-02-02 14:00:00         NaN\n",
       "2015-02-02 15:00:00    0.018000\n",
       "2015-02-02 16:00:00   -0.060000\n",
       "2015-02-02 17:00:00   -0.105000\n",
       "2015-02-02 18:00:00    0.075000\n",
       "                         ...   \n",
       "2015-05-24 09:00:00   -0.152000\n",
       "2015-05-24 10:00:00    0.036000\n",
       "2015-05-24 11:00:00   -0.036000\n",
       "2015-05-24 12:00:00    0.000000\n",
       "2015-05-24 13:00:00   -0.018333\n",
       "Freq: H, Name: Humidity, Length: 2664, dtype: float64"
      ]
     },
     "execution_count": 17,
     "metadata": {},
     "output_type": "execute_result"
    }
   ],
   "source": [
    "df[\"Humidity\"].diff()\n",
    "# one does not know the first number\n",
    "# computing value x(t) - x(t-1)"
   ]
  },
  {
   "cell_type": "code",
   "execution_count": 18,
   "metadata": {},
   "outputs": [
    {
     "data": {
      "text/html": [
       "<div>\n",
       "<style scoped>\n",
       "    .dataframe tbody tr th:only-of-type {\n",
       "        vertical-align: middle;\n",
       "    }\n",
       "\n",
       "    .dataframe tbody tr th {\n",
       "        vertical-align: top;\n",
       "    }\n",
       "\n",
       "    .dataframe thead th {\n",
       "        text-align: right;\n",
       "    }\n",
       "</style>\n",
       "<table border=\"1\" class=\"dataframe\">\n",
       "  <thead>\n",
       "    <tr style=\"text-align: right;\">\n",
       "      <th></th>\n",
       "      <th>date</th>\n",
       "      <th>Temperature</th>\n",
       "      <th>Humidity</th>\n",
       "      <th>Light</th>\n",
       "      <th>CO2</th>\n",
       "      <th>HumidityRatio</th>\n",
       "      <th>Occupancy</th>\n",
       "      <th>Humidity_diff</th>\n",
       "    </tr>\n",
       "    <tr>\n",
       "      <th>date</th>\n",
       "      <th></th>\n",
       "      <th></th>\n",
       "      <th></th>\n",
       "      <th></th>\n",
       "      <th></th>\n",
       "      <th></th>\n",
       "      <th></th>\n",
       "      <th></th>\n",
       "    </tr>\n",
       "  </thead>\n",
       "  <tbody>\n",
       "    <tr>\n",
       "      <th>2015-02-02 15:00:00</th>\n",
       "      <td>2015-02-02 15:00:00</td>\n",
       "      <td>23.7180</td>\n",
       "      <td>26.290</td>\n",
       "      <td>578.400000</td>\n",
       "      <td>760.400000</td>\n",
       "      <td>0.004773</td>\n",
       "      <td>1</td>\n",
       "      <td>0.018</td>\n",
       "    </tr>\n",
       "    <tr>\n",
       "      <th>2015-02-02 16:00:00</th>\n",
       "      <td>2015-02-02 16:00:00</td>\n",
       "      <td>23.7300</td>\n",
       "      <td>26.230</td>\n",
       "      <td>572.666667</td>\n",
       "      <td>769.666667</td>\n",
       "      <td>0.004765</td>\n",
       "      <td>1</td>\n",
       "      <td>-0.060</td>\n",
       "    </tr>\n",
       "    <tr>\n",
       "      <th>2015-02-02 17:00:00</th>\n",
       "      <td>2015-02-02 17:00:00</td>\n",
       "      <td>23.7225</td>\n",
       "      <td>26.125</td>\n",
       "      <td>493.750000</td>\n",
       "      <td>774.750000</td>\n",
       "      <td>0.004744</td>\n",
       "      <td>1</td>\n",
       "      <td>-0.105</td>\n",
       "    </tr>\n",
       "    <tr>\n",
       "      <th>2015-02-02 18:00:00</th>\n",
       "      <td>2015-02-02 18:00:00</td>\n",
       "      <td>23.7540</td>\n",
       "      <td>26.200</td>\n",
       "      <td>488.600000</td>\n",
       "      <td>779.000000</td>\n",
       "      <td>0.004767</td>\n",
       "      <td>1</td>\n",
       "      <td>0.075</td>\n",
       "    </tr>\n",
       "    <tr>\n",
       "      <th>2015-02-02 19:00:00</th>\n",
       "      <td>2015-02-02 19:00:00</td>\n",
       "      <td>23.7600</td>\n",
       "      <td>26.260</td>\n",
       "      <td>568.666667</td>\n",
       "      <td>790.000000</td>\n",
       "      <td>0.004779</td>\n",
       "      <td>1</td>\n",
       "      <td>0.060</td>\n",
       "    </tr>\n",
       "  </tbody>\n",
       "</table>\n",
       "</div>"
      ],
      "text/plain": [
       "                                   date  Temperature  Humidity       Light  \\\n",
       "date                                                                         \n",
       "2015-02-02 15:00:00 2015-02-02 15:00:00      23.7180    26.290  578.400000   \n",
       "2015-02-02 16:00:00 2015-02-02 16:00:00      23.7300    26.230  572.666667   \n",
       "2015-02-02 17:00:00 2015-02-02 17:00:00      23.7225    26.125  493.750000   \n",
       "2015-02-02 18:00:00 2015-02-02 18:00:00      23.7540    26.200  488.600000   \n",
       "2015-02-02 19:00:00 2015-02-02 19:00:00      23.7600    26.260  568.666667   \n",
       "\n",
       "                            CO2  HumidityRatio  Occupancy  Humidity_diff  \n",
       "date                                                                      \n",
       "2015-02-02 15:00:00  760.400000       0.004773          1          0.018  \n",
       "2015-02-02 16:00:00  769.666667       0.004765          1         -0.060  \n",
       "2015-02-02 17:00:00  774.750000       0.004744          1         -0.105  \n",
       "2015-02-02 18:00:00  779.000000       0.004767          1          0.075  \n",
       "2015-02-02 19:00:00  790.000000       0.004779          1          0.060  "
      ]
     },
     "execution_count": 18,
     "metadata": {},
     "output_type": "execute_result"
    }
   ],
   "source": [
    "df['Humidity_diff'] = df['Humidity'].diff()\n",
    "# print(df)\n",
    "df.dropna(inplace = True)\n",
    "df.head()"
   ]
  },
  {
   "cell_type": "markdown",
   "metadata": {},
   "source": [
    "## Decomposing Time Series data"
   ]
  },
  {
   "cell_type": "code",
   "execution_count": null,
   "metadata": {},
   "outputs": [],
   "source": []
  },
  {
   "cell_type": "code",
   "execution_count": 19,
   "metadata": {},
   "outputs": [
    {
     "data": {
      "image/png": "iVBORw0KGgoAAAANSUhEUgAABDAAAAGoCAYAAACwmRWfAAAABHNCSVQICAgIfAhkiAAAAAlwSFlzAAALEgAACxIB0t1+/AAAADh0RVh0U29mdHdhcmUAbWF0cGxvdGxpYiB2ZXJzaW9uMy4yLjIsIGh0dHA6Ly9tYXRwbG90bGliLm9yZy+WH4yJAAAgAElEQVR4nOzdd3hb5f3+8fcj2/LeI7bj2M7eCRkkhJCEPQuUUVraUqBQSictXZSW7kXbbwc/2gIdbCiUXcoMkL1IQva2E8dOvPeStZ7fH1KMk9ghy5Fs36/r0mXl6Jyjj3SkE+nWM4y1FhERERERERGRcOYIdQEiIiIiIiIiIh9FAYaIiIiIiIiIhD0FGCIiIiIiIiIS9hRgiIiIiIiIiEjYU4AhIiIiIiIiImFPAYaIiIiIiIiIhD0FGCIiItKnGWPuNsb84wi37zHGnH8064qIiEj4MtbaUNcgIiIi/YwxZg9wq7V2fpdlNwWXnRXqWoLLC4HdQJS11nsqaxIREZFjpxYYIiIiIiIiIhL2FGCIiIjIKWeMscaYEV3+/Ygx5hfB62cbY8qMMd81xlQZY8qNMR83xlxqjNlhjKkzxtzdZdufGGOe6PLvG4wxJcaYWmPMDw65367rLgr+bTDGtBhj5gX3PbHL+lnGmHZjTGZvPA8iIiJy9BRgiIiISDjKBmKAwcCPgL8DnwWmAXOAHxljhh26kTFmHPA34AYgF0gH8nq4j7nBvynW2gRr7ULg38H7OeB6YL61tvqEH5GIiIicEAUYIiIi0lteMsY0HLgAfz2GbT3AL621HgKhQgbwZ2tts7V2M7AZmNTNdtcCr1prF1lrO4B7AP8x3O+jwKeNMQc+I90APH4M24uIiEgvUYAhIiIiveXj1tqUAxfgy8ewba211he83h78W9nl9nYgoZvtcoHSA/+w1rYCtUd7p9balUArMM8YMwYYAbxyDHWLiIhIL4kMdQEiIiIyILUBcV3+nQ2UnYT9lgNjD/zDGBNHoBtJd3qaiu1RAt1IKoDnrLWuk1CXiIiInCC1wBAREZFQWEegq0aEMeZiYN5J2u9zwMeMMWcZY5zAz+j58041ge4lh46l8ThwFYEQ47GTVJeIiIicIAUYIiIiEgp3AJcDDcBngJdOxk6D42N8BXiKQGuMenpo2WGtbQN+CSwNjtNxRnB5GbCWQAuNxSejLhERETlxxtqeWk+KiIiIDEzGmH8B+621Pwx1LSIiIhKgMTBEREREujDGFAJXA1NCW4mIiIh0pS4kIiIiIkHGmJ8Dm4DfWWt3h7oeERER+ZC6kIiIiIiIiIhI2FMLDBEREREREREJewNqDIyMjAxbWFgY6jJEREREREREpAdr1qypsdZmHrp8QAUYhYWFrF69OtRliIiIiIiIiEgPjDEl3S1XFxIREREROak0xpqIiPSGAdUCQ0RERER6x4ayBuZvraKktpUVxbXcPm84N88eGuqyRESkHxlQs5BMnz7dqguJiIiIyLFpcnn409s7OXN4OueMycLl8fH6pgpWFtdS09JBq9vHqt113W57xrA07rpkLKMHJRLrjDjFlYuISF9kjFljrZ1+2HIFGCIiIiJyqNqWDp5bU8bavfW8ubmyx/XG5yYR4TBkJ8XwpbOHkxLnpNnl4devbWN5ce1B6149dTBnDs9g7sgMspJievshiIhIH6UAAwUYIiIiIh+lw+vjwYXFPLu6lLL6dhwGbjlrKC6Pn8dXBMZU+9TpQ5g9IoPzxmYR5+y5R3Jjm4c9ta387s3tLNlVc9BteamxTC9IZXhmAtnJMXx8ymCiIjQ8m4iIKMAAFGCIiIjIwGKtpabFzbaKJn792jZa3V6GZsQzOCWWPbWt7KxsoaHNw5yRGRRVt1Db4sbl9eHxWdLjnXzp7OHMHZXJqEGJALS7fRgDMVHH3hXE5fGxpqSed7ZW8a+luw+7PSbKwaTBKfz1s1PJSIg+4ccuIiJ9lwIMFGCIiIjIwODy+HhuTRmvbypn6a4Pu3HMGJrWOVZFbFQEo7ITWV/aAEBOcgynDUnB67c4Ixz86uqJJMdG9Up9bq+fDWUNDM2IZ/7WSnZVtfD3xR+GGnNGZvCZmQVcPCG7V+5fRETCmwIMFGCIiIhI/2atpcnl5cr7l7Cntg2A4Znx3DpnGBNyk5mYl8z60gYiHIYJg5MB8Pr8lNW3U5AehzEmZLV7fX6eXLmXJ1aUsLOqBYCC9DjS45185ZwRnDd2UMhqExGRU0sBBgowREREpH9qdnnYsr+J+97d2dni4vZ5w/nMzHyGpMWFuLpjt7OymS89uZbWDi/ljS4ALhw3iPuun3Jc3VdERKRv6bMBhjEmBlgERAORwHPW2h8bY9KAZ4BCYA9wnbW2/kj7UoAhIiIi/cmLH5Tx7rZq1uypY3/wiz7AWSMyePyWGSFtUXGy7G9o55MPLae0rh2Av3x6KpdOzO4Xj01ERLrXlwMMA8Rba1uMMVHAEuAO4Gqgzlr7G2PMXUCqtfZ7R9qXAgwRERHpLx5dtocfv7KZlLgoBqfE8qnThzBnZCYZidHEOyP61Rd8ay13v7iRp1eVApCZGM1NZxayeGc1l0zIYcLgZIyBzIRokmKiSI7rnbE7RETk1OizAUZXxpg4AgHGl4DHgLOtteXGmBxggbV29JG2V4AhIiIifVljm4cnV5WworiORTuquWDcIO7/9BSiIwdGt4r6Vjd3v7iR1zdV9LhOWryTZ794BiOyEk9hZSIicjL16QDDGBMBrAFGAH+x1n7PGNNgrU3psk69tTa1m21vA24DyM/Pn1ZSUnKqyhYRERE5KdrcXu57ZxcPLCwCIDk2ilvOGsqXzh5OVIQjxNWdehvLGqlvcxPhMLy2sZwZQ9PYWdnC65vKKapuBeA3V0/kk6cP6VctUUREBoo+HWAcYIxJAV4EvgYsOZoAoyu1wBAREZG+xuvzc9vja3h3WxUAT946k9kjMkJcVfi6941t/G1BIOgZl5PEv246nezkmBBXJSIix6KnAKNPRfbW2gZgAXAxUBnsOkLwb1UISxMRERE56VweH994Zh3vbqvim+ePYvevL1V48RG+e9Fonv/SmXz34tHsqW3lzmfX0Zd+sBMRkZ6FfYBhjMkMtrzAGBMLnA9sA14BbgyudiPwcmgqFBERETn5Nu1r5ON/WcqrG8r50tnDueP8keoOcRSMMUwrSOXLZ4/g+5eMYVlRLX9dUITfrxBDRKSviwx1AUchB3g0OA6GA3jWWvuqMWY58Kwx5hZgL/CJUBYpIiIicrLUt7r5xjPraGz38MBnp3LxhJxQl9QnfXpmAfO3VvG7N7fT2O7h+5eMUQgkItKH9akxME6UxsAQERGRcOb3W37+vy08t6aMDq+fh286XV1GTlC728dn/7mSNSX1DE6JpcPr49ppQ7jrkjGhLk1ERHrQL8bA6A+stfz+ze189am1oS5FREREwsx/1pTy8NI9jM1O4tGbZyi8OAlinRE8c9sZfPWcEeSnxVHT4uaBhUW8salcY2OIiPQxaoFxCj2+ooR7XtrU+e9F3zmH/PS4kNUjIiIi4cHvt/xx/g4eXFjMafkp/PsLZ+BwqKtDb1hZXMsnH1oBwPSCVKYXppGZGM3nZxeqe4mISJjoqQVGXxgDo8+obHLR2O5h1KDEg5Zv3t/ID1/axAd7GwDIT4tjb10bu2tbFWCIiIgIv3xtK/9cspuZQ9O4/9NTFV70opnD0nn/B+fzf29tZ/7WSlaX1ANw3zs7ufeaSVw8ITvEFYqISE8UYJwk1lque3A5JbVtAHxiWh7jcpP46X+3AGAMXDc9j6um5JEcG8Wl9y2mtcMbypJFREQkDLy9pZJ/LtnNZRNzuO/6KUQovOh1mYnR/OaaSQDUtQa6lMzfWsntT6xhfG4SXzt3pIIMEZEwpADjBFlrufeN7by+qZyS2jYiHQav3/KfNWWwJrDOGcPS+N21kxmSFmhtUVYfCDlaXAowREQkvFlrMcbg81seWbaHdaUN/O7aScRERRy23ofXUQuCo7RsVw1feGw1I7MS+L/rJiu8CIG0eCd3XzqWr5wzgl+8uoU3N1dw+xNrKEiPY9SgRL538RhGZCWEukwREUEBxgkpqW1l3u8WADBhcBK3zR3Gty8czd66Ns7/w0IAXr9jDmNzkg7aLjE6CoBmtcAQEZEw4/dbvH6LxfLAgmIeWlTEiEGJVDW5KG90AZAe7+SMYWkAjMtJJispmu+/sJEXP9jXuZ+MBCdP3DqTMdlJ3d6PgNvr5+f/20pavJOXvjL7sFBITq3k2Ch+94nJ/Prqifz+rR0UVbewcEc1b2+p5I7zRjJreDqT81KIdeo4iYiEigbxPA4dXh9/nr+T/20MtLqYMDiJ524/86APHpVNLqIjHaTEOQ/b3uvzM+IHr3PnBaP4+nkjAXh53T7e2lxJTFQE37xgJHmpGhtDREROnSaXhxaXl9++sY2X1u3vXD40I549ta0Mz0zgC3OG8tTKvawvazxo26gIg8dnmZKfQnp8NFXNLjYE1/npFeO58czCU/lQ+oyX1+3jjn+v4/efmMy10/JCXY50Y0dlM997fkPnOGYAP758HDfPHhrCqkRE+r+eBvFUgHGU/H7LlvImmto9/GdNGS9+sI9RgxK4dloet80dfsz7G3PP67i9fr527kiaXV7+tXR3522RDsP9n57CxRNyjqtWERGR7rywtozi6lbuvGAUxsDnH3kfn4XlRTV4fId/HvjttZO4bvoQXB4fzggHDofBWktRdSsen5+y+nb+vriYcTlJnDc2izkjMzu3/d5zG3hmdSkAV08dzG+unoQzUrO3H7C1vIlL/ryYoRnxvHPnPHW5CWM+v2VXVQvrSxv4zRvbqGt1A5CREM2DN0xjWkFqiCsUEel/FGBw/AFGeWM7/1ldxh/e3tG57LNn5POLj088/lp+MZ+alo7Of88ZmcG43CTOGzOI6x5czozCNJ69fdZx719ERKSr2pYOpv1ifue/E6IjaenSlfHcMVnsrWvjism5JERHcunEHLKTY477/qy1/Pr1bTy0qBiA2KgIHrhhGvNGZX7Elv3f5v2N3PTw+zS2e3j88zOYOSw91CXJUXJ7/Ty8dDevrN/P5v1NANxy1lBykmM4Y1g643OTNBWriMhJoACDYw8wrLW8taWSLz+5Fp/fkpscwy+vmkhKXBST81JO6NeS6x5czqrddUAgDPn5lRM6/8P764Jd/PaN7bz37bMZmhF/3PchIiIDj9vrp6alg9yU2M5l97+7k9+/taPb9UdmJfDnT01hXG7vjFVR2eTi7S2V/PClTQCMzUliTHYiXz9vJBkJTmKiIoiKGDgtMx5fvod7Xt5MTnIMj35+xmFTr0vfsWlfI9c+sAyXx9+5rCA9jkGJgeDPGeng/LFZXDoxh6yk4w8DRUQGIgUYHH2A0eTy8L8N5by6YT9Ld9UCcNaIDL538Rgm5iWflFoeWlTEr17bxiem5fG7T0w+6LbKJhezfv0Oc0Zm8tDnphEdqcGiRETk6Pzklc08smwP6390IeVN7dS3erjp4VWMyU7kWxeOZm6wBUR9q5t2j++goKM3Ld1Vw8NLd7OyuO6gQaxPG5LCo5+fwbbyJuKjA2OL56bEkhZ/+BhSfd2GsgauuH8pAM9+cRYzhqaFuCI5UdZaPD7L/e/t4oO99XiDXbH8NtD1uDk449yF4wZx3tgsLp+cS5xTY+iLiHyUngIMnUEPUd/q5jP/WMmW8kCzwJvOLOQb54/sdjDOE3Ggv2RawuH7HZQUw2dmFvD4ihKefb+UG2YVntT7FhGR/mvB9ioAfvG/LYEpvQl0F/l/108lP/3DAaJT452cyp77s0dkMHtEBg1tbnZWtbCtvIl7Xt7MutIGJv/0rcPWn16QSmFGPF85Z0S/aI24q6qFzz/yPjFRDh68YbrCi37CGIMz0nDnBaMOu81ay9Jdtby+qZwnV+7lrS2V3PfOLqYXpvLls0cwOlutb0REjpVaYAS5vX4eXFjEQ4uLaXP7uOGMAuaNzuSc0Vm9Vs+iHdXMGJrW47Rp8373HvWtbh67ZSanDUnptTpERKR/+O/6/Xzt6Q8OWnbumCzuvGAUEwafnBaEJ5O1lp/+dwvryxoYlZVIY7uHgow4qpo6WLyzmpqWwGCJ0wtS+eq5IxiXm0RWYt9ril/R6OKCPy6k2eXl4ZtO55wxvffZQsJTZZOLFz/Yx39Wl1JU3crglFi+fdEoZo/I6JOvaRGR3qYuJPQcYFhruePf63hl/X4m5SVzx3kjOW/soBBUeLCNZY1cfv8SzhqRweO3zNCgUCIi0q0Or4/vPreBl4PTn14/I59vXjCShOjIPt1c/d1tlfz1vSK2VTR3Djj67QtH8dVzR4a4smPz5/k7+eP8HTx160zOHJER6nIkxN7bVsVXn1pLq9uHw8CkvBTOH5vFZ88oOOktfkVE+ioFGPQcYPz69a08uLCY71w0mq+cMyIElfXsN69v44GFRdx7zUQ+eXp+qMsREZEws2V/E7c++j77G118emY+Xz1nBFmJ0UT2o4ExG9s9vLJuH4+vKGFXVQvfu3gMF47PpiAtLuynH319Yznf/s96puSn8sStM0NdjoSJDq+PZbtqWbm7jpc+2EdFk4voSAdnjcjgrkvGEBMVQXZyzIAa4FZEpCsFGBweYFQ0ujjj1+8Ah88EEi78fssnHlzOxn2NvPb1sxiRpf6SIiIScGBGC4AbZxXwkyvGh93/YydTk8vDx+9fSnFNKxCYgvzhm04P27Bm1e46bvjnSoZmxPPQDdMPGoNEpKu1e+v5x+JiXttY0bksPd7JfddP4czh6f36fS0i0h0FGBweYNz5zDpe+GAfQ9JieefOs3FGhucHoOrmDi7840IK0uN5/ktnEhHmvzaJiEjvWb2njufX7qO8sZ0F26uZPCSFey4by/TCgTEoZIfXx8Lt1SwrquWRZXuYNSydq6YO5hPT8sLqS15NSwdX/3UZAC9++UzSE6JDXJH0BZv3N7JlfxPzt1by5uZKAOaOyiQzIRpj4LJJOb06PpuISLhQgMHBAca60gY+/pel3HLWUL538ZiwDS8OeHndPu749zqumJzLfddPCXU5IiISAkXVLVzyp8W4fX6yk2L42KQcvn/p2AEZbFtr+e2b23lk6R7aPT4APj0zn9vmDCM7OabHAbJPlTv+/QGvbijnqVtnMnNYekhrkb6ntcPL8qJa3tpSwbKiWqyFNreX+jYPGQlObpxVyMS8ZBzG4Ix0ML0gNWxbIomIdMdae8QfHhRg8GGA0drh5bz/W4jXb3nv2/NIjIkKdWkfyVrLnc+u58UP9vHfr57FxLzwG01eRER6z7KiGj7995UAvPuteQzLTAhxReHB7fXz9Kq9PLu6lM37A1OgD8uM5++fm87wED1HS3bW8Nl/ruTm2YX8+PLxIalB+h+Xx8ffFxVz37s78fgO/vyelxrLOaOzyE+L44JxgyjsB1MPi0j/ddfzGyiqbuHZL87qMcRQgAFMmTrNLl+5irtf2MgLH+zjqS/M5MzhfWc08KpmFxf9cRFen+XtO+eRnaxpt0REBoKGNjfn/2Eh1sI9HxvHx6cMDnVJYcday8vr9vONZ9Z1Lps5NI0/fvI0clNiT2ktX3piDatL6ln83XNC3hJE+p99De20u700tnsA2N/g4t43tlFW3965Tlq8k7suHkNCTCSTh6SQnRQzIFtqicix8fr8fPe5DUzMS+aSCTkn9fvmsl01/OHtHbh9fjaUNQLw6tfO6nGadwUYQEzuSDvyC/fT3OHljvNG8s0LRoW6pGO2tbyJK/+ylLkjM/jbZ6dpdGoRkX6utqWDq/+2jL11bbz05dlMHpIS6pLCXll9G797czsvr9uPM8LBT68cz3XTh/T6Fzif3+Lx+Zn9m3eZNzqTP1x3Wq/en8gB1lrWlNTz3JoyNu9vYuO+xsPWSY93ctvcYZw/bhCF6fEKNETkIC6Pj3N+v4DyRhcAsVERvPGNORSkn3iLri37m7ji/iV4/QdnD3/85GSumpLX7TYKMIDonJE258Y/8dAN07hwfHaoyzlujyzdzU/+uwWA939wPpmJGhhMRKQ/6vD6uPXR1SwvquUfN07nbA3ed0ze21bFz17dwu6aVmYOTeMfN07v1W6j339hA0+vKgXgt9dO4rrpQ3rtvkSO5L3tVdS1uMlIjGZtST3Pry07qIUGwPjcJHKSY/nuxaMZNUiz3IkMdD96eROPLS8B4CvnDOeBhcX4/Jbzx2Zx7zWTjnsw6j/P38kDC4uwWP510+k4IxxMGJzMxJ+8yc2zh3L3pWO73U4BBlA4ZqKdv2hZv5iK9MI/LmRHZQszhqbxz17+QCYiIqHx+IoS7nlpE7++eiLXz8gPdTl9ks9v+c/qUr7/4kYOfOQZl5PEuNwk/H7L7WcPZ2RWwkmZwaTwrv91Xl/zw/M184iEFZfHR1VTBw8v281za8rITY5le2XzYevdOKuAq6YGfhHNS40lQ69jkX7vwDhbt541lB9+bBwAz60p49v/WQ9AVITh5a+cxbjcpGPa74GJMzISovnjJyczZ2Rm523XPbCc+jY3T992BiW1bby1uYLN+5v4++emE+uMUIABh0+j2pdVNbm4943tPL+2jCtPy+VPnzwtrKaPExGRE3flX5bS4fHx+h1zdI4/Qe9tq+KD0gZaXF6eWFGC2+fvvC0lLorHPj+DSXkfds+x1vL82n3MHpFOTnL3Y2hUNrl4bk0ZHp8fhzH84e0dAIzNSeL1O+b07gMSOQlW7a5jya4aAErr2thQ1kBRdetB60wvSGXykBTSE5xcOzWPrCSNwSbS33zuX6vYsr+RpXedS3Tkh2M3WWv538ZyfvLKFsDyyM0zehyzojtX3L+EikYX8781j6RDfnB/ed0+vvHMOg6NI3511UQ+PTNfAQb0rwDjgN++sY2/Lijih5eN5dY5w0JdjoiInCSldW3M+e173H3pGG6bOzzU5fQri3ZU89CiYqbmp7Bidx2rdtcBMGpQAp86PZ8bzyxkya4abvzXKkZkJVBa18aDN0zj7NFZrN1bz13Pb6C2xU1tq/uwfV8+OZd7PjaWrER9yZO+x1rL2r31NLV7qWt18+IH+9jX0M7umkCoERPlIPuQACPCYfjWhaOZODiZpJgokuPUKlikL1lRXMunHlrBXZeM4fZ53X/e2FXVwmf+sYKoCAeXT87lpjMLGdRDmFnV5KLV7ePpVXt5aFHxEb+nLtxRzYtryzhrZCYZCU5uevh9ACYOTubVr89RgNEfAwy/33L5/Us6p4576SuzOU0DvImI9HkPL93NT/+7RVOmngI1LR08uWIvT60qobKpg7R4Jz6/7Zzl4YDvXjya+9/dRZvbxyUTsvFby3cvHsOwjHhcHj/7GtoYnnlyuqOIhBNrLUXVrTyxooT6NneX5fC/jeX4ggPzRToMnz9rKDnJMQxJjWPe6EwNOC8SxqqaXXzx8TWUN7hY8J2zjzhz1qId1XzzmXWd4f09HxvHDWcU4IwMvMfnb6lkaVENDy/d07nN1VMHc+81k476PLBoRzWPLNtDbUsHr3xNAUa/DDAAtlU08bl/rqKquQNQv1sRkb6uqsnF1X9bRlJMFK+pK8Ip4/L4eH1TOS+s3cfinTVcPWUwi3bWUNPSQVSEweOzjB6UyF8+M6VfjKclcjLsrmnl7S0VuL1+XttYwZbypoNuv3xyLokxkSRGR5IYE8n1M/L1OVXkJHB7/Ty2fA91rW6aXB7yUuPYUdlMu9uHtfD180b2OGZFbUsHT67c29n18dsXjuKr5478yPu01vL6pgq+/OTazmUTBieRkRDNgu3VACRGR3L3ZWPJSozm7NFZxz3jUZ/tQmKMGQI8BmQDfuAha+2fjTE/Ab4AVAdXvdta+9qR9tVfAwwIDFJ2x78/4NUN5XxmZj7fvGDUYYMu+fyWouqWHkeadnl8rN5Tz9SCFOKckUe8v1fW7ycrMZozhqWftMcgIiIBX3lqLe9ureKJW2cwrSAt1OUMSG1uL3HOSKy1WAtunx+Xx0dSTBQOTT8p0qNml4eWDi+/f3MHK3fXEuEw7G9ox+P78DuHM8KB2+dnSFosl0/KZVhmAmnxga4n2UmxxzxQYH/U4fXhjHCoRZd0a01JPdf8bdlhy6MjHWQnx1De4MLt83Pb3GGMzEogMSaSulYPo7MTWVfawO/f3E67xwfAiKwEnv7CGcc0s+WemlZuengVe2rbiHAY8tPimJyXzA8uG0dybFRnq4wT0ZcDjBwgx1q71hiTCKwBPg5cB7RYa39/tPvqzwHGAV95ci3/21hOpMMwYXAy931qCvsa2nl3WyUvfrCfmpYOHrn59M6p+LaWN9Hm9vGPxcW8vqkCAIeBL84bzncuHN3jh7QDI63v/vWlOrGKiJwkje0eTv/FfNw+P5+bVcDPrpwQ6pJERE6YK/hFacnOGuZvrWRLeRNFVS0kxUZR3ug6bP281FjOGZ1FTUsHsc4IrpoymIK0ePLT40516Sdse0UzC3dUUVrXzraKJsZkJ9H1o3NLhxeXx3fQD49+a/nv+nKGpMUyZUgqFovDGLbsb+K0ISl89dwRpMQ5Q/BoJNRK69p4dnUp/+/dXQDMGZnBH647DWMCocLo7EQSY6IorWvjx69s5t1tVd3uJyUuit9eM4nclNhjGpSzqyaXh837mpg1vHd+0O6zAcahjDEvA/cDs1GAcRhrLcuLa/nxy5vZWdXS43qP3zIDgBv+ueqg5c4IBxdNyOa/6/eTmRjNPR8bx4XjBh3UH6qu1c3Un78NwLCMeK6ZlscNswoOG1lWREQCfH6L39rOPqAen5/fv7md97ZX0e7xkZMUy/cvHUN1cwe3Pb4GgD9/6jSuPG1wKMsWEek1Xp8fv4WS2lba3IGAw+3z85/Vpawuqae+1U2r24fb++GMQTFRjoN+JU6Nc1KYHs+Zw9M5e3QW60obyEyMZsnOGl5et4+UuCgGJcUwYXAyDy/dTUF6PDUtHTiMITrSQUpcFNfPyGfV7jpS45xkJkbzyLI9GKDD62dfQzuDU2JxBH9MjjCGqfmpOCMd+K3l4gnZuDx+lhXVkBLrJDcllo+SxNQAACAASURBVH8sKcYTnOXIWiirbz/ocUdHOohzfvi5OirCgQ0+H13VtwXG4IlzRnQ+P10NSTt8diSDIT3BSVuHj1nD0/nBZWM1Bkk/sa2iiV+9to0lO6vx28C0pk/eegbTClJ77KJhrWVnVQvtbh/GwOo99by0bh9fO3cks0ekf2SL+1DrFwGGMaYQWARMAO4EbgKagNXAt6y19d1scxtwG0B+fv60kpKSU1RtaPn8ltc2lrOiuJZIh2F0dhJ3v7ix23UvHp/Nty4cRXZyDFERDqIjHTy9qpTfvrmNhuDJMzrSwR+uO43LJuXw3rYqbn7kfQrS46hq6qDd4yM2KoLzxw1izogMZo/MYHBK91POiYj0Z1v2N7G1S//vsvp2/jh/x0HrzByaht9a3t9TT1ZiNLNHZLBkVw3VwXGMDnjv22czNCP+lNQtIhKOrLW0un3c985OyurbiHQ4iAx+WbMEZk/orgXHkQxJi6W0rv2I66THOxmdncjy4lpmD88gKxia1Le5eW979WHrH+gSA4FplMdmf9hd2+u3XDE5l7mjMimqbmH0oMRj6obm91s8fj9+P5TUtfLB3gbeD86cdKi6NjcVjS62VzYfNDVlTJSDb10wmrT4g1ttpMRFMXlIymHdziW8PPP+Xn78ymZioyI4Z3QWw7MSOH/sIEZn9++xmPp8gGGMSQAWAr+01r5gjBkE1BA4f/2cQDeTzx9pHwOhBcaR1LW6qW7uYH9DO4t2VvPf9eV89Zzh3DR7aLfr17e6eWNzBf/bUN45R3hGgpOalsDIs9t/cTE1LW7e2lzB4ytKKO4yb/jkISmkxEYxOS+Zz84q0HRyItKvPbZ8D6+s28/qksNy9E5nDk9nWVEtAMbAV88Zwa1zhpEcG0V9q5vXN1Xw6ob9jMxK4LZ5wxUEi4h8hNYOL+WN7Wza10STy0NWYjQ7KluobelgVHYi540ZxFOr9lKQFkdavJOpBakkxURS1+om0uGgod1NU7uX0vrADEK7a1qIdDg4Z0xg4MGWDi8J0Qf/St3u9rGzqpl1pQ34/Za46Eg+NimHdaUNlNW1c9mkHOKjQ/vLdkuHl38t2c1f3ttFh9d/xHWdEQ7mjsrkmqmDMcbwztZK0hKc3DirkH8t2c3IQQnMHZVJbYub9AQnmUcIOyIc5qCu5T6/xWFQd/PjZK3lV69t5e+Ld5OfFsdjn59B4QD6YaNPBxjGmCjgVeBNa+0furm9EHjVWnvEzsIDPcA4ES+sLeMfi3eTGh/F0l21XHlaLn/+1JTO270+PzUtbn7/1nY27WskJioCl8fHtopmABJjIvnG+aO4cNwg8lJjdSITkX5hV1Uzr2+s4P/e3sGwjHgunpDNJ6YPISJ4jnNGOoh1RhDvjCAywkFpXRuDkmJodnk0Cr+IiPQqay0ujx+/tdS2uA+6ze3zs7OymUU7a3jxgzJcniMHHUcrMSaSzIRojIGi6lZGZiXw5XOGkxh9dF3N45wR+C0UZsRRWtdOS4cXv7UMz4wnLzWO0ro2MhKiSY3v/2OALCuq4dN/X8n1M4bwo4+NJ9bZ8xSn/VGfDTBM4Jvuo0CdtfYbXZbnWGvLg9e/Ccy01n7qSPtSgHFy7KhsZnBK7FGlywt3VHP3CxvZ1/BhU73JeclcOD6byybmDKgUUUT6LpfHxxMrSjq71UFghPi/L94NwKxh6Tx+ywwi1ddYRET6mHa3j2fe30tCTBSXTcxhV1ULi3ZW44xwUNnkIjrKQUF6PI1tns4BWQ/ls5bHlpdQ1/phUDJzaBob9zV2O4bHicpNjuHyybm0e3zsrmklwmEoTI8nwmFobA+0xomNiuDyybl99vvGd/6zntc2lrPmngsOGo9woOjLAcZZwGJgI4FpVAHuBq4HTiPQhWQP8MUDgUZPFGCETkltK7uqWvjqUx90TtkDMCkvmSsm59Lk8jJ7eDrpCU6GZiQc93zBIiK94fsvbOTpVXsxBgzgt4FuIPHOSH519UQunZCt8EJERAa0hjY3zkgHpXXtFGbEER0ZQU1LB+UNRzdOicXyyNI9JMREUt/mIS4qgrmjMimrb+O+d3bicBjGZCdS3dzROX2nz29Ji3eSlRhNUXXLQdP1HpCXGsvQjHhmj8jgvDFZ1La6iYkKtI7sTnx0JLlH0Y2zotGFxZKTfHK7fBZVt1BU1cLXnv6AK0/L5bfXTj6p++8r+myAcTIpwAgfpXVt/PHtHWza38iOysNnS5kwOIlLJ+aQnRTDFZNz9cVAREKitqWDP7+zk8eWl3D7vOHcdckYIDB1WGJ0pLrDiYiIhJGalg6qmzuIijBUNXeweGcNf1tQdFz7On9sFmcMSyc7OYbxuckMTollWVENOyqbeWHtvs6u8jfPLiS3mxBjcGosF43PPuofZr0+Pz9+ZTNPrtzbuey522cxvTDtuOrv6xRgoAAjHHV4fSzeUUNiTCTVwYT2qVV7qW3poMnlBQKDC108IRuPz48z0kFWYjQT81L0i6eI9Cq3188nHlzO+tIGZgxN44lbZuKM1DlHRESkL1m1uw6v34/XZ2lyeXB5At8pussV2t0+vvPchqPetzHwUV+nx2QnkpUUwy+unEB+ely36zS0ubnx4fdZX9rAVVMGMyU/hcyEaC6ZmHPUtfQ3CjBQgNGXHJg265f/28rTq/Z2u05ybBS3zR3GlCEpJMREMiE3meqWDgYlacYTETlxP/vvFv61dDd/+uRpXDE595imvRMREZG+ye8PfD/u8PrZVdXCyt21NLm8/HNxMTfNLuS2OcOJjnIQHenA67fdzvRS0ejiZ69uYdGOg6fdHZuTxMXjs7llzlBiIh1Y4Kq/LmVHRQtun59vnj+Kr583Qi08UYABKMDoi3x+y5JdNaworuWyiTlEOALTO5XVt1Nc3cqqPYfPg33b3GF8dmZBjwmniMhHeXTZHn78ymZuOKOAn3/8iBNciYiIiHTL57d4fH7e2FTBwh3VvPjBvoNuH5QUTWVTB9dMzeOTpw9hxtCB2V2kOwowUIDRH5U3trO7upXyRhcPLCxiZ9WH42nkJMcQGxXB7WcPZ2p+Kj6/JTMxmurmDuKcEQxJU8AhIofbVtHExX9aTHZSDK9+/SwyNN2piIiInATWWt7cXMn/e3cn2yqaGZGZwLljs/juRaPV6uIQCjBQgDFQbK9o5tnVpTS1e9hZ1cK60oZu1/vMzHwm5SVjLUwYnMz43CSdOESEH7wYmHFk1Q/OV3ghIiIiEgI9BRiRoShGpDeNzk7kno+NA8Dj8/P48hKckQ7e31PH0l01fO/iMazcXceTK/fy5MqDt503KpP46Ahyk2PZ19B+0KA8IwclkJkYzUXjs0mJiyI6cuDNxyzSn3V4fazb28BTq/Zy46xChRciIiIiYUYtMGRA8fr8nTOXVDW58Pgt++rb+WBvPS+v24/Pb6lrc1Pd3EF+WhyxUYGQYntl82H7On9sFldNyePARCgOY5g9IoP4aOWCIn3NX97bxe/e3A4Eup+99c25JMZEhbgqERERkYFJXUhQgCFHx9rAaMIxUR+2sNi0r5FN+xoZkZXA6pJ61pTU8/aWysO2jYlycNnEXACGZsRx5ogMBiXFMDjl8LmhRSQ8lNa1cdGfFjEhN5nzxmZx6cQcjZEjIiIiEkLqQiJylIwxB4UXEBgjY8LgZACmFwZGB25oc1Pe6Opcp6S2lX8u2c3za8s+3PCtHQAUpMcRExlBq9tLcmwUbq+fUdmJXDstjyGpceQkx+C3Vr/4yoDm81tcHh/x0ZG4vYE52o+ksc1Dm8fLmpJ6tpY3sXRXLZPzkml2eTl3bBZpcU6efr+UHRWBFlSThyRz8+yhpMRFkRQTRXx0JLUtHXzpyTU4jOHeaycxNCP+VDxUERERETkOaoEhcpLVtnSwtbyZCIfh8RV78PgsDgMGw57aVurb3CTGRFFc3YL/kLfflPwUbjqzkA6Pn921rQxNjyc9wcl5YweF5sGIHIOWDi//Xb+f+jY3qXFOmto9+KzFYLB8+GKPjozA7fXjt5aF26vxWcuIzATe3lpJfZubgrQ49tS24TDwuVmFZCUFxqI4sB+vz1Le6OKZ9/ce9h46VKTDcPboLKqaXWwoa+xxvf/7xGSumZZ3Up4HERERETkx6kKCAgwJL1VNLh5aVIwz0oEx8OqGckpq27pdtzA9Dmekg5Q4JwDRkQ5OG5LClaflkpsSS2O7h/joSCIdBmeEA7fPT1RwcI5Ih9HsKv3AgXP1gWN5oKuTv4dzeFSEA4/Pj8HgjHTQ4fURGxWB2+fHGeHA5fET4TBERRjaPT4AYqMiOq8fiddv+dPbO9m0v/GgcWW2VzTT2O457sc4JT+FcTlJPL3qo4OJqAjDZRNzmDksnYToSMbmJFHe2E59m4fEmEj2N7QTYQxTC1IZNSgRgC37m9hQ1kCTy8NfFxQRFeHg+hn5TMlP4exRmXqfiIiIiIQJBRgowJDw1uzy4Lfwn9WlvLm5gsSYKArT45m/tZLclBh8fkuEI/AFa3tFM/VtR/9F8ZdXTWBoejwEv5+NyEqgtK6dwvQ44qMjqWnpYFBSTGfoIUfP77dsr2ymw+un3e1jWkEqta0d7K5uJSspmmaXl5zkWPY3ttPh8WOtJSk2CpfHhzFQ0+ImwhieXFlCQ7uHuSMzyUhwUpAez3vbqyiubiU93km7x8f7e+q465KxNLV7+NmrW466xkiHweu3RDoMfms/Mhw4WpPzkmnp8JIeH43DAVmJMdw8u5CxOUn8c8luOrx+bjqzkNV76phWkNo5wG1JbRuZidHEOSNwRjjwW8v+Bhc5KYHXoNvrDwZv4PFZ/NbS7vaxak8d0wtS6fD6yUyMPqHXq7VWgYWIiIhImFKAgQIM6T88Pj8byhpZvafuoOW1rW7WlzYwPjeZ0vo2tlU0UVrXftT7nTsqE5/fz9jsJIwBnx/qWjtIiXNSmB5HaryTlg4vHR4/DgMjByWSHBtFh9fHiMxEkmIDX1CtBQtEOAyNbR7W7K3rbAmQlRjN6pJ6RmQlkBrnZERWQnAbS7vHx66qFpbsqqG+1c3+Bhe5KTEMSoqh2RUYP6S8sR2/DWQxDofhovHZTM1PweXxs6uqhXG5SZ1Bz7EqrWujosnFtPxU3t5aedjz252dVS0s2F590LIDrWB62w1nFJCXevgAsR6fn51VLYwalEi720dJXRtD0+MormklKTaKd7ZWMi4niejICGpbO5iUl0Jju4cVxbV8YtoQYqI+OhjIT4vjkok5vfGwRERERGSAU4CBAgwZmNxeP+tKGyipbcUS6H6yraIZZ/DX6/LGdp5dHRh4NCYq0LUgzvnhIKZenz2qL+MRDtPZzcEZ6cBaSIqNoqalgyOdZjISojEmMMXt0bQqiY4MdI3o2oogMTqSDq8ft89PYkwkOckx3HLWUFzBFg8tHV4m5qVQVNXC21sqae7wUNnUcdi+a1s68FuId0bQ6vbhjHQQ+RFhSIQxZCfH8JmZ+by7vZryhnbG5yZx6cQc1uytp7i6lYY2N1mJMZwzJoshqbEUVbeyraKJvXVtjMhMYNbwdIqrW7lu+hCeXFVCflocmQnR5KbEBltqGNzeQJePtzZXML0wjfz0OM1uIyIiIiL9kgIMFGCIHK/Ve+rYXdMKwPCsBKyFbRVNpMQ6iXAEAosVxXU0Bcc/8FuLzx9YnhgTydCMeLaVN7GjsoWC9Djq29ydwUhe6ofTVabFR1FU1coZw9L45On5LNpZzdmjM/nfhnJ2VLaQHu/k5tmF+KzFWmhyeXhwYTFtbh8OA4Xp8RTXtPL2lgpqWtxHfEwTBicxcXDKQcuiIx04TGBMiEl5yVw3fchxt+YQEREREZHjowADBRgiA4XH52fz/iaqmlykxDkxBpqCA52mxjnJTIwmJTYKh8IJEREREZGw01OAERmKYkREelNURGCWFhERERER6T805YCIiIiIiIiIhL0B1YXEGFMNlIS6DjluGUBNqIuQkNCxH7h07OVU0Wtt4NKxlxOl19DApWPfewqstZmHLhxQAYb0bcaY1d31g5L+T8d+4NKxl1NFr7WBS8deTpReQwOXjv2ppy4kIiIiIiIiIhL2FGCIiIiIiIiISNhTgCF9yUOhLkBCRsd+4NKxl1NFr7WBS8deTpReQwOXjv0ppjEwRERERERERCTsqQWGiIiIiIiIiIQ9BRgiIiIiIiIiEvYUYMhxM8YMMca8Z4zZaozZbIy5I7g8zRjztjFmZ/BvanB5enD9FmPM/Yfsa4ExZrsxZl3wktXDfU4zxmw0xuwyxtxnjDHB5XcaY7YYYzYYY94xxhT0sP1cY8xaY4zXGHPtIbf5utz/KyfjOeqvwuzY3x5cvs4Ys8QYM66H7aONMc8Et19pjCnsctsbxpgGY8yrJ+cZ6r/66LHX+76PCafXWZfbrzXGWGNMt9Pl6RxzcvTRY69zTJgJp9eRMeYmY0x1l+1v7WF7nUNOgj567HUOORbWWl10Oa4LkANMDV5PBHYA44DfAncFl98F3Bu8Hg+cBdwO3H/IvhYA04/iPlcBswADvA5cElx+DhAXvP4l4Jketi8EJgGPAdcecltLqJ/TvnIJs2Of1GWdK4A3etj+y8ADweuf6voaAc4DLgdeDfVzG+6XPnrs9b7vY5dwep11qWERsKKnfekcM6CPvc4xYXYJp9cRcNOh++xhe51DBu6x1znkGC5qgSHHzVpbbq1dG7zeDGwFBgNXAo8GV3sU+HhwnVZr7RLAdTz3Z4zJIfCFZbkNvKMf67Lv96y1bcFVVwB5PdS8x1q7AfAfTw0SEGbHvqnLqvFATyMTd63tOeC8Awm5tfYdoPl4ahto+uKx1/u+7wmn11nQzwl8+D3S/nWOOQn64rHXOSb8hOHr6GjoHHIS9MVjr3PIsVGAISdFsJnbFGAlMMhaWw6BkwjQbXOrbjwcbB51z6HNN4MGA2Vd/l0WXHaoWwikn8cqxhiz2hizwhhzrP/pDFjhcOyNMV8xxhQR+JD59R7uYzBQGqzNCzQC6UdZn3SjDx37I9H7PsyF+nVmjJkCDLHWflTTbZ1jTrI+dOyPROeYEAv16yjoGhPo5vycMWZID/ehc8hJ1oeO/ZHoHHIIBRhywowxCcDzwDcO+UX0WHzGWjsRmBO83NDdXXWz7KBfXI0xnwWmA787jhryrbXTgU8DfzLGDD+OfQwo4XLsrbV/sdYOB74H/LCnco+0Dzk2fezYH4ne92Es1K8zY4wD+CPwraMpt7t9HHWVcpA+duyPROeYEAr16yj4979AobV2EjCfD1sBHMs+5Bj1sWN/JDqHHEIBhpwQY0wUgZPDk9baF4KLK4PNqQ40q6r6qP1Ya/cF/zYDTwEzjDERXQat+RmBRLNr15A8YH+XWs4HfgBcYa3tCC775YF9HEUN+4N/iwn0eZvyUdsMZOF07Lv4N8Fme90c+zJgSPC2SCAZqDuWxywBffDYH6kGve/DVJi8zhKBCcACY8we4AzgFWPMdJ1jek8fPPZHqkHnmBAJk9cR1traA59Lgb8D04L3r3NIL+mDx/5INegccggFGHLcgs2o/glstdb+octNrwA3Bq/fCLz8EfuJNMZkBK9HAR8DNllrfdba04KXHwWbezUbY84I3vfnDuw72MzzQQLhRecJyVr7gwP7+IgaUo0x0cHrGcBsYMtRPhUDTpgd+5FddnkZsBO6PfZda7sWeDfYV1GOQR899j3VoPd9mAqX15m1ttFam2GtLbTWFhIYY+kKa+1qnWN6Rx899j3VoHNMiITL6yi4XU6XXV5BYEwGfU7pJX302PdUg84h3bFhMJKoLn3zQmDEXgtsANYFL5cS6K/3DoEvE+8AaV222UMgTW4hkFiOIzD43prgfjYDfwYierjP6cAmoAi4HzDB5fOByi51vNLD9qcH77cVqAU2B5efCWwE1gf/3hLq5zecL2F27P8c3HYd8B4wvoftY4D/ALsIjBY9rMtti4FqoD1Y20Whfo7D9dJHj73e933sEk6vs0PWWUDPM1HoHDNwj73OMWF2CafXEfDr4LbrCfxfNaaH7XUOGbjHXueQY7gceHJFRERERERERMKWupCIiIiIiIiISNhTgCEiIiIiIiIiYU8BhoiIiIiIiIiEPQUYIiIiIiIiIhL2FGCIiIiIiIiISNhTgCEiIiIiIiIiYU8BhoiIiIiIiIiEPQUYIiIiIiIiIhL2FGCIiIiIiIiISNhTgCEiIiIiIiIiYU8BhoiIiIiIiIiEvchQF3AqZWRk2MLCwlCXISIiIiIiIiI9WLNmTY21NvPQ5QMqwCgsLGT16tWhLkNEREREREREemCMKelu+YAKMERERETkxFlrqW/zsKe2lT01gcveujbcPj8AidFR5KbEUpgRx6zh6WQlxoS4YhER6Q8UYIiIiIhIjzw+P9srmtm4r5FN+xrZtL+J3dUtNLm8nesYA7nJscQ5I7BAU7uHquaOztvH5iRxzuhMzh83iMl5KUQ4TAgeiYiI9HUKMERERESkk8vjY+O+RhbvrGHZrho27mukwxtsWRETyfjcJK48bTAF6XEMzYinID2eIWmxREdGHLSfDq+PHRUtLNpZzaId1Ty4qJi/LigiNS6KOSMzmTcqk7mjMslMjA7FwxQRkT7IWGtDXcMpM336dKsxMERERGSg8vr81LW6qW7poKHNE7i0u2lo81DV5GJdaQNbypvw+CwOA5PyUphekMrkISlMHJxMflocjuNsPdHY5mHBjioW7qhm0Y4aaloCLTTG5yZx9uhMzh2TxdT8VIxR6wwRkYHOGLPGWjv9sOUKMERERET6J6/Pz/LiWhbvrGHprhq2ljfh7+GjX7wzgvGDk5man8rU/BRmDE0jJc7ZK3X5/ZYt5U0s3FHNwh3VrCmpx+e35KfFcdWUwVw9dTAF6fG9ct8iIhL+FGCgAENEREQGhpLaVp5dXcpza8qobOrAGeFgSn4K0wtTyUmOJSMhmtS4KFLinKTERZEcG0VMVMRH77iXNLk8zN9SyQtr97G0qAZrYXpBKjfMKuCyiTlERjhCVpuIiJx6CjBQgCEiIiL9l99veXNzBY8u38OK4jocBs4encV10/OYNyqLWGfoAopjsb+hnZfW7eO51WUU17SSnxbHF+cN45qpeSENWURE5NRRgIECDBEREel/fMHg4r53drKtopkhabF8cvoQrp02hOzkvjt9qd9veWtLJX9bsIv1ZY1kJDj53KxCrpmWx+CU2FCXJyIivajPBhjGmBhgERBNYNaU56y1PzbGpAHPAIXAHuA6a239kfalAENERET6C5fHx/Nry/j7omL21LYxLCOer583kssn5/araUqttaworuOBhUUs3FENwIzCNK6cksslE3JIi++dcTpERCR0+nKAYYB4a22LMSYKWALcAVwN1Flrf2OMuQtItdZ+70j7UoAhIiIifZ3fb3ly1V7ue2cn1c0dTM5L5ovzhnPR+Ox+FVx0Z29tGy+v28dL6/ZRVN0KwJjsROaOyuTSiTlMzkvWLCYiIv1Anw0wujLGxBEIML4EPAacba0tN8bkAAustaOPtL0CDBEREenL9ta28d3n17OiuI6ZQ9O447yRzBqePuC+tFtr2by/iQXbq1heXMuq3XV4fJa81Fgun5zLF+cO67UZVEREpPf16QDDGBMBrAFGAH+x1n7PGNNgrU3psk69tTa1m21vA24DyM/Pn1ZSUnKqyhYRERE5Kfx+yxMrS/jN69uIMIYffmws100fMuCCi540tnl4a0sFr20sZ9HOGpJjo/j+JWO4dlqeniMRkT6oTwcYBxhjUoAXga8BS44mwOhKLTBERESkrylvbOfOZ9azvLiWuaMy+c3VE8nVIJY92lrexD0vbWJ1ST3njx3EvddMJD0hOtRliYjIMegpwOhTk2pbaxuABcDFQGWw6wjBv1UhLE1ERETkpFuys4bL7lvChrIG7r1mIo/efLrCi48wNieJZ784ix9eNpZFO6q56E+LeW+7PiaKiPQHYR9gGGMygy0vMMbEwv9n77zj4yquvv+bLdpVr5Ysy7LlXrCNOwQMAWxqaAESWggllYQACcmbJ50n5YEEQjc1YFNC773YuPciF9mWLMnqvW7V1jvvH7ta7d6dvXslr7Ur63w/Xu/u1dmZuffcmTlz7swZrABQDuBDADf7xW4G8EF8SkgQBEEQBBF73t7TiJtX7cSYNAM+/MUyXLtkAi2HUIlGw/DDsybjgzvORG5qEm5dtQt/+aAMDrc33kUjCIIgjoOEd2AAKASwjjF2AMAuAF9xzj8GcD+A8xljlQDO938nCIIgCIIY0XDOsXJdFX791n58Y3Iu3r79G5gyJi3exRqRzCrMwAd3nInbzpyEF7fV4dLHN+NQsynexSIIgiCGyIiKgXG8UAwMgiAIgiASGc45/vbxEbywpQZXzB+HB645FUm6kfC8KfHZVNmBe97cjx67C/dcMAO3nTmJri1BEESCclLEwCAIgiAIgjiZefiro3hhSw1uOaMED393Pg2wY8hZ08bgi7vPxvKZBbj/s3Kc88A6rN5SQ8tKCIIgRhDUKxIEQRAEQSQAL2yuwWNfV+G7i8fjL5fNhkZD8S5iTXZqEp763kKsvnUJirKTce9Hh7Hsn1/jyfVVsDjc8S4eQRAEEQVaQnKC8Eoc+xt7sbeuB4dbzLA4PLjtzEn4xpTcYcmfIAiCIIiRwzt7GnHPW/tx0Slj8cQNC6DT0jOm4WBnTTdWrqvChqMdSDfqcN2SYnz/GyUozkmJd9EIgiBGNZGWkJADI4b02l3YWNmJdeXt2HC0A902FwAgP90AiQOdVie+OX0M7lw+DYsmZp+wchAEQRAEMXJYe6QNP355D06fnIMXblkCg04b7yKNOg42mvDspmP47GALJM5x/uwC3HrmJJw2KYd2fiEIgogD5MDAiXFgeLwSPj7Qgv/ugwojgQAAIABJREFUqMOeuh5IHMhJTcI3p4/BuTPzccaUXOSlGeBwe/Hi1lo8ub4apj43lpbk4I7zpuKsaXnUMRIEQRDEKKW81Yyrn9yKyWPS8NqPT0eaQRfvIo1qWkx9eHlbHV7bWY8euxuzCjNw65kluPzUcTDqybFEEAQxXJADA7F1YEgSx3ulTXh0bSXqu+2YMiYV35pbiHNm5uPU8VnQRli3anN68MauBjy36RhaTA4snJCF+66ahxlj02NSLoIgCII4XjjnKG+1YFt1F/bU9aCu24Yuqws9dhfSDDpkJOuhZQyMAXqtBjqtBnoNw9hMI6aMScOswgwsKclGbpoh3qeS0HRZnbhi5Ra4vRI+vGMZCjKM8S4S4cfh9uL90ias2lKLijYLclOTcMNpE/C90yeSngiCIIaBuDkwGGNXKf2dc/7uCS1AELFyYOxr6MVfPjyE/Q29mDc+E784bxqWz8wfVLAtp8eLt/c04uGvjsLc58FfLp+NG0+beNxlIwiCIIihYHG4sbW6C+sr2rGuvAOtZgcAYHx2MqblpyEvzYDMZD1sLi9MfS5wDnAOeCQJbi+HyyOh2dSHhm47JA4wBpwzfQxuWzYJy6bSbEM5Lo+E7/1nB/Y39uLNn3wDpxZnxbtIhADOObZVd+GFLbVYW94GLWP41rxC3HrmJMwnnREEQZww4unAWOX/mA/gDABf+7+fC2A951zRwRFLjteB0W5x4IHPK/DWnkaMSTfgfy6aiW8vKDquKOFdVifueWs/1ld04I/fmoUfLJtERh5BEARxQvFKHAebTNhd242DTSYcbDKhptMGzoE0gw5nTcvDuTPysWxaHsZlJQ8qbYfbi0PNJqyv6MBrOxvQaXVifnEW7lo+DefMGEN9HHyD4t+9exCv72rAo9fNxxXzi+JdJEIFdV02rN5ai7d2N8Lq9GBafhoumVuIS+YWYnpBGt3bBEEQMSTuS0gYYx8D+BHnvMX/vRDAypHgwDA73Hhu4zE8v7kGbq+EHyybjDvOmxqzdapur4Q7XyvFZ2WtmF6QhruWT8e35hXGJG2CIAiC6Ke5tw+v72rAm7saAjMsCjONmFOUiblFmVhcko0lJTnQx2gHjP7Zhk+uq0ZTbx/mFmXizuXTsGJW/qge7K3aUoP//egwfn7uFPzmwpnxLg4xSCwON94vbcLHB1qws7YbnAOT81JxwSljccaUXCyamI1UimVCEARxXCSCA6OMcz4n6LsGwIHgYyeawTow3F4JL26txRPrqtBrd+PSeYW454IZmJSXGvOyebwS3t3bhBe21KC81YLrlxbj71fOjRhLgyAIgiDUYHd58H5pMz4ra8GWqk5wAGdPG4OrFhbhG1NykZ9+4tfzuzwS3ittxMp11ajvtmN2YQa+d/pErJidPyz5JxIbj3bgllU7sXxWAZ753qLjmsVJxJ92iwNfHmrDZ2Ut2H6sG16JQ6dhmDc+E6dNzsXpk3OxmBwaBEEQgyYRHBhPAJgG4DUAHMB1AKo4578YlgJgcA6MrVWd+POHh1DVbsXZ08fg/104A3OKMk9wCX2OjAe/PIqnN1Tj2sXFuP/quaP6KRVBEAQxNNxeCa9sr8OjayvRa3djcl4qLplbiGuXFKM4JyUuZfJ4JXywrxlPrq9CdYcNAFCck4x5RVmYO943C2TOuExkpujjUr4TzbEOK65cuQXjspLxzu1n0KD2JMPq9GBPXQ+2H+vCjmNdONBogkfi0GoYlpbk4LqlxbjwlLG0mwlBEIQK4u7A8BfiKgBn+b9u5Jy/N2yZQ50Dw9Tnxp8/KMMH+5oxIScFf7lsNpbPKhimEg7w4BcVeGJdFf506Wz8YNmkYc+fIAiCGJlwzvF1eTv+8ekRHOuw4cypufjV+dOxcEJ2wjjE+3c52Xi0A/sbe3GwyYSG7r7A3yfmpmBuUSYWTczGRXPGojBzcHE4EhGzw40rV25Br92ND35+ZtycSMTwYQtyaHx8oAX13XZkpehx9cLxuH5pMabm0w50BEEQkUgIB0a8iebA2NfQizte3YsWkwN3nDsVt58zJW5eckni+Okre7C2vB2v/vA0nDY5Ny7lIAiCIEYOFa0W/P2Tw9hU2YlJean4wyWzsHyExJvosblQ1mzCgUYTypp87029PqfGiln5uP2cKVg0MSfOpRwaXonjRy/txsajHfgv9emjEkni2Frdhdd21uPLw61wezkWT8zGdUsn4FtzC5GcRLMyCIIggom7A8M/++Kf8O1GwvwvzjnPGJYCQNmBsb6iHT99ZQ/y0gx47PoFWDghe7iKFRGLw43LHt8Ml0fCZ3edfdJOqSUIgiCOjy6rEw+vOYpXd9QjzaDDXSum46bTJyJJF5tgnPHiWIcV75c24eXtdeixu7GkJBt3LZ+OZdPy4l20QfHomko8vOYo/n7lHHzvdNoyfbTTaXXi3b2NeH1nA4512pBu1OHK+UW4bmkxThl34pcrEwRBjAQSwYFRBeAyzvmRYclQQCQHxicHWnD3G6WYXpCOl25bitw0QxxKJ2Z/Qy+ufmorLpwzFk9cv2BEPEUjCIIghgfOOf67ox7//LwcdpcXN50+EXctn4bs1KR4Fy2m2F0evLGrAc9tPIZmkwNnTMnFby6cgQUJ8LAhGmVNJly5cgsunVeIR65bEO/iEAkE5xw7a7rx+q4GfHqwBU6PhHnjM3HtkmJcPKcQOSdZPSYIghgMieDA2MI5P3NYMouAyIHx5q4G/M+7B7BwQjaev2UJMpMTb5bDynVVeOCLCvz7O6fi6kXj410cgiAIIgHotbvw23cO4ItDbVg2NQ/3Xj77pF9T7/R48d/t9Vi5rgpdNhcumF2AX184A9MLEvO8nR4vLnt8M0x9bnx59zdpJiUREZPdjfdKG/H6rgaUt1qg1TCcNikHF88Zi/Nnj8XYzNG1Ww9BEEQiODAeBTAWwPsAnP3HOefvDksBEO7AWL2lBvd+dBhnTcvDszctTtj1h16J4/pnt+NQswmf3nUWJubGfhtXgiAIYuSws6Ybd79eig6rE7+9aCZuO3PSqNqO0+r04IXNNXhu4zFYXR58e0ERfrliesIFxrz/s3I8vaEaq29dgnNm5Me7OMQIgHOOQ81mfF7Wik8PtuBYp2+3nrlFmVgxqwDnzczH7HEZ0I6i+k4QxOgkERwYqwSHOef8tmEpAEIdGF8casVPXt6DC2YX4PEbFsCgS0znRT+NPXZc/OgmTM1Pw1s/+QZ02pG9rpkgCIIYGi9vr8O9Hx5CcXYyHrt+AeaNz4p3keJGj82FpzZUY/XWWnDOccPSCfj5uVORnxH/p9Vbqzpx4/M7cN2SYtx31bx4F4cYgXDOUdluxZojbVhzuA2lDb3gHEg36LCoJBtLSnJw2qQczB2fmfB2LEEQxGCJuwMjEQh2YLg8El7aVoubzyiBfoQ4Az7c34w7XyvFXcun4ZfnT493cQiCIIhh5uGvjuLRtZU4b2Y+Hr1uPtKNtCQBAFpMfXhsbSXe3N0InYbh+9+YiJ9+c0rcYlp121y46JGNSDfq8NEvliElSReXchAnF51WJ7ZUdWJnTTd21nSjst0KADDoNJhfnIXTJuVgyaQcLJyQjVQD3XMEQYxs4u7AYIxNB/AUgALO+RzG2DwAl3PO/z4sBUD0bVRHAr96Yx/e39eE1350Om3DRhAEMYp4fWc9/ufdg7hm0Xj88+p5NIVcQF2XDY+urcT7pU0w6rW49cwS/PisKcMae8Lp8eK21buwq6YH7/38DNpVgjhhdNtc2FXbjV013dhZ242yJhMkDmg1DHPGZWDppBwsKfG9TrbAvgRBnPwkggNjA4DfAHiGc77Af6yMcz5nWAqAk8OBYXG4cfkTW2Duc+ODO87E+OzEWu9LEARBxJ6yJhOuenIrTp+SixduXkzLCKNQ1W7FI2uO4uMDLUg36vDDZZNx27KSEz5jxStx3PlaKT452IIHrpmH7ywuPqH5EUQwVqcHe+t6fDM0aruxr6EXLo8EAJicl4r5xVlYMDEbiyZkY3pBGrUjBEEMKx6vhOoOG7ptLmQm6zEpL1UxBmUiODB2cc6XMMZKgxwY+zjn84elADg5HBgAUN1hxZUrt6AoKxlv334G0miaIEEQxEmLxeHGpY9vhssj4ZM7z6KtFQfBkRYzHv7qKL483IasFD2uXjge1y4pPiG7lkgSxx/eL8NrO+vx+0tm4sdnT4l5HgQxGBxuLw40mrDL78wore9Fp9UXRz8lSYt54zOxYEI2Th2fhfnFWbTTCUEQ8HglfLi/GZ8caIGpz41Ti7OOu9/0eCW8vL0OD391FGaHJ3Bcw4CFE7Jx+zlTcN7MfDAWOrM0ERwYnwG4A8BbnPOFjLFrAPyAc37xsBQAJ48DAwA2HO3Abat3YWlJDlbdugRGPQVvIgiCONngnOOO10rxeVkr3vjx6VhckhPvIo1IDjT24qn11VhzpA1uL8eCCVm4akERLjxlbEwCfjrcXtzz5n58crAFPztnCv7fRTNjUGqCiC2cczT29GFPXQ9K63tQ2tCLw81meCTfWKAgw4BTx2fh1OIszCnKxJxxGXGLI0MQxPCzqbIDf/ngEI512jAxNwUF6Ubsa+iFR5Jw3dIJ+M0FMwa9HK281YxfvbEfh1vMOGtaHq5eOB756QZ021042mrBe/ua0NDdh6UlOXj9x6eH7KiWCA6MyQCeBXAGgB4ANQBu5JzXDUsBcHI5MADgvdJG/PKN/Vg+Mx9P37RoxAQjJQiCINTx9p5G/Pqt/fjNhTPw83Onxrs4I54uqxPvlTbhjV0NqGy3gjFgQXEWls8qwPmzCzAtPy3sCZASbq+ErdVd+NvHh1HVbsUfvzULPzxr8gk8A4KILQ63F4dbzNjf0Iv9Db040GgKbN0KAIWZRswuzMDscRmYXpCOaQVpmJSXSrueEMRJhNsr4c8fHMJrO+sxKS8Vv7t4Js6fXQDGGHpsLjz+dRVe2laLjGQ9fn/JLFy9sChqXylJHC9sqcG/vqhAhlGHv14xBxfPGRv2O7dXwnt7m9Blc+H2c0JnLsbVgcEY0wK4n3P+G8ZYKgAN59xywjOWcbI5MADg5W21+NMHh3DZqePwyLXzKagbQRDESUJ9lx0XP7oRc4oy8eqPTqf2PYZwzlHVbsVnZa348nAryprMAICirGQsKcnG4pIcLJqYjSlj0pCk8z0csDo9aOrpQ2OPHRVtFuw41o3dtd2wubwozDTi/qvn4ZvTx8TztAgiJpj63DjcbMahZhPKmkw43GJGdYcNXv9MDQ0DJuamYmp+Gqblp/nf0zE1P01xPTtBEImH1enBz/67FxuPduAnZ0/GL8+fLpzZX95qxh/eK8Oeuh6cPjkH//j2XEwZkyZMs7rDit+9cxA7a7tx/uwC3H/V3CHN5oqbA4MxpuOcexhjX3POzzuhmUXhZHRgAMBT66vxz8/LsWJWPh69bgFtnUUQBDHCcXq8uO7Z7ahqt+Lzu89GUVZyvIt0UtNqcuDr8nZsrurAzpqeQJwAnYYhL82APrcXpj53yG+mF6ThtEm5OGNKLs6blU9PpImTGofbi5pOGyrbrahqs6Cqw4rKNitqOm2BJSgaBkzLT8fc8Zk4dXwm5o7Pwsyx6bTMmSASlObePty2ehcq262479tz8d0lyoGnJYnj9V0NuP+zI7C7vLjglAKcN7MARVnJ0GsZum0urDnShnf2NiE1SYs/XTob1ywaP6iZjcHE04Gx1x/z4t8ApgF4C0Bgbhrn/N0TWoAgTlYHBgC8tK0W9354CDPGZuC57y+i3UkIgiBGKJLE8eu39uPd0iY8eeNCXDK3MN5FGlVwzlHXZcf+xl5UtFrQaXXCoNOiKDsZ47KSMT47GZPzUpGVQsFUCcLtlVDXZUNVuxWHm8040GTCgUYTum0uAIBeyzBjbDrmFmVh3vhMzC3KxPSC9MDMJoIgYkO3zYXm3j4AQG5aEvLTjYozN9eVt+P/vXMAfS4vnrxxIc4exAzCDosTz2yoxrulTYG63k+SToMblk7Az8+dijHpxxdDJxEcGKuCDnMADADnnN8W5ffFAF4CMBaABOBZzvmjjLF7AfwIQIdf9Pec80+V0jqZHRgAsL6iHb94tRQS57hz+TTcePpE2qGEIAhiBCFJHL9/7yBe39WAX50/HXcunxbvIhEEQQwKzjmaTQ4caOjFgSYTDjaacKCxN7D7gIYBRdnJKMlNRUluKibmpvg+56WgOCeFZjMRhAo45zjYZMKXh9rw5eFWHG2zhvxdp2EozDIG6tmYdAOMeg06LE7srOnG/kYTphek4fHrF2LG2KHtMCJJHNUdVnRYnXB7OTKMOkwvSI/ZaoB4OjAaATwEv8PC/94P55w/FOX3hQAKOed7GWPpAPYAuBLAdwFYOecPqi3Lye7AAICGbjv++H4ZNhztQLpRhwtmj8WFpxTg7OljFKfwSRKH0yPB6fHCqNfSdD+CIIhhxur04Ndv7sfnh1px53lT8cvzpw952iVBEEQiETyzqbrditouO2q7bKjptMEStK0iY0BhhhHFOSmY0P/KTQl8z01NGnHtolfi6LI60dvnhrnPDbPDDYvDA3OfGzaXFxoGaBgDYyzwWaMJ+swAo16L3FQD8tKTkJtqQE5qEsVFGqV4JY73S5vw/OYaHG4xQ6thWFqSg7Onj8HkMakAgE6rE829fWjs6UNtpw3HgupZkk6DGQXpuGbReFy3tDihHYaRHBjD8XheCyANoY6LfqJ6TzjnLQBa/J8tjLEjAIpiWsKTiOKcFLx421KU1vfg5W11+OpwK97Z2wiDToNpBWmYkJMCSQJcXglWhwedNie6rK6Qtb0aBkzKS8XiiTlYMbsAy6bmUVAmgiCIGMM5h8MtobrDig1HO/Di1lp02Vz406Wz8YNlk+JdPIIgiJjBGENJXipK8lJDjnPO0Wt3o7bLhjq/U6O+246Gbjs2VnagzewMkU9J0mJCzoBDY0y6AelGHdIMOmQY9Ug36pBu1EOrYfBIElweCTanF3aXBzaXF15JCnMWAIBH4vB4JXgkDpdHgsPthdP/7ntJ0GoYknQaGHQaJGk1MOj737VI0mqg0fim1reanGgzO9BqdqDV5ECb2RGIExIrNAzISU0KcWrkpfk+j0kzYPKYVEwZk0ZL3U4yajptuPv10sDsifuumouLThmramtTt9d3P6ck6Ua882vYlpDEKK0SABsBzAHwKwC3ADAD2A3gHs55j+A3PwbwYwCYMGHCorq6Ydu1NSFweyVsP9aFDRUdONpuRWOPHTp/A5ySpMOYNANy05KQnZKE5CRfA9xrd+Fwixk7jnXD4vTAoNNg4YRspCRpwRgDYz5vlO/d/50BBRlGrJhVgKWTcmhLV4IgRjUWhxuHms1oMzvQY3PB6vTA7PCg1TRg1LaaHXB5pMBvlk7KwW8vmolFE7PjWHKCIIjEweH2oqHbjvqgV/B3h1uKnshx0D/7waDTQOK+AMtOjwSl4VNKkhZjM4woyDBibKYRhf5XdmoSMox6ZCT7HC0ZRj1S/A8IJc4hcd+M6P7PvP8Y57C7vOiyOtFpdaHT6kSX1YmOoM/9x+0ub0hZ8tKS/MtzUjEpz7eUoDjHF89nJM5mGc1sPNqBO17dC62G4d7LT8Hlp4476fUXzyUkpZzzBTFIJw3ABgD/4Jy/yxgrANAJ3yyOv8G3zEQxnsZoWEISS1weCbtqu/HV4TaU1vfAIw00qADAOcDB/e++5StOj4R0ow7nzMjHiln5OGd6PjJT9PE9EYIgiGGgoduOtUfasLa8HduPdcHtDe1fDTpNwKAdm+EzaDNT9BiXmYwzpuYiP90Yp5ITBEGMPLh/YG91emBxuGF2eGBx+D57JY4krSbwwC7VoEVKkhY6jSbMQcDBodNooNeywCwLo14Lo04LvZaFDRI554GZGk6P5H/3witx5KUbkG7QxW1gaXd50GZ24liHFdUdVlS321DTZUNtpw3tltDZLEa9BuOyklHkD05clOVzbPQfy0rRI8k/2+RkHygnMpxzrNpSi79/chjTC9Lx3PcXozhndGzWEE8HRg7nvPs409AD+BjAF6KYGf6ZGR9zzucopUMOjBNLn8uLzVWdWHO4DWvL29BpdQXWZa2YXYDzZxVgQu7oqHAEQYwOqtoteL+0GV8dbkNFmwUAMHlMKlbMKsAZU3JRlJWMnNQkpBl1Cb3OlCAIgji5sTk9qOuyo7HHjqbePjT19Pne/Z+7ZLtJBGPQafzLZ7SBz/0OIoNOgzT/Mp7+JTz9n1MNOqQk+ZxH/TNZ9NqB3+u1mpBjBp0GOprFHcDlkfCn98vwxu4GnD+7AI9cOz9mATJHAnFzYBwvzOfyexFAN+f87qDjhf74GGCM/RLAaZzz65TSIgfG8CFJHPsae7HmcBvWHGkLRMadXpCGFbMKsGJ2AeaPz4JmhK/BIghi9NFjc+GjA814Z08j9jeaoNUwLCnJxopZBVg+qwCTZGu8CYIgCCLRcbi9aO7tQ3OvA029dpj7PHB5JTjdXji9EpxuKRDw3+WfeeKLqyDB5vLA6vDA4p8NczxLe7QaBmP/LBi9Fga9BkadFka971hqULyTjGQ9MgLvemQk+/6WmaxHYaZxRDtDOq1O3P7KHuyq7cEd507Fr86fPurGTSPZgbEMwCYAB+HbRhUAfg/gegDz4Vu9UAvgJ/0OjUiQAyN+1HXZsOZIO9YcbsPO2m7fNLu0JCwpycGiidlYNDEbp4zLpH3BCYJIWBp77Fi5rhrv7GmEyythVmEGrl5YhCvmFx33XucEQRAEcbLg9kqwOX1LevrcXthdXvS5vHB5Jbg9ku/dO7AEx+2VAkty+oOmOjy+AKpOt/+Yx3e8P11znxsWpydiGXQahgk5Kb7gsbmpmJTn+1yYmYyCDAPS4rjUJxqHm8340Uu70Wl14sHvnIrLTh0X7yLFhRHrwIgl5MBIDEx2N9Yfbce68nbsrutBY08fAN/0tHnjMzG/OAvzi7Mxf0IWxmUaE7ZxIQhidOD2Snji6yo8ub4KDAzXLB6PG0+bgFPGZca7aARBEAQxavFKHFaHB2aHb3tac5/vc4/NhbpuO2o7fVv11nXZ0ecODXDavwRGr2XQa33LYPLSDBiTbsCYNAPyMwwozDRibEYyCjONSEnSwiNxeCUOl3fA0dLvgPFIEjKMehRmJR/X+OXzslb88o19yEzW47nvL8bc8aPX1iAHBsiBkai0mR3YW9eD3XU9KK3vQVmzORCZf0y6we/QyMKC4izMK85C2iha+0UQRHyxOj24/ZU92FTZiSvnj8NvL56JwszkeBeLIAiCIAiVcM7RZnaitsuGNrNva9tumxtu78DsD4vDgw6LE51WJzosTsXZHdHIStHjlHEZmDMuE7PHZWBOUSYm5aYqLgGxONx4ekM1Vq6rxqnFWXjupkXIzxjdwb3JgQFyYIwUXB4J5a1mlNb3Yl+D71XTaQPg2651Um4qZo3LwOzCDMwoSMe84kyK3k8QRMwx9blx0/M7cKjZjPu+PRffXVIc7yIRBEEQBDEM2F3+rc9NDjSbHHC4vdBpBnaqMfjjcvQHH9UwBrPDg/puOw43m1DWZEZFqwUur++hbGqSFksm5WDZ1DzMGJuOzGQ93F6OyjYL1pa3Y8PRDrg8Er6zaDz+duUcGPUU+JscGCAHxkim1+7CvoZe7G8w4VCzCYdbzIGlJwAwKS8Vp03KwdJJOThtsi/yP0EQxFCxOj246fkdKGsy4akbF2HF7IJ4F4kgCIIgiBGE2yuhss2KQ80mHGg0YUt1J4512MLkxmYYcfHcsbhyfhFOLc6KQ0kTE3JggBwYJxsWhxsVrRbsre/Bzppu7Kzphtnhm+5VlJWM0yblYOHEbMwcm47pY9ORYdTHucQEQYwE+lxe3LxqJ/bU9WDlDQtx0Zyx8S4SQRAEQRAnAS2mPjT29KHH5oJeq8HE3BRMykulmH8CyIEBcmCc7EgSR3mrBTtrurCzths7jnWH7GldlJWM6QVpmD42HRNzUlGck4zi7BSMy0qm3U8IggDg20buRy/txpaqTjxy3QJcPkojfxMEQRAEQcSTSA4MioZInDRoNAyzx2Vg9rgM3HLmJHDO0dTbh4pWCyraLL73Vgs2V3XC7R1w3GkYUJiZjPHZySjOScGEnBQU5yRjXGYyxmYaUZBhpHVoBDEKcHq8gYCdD1wzj5wXBEEQBEEQCQY5MIiTFsYYxmenYHx2CpbPGli/7pU4Ws0ONHTbfa+evsDnTZUdaDM7w9LKTNZjbIYRBZlGjM0woDg7BdPHpmNGQTqKc1KgVYgqTBBE4uNwe3HHq6VYV9GB//v2XHxnMQXsJAiCIAiCSDTIgUGMOrQahqKsZBRlJeP0yblhf3e4vWjs6fNFHvZvtRT8ubzFjHbLgJPDqNdgan4apuenY1pBOqblp2FaQRrGZ5NjgyBGAnVdNtz5+j7sb+jFX684BTecNiHeRSIIgiAIgiAEkAODIGQY9VpMzU/D1Py0iDI2pweV7VYc9S9POdpmwdbqLrxb2hSQSdJqUJyTjJLcVEzITcG4zGQUZhlRlJWM8dkpyEtLooA9BHGC8Eocbq8Eg04jrGcOtxd763vw2cFWvLm7AUlaDZ7+3iIK2EkQBEEQBJHAkAODIIZAqkGH+cVZmC/b6sjU50ZVuxVV7RYc67ShttOGui47th3rgt3lDZE16jUYn52CktwUTMlPw7T89IDjJM1AVZM4OfFKHB5J8r9zeL3+d/lxicPj5WDMN2tKwxg0DHB7ObpsTnRaXWj3z45qszjRZnbA3Of2vRweWJ2eQJ4GnQZGvRbJei2SdBo4PV702Nxw+R0cl506Dr+5cAYKMoxxvDIEQRAEQRBENGiURBAxJDNZj0UTs7FoYnbIcc45zA4PWkx9aPLH3Gjs6UNDjx01nTZsONoRElh0bIYRhVlGFKT7Q5xtAAAgAElEQVQbkZ9hQH66AQUZRhRmJmNspgH5GUakG3Q0g4OIG5LE0WN3oc3sREOPL4ZMU69vWzCzwwNTnzvwsjk98Hg53JKEWG98ZdRrMDbDiPx0IybkpCAjWY90ow4ZRr3fWSHB6fHC4fLC4fZ9Nuq1yEpJwpKSbCydlIN02mKZIAiCIAhiREAODIIYBhhjyEzWIzNZj5ljM8L+7vFKqO+2o7Ldiqp2K6o7rGgzO1DdYcW2Y10w9bnDfpOs1yI3LQm5qUnITTMgJzVp4HuqATlpScjzv+emJtFOKicBDrcXZocb5j6P/90328D37jvucA/M9GEMYGD+d/93xsAAQPA3AHB5JLg8Epz9714pcMzlkWB3e9FpcaLd4ghxugFAapIWOWlJgXu9ICMNmcl6pCbpoNdpoNcwaDUa6LQMOg2DVuN/12pCv2sYdBoNtBqAc8DLOSTuc5rotAy5qQbkpiWhIMOIDCM58giCIAiCIEYL5MAgiARAp9Vg8pg0TB6ThgtPCf+7w+1Fu9mJFlNfIJhou9mJbpsLnTYX2i0OHGkxo8vmgssjCfPoH1zmphr8To8k5KQakJ2iR7rR99Ta99Ijw/+ebtQhJUlLA0Q/nHM4PVLAYWDyOxIsfidCn8sLp8frf+ovwen2wuWV4PHywNIIjyTB5eFweSW4PF6fY8DvJHB7eeC7xyv5Bu2cQ5K4729esW770WsZkv2OKu7/j/vL7XsHOLj/vf/vQd/hi91i0GuQpNUgSed/aTUw+D9nGHWYMiYVBRlGFKT7ZgMVZ/u2Hs5M1tO9QhAEQRAEQZwwyIFBECMAo16LCbkpmJCboijHOYfV6fE5NqwudNtc6LI60WVzocvqQrfN97nF5EBZswndNlfYU3Q5GuaL+ZGs1yI5yRdHoD+eQPB330CXQaf1PWHXMhYyaPYVcGBAjcDffO8ur2+Kv8M9MNW//7PD7UWf/7NW4ytPukGHVP8r3aBDfoYRRdnJKMoyYlxWMnJSkpBu1MOoHwjiyDmH3eX1ORwCMxjCZzRYFGY5RLtegG82g0GngUHnuy56DYNWy6DXaKDVMOiDnAMpSTpk6QYcBv1/02l8MR8Y889I0DJkGPXISPY5mHzvemQm6wLHIwWsJAiCIAiCIIiTAXJgEMRJBGPMP3NCj4m5qVHlOeewubyw9g/a/e8Wh8f/csPq9H12erzoc/kcCXaXz7nQbvHNOuhzeeHy+nZ98HgluCXfrIH+JQz+f/4yDixdAPqXLzAk6TQw+oMtGvRaGPUaGHVa5KXpkJykhVHnOy5JHFaXB1aHBzanB902OywOj3BJAwDoNAzpRh04AIvDA6+k7IAw6jWBWSgZyXpkpSRhQm5qIK5CRpDDwHdMh8xk3zVPSdLCoNNCr2XkSCAIgiAIgiCIGEMODIIYxTDGkGbQIc2gw9jMkb0Dg1fi6LQ60dTbh+bePvTY3UHOGDcYWMD5kG7U+50OupAZDelGHQw6ihVCEARBEARBEIkIOTAIgjgp0GqYLy5DhhELJ2RH/wFBEARBEARBECMKTbwLQBAEQRAEQRAEQRAEEQ3WH0xvNMAY6wBQF+9yEEMmD0BnvAtBxAXS/eiFdE8MF3SvjV5I98TxQvfQ6IV0f+KYyDkfIz84qhwYxMiGMbabc7443uUghh/S/eiFdE8MF3SvjV5I98TxQvfQ6IV0P/zQEhKCIAiCIAiCIAiCIBIecmAQBEEQBEEQBEEQBJHwkAODGEk8G+8CEHGDdD96Id0TwwXda6MX0j1xvNA9NHoh3Q8zFAODIAiCIAiCIAiCIIiEh2ZgEARBEARBEARBEASR8JADgyAIgiAIgiAIgiCIhIccGMSQYYwVM8bWMcaOMMYOMcbu8h/PYYx9xRir9L9n+4/n+uWtjLEnZGmtZ4xVMMb2+V/5EfJcxBg7yBirYow9xhhj/uO/YowdZowdYIytZYxNjPD7sxljexljHsbYNbK/eYPy/zAW1+hkJcF0/1P/8X2Msc2MsdkRfm9gjL3h//0OxlhJ0N8+Z4z1MsY+js0VOnkZobqnej/CSKT7LOjv1zDGOGNMuF0etTGxYYTqntqYBCOR7iPG2C2MsY6g3/8wwu+pDYkBI1T31IYMBs45veg1pBeAQgAL/Z/TARwFMBvAvwD8j//4/wD4p/9zKoBlAH4K4AlZWusBLFaR504A3wDAAHwG4GL/8XMBpPg/3w7gjQi/LwEwD8BLAK6R/c0a72s6Ul4JpvuMIJnLAXwe4fc/A/C0//N1wfcIgOUALgPwcbyvbaK/Rqjuqd6PsFci3WdBZdgIYHuktKiNGdW6pzYmwV6JdB8BuEWeZoTfUxsyenVPbcggXjQDgxgynPMWzvle/2cLgCMAigBcAeBFv9iLAK70y9g455sBOIaSH2OsEL4Byzbuq9EvBaW9jnNu94tuBzA+QplrOecHAEhDKQPhI8F0bw4STQUQKTJxcNneBrC830POOV8LwDKUso02RqLuqd6PPBLpPvPzN/iMX6X0qY2JASNR99TGJB4JeB+pgdqQGDASdU9tyOAgBwYRE/zT3BYA2AGggHPeAvgaEQDC6VYCVvmnR/1JPn3TTxGAxqDvjf5jcn4An/dzsBgZY7sZY9sZY4PtdEYtiaB7xtjPGWPV8BmZd0bIowhAg79sHgAmALkqy0cIGEG6V4LqfYIT7/uMMbYAQDHnPNrUbWpjYswI0r0S1MbEmXjfR36uZr5lzm8zxooj5EFtSIwZQbpXgtoQGeTAII4bxlgagHcA3C17IjoYbuSczwVwlv91kygrwbGQJ66Mse8BWAzggSGUYQLnfDGAGwA8whibMoQ0RhWJonvO+UrO+RQAvwXwx0jFVUqDGBwjTPdKUL1PYOJ9nzHGNAAeBnCPmuKK0lBdSiKEEaZ7JaiNiSPxvo/87x8BKOGczwOwBgOzAAaTBjFIRpjulaA2RAY5MIjjgjGmh69x+C/n/F3/4Tb/dKr+aVXt0dLhnDf53y0AXgWwlDGmDQpa81f4PJrBS0PGA2gOKssKAH8AcDnn3Ok/9o/+NFSUodn/fgy+NW8Lov1mNJNIug/idfin7Ql03wig2P83HYBMAN2DOWfCxwjUvVIZqN4nKAlyn6UDmANgPWOsFsDpAD5kjC2mNubEMQJ1r1QGamPiRILcR+Ccd/XbpQCeA7DInz+1ISeIEah7pTJQGyKDHBjEkPFPo3oewBHO+UNBf/oQwM3+zzcD+CBKOjrGWJ7/sx7ApQDKOOdezvl8/+vP/uleFsbY6f68v9+ftn+a5zPwOS8CDRLn/A/9aUQpQzZjzOD/nAfgTACHVV6KUUeC6X5aUJLfAlAJCHUfXLZrAHztX6tIDIIRqvtIZaB6n6Akyn3GOTdxzvM45yWc8xL4YixdzjnfTW3MiWGE6j5SGaiNiROJch/5f1cYlOTl8MVkIDvlBDFCdR+pDNSGiOAJEEmUXiPzBV/EXg7gAIB9/tcl8K3XWwvfYGItgJyg39TC5022wuexnA1f8L09/nQOAXgUgDZCnosBlAGoBvAEAOY/vgZAW1A5Pozw+yX+fG0AugAc8h8/A8BBAPv97z+I9/VN5FeC6f5R/2/3AVgH4JQIvzcCeAtAFXzRoicH/W0TgA4Aff6yXRjva5yorxGqe6r3I+yVSPeZTGY9Iu9EQW3M6NU9tTEJ9kqk+wjAff7f7oevr5oZ4ffUhoxe3VMbMohX/8UlCIIgCIIgCIIgCIJIWGgJCUEQBEEQBEEQBEEQCQ85MAiCIAiCIAiCIAiCSHjIgUEQBEEQBEEQBEEQRMJDDgyCIAiCIAiCIAiCIBIecmAQBEEQBEEQBEEQBJHwkAODIAiCIAiCIAiCIIiEhxwYBEEQBEEQBEEQBEEkPOTAIAiCIAiCIAiCIAgi4SEHBkEQBEEQBEEQBEEQCQ85MAiCIAiCIAiCIAiCSHjIgUEQBEEQBEEQBEEQRMKji3cBhpO8vDxeUlIS72IQBEEQBEEQBEEQBBGBPXv2dHLOx8iPjyoHRklJCXbv3h3vYhAEQRAEQRAEQRAEEQHGWJ3o+KhfQuJwe7GpskNRxuOVsK6iHZzziDKcc6wrb4ckRZYBgA1HO+DySIoyW6s6YXd5FGV213aj1+5SlNnf0It2i0NR5kiLGY09dkWZqnYrajptijL1XXZUtFoUZVpNDpQ1mRRluqxO7K3vUZQxO9zYcaxLUabP5cWWqk5FGbV6/bq8Lape11e0w+1V1uuWqk70ubyKMjtrumHqcyvK7GvoRYfFqShzqNmEpt4+RZmqdgtqo+i1rsuGo23Kem3u7Yuq1w6LE6VR9Gqyu7GzpltRxu7yYGsUvbq9EtZXtCvKSJJPr0q6B4B1Fe3wRNHr5spOONzKet1xrAtmh7JeS+t70GlV1mtZkwktJmW9VrZZUNelrNfaThuq2pX12tTbh8PNZkWZdosD+xt6FWV67S7srlXWq83pwdZqZb26PBI2HFVuqyXJ1w6raau9Uer0psqOqHrdfqwLlih63VPXgy4Vem01KbfVFa0WNHQrt9U1nTZUtVsVZRp77DjSEkWvZgcONCrrtcfmwp46Zb1anR5sq1Zuq50eLzZG0as3hnrdeLQDTo+yXrdWd8LmVO6D99R1o8em3AcfaOxFm1lZr+Wt5qh6PdZhRXWHsl4buu0ob1XWa5vZgYONym11t82FPXXKbbXF4cb2KH0w2Vaxs62i9cEtpuh9sBrbytRHtpUa26o5RrZV5TDaVrui9MFkW5FtpYQavQ63bTXqHRiPra3ETc/vxMp1VRFlXt/VgFtX7cKv3zoQUWZ9RQduXb0LVz+9NaJMeasZN7+wE0v+sSaiTK/dhRv+swOz//xFxBtFkjiueXob5v/1K8UG4IqVW7D0H2sVb5SLH92EZf9cp9iwr3hoA859cL1iw372A+tw4SMbFQfNlz+xGZc+vhnHFAyx217cjaue3KpoPP/unYO49tntWHukLaLMQ19V4Mb/7MB/Nh2LKPPy9jrcumoX/vB+WUSZLw+34bbVu3H9c9sjyhxsNOGWVbtw5v1fR5TptDpx4392YNafP4+oV49Xwnef2YZT//dLxQbgypVbsOQfaxT1+q3HNuPM+79WbABWPLQR5zy4XnFw9c0H1uOChzcqdtiXPLYJlz6+WbHDvvmFnfj2k1txqDlyZ/zrt/fju89sUzR6//V5BW74zw68vK02oszqLbW4ZdUu/O9HhyLKfFrWgttW78bNq3ZFlNlT14NbV+3Cuf9eH1GmxdSH7z2/AzP/FFmvTo8X1z67HfPuVdbrt5/cisV/X6M4uLr08c34xn1fw6owuDr/4Y345gPr0a0wuDrnwfVY8dBGxUHzBQ9twCWPbVLssG98bgeuWLlFceB09xv7cM3T2xQHPP/49AhueG4H3thVH1HmuU3HcPMLO3H/Z+URZT7Y34RbV+/Cj1/eE1FmR003bl29Cxc+sjGiTEO3HTc9vxNz/hK5Hba7PLju2e2Ye++Xikb41U9txaK/r1EcXF36+Gacft9axUHzhY9sxFn/Wqc4aD73wfVY8dAGxUHzeQ9uwMWPblIcNH/3mW24/Iktigb2Ha/txdVPbVM0oO798BCuf2473i9tiijz5LpqfP+FnXj4q6MRZd7Z04hbV+/CL14rjSizuaoTt67ehcuf2BxRprrDiu+/sBML//pVRBmzw40bntuBU/7yRUS9cs5x9VPbsOBvXykOri5/YgtO+7+1ioOrix7ZhLP+tQ4me+S2+rx/b8Dyf29QHDSf9a91uOgRZb1e9eRWXPbEZkUn109e3o2rn9qqOCj64/tluO7Z7fj0YEtEmX7b6sn1kW2r11TYVusq2nHr6l24RoVtddr/Rbatemwj17a64OFottUW1baVkgPrd+8eUG1bPb+5JqLMS9ui21ZfHPLZVjf+Z0dEmX7batk/I9tW7RbHsNtWZ8TItjp/mGyre97aj+88rc62emW78GE3AOCFzTVRbatPDvpsq1tXH59t1dx78ttW9V2R22o1ttWdr6u3rd7c3RBR5tmN1apsq9tW78ZPXzk+26quyxYz22pUOzC2VXdhv3+g/MAXFcKLube+JzCYfmdvo7ACHGo2YZ/fU1Za3yv09FW1WwNPokx9bqFh2NBtx1eHBzqOrYInV+1mBz4raw18f09gGJrsbnwWZFg8uzF8EN/n8uKDfQO/vf+zI2Eybq+Ed/Y0Br7/6s19YTKcc7y7d0Dm2me2hckAwIf7m9Hu76TP+/cGocznZa0Bj+PlT2wRyqyraA9c6x+8KF4OtLW6E/sbfI353z85ItTrnrpuHPB35K/uqBcaoWVNpoDud9SIn8pUtlmwo8anp3aLU2hA1HfZQwyCXbXhhmGrKVSvHx9oDpPpsbnweZDMqi21YTJ2lydErw98UREmI9frb98JNx4liYfI3PR8uJHBOccH+5rQ6ze8z3lwfZgMAHxe1oLD/ie+33pMPLj4urwtoNebnt8plNlS1RmQ+dMH4g50d2039vl1tmpLrdAIPdDYG9D9xqMdQu99RaslMDBr6O4TDgpqO21YXzFgEJQKvOUtpr4QnX1xqDVMptvmCjn+8rZwA8Lq9OCj/QP3hGiw5/JIIXXxD+8dDJOR6/UHL4YbGZxzvF/aBJt/0LXiIXF9/fRgCyr9A6GLHtkklFl7ZECv1z0rdgJuruzEvnqfzG/fCS8z4Ht61t82PL2hWtip7W8Y0OtXh9uEzoDyVnPg6XJVu1VoPB7rsAaeRngkjrKmcAOiqTdUr2vLw59KdVqdIXp9XeCcsTjcIXX98a/DB3sOtxfvlQ7o7F6B8eiV6fV2gZHBOcd7pY1w+evEJY+JdfbJgRbU+g2r8x8WGyJfHW5DqV9n1zwtbvM3Hu0I6OzuN8L7DsD39Ky/jX10baWwrS6t78GBJp/MxwdahIOLw83mQHkONZvRLnDgVHdYA08YbS6vcBZKY48dXx4aaKs3Cgz+dosjRK9vB133fkx97pDB/VOCQbzD7Q1x7Pztk8NhMh5ZW32nwIEj74O//aR4oP/R/ubAIDhSnf7yUGvgOkZKZ8PRjkCd/tl/9wpltlV3Berivz6PbFsdVGNb+cuzN6JtZcF2v63UY3cLn342dNvx1ZHB2Vbv7wvvg3vtLnxeNqDX51TZVuGDAnkffM9b+8Nk5G21km3VMQjb6rIIDr51Fe2Ba63Gtvrbx4cVbCtfOkq2Vb/tve1YV1Tbqs3sFM5Uqe+y4+sjA21vrGyr1Vtrw2TkttWDAtvK5ZHbVtH74OOxrT47qNa26vHnFd22+mMEp9Ou2gGbedWWWqHDwGdb+dJZXxHZtuqfuRdL2+pLgW3VJeuDX9ke3gfLbatHBLaV0+MNaWP/JLhGcbGt/E7mSLbVpsqBPvj/vS12Eu+s6cZ+v16VbKv+ev/FIbFtdaTFHJjhVdVuFc5mOdZhxcZKXx+sZFsF6+xrgW3Vz6iKgSFH/lS91exAYWZyyLGrZJ14VbsVp4zLDDkmbzgqWi3Im2oIOSa/UctbLZhWkB5y7OwH1iG4PzjWYcWZU/NCZK55ehvqgyp8c2+4ofazV/dgS9VAB90qMOb+96NDeH3XgEdO5C18ZkM1HvxyoDI39YTfkB/ub8av3hzofBsFMnvre4SGVzDtFkeYZ49zDsZY4LtX4rhV9sTc4fbCqNeGHLvhudAOocPqRH66MeTY1U+FGgPHOmyYMTZUH5c+HqrX8lYLTp+cG3JMbuBXtFoweUxayLGzH1gX8r2q3Yqlk3JCjl25ckuInkTX8ccv7w7poEVPWf/4XhneDTKKRTKPf12Fx9ZWKub1zt5G/CaowRPJ7Kjpxl2viwcm/TT19uGnr4QauXK9ur0SblsdajC5PBKSdKH+VfmTmm6bCzmpSSHH5IOp2i47puaH6kPuHDvaasHiklB9yD3IR1rMKM5JCTkmNyqq2qxYOCE75Ni3Htsc4q0Xdda3rtoZ6EAAcV387TsH8MmBAcNZpNeH1xzFU+urA99Fg/PXdtXjD+8NdL6i8myq7AwZcLq94R1aTact4uClH4fbG2YIu70S9NpQvX5PZsCZ7G5kpuhDjn1XZrzXd9tRkpcacuyKlTK9tlmwQKYPuTFQ3mrGuKzQNl8+CDjaZsHc8aFt/oUPbwx5UiOapXLT8ztDBsmitvqeN/fjyyCntWjg/cAXFSFPO0V6fWlbLf73o4EBcIOgvq490o5fvjHQVlsc4UZIRasFP39VWa9Wpwc/eilUr16JQ6sZqNOcc3z/hVBj2eJwI90YqtdrZYZXY09fWD2TD6Qr26xh+pA7Y460WpCfEdrmLxfodVZhRsix8/69IWSmTG2nDZgRIoLrn92O6o4BfYv0cdfrpSEGeJs5fOD9j0+O4OWgp52iev/Clhr836cDA+CG7vC8Pi9rDemDRYP8siaT4uwVwDeIk89ckiQOjUyvN8v0and5kJIUakoOxbaqbrdh9rhQfaizrULb6vJWC6bmh/blZ/0rtA8W2VZXP7015PqK7J2f/XdviPNDZFvd++EhvBH0tFPUVsttK9FSk48ONIc4NkQzMPbUqbCtzPG1rWo6bZheEAvbyoxJsjZfjW11xcrNIfVPZMv86KXd2B20bEpUF//wXlnIA0OR7p9YJ7etwvX69t7GkMGkqDzbj0W3rRp77Lj9v8NnW30nzLayYcqY47etylstQ7KtLnl0E3qCZq3Vi2yr1bsCThcAaBUMqsNsK8FsqIe/qsTTGwZsq0ZBXXx1Z32I80dkW22U2VYugXPvWIc1ZraV3GGlxrZq6LFjYu7gbauLH5XZVi2WsDZ/KLZVrcIM4FE7A0PkZYq2FhEAajuV1zSqTydcRu7MrhHkJa+kIsO5vCX0CYTIwJKvp+0WTF+V5+URXLMWWUOfbgz3iXUKGgS5V140fbbTGuqVF3np5Y2E6In7idRZWDpR1scB4gop7wxFeR2R6VXUOVbJ9Cq/hkD4PSOa2i4fbKUkacNk5NNeGQuvV6Lp7r0yXYtk5OcmejoXM52pSUeFXkW6l081FKVzWPYkuEGk17ZQvbYL6pT8XO2CaetyozxJF65Xedq6oAFMPz2Cuih/2iKaZtkiu69EU+vV1KGh1rOwdFS0DaJ05NNMRTLyJ/wig0a+tl1kFMvvT5HjQW4Ea1m4ztpkyw8MuvDuX6Qz+dMWUX2Vl1s0DbdONl1W9PR2qPUsLJ0h1nt5W1grmOIb7LwAws8LQFg8qGbR06jO0Drd2yfq35TXZAPhfXCqoK0WOTXkM1l6BUsdOmS/M/dF1+uQbStV9TVWug/XmfxaC20ruV5V2FZdgvoit61ET7PlfXC6QWBbCfQqt61EepWXaUTYVkNsq+XOQ7FtFdpWi5wK8mVXqmwrwTWT3zNC28oa3baS21EAwpYrjQjbaoh2dY/s/IW2VbO8Dw7Xq3w2vMjhKC9jnyCOjtzBKLStZGmLbatwvcqXKw3VtpJfI1EfPKxt9RBtq35GrQNDtC7R6Q5tbEQdcbTgXz4Z5cA06mWi5+UQyPTJDBP5eYllROmE/k5UHnklEZ2XPC8gvJMVVVp5fqJKK89PlI7cUBNNaYyZXgXXOlxGjV5V6EwkE6aP2OhMjQzn4R22aAqhPC2RgRemV5uovkY/15jVRVV6jS7jEMjIZzjESh/qZKK3Hx6JhxmvoimE8vMX19fQtLts4Qa4XK+ioHvyvEQdsSqdxajei/SqJq+h1GmRw1GVXgX1Xn7d+tzh11qen7C+utW01aEyFhX3kEiv0YJ/ifISy6jR69DyGlJbraafVqF7Ud8hOg95W90trIty3QtkZPkJbSuZjGjAru5aD59tpUZnono/JNtKRTpq9RpmW6noX4dqW8mvo8i2ip1eVaQzxLyG0i+qamOHWKcdsnQ4B9ySzLZSUc+GbFt55Pd5+Lmq6/Nipdeh2V/yh66qxksn0PaWX0ePxMPaQpFtJb/WQ7atZOUWPeSS5zV02+rE296j1oEhirgq79BFgVHkxpwoOnTYUxyBJ0re0IumB8rTEU0vdnnCn3jLb0r5eVkc7rC1R3IZh9uLbbLItfKBlscrha0RdsmMYl+k6fA1TPJz+6wsPBiYXOYrQWApeQUQRUiWX2vR+ld5XqIIwXIZkYdRnpdoloT8Wos8vm6BgSFv6OTnbna4A+vmIpW5z+UNu6/l5XF7pbBgT/J0OOeqrnXwGsVIaQXHfYkks06Ql7zcmyvDIy27vKF1QRTATJ6XKI6JPC/R03R5XqJpqPJ0RE/Q5OUx9bnDntjJZewuT5he5bpweaSwayRPR5I4Ngj1GnrvfXpQoFdZfqI1qfJ7dp2gbZDntfGoSK+h6YjWyMplRLs4yM9fFFRLLiNa2ym/1qKgfGEDPbs77OmgPC+b0xNYBx4pHacnfFcAoV4FfV7wteaci+ur7NxEcVzkMmuPiNp8uV6j98GiNe3yay2KeSA/f9HTdLmM6Gm6vDyiIJrydHpsrrCno3IZq9ODvfWh96yoD5bvCuCSGaleiYddR6/MKOachyxTilQmse5D81sj6IPl+hDaVrK8RLaVPB3RrmZqbCu5jMi2kuclsq1Eg3z5QEaejsXhxqHmwdtWchmPVwrTq9sbbluJ65lMr6L6KpMR3R9qbCt5OqLdSeTt+VBtK7mM2LYKzUtkW4U5ZK1OyP1pchmzwx02A2PIttVRuV0dblsJ7Z0wm/kE2lYyGZFtJS+3KPC+KttKJjNU28qpwrYKm/nd5w6blSGyreR9sFzG5ZGwuUpZr5H64OC0OOfCsZA8raHaVvJyi4K6yvOS91NAfG2rYEalA8Pp8QqDiskv1A2C6MhymQsEQc7kMqIAPPIbQLSDhTydpf+3NqqMKECTXEYUoEku8/t3D4ZNkZMPqh9bWxkI+BVMsNfzzd0N+EAQDCv4/LdUdQoDUgZ3fNUdVvzrc3FAyn6sTk9I3AaRDICwNYbiCpQAACAASURBVLzyvABxgDu5zs4V6FWe17J/rguTkRvyp6nQ60WCqL5DOa9fv70fZtkUdHk6//7yaJgR5pF4yIykV7bXCQexwfmtK2/HS4KAlMHXsbzVjIcEQZOCy9Rrd+F374YHw5Kfm/C+ll1rNfVDFAhNrnv5mmpRXqffJ9CrrA6dLwjiFNYOCXbAkcvc/fq+MM+5XOb+z8rDHFxymVVba7FGZBQHyX1xqBWv7QwPhhV8bmVNJjwmCEgZnF+HxSkMxiovkyjqtfw6ytfTA+GdozwGgigv+ZpqIFz337gvelt9jiAducx3ngkvs1zmF6+VhhnXcpm/f3wkbBq/vG48s/EYNkUxQj852II3d4cHpAy+jnvre0LirATSCbr3m3v78NePwwNSBuclSRx3vBq+dl9+bvL1ub68QmXkMRCA8IHMNx9YHzWvM4R9cGg6y+4X6TVU5ttPhgegluclCrIqP6+/fHAIzTJDXZ7XynVV2CHYejo4v/dKm/Du3vBg38Ey24914blN4btKBPdV9V32kHgconKrta1EO0/IdSaKZB872yo0L1W21ePDZ1s9sqYyEFSxH85DZ668ubsBH+5Xtq02VXZEsK0GZKo7rBGDffej1ra6RbCrl1zmRNpWchk1ttWFgiCJJ8q2evCLirAlo24vD3FMvbK9TuicCM7v6/K2kPg5/Zwo2+qHL4Xf13KdiQLvq7OtQvOKlW0l7O9l6cTKtrrvsyNhDi75NVRvW4XvFhKcX6xsK855WHw6uQzg20UtrMzDaVvRLiSheARB6QBlT08/8so21HTUyQw+L9HaPfnNJtrjXV6xDwj2npbfbBURttgLLlOkdYvB5xZpezB5QxtNJtI2hYmuMxHhT/6ie5NFziT5NRF5yeUNf6Rtm4KnMB6LsL4tuEyiQEdymW7BOlIg9PxFS5Dk6URCtAZ1KOnI68eQ05HJiKblyu9XuTNJlI7c2AXCdS/adUGSGcUiT7o8v0jbNMo7ULHMQF6RtgwN1lmkLbRiVxdVyKiY5ih3StoEUzPleR1tiz7TZ69gK0v5uYu2z3PJntZG2jYzOC1RLAe5jOhJdX9+/YhidMjTEcVTAiK34aHpDGN7Ln/SJviN/JgoboY8r92CmSXyel8m0Ks8HdEMULlcRL0G3bORtt0N6YMFMTqA0PM/HttKTT2LlV6H0i8IZ8nKzle0pXBsbauBtNTYVvJ18YH8gq51pG2ZR4ttJX5SH5pXrGyrI4JZRfL81NhWogCzcpmuGNlWkba6jJ1eT4yMaCmbXPexsq1Es4rkM+HU2Fai8ZtcJtJW2oO2rSJUp+Gsi6rafAWZUenAkGQVMsMfeFLJeOqXiaYUo14TtXPMMOqiGmoZRl3M0hFNURuKjNwolrdrgWsU1GFziK+10k0Z0EdIIxohL4WGNlZ61WsZ9FoWVfcZRl3UNV2iay2SUaXXKINqsV4FeamQAUIbrUgyg73W8jMYal7yga4avaYmacFYdCMsXa3OYiQTrVEXyYiuY5heI9VFFfVMjV5D6quavCKlE5SXfKCrRq/pKmQAX1C8obSfIhlVeo2ZTOg1iXQdg69dJH2oq68q2nwVug/OS74cTpRXpPJEu9YpSVpVdUjudBLKnCCdqUlHdK3lM+HU1KGIMoPuX6PnFcm2Uuqr1OrVoFNnW6npF2NW76Os3x+6/RWeDiDXa3TbSk07LCqzXCaSbRWS1xDsrySdBjqNOtvqRNnDsUpHpLOwtjrSNRpkPYtoN6moZ4Ntz+UDXTV6TTP0n9fw2VZq2lh1dnV020ptH6ym/VQjozSuGJxdHWxbSUIZpWs0KNsqBn1nmkFZZlQ6MMKMp2TftjJKla1/+7doFUCv1USVSTfqo1e2ZH30ypasj175k/WCgUx4ecJiHAjSkU9hFMkAgDN4vZq8QgautRRdRqnBFsiENbR+GfnUZWGZY6DXaJWtP78TpVc1MmENZLLvXgxxTAnSAaIMdoR6jVDPPAoN9mB0r/BEV02ZGWOq9JqSpFWlM1V6jWZcx1iv0WQA+b0vvo6KBq8KvYrazzBjTpBXpLZaqb4maTXQalhUfRjUOJtV6iPqgFnl/REea2ZoMoDs3lfTDgvKI09HTdsQsTxKxlMgncgDwlRDdAML8A2KYqbXGLXn4f1r+H2tpg8G1PWdIXVfTTscod6r0X1wXhHrq8JguL9tiFaHklTaVsOp16gDGZV6lbh8l49INurg6vRx9a8qbCulJ7pq2hhAvW0VM7vpRNnVgj5P/tBPlA4Q5YHeYPQaZHsfj+6D+9dIbbXSNWJMXX2NpW01XHoV9h2q7v2ht8OKTidhHxw9r6GMgw06LTQseh9s0EfXvao+OIpjalQ6MOQXJCslvBGRK9eg04Cx6J6nJK0mJrM0slKiV7asFH1UD2dWSvigSV4BslOjV8jANVKoSEIZQXkA5Uo7kE7kBjuQTlBe8qc/onTkkZxTk6J7FBl8A91oTqckXXTdZ6qotD7dR9drtAbCp/voMoBcr2r0oUImQl5KT+qHmpe8kw0YxYp6VVdf9SpkMoxq62uM6n2YXsOvUVgwP0E6gLp6pk4mctuQnSrSffS85PU1UzRAk8EYVM2Y0ms1UeuHz3BW0cbGTPfKT+z601FyOA6mLqqp90qG81DvD/lSAzXl0TB1M+HU1Fc1szRUt7FD0L3oGkV7Ui/W69DbYXX96+Da4RNpW+lV9K9qbKtMFQMZ1baVCr3G1rZS0b8qDFAHk5dLwTEl1n0E20qh/WTob6tjZVup0ZkK20pNWx2lbejv8wat1+Owv1wKs59F6cgf6Ilk5LofsK3U6FWF8yra0/wRYVtFb/eOr+8cZFsNsYzSMs5MlY4pNf2rGhk1tlVmShLNwJAjr5DZKUkAlAdEWg2LWtn6ZaI9ZVVjOKsZEBVmJkeVKcoamoz8DIqykgEoGzT9MsHnJm8gAzIKnnuxTPS85BUyL83gK7OC8aTXMWijTGHUaaPrHlBXaVNVzNIYmxFLvSoPiETXWt5ABnSv8ERmQB9BDqWIug92OkVIJ6STDZXJTzf684qs+/691ZUMGp3KpUFJKnSfnKSNahjlpxvV6SxK2yDWa7gMoGz0DKaeBXc0EeuimvqqcJ+NzehvY4IMZ9l59k9NVTovnUYTs/pq0GujyuSlGWJXX6PMrui/jiHLQyLpbJD6OK52WGFQXZgZLhO+NCjcCJO31f3tsKr6GqUPVjMgyo5iPAHAuMzwuihH2L8KrnXY8pCI+oguEzvdR3aUjcsMz0udbSXWq2JbrfG31bGyraKkcyJtq4htrMIARNwvxqYdlsv069Wt8BRejW2VpNNEt600TNWMKVW2VVL05Zcn0rYaStsorq//n70vD7OjqNp/6947WybJTCaTfZvs+74HQgiEJeyEsO97EMQFUAQVRFAURXFFxAU/l0/c+fypqCDuokERBGQRUTZZBQIkma1/f9yue6urT1Wd7tt35g6p93nyZObOmaqefvuceuvUqep4X4CmrVixmmMTNUqkrSz3upDPsRKO9YyFwaY6tw1bW7Fitc5r3Abgaeao1uVoK0M7lm16HK2XSFtZKjkKOcHSw5wF3wbG8zG82ScwYtCDsYQtGHf29KLBkZzo6Q1Ywoizl9M1oAO8srrRQxudfY0fNih2mJ/+4E4YNgiAPbs/PrSxrRJMKNmYRdjooY1hX2YbqnJCd0gR/m/batDZ3esMop3dvUVn45QuM8pgnQGbUVbHCdgThg1yrtbSvEataF4Nz4dawqj1NYYQRvE9ofFVJN1fc0KEfZm5L/Nq7quzu5flrxyburxw+lkjo6yurbnB6ffjhw1yJhzHl/gwD7IlXi1+NoFqR+trLEOAUxMZanAE7Gdg9PQGyGmrtWSsZvPqmOgyE1yuLWitTfXOSdO41kHO7X6kL5p4tcRY0u9j4skdz0sTGUtf9YVcrC+dM/k7tomu9FfOFpIsVv44Qo3afqljLJWYMsXYXnOM5XCfhFfbYsSocAy29dVYF5/ImLSV1V+7i9rKdh+7E2grjt/rr1zU0VzvTlyOaWly+j2prQgbwB4bk+kvsy+OIZJOug2VJNY5k9oqUlVl0FY2H+rsCcdplrZyJyVZY7DDZuSQRqdPj6e0lTEOJ/RXg99zxmDbM0Rrq6iN1FZdloluV0+cV1JbcZLNXF2dgd+3NTc4/XVcK6GtDL7ImefY4jBHV8tYvdPSV1tzXFvpiRCprWyJqd6gqK1sCekkmtk5vjJ1td9CokEnpTcIYiWMVDCuK+Sgv49YR11eOAdHbgmO+7wNt7hurHNPhocPLjqAbXAcN8wdIGUQ3Wlx2hbGvq9cLj5B1W3kd6qNXm4ubdSJAzXRrcsLLdBEbbp7A9YElZN00vsy2nAChLOEUQY28yBL86rZkNU3dF+2pFNdnuI1CorX+BsLgvCa7eJJv9fURLeOMfnk+SLPhpXcdB4MV0es1tK+2GXz6RKv5qRT+5DiBNX2fDQU4hMZ07Zf1Sa+f1zy6ubMJsKK3PP4yIR7zkBccPv04IY8IYqjf9uYFpnctQneeMWUToecoNpiLLXSZtrPbeWeTE5E70V3by8KOYe/Sl4zibFMf3VOmty8NtXlnVtIRg6Jr2jHBS/Fa9RodAuReNCuZwjjUMBS8j9yj+gx2Oav8m9w+isz6cTRVqzVwQyeD9YKIqWtTOOrhQ8ySawZtTLOOCgl/y3PEGcMLtk4x1e7turqCUJdnQWvzGpKVgLU7vfDyO3S+uST4NWov8y6qa2ZeoaiRnX5eJKYo610zqSVTVdLbWXbFiZjNWt8zWQulI2/Dm1yH5Q8huRV436Ye1FnhIz5Nm1VV+TVthWFjLEGbWU7h6o8vmajrfpCM1sTGEKIJbZ/1p5rGCopY1sa8Z6D5sSEkTrRHTaoDtcdszhWwqg+tE11eXzh5GXWwbE+n8PHj15kFUY5AVxx6FzUF+zB+KL9ZjrJPXvdFKfNsSsmol4GP0Np2UELxpD7o9S/YK9ZIzGxzZ5RXDN1OJZ1tMVtlIZWdLTh0EXjijbqfVRs5owZirPXTSlesyGIjh/WhEsPmB0rYVS5H95cj48etTCWLVTbGVSfx5dOXW69j/WFHD5x7GLrSkI+J3DV4fOcfFy8cZYzc/2mPac6S7ROXDWplDAwlQweumhs+WA8Ax8bZo9UJsN0UN99WjsWTWiN9aXarJjcho3zx8RsVKMF41tw2m6Tw77oYDxp+CBcvHF28ZoN3LcPbsDVR8yPiWKV+8ENBXzxlOXWipiGQg6fPm6JNQtcyAlcvWm+k7NLD5jt5OzNe01zZpxPWdOBukI8EaSOM5sWjytNPk1nCuwzZ5QyGabF09rp7Zg7dmixHYPgXTm5DfvMGRn2RU92Fk1oxYmrJ4XXrMRY5aKntDfjov1mxvpSB9mRQxpw5WHzYqs/ajtDGgu44cSl1nvdWJfD9ScssVZX1OUFPrx5gdNf33PQHGdV1Vv2nu6cNJ2222TU5XPWg5I3Lx2PBrnqbfDX/eeOLlVFmJLN62aMwPRRg4s2BmG0akob1s0cEWtHxbJJw3DsiokxG5WzaSMH460bpseuWf0bx7Q04vJD5sbuteqvLU11+PTxS6x+1lSXV7g3j8EfPXKhtR0hgMsPnuOcVL99nxnO5+OsPaaUnkVTJdzRyyagIaxSMW3ZOGD+6PJExuD362eOwJQRzWE7NK+rpwzH6qnDY32pna3oaMPmpROsfc0aPQTnrZ8W60vlbFxrE9590OzQX2m/HzaoDtcduzg2+aS0lW18rc/ncN0xbm31fq62cnC/ZZ17DDZpKzV+mrSVeq/3njUSE9qI6gpNWy3tGBZrRyW/qK3GEjblLznaakJbUVvplXCq3w9vrsdHjlwYW2VNo60+6dBWOYGStrJNiC7eOMvpr+eun+qcVBe1lfRX2s8OWzRWeRMHrb82zB5Fbq/TtdXC8XFtpWLF5DZsnDc61ldSbdUxfBAu3jir2I5VWy2waqshDQV84ZRl1kRQQyGHzxy/JOb3KvIZaqvzS9rK3M4pazrKiSADr5uW0NpK9dd954xyVrCtnd6OOWPi2krFyslt2DBbaiv1byt/vXhiK05Y5dBWIwzaSrEvaqvwXnfT7QxpLOBzJy5FXcGsUYvaaqlVWxVybm0lRFFbueKwqwLjo5Z/H3H8bs1CJeV/z1qNWaOHxpxEdcgvn7oCKya3xW642s5nTliCvWePspbFfGjzfBy2eJw14/zuA+fgpNUdVqd9817TcO76adaAvWnJOLxrY9Gx9RJGiUUTWvHBTfMV8RR3tpamOnzquCXOgP3FU5ajqY6aNJVtvn7mKgxtol65WMbNW1aXVqNMQf0756xBx3Ap1Mo/UR3ym2evxvRRQ2JBS70PN522AksntcUmFyr3nztxKdbPHBnea9ppP3LkQhyycGzo2DQflx08B8evnGQtrXrrhulOYXTsiol4x/6zUB9WaVAroisnt+H9h82jOQv/HzmkAdcds7gksEzC6MaTl6Oxzh7Uv3rGSvL1Suq13Xz2aowg9s2qfX17yxpMHB4XaipnN5+9GtNGDo7xqoqnr56xAosnDrP66w0nLcXa6SOsE8uPHb0IBy4YYxU07zt0Lo5ZMdHq9xfuOwNnhhMZUzunrOnABfvak5J7zBiByw+Zq3AWv9cT2ppwbZgkjdkobX3+pGXl7L5BXP/P6SudCa5vnr0abc32Ko3vnLMG4+V2BENy4uYtqzF1xOBYJZzK2dfPXIkF41ut4ukLJy/Hmmnt1iqm645ZjP3njbHe6ysPm4ejlk0I/ZX2xXfuPwun7z7ZKozO3mMK3rbPDGsp9T5zRuG94YQZoOPntJGDixOCfLzEV9rkBHD9iUtL8dy0GnfTaStKvJomzP971urSKqNpe8i3z1lTSoKZOPt2yCsQTYB2R3hdhbljW2LJO7WdL56yHKumDLdOdD913GLsO3e01c8+sGk+jlg63iquL9k4G6fsNtn6DL1pz6k435GYOmjBGFxywOzSFhoqmThnzFB8aPMChfv439ZUl8dnjl9q8Ptyf186dQWa6mR1BR3Pv3HWKudhoDdvWY1RQ+M+rfLxrS2rMbk9PgZHtdWqoraK+Wv56y+fugLLO9pinKntfDbUVjZ//dDm+Th0kVtbnbi6w9rO+aG2sq3UH7FkfGkyrB/mJ7F4YlFb1Vu0VeugoraibZSYFtFWNPdfP3MVeY6Mrq1GMLTVpDaHtjqrqK1syYmitoqPwarf33DiMpa2OtihrS4/ZC6OXznJOtl524YZ2LJuqtXvj1s5ERftN6s0+aK01aopPG318WMW036vtHXjycsq0FZlm5vPXq0krWm///aWNZjQFq/2iGuruGZWuf/qGSuwaEJrfME3oq2WhdpKWLXVAfPHWOcwV4TayuavF+03E2fuMcWqq0/drQNvd2irdVxtdZRbW91w0jJ6TsXSVtE5jFNbbVlTqswzaatvnc3TVvPHt1i11RdPkdrKfK+L2mq09V5fdXhRW9mqKaW2ci0OFYw/ARAEwXrbzwcqVIfMhSkcvSRfJTcfbmnQnUQlNx+W5tlueE6xMTmt7MsmjGQ7nLM01MExn8uTNq7khNrOToMo1vsygXJsvTOqHZWPXK54UJ/NRuXD9EoolVdnO5bBUe1r245u0iYXeT4c7TD3eRf/nqBUaWGysZWoUfvTTTamFXZTO6brMSW48jmBOsSrC1TOTD5k4r7TMGni8JpTbF7dSfMq27ElneSWqAYmr7KEUf4eZQOYhZFqY9vORfm93lBpBZHDq6FCJydQqhqx+ZkQxQOidhpibMSHDKsE+VI8z8N01koi7m3+ahg7IhBlG055M1B89ptQjNV6WXL5XpvjMDUZNvIaeeW11lc+T/Tl9vsIZzmBXE4Ut4cofdExNm/0+8gYbPD7nCGeq5Cc2ZJOHH+Njh1mgQUgIorl/Yr5K6MEvOSvkcmegQ8G95zx3lQmng8P1QS0Vy72xPmwLSKYeO022HC0lW1FV9qYeM0l4ZWhrTj3ulz+b+6PM77aFqJi7RgmnyxtpWjUiL/2uHnV+5I2HG31qkNbNVgmVmW/5525EASVayvW+Ery6tbDxnHBcD358LBU/Zoj2kqdezB0Nc9f3drqNYe24vk9Y/tQ2E5W2ioaYxl6WGuIrLrj6HPl5zmFV5u/ChE/KNmkrYz+GtFfZZtek642VsKVx1eX3xdchwAbf6JBCDEPwBwAjfKzIAi+wv39WgIdjM0ruqxJkxrUnaLHLZ5sKwmRJAdjPzBQFBny0C2JoGRjHhyl8KdW6k192QZZzl49abPTMkHN50TsfcTRYFz835qcMA3ElCi28lq+bk5iyiWeuPsCgfKeNBUsXjUbW5DgTGJdpXfR6ylPZNTFq5wA6nL2A//yin+YMsWqCDWt6ql+b8qAJxG8Vu4FHWMoqPexURPF8trs/orwmuMJA2NfiZNOUWJLMcbQlxw89b5MfmZOTkjuBSPBJRjcW8ST+nw4EslWfw27lZVw3T29KOj+Km0sycQY90R/8i9M5K+GpFPxeuLJRGM7DsGrj1XkIoLlzJpoO+5FhNc77ZMdu7+W/zZjiSvKNrISToioKC7H2PK4GC6oWSaWFK8h9yUb8xk5pXGawb1tfzrFqy54ZcLRNdmJnVnTE21HXre7HbMvqtrKGastVVWRvgzcl/hQznTStZUEK1az/CyBLybUX4m1VUI9bDqrKq/Gaoa2Mj2v0UU/+yJCXcF8Rl2gxGqgOHbq2krCFmMpvzeBSnDpSOSv6sQyqbYy+SsjSUwtIujjYi+V5Mjn8F/XXKhC7R3jtbcXDY7FXI62SqqHk/RVton7vVlXJ5vDmLSVaR5sWsjvITRzXT6H1zq7yL+Jpa0MOj9mZ/yJAiHEZQA+Gf5bD+DDAA7h/G4tgiLFVsJYyDPEEyPxUMjR7agwZThVyOShrYRRglMVQa7Y6TaW0irdxnY6Mavag0iWkPfaInrkKgKLM22lPtoO7djRiW7YFyOjaNs/VsiVB3RTCaNEksSDaf9csR0iQDL64nCmrxKUz+RQ73W5TSHKq7UszgyrSJGEgaP6Rh/4SO5ZVTNmwWt6XikkETS2lR1XmaNqkxn3EfEUNSqdgm30V0NiipjsWGN1Ur83TWQYnBUUYcBNTNkSwFTSyciZ5QAxqq/4ih3RF+cZMtmYKp0MYoWVlCRWdG1+X1D6Mt3nSFLS5K959RmyLxBQW3p0pB1f4z4thbOaTNT7cj9D9Iqu6XroWB25145FBL62co/3lWgrjr+qkya2trJNQFJrK4ONze8dW1EAenxJqq1MNhzOOLo6OtFlaCuDRovYaIkylrayVMSU/cyiragqjZgmSqmtDLEhylkybZVLHGNN2qocPyMxP6DaMSedSv5q0VYlTZCgwpGzCJuVtrJVclB9xWI10VdSbWVaQEs6DzYtIhhjAyfhaPTX4v+uQ3dZCQwAmwHsDeA/QRCcCmAhgAbm79YcTCVRpgE0F3kADJMmbfIp0Uu2YxZGMqNoK5sSymQYoAdHgXJfZpuwL2o1LnQSofztgH2wTiKMOhkrurZgLPtzbenR7zXNvaX6hjWgI2zHvY2gPp93bg2qy8cP85OQi3zU4FiyCf+3DY4696YDU13tpLGxv2GEVzUTO7PGMNnhlC47B3SLL5quh7KRzyIlnkq8WiZEui9SiYdyO9SEKNomXcKYTYIr9to9IWLnSZgmuizujWXr5WtyVXJYK+E4W8dSVMKR/mrlTNqU//aYjQZXObGpL5O4Nq3qAcV7oB+U3MPYphcRTwmEUYx7gwB3JxwZyWbLhFmCM77aVuNi3FsqYuh91fT1sBYRrNvL4quMZIxlbL9sKHC1VbKYn1hbpaiE42krIlaH/9eTSSdDUoGxVYszIerkTJq6aX9V44xzu3ShQm1l8vvI4hBK1+Pm1eyvatVIZdrKrKt1bdXA8jNKe2s2jKQkV1txYqxe2s/izDinom04K+ysiW4kNjC1FaG/pQ25NSjWTrpFHd6CL0gbWwJDVsK5tFWlurqsrYRzwcKmrUxjB2mTF+RzXLom40+i2B4EQS+AbiHEUADPApjC/N2aQxcxEBf36pVLM437+SLkxh079pBQJekFczmcaUCnQJ1wbbKxZZPJ1biYTVjGxsoUW2wYe7gL+VzshGtq8LIHyHJ/0Vc3MsR1Dx2Mk+4fUyEHYtvrFG1BVEeDRTxJuPbPmfoy7nO3rugy+qJWf4jrZ5WdxvZMx5NOcX+lOXOXuPK2kLgyzhxe6wvxw9p00HudaT5sZ9ZwVhLSnpHC81c6fkb8lTUZ5sRqE/du8cTZL+9arSXP/tGQbK+zRfAyyk45vFIJLpWzUlu2ZCJjz3S0xFX1RZX78nWbxmAT973GJIcpKan01W1frU127hMjVnMSD4wVdp6/ln9gEsWm8dU00aW0lR4bTWXJ0bM06Hie1O9VRMYFxzkILH8l7nXMhpN0YpynQJ1ZE/NX6swazYatrWyVcMpEJsq9wRcdSbBYYjtlrLbxqicnbL7YkGeM05SfaTbkocx6Oxz9lWjCTN9HtT/1eiKcJUkmxvyV1t6uvmyVcKYzF1To2soeY+Nv8IrZcGJsaexk6GGL37sO+oz2ldRf6aQTJynpPtsk754HcxYRuLrawhc3gbFVCNEK4PMA7gLwZwB/ZP5uzYHMBMYmMpRju8m1laRH9nkbSFHL6vT3EetIUsJo2zebKBNoKROn9nDrNvQrW+lrsr1jnLJJWsJo2mNnKm+OJLgY+8dUyLI6GbCzKmFMvn/OLYr1W00N1rqN65WtAMqH+Rk4U68pev6JKmbL/ZnEbMHAK8tfyYHYnHRStz4YE1Ph//1xjoxtkkL1ZeKeU8LYaeBM7c+5omvxV7MNJ1bHxbVuQ+7RtZ1FpPQF8MrEObzutPpZghhri9UMv6f6ov1VGM8rMq20qdybcfy1KQAAIABJREFUfCjpSr0pkcyJDSrUc1RMf7NEEl5ZsToh96YJkekVf5G+LD4t7Tix2rT90nhmDZHgsm5HMPi0SVtx9su7tBWLM0ZCmtJWHH+Nr8LHNUFcf3F5jR6UzNNW5a8Lpi0CjGoos7+q2oqI1YyzTZJs5bPzal6pL9u4eS1zryadDMkJm98zdDV1UDJPW7k1EWeLUdJtgxFt5dpqwNBWvDNi0mkrYxy2zpcoPZy8r5K2ciwi2GJ1wRAbOfNgatugfmYNR1dTiwg2bSX7KlgWGgDmIZ5BELwp/PJ6IcRPAAwNguAezu/WIujkhEUYRcrYDM5vOqyMsRdJRU4TxdRhfhK2EkaZyaNKGI3tJC1hNAojc8aZKuOiJvO2EsZSWwV9Sw+VCbScp6Dca/UwP+ObD9S+DCKMM9mRJYwyWRX/u8zCiDpoygS6NFXrqxREVV5pYZR0ewiFuKCJ28c4YwhekzBSD/OjStvjh4HSk2Fu6TJ1mF/5b1eefW0DXvlAN74oTl7CSLeTNMGlw1XCqLZl5qx83W7uzSWM5cHRtooUXo9tRdewbVCFOqkGDIf5yZW/JP6acI+utC6LOcaqb4l7c1/yMD/b1iDAvjKu9mcqN88pwsi0NagScU0nVHhn1gDFv19+XYK2pSepv0qUD4Yzr8bpZetJS45jW4OIw/zISjhLybGEdWsQi4+wHZu2SrTIxNdWnMP8kp5ZIyF/y7ZdJ16SruomQ7KZ4dO2mF+87pwxfpbaimkravLJSzq91ulY+LFtzU6orXpDbSXb1lHPmuha/LWkqznja1x7xzhjaCtOjJHX7a6W450vxtFW27vUt0q5dZN5i3cF2kr3aUJblf52S1WVfpC2tSoiibZKeGaN3hBVCZdYW5mSTgZt5V5EYBzgatsuzNBWQpm/2cCtwIAQYpwQYg2AiQBahRB7cH/X0ub+QogHhRCPCCEuJn4uhBCfCH9+jxBiCfd3Tejq6cWLr3WWvledVmYme3oDPP/qTtJGEhcEAZ7dtqNkYzqw6tlXdpDtqA/2C0RfenmRaiOhO8l/lb9Lt5HtvPx6/GRYfdL0yo6uWJZSzya/urMbO7qjVR26Y7/e2Y3tnVGb4it9ytezo6sHr2yPX5MqnnZ09eCl1+N/m5rk6OzuxYuvlduh7nV3Ty9eeLXcTpSzoiP19gZ4bhvFfTTwR7mnM5zRdsJr1hJBFK/6IPuihVfZH3V/9BLGl7d3xVYV9BPQt+3oim1v0p+h13Z2Y0cXzb28nu2dPeRrz9SgVeSVfh67FF7/+7rdX4u8mjgr8/qswkeOCNhFnzb4fbfKvc1fzbzqiSkbr/LvJ3nVkk4vb++KDcr6ahzFqx5jKF7152x7Zw/5hgfVP3Z09eBlwqfVjHuR17KNELS/qveIektPb2+A57cpzwcxyOq8mlbqVZ8u7wnNR7aHkP6qrZDZuJfXxI3V+qRRn8S+sqMLO/U4rPX1KsNfX+/sNvAajcPU+KHa7OymY7Xqr109vXjhNcWHCM70MVg9rM3or4aDkiO8ynMZ8tHD/F6g+spzeJUTkGI7NK9RXzTdw2I75jFYjzEUr/oqIzUG64f5mfxVHRd3dvdE4rDaX6fCa8RfCT+zaStpY/RXLelkjNWKDTUu6M8+ra2iE0ubv8p2bLxGtJUWq2l/1WwIf9V51Q/z297Zg1d2pNNWaowtaqt4jFUnVvoYHNFW3eVYTWurKGcR7g3VFZS24virfq9tY/BOm7bKE9qqx+Svyhis8ao/H7YxWCadtnf2kK91V33RpK3qdG0V8dfi/+qWHpu2Unk1cRaJ1a+YuFdjNeWv0RhbKa/ymmheo0mnIq/2Bb1tljHYzmv079re2RNJ9ql2Kq/mWE1rZvWauhRejdpK4TWirUzz4FdobWWaL6ntuLRVbOFAA6sCQwjxIQBHA7gfgLzDAYBfcX7f0GYewKcB7APgCQB/EkLcEgTB/YrZRgDTw38rAXwWwErm75I47+t/xq33PVP6Xi0VlkHh/T+8H1/+3WOkjXwAPverR3H1j/9espFldeoBON//y5N46zfvJtuRJYx3/vNFHPv5P5RsYqsEPQEeeXYbNlwbv9Wqk7zw6k4svfLnRpuunl709gZYeMVP4zZaMF5wOWGjlTDOu+xWa18AMOe9cRt9tXbN1beTwUZdJdj0md/h/qdfidmoE8stX70Lt//92dLPqMPaLrvlPnztzn+XbCjOPv2LR/DRnz1UbofYf3vz1sfxjm/fo7QTt/nVQ8/hpC+Wd1lRlTWPPf0aNl736/jfrmwNenbbDqy46jazTU8vunp6seiKn8VtNFG88H0U99F9s/Mt3MvANpfgXhfFK676ObYRg6y6f+7gT/4GDz/7asxGDZCn3/Qn/Prh50s/EwSvl3zvXty89YmSDcX9x3/+ED5x+yMlm4KSeJA23/jj47jke/eW2yH8/va/P4PTvrxVsZHXXB7UHvzPNhz8qd/E/3ZFYD398nas/uDtRpuu7gA7unpoXgscXqM2FK/6ih3Fq15VteiKn5Ln96j3euN1v8Y/n3+NvCZ5H0/64p34w6MvGtop2lz07Xvwvb88WfqZmix6Mezrmp8+iM/e8Y+YjdrXV37/L1x2y30lG+n3al+33vcfnP0/d5Vs1JV6oHgf//rEK9j0md+Rf5e0efzF17H2w78w2nR2B3h1ZzcWv9/Ca3h/qViti2IqVuvVFZxYPf/ynxpX2KW/7v3RX+LJl7aTNvI+Hvf5O3HXv/5rsCm287Zv3o0f3vN06Weqn8lKuA/+6AHc+Jt/lmxktVqDEhu+8Jt/4sr/90C8HeWg5B/e8xTO+/pfYjZqJdyf//1fHPW535dsqLOI/vn8a1j/kTvif1e+fGbNy693OXkNAsMYnIBXaWPjtdMyBks72c4eH/5FZOJQ/tvKNkdd/3v89YmXre3YtJXk9Yr/uw83/f5fpI18hq7/5aP40E8UbZWPi2KbtpKrtb//xws47sY7yzbKuAD0jbbSk040r9EEV0XaqqBqq9siSeJSW8p9PPwzv8MDhLaqt2mrSGK/2Nd7fnAfvvHHamurYl+/fOg5nKxoq7wSzwG7tlJ96NlXdmDFB+zaqrPboK0YY7Dur2m1lX5Qsk1bSZuDPvkbPEJoq3qOtlK4f9d378W37lK0FcGZSVupNl//479x6ff+RrYjn/vbHngGp9+0lWwHsGsrVVc/9dJ2rLk6nbbSx1ebtuq08crQVnpSkqOt9vv4r/CvF14nr9ulrdRFpgu/9Vd8/+6nSj8rMLRV9JxHjrYqtvOTv/0HW75a1lbxc0vM2iqTBAaAwwDMDIIgPsqlxwoAjwRB8CgACCH+F8ChKCZJJA4F8JWguEzyByFEqxBiDIAOxu+SUAdYgM4mf//uJ0kbNTv10/v+E7VRJjLSRg0ORZt4CeNfHo+KPVkwo2aTqUBUvOayuH7+1WgSIFZ22t0by/zrJYzU3jD9BN9K32tcvO7yfaSSFwAiJb5U8gKIBj91gAWiGUWZ1VQnQ4BWNhVez09ivMZX/H/10HPGvmQJoy7i9WxyZ3cvHnpmG/23KwPfMy9HB6qSuFbutZ7Z1XmlgmL5UKt4CaOONCWM1ABbbKt8r6nkhWzH5EPqNckSxu/8Ocortfrzo7+ZeZU2v3jwWbNNuFr7x39GeaVWa2OCMCace/Hstk7KJHJmzetaNl7GBpV7vSyR8nsTOHu49RJG0+HD6n2kkhdlm+LfRA2wRZuy35v9tdzXD+95KmqjbA2S13pbLDbE+/rDoy+QfanP/n1PahM4zc+6ugM88d+4uACilU7btFXRcswvfrWzpzf+FpeSjZtXzuGC+vYQ0wGkaqymkhfymqQNlbwotlMWT2ryAoj6kOTslr9qvKpVGuGk6Wf3a2O5knSSe/x/948or2olB1Dk454nXjJcc3ny+ZjxmS7Hc33VS39zTGdPb2w1jxOrqb6MNrmoADe3VeaMSl4AiBzoRiUvSu2EfZm0lWqjiuaYjdRW90djdY6wcWmrzp5e/OXxKK9Ci9VdPTZtVfahmLbSdVNPb4y3rP2VswVNtlWqyCWSFwAi50lQyQvArq2E4kOvh6vB3/vLExEbakvPj/UxmPB7m7aSq7V3PRYdO6T2VvWwS1t1dvfGVrL18bWrJ4hVGZfH1zBWWzUzn3vOW6xK1ZQMbWV6rjnaqq4gShVA3/6zxitRBalrK8pf73gwyquuv4raKsprTvdpSluFUH3ohdcMcyEl5r+2k9bVal9ZaCsbr0KICK82bSV9iEpeSBu3tir7WSwOE9UVRm2VZ2qrboO20ivhKG1VumZBfl7qz/rTMh4FUMe05WIcgMeV758IP+PYcH4XACCEOEsIsVUIsfWZ5+IOm9OyyS9v74qVXqmvhpEP/6OaoNH3B+3s7okF0ZwmaHZ09eL+p6IOKR93NTP7tydpp1UHtb8ZH4DyQ3K3NqDr++67enrxsHbN1B7dR5+jg6Nawvj4i7SjAeUytqcMglhed2eYJTdBTqyo0iO1na7u4uqYPiGMvHKxpxev7uzGo89FedUTXDu6evDwM6+SNvJeb+/qsQoDoMgHh7O/PWW36eoJ8NfHozZlXst86NdDnaXxDwOv6gTt34YAWrQrBi3TRAcoc/+MjddwFel5K69FYfTS652xyZcaIDtDXvVJtX5o0Y6untigrx/mt72rB3//T/Q+Um8YuU/nLLzZKmdmn5aTlAB/1SZWpX3VCq/3xeJHELme4iqjXaR39QT41wv0BE1eU1d3r3FyXrQp3uv/vGzntasnWkZMtSN51aH767YdXXj8xeizpr8ObHtnD/6h/f16CeOOrh48+B8tVktRHN7HnV3xey0JUZNOMX8l/Eznntovr0+qy9ybJ1/62NHV02uceMv+Ol2xOryPT7/sjtUcXqlSfJ2zV3Z0xSbVakVMV08vXu/sxj/0WF2ayChjsMarLp52EmNw6ZqVg5JjsVr6dMEcq4OY3/fGfFpC9cVHntXG4JhP9xqThGolnIvXzp7AMQaLMNlq9mnJK7UQESn/D7WVPmnUX7v3GjUGa+cVpdVW0kPURFAabRUfO4OYtiq3Y55UU/rLpa06e9xjcBbaSvJq01Zypf7l17tiW16ir7Omx2B9NZ+rre5/OnofqYmlSVtF9ZcjDvf04q8GXlU9bNJWKq9ObdXT6+A1l4m2qmNoq3plDNbPdtD1sI3XJNpqR1cvHtBjtcb9zm6ztlL1TsxfNb/v6unFPQ7tXam2Uhd87doqx9NW3YFVW8ltk7YxWPoZqa2080bs2kqwtFV3b4Cd3XHNrC/6WbWVHNQN4FZgvA7gbiHEbQBKdygIgvOZv0+BSq3o6SqTDed3ix8GwQ0AbgCAhjHTgzGGi5F7aw/8RLzsTD8E5dQv/8mY5JAPwDu/fQ/u1ZxE3T8GAFf/+O+x1ajS9YQ2N/3+MXxBKaWN2hTJ/el9z+BTv3iEtJGB9t4nXo6U71F9PfPKjkhZJtVXZ3cv9vroL0kbdXsIVUat9tfV00uWeanX3dXdS5b4qdfU1R2Q5Z2ldsKk0z4fi1+zLoxO/MKdkYOJAH3SFOCCb/0VDz5Di2J5H6/84f34qbY6qF4zANz460fxpd8+Rl9zaPP/7nkan1FKuKLtFPv687//i2uNvBbbefKl7XjzN/5itdnR1Yu9Dbyqq7V7XGPmVa7a7GbhVfrQSguvkvtlFl7lgE6VdevJxGNu+H08yaGtDr75G3+xDsQAcNkP7outJOji6bN3/CNSIq1fM1CsLLj+lzSvkvs7//kCPv7zh63tPPbC6zjna3+22ry2sxsbrqV5VYX8umvuIG2Acmzc/UN27rt6Aqz6oM1fi36//CqLv4a8Un3pByVv/uzvYzb62yrO+dpdMdGnC6NLv/e32Eq9bvPJ2x/G//7pcVCQIuxbW5/A5371KGkj2/nNw8/juttoXqUwevjZV3GWsp0l2k6xr5de73Ly2tXdiz0J/yhfd/FeW2N1KIyo7U7ldty81uWL2whWEs+H3Hstz6w57FO/jdnoK/VnfmVrTISrfh8EwMXfuRdbY5Vw8u8qfvHRnz2I72qVPuo1A8DX7/wXPv9regyW/nrH35+NlFFT7Tzw9DZcc+uDtE2YLHn+1Z3klga1nc4eOu6pdi5e6xljsIyf1BbGcjvFg5KXXhkvxy61E46vLm3V2dOLU7/0p3iSQ/P7dzC11f+7l9ZW0s++9NvH8MXfGrRVga+t7nn8JYu2Ktr8Jytt1W0fgyVnTm3V49JWgqWtuhjaqrOnFyfcSGkrNVYHuOBmnrb6+QN2bXXDrx6NbAGPXHMCbXXXv9za6on/ZqOtXLxKztzaKnBoK1GZttKqW4/+HKGttIOSWdrqlr/Fq2+EvOaizWfueARfyUBb/eFRt7b65wuvVaatlIOSrdoq5NWlrTp7eh3aKsfSVqa+9IoYajuHrqu52kqvCNG5v+62h4zaKqsExi3hvyzxBIAJyvfjATzFtKln/G4iyMGBynBGso7dvbFSJyC6PwiIl9ZE2gnfR/ybR56L2ajXAyAmwCI2YV/6YE7ZmDLAal/PvGLP3gEgDw/S7Zxljkp5YiXt1BVy2E4caBNpJ3Q2qkxWP2TsL/+OZ9vVVYKe3gC3PxDnVbYj98/pgThyzeG9/tNjdJmX7AsA7jGU7ao2pm0Yqs3Tlqy9vGbqsC+9LU75qu3VY9LG9kYcoDjw6YddUdfT2dNLlsnq+6GpVTb9JPVfUP6qVVf80sKrOjjarhkA7n7c7dOmEli1L1vWXrbz0nZ6ixYQL2G09ZcF92pJqbGdQnllR4e+b1YXu7pNV09vLOEElIWzfPbveJDwaW2Q/f0/3Lz++d9uXk2VWUCZV9vKeUN45sKLxCqKhDwo2bYdQV4TqyQ9g1gtq6robYpRzv79YnylSX/12m8fifOh+6te+g7EV/5+R7RTuuYEY3BsBYmwMVVNqH0976hiARA7vJHqz1WSnoQzl83L2wPybRcSMsY88V+GtiLGRRmrpb9SY7CurX77CF0eL/sCgK3/sozBoY2pArLYl1tbyWu2rp4qEyIbstVWLl7z5OHqKuoSaCuqQqXMffGg5Nv+Hk9M6NrKtO2heM1FG0qfq9cM8DSzdQyW2spSmSafIX3LINUWh9esYrVLW8mEI6mttHMQqLhX4ix8Pqg4nEhbhTZ3GrZGAOWkk6liRm1Hr7ZUIZ8zKlbp7VCHaUrkckxtxYmxbF3N2OIdnsEVu16ZLArjx5PPErE6K22l9AXYtZVMJJvAfY3qTUKIegAzwo8eDILA7pVu/AnAdCHEZABPAjgGwHGazS0AzgvPuFgJ4OUgCJ4WQjzH+N1E0F+7p4LzPmK9NHUb8QYGdX8QAPItDRJ1jOAnbWxJBdkXdT1J+pIljDanlf3pJ/JS/XGczT2xMr9DWm3H5PzUQUIxG6KE0dRO6T5a+TA/HzEbSzucwTFJX25ec+TfHrFhJp04Z2nYrhmwT6qpfdUmm/q8QBAA3YQC10vdeD7k9kW7v7rbkYGf05frPtblc3jdIZxlCaPVxvJaSon6Qs6ZAJWrSBTUV2u5eLW1o/t0pfeRxRmnLw6vBff1FBNTOadwloLGZcOK1QyBleRcBh36NhMKcX81JzelzSsMPnjjdIWxmsG9PMyPM7F0Ja/4vLrGcrNukrCJ62gVpMFftVV4alzUtRVLN1ljLMfvs4nnsp0stBV3IuP2V562cvqrhdcSZ+G91rehqO2U/TUbPWzz+3pWO1nyytBWHF4LPO452orzimmXrpaVcD2ZaSvzfSzF2J2VPh98Xl2LfrLq0AaWv1rmpqV2ONrKor1VbeWcByfQVpSf6ecqWu+1zHYYwH0LyZ4AbgLwGIrbNyYIIU4OgoCudWQgCIJuIcR5AG4FkAfwxSAI7hNCbAl/fj2AHwE4AMAjKG5jOdX2u2mvBShnkyno+4Mo6IOszcZWzSB/u54hnuoZAzFrMsyorpAljBzxZLsegCtmhVNcc6s0TBlOzvuIcyxe5TVbeA1/vYElimWCqzIRxuFeljC6eOVy71zZCUsYXX1xs8kU1P3ynIHYBD0pSYkM/Y0FNh9K5K8MG+tAHKpDJ6+FnFNgcVb1bPGz1E6Fk1hOXznNFylQB/7pkN7ewODVyodg2JTaMU/QYn1RwkD5uiHv5rWuIGKH1Olgxdh8jnz9W9TGLcJsSWtVGBnOG40dlEzZyS1fZX91i2KaV/ekWkJO0FixgdQEImLn9Ne8wHbilbiRa2L6K2tiVcHqceTAP+YiAmnD0Falay64x8VE4ysnCUY8Z3LskNqKM9F1aSsOr5yVYdbzwdZWrkUEG6/l6wEcPsTxs5L+qjDBxeC+kM8hJ9wJDJ62MmvUcjvMGMtJNhu0VfkAV4u20g5KJm00baWfTxe9ZkuM1SrfK9dWDO3N1FZ1TF45vpiV/spqwdeEmLZiHGDL0U0mcLeQfBTAvkEQPAgAQogZAL4BYCnz90kEQfAjFJMU6mfXK18HAM7l/m4lsDl2QRNGFNSVBBP0/fK2gMQSvKVVAosIS+DY7tVRwRpkOTacFaJtXdmIMNMqkn7CNQX9VU4U5Gu8JPf2ctqMqjQymjDL/rLi9TWGcOasJLgTU5VtfeAkMApKIsSFzKorEkx0bbzKw/yy4VVYB3TZTiVJJ4l6Bq+256P0Gi9WAoPDa7arNjx/dVfCOVd/GIkpnsDiJTCy3D5EIZG/OkSPakOt+uo2PH+tfrK5aMfwaQ73Bc4YLPDKjoxEsUHrJNJWFl6TaasEVRqMyXClfi/tMonVBcHSVrxKuPTjq6qtuo3aKleyMSGVtqq0SiNBJZzN72V/WWmr1zNKSnK0VSXbVfL5jLVVpYsIIZJUwtnayVZb5TLSVpwFX0aCi1WNzonVfG1lTV45tpC4R/qwHZm8AIAgCB4CMn8rSb/CXurGmMQyssn6KzDt11M0tpFbbxE9el+2qgBbWZ1QnkPOam0Dc0XXVcbWwJnEclb8mfuBTcjl3Lzqhw3ZwHkVnm3Vt1ShYxHXnKqApLxybTgr/rzEg2u1Ic+q5DAJHk42ucx93tqP7AswvI5SWyUg/VVbGaYGWb06y9aOtOOs/mTBfQNnQsQ9R6WC50N/ewgFDvcS1smwXlXFmuy4ebX5vRCC5WecCRFvNT/nPHOBE6vZZ+g4KhxZ/srglTcGVzaJFRy/D4mV20M4++Wz4LUhzyhvZpSkcyt0TDGfpa0YNjxtVTSS/mpLXsm+qEQhT1tFdYNzESErbcVISvL91f1qT047JnBiNUtbaTa267b6q7RhaGaO/pJ2WY2vrEpJlr8ytg0yYrVRW4mMtJUcX/P85BU5h4lV3aXU1Zq2sm1DAvicZaGt6gt55nwpA23FWByyj8FJ9Jc9EcJNYGwVQnxBCLFn+O9GAPQx6QMU3DIdE5KIJ1dWydWXbsPLJpudRB7mx9kzndWKblb7AjmrSBynNYFTvlpqJ0E22WrDyExysslye4hTFGfEWT2TV5dwVt8hbbRhrtSboL92j7YpX48LSXi1vj+ccz5Ozs297C8rX+TYuK+HtzroTEwxEsnWWM3gXr0ero2pikvtq9KzNGRbWXDGEU+8Sg5mGSyDe9M9LE9kLKs/CWI1zyZBhU6F5eayP05FTFYr9Zx2KqmukOCep2ACZxGh1E5G2irJmTWurbdFbdV3VZAsbeXc8pXNOSq8SriBqa2EYFTWMONndhWw7q18HM44VbImlCe6Zs6y1lby+ahYW7Fj9cDUVpwElwmcrUFZaytXO9wExjkA7gNwPoC3hF9vYf7ugIDN2SQ4ezCzEkasVSRWWR2vhLGYuXc7rSvrWBRG2QzWruvhVmmYShhVGxM4W4M47UhkJsLk9iFGKSinXNTJaz7H4tXVTj2jHX6VRnpRnGeUMJbKkrNa0U3AvU2IyBLGLHgtTmKzeD7cfl9cSeAcBOte+TMhyVlEPOGc7UTXJjJkWa17y5f7XmfFaz2jr2J5c+VvxrD6IicxlTGvSUSYbYzhJDmkXSa8MlYHWX3lc6zxpZKEo9qOCckSU5XpuGQ2XH/NZlysK4g+i+ec8xTqC5VpqxyjJJ3TTul6sornjLM0ygclZ8BrRvqLm9jO5A2AFfprEm3F495dJcvRVtxKOPYcJpPng+H3ebe24lZVmZDk3LiskpIFRzvct5DsBHAtgGuFEG0AxoefvWFQaYBMtFKf8cqf1SbnLqsDpOhxr9g996qd9qLTZrHizyuT5qwkuMBbrc1okM14QmRLXgFhYoqRdHrxFfNrGQFZMpfNij/rIFiGcHZop8xWazPzV0bA5vQl+3OLJ4HnX7Pzmqm/Mp4PjlCrpBJOL9snbWQ7GU9irTaMvuRhfpxJ40vEK+5U1LP44K0QZXPeBu/MGhc44om1WtuHkyZZCeeqKOQelPzKDvMrOYvtZMQrx+8ZB8FWrK0S7KvOTlsxno9QW3HiFWdrJUdb9RmvzCoNF1j+2pd6OIHfu/UF41BVprbiVMJlFc85CbeKtFWSSWxWnGWqrdyLQ1xtxYmfWfkrZwE6E21lTUyF7WS2yyCDLSRCiDuEEEPD5MXdAL4khLiW87sDBUkqHihw9vPJyabVRvZV4WRY9iXfR2yzAWAsL1JtOKVlLBvmXr0sTudtqJBXzp4uFq+hDcdpGyzZZElHISxhtPUlr2mg8crty4VKzzYJwrvN494SaEMjTl+250PVFPUFutw+UKw4fHDLCrOw4fRVqb+WbBj3kWNjFUahkfWa5fORgFeODeVDqg2P13w23LPiR966xUb25QInMWVbjeP4Get6Ak5siPqipZmSDc1r2agv/ZVj05Dn7al3wX4OQjZjsPSQSmMMT1tpcZjiNaK/sint7+tx2gXWuXGV8sriPrRhxOFE2srJa1bxMyN/ZepqF+zn0TB4ZWgr3vjK0U0JtZUhgZNUW2U2dmbmr9lW/lN4PmUgAAAgAElEQVTgzV/53Ge1haQlCIJXAGwC8KUgCJYC2MD83QGBirPJjHK45oa8s50RQxqcNuNam5x9TW4fVPra1Nas0UNKX5selAXjW8rtGMR8x/ByX6aHUr1WXma270tBKZT36pnbGVRf5NXmbMMHS17NfY1pCXm1TJrkvZYljBRmjCrzarKZN67FaTNj1GCnTXN9ebLQtysp1V8Zbyy4/XVYc53TZnSJV7PNpLYir7KEkcL0kW4+5o5x8zp37NDS1ybOWgeVz2iuuZXPCvuSfdiSTq1Nbl5HDnXH6gkhr7a/a1qEV9pu9hg3Z4smtDrbGRmOL8V2+rCqjFUVkc2Kru1eD20s8mq7Zs4YPH6Ym9cpI9z+Omv0UKfNgvFlXk2cSU1ga0dFn8bqSreQMJLNHG3VPjiJtjLbTBnRXPraZDczqbYy2ExpL/fF0lasSXxWvlhZpRNnyxdHW7U11zv7KmkrSzs8beWO1aq2Ml33TIZGi2irPoifZZvqV6dxtFXroHqnzWgGrxxtNU2J1SY/42ir+Qzuo9qqxmJ1H2irlgTaalBDAQuVOKmDm8AoCCHGADgKwA+Zv1Pz+PFb1pa+Nj0kXz51eelrk2N/ePOC0l4dUzsX7jtDET20zcmrJ2F5R1uxHYMTHbhgDA5dNLbYTo622X1aO87Zc5py3XG7hRNacfkhc0vfU/1NGdGMzxy/xNrOyCEN+N6bdrPaAMBv37mX0+Y371zvtPnFhXtarxkAfva2PZztfO2MleV2DDYfP3qRc+/1uzbOwsihjVab03efXJpcmK75sEVjccD80dZ29pgxAmfsPsV63YsntuLdB80ufU9NHKaPHIxPHLu43A5xTWNbGnHz2auVdgx8XLRn2cbgH7+92M39HQxef/72Mq8mEfbNs1Y5+/rUccrfbrB5z0FzMMwhjM5eNwVzx7ZYr/mIJeOxz5xR1r72mjUSJ63uUK473t/yjmF45/6zlOuO28waPQTXHr1QaSfe3/hhTfj6GeV7RF13fT6Hn71tnbUdAPgdg9dfXVT2aTOv7r6++6Y1keujcP0J5bd6m57XKw6diyGN9gH0vPXTMD0UmKa+jl42AXvOHGnta8PsUTh+5UQA5cP8dKyc3Ia37zOjfN1Ef3PGDMWHj1hgtZk0fBC+fOqK0vfUvR7cUMCPlDHP9Pf//l1uXn/9DjVW0/5x2wVlXk338f/O293Z1xdOXlZuxyCMPnD4fDTWhaLYwMfbNsxARzghNF3P8SsnYs3UdqvN/nNH48hl4wGUD/PTsWbqcJy/V3kMptqaP64FVx0+r/Q9dR8ntzfjxsjfH2+nrbke//dm932885K9rX0BGq+Ge327wqvpXqvaqsFwPTedVn5ebdrKdQ7VRfvNZGmrZaG2MvUV0VaGdtZOb8eWdVOV66a11WUHz1Vs4v1N1bQVxevIIQ34zjnluMfTVvTfVg1tVV+gK52+fiZPW7mu55IDeNpqodRWBhtVW5n+rnVMbXXJgYq2ImxmjBqMTzK01TfPVnQKS1sZuE+orUw2qrYyVTx8a4uiBxnaymTzXqa2mhMutJjaUbWV6Zr3ZmirZZOG4R2KtqL642qrr55efvap+Flf0LSV4bo5Y3BEWxnuo6qtTM9+Ym1l6Ov9TG01baRdWx2zvKytxrU24QeKRtDBTWBcAeBWAI8EQfAnIcQUAA8zf7dmoVYgmAZrdfXD9LAtnTSsbGMgZdWU4aWvTcTtPn2E0g59PetmjChNquVhfjrWTm+PZBqpa1o9ZXhJ8Jn6Wz6prfRAmtqZM3ZoKRiZ2pnYNqg0EAFmESpFCGC+15PVFQnDfZweyW67s+QmzhZPbHXarJjc5uxr92ntpa9N17yHwivFKQDsMb29tGph6m+3qe1oKKi8xvtbPrkNgxsKVpv541tKGfDiddOJkJFDyrxS7eRzIrI6aAqiHe3uVS0Z+Gw2HF6jK9UGXjvKvJo4221qmVdz0olhE+M1brdmanvk3lH+sWJyGwbVF6w2iycOQ4ujumLG6MGlVWiA/vsH1ecxlrHqO1GtzjL4xzRGZcmcMe6Vak4FwrJJqr/S7ayZqsRqw/O6NsKrIVbPLPu0qb/dp7VHPqdsVk5pQ5OyGkeNVUsmDiutbJjamTl6SGkV2mQzbFBdabUSMHMmK0tM7QDAVEYFwuwx7lgdGYMN7SzrKI/BJn9dNUXh3sTrdIVXwzil8mpard19envkADLKZtWUNm0MjtssnTSsVDVispk1ekhpFRqg//7RQxsxaqg9VgNRXk33kVdZwtBWaqyuSFu5Y3VEW1kmsZJX02ptOm1FjMEd2WirScM1bWX4+5NqK5MvVkNbmfTgisnlOMzRVraFH6e2mjEisbai7vXyjjY0Z6CtZoxya6tCGm1luNccbaVWblYyBquaueraKsZr3G63aZq2osbgVNqKGINHDXFqq+b6fGQM5mgrs2bOXluZOFvWkUxbmZPEI8jPKbASGEEQfCsIggVBELwp/P7RIAiOYPdSo1DFpWnfbF6xMa0kqDamIKI6kclGbd5Ebl5b7qHa0gdeKjupN0/1l2O0o4PKygeIbijL7I0NFezpyjP4yKncV9KOI4Dq7QghWLxSNjpn1H2MPUMcPoi+9G2C2Z3snw2vlXGWrC8OryZRzPNXN2c5jVcqXum9U9etHwxb6b5IW1/cdpJyVnV/jYwd6WM1J8Zy/FXnnrIJNGKz4rUSm8T+arjXOcYYnHdMUGLtMHml/Kxa3Pelv1ZyxoErcQdE/36WtqqI+/LXbH/lxFiGtko7TuswVTy4+orZZKS/jPeao4cTau/KdLWmrUh/jX7P4owxTmf9xkEVMf2Vma6ush5OGKs5NvKg5FhfabQVJ1YztFVaPlLp6gr8vhp6OKt5sAust5AIIRoBnA5gLoBSWjAIgtP4XdU2jIJGTSpUMpGJDOjpxZO+a6TYX/S0aH2QpfrjJUKovqLQxRPVV9wmK1HMGNBZfKTnNang5Qg+2ZZ+cE98cEwnnGPtUIMjgzN9QpTWRgcnUcbhg2dD+2JS7k3XTPmifpihPjiaKlkS2xCrLZzBkce91k5WQi2j+Gn2aUZfCQdiuT1EP8yQEz9T8UqJJ4YA17kneWXY6KhEFLMmusrfVskYHJ0wGyZNmigWIv6sx/y1kAO0F0ikGYM5iwg0r3qMpfw++SJCVucpmBMP7r6ivsiJ1ZXEhjhn+uH/WfHKGaf7U1tV8oampPfaVBWQ48TqhOM9APLAQ9YYzPHXWF/Egl6q8TUbbVXJZJjFaz/paqB43Tu6NF61Ryv1GKxzz9BWpK7WYzXVTgptVdHiEEcPJxynOdqKE6td4OY6/gfAaAD7AfglgPEAtrF7GQAwBWyO0woGcZF2GH2ZtofEB1AqiMJpo0+YOcGYeuB69VU9TpKDNUHlOG16x45wZhpAM5o0qXyYShjjg2Pcjkpy2PoyXVNsskPy6m6HMxmOtVPlw6gioriSRGHSiRVTPPH8zM0Z5UMc7ln+qn3PaacSzjg2nBjLGWQTT5iZgywnxrL8lfCPWDukn3GSidHvSb/vrRav6f0+smqTEWfGSZNiY9oeEvczYpxmiGLOM6SDNb6S/uq20ZGZTQVJJ5EwxnK0lakSjpME5CUT04zT6bRVujhc5TFYTTywtFVWYzA3Vrt1dVrO4u2k01ZxXjkT5uryypl8Rqrajb7o7ovDK2cOw0k6cfQwJ56z/FV7UQitq1P4dAWLfonnr32smW3gJjCmBUHwHgCvBUFwE4ADAcxn9zIAUEnGKLNscorVOMrZ0rXTh4ImI5tKVhJ4K3bu64ly7xbgxhJG7aPUKwCMEkZOO/rwSNowVoh0ZPWcsVbjKuGeswJArNbabExtcZJX8fLmdINsnDPGyk7K1QYdlWwfEpxJShUq4UwHJafzV7fgpWO1uy8Wr0huk9nWoEqEc0LxVNFqLcdfWSt20e85Zcn0c51iIpMyyaEjs5U/luBlxPOMYrWpPw6vqarlGEnJtJqoaqu1lSSmWH7m7iuNtqJ5jX6fdhWex727L462SuPT1dZW1aiEq7a2ykoPs5LNnIop7fusFnx5fp+NturrSjgbuAkMWUj3khBiHoAWAB3sXgYAqi2Mkg7ERTuGs6UURqn26qUeZPXMZHUzxVEbg7MlLIfjnVvidmzqeyDlRIYIJGnKzdOK2TTl5tXPJif0V85AbExKRj+nrDiCJrMtJIxVJB2cVZvMkpucFaIKuOeclZA0waVzU/qc5a/V4ZW3r5qwiSWm0sfP5DYZJSUrmegqH1dSCcdZrU3nrynvY4ozMPritbYuG5a/VktbEYnJNFs/eNqqugm+/rNJ74tJk5JcbUWt3rJiNWOLAOeshDSJqVrQw5x2EmsrjvZmaCv9npbaSbWIkHacjn5fTX+tRV2dNMZytJUpUWHSXBRYZ2AAuEEIMQzAewDcAmAwgPeyexkAqPrBJMJNnP65nokDeOWJnEPGqH2BOjiHg7Fs4LbRkdVhVMazCTicsUqXk9kAiJ2BQNlQ180Szox2MuO1WocCZiT4jOeNKB+zzi1h2ADx0lCAEDSkMIp+z+KeFE9w2sT3wrv36JJ/f5qDAw3nDqgwHebnvB5oezA5fs/0VwqcBHCaQ99I7mPtUAclR8E6HIzDawV+ltjG8HwIBq9JD30ziWJ9Xks9C2kmMpyqu/TjK+d8ixQHaTM44x3szRg7Mzr0ja2tHH2Z+tObZ2krzqJOSu519KWNiXvONoKk/sqN1XoZv94OQF93fBsBJ+FYRV6rxD3LXyuIDYkPe2RqK2ouFEtMEdpKj+eptRXcNrE4nFYzV4v7CrRV4gN1K9FWCbaQsBIYQRDcGH75SwBT2K0PIJhLXlSb9JMdTlZJ/9VuYkbEWs1nlDByspecvVhx8RTvK135anUzipy+IiXpFYhinaNufSMcYcMpmUu7mp/VYX5pTsGuZCU20k4l2WSWvyr2TFHs6gtgDsQpVwlSHfpGbg9xr9Rz/F4Ha/WHNVibYnXC1Z8KShh1XslYndX5J9BtKF5TnIHBOegzs61BnHju5qyigwNTiKeunnis1jkrcLYjcColWT6djU1WW4MqWfXNTFuxEo7R7ylede7JM8jSaKvUB+pytFWKgxyrvFLP6cv1ylIgygdXW+kHKet9FRtzt5NaW1VrK19fVtZUuQpSvY8VaSvGgm9m2oqzlS+jLT3ptFU2vBq1lfKrlVRVcXg17NqlbTlGQohRQogvCCF+HH4/RwhxOr+b2ofpYeMd+pbMxgQ9SNMT3ej3aZ2Ws0rAOmyoWofS9OEgW0kJI4dX3WeplXp9cORUaXBWiEjOGFt60hwK2JecVSLCWNtDGOKJkyjWAzaHV2pCpPOa2l/THLqbsi8dWSUcWWWOjAPEjCWMKWI1zav5+kx9pT/ML/o96wT0lH6vI7OkZEXlq2o7Jn/liKfkvFLIantIjHtW0qnveK1k62lybVVlf9UugbJJ9SYKBq9ptRXH73XUwpaWpIfjm8DxRU4FLOtVmrq24lQbp4yxnEM8ddSCtkp6kGMl2krntZtIXum8srQV480gPM7S8Vq1Bd8q+ytn0Y83X2KQL22Zdl8GcCuAseH3DwF4K7uXAYDKssnlr40ZxRSrP9SqXsxpGUkO035fFdXcw54uM5leGEXbqWCiqzqtIS3IqaxJUzZFcp8iK53dBCSbxFRfriRk9Zo3E1jZZM5KvdYOJ8FVzeQdR4Sl6avaK3/VqoSjbXTxRKzUxyqvKO6j31dzD/tArYTjHDKWphKOQhp/pYQz60BdDWnHqvgZU32YdKp6FWT56ywr4TjaijPRpbRV/BwEzn3M5l73ZSVcVtqKe/AqhVTaivLXjLYN1uJrbZNeT9W1VYp77eoL4FVB8rQVI0lcVV1dnb6qra14vDpNqnKIZ3sQBDcD6AWAIAi6AfSwexkAqGSfUVZlMWlKojgrupSNDs5ePWoPFWf/bdXOwKj2Ht2c+nUFiSlWMI5+z1n9oWz0njI724QxIaq1Pbqc13iZkntZ7dXj8MoSzoyVP90X059/ktFeTg3V9tfIWQkVDLJpStJ5/urejkDFCk781G2qefaNjr49J6OCxFSKWE2v1Cev0qDG8tj4ylrRZZx/ktU5VIwza6rNPe/ckmzG4PhWT2J8ZcTzNOcgpNdW1YnDlZwvxumLpa2yWkRgxGrOGKw/f7S/Jueepa36MsZm5K/GKo2qxer4+MqpvIpvHWP4a1V1de1pK85ZRFlVV1SjAuM1IcRwhOOgEGIVgJfZvQwANDe4jwNprEtPXGbZZK0dKhhwzsnQHampnhIrUSPqHuntDGbYcO411Y4OTjscm0H1tA1rspNRRlHnkT48zt0uZyKjg+SVYxPj3i14s+Pe3ZeR16xWa1MILM6hgNRzp39ElULqpKXmNYUNizMDH66+dJj6Urk0vj2kSpU1rDicknvd0Whf1GyIeM7hTBfgmflrRtxzVnRNYMVqDq+MpBNnDNYxiOIs5tMMG+Jep4vVbpusxumKtFVWSckq8drIOHQ3M23F8LMBo60y0tU8XhntpthWm358jVplxVm1tRVnewgvVidfRGD5K0dbkbqaMQZr31Mxtmraqg+1dyVvD8kqKSnBfQvJ21F8+8hUIcRvAYwAsJndywDA0Eb3rTCuAGSVedIcsrEuhx1d0axi/G0V8QeXY6M7ZCMx0dUTmsMG1cfb0bytdVBdzEZ3yWGkjd5OvC8d1PXoaGly91Xt/VqxM6RE/L7FTsomBF18BcAtZqkEhr4Pj+a1/zijnyHNpsndjnmlPjlntE3ygZg+BTv6PcV9nNc49zqv1LPP4lXrK73fa+00M2wYz0djnXuwNiEzXglf3IbuyGd6Mw3EdcdtKH+Nfk8KI52zZrdPU/6q98Xzew73bl6ppIuOao/BMT4KOXR2O8ZgglfOW6V6tZvdRLQT91eCV+17ys/02JBVrObYVF9bOU1i2qqe4JWzwh5/y5c7DlPxisUrI8bG/JXhZzzu3T5dfW3lNGFy79ZWLH/V7jVnHKI444zBuvbOzl9rQVtlFavdvqgnOTjaikymajYcbUWPr9n4vY6sYnUl2iqrRfoE+Qt7BYYQYrkQYnQQBH8GsA7AJQB2AvgpgCf43dQ+OI5nQrX26lHlRbHJDuO1QKnLnfQsMCFEdBtqANUDfy0MoBxkVerGOdQrzisRjFm8Jt9G0FTvtkkbjHVUewDNCtXinhRPsSSHO3PP4ZVjQ3EWn+wMjAGUg2pV1pCTHYYNJzEV3xrktqEFVvT7tMkrHdVOTnCQVSVcnDMiOaGLYk75LiWcU9gMTSmcU/HKsBlSQXKCg8z8lZOciE10qYRjGp9Ou1Lv1lZpFocGjLZKoavpwzc5+ouzOMTY0qPZ0EnJ6PcsPcxK/jN4ZdhUX1u5bdKcGUi/Hpfhr9r3WW3RJOPnAE1OcJAmmUi3w48rrkfpcwA6w6/XALgUwKcB/BfADexe3uDgEJdmIKYGUI4oZq3oat9TAVsHR6hltWJX7QE0K2Q12eEknVgTIu176hnSweGeVRUxQAZQDtKUpKddsYvZsCow0k2adHBKBjkCi8N9tQdQDqpVkk7daw73qXhl2JhKfFVwEoUcf612coKDapWk83yaw1k2cdi01UJFK2Ps5IzTnOQEZ/yrBCxtlaoSjrFam1Jb6WDZMJ4hDq+cWM3RVgXOaXtVRtUSySl1tQ6W/mL4NIcPVrUxw6c511NtpDm3hNKEnDfHcMZgHZzkFUtbMeInr2KKo61qwF8z0lZZHuKZD4LgxfDrowHcEATBd4IgeA+Aaexe3uDgiLM0GUVqT6we1Ml9s9r3dAmjZsPYf8tph7M/mzMQ18IAykGaVQJqcqG3Q/Gqn9CZmjMwVgk4NimyybUwgHKQZrWW9lc4bfR2OHyQ3Gvf0+1EQT8fUXAmO1RftYg04onDWV/Gauq8Ik4ZrP4MtRKrerrNEEaCq9rJCQ7S+CvntbZpuU/FK2OrAacdsvpG+35oo9unq52c4CDNq28psLQVwyZN/OSMnem1VfT7N5S2SpGUJP1Vt2Fs5WONr4w4TFa36tqKbCd5FeRA0VZpEslp/VVvJ6vxlaet3AmurLTVQBmDdW1F/W2ZJjCEEDJq7g3gduVn3PMzBgw+euRCzB/XYrW5/oQl2GvWSKvN/5y+AvvPHR35TGh3+ntvWoODF46NfKY75I0nLcORS8dHPtOD8ZWHz8emJeMin+nB7/y9puOwRdG+9CB6xJJxOHxxtB1968eKyW04atl4zSZqNGpII05aPUnrK4pCPoct66bChQv3neG0uezgOc4g8OHNCzBr9BCrzWeOX4K109utNjedtgL7zR0V+Uz3te+csxoHLRgTtdGMvnzachyxJHofde4/dMQCbNa412/kBfvMIHiN4ujlE2I2Oq+7TWuP9aXvwZzYNggnrJqo9RUvbT9rjylw4W0b3Ly++8DZzsnT1ZvmY+qIZqvNJ49djNVThlttvnTKcuw7J8qrPh7cfPZqHDhf41Uz+uoZK7FJ8yE9GF971MKYT+vh+p37z4r5oj6AnrhqEsFr1Gj9rJGx50y3mTZyMI5bqfFKDNZn7D4ZNggh8Ja9p1ttAOCSA2Y5Vws+cPh8TBo+yGpz3TGLsLxjmNXmxpOWYcNs3V+jd/sbZ67CAfNHW21uPnt17F7rfv/JY5fg6GUTrO28+8DZBK/Rm33a7pOd/rrf3NGxmK/zOmfMUBy7Ino9Oq9DGgo4bbcor3pfQgi8eS/3WsXFG2c5hcf7D5uHsS2NVpuPHb0Qiya0Wm1uOHEpNsyOjsG6gPv6GSuxcZ7Oa7Sd756zBoc6eP3sCUtjvOp9ve+QeTG/13ndsm6K018PXjg21o7Ox+IJrThmucarFofbmutxypoOa1+5nMC5691j8EX7zXTavO+QuRgxpMFq85EjF2Lu2KFWm+tPWIK9U2irGK9vWoNDXNrq5Li20m2uIrVVtK83E9pKv9dHLB1PaKuozcopbm01emhcW+k2WWqr9x7E01YzR7m11R4zRlhtvnxqfAzW+eBoq5tOWxEb8/Sx/MOb49pK101vJ7SV7ovHrJjo1NW7Txvh1FaTCG2l95W1tnJVXl69aT6mMLTVmqlubbWPg9ebz16NA3VeNZuvEdpKnwx/7OhFbm21cabTF09cHddW+vOx50y3tpo+ckhMW+k2XG11PlNbuSqHrjp8Hia2ZaWtorFan5t+48xVTs3M0VY2uBIY3wDwSyHEDwBsB/BrABBCTMMAfAtJ+2D7IHvE0vE4dsVEq83+88bgzLX2QLJ2+ghcoA0QOrmLJw7Dew+aE/lMd8jpo4bg6iMWRG20dsa1NuHaoxZFPqMOdPv4MYutNoPqC/jY0Vo7mtvW5XP48OaFmk0UuZzAFYfOi3ymH1YGFAWvS8yet9d07DbNHiBP3W1yLPjpOGrZBBytiT4dB8wfg9MdgWTdjBF4qzZA6HwsndSGdx8Y5VXnftboofjApug90tuZ0DYIHzlSv9fR+zh8cAPBq3ZuSUPByX19IefsK5cTuPKw+ZHPqLfzXnLAbAx3lMW9ZcN0LJtkD5BnrJ2CjdrEUscxKybiyGV2Xg9eOBan7NZhtVk/a2RsgNA5WzG5De86YFbkM52zuWNbcOXhdl4nDW/GNbF7HcWIIQ2EL0YxpLHOyWtDIY+PHrXQapPPCXzgcJ3XqJEQAu8+aI5T9LxtnxnOBPBZe0zFfnPtvB63ciI2LR5vtTl00TicuLrDarNhziicp02+9cFx9dTheOf+UV517ueNa8EVh2m8ag1Nbm/GhzbrsTra18ihjU5eW5oIXvXqm7q8M+YX8jl8cFP0eihe33vwnMibPfT4AQAX7DsTM0YNjn2uYsu6qdhHSxbpOHHVJBymiUcdhy8ej+NX2sfgfeeOxjl72idpa6a140Jt8q1ztnBCKy4/eG7kMz0JM23kYFx9xHyrzeiWRlyr80rsc4/zGkVTfT7ejmZTyOdimkCfEAkhcPkh0b+Leo3rRfvNciYKz10/Detn2iefJ6/piCUMdGxmaqszGNrq7bq20vhYMnEY3uPQVjNGDcEHN9l5pbVVPFmUTltFkVZbEbTi4o2zMHpo5drqtN152uoohrY6zTEG7zlzZFxbaZxxtdVV2his80pqK4209n7WVroNUNRWroQSW1vNc2ur2AKahoMXjsXJWqJUx/pZI3H+Xpq2yhHaaqNbW71fG4N17jnaauQQ9xg8lKGtGuvSaSvdRmorsuJawdsz0lbHr5wUS8rq4Gqrc9dHtZWeKFw9dTjesX90DNY5mz++Be871K6ZbbAq0iAIrhJC3AZgDICfBmUPzgF4M7uXAQQqcKSx0cVS2ldy6R9xDsAZKHDfRVp4Vc3GbcLjLGf/Hog7aS2c55EVWLxybPqQew4faUrQkwRjKzh/RJVBTW5jNpz4yfJFTjtuG33ApEotOa9EjT0fmfGaTTMVXUJm8ZPzfHDa4SD5tgGKM87rq/Vn5g0UqjMbFzNrh6OtGDGWE6s5r7geqMgsDrNssvF7zisvOdoqzatus0K1w3lm2opjk5W20jkj6Ejlr33Ka3WZ7dPxNSOf1vlIq60q8VfnNpAgCP5AfPYQu4ddFJxBVueJfkex9pAwhBvvIc5GcWQlXAYKOJxxJjvxCbO776wGFA4j2fU1MKAPspxgzHmnOCcY96UPZTXADRRw5iScZHPM7zm8urvmCaPMJofZ2AwUcJKSaXjlgMdrNkm6zJ6zAQIOZ2m0FWdxKLM43IfJ+YECHq/JtRUnMZXVffS8xqHf/8y0VVa8suIwoxlOV2+gOMyZi6bRVlm+heQNhayy0pxnUHcuShfp5HIOYuH8DXqpMNkO42/gtZO+r76snMhoXk8E47hNnHu303JWFKktGzpYz0ev06SiLC3vmehLYZ58VY9jo59rA/D8Xkft+auBV/cl9M/BnmUAACAASURBVOmKblZgxWqG3+ugts7pqIk4nNAmaftJbbIK1vGkZNwmzSo8Jw5zYiwrnme0Wmbqqy8rprIKDhzOUmmrjHyR5/fZ2Jiupy+1FQuslXo3Z2m0FW8M5thkE7x4z1n6361kLEgOd0OsRYRU2ooTq9PHxqRg+athXMiuYiobXc0B55rTaKsklTW7VAKDN8Zm88BzVmLTbCOotUl/JdUevODSd47N6StWEZOybCr+e9WdpER74gS59IGQJwbcNlk961n1lab6hrX64+46O+4riA1ZiYHMElwZiU7OCkCqWO206NvEQNXjsPsSMtuGxHnOUq3Wsirh+i75Wu1FF1Yym9N8RpojDa8cUfxG1VZGXmsgMZq0L860JY22qr3xNT37Wc1Pskugcfpy26TSVhlVTPWlHqnkd7O61xyjrLReKm3lKzD6H5xsMsdpq4U3UolahusETnAY0rPHb6Q9mLsyWCXpVeLa8xpHVuWYemzuy/3yb6w4nA2yuiccf01TluyRDlnxqlNUa9pqV0NflsX3p7bioNrxvC+Hi74cm9LE6r5EtW/FG1UGcLRVJec8+gSGhqxWTtJlkxm/xEBmqz9VXpGovRVKho3bhHV4XLX67tN7UckWEnfzzGe076pSOAf+peq71iprDCZ9WcLYl8866/C4FOIpO8447aS3yWpbR5+uTnNWfxjn2qQpSx6IK7qVTDKzW6Gs7nWqSLdam1WVEccmq5if/Cd8C6+tkttU2e9rrAIoK+7THKbcp3okqzhcwR7NzA5Rd3eV2b3laKtKkpA+gdGPSFNuXmtlf1nZvJGQar98HwawrMpLs9o7OFCQbm9ttYWq2hfDhrU3f9ciVueR8lddPPk4XPtgHTLWj+XmfRmHd71Y3X/J5uw48z6tI422qvZ5I9F23NfjeY0jjbbq0y3GHF2d0blHbySk0VZJHn2fwNDQp9nkXBrxlJENpy+OTQXX07crf1llJt1W+moPb798ra3YcfqirVjxJ6OHNLvMuLudNK97ym7VJqtESHruMxt7a2xVj3OuTbX6rrVVUOPvZmSVXWVCNslcfeVvoFRDRW3S33fW28gYqLVn3WurbC6i1v7edNoqm777tpIj/e9yLrTW4lw6bZVVjO3/e5FV5VmtVUxVS1tJOF+j+kbFfnNHOW2Wdwxz2kwZ0ey0aWmqIz/XfbSx4M4nTWb0t2Jym9PmwPljnDYnrprktDlvr2nWnwsBvPvA2c523rphutPmpNXu6+H8XaumuO/PjFGDnTbDm+vJz9VVgpzglTmOHzbIabN0kvt55DzXx62Y6LTZsm6q0+ZdB7h5vXDfGU6b03ab7LQ5dNFYp83a6e1Om9ljhjptRg1tID9Xea3LC1YwHj200Wkzf1yr02bv2W5ej1o23mlz1h5TnDYX7TfT+vOcAN6x/6xM+tq0ZJzTZs+ZI5w288e1OG3GtTY5bRrreDn9NoPvq+A8a+umu/+2I5a4eT1td7cPvX0fuy/mBHAJw6fP2dMdG45eNsFps2H2SKfN4olu35jY5o6dgxt4UmdIIz1Wq5g+cojTZs1Udyw6ZKE7pp28psNp85YNbl7fe9AcZzvnO8ZyADhupXvs2H/uaKdNVtqqdVB22mpSu/s5WsnQDhwNcgLjPnK01SUMbfU2x/MBMLXVgr7TVu2Ds9NWnLiflbY6doU77p3D0FbvdIyvQgAX7msfpwGetjosI201hzHemfRQGm01ckjfaasjGeMZR++4OMvnhFN/cfvi6AaOtlowvm+11bBm9xgs0S8JDCFEG4BvAugA8BiAo4Ig+C9htz+A6wDkAdwYBMHV4edHArgcwGwAK4Ig2Jqk//cdMtcoDGQ27qTVk3DFofNom/D/tdPb8T+nr7S2M7alEb97196kjeqkj119oPO6B6LNPz9osyneoz9eurcxGMnM5DfPWoWVU4Zbba7eNB/HGCbnMqt35trJuPRAWsxJzjbMHokbT15uuWJgcnszfnHhnqSNOqg+av37i6g1ziq2CW/SXy/b15i8k/fx++fuhkUT6EFG2nzs6IU4fDEdjKXNeeun4UJD4JfcHzh/DD59/BKrzazRQ/CTt+5B2kjUF3J46MqNVhughvjIyia8R/dfsT8a6/K0SWjz47esNU7gpb9+6rjFOGgBLZ6kzQX7zMCb96aTm5L7TYvH4dqjFxmup2i1cHwLfnDe7qSNbGhIYwH3Xr4fbaOgZvjI2OaRqw4wHkIr7+PtF6zDlBH0BERy//mTlmGfObQolDaXHDALZ+1BC3nJ/bErJuCDmxYYbIpY0dGGm7esJm2kUfvgBmx99wbaRkGt8ZGVjW0MkvfxtxfvZRShkrOvnLYCe8ygBa+0sWur4v+nrOnA5YfMtV6PTVtJjGttwm8v3ov82a6ureR93PruDWgfTCfks9ZWZ+8xxbiowdFW8qqnjGjG7RfsSVrs6tpK3sd7LtvXmGzNTlsVrc7faxrebph4J9FWs8cMxY/fspa0kdhVtZW8Rw9csT/qDclWlrYKbT5z/BIcYEikSl4v3HcGzturEm1V/H/RhFZ8/9zdSJtqaCsV/bWF5GIAtwVBMB3AbeH3EQgh8gA+DWAjgDkAjhVCyJnn3wBsAvCrJJ0Ob25AS1Md9rOsEOw/bwxamuqs1QeLJrSifXA93mIQ1kAxOziutQnvMyRBJGaOGoJrNtMiTWLF5DZnFcN+c0fh3PX2zO4xyyc4V1C2rJuKA+bbV1Au3jgLa6bSA57E1ZvmO1cgrzxsPia0NWHYIPNq5gX7zsSIIQ2Ya1lhPW33yWgdVIe9ZplX9A5aOBYtTXXGQRgo3ufhzfU4d7155WNcaxPGtjRaV7SEAKaOaMbHjl5otAGAZZOGOVfGNswe6VwZ27x0vHMF5cy1k3GwY8Xvov1mOjPtVx0+z7naffURC9AxfJB11fPi/Wdh1NAG62rMGWsnY9igOqy1rFIfvngcWprqsHmpOdu827R2tDXXW6tKJrc3Y/TQRusKdH0+hyntzfjIkXZeF01oxRWH0gJdYv3MEc6VscMXj8Opu3VYbU7drQOHL7ZXMbxtwwysd2Tarzh0rlHsSFxz5AJMaW9Gfd48bFx64GyMaWnE5Hbz6umWdVPR1lxvXaU+cukEtDTV4TDL37ZuxggMG1SH09eaV5lmjBqCkUMarCtagxsLmDR8ED50hD0Ozx/XgqsOt8fztdPbnSsoBy8cizMt1wwUE+i2ZxooCssNjtWj9x40B8scq4sfO3ohpo5otr5B57KD5xZjn2Wl5by9pmF4c711df3YlRPR0lSHAw2JKwDYZ/YotA6qs1YfzB07FCOGNOACS4XXsOZ6TGhrwpWH2TmbM2Yort4032qzZupwXLzRvip64Pwxzsq141ZOxDHL7at5566f6lztvfSA2VjpqLS8ZvMCzBxlrxa54tB5GD+sCSMMk1ygWB3ZPrgeCy3x4aTVk5zaauP80WhpqsMJq8xjMEdbjRoaaitDEkSi1rTV2eumOKszLt44C7tNc2sr12r3Bw6fj4ltg9BqWEAAeNrq1N3c2urghUXNfLTlueZoq/HDBmFsSyPek4G2WjppGC47mKGtLM8ZwNNWZ+w+2VlNxdFWVx42z7na/eHNC9ExfBAG1Vemrc5cO8WprTYtHo+Wpjoc4dBWwwbVWePe1BGDQ21ljp9JtNX7Hdpqz5kjnNWGHG11ypoObMpAW73vELe2+uhRCzGlvRl1efMYzNFWb1pf1FarDAlJoKytDl1k11atDm01a3RRW71jf7PeyVJbURBZ7YFM1KkQDwLYMwiCp4UQYwDcEQTBTM1mNYDLgyDYL/z+XQAQBMEHFZs7AFzIrcBYtmxZsHVromINDw8PDw8PDw8PDw8PDw+PPoQQ4q4gCJbpn/dXBcaoIAieBoDwfyq9Ow7A48r3T4SfJYIQ4iwhxFYhxNbnnnsu1cV6eHh4eHh4eHh4eHh4eHj0L6p2BoYQ4ucAqHrCS7lNEJ8lLhcJguAGADcAxQqMpL/v4eHh4eHh4eHh4eHh4eHR/6haAiMIAuOpWUKIZ4QQY5QtJM8SZk8AUDfVjQfwVCXXdNdddz0vhPhXJW149CvaATzf3xfh0S/w3O+68Nx79BX8s7brwnPvUSn8M7TrwnNfPZAH0fTXa1RvAXAygKvD/39A2PwJwHQhxGQATwI4BsBxlXQaBIH7nTEeNQshxFZqH5THGx+e+10XnnuPvoJ/1nZdeO49KoV/hnZdeO77Hv11BsbVAPYRQjwMYJ/wewghxgohfgQAQRB0AzgPwK0AHgBwcxAE94V2hwshngCwGsD/E0Lc2g9/g4eHh4eHh4eHh4eHh4eHRx+hXyowgiB4AcDexOdPAThA+f5HAH5E2H0PwPeqeY0eHh4eHh4eHh4eHh4eHh61g/6qwPDwSIMb+vsCPPoNnvtdF557j76Cf9Z2XXjuPSqFf4Z2XXju+xgiCPyLOTw8PDw8PDw8PDw8PDw8PGobvgLDw8PDw8PDw8PDw8PDw8Oj5uETGB6pIYSYIIT4hRDiASHEfUKIt4SftwkhfiaEeDj8f1j4+fDQ/lUhxKe0tu4QQjwohLg7/DfS0OdSIcS9QohHhBCfEEKI8PO3CyHuF0LcI4S4TQhBvnZHCLGHEOLPQohuIcRm7Wc9Sv+3ZHGP3qioMe63hJ/fLYT4jRBijuH3G4QQ3wx//04hRIfys58IIV4SQvwwmzv0xsUA5d77/QBDLT1nys83CyECIQR52ryPMdlggHLvY0yNoZaeIyHEKUKI55TfP8Pw+z6GZIAByr2PIUkQBIH/5/+l+gdgDIAl4ddDADwEYA6ADwO4OPz8YgAfCr9uBrA7gC0APqW1dQeAZYw+/4ji22cEgB8D2Bh+vh7AoPDrcwB80/D7HQAWAPgKgM3az17t73s6UP7VGPdDFZtDAPzE8PtvAnB9+PUx6jOC4qHCBwP4YX/f21r/N0C5934/wP7V0nOmXMOvAPzB1JaPMbs09z7G1Ni/WnqOAJyit2n4fR9Ddl3ufQxJ8M9XYHikRhAETwdB8Ofw620ovu52HIBDAdwUmt0E4LDQ5rUgCH4DYEea/oQQY1CcsPw+KHr0V5S2fxEEweuh6R8AjDdc82NBENwDoDfNNXgUUWPcv6KYNgMwHeyjXtu3AewtM+RBENwGYFuaa9vVMBC5934/8FBLz1mI96Mofm3t+xiTAQYi9z7G1B5q8DniwMeQDDAQufcxJBl8AsMjE4RlbosB3AlgVBAETwPFIAKALLci8KWwPOo9evlmiHEAnlC+fyL8TMfpKGY/k6JRCLFVCPEHIUTSQWeXRS1wL4Q4VwjxDxRF5vmGPsYBeDy8tm4ALwMYzrw+DwIDiHsbvN/XOPr7ORNCLAYwIQgCV+m2jzEZYwBxb4OPMf2M/n6OQhwhitucvy2EmGDow8eQjDGAuLfBxxANPoHhUTGEEIMBfAfAW7UV0SQ4PgiC+QDWhv9OpLoiPousuAohTgCwDMA1Ka5hYhAEywAcB+DjQoipKdrYpVAr3AdB8OkgCKYCeCeAd5su19aGRzIMMO5t8H5fw+jv50wIkQPwMQAXcC6XaoN9lR4RDDDubfAxph/R389R+P//AegIgmABgJ+jXAWQpA2PhBhg3NvgY4gGn8DwqAhCiDoUg8PXgiD4bvjxM2E5lSyretbVThAET4b/bwPwdQArhBB55dCaK1DMaKpbQ8YDeEq5lg0ALgVwSBAEO8PPrpJtMK7hqfD/R1Hc87bY9Tu7MmqJewX/i7Bsj+D+CQATwp8VALQAeDHJ3+xRxADk3nYN3u9rFDXynA0BMA/AHUKIxwCsAnCLEGKZjzHVwwDk3nYNPsb0E2rkOUIQBC9IXQrg8wCWhv37GFIlDEDubdfgY4gGn8DwSI2wjOoLAB4IguBa5Ue3ADg5/PpkAD9wtFMQQrSHX9cBOAjA34Ig6AmCYFH4771hudc2IcSqsO+TZNthmefnUExelAJSEASXyjYc1zBMCNEQft0OYDcA9zNvxS6HGuN+utLkgQAeBkju1WvbDOD2cK+iRwIMUO5N1+D9vkZRK89ZEAQvB0HQHgRBRxAEHSiesXRIEARbfYypDgYo96Zr8DGmn1Arz1H4e2OUJg9B8UwGr1OqhAHKvekafAyhENTASaL+38D8h+KJvQGAewDcHf47AMX9erehOJm4DUCb8juPoZhNfhXFjOUcFA/fuyts5z4A1wHIG/pcBuBvAP4B4FMARPj5zwE8o1zHLYbfXx72+xqAFwDcF36+BsC9AP4a/n96f9/fWv5XY9xfF/7u3QB+AWCu4fcbAXwLwCMonhY9RfnZrwE8B2B7eG379fc9rtV/A5R77/cD7F8tPWeazR0wv4nCx5hdl3sfY2rsXy09RwA+GP7uX1Ecq2YZft/HkF2Xex9DEvyTN9fDw8PDw8PDw8PDw8PDw8OjZuG3kHh4eHh4eHh4eHh4eHh4eNQ8fALDw8PDw8PDw8PDw8PDw8Oj5uETGB4eHh4eHh4eHh4eHh4eHjUPn8Dw8PDw8PDw8PDw8PDw8PCoefgEhoeHh4eHh4eHh4eHh4eHR83DJzA8PDw8PDw8PDw8PDw8PDxqHj6B4eHh4eHh4eHh4eHh4eHhUfPwCQwPDw8PDw8PDw8PDw8PD4+ah09geHh4eHh4eHh4eHh4eHh41Dx8AsPDw8PDw8PDw8PDw8PDw6Pm4RMYHh4eHh4eHh4eHh4eHh4eNY9Cf19AX6K9vT3o6Ojo78vw8PDw8PDw8PDw8PDw8PAw4K677no+CIIR+ue7VAKjo6MDW7du7ddr+P5fnsQ1tz6Ip17ajrGtTbhov5k4bPG4fr0mDw8PDw8PDw8PDw8PD49agRDiX9Tnu1QCo7/x/b88iXd9915s7+oBADz50na867v3AoBPYnh4eHh4eHh4eHh4eHh4WODPwOhDXHPrg6XkhcT2rh5cc+uD/XRFHh4eHh4eHh4eHh4eHh4DAz6B0Yd46qXtiT738PDw8PDw8PDw8PDw8PAowicw+hBjW5sSfe7h4eHh4eHh4eHh4eHh4VFEzSYwhBD7CyEeFEI8IoS4mPj5nkKIl4UQd4f/3tsf15kE62fFDlG1fu7h4eHh4eHh4eHh4eHh4VFETR7iKYTIA/g0gH2A/9/e3UdJUd57Av/+uunBHnwZJqKLHUaQw8WrAZk4qxh2czQvspGoE3whRvYm59yNJ7m5uxf1zA1sSIyJuUwuGyV73F1j7m5OcuMm41v6YtBgXjAvboiiM0BQufEFgcaTYAA1MtFh5rd/dNVQXVNPvXRVd1dPfz/n9Jme7uqqp96e56lfPfU82A/gSRHZqKrPuCb9pap+uO4JrNKW5w5G+pyIiIiIiIiIytLaAuMCAM+r6ouq+jaA7wO4ssFpiq1k6OvC9DkRERERERERlaU1gFEAsM/x/37rM7eLRGS7iDwiIud6zUhEbhCRbSKy7eDBxrZ0yIj351kxfEFEREREREREAFL6CAkAryt6df3/NIAzVfVPInIZgCKAeRN+pHo3gLsBoKenxz2PuikOljBmWPqoNixZRERERERERHVRHCxh/ebdOHBkGGd05NG3dD56u73aKnhLawBjP4BZjv/fCeCAcwJVfd3x/mER+Z8icqqqvlqnNEZy60O7jN8VmmwUkrgHHREREREREbWW4mAJax7cieGRUQDlrhTWPLgTAEJfT6b1EZInAcwTkTki0gbgowA2OicQkX8jUn72QkQuQHld/lj3lIZ0+OiI8bu+pfPrmJJ47IOudGQYiuMHXXGw1OikERERERERUUqt37x7PHhhGx4ZxfrNu0PPI5UtMFT1mIj8LYDNALIA/o+q7hKRT1nf3wXgagCfFpFjAIYBfFS1OZ/FaKbWC34HXTOtBxHRZMQWckRERJRWBwyDV5g+95LKAAZQfiwEwMOuz+5yvL8TwJ31Tle1OvI5HBme2AqjI59rQGqql8RBR0REyUuiWSYRERG1rlrfCDmjI+85AucZEbpUSOsjJJPOh8+bOeGzXEbwxSs8B09JLdPBFeWgIyKi5CXRLJOIiIhaUz26Crjk7BmRPvfCAEYdFAdLGHhy34TPV1wwqyKiVRwsYdGtj2L26k2YvXoTur/0aOr6luhbOh/5XLbis3wu21T9eBARTUZsIUdERETVqseNkC3PHYz0uRcGMOrg1od2YWR0YvccDz61f/z92uJOrBoYqnjM5PDREfTdvz1VQYze7gLWLV+AQkcegvIIKuuWL2DzZCKiBmMLOSIiIqqW16MdQLI3QpK42cIARh2YRiA5OjKG4mAJxcESvrt1r+c0I6PK5r9ERBSILeSIiIioGn43zJO8EZLEzZbUduLZKsIEJ9LU/JedxBERpZOdB5s63+IIJdFwexERUau49aFdxu+SuBFil6mlI8MQAM5nE6LebGEAow5MI5AA5eBE0NivSUS9kqqIcRhVIqL06u0ueObFDD5Hw+1FREStxPTEAADct21vrLLPXaY6r30FwFXne9ddTPgISULWFndi7pqHMXv1Jsxd8zDWFneOf+c30sgp+RwkYN5xo15J9ijLTuKIqBUVB0tY0v8zzFm9CUv6f1aXvomSXCZHKImG24uIiFpFUP3i8RcOVVzbRuVVptoUwPee2BepjsMARgLWFnfiu1v3YlTL8aRRVXx3696KHZ3PTdzU+VwWIvBtgZEJim6EEKYiFraibGoNcko+Fz+hREQpVI9hxWq9zCSCz1ECKo0I+CSJwXoiImoVYYLz3/vNxBE1wwoqO0fHovX5yABGAkw79J6tex1NZsYqvpvensO65QtwxKe5DgCMabiDyk9QRcyronzjwJBnpK1v6XzkPKIqr/95pOkqqEREYdz60K663403BZ5vHBiqKq+N22lW2IBKcbCEv/z8I1g1MFTXgE/STNslI9JU69EojQpgNXvgjIjIqV55mmn0ESf7Rn012tuygdNwFJKQkjooTDtU4V3xBYD2tino7S6EarkQ945PUMXVq6KsAL5rBWCcersLyGUnBjDGFFjz4I5Y6SQiSpO1xZ2Ys3qT8bnQMAV+tUz5vgJYNTDk+biiH6/gcy4joR9RDNuSr+++7RMC9l7Tpt0lZ8/wfLxzVDVUMGYyXkiHXadGtFhq5HKJiGrBK09bNTCE+WsfGc/XkiprwrT4j/NQwNG3vR8fceIoJCEk2UFXVsQYxAiq+EqIoyHu4xl9S+dXrCtQ2durXyW8776hCdvjqEflFACGrWFh2cEZETU7+9HAKKJ2lry2uBPf+80+jKoiK4LrLpyF23oXACgX5EEBEvtxRQDjv/NKxyVnz8APt7+CkbHKcurYmOLWh3bhxoEhz/QWB0v44sZdxk6ogcry49aHdk1YhlPcYHySo4L4zas4WMIDT5WMj3cGdVztVb9YNTCEz/1gJ46+PWrc1n7r1ugRUaLUmfxaLNUyzabl3njvUEU6G70tiWhy8CvDk2DqN+KtY2O46d4hbHv5EAae2Dde7paODKPvvu3Y9vIhbHnuYOg8rjhYgk/RPS6Tkaqu84qD5vLUKUqfj6JVNgcRkU6/71X1UFUzrqGenh7dtm0bAKD7S48agwv20C4Fa6cDqKjETW/P4ZbLz0Vvd8Eq1Hd43nHykxHgxXXLMGf1psCdOr09h8EvXBpp/k5eaZzWlsVXPrIAvd0FzF3zsG+zoA0rFlUcrLNXbzJOW+jI4/HV76s6rUFMFY/JWCGZjOtE3tJ+8VJP1axr0MWoM//LCPCxC7t8L/j7ls7HTfcOhSrQN6xYBACeF/oZAB9b3OVZkbj+m7/G4y9MLCaXzO3EPZ+8KFIAxS5Pjq/vTmNnWX4EwHvmdmLPH4dDty6xlx0mvR35HIZu8S/LTPtybXEn7tm6d8Kwa+uWL4h8rpi2kV2228O8+REAL/Uv8/zOr37hXt6yhTPxw+2vGINEWREsPms6nt772oT0LpnbiTkzTvSsQHsFn9pzGUzNZXHk6EjoSm3QtnCX+X7HgWmbOZdj3xAq+Ox7Z/3FOY9VA0PGdALA1CkZXNPzTgw8uQ8jo8ePpFxWsP7q8yLlqWGPs1bIt9O4nmlMU1Rx1iEt61/rC/xGMuV1Kxd3ea5jNfvE73orCgFwvSFdALCk/2ehy/ww5bhTcbCEvvu3V+S5XkzbTUSeUtWeCZ/HCGC8hPJ1vgDoAnDYet8BYK+qzqlqxjVkBzDCFHRBclnBBbOne1ZAw9rTvyz0QeMOIriZTgxTJRkoVzxPmJIxtqiwuQ/WoBNqT//xinSSd8u8LhDyuSyuOr+AB54qTWhh4q7Yes3HGYwKkwa/i6Sw6xqUoZuCYqZ1qia9UaZJUpjtn/QFbJS0Vbtc9znsVcH2m4dX5r5ycRd6zuw0Xhif0p4LfSFSL+78ZuqUDL561cLQ28EUDPY7T/0ubO/btteY/9mFpdfFbD6XDR0A6Mjn8PqfR0IFO2xZAfzK8g0rFoW6iHba0x8uiFALG1YsClWmui8UvVqKuC8uAaAtK3jbsMGcF9BBgQl7uX7lbi4rgRUtW0c+BxFUnIcAYtcv4loytxNPvHTYtzWMc9p7PnnRhM/DBsKcQQm/+oY9bYcr3wJgrNzmc1m8u+sUz3lmM4KvXXP8WDr3Cz/CmyGaKJtkBFCFb37qzO/tG13OtDrL5zDbzy9f8yqPANT8Bk7UeX3w9sfwuz+8WfFZ1LpK0ry2fS4jOPGEKTh8dKRi32Wk/Ah0IUXlKOC9Dvb58P9eOBQYzHOfU15BujA3BE/xyOPCbiNTfmC6UA0r7DFa7XkRNuhiuhYSAHesWBTYejHMeZJUAMNmupYMczM9zHy8hA3o7zHcEEg8gOGY8V0ANqrqw9b/HwLwAVW9OdaMa8AOYESJNNXSnv5loSNT7uhZUNPeXEZwwZx4ARYn+2ANE/xZMrcTv37hENyXIUERwGpbs5i47wyZMlO/uy9BR+PDZwAAG9lJREFU23l6ew6nntg2oQC3uTO/oApekA7rcaKgAIxXpcK5/U3r5Z7GVIEy3SlzC9MEHai8mDTd+bbvDu868Ebg/Jzz7Tmzs2I9Zr8jj60vHq4onHrO7JxQWXC3xAp7F9ctKJgRNnMPI0pALg6vO6InTs3i92+87Tm9qbALc4fX5i7svQIXUWRF8MK6y1JTHjh15HOhj3Hb6Se1Gbd/rRVCPO7inPbx1e+Lvf+c7PN4y3MHfQMTdj4fVFlzX5xGMa0tG+tCupGceVXY80KsjXVCLhO57M7nshgZHcOxKNG/it9n0Dltak3OX7u1hl/rGDdnnWP+2kfw1rFw22OJo9WT3yPJbmHqeXaZsO3lQxUXZYvPmj5hmXmPfehXDnrVM2xZEXzt2sp6lfvC8KwZ7Xjx4NGKND3x0iE4k3D6SW149U8jnheTpgvNavP0XEaw3gqKedXVlrjqH84WTSfkMnjr2FhF3aXgCgqYWgJ61bWiBLDtYB4A3zq0szW3qS4677Rp2H/4z8Z6TZiL7qB6n132hhHmusBOE3A8wCfAhGsQoJzHmR7jA4ALv/Jjz3LUfTMmiRvhQHCr9aQDGKbWE9WcM2GDGGHXwVTXrmUA4ylVPd/12TavhUWc738A8HUAWQD/pKr9ru/F+v4yAEcBfEJVn/abpx3AiBppqgX7ILI7PQtzp8T526h3/OKyK39R7woGsS9K3YVWo0xry+Ij7y5g4Im9iacn6K5rHFEq3LkMAtetLSs4NqZ1O8bsiPXf37/deKc1Taa3lwNJSQUekjbvtGnGimVYXs3bp7fncM7MkxILjEblvPhNoqXBnv5wj/E1QpQLmUaqJtgSJ0AQR3sug39YvhA337u9KbZto6xc3NWQljyTgVivFFRnaiqDxq2jX/7RqLwlSVFagUVVTX7tJSPARWdVX3e3WwwmFcSuhjM4d8nZMwLzPPs6aNvLhxLNH+3HUE2tu5ImmNjSLE6dyivw4AzKRVkXrwBZLQMYmwH8EsB3Ud7mKwG8V1WXxphnFsC/AvgggP0AngRwnao+45jmMgD/GeUAxoUAvq6qF/rN1w5gxG1qGJczypvk3VciIgpvw4pFuPWhXcyDY1i5uGv8LmgzmAwXOERENHlkM4LRet6VRmWrxLgtUcM8thuWu1WKKYCRxCgk1wG4BcAPrP9/YX0WxwUAnlfVFwFARL4P4EoAzzimuRLAd7QcgdkqIh0iMlNVX/GbcXGw1PDmnRfMmT7epIwVZyKixlg1MIQ2j2Gh06BZWmA025369G9RIiJqJfUOXgDAyKjiJmuEprgt64dHRtF331AiLdfDjlYWO4BhjTbyd3Hn41IAsM/x/36UW1kETVMAYAxg7N69Gzd/5+fA1FOSSmdVHn/+VVx88cXY131DbdNiV369xmr1+y7MfKv5HRFRyrx9bCyV+dno2Bhk7Bg0G28YbUpQnHKTiIgoRcYUWPX9wfI/Mcu1kdFkrg0zb72Giy++OHC6qgMYIrJBVVeJyEPwuKmhqldUO2+UW3lOmGUV00BEbgBwAwBMnToVo20nx0hWUspJr3la/A6kuAfZsbeAbBsrckTU3FKch2kme/yi2R70K8XpnfS47YmIaDJJqlyLOp+xY+W/meOhCBkdwfS9vwj18zgtMP7Z+vvfYszDZD+AWY7/3wngQBXTQFXvBnA3UO4DY+r09sb3OC+Cxx57LJW934ciAkyZChFH3ZqIaJKra54ndneAZfncFFx1fqGp+psgIiIicttwXblbi8oReBaht7u3YjoxBEYy1S5YVZ+y/v7cfgHYAeCw9T6OJwHME5E5ItIG4KMANrqm2Qjgr6RsMYDXgvq/AIC+pfORz2VjJi+e9lx5s19y9oyGpiMu1qGJqFUUOvK449pFDVv+8Mgotjx3EF+79ryGpYGi2bBi0fiIRURERFSuT/V2F9DbXcDjq9+HO6yRWG4cGMKS/p+hOFgKnEfVAQybiDwmIieLSCeA7QC+JSK3x5mnqh4D8LcANgN4FsC9qrpLRD4lIp+yJnsYwIsAngfwTQB/E2bevd0FrFu+AB35iZWKXCZ+M5owc/iH5QsBAFueO+j5fS72XqlePpdBApuBiGhS8RqfvN5KR4bR211gHt0kbhwYgmq5t/ckVbv/sy30CEya1nTeadOQb2TFjhLTDLtx3mnTajKtnzSdb5PZtDb/G/ArF3eh0JFPbH/U4oZ/NiPoWzp//P/iYAlrHtyJkjXkaunIMNY8uDMwiJHEqXiKqr4OYDmAb6nq+QA+EHemqvqwqv6Fqs5V1a9Yn92lqndZ71VVP2N9v0BVt4Wdd293AUO3XIoNKxaN7+hCRx7rrzkPG1YsqjqQkc0I3jO303eajnxuvBJs6mn12BiwJGA+tbJu+UJ87MKuxOZXTb3NHhM5iPvgXTK3E3v6l2Hl4q5IFbWMmDPxtqxMqHyaTpqTp4Y/0autzExry2LDikVYuTi5fdSRz423CnIva+XiLt/zodCRH0+Pvc2zIli5uCvUfohTqevI5yacJ9Ucb/lceT29gpq2lYu7sKd/Gfb0L8OGFYtSVxl1p8/O1zryufE7wFE3TaEjPz5P+7wyOf2kttDnXC4jmN6eG09fkKC5TskINqxYVPP9YufbQRUIoLw/NqxYFGr9orA3cZJ5dBRR8p4kyrBcRirypvYIAfaMYDwfahQFcGR4BFCEbokxvT03fr45V9XO+/f0L8Pt1y5C1rUh3P97eWHdZTXbHu7yb8nczqrOySSCPflcFtdbFflGWzK3Ez++6WI8++UPjefPpi2yZG5nrPMmzDEQdZsIyseewFz3iVJlnnfaNN88fXp7DisXd4U6btqyEiuYm89lI13A53NZrL9mUax91JY9Xv7Z9SdnORv0Cjp/Vy7uwo9vujjUeW5PG5Wgss6xp38ZXupfFrm8s+vszlfcc9autzqv7YK416Wcb0W7cPc6XJfM7Uw8ADA84j+K5m29C/D46vfhpf5lsVv/TW/PYd3yBePbMqkAuHPEleJgCTffu33Ceg2PjGL95t2+8xGN+RyAiOwEcCmAbwP4nKo+KSI7VHVhrBnXQE9Pj27bFhznKA6WsH7z7kj9U0xry+IrH1kQ+LsNKxaNV4RNfWDYY+BWk4649vQvAwCsLe4M/ay1YGLvqRkpV7Jv611QsR720IAd+RzeeOvYhKGDVi4u/yaofxD3OMFeioMl9N23HSOG4YnCzMOeT+UzWuXIofuz3u6C53YrOL43zfeUfA6vDY94DvHXnsvgmS9/qKp02sP1en0eVnGwhC9u3FWuiKOcqd1y+bmJ3432Ws6yhTMx8MS+CfvQOX6129rizglDO+YyghUXzMKW5w5WHIfufVOOBO/AsDUWlPM4rjb97mV25HN4/c8jCDNqlj22tl8+YJ8zYawt7sQ9W/dWHGe5jABi9SDtWq7X9r3+m7+uGOd7ydxO3PPJi8b/t6PpzgLJziPCnAvuY9RrfoD5OHTvQ+B4/tzbXcDs1ZsCt5MXO28sDpawamDIOJ1pfyTV55EzjzYNYTrvtGn43R/ejL0s07JtfttyT/8yz+MtLOc+cwoqF722f5h9Xuv+Texj3+tYrkgHgJdc29mL1zkTVF/wKt/tKmnQqk9vz+H14WOedYKgNIct6wqO9bCnFQGOHB3BGR15XHL2DAw8sdd3qD53vhDlvDOVEx0e6bCn8ZPPZfCsR9kdVM6Y8jybV51r5eIu9JzZGfnccB4LWRFcd+Es3/LEa3p7uWHrHl7r51fm2NvEbxnOdRaU6whvj5qP6qwIvnbteePzcJbdTtPasjj69uiEcskv/61YTkbwtWu86yrVcuerpryy+0uP4vDRieskAtxxbfC1CBCtfmGqc5vSZ5qH6djPZQQnnjAFR46OTMgb/Oq1pn3lly7nceV1vjl15HMYuuVS4/p4XT/41SGCmMoq9zVNcbCEm+4dClXX9OJer6BrqijClId2uSIiT6lqz4TvEwhgXAPg8wAeV9VPi8hZANar6lWxZlwDYQMYTn4Zm1cFes7qTb4HurMCWBwsoe/+7RUXDn4XZsXBEm68d6hmlSyvC/q5ax4ODGKsXNyFLc8djHyBHHTRYjpR/LaR1zK89l9QYdkIUY+HVlFNACVu0KbWTOsEeAfGqqnw+S07bEAuzvqldX7VBDDceaMpn88I8OI67wu54mAJNw0MIe4w6e4ggmnbhK1gh+VVSfvLzz9SESiyOS/cTHlw0IWzez29hD0uFt36qGcZfjy9WVx1fsEzWJoUuzIWFIAJG1j34hdcC6pkm+o5wPFyaNvLhzyPqSgXOfby4uRn537hR3jz7YmVXq91DAo42kzBVT9+F1tx6xheN34KEfLrqIGJeqtXGR3lWIubprCBhXoJu+6m49h9cyLsMuPuV79jv9ptGed88MsfMwLc7ggGRUlPnPI5n8uGPqb98nY/XoHpOPNzz/uMjrxvEHh6ew6DX7i0dgGMZlJNACMqU8QT8I6OuS/ScxnBep9ord/dzSAZwLfyXO2dqzAVzWp4nSjV3v1P+wWtrVnSSfXHYyMZc9ZsihwEdracA8yVj6ALOa87rxed1VnRosWPXaCH5W4tY1sytxNP731tQjlyvXUXN2y55BWUyQC4fcXECp3X8ZvUBXEQv4B4YUKgcIdnUMYkl4FviwDnctzlf1JBSSdTCzS/eoWbX16T1IVxnPws6rYzna9J3CCoxcUWJauVy86w697K2yispFsjVxvEcLdUC7u/orYCDQqmmwLJYed9wOrzwsQOSNeyBcZfAPhfAE5X1XeJyEIAV6jqbbFmXAP1CGD43elxV4KDHiEx8WtKF9RaxFRhNC036ICfd9q0qp6hIyJqhKiVBtMjXEne4QxbEXCXIWGY0hnUAi5s5SiJu5b1uFMcdZ3cFdVzZp40IRhk3337rw/uwFGfKEat7viatMLFSNR1rNejkEREYZ3z+Ud8yw4v1dQDgOBH05wEwB0ByzG1RA1qXWEHjoMeeazHIyQ/B9AH4Buq2m199ltVfVesGddAPQIYfo+QuB8fMTVrDPsMrElQwW5qVWFqLuT3zFMaH8UgIvITtm+Gej3CFbaZe61au1E4prLVr+Wl3bIlTc33iYio8Uwt8f0eZYxTD3CWYUH1n6Dl+N2EN/Vv4XysKqjeY99UNwUwpgSkP4x2VX1CKnsnPZbAfJuSKerk7AnXjoL5zSMOe2xdk4IhjV7Ltedjatlh9xTLAAYRNYvbehd4tkKwO+er953r3u4Cbn1ol/EiGIg+egAlz1S2+u03hXnIdCIial12eeIOjN9873bP/gfjjgTiLMP8WtgLyteqfvUfryBFPpetqDf53Uzv7S7gsw/swFvHvFugOIda9ZJEAONVEZkLqxsGEbkawCsJzLcp+e1Q2/rNu41NeNzTNiqNTvYBb2pdYhoOlogozYKCvfV0y+Xn+t6NqHW5QNWz+z4wYRlJRERevOohpsf9r7twVmLL7Vs639jCXoHAm9NBQYow9auvXrUQN9+33XNEyqDfJhHA+AyAuwGcLSIlAC8BuD6B+TalMFEnv8pMPR7HCJNGL6bWJXFbjBARkVlHPpeaQAtNFDRSV0d7rk4pISKiZmc/cljL/qHsOoXpxkmYwHvcm0DVXo8CCQQwVPVFAB8QkWkod0A+DGAFgJfjzrtZBe1QUyAgXsOgaKo56KK23CAionC+uHGX+bsrzq1jSigq02OZthYa7I2IiBJgP+paS73dBWNnmvW6OV1tECRT7QJF5GQRWSMid4rIBwEcBfBxAM8DuLba+baCS86e4fm53WQnrXq7C1i3fAEKHXkIypU2duBJRBSf37jqzGPTrW/pfN8bEK/57FsiIqJG6Vs6H/lctuKzZrg5HacFxj8DOAzg1wA+CeDvAbQB6FXV4O7UW5hfh15RxuhthDQ9M05ERNRovd0F3yHKT8nzERIiIkqfOI9xNFKcAMZZqroAAETknwC8CqBLVd9IJGWTmN9zRXF7mCUiouYzvT3nOZpFe67qhpJUR7f1LsAPni7hzbcndtDNYp2IiNKqGW9Ox6kZjde0VHUUwEsMXoTj91xRUGdgREQ0+dxy+bnIeFzojowpioOl+ieIIjvqEbwAgCM+w6wSERFRNHECGOeJyOvW6w0AC+33IvJ6UgmcjPyely1wRA8iopbT213wfNRgZFRT3TcSHWe6OcGRuoiIiJJTdQBDVbOqerL1OklVpzjen5xkIiejEzyaBTdDpylERFQbpjv1YYYzo8Zr1s7QiIiImknsYVSTJiKdAAYAzAawB8C1qnrYY7o9AN4AMArgmKr21C+V1SsOlqyhSMcqPp/ensMtl5/bdM8gERFRMkxDbPMOfnNo1s7QiIiImknqAhgAVgP4qar2i8hq6//PGqa9RFVfrV/S4lu/eTeGRyY+J9veNoWVHCKiFta3dL4V4D5eRvAOfnNpxs7QiIiImkkauze/EsC3rfffBtDbwLQkztQUmE2EiYhaW293AeuWL0ChIw9BuU+kdcsX8IKYiIiIyJLGFhinq+orAKCqr4jIaYbpFMCjIqIAvqGqd3tNJCI3ALgBALq6umqR3kjYRJiIiEx4B5+IiIjIrCEtMETkJyLyW4/XlRFms0RV3w3gQwA+IyLv9ZpIVe9W1R5V7ZkxY0Yi6Y+DnXwRERERERERRdeQFhiq+gHTdyLyexGZabW+mAngD4Z5HLD+/kFEfgDgAgC/qEmCE9TbXcC2lw/he7/Zh1FVZEVw1fm840ZERERERETkJ419YGwE8HHr/ccB/It7AhGZJiIn2e8BXArgt3VLYQzFwRIeeKqEUVUAwKgqHniqhOJgqcEpIyIiIiIiIkqvNAYw+gF8UER+B+CD1v8QkTNE5GFrmtMB/EpEtgN4AsAmVf1RQ1IbkdcoJMMjo1i/eXeDUkRERERERESUfqnrxFNV/wjg/R6fHwBwmfX+RQDn1TlpieAoJERERERERETRpbEFxqRmGm2Eo5AQERERERERmTGAUWcchYSIiIiIiIgoutQ9QjLZ2aONrN+8GweODOOMjjz6ls7nKCREREREREREPhjAaIDebg6bSkRERERERBQFHyEhIiIiIiIiotRjC4wGKQ6W+BgJERERERERUUgMYDRAcbCENQ/uxPDIKACgdGQYax7cCQAMYhARERERERF54CMkDbB+8+7x4IVteGQU6zfvblCKiIiIiIiIiNKNAYwGOHBkONLnRERERERERK2OAYwGOKMjH+lzIiIiIiIiolbHAEYD9C2dj3wuW/FZPpdF39L5DUoRERERERERUbqxE88GsDvq5CgkREREREREROGIqjY6DXUjIgcBvNzodFDVTgXwaqMTQQ3Bfd+6uO+pXnistS7ue4qLx1Dr4r6vnTNVdYb7w5YKYFBzE5FtqtrT6HRQ/XHfty7ue6oXHmuti/ue4uIx1Lq47+uPfWAQERERERERUeoxgEFEREREREREqccABjWTuxudAGoY7vvWxX1P9cJjrXVx31NcPIZaF/d9nbEPDCIiIiIiIiJKPbbAICIiIiIiIqLUYwCDiIiIiIiIiFKPAQyqmojMEpEtIvKsiOwSkb+zPu8UkR+LyO+sv9Otz99hTf8nEbnTNa/HRGS3iAxZr9MMyzxfRHaKyPMi8t9FRKzPbxKRZ0Rkh4j8VETONPz+vSLytIgcE5GrXd+NOpa/MYltNFmlbN9/yvp8SER+JSLnGH4/VUQGrN//RkRmO777kYgcEZEfJrOFJq8m3fc875tMmo4zx/dXi4iKiOdwecxjktGk+555TMqk6TgSkU+IyEHH7/+T4ffMQxLQpPueeUgUqsoXX1W9AMwE8G7r/UkA/hXAOQD+EcBq6/PVAL5qvZ8G4N8B+BSAO13zegxAT4hlPgHgIgAC4BEAH7I+vwRAu/X+0wAGDL+fDWAhgO8AuNr13Z8avU2b5ZWyfX+yY5orAPzI8Pu/AXCX9f6jzmMEwPsBXA7gh43etml/Nem+53nfZK80HWeONPwCwFbTvJjHtPS+Zx6TsleajiMAn3DP0/B75iGtu++Zh0R4sQUGVU1VX1HVp633bwB4FkABwJUAvm1N9m0AvdY0b6rqrwD8uZrlichMlC9Yfq3lM/o7jnlvUdWj1qRbAbzTkOY9qroDwFg1aaCylO371x2TTgNg6pnYmbb7AbzfjpCr6k8BvFFN2lpNM+57nvfNJ03HmeXLKFd+/ebPPCYBzbjvmcekTwqPozCYhySgGfc985BoGMCgRFjN3LoB/AbA6ar6ClDORAB4Nrfy8C2redTn3c03LQUA+x3/77c+c/trlKOfUZ0gIttEZKuIRC10WlYa9r2IfEZEXkC5kvlfDMsoANhnpe0YgNcAvCNk+shDE+17PzzvU67Rx5mIdAOYpapBTbeZxySsifa9H+YxDdbo48hylZQfc75fRGYZlsE8JGFNtO/9MA9xYQCDYhOREwE8AGCV645oFNer6gIA/956/UevRXl8VnHHVURWAugBsL6KNHSpag+AjwHYICJzq5hHS0nLvlfV/6GqcwF8FsBaU3L95kHRNNm+98PzPsUafZyJSAbAHQBuDpNcr3mETiVVaLJ974d5TAM1+jiy/j4EYLaqLgTwExxvBRBlHhRRk+17P8xDXBjAoFhEJIdy5nCPqj5offx7qzmV3azqD0HzUdWS9fcNAP8XwAUiknV0WvMllCOazkdD3gnggCMtHwDwOQBXqOpb1mdfsecRIg0HrL8vovzMW3fQb1pZmva9w/dhNdvz2Pf7AcyyvpsC4BQAh6KsM5U14b73SwPP+5RKyXF2EoB3AXhMRPYAWAxgo4j0MI+pnSbc935pYB7TICk5jqCqf7TrpQC+CeB8a/nMQ2qkCfe9XxqYh7gwgEFVs5pR/W8Az6rq7Y6vNgL4uPX+4wD+JWA+U0TkVOt9DsCHAfxWVUdVdZH1+oLV3OsNEVlsLfuv7HlbzTy/gXLwYjxDUtXP2fMISMN0EZlqvT8VwBIAz4TcFC0nZft+nmOWywD8DvDc9860XQ3gZ9azihRBk+57Uxp43qdUWo4zVX1NVU9V1dmqOhvlPpauUNVtzGNqo0n3vSkNzGMaJC3HkfW7mY5ZXoFynwysp9RIk+57UxqYh3jRFPQkyldzvlDusVcB7AAwZL0uQ/l5vZ+ifDHxUwCdjt/sQTma/CeUI5bnoNz53lPWfHYB+DqArGGZPQB+C+AFAHcCEOvznwD4vSMdGw2//7fWct8E8EcAu6zP3wNgJ4Dt1t+/bvT2TfMrZfv+69ZvhwBsAXCu4fcnALgPwPMo9xZ9luO7XwI4CGDYStvSRm/jtL6adN/zvG+yV5qOM9c0j8E8EgXzmNbd98xjUvZK03EEYJ312+0ol1VnG37PPKR19z3zkAgve+MSEREREREREaUWHyEhIiIiIiIiotRjAIOIiIiIiIiIUo8BDCIiIiIiIiJKPQYwiIiIiIiIiCj1GMAgIiIiIiIiotRjAIOIiIiIiIiIUo8BDCIiIiIiIiJKvf8PP8PKKd6iaJcAAAAASUVORK5CYII=\n",
      "text/plain": [
       "<Figure size 1080x432 with 4 Axes>"
      ]
     },
     "metadata": {
      "needs_background": "light"
     },
     "output_type": "display_data"
    }
   ],
   "source": [
    "dec = sm.tsa.seasonal_decompose(df['Humidity'])\n",
    "\n",
    "dec.plot()\n",
    "plt.show()"
   ]
  },
  {
   "cell_type": "markdown",
   "metadata": {},
   "source": [
    "## Checking for autocorrelation"
   ]
  },
  {
   "cell_type": "code",
   "execution_count": 20,
   "metadata": {
    "scrolled": true
   },
   "outputs": [
    {
     "data": {
      "text/plain": [
       "0.9997365636761226"
      ]
     },
     "execution_count": 20,
     "metadata": {},
     "output_type": "execute_result"
    }
   ],
   "source": [
    "df['Humidity'].autocorr(lag=1)"
   ]
  },
  {
   "cell_type": "code",
   "execution_count": 21,
   "metadata": {},
   "outputs": [
    {
     "name": "stdout",
     "output_type": "stream",
     "text": [
      "Help on function autocorr in module pandas.core.series:\n",
      "\n",
      "autocorr(self, lag=1)\n",
      "    Compute the lag-N autocorrelation.\n",
      "    \n",
      "    This method computes the Pearson correlation between\n",
      "    the Series and its shifted self.\n",
      "    \n",
      "    Parameters\n",
      "    ----------\n",
      "    lag : int, default 1\n",
      "        Number of lags to apply before performing autocorrelation.\n",
      "    \n",
      "    Returns\n",
      "    -------\n",
      "    float\n",
      "        The Pearson correlation between self and self.shift(lag).\n",
      "    \n",
      "    See Also\n",
      "    --------\n",
      "    Series.corr : Compute the correlation between two Series.\n",
      "    Series.shift : Shift index by desired number of periods.\n",
      "    DataFrame.corr : Compute pairwise correlation of columns.\n",
      "    DataFrame.corrwith : Compute pairwise correlation between rows or\n",
      "        columns of two DataFrame objects.\n",
      "    \n",
      "    Notes\n",
      "    -----\n",
      "    If the Pearson correlation is not well defined return 'NaN'.\n",
      "    \n",
      "    Examples\n",
      "    --------\n",
      "    >>> s = pd.Series([0.25, 0.5, 0.2, -0.05])\n",
      "    >>> s.autocorr()  # doctest: +ELLIPSIS\n",
      "    0.10355...\n",
      "    >>> s.autocorr(lag=2)  # doctest: +ELLIPSIS\n",
      "    -0.99999...\n",
      "    \n",
      "    If the Pearson correlation is not well defined, then 'NaN' is returned.\n",
      "    \n",
      "    >>> s = pd.Series([1, 0, 0, 0])\n",
      "    >>> s.autocorr()\n",
      "    nan\n",
      "\n"
     ]
    }
   ],
   "source": [
    "help(pd.Series.autocorr)\n",
    "# lagl: t and t-1\n",
    "# lagl: t and t-1"
   ]
  },
  {
   "cell_type": "code",
   "execution_count": 22,
   "metadata": {},
   "outputs": [
    {
     "data": {
      "text/plain": [
       "<matplotlib.axes._subplots.AxesSubplot at 0x22b3e4169a0>"
      ]
     },
     "execution_count": 22,
     "metadata": {},
     "output_type": "execute_result"
    },
    {
     "data": {
      "image/png": "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\n",
      "text/plain": [
       "<Figure size 1080x432 with 1 Axes>"
      ]
     },
     "metadata": {
      "needs_background": "light"
     },
     "output_type": "display_data"
    }
   ],
   "source": [
    "from pandas.plotting import lag_plot\n",
    "lag_plot(df['Humidity'])"
   ]
  },
  {
   "cell_type": "code",
   "execution_count": 23,
   "metadata": {},
   "outputs": [
    {
     "data": {
      "image/png": "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\n",
      "text/plain": [
       "<Figure size 1080x432 with 1 Axes>"
      ]
     },
     "metadata": {
      "needs_background": "light"
     },
     "output_type": "display_data"
    }
   ],
   "source": [
    "# Autocorrelation Plot\n",
    "\n",
    "plt.acorr(df['Humidity'], maxlags = 5)\n",
    "plt.title(\"Autocorrelation Plot for Humidity\")\n",
    "\n",
    "  \n",
    "plt.show()  \n",
    "# autocorr (t-0 and t-0) --> 1\n",
    "# the heatmap of autocorrelation"
   ]
  },
  {
   "cell_type": "markdown",
   "metadata": {},
   "source": [
    "## Applying Time Series models"
   ]
  },
  {
   "cell_type": "code",
   "execution_count": 24,
   "metadata": {},
   "outputs": [
    {
     "data": {
      "text/html": [
       "<table class=\"simpletable\">\n",
       "<caption>AutoReg Model Results</caption>\n",
       "<tr>\n",
       "  <th>Dep. Variable:</th>     <td>Humidity</td>     <th>  No. Observations:  </th>   <td>2663</td>  \n",
       "</tr>\n",
       "<tr>\n",
       "  <th>Model:</th>            <td>AutoReg(1)</td>    <th>  Log Likelihood     </th> <td>3898.689</td>\n",
       "</tr>\n",
       "<tr>\n",
       "  <th>Method:</th>         <td>Conditional MLE</td> <th>  S.D. of innovations</th>   <td>0.056</td> \n",
       "</tr>\n",
       "<tr>\n",
       "  <th>Date:</th>          <td>Thu, 26 Nov 2020</td> <th>  AIC                </th>  <td>-5.765</td> \n",
       "</tr>\n",
       "<tr>\n",
       "  <th>Time:</th>              <td>18:42:32</td>     <th>  BIC                </th>  <td>-5.758</td> \n",
       "</tr>\n",
       "<tr>\n",
       "  <th>Sample:</th>           <td>02-02-2015</td>    <th>  HQIC               </th>  <td>-5.762</td> \n",
       "</tr>\n",
       "<tr>\n",
       "  <th></th>                 <td>- 05-24-2015</td>   <th>                     </th>     <td> </td>   \n",
       "</tr>\n",
       "</table>\n",
       "<table class=\"simpletable\">\n",
       "<tr>\n",
       "       <td></td>          <th>coef</th>     <th>std err</th>      <th>z</th>      <th>P>|z|</th>  <th>[0.025</th>    <th>0.975]</th>  \n",
       "</tr>\n",
       "<tr>\n",
       "  <th>intercept</th>   <td>    0.0071</td> <td>    0.011</td> <td>    0.624</td> <td> 0.533</td> <td>   -0.015</td> <td>    0.029</td>\n",
       "</tr>\n",
       "<tr>\n",
       "  <th>Humidity.L1</th> <td>    0.9997</td> <td>    0.000</td> <td> 2247.322</td> <td> 0.000</td> <td>    0.999</td> <td>    1.001</td>\n",
       "</tr>\n",
       "</table>\n",
       "<table class=\"simpletable\">\n",
       "<caption>Roots</caption>\n",
       "<tr>\n",
       "    <td></td>   <th>            Real</th>  <th>         Imaginary</th> <th>         Modulus</th>  <th>        Frequency</th>\n",
       "</tr>\n",
       "<tr>\n",
       "  <th>AR.1</th> <td>           1.0003</td> <td>          +0.0000j</td> <td>           1.0003</td> <td>           0.0000</td>\n",
       "</tr>\n",
       "</table>"
      ],
      "text/plain": [
       "<class 'statsmodels.iolib.summary.Summary'>\n",
       "\"\"\"\n",
       "                            AutoReg Model Results                             \n",
       "==============================================================================\n",
       "Dep. Variable:               Humidity   No. Observations:                 2663\n",
       "Model:                     AutoReg(1)   Log Likelihood                3898.689\n",
       "Method:               Conditional MLE   S.D. of innovations              0.056\n",
       "Date:                Thu, 26 Nov 2020   AIC                             -5.765\n",
       "Time:                        18:42:32   BIC                             -5.758\n",
       "Sample:                    02-02-2015   HQIC                            -5.762\n",
       "                         - 05-24-2015                                         \n",
       "===============================================================================\n",
       "                  coef    std err          z      P>|z|      [0.025      0.975]\n",
       "-------------------------------------------------------------------------------\n",
       "intercept       0.0071      0.011      0.624      0.533      -0.015       0.029\n",
       "Humidity.L1     0.9997      0.000   2247.322      0.000       0.999       1.001\n",
       "                                    Roots                                    \n",
       "=============================================================================\n",
       "                  Real          Imaginary           Modulus         Frequency\n",
       "-----------------------------------------------------------------------------\n",
       "AR.1            1.0003           +0.0000j            1.0003            0.0000\n",
       "-----------------------------------------------------------------------------\n",
       "\"\"\""
      ]
     },
     "execution_count": 24,
     "metadata": {},
     "output_type": "execute_result"
    }
   ],
   "source": [
    "from statsmodels.tsa.ar_model import AutoReg\n",
    "model = AutoReg(df['Humidity'], lags = 1).fit()\n",
    "model.summary()"
   ]
  },
  {
   "cell_type": "code",
   "execution_count": null,
   "metadata": {},
   "outputs": [],
   "source": [
    "# OLS: Y=b0 + b1X +e\n",
    "# Prediction: yhat =b0 +b1X\n",
    "# yt = b0 + b1yt-1\n",
    "# yt+1 = b0 +b1yt"
   ]
  },
  {
   "cell_type": "code",
   "execution_count": 25,
   "metadata": {},
   "outputs": [
    {
     "name": "stdout",
     "output_type": "stream",
     "text": [
      "Help on class AutoReg in module statsmodels.tsa.ar_model:\n",
      "\n",
      "class AutoReg(statsmodels.tsa.base.tsa_model.TimeSeriesModel)\n",
      " |  AutoReg(endog, lags, trend='c', seasonal=False, exog=None, hold_back=None, period=None, missing='none')\n",
      " |  \n",
      " |  Autoregressive AR-X(p) model.\n",
      " |  \n",
      " |  Estimate an AR-X model using Conditional Maximum Likelihood (OLS).\n",
      " |  \n",
      " |  Parameters\n",
      " |  ----------\n",
      " |  endog : array_like\n",
      " |      A 1-d endogenous response variable. The independent variable.\n",
      " |  lags : {int, list[int]}\n",
      " |      The number of lags to include in the model if an integer or the\n",
      " |      list of lag indices to include.  For example, [1, 4] will only\n",
      " |      include lags 1 and 4 while lags=4 will include lags 1, 2, 3, and 4.\n",
      " |  trend : {'n', 'c', 't', 'ct'}\n",
      " |      The trend to include in the model:\n",
      " |  \n",
      " |      * 'n' - No trend.\n",
      " |      * 'c' - Constant only.\n",
      " |      * 't' - Time trend only.\n",
      " |      * 'ct' - Constant and time trend.\n",
      " |  \n",
      " |  seasonal : bool\n",
      " |      Flag indicating whether to include seasonal dummies in the model. If\n",
      " |      seasonal is True and trend includes 'c', then the first period\n",
      " |      is excluded from the seasonal terms.\n",
      " |  exog : array_like, optional\n",
      " |      Exogenous variables to include in the model. Must have the same number\n",
      " |      of observations as endog and should be aligned so that endog[i] is\n",
      " |      regressed on exog[i].\n",
      " |  hold_back : {None, int}\n",
      " |      Initial observations to exclude from the estimation sample.  If None,\n",
      " |      then hold_back is equal to the maximum lag in the model.  Set to a\n",
      " |      non-zero value to produce comparable models with different lag\n",
      " |      length.  For example, to compare the fit of a model with lags=3 and\n",
      " |      lags=1, set hold_back=3 which ensures that both models are estimated\n",
      " |      using observations 3,...,nobs. hold_back must be >= the maximum lag in\n",
      " |      the model.\n",
      " |  period : {None, int}\n",
      " |      The period of the data. Only used if seasonal is True. This parameter\n",
      " |      can be omitted if using a pandas object for endog that contains a\n",
      " |      recognized frequency.\n",
      " |  missing : str\n",
      " |      Available options are 'none', 'drop', and 'raise'. If 'none', no nan\n",
      " |      checking is done. If 'drop', any observations with nans are dropped.\n",
      " |      If 'raise', an error is raised. Default is 'none'.\n",
      " |  \n",
      " |  See Also\n",
      " |  --------\n",
      " |  statsmodels.tsa.statespace.sarimax.SARIMAX\n",
      " |      Estimation of SARIMAX models using exact likelihood and the\n",
      " |      Kalman Filter.\n",
      " |  \n",
      " |  Examples\n",
      " |  --------\n",
      " |  >>> import statsmodels.api as sm\n",
      " |  >>> from statsmodels.tsa.ar_model import AutoReg\n",
      " |  >>> data = sm.datasets.sunspots.load_pandas().data['SUNACTIVITY']\n",
      " |  >>> out = 'AIC: {0:0.3f}, HQIC: {1:0.3f}, BIC: {2:0.3f}'\n",
      " |  \n",
      " |  Start by fitting an unrestricted Seasonal AR model\n",
      " |  \n",
      " |  >>> res = AutoReg(data, lags = [1, 11, 12]).fit()\n",
      " |  >>> print(out.format(res.aic, res.hqic, res.bic))\n",
      " |  AIC: 5.945, HQIC: 5.970, BIC: 6.007\n",
      " |  \n",
      " |  An alternative used seasonal dummies\n",
      " |  \n",
      " |  >>> res = AutoReg(data, lags=1, seasonal=True, period=11).fit()\n",
      " |  >>> print(out.format(res.aic, res.hqic, res.bic))\n",
      " |  AIC: 6.017, HQIC: 6.080, BIC: 6.175\n",
      " |  \n",
      " |  Finally, both the seasonal AR structure and dummies can be included\n",
      " |  \n",
      " |  >>> res = AutoReg(data, lags=[1, 11, 12], seasonal=True, period=11).fit()\n",
      " |  >>> print(out.format(res.aic, res.hqic, res.bic))\n",
      " |  AIC: 5.884, HQIC: 5.959, BIC: 6.071\n",
      " |  \n",
      " |  Method resolution order:\n",
      " |      AutoReg\n",
      " |      statsmodels.tsa.base.tsa_model.TimeSeriesModel\n",
      " |      statsmodels.base.model.LikelihoodModel\n",
      " |      statsmodels.base.model.Model\n",
      " |      builtins.object\n",
      " |  \n",
      " |  Methods defined here:\n",
      " |  \n",
      " |  __init__(self, endog, lags, trend='c', seasonal=False, exog=None, hold_back=None, period=None, missing='none')\n",
      " |      Initialize self.  See help(type(self)) for accurate signature.\n",
      " |  \n",
      " |  fit(self, cov_type='nonrobust', cov_kwds=None, use_t=False)\n",
      " |      Estimate the model parameters.\n",
      " |      \n",
      " |      Parameters\n",
      " |      ----------\n",
      " |      cov_type : str\n",
      " |          The covariance estimator to use. The most common choices are listed\n",
      " |          below.  Supports all covariance estimators that are available\n",
      " |          in ``OLS.fit``.\n",
      " |      \n",
      " |          * 'nonrobust' - The class OLS covariance estimator that assumes\n",
      " |            homoskedasticity.\n",
      " |          * 'HC0', 'HC1', 'HC2', 'HC3' - Variants of White's\n",
      " |            (or Eiker-Huber-White) covariance estimator. `HC0` is the\n",
      " |            standard implementation.  The other make corrections to improve\n",
      " |            the finite sample performance of the heteroskedasticity robust\n",
      " |            covariance estimator.\n",
      " |          * 'HAC' - Heteroskedasticity-autocorrelation robust covariance\n",
      " |            estimation. Supports cov_kwds.\n",
      " |      \n",
      " |            - `maxlag` integer (required) : number of lags to use.\n",
      " |            - `kernel` callable or str (optional) : kernel\n",
      " |                currently available kernels are ['bartlett', 'uniform'],\n",
      " |                default is Bartlett.\n",
      " |            - `use_correction` bool (optional) : If true, use small sample\n",
      " |                correction.\n",
      " |      cov_kwds : dict, optional\n",
      " |          A dictionary of keyword arguments to pass to the covariance\n",
      " |          estimator. `nonrobust` and `HC#` do not support cov_kwds.\n",
      " |      use_t : bool, optional\n",
      " |          A flag indicating that inference should use the Student's t\n",
      " |          distribution that accounts for model degree of freedom.  If False,\n",
      " |          uses the normal distribution. If None, defers the choice to\n",
      " |          the cov_type. It also removes degree of freedom corrections from\n",
      " |          the covariance estimator when cov_type is 'nonrobust'.\n",
      " |      \n",
      " |      Returns\n",
      " |      -------\n",
      " |      AutoRegResults\n",
      " |          Estimation results.\n",
      " |      \n",
      " |      See Also\n",
      " |      --------\n",
      " |      statsmodels.regression.linear_model.OLS\n",
      " |          Ordinary Least Squares estimation.\n",
      " |      statsmodels.regression.linear_model.RegressionResults\n",
      " |          See ``get_robustcov_results`` for a detailed list of available\n",
      " |          covariance estimators and options.\n",
      " |      \n",
      " |      Notes\n",
      " |      -----\n",
      " |      Use ``OLS`` to estimate model parameters and to estimate parameter\n",
      " |      covariance.\n",
      " |  \n",
      " |  hessian(self, params)\n",
      " |      The Hessian matrix of the model.\n",
      " |      \n",
      " |      Parameters\n",
      " |      ----------\n",
      " |      params : ndarray\n",
      " |          The parameters to use when evaluating the Hessian.\n",
      " |      \n",
      " |      Returns\n",
      " |      -------\n",
      " |      ndarray\n",
      " |          The hessian evaluated at the parameters.\n",
      " |  \n",
      " |  information(self, params)\n",
      " |      Fisher information matrix of model.\n",
      " |      \n",
      " |      Returns -1 * Hessian of the log-likelihood evaluated at params.\n",
      " |      \n",
      " |      Parameters\n",
      " |      ----------\n",
      " |      params : ndarray\n",
      " |          The model parameters.\n",
      " |      \n",
      " |      Returns\n",
      " |      -------\n",
      " |      ndarray\n",
      " |          The information matrix.\n",
      " |  \n",
      " |  initialize(self)\n",
      " |      Initialize the model (no-op).\n",
      " |  \n",
      " |  loglike(self, params)\n",
      " |      Log-likelihood of model.\n",
      " |      \n",
      " |      Parameters\n",
      " |      ----------\n",
      " |      params : ndarray\n",
      " |          The model parameters used to compute the log-likelihood.\n",
      " |      \n",
      " |      Returns\n",
      " |      -------\n",
      " |      float\n",
      " |          The log-likelihood value.\n",
      " |  \n",
      " |  predict(self, params, start=None, end=None, dynamic=False, exog=None, exog_oos=None)\n",
      " |      In-sample prediction and out-of-sample forecasting.\n",
      " |      \n",
      " |      Parameters\n",
      " |      ----------\n",
      " |      params : array_like\n",
      " |          The fitted model parameters.\n",
      " |      start : int, str, or datetime, optional\n",
      " |          Zero-indexed observation number at which to start forecasting,\n",
      " |          i.e., the first forecast is start. Can also be a date string to\n",
      " |          parse or a datetime type. Default is the the zeroth observation.\n",
      " |      end : int, str, or datetime, optional\n",
      " |          Zero-indexed observation number at which to end forecasting, i.e.,\n",
      " |          the last forecast is end. Can also be a date string to\n",
      " |          parse or a datetime type. However, if the dates index does not\n",
      " |          have a fixed frequency, end must be an integer index if you\n",
      " |          want out-of-sample prediction. Default is the last observation in\n",
      " |          the sample. Unlike standard python slices, end is inclusive so\n",
      " |          that all the predictions [start, start+1, ..., end-1, end] are\n",
      " |          returned.\n",
      " |      dynamic : {bool, int, str, datetime, Timestamp}, optional\n",
      " |          Integer offset relative to `start` at which to begin dynamic\n",
      " |          prediction. Prior to this observation, true endogenous values\n",
      " |          will be used for prediction; starting with this observation and\n",
      " |          continuing through the end of prediction, forecasted endogenous\n",
      " |          values will be used instead. Datetime-like objects are not\n",
      " |          interpreted as offsets. They are instead used to find the index\n",
      " |          location of `dynamic` which is then used to to compute the offset.\n",
      " |      exog : array_like\n",
      " |          A replacement exogenous array.  Must have the same shape as the\n",
      " |          exogenous data array used when the model was created.\n",
      " |      exog_oos : array_like\n",
      " |          An array containing out-of-sample values of the exogenous variable.\n",
      " |          Must has the same number of columns as the exog used when the\n",
      " |          model was created, and at least as many rows as the number of\n",
      " |          out-of-sample forecasts.\n",
      " |      \n",
      " |      Returns\n",
      " |      -------\n",
      " |      array_like\n",
      " |          Array of out of in-sample predictions and / or out-of-sample\n",
      " |          forecasts. An (npredict x k_endog) array.\n",
      " |  \n",
      " |  score(self, params)\n",
      " |      Score vector of model.\n",
      " |      \n",
      " |      The gradient of logL with respect to each parameter.\n",
      " |      \n",
      " |      Parameters\n",
      " |      ----------\n",
      " |      params : ndarray\n",
      " |          The parameters to use when evaluating the Hessian.\n",
      " |      \n",
      " |      Returns\n",
      " |      -------\n",
      " |      ndarray\n",
      " |          The score vector evaluated at the parameters.\n",
      " |  \n",
      " |  ----------------------------------------------------------------------\n",
      " |  Readonly properties defined here:\n",
      " |  \n",
      " |  ar_lags\n",
      " |      The autoregressive lags included in the model\n",
      " |  \n",
      " |  df_model\n",
      " |      The model degrees of freedom.\n",
      " |  \n",
      " |  exog_names\n",
      " |      Names of exogenous variables included in model\n",
      " |  \n",
      " |  hold_back\n",
      " |      The number of initial obs. excluded from the estimation sample.\n",
      " |  \n",
      " |  seasonal\n",
      " |      Flag indicating that the model contains a seasonal component.\n",
      " |  \n",
      " |  ----------------------------------------------------------------------\n",
      " |  Class methods inherited from statsmodels.base.model.Model:\n",
      " |  \n",
      " |  from_formula(formula, data, subset=None, drop_cols=None, *args, **kwargs) from builtins.type\n",
      " |      Create a Model from a formula and dataframe.\n",
      " |      \n",
      " |      Parameters\n",
      " |      ----------\n",
      " |      formula : str or generic Formula object\n",
      " |          The formula specifying the model.\n",
      " |      data : array_like\n",
      " |          The data for the model. See Notes.\n",
      " |      subset : array_like\n",
      " |          An array-like object of booleans, integers, or index values that\n",
      " |          indicate the subset of df to use in the model. Assumes df is a\n",
      " |          `pandas.DataFrame`.\n",
      " |      drop_cols : array_like\n",
      " |          Columns to drop from the design matrix.  Cannot be used to\n",
      " |          drop terms involving categoricals.\n",
      " |      *args\n",
      " |          Additional positional argument that are passed to the model.\n",
      " |      **kwargs\n",
      " |          These are passed to the model with one exception. The\n",
      " |          ``eval_env`` keyword is passed to patsy. It can be either a\n",
      " |          :class:`patsy:patsy.EvalEnvironment` object or an integer\n",
      " |          indicating the depth of the namespace to use. For example, the\n",
      " |          default ``eval_env=0`` uses the calling namespace. If you wish\n",
      " |          to use a \"clean\" environment set ``eval_env=-1``.\n",
      " |      \n",
      " |      Returns\n",
      " |      -------\n",
      " |      model\n",
      " |          The model instance.\n",
      " |      \n",
      " |      Notes\n",
      " |      -----\n",
      " |      data must define __getitem__ with the keys in the formula terms\n",
      " |      args and kwargs are passed on to the model instantiation. E.g.,\n",
      " |      a numpy structured or rec array, a dictionary, or a pandas DataFrame.\n",
      " |  \n",
      " |  ----------------------------------------------------------------------\n",
      " |  Readonly properties inherited from statsmodels.base.model.Model:\n",
      " |  \n",
      " |  endog_names\n",
      " |      Names of endogenous variables.\n",
      " |  \n",
      " |  ----------------------------------------------------------------------\n",
      " |  Data descriptors inherited from statsmodels.base.model.Model:\n",
      " |  \n",
      " |  __dict__\n",
      " |      dictionary for instance variables (if defined)\n",
      " |  \n",
      " |  __weakref__\n",
      " |      list of weak references to the object (if defined)\n",
      "\n"
     ]
    }
   ],
   "source": [
    "help(AutoReg)"
   ]
  },
  {
   "cell_type": "markdown",
   "metadata": {},
   "source": [
    "## Making Predictions"
   ]
  },
  {
   "cell_type": "markdown",
   "metadata": {},
   "source": [
    "In order to assess the accuracy of our predictions, we will remove the last ten observations from the variable which we are using to train the model. Afterwards, we will then predict those ten observations, and see how close we got with our model to what happened in reality!"
   ]
  },
  {
   "cell_type": "code",
   "execution_count": 26,
   "metadata": {},
   "outputs": [
    {
     "data": {
      "text/html": [
       "<table class=\"simpletable\">\n",
       "<caption>AutoReg Model Results</caption>\n",
       "<tr>\n",
       "  <th>Dep. Variable:</th>     <td>Humidity</td>     <th>  No. Observations:  </th>   <td>2663</td>  \n",
       "</tr>\n",
       "<tr>\n",
       "  <th>Model:</th>            <td>AutoReg(1)</td>    <th>  Log Likelihood     </th> <td>3898.689</td>\n",
       "</tr>\n",
       "<tr>\n",
       "  <th>Method:</th>         <td>Conditional MLE</td> <th>  S.D. of innovations</th>   <td>0.056</td> \n",
       "</tr>\n",
       "<tr>\n",
       "  <th>Date:</th>          <td>Thu, 26 Nov 2020</td> <th>  AIC                </th>  <td>-5.765</td> \n",
       "</tr>\n",
       "<tr>\n",
       "  <th>Time:</th>              <td>18:42:32</td>     <th>  BIC                </th>  <td>-5.758</td> \n",
       "</tr>\n",
       "<tr>\n",
       "  <th>Sample:</th>           <td>02-02-2015</td>    <th>  HQIC               </th>  <td>-5.762</td> \n",
       "</tr>\n",
       "<tr>\n",
       "  <th></th>                 <td>- 05-24-2015</td>   <th>                     </th>     <td> </td>   \n",
       "</tr>\n",
       "</table>\n",
       "<table class=\"simpletable\">\n",
       "<tr>\n",
       "       <td></td>          <th>coef</th>     <th>std err</th>      <th>z</th>      <th>P>|z|</th>  <th>[0.025</th>    <th>0.975]</th>  \n",
       "</tr>\n",
       "<tr>\n",
       "  <th>intercept</th>   <td>    0.0071</td> <td>    0.011</td> <td>    0.624</td> <td> 0.533</td> <td>   -0.015</td> <td>    0.029</td>\n",
       "</tr>\n",
       "<tr>\n",
       "  <th>Humidity.L1</th> <td>    0.9997</td> <td>    0.000</td> <td> 2247.322</td> <td> 0.000</td> <td>    0.999</td> <td>    1.001</td>\n",
       "</tr>\n",
       "</table>\n",
       "<table class=\"simpletable\">\n",
       "<caption>Roots</caption>\n",
       "<tr>\n",
       "    <td></td>   <th>            Real</th>  <th>         Imaginary</th> <th>         Modulus</th>  <th>        Frequency</th>\n",
       "</tr>\n",
       "<tr>\n",
       "  <th>AR.1</th> <td>           1.0003</td> <td>          +0.0000j</td> <td>           1.0003</td> <td>           0.0000</td>\n",
       "</tr>\n",
       "</table>"
      ],
      "text/plain": [
       "<class 'statsmodels.iolib.summary.Summary'>\n",
       "\"\"\"\n",
       "                            AutoReg Model Results                             \n",
       "==============================================================================\n",
       "Dep. Variable:               Humidity   No. Observations:                 2663\n",
       "Model:                     AutoReg(1)   Log Likelihood                3898.689\n",
       "Method:               Conditional MLE   S.D. of innovations              0.056\n",
       "Date:                Thu, 26 Nov 2020   AIC                             -5.765\n",
       "Time:                        18:42:32   BIC                             -5.758\n",
       "Sample:                    02-02-2015   HQIC                            -5.762\n",
       "                         - 05-24-2015                                         \n",
       "===============================================================================\n",
       "                  coef    std err          z      P>|z|      [0.025      0.975]\n",
       "-------------------------------------------------------------------------------\n",
       "intercept       0.0071      0.011      0.624      0.533      -0.015       0.029\n",
       "Humidity.L1     0.9997      0.000   2247.322      0.000       0.999       1.001\n",
       "                                    Roots                                    \n",
       "=============================================================================\n",
       "                  Real          Imaginary           Modulus         Frequency\n",
       "-----------------------------------------------------------------------------\n",
       "AR.1            1.0003           +0.0000j            1.0003            0.0000\n",
       "-----------------------------------------------------------------------------\n",
       "\"\"\""
      ]
     },
     "execution_count": 26,
     "metadata": {},
     "output_type": "execute_result"
    }
   ],
   "source": [
    "(train, test) = df.Humidity[:-10], df.Humidity[-10:]\n",
    "\n",
    "model = AutoReg(df['Humidity'], lags = 1).fit()\n",
    "model.summary()\n"
   ]
  },
  {
   "cell_type": "code",
   "execution_count": 27,
   "metadata": {
    "scrolled": true
   },
   "outputs": [
    {
     "data": {
      "text/html": [
       "<div>\n",
       "<style scoped>\n",
       "    .dataframe tbody tr th:only-of-type {\n",
       "        vertical-align: middle;\n",
       "    }\n",
       "\n",
       "    .dataframe tbody tr th {\n",
       "        vertical-align: top;\n",
       "    }\n",
       "\n",
       "    .dataframe thead th {\n",
       "        text-align: right;\n",
       "    }\n",
       "</style>\n",
       "<table border=\"1\" class=\"dataframe\">\n",
       "  <thead>\n",
       "    <tr style=\"text-align: right;\">\n",
       "      <th></th>\n",
       "      <th>Prediction</th>\n",
       "      <th>True Values</th>\n",
       "    </tr>\n",
       "  </thead>\n",
       "  <tbody>\n",
       "    <tr>\n",
       "      <th>0</th>\n",
       "      <td>25.890000</td>\n",
       "      <td>25.889617</td>\n",
       "    </tr>\n",
       "    <tr>\n",
       "      <th>1</th>\n",
       "      <td>25.912000</td>\n",
       "      <td>25.889617</td>\n",
       "    </tr>\n",
       "    <tr>\n",
       "      <th>2</th>\n",
       "      <td>25.891667</td>\n",
       "      <td>25.911610</td>\n",
       "    </tr>\n",
       "    <tr>\n",
       "      <th>3</th>\n",
       "      <td>25.978000</td>\n",
       "      <td>25.891283</td>\n",
       "    </tr>\n",
       "    <tr>\n",
       "      <th>4</th>\n",
       "      <td>25.852000</td>\n",
       "      <td>25.977591</td>\n",
       "    </tr>\n",
       "    <tr>\n",
       "      <th>5</th>\n",
       "      <td>25.700000</td>\n",
       "      <td>25.851628</td>\n",
       "    </tr>\n",
       "    <tr>\n",
       "      <th>6</th>\n",
       "      <td>25.736000</td>\n",
       "      <td>25.699671</td>\n",
       "    </tr>\n",
       "    <tr>\n",
       "      <th>7</th>\n",
       "      <td>25.700000</td>\n",
       "      <td>25.735661</td>\n",
       "    </tr>\n",
       "    <tr>\n",
       "      <th>8</th>\n",
       "      <td>25.700000</td>\n",
       "      <td>25.699671</td>\n",
       "    </tr>\n",
       "    <tr>\n",
       "      <th>9</th>\n",
       "      <td>25.681667</td>\n",
       "      <td>25.699671</td>\n",
       "    </tr>\n",
       "  </tbody>\n",
       "</table>\n",
       "</div>"
      ],
      "text/plain": [
       "   Prediction  True Values\n",
       "0   25.890000    25.889617\n",
       "1   25.912000    25.889617\n",
       "2   25.891667    25.911610\n",
       "3   25.978000    25.891283\n",
       "4   25.852000    25.977591\n",
       "5   25.700000    25.851628\n",
       "6   25.736000    25.699671\n",
       "7   25.700000    25.735661\n",
       "8   25.700000    25.699671\n",
       "9   25.681667    25.699671"
      ]
     },
     "execution_count": 27,
     "metadata": {},
     "output_type": "execute_result"
    }
   ],
   "source": [
    "pred = model.predict(start=len(train), end=len(train)+10)\n",
    "pd.DataFrame(zip(test, pred), columns = {'True Values', 'Prediction'})"
   ]
  },
  {
   "cell_type": "code",
   "execution_count": 28,
   "metadata": {},
   "outputs": [
    {
     "data": {
      "text/plain": [
       "date\n",
       "2015-05-23 23:00:00    25.832000\n",
       "2015-05-24 00:00:00    25.840000\n",
       "2015-05-24 01:00:00    25.891667\n",
       "2015-05-24 02:00:00    25.890000\n",
       "2015-05-24 03:00:00    25.890000\n",
       "Freq: H, Name: Humidity, dtype: float64"
      ]
     },
     "execution_count": 28,
     "metadata": {},
     "output_type": "execute_result"
    }
   ],
   "source": [
    "train.tail()\n",
    "# predict: Y hat = ne"
   ]
  },
  {
   "cell_type": "markdown",
   "metadata": {},
   "source": [
    "### Dickey Fuller Test for Stationarity"
   ]
  },
  {
   "cell_type": "code",
   "execution_count": 29,
   "metadata": {},
   "outputs": [
    {
     "name": "stdout",
     "output_type": "stream",
     "text": [
      "Help on function adfuller in module statsmodels.tsa.stattools:\n",
      "\n",
      "adfuller(x, maxlag=None, regression='c', autolag='AIC', store=False, regresults=False)\n",
      "    Augmented Dickey-Fuller unit root test.\n",
      "    \n",
      "    The Augmented Dickey-Fuller test can be used to test for a unit root in a\n",
      "    univariate process in the presence of serial correlation.\n",
      "    \n",
      "    Parameters\n",
      "    ----------\n",
      "    x : array_like, 1d\n",
      "        The data series to test.\n",
      "    maxlag : int\n",
      "        Maximum lag which is included in test, default 12*(nobs/100)^{1/4}.\n",
      "    regression : {'c','ct','ctt','nc'}\n",
      "        Constant and trend order to include in regression.\n",
      "    \n",
      "        * 'c' : constant only (default).\n",
      "        * 'ct' : constant and trend.\n",
      "        * 'ctt' : constant, and linear and quadratic trend.\n",
      "        * 'nc' : no constant, no trend.\n",
      "    \n",
      "    autolag : {'AIC', 'BIC', 't-stat', None}\n",
      "        Method to use when automatically determining the lag.\n",
      "    \n",
      "        * if None, then maxlag lags are used.\n",
      "        * if 'AIC' (default) or 'BIC', then the number of lags is chosen\n",
      "          to minimize the corresponding information criterion.\n",
      "        * 't-stat' based choice of maxlag.  Starts with maxlag and drops a\n",
      "          lag until the t-statistic on the last lag length is significant\n",
      "          using a 5%-sized test.\n",
      "    store : bool\n",
      "        If True, then a result instance is returned additionally to\n",
      "        the adf statistic. Default is False.\n",
      "    regresults : bool, optional\n",
      "        If True, the full regression results are returned. Default is False.\n",
      "    \n",
      "    Returns\n",
      "    -------\n",
      "    adf : float\n",
      "        The test statistic.\n",
      "    pvalue : float\n",
      "        MacKinnon's approximate p-value based on MacKinnon (1994, 2010).\n",
      "    usedlag : int\n",
      "        The number of lags used.\n",
      "    nobs : int\n",
      "        The number of observations used for the ADF regression and calculation\n",
      "        of the critical values.\n",
      "    critical values : dict\n",
      "        Critical values for the test statistic at the 1 %, 5 %, and 10 %\n",
      "        levels. Based on MacKinnon (2010).\n",
      "    icbest : float\n",
      "        The maximized information criterion if autolag is not None.\n",
      "    resstore : ResultStore, optional\n",
      "        A dummy class with results attached as attributes.\n",
      "    \n",
      "    Notes\n",
      "    -----\n",
      "    The null hypothesis of the Augmented Dickey-Fuller is that there is a unit\n",
      "    root, with the alternative that there is no unit root. If the pvalue is\n",
      "    above a critical size, then we cannot reject that there is a unit root.\n",
      "    \n",
      "    The p-values are obtained through regression surface approximation from\n",
      "    MacKinnon 1994, but using the updated 2010 tables. If the p-value is close\n",
      "    to significant, then the critical values should be used to judge whether\n",
      "    to reject the null.\n",
      "    \n",
      "    The autolag option and maxlag for it are described in Greene.\n",
      "    \n",
      "    References\n",
      "    ----------\n",
      "    .. [1] W. Green.  \"Econometric Analysis,\" 5th ed., Pearson, 2003.\n",
      "    \n",
      "    .. [2] Hamilton, J.D.  \"Time Series Analysis\".  Princeton, 1994.\n",
      "    \n",
      "    .. [3] MacKinnon, J.G. 1994.  \"Approximate asymptotic distribution functions for\n",
      "        unit-root and cointegration tests.  `Journal of Business and Economic\n",
      "        Statistics` 12, 167-76.\n",
      "    \n",
      "    .. [4] MacKinnon, J.G. 2010. \"Critical Values for Cointegration Tests.\"  Queen's\n",
      "        University, Dept of Economics, Working Papers.  Available at\n",
      "        http://ideas.repec.org/p/qed/wpaper/1227.html\n",
      "    \n",
      "    Examples\n",
      "    --------\n",
      "    See example notebook\n",
      "\n"
     ]
    },
    {
     "data": {
      "text/plain": [
       "(-2.1559012689082246,\n",
       " 0.22263806835588407,\n",
       " 23,\n",
       " 2639,\n",
       " {'1%': -3.432830360798943,\n",
       "  '5%': -2.8626358355986774,\n",
       "  '10%': -2.5673533514279425},\n",
       " -7943.569888410115)"
      ]
     },
     "execution_count": 29,
     "metadata": {},
     "output_type": "execute_result"
    }
   ],
   "source": [
    "from statsmodels.tsa.stattools import adfuller\n",
    "help(adfuller)\n",
    "adfuller(df.Humidity)\n",
    "# root very close to 1\n",
    "# Hypothsis if b=1"
   ]
  },
  {
   "cell_type": "code",
   "execution_count": 30,
   "metadata": {},
   "outputs": [
    {
     "data": {
      "text/plain": [
       "(-5.929156941803512,\n",
       " 2.4035285690791973e-07,\n",
       " 22,\n",
       " 2639,\n",
       " {'1%': -3.432830360798943,\n",
       "  '5%': -2.8626358355986774,\n",
       "  '10%': -2.5673533514279425},\n",
       " -7936.868635028)"
      ]
     },
     "execution_count": 30,
     "metadata": {},
     "output_type": "execute_result"
    }
   ],
   "source": [
    "# On First Differences\n",
    "\n",
    "adfuller(df['Humidity_diff'][1:])"
   ]
  },
  {
   "cell_type": "code",
   "execution_count": 31,
   "metadata": {},
   "outputs": [
    {
     "data": {
      "text/plain": [
       "<matplotlib.axes._subplots.AxesSubplot at 0x22b3e7e28e0>"
      ]
     },
     "execution_count": 31,
     "metadata": {},
     "output_type": "execute_result"
    },
    {
     "data": {
      "image/png": "iVBORw0KGgoAAAANSUhEUgAAA3IAAAGCCAYAAACl2vHRAAAABHNCSVQICAgIfAhkiAAAAAlwSFlzAAALEgAACxIB0t1+/AAAADh0RVh0U29mdHdhcmUAbWF0cGxvdGxpYiB2ZXJzaW9uMy4yLjIsIGh0dHA6Ly9tYXRwbG90bGliLm9yZy+WH4yJAAAgAElEQVR4nOydd5gURfrHvzWziQWWnNOSgwKSBEQkiAqu/jzDeeZTzxxQ8U5RMXPKeeaA8RT1FMVwogKSQTIskvMCCyxhYRfYXTbPTP/+mKme6urqnp6wCd7P8/jI9vR013SoevPLNE0DQRAEQRAEQRAEUXNwVfUACIIgCIIgCIIgiPAgRY4gCIIgCIIgCKKGQYocQRAEQRAEQRBEDYMUOYIgCIIgCIIgiBoGKXIEQRAEQRAEQRA1DFLkCIIgCIIgCIIgahgxUeQYY6MZYzsYYxmMsfEW+wxnjK1njG1hjC2OxXkJgiAIgiAIgiDORFi0feQYY24AOwFcBCALwBoA12uatlXYpz6A5QBGa5q2nzHWVNO0o1GdmCAIgiAIgiAI4gwlFh65cwFkaJq2R9O0MgDfALhC2ucGAD9qmrYfAEiJIwiCIAiCIAiCiJy4GByjFYADwt9ZAAZK+3QBEM8YWwSgLoC3NE37QnUwxthdAO4CgNq1a/fr1q1bDIZIEARBEARBEARR81i7dm2OpmlN5O2xUOSYYpscrxkHoB+ACwHUArCCMbZS07Sdpi9q2kcAPgKA/v37a+np6TEYIkEQBEEQBEEQRM2DMbZPtT0WilwWgDbC360BHFLsk6NpWiGAQsbY7wB6w59bRxAEQRAEQRAEQYRBLHLk1gDozBhrzxhLAHAdgJ+lfaYDGMoYi2OMJcMferktBucmCIIgCIIgCII444jaI6dpmocx9gCA2QDcAD7VNG0LY+yewOcfaJq2jTH2G4CNAHwAPtE0bXO05yYIgiAIgiAIgjgTibr9QEVCOXIEQRAEQRAEQZzJMMbWaprWX94ek4bgBEEQBEEQBEEQROVBihxBEARBEARBEEQNgxQ5giAIgiAIgiCIGgYpcgRBEARBEARBEDUMUuQIgiAIgiAIgiBqGKTIEQRBEARBEARB1DBIkSMIgiAIgiAIgqhhkCJHEARBEARBEARRwyBFTmL9gZM4/18LUFBSXtVDIQiCIAiCIAiCUEKKnMRrc3Yg60Qx1u0/WdVDIQiCIAiCIAiCUEKKHEEQBEEQBEEQRA2DFDmCIAiCIAiCIIgaBilyBEEQBEEQBEEQNQxS5CzQqnoABEEQBEEQBEEQFpAiRxAEQRAEQRAEUcMgRY4gCIIgCIIgCKKGQYqcBGOsqodAEARBEARBEARhCylyEppG2XEEQRAEQRAEQVRvSJEjCIIgCIIgCIKoYZAiJ0GhlQRBEARBEARBVHdIkSMIgiAIgiAIgqhhkCJHEARBEARBEARRwyBFzgIqekIQBEEQBEEQRHWFFDmCIAiCIAiCIIgaBilyFlDRE4IgCIIgCIIgqiukyBEEQRAEQRAEQdQwSJEjCIIgCIIgCIKoYZAiZwEVOyEIgiAIgiAIorpCihxBEARBEARBEEQNgxQ5giAIgiAIgiCIGkZMFDnG2GjG2A7GWAZjbLzNfgMYY17G2DWxOC9BEARBEARBEMSZSNSKHGPMDeA9AGMA9ABwPWOsh8V+/wIwO9pzEgRBEARBEARBnMnEwiN3LoAMTdP2aJpWBuAbAFco9nsQwA8AjsbgnBUGdY8jCIKInr9/twH3fbW2qodBEARBEKctcTE4RisAB4S/swAMFHdgjLUCcCWAkQAG2B2MMXYXgLsAoG3btjEYXnhQrUqCIIjo+X5tVlUPgSAIgiBOa2LhkVM5sWR96E0Aj2ua5g11ME3TPtI0rb+maf2bNGkSg+ERBEEQBEEQBEGcXsTCI5cFoI3wd2sAh6R9+gP4hjEGAI0BXMoY82ia9lMMzh9TKLSSIAiCIAiCIIjqTiwUuTUAOjPG2gM4COA6ADeIO2ia1p7/mzE2BcCv1VGJIwiCIAiCIAiCqAlErchpmuZhjD0AfzVKN4BPNU3bwhi7J/D5B9GegyAIgiAIgiAIgggSC48cNE2bCWCmtE2pwGmadmsszlnRUNETgiAIgiAIgiCqKzFpCE4QBEEQRGyY+OtWfLh4d1UPgyAIgqjmxMQjRxAEQRBEbPhk6V4AwN3DOlbxSAiCIIjqDHnkCIIgCIIgCIIgahikyBEEQRAEQRAEQdQwSJEjCIIgCIIgCIKoYZAiRxAEQRAEQRAEUcMgRa4G4fVp2JdbWNXDIAiCIAiCIAiiiiFFrgbx9vxdGPbvRdhz7FRVD4UgCIIgCIIgiCqEFLkaxIo9uQCA7PzSKh4JQRAEQRAEQRBVCSlyEoxV9Qhs0Pz/q9ZjJAiCIAiCIAiiwiFFTkLTqnoE1vgCg3ORJkcQBEEQBEEQZzSkyNUggopcFQ+EIAiCIAiCIIgqhRQ5iers7OLOQladB0kQxGnFvK3ZmPDTpqoeBkEQBEEQEqTIWVENQyx9lCNHEEQlc8cX6fjvyv1VPQyCIAiCICRIkatJBEIrSY8jCIIgCIIgiDMbUuQqmU1Zedh+JD+i73InIRU7IQiCIAiCIIgzm7iqHsCZxuXvLgUAZE5KC/u7vNgJ6XEEQRAEQRAEcWZDHrkaBG+NQB45giAqm9TxM6p6CARBEARBCJAiV4OgYicEQRAEQRAEQQCkyNUoNL3YCWlyBEEQBEEQBHEmQ4pcDUIPraS7RhAEQRAEQRBnNKQS1CB4sROCIAiCIAiCIM5sSJGrQXA1jvQ5giAIgiAIgjizIUVOojpnn5FHjiAIgiAIgiAIgBQ5SzRUP6WJ63GkzxEEQRAEQRDEmQ0pcjUIXrWyOiqZBEEQBEEQBEFUHqTI1SAoR44gCIIgCIIgCIAUuRoF5cgRBEGcOTwzfTNOlXqqehgEQRBENYUUuRoE5cgRBFGV+Hw0+VQmX6zYh48W767qYRAEQRDVFFLkahC6Ikc5cgRBVAFesiJVOqQ7EwRBEFbERJFjjI1mjO1gjGUwxsYrPr+RMbYx8N9yxljvWJz3TEMjIYogiCrES1pFpeNyVeemOARBEERVErUixxhzA3gPwBgAPQBczxjrIe22F8AwTdN6AXgRwEfRnvdMxEehlQRBVCGUpxs9h04WY/2Bk473Jz2OIAiCsCIuBsc4F0CGpml7AIAx9g2AKwBs5TtomrZc2H8lgNYxOO8Zh09vP0AQBFH5kEcues6btAAAkDkpzdH+bkaaHEEQBKEmFqGVrQAcEP7OCmyz4m8AZll9yBi7izGWzhhLP3bsWAyGd/oQbD9AwhRBEJWPz1fVIzjzoNBKgiCI0599uYX46Pfwi1vFQpFTrTJKTYMxNgJ+Re5xq4NpmvaRpmn9NU3r36RJkxgMLzKqo64ULHZCEARR+VCxk8rHRR45giCI057rP1qJl2ZuR15xeVjfi4UilwWgjfB3awCH5J0YY70AfALgCk3TcmNw3gqlOsor3BNXHcdGEMTpz5Jdx8JeZIjoIIccQRDE6U9BhD1DY6HIrQHQmTHWnjGWAOA6AD+LOzDG2gL4EcDNmqbtjME5KwxWja2fVGiAIIiq5KFv1uO+r9ZW9TDOKNykyREEQZz+BET8cNWQqIudaJrmYYw9AGA2ADeATzVN28IYuyfw+QcAngHQCMDkgKLk0TStf7Tnrgi0alxQJFhnoDqOjiCIM4HthwuqeghnFNXZuEgQBEHEhkgl+1hUrYSmaTMBzJS2fSD8+w4Ad8TiXJVFdSwoQqGVBEFUNTT9RMbmg3mYs+VI2N/zUaVQgiCI055IZfyYNASvLvxtyhr0em628rMth/Lw4NR18Hjty65VZ+unJv2fIAiisomlkeurVfuwIYyeajWZq95fjrcXZIT9vXIqFUoQBFGt+GTJHgz457yYHjPSoLvTSpGbv/0o8kvUyYIPfL0Ov2w4hH3HixwdqzoqS3rVyuo4OIIgKpWSci+mrz9Y6dEDJ4qiK3by5cp9yM4vAQA89b/NuOK9ZbEYVrXHqWdNvp9eL034BEEQ4TBr02GcLCqL6TGv/XAFejzzGwBg4oxtOFZQGtPjc8Kth3FaKXJOqL7+ttDoDcFJkyOIM55/ztiGh75Zj5V7jlf6ubNOODOIyRw4XoSnf9qMu7888wqmOG0jIE/v5ZUQWqlpGqatOYBSj7fCz0UQBFGR5BWX496v/sDN/1kd0+Ou3nscRWWxmSOLyjzIOHrKsI3P/aTICRSWevDM9M0oKvOErfxUR10pVg8QQRA1n0MniwEApyIsWRwNkc6PpR5/mGB+yZnXwsBp1L58ab2B0EqP14ecUxVjAf5t8xE89sNGvDlvV4UcnyAIorIoC6wzmw7mVfFIrLn7y7UY9fpiQ6SGhsiKLZ7WitxHv+/BFyv24bNlmfqFcZ4DVw01uQDVd2QEQVQWVTkPuCIsie8NLFruapyLXFE498gZ76wnEFr5zM9b0H/iPJSUGw16eUXlUSvzvDdgbgUpigRBEJVFWYhaGNWBZRk5AACPqMiRR84MFxq8woWqLuLDjI2HI/5udfQWEgRRuXCBvyrajEWat6Urci52xoWIO71P8lXhC/33a7MMf3N6vzAH/SfOjWpsuqGz2qyQBEEQkcE9crHk7i/Tw/7OjiMFePgbdZFF7lTyGjxy8j+ccVorcqIBVJYZsk4UoajM2opZ0TLG/9YdNG3LOHrKkXCjkU+OIIgAVeHc8kY4QYqK3JlWVd+pF1O2xs7blg1N03ThRFz4v1iRCQAoKY9OcOGnPAMdpUQ1YfaWI1i7r/LzfYnTj/IK8MjN3pKt3G4ns4+dug4/rT+EXVIuHBA07BmqEuseufDGdlorcnac/6+FuPWzNZafV0J6ueGvdftPYNTri/Hpssxwv0oQxBlIVU4D3ghL4nMF0O1i8JxhZfUjLXayL7fIIESIORXPTN8Sk7Fx4yApckRVcfeXa3H1+yuqehjEaUBFeOREDucV6/+2s2nazac8+sHjFT1y/n9TaKUFqgu0em/1sf7sD7RFWG/RU0nU+kmPIwhC96JUQTicHN7nFK4Aul3M4Fma8NOmmIyrOuOOIgb2aEGJ/u9IvaHOIE2OIIiag6ZpKJCKZ5VWsCI3+OUFwfNHeAyu5IkGTb3FWJjHOq0VOX5RXp+7EweO+zVop5puRYdWWh3fyk0ryk1nWGoJcRqx40gBrnh3aZVUWjzd4NMAL1RRmXhscuQ+X56JdftP2H4vzsUMyuB/V+7X/300v6TGNgn/37ospI6foXy+HefIhZjfx03bgNTxMyIYXeTnJAiCqI68v3g3ej43x9DTrSJCK61wolOoduERGkaPXOCYYRpKq70ip2kaXpuzA9d+sAIv/ro16uP5NLWy9OWKTCwPVJEBKj8PjSc+Wp01XFcrQVRH/vXbdmzIysOqPblVPZQaD5/HHv52PY7klYTYO7bw+Sh1/Ay8PGub4bNnf96CKycvN30n42iBXqnL7WKWyuCo1xfX2Cbh7yzIAAAcEUJvOE5DK1VzvfjN33cei2hsdgSrOsf80ARBEBXGrxv8hQNFRa6iQytFIhXN+VwrtuKJtABYtVfk8os9eGdBBlZnHsd/lu6N+nhen2YI6eE8PX0LbvhkVZUFlujntbiPPkNoZcUoddPSD2DmpsiraRJEKPhzHsrgtCwjB58s2VPh4zldOHjSrDgA/mIYC3ccjfn5RG/ah4ud3adRr/+OtwOKjl2OXH5JzfXWckuqSmlznCOn2lhJGla4Z5m7NRtfrdpXIWMhCIIIBZeNxSnSSpGbsfEwpqUfiOn5I5XH+Xow+s0leOLHjYa2MuE6buIiGkElEut8AJ+mOTpmhYdWSn/zm2p1A8XNFTW2x77fCADInJRWMScgznh0z3OIh/jGT1YBAO4Y2qHCx3Q6oCpvDASLYcT6nS7z+FAYRXis2+VSGtRU22oSfG2Jc5ltpM5DK6vgGiiEISfc+YW/JPeNA9vFekQEQRAh4dOlaCiz6iN3/9d/AACu7d8m5ue33Ueh7Ilz7dTVB9Crdf1gaOXpVrUykljXMo8Pj3y7Xi8gIuLzmYWFj39XW5TfW5gRVb83J0xLP4ADx4v0Rd5KkTN65AiiZsL057xqx+GUmZsO472FGVU9DAB+b8/N/1mF0W/+jgPHiwwLSHmEfd2e+3kL1mSGX/TpH99vwFnPzjZtf3v+LtO2lXtyMVEKi3czdZ7do9PWhz0WkU+X7sUPgX5rVQHvr6fQ43QjhsjGrJN44sdNIYtZOdGvXpuzA1+t2oeHv1mH4jIv3pi703GDb7mPnMfrw7hv1yNDUTabIAgilqzddwITftoUkRGLy8aioawyc+Tsq1YaZ+7DecV44Os/UFzmNc3p/t6q/JinmUcukljXFXtylX3agIBHTpIi/zkzmOOhCf//9+wdAIC0XrH3UGmahrzicjz2/UZ0a14XD4/qHNhutb/xuwRRE+GTV9aJIvx35T7cNKh6W/Lv+8pvwbt/RKcqHgmw7sAJLNnlzzGbvy0bS4Wc3vIISvlrmoYpyzMxZXlm2B47XjxK5vW5O03brvtopWmbXLWS89P6Q2GNQ+aFgMJ4db/WUR0nUry6Z8useqmqVt74ySoUlHgwfkw31KsVDwDQIpRBeH4eANRPTsCU5ZnYcaQAl/Zqge2H8/HY6G6W35WXlI0H8/DjuoPYnVOI6fcPiWxABEGc9mTnl8DtYmhcJzHiY1z74Qp4fRqevfwsxLvDCwtQOT9CVa1cuisHA9o3QGKcO6xzOT2/FS/N3I5fNx7GRT2amfqKJriD1r/TziNndUNKyr1YuF2d++G2iQ/xahqcyDxjp65zNL5I0QAcPOEXhjw+Tf+dToqdVIUad6ygFNe8v9xQBpuoGvKKyvHnD5bjgMLjXN3h4Q8TZ2zDhJ82V0nFxYrE4/Xh1s9W4w+Lqo3RUFwWnLjW7DMef8eRAhSUlIf1TFSlV9QtVa08XeCGYFXVMVVopaoRt9Oci1kO8pmLy70YO3UdJi/abbufJoVWBltbhMfPGw7hiR83hvktggifDQdO4pBFbjARmr05hdhxpCDq4wx8aT76T5wX1TH4PBNJaD2fq8SUqVAOoJv+s0ppdIyEWK1icQYFNnhUr08L6byp9oqc7CL966erAfgtr7dNWYPNB/NM37HLRdA0Dcdswk0qs9gJD/1sWb8WHvrGH1Jkdb+qWub5atU+pO87YSgTTlQNv246hDWZJzB5UfUI+QsHk41FeK6Ly7zYmFUzy85z9h8vwqIdx/DotA0xP7bodZPz0ybN2o7rPlqJoa8sdHy8qsxHi7PIkavuLN55DHuOWYcb8j55qnlc9Wu5gU5U/FTfnfDTZtO2ewPeYhVxgUUw3Jw3efdwvz926jpMXa0uJtBlwix8uNheoYyG44VlYZftJmoWpR6v3mv3iveW4bxJCyz3PZxXXCONnZXFiFcX4ZI3f8cf+09UaiiiCj7PRLIm8DnU49UwdfV+lHq8jn5PdowqPTttP5BxtADHC4UWCZKy+cDXQecRvwynSj3o+OTMkIa4aq/IyZr14p3HoGmavpjmqyz6NouPT/OXt+Y8rVggw2X+tmxc8e7SsB5CTYOem9KlaR1hu1WxEzG2MrJxRoPds7ozuwAjX1uEk0VllTcgC4rKPBj95u+WfaxOB3geS02MsJUr94neh79/vwH/9+4yx3k91RE+BVREkUExp6yo1Gv6fMuhfADq/ID7vlpr2laVLU3cLlblwkMk/PXT1Rj52mLLz/kaoLq2SuWOW5NFRS66IQIIVhVVtaU4VlCKi15fjH25haZzfr5in7QlMq5+fznmbDkSPL6moczjw8uztuvb/th/Al+uyIzqPJycU6Xo++JcvDkvNlZ2onry7PQt+NN7yxwpaINfXhCWYetM5arJy/FqII2oqtBzcyNS5Pz//2XDITzx4ya8Mz/DoDdc+NoibD+Sb/pe/eSEyAYrYZsjJ/x71Ou/Y1lGsO2SXV47Xz+4LPTtGvtKm9Vakdt+pEDp+m3/xEz9309PNytidm5VWdn6cqWxdPJ8i3BNOx7+Zj02ZOWhsMxvJX9r3i7TuN+Yu9MUrpkTuElxQmysdWglhH2qTgBTyafvLsjAnmOFWLQj9v2NwmX9/pPYfqQA//pte+idFXy/NsuylDsAfJd+AH+q4h5XcvhTOBSVeXD+vxag34tz8e4Cc2EKpzzy7Xq8NieCyV96gMTf8EcgXLAkwh4wa/cd1/uUhcMdn6fHzFOgh6jF5GhGSj1B5c2uofrJIrNxa+amI6ZtVa3I1USPXCj4b1L9MtW8ze+BGBYUi/syZXkmAP8aKjNz02HsOnoKnyzZGxybdMpwQytHvLrIUD577b4TeEBY71T3+qrJy/F0oKpqtGTn+xXWOVuzY3I8IjQni8oqLLTxj/0nDP0SZ206jF3ZBdiQ5Y/AEkPy84rK8cWKzAqvHfDZsr24+T+rIvruw9+swysRyiSVwdbDfkUnr7gcU5btjfm1XH/gJAa9NN8ylSIWHjm+7r270KjI7T5WiHfmm6OX6ifHhzz2U//bhFs/W40vVmTq285NbWjYJ9JrZVVZ039M///55QhV8bhaK3LlXh/etagYx3/o7mOF2HPsFH7bHMwXsEt0jGSRdFpmW9P8uXtvzNuJq983NsR9a/4u/LwhmMivIXiTDBXLnFStrAqPnM1n8QFF1O7BjASvTwu72E1hmV+YqJ0Qh705hSH2NlJS7sXfv9uA6xXFGTj/+H6jHtoRK/KKy7F8dw6y80uUnkSvT8PcrdkoKvNg8c5jUSkJ248UIOtEMXILy/DqnMit1/9bd9BQXCEUmw/mYdy361Eg9Qjzahrmbc1G6vgZOBzwHtjluNpx9fsr9LYF4TBvW7bBUxANPmFeEgXbWCDOQ9xopOKEhWe8uMw4nqpUpJzkyD33c2ghP9bXOFq4QubYI8e/FyK0MpYkJ/gT/MXnSTxl7+fn4EhAMWKMobDUoytKVuzNKUTWCaNQHydIH+FY2ss8vrCfTX7NVAVlKpLMnMIztvjY0H8ttA1tjIarJi/HLYE0GsAfRnzRG7+bcjkB4Mn/bcIz07dg7b7wo3DCkRGe/2WrXmwqXH5afyhkeJyMXQi3Ck3TkBmmzBP8rv//z0zfjOei+J1WvDVvJ47kl2CuhaGF30+r3qJ2qHLk5GgP1TpRKz50oZOvVu3Hoh3H9DY+ANCkbiLaN65tOn8s8UnriKp4lki1VuQA4MAJtQtdtEiPfG0x7vlvMF/AVpGLQNeQlTIT/BprwZvqJGyIx/PbhdUcKyjF8t05Va7IcVTPU0IcL1kd24H95cMV6DJhVljfKQoIuKszj2PEq4swfb26eqkKfl1DCS2x5s4v0nHDx6sw+OX5uHKy+Vn7dOle3PlFOs55fi7++ulq7A2EREXima2Khvfr9p/AZe8sxY/rDhqsrID/HRANHEDVeoqiRRz7879stdkzfIoERaxQEVrJUXnkAOC4pOCJc+GdX6Tj8e8rr0iFm4X2yE1Znmlrxd52OB/dnv7NYMSravg1VQn3Zq9XMInduAZUzPPPhZnaif5i1dwY8NqcHXhd8K7nFZdj9pagwHXV5OUY+NL8kMcXq64BRoNMOGG0XSbMwt1fpjveHwheP6dN12PB1kP5GP7qInxk0b7odKcgij6SdjhR4pmwkp0s9s9rxWEadRbvPBa2jFBZzNuajZGvLcZMBwWNOB8v2YPhry7C1kPmMMJQ8DmHe8xu+XQ18izWkWj4+3fq3HF+P6PxyIlrb6k036gi7SKeZRkwpFMjw/l3HCnQZU/DrhF6GoNtCIzHsaLaK3JWMp2VsAIApTYvdCRCoio8RUS8xqou8yo0TdP33S1YXuTh/fmD5bjh41XG9gMhR1wB2Fw33vw21jkv6RFY2Liwyz0/PGTACfx+OLm+sfRm8ImXH/LSt5YYPufWce7xPBX4bZHoO5Up6HBU/Rw5Xs0sthq9E9Vbqftm9X50eWqWMjcqlHV04fajSB0/w3HlTtE7bRclYOXFPn7KqMiJFsy5W7PxbfoBpI6fgdTxMxx5w0R+3XgIZyv6ylnxbfoBXPvhipD7fWAT8roz2z8v/6Lo9fmsIuR+8c5j8Po09HxuNlLHz8DfpqxxPF6nBD1y5s/kZ1nTgvt5fRU/wXd7+jfszy3Sz8XnyncWZOiRDJzigFDCAOzINq5/X67IxFnP/Gb6PfLU4haqsIVr5Ju3LbwUB72XVCV65HhY4eq94fdhJKyxi4jhiM8aX9PCXZO3B2SDLREoPhUNj/rZle3cK5ee6ZeX7NZbK/irHCc0wMwprLxcdd0jF4EzQJfbhK+WlJl1ANX8Gym9WtXX/13m9eGSN383OJNkZNl48U77NCS5n1woua3aK3JW2OUx2eXYeCtQMNSg6ccPdeEPHC/SvRMLhdwyWdHMzC0ybRcfyAPHi3DH5+kxDTEaMmmBqYGvHTy0sqKKF6SOn4Fp6eZkz5xTpUgdPwOLdgQXfVnAdRKmd/Ebi/HY9xv0e+dEeYgkBMAKeQGSlc94ydLNd/9ubRaOF4ZXYKYy9LjBL8/HC4I3yu5dUC2+YhhWJPrygeNFSB0/I6JQm3B5/petKPP69PdPfHRCXes3A82zxabL87dl43Ceem4T3y876zPfT67g9/7iDHy6NJgXZWfU4jlWTnl55nbbvL1I8WnQlcvU8TMMn6Uk+XMcVJbjYNEOPwu2Z+Ovn67GB4t360aeSPKhQ2FX7ESmoMSj7++N8pl3yroDJ/Rn1U5o4vdS9Qw/PX0LCsu8pnBJ+TcbPHLCfPnewgyMfG1RuEO3RdUUuKLhimpltdEoKfeeNlUY35i7Ez2fCxp+coQCV6szg4qxvL6pXiseTmv1zl3+zlKM+3Y9thzKQ9cJs/BdQJbQC1NF9Asiw6nSz+f3WgnORfRg7nz4zyP/itjD7cLXFmN5BDnnKlShgT6fhg5PzMCUZXt1GcHuXZobSME4IT0TfFkUe0fLKRwA0OHJmYa/o4l8aFE/Sf83n0dX7sm12h0l5UZ5cV6IXF6fpiHjaAFOBoy8NTpHLlLsPHJvxKh3hAqfBni9zsUu4UkAACAASURBVBS5zNwikxXUDitr0wu/bsW8bdmmkDXAH2aocveqEF+OgyeL8Ykg8AFBIzFTTHvxgdBKuyo80aKqqrQp0Hri02WZ+rYi6Zo68UDtzD6FaelZuuBrNQ+KQrDqfizcfjSiGPVQlsQEqUGmOFF/ssRZWM/j32/EwJfmKe9frDmcV4JPl+3FeS/7w7Hs8lZ8PvPCM+LVRcHPI1iUeMGT79IP4ERhWUwMDF+v2o/U8TNMBhO+GPBRivfS7tH7x3cbsCFgdb3mg+W44/N0+Hwa/vZ5Oq5ShNcCZk+b1XXloeXyojhz0xG9YTYAPBZBKGXPVvXC/k5FwZ8NO4/m0l056D9xLvYc87+X/P8VjZP2A7tzggr89iMFuOCVhcjOL6nQYlY5p8r056Pc6zMpxxxdkRPmi8JSj2F/+Xkc9u9Fhr8LyzzoP3Eu1mQeN7wX/569w3Af7voiHZe88TvGvLUEd3zuPKTy1dk79PHww6/bf1JZobUi4DmAsTTq2TFu2noMfWWh5XymaRpSx8/A+2HmYlUFb83fZRC2/yrkw4n0fXFuyIgFt+6RU3++KdDcPjOnCKUenx42zN8zxhhun7IGaW8vUR/Agg8W70bq+BlhKU7frLFu33TXF+kY/ebvAIJh0E7yuDhc1onGrhAnGY3lYoDcSDry1UXoP3Gu4+OKK1VecTm2Hc5HhydnwqcBz/2yVZ9vvDbv0ke/+5/rnVKEgOr65ysUOVVBp0jeGQagaV1BkdOLXVh/Rza8JoRoRK7BX+Xyzx/4o1ZOW4+cHXY5chuzzH3nYoXXF/TIRSouW80JVnl0wRha8xl7PjcHPZ4JHe5UWOpBnxedvZTKHLkwPXJFZX6BQJ4k7Ahl9cwvKcers3eYXphwQm0ue2cpAOv3UayEqRrPbVPWYPiri/D6nB04nFeM1PEzLJN7gaCFKVSRmPXSMys+C6rCFqnjZ+Dfs425Rd+mH0B2fqkjIbH9E/ahdfLEWebxYcVuszXqUKB4yQIbz0coD3kkIazjf9wEwC/o93lxrm1PN6tFeHlGDjzCfXknUOEzV7IG8uEN//dCjPt2fUih7rU5fuHzu7VZwhj8BVd4ztJhqWT82KnrkDp+Bt6WisvUTlAvBvw9DHXt7O6Liq7N6uKXB8/H2JGdTJ/FQphdk+k8RO1IXgn+FhD67Z7pV2ZvR86pMj1EKZr8y3B6lKnOI28TPWKvzt6B/ceLsGRXToXmQC/eeUzvSWfXT1UXsoXpU65QKHqSVZSU+5BzqgzvLMiw9f7N2ZqNHdkF2HY4H/O2Oa86KRZCE591VYXWioAbUmKdG27F4kDkjpU3nq9J4jp18GQx/u/dpQaPV2Vx8RuLcd1HocOnAWN6iUzv5+eYtonvEmP2HjmOWPUXMOYfLdh+NOwQy0mBAlnhGLDtDKlztmbraTz8Hic5UOSOF5ZhY9ZJQZGLwCMXmEPjXLLR2LjfqoBHcU9OIXJORdZu6qZPVmHMW2ql2UrO25tTiDWB0FEu0z32/QZ0eWqW8vcWlJSjXi37qpRen6brCqoq51YpChqAxLig6sRboKnWIS4vy++sO4TmJf+mGl/sRGZ41yYh97HzyFUE/CJrmqYv9pGGsFm9hOJkYdzFrDimjp+BCT9tUgpy09IPmMJSrfJtnIbthZsjlxuYAD4IwwoiN0+U+fdvO/DuwgxMX2dMXA4n1IZXXbMS7sVJptdzcwzhgyJvL8jAloP+RWHqamsL3FernCmypgIhwvDMoSf+D99bGLy2HZ4IWtHtFOIF27Pxx/4T0DT70DrZUPLh4t24/uOVSmVu88E8fC8oLTJH8kp0z6oKWXEC/FZBbpVbvPOYQeES4QKWXExFRLUI/7H/BG74ZBVeF7z3+iIpX7/AnzmnyvDjuoMGoU5lRbOr9KkKB7EbPy9aIaMrchWkEVw/sK1pm+wJjwRufXSC+MxsPpiP1PEzlFXe9FyDwI363zr7wga5p0ot571wrqfSIydtE6MluPJeJ9FtEAfuG97R8TmdIM4lOQXWwv2+QEi/+ATLBqfXHUa31E5wR+wV/2TJHqUnXOS3zUdwnYO8Kk5BSXnYhkQVfN2rrOqviQGhXq4+y/Ho0UDBbf9Zshcbs/LwU4jnviLYmX0KK/fYG2dKPV78vvOYY2WYv8ei0sV/rzg3T1JUIZbXLb5/pOG4PAxRVhBlLhL6FjuRC8e8tUR/3v/x/UaTB0rmqsnL8H/vLtNf1kgUuZV7/F7zDVnGityychLvjtRFEcRuvbd6Di5543f933xdnZaehTKvDycUofUFJR40qZtoOw6vT9PXLVV0i9V7Ju9/RaAdld00IM9foaYMef99uYW280yNUOQGdWiIO4e2B+DM02XnkatIfFr08fJWL6HxJvIQQE3fLk8Q/11pViBOFpXhse83Ok7yv3JysF+a3dzAQyudth/gL4FdnqMMz7E4XliGcd+uR2GpxyhkBO65nKcTSXEP+ae+NHObKTwIAD5dthdW8Jxh1fMQzKMJPRbVyysqmnLRH9WzLx7iqf+Zi0DwY94+xTqsz+ocOadK8VpAoPtj/wlTnHio1h3Xf7xSFxpVXK0Yz9BXFuLiN37H8t05+Ounq/HWfHU/vHIHF1glYHKFSl7UgOD9fHnWNqzdd8K00Knut6Zplsqm6rx2NEiO1z3gdZPUihx/F7wV5CnguWkipeWVO+eq5kk7o0ko2Wb2liP4ZMke9Js4D30tohPCEdiV7Qekv8X7zS3hBSUeg9GqbcNky3OMcGDUtMNJaL84faa9vdTwmZ2gI1IrwR3RuvjCL1v1ipDHBKVTNJgCsDUUqeCehE+XWs/fMj6fZjLwuW3meKeUlHsxbtp6HHVQKTkp4AUoKvNi0qztWJN5HJqmYfuRfBw8Wayvv6L1ngveFZn2EI0iO2nWdtzy6WrH15DfAjEsnPcOFNs5qYokyR4Wvr9o9HQCf/a4HBNK3twleK6dSCPbDucb3q1QkQq8jsIMRdGncPhg8W5T6Lk8jYVq72H1LDgVw6y+L8qWmw/mhazhkFdcbqotIPPW/F26fKL6XVbyLAMQp1Bo7UJsZcVMVYxFRJ5bi8q8tn171ZJANePqvq3D6g9TVYqcVwv2Pcsv8eBofgmapiSF+JYRJ6GVXh/w9vxdWL47R7d4OXlRuKW5qMwLn09DiceLRJtYXVHA1hSevzKPD5MXZejhAuWe4BhFAVl+oUTlyuk18ofplOKd+bvw47qD6Ni0Dnq0TNE/d7vVk6qm+ccS6qVWfQcAikq9+Oj3PbYlpn0+zbQQ3T4lEPYl3dBd2QW46I3f8eHN/RzF1heUmK1NomdALuwjTwCyB2mbRRXP7HznoTeix/vlmUHL578VeYzR9nU6YiPgcM/upoN5ytxXJ8qTaAEs8/gQ52K6EH5KKPHPt5V6vPD6NHy4eA8+XLzHFIqiEm5v+XQ1luzKwY6Jo23H4iT8Kd7tgtvlA7zW+RP82a2o3J1kRUhnrHtIhkIV5vjxEqNg/tO6g8ECACGOd/eX9nlV5V5fWL+xuMyLMo8PCUIIjvy6i7k/XDAoLPUY5jCXi+GPpy/CQ9+sM/V2kvNZKgI7BWC1w1DY5Ag9cqKhLL+kHF6fhnKvDxe8shBHBcVOtfYVl3lx8GQxZm06jLuHdTTcB/7OGooHlXkR5/a/+wlulymUqfOEWejeoi6m338+8orL8dO6g2hUJwGAtfBZ6vFiY1Yeck+VYvTZLZT7zN2ajR//OIhSjw/v3dBX317u9QUERv+4NU3TQ9X/752lKCj14IPFuzH2ws54O2DIWjthFACjh4k/V07mQk5JudcQ0rfhwElk5hbiinNa6ddMfJbLvT64XW7933O2ZOPSns31z3NPlaJ2YpwyTDCUt0nGztvE10WrZ1b2nEUaZu3xafB4vLqsZ+Utzisux+dhFo3iiKF4T/1vMzo2qYNBHRrZfCNIpL9LtX5r8OembTqYjzf/co4i9DJ4rmUZObjxk1WYfv8Q9G5TH5GgUujlueNZBxWVD54sRuMQHjkgKOOqiuLZXUeVXCPvvSbzODYHIrPkZ6QoRNSgKsJlhU0xlRqhyImTsBPEKoaVAX8GfD7NUKhh3/EiNE1JCisZVtwzXVgo/yKU6r7/a3OZ03cWZGBE16a21jGeT1WvVjyenr4ZX63aj0EdGuLNv/RxPD6RH//Iwpvzdum5OuJE2fmpYP+3zElp2H4kHyt35+LWIe0NikhecbljZffRaRuQ2shvof737B3o1rwuAGBT1kms2J0TGIPxpX9j3k68MW8nMielGbZrmobCMi/qWISnieMPxXO/bMEXUpU8Dr8fRwtK8MpvO/SqVfO2Zodsulnu9eHp6eZJS7zHpeVeTF6UgT3HCtGteV3TtZygKMOuQhVOJi/owe3Ba/zDH/bW8IoMOuIGgUU7jmHRDnOxHydWaFE47zJhFm4c2BZfrfJ7dopKzaFvpeU+w3MuLzxiziIXBvl97jrhN9uxOGlmHudi+mKaaKHIlXn93gNVwjdn+e7Iq5GFitevDJwY8B/+dj16tfYXZ7Gagn0+zVEe7VnPzrbMSVTxl0ConzjvyCH/+YKRhg+vsMxreL5cjKFh7QSlcTIWYU6hiEXl1/+u3I8LuzWL6hgPTl0XVqGa7s8E37XX5hrnfz5/cgFx1qbDuPer4Jr6zGU9cPv57Q3H8/o0bD6Yjwk/bcLU1cYKyh5hjp+66gDGXtgJ6ftOGEKF5fWHw+dX2ULf+alZ6NEiBTMfGgoA+GN/MDpA7N/2thCNwOc7MQ/LHQgNcerx+nnDIYydus4gjPPQsSvOaYWznp1t8mztPnYKv+/MwT3DOuDDxbvx6pyd+OCmoFLab+I8AMAP956Hfu0aGL4brjdvt80zwAtlWIU6yuO2O3O519+UXrX+fbZsL14WQjetHAeTZm03RQk4nTqLpQiHOz9Px6bnL3H03Vja7zRNw0sBY21azxb688QR7x+vB7B234mIFTnV8xCOLCaS6MDQddN//GtucbkX09IP4Nr+bbD+wEms3ptr23Ys3mU+trl1WPD9PyX1fQ313KsMwnY52jVDkXO7HIVJcTJtQrUqAv5uWgkLYTWqtMh/CtV8c93+k9iZfQovzdxmuQ8PKamfHK8Lqyv3HHeU+6GyEPDfxUN07MLo0t5eCq9Pw02D2hkeyHCuTV5xuUGI5C+aKkbaiuUZOWhWLwnLM3Lw9PQtWPr4CMfftcJKiQP8Yy4s9eCeL9caFmMnnqp5W7PxiyI/SpwEDp4sxiu/Wbvcv15lHW4moiodv+VQHvq1a2janq/wEloRKrQyGkJdQideANlr9ZVwvVSTbanHZxtGOGtzsNBCRYjZh/JKUD/ZH9qYaGHgKvf68N7CDLw6xzqHabFC8a0JaJoGxhj+6zC/6dBJvwJuVRDlcH4JHpq6zrQ991Qp7vvqD7x9fR80S0lCmcdnmfzulEKpgnB+cfBvHiJ9qtRjOA+XRXq0SDGVLueGjPaNa6NT0zq2hZWqmlB9k0Jhp8Q5sZOKCjt/5/n7/ctG4xz70/qDJkWOI77fHK5APDptA5bsysHwrk30yrmh4F511TootqFx0l5In+9Ej5yisuapUg8S3C6lgXxhoADSFe8tw8onLkTzekbDoOod4CG3V/ZppRu8jikKYazam2tS5GKZXsh/opVixbcH+45Zn/yvn67G8t25SgVcNl6q1oPs/BJlqLfTqtFy/mo4XrZY5kaLcl9RmUdfeziiIZRf31COFxezvu+xjCIJ1wH02PcbcV7HRvjTe8tC7uu2MaJ5fRp+kMK98x32iuWoqs3bGWNiEpvBGBvNGNvBGMtgjI1XfM4YY28HPt/IGOurOo4V5T7NUT+wqsZUaQbA4bxivbmjE0SBI1wXudtlv2DyUDS5mo+TXJrPAiX+7W4DtzqoJki+aOYLvZMAozATimgqznFu+GQVLnxtsV70QK4QGA5Ooga3HMrHWc/ONihxgDMF1mpBEhfTWBSZAIBTpeaJRs6/44QzKTnJ+4qUUE+Dk0XBLsleNXGWerwosUluFytBRhNV6vH6LItucOHMqqJZmceHX23yJTxeX9Th54v/MRyjujeN6hiRwKcAuzATER6uamXNfHX2DqQrvE7T0rOwau9x/CeMPCoVdv3hVAaRk0VlxtDKwIT7xKXd8I9Luhr2FavUvXXdOcrzn9u+IYZ0chaSVZHYVciMFicRLyeFOYt7rvj/ZWu53Tqj+ojPE+K86LTCaVK8XwQLtR448ahxRU6cduIUve7Ofna27omQEcOm9+QYiweFus4+TbMuCmWxLZKeZ1ZwBcZK6eXrZpmk0BmOERjj8kDhLtWYZQOfygPI5SUZWX76+3cb8O4Cc463XD8gHOUsllVUxTnK49VM3j4xOodf1wSlJ0z0EtsrQbEikogFp5dZDjEV+XrVPjz2g7G1j1ULjaGdGyu3q0IvK7TYCWPMDeA9AGMA9ABwPWOsh7TbGACdA//dBeD9cM5R5vEZhKLKCCmJBPll25CVh8EvL8ANH4cOmeKI9yrctIJQwlluYDE1KXIRTqby17j3RV50jMU5ygznC8e74/VpUTW0FvMEeOiC3QsZinDy7mQKS0MrYFYChWgYiNXEJwszgI0iF8Y9q0hFLpRCaZWzKWKX96TKKykt95mae1rBvceqnLJQPPm/Tej74lxliIU7hCJX7vXZlq0u8/pCVloDrMsvA0C7RrXRpG54+b+xIJq8FhVWVSz5HKlqNh4Oj/+wEYWlHuXzp3p+/X3egveGP0OJcW5TjoxerU/TkJwQhxulaqLzxl2AaXcPRmqj2obtfdrWx21DUiP5ORFjVyEzWpw0dhffZY+uyPm3yVEDdvYfOyMlX9fcLuZ4TeX3N1ThGLv+Whz+jIs56DwEjP9mrphYNaYW56qSci82Ca1vrNYDTqkgp6mVJPN3YumR47/RSg76MJDnHlTkzPvIc95xRXsf+Xuq81lFS8jyy/drs2wjJzjhrPOx6JvKEdfvfccLTfOoaIDga2koT5idIhdtsUCRcD1ygDPPN2D/G44p5jqVInd2qxRc3qul8hiq+cDuGYhFaOW5ADI0TdsDAIyxbwBcAUAsK3MFgC80/yy4kjFWnzHWQtM0R2V2yr0+uFzBof7+2AgMfnlBDIbunNxTpSjx+NCsbqIpyZxZWKGmrw+/5O/+40XILynH/twirNsfXn6Cqvw7AOw5dgpFZV5sDJR9XSd5hzYqqvNxck+VYmd20DKXmVuE9MzjKPdqpkIUK/bkYmd2gakK4TdrgjkFy3bnGjTA1XuPo2HtBMS7GcoEwVv1Eobb58Uwtt25OFoQHO+B4/4xLowixKzUon+aE0Ld2+UZOZZlelUl+VWkOyhGwMe/WXGujVkn0bJ+LdP29Qec92J06jmxPYbFNQ4VriVaNRfvOKYs13/ghHUY9iGFt3bTwTzH1Va3HsrHit25EXlNp6X7QzNUvd5cunBvfkfi3QyZuUXYavOuLMvItc014azJPK4XdFAhr2VN6ibqi1jrBrX0dh6xZN2BkxFZnEOVQZfhytSJojK9cbvI3pxCFJSUIyUpHk1TErExK08ZNPX92iyUeXxKxUn1XO/PLcLSXcHtYiSKHJbGnwO9kt/obkiIc+neAF7ISr5e53VsFJURKhIq4lkIh+NFZaiTFIdTJR69CmBRmRc7jhSY8gD35RZi88E81E+Oh8erIbcwKJip8k735RZhxe5cvbDBjiMFet9CzoYDJ5EQ50JJuReN6yTiRFEZ4lwuPbd7+5ECrNyTC02DoWz6it25cLuYo8iRLYf883JxuVc/Vvo+/2/ddfQUVuzONXhGtxzKQ2Kc2yB47s0JzofLM3INfXdDhTMv2nFU926rvNzLd+fg3PbGUP1Y5GBydh0twIrdudiXaz+35RaWYsXuXOUzuTQjx5A3P339IfRokWLYZ2+O8fiLdx4zGbXXWURhrdp7XPnebwrR37jcqzmWNTYfzItYLpERZbn3Fu7GzYPaSZ8Hr8X+wL9X7slFMylXX6y8aWcIXbYrB0khmmU7JZJiUKF6Y3JUOXKAPzRZpYyq1vEEt0uv+C6jUijt5A4WrWubMXYNgNGapt0R+PtmAAM1TXtA2OdXAJM0TVsa+Hs+gMc1TUtXHO8u+L12SGjeqV+Lv76Jb+8ahPwSD+78Ih0jujbBR7f0D5kA2aJeUlRhc1bcNiQVz15+lmFb3xfn4nhhGWY9NNSy0WFNpWHtBMf95AjidKFD49rYk+O8uEJlcVbLFPg0f/XRuy/ooFuZm9ZNxNGCUjRLSVRWIK2TGKfMgwyHrs3qYvYjF+h/PzN9syE/9Mo+rXQP1wVdmpj6H7ZtmIz9xys3f7kysMv5iPa7k2/si0t7Bise/m3KGt0Ddet5qZiyPBM3DWqLiX/qqe9z5eRlWLf/JNY/cxHqJyfg2zX78fgPm/TPX7m6F04UlRkKNpwJdGte17aAAUEQpw+X9WoBDdG3ZZC5vHdLvHN9H6SOn6H8XFyX7biwW1Nc2bcVHvh6HZIT3AaD718Ht8PnitoL+/512VpN0/rL22PhkVOplPLS5GQf/0ZN+wjARwCQ2KKz9vWdAzGwQyPM3xZM5I5zMdw3vCMKSz34fMU+DOnUCGv3nTBo+jPHDsWhvGI9EffTW/vrJeFl+ratb8phsuKzZZl4YEQnNKpjLm06VpE0X9MJR4mLdzPbSoFPXtoNPVvVx11fpCuLt9w4sC0Gd2yEB76O/XUUqxECwE2D2ip77YXL29f3wbr9Jyxj4u2YfGNf3PeVuQIp4BeKr+3fBtd/7LzRLcftYo5CMW4c2BaXCa79F37dim2H8zG4QyO8fFVPW0NIJOMKh7qJcSgo9eC8jo3w4MjO+vZNB0/qVbRC0ap+LRw8WWz6nTK1Ety4+ZNVKCj14NbzUnF57xbo1jwF13200uQVnXrnIP23i6W/rbi6b2tDcvzr1/ZGl2Z1MWdrtuV3p9w2ALd+Zu71eOPAtnj04q4o9/qwN6cQvVrXw/0jO8Hn87c9KS73wsUYsk4U62P85q5BSE5wI7VxbezPLUKpx4syj4a84nLc81/7kvuhkHs0vnJNL12RU3kL6yTGYeHfhxsq+9ofP6jkXH9uG71aoHxNqxqf5n9eS73hF0R59c+9MW7aBv1v8fkCzNd48k198dzPWzF19X6k1IrHiidGorG0Fk259VwcLShB/WS/N/Xa/m10Re7nB4agR4sUTF5k7p1VNyku6lDo8zo20vOLRKbeOQjrD5zEv36rOuWxIpW4CWndMXGGdaExJ7RpWAvN6iYZvFkXdmuKFXsi8+qnNko2FH5L69VCKdTeM6wjhnVpgi2H8qL6DbIwqmLqnYPw4q9bDYVcYsXUOwdh//FCg9FCZlT3pvjb+R30v+V1bOqdgwD4vVr/DBSO49umpR+wDMV+9vIe6NY86LmzWx/58WZvOYIpYbQnOLd9Qzwyqoth2z9nbtU9wSJ92tbHY5d0szzW6r3H8ca80CGd4dCzVT19veS/kWN3PT67bQBuE9a7py/roXtBv0s/gB8dNLN/fHQ3jOjWBA2TE/DJ0r16u6g3rj0HT6f1QMbRU5Z5oQDwyKguMbseVuGhsx++ACeKysDgXzO6Na+rt3Dp3KyuIfIj3Bz2WChyWQDaCH+3BiCX2nOyj5J2Unw/4A9lfGx0N0xffxCfr9iHerXiEedyAfD/+DqJcWhQOwENagfDgoZ1USfm102KwzltGjhW5ADgiR834aNbTEqxofHjmYLosRvUoZFtSf1+7RqiX7sGaFQnQanIdW1e13GvlHDhrQo453VsHBNFbnCHRqibGBeRIne+RaIr4K9EN7hj6GvRuE6CXo2Uk9azBX5WVLuUGdq5seEcHRrXxrbD+RjSqRFSG9dGamPzu8fhHiDO46O7xVRIG9ihIeZtO4ohnYxj5Mn7zVOSbHvMAf7wvoMnizEgtWHIa9kvtQEW7TiG8zs11it1nt+5sUmRE48zvGuTkIrcOW3rG5SObs1T0KNlCjQNlt8d2D54joQ4l64c9GvXAA0Dc5ocuiLSRmgiLb5PZ7eqp/87VC7AoA4NQ4YjikpGnIsZwvVUodHxbob2Ns+UTN2keOQVlyO1UbIhz6uPdE2rA4nxbrhcLGxFTq4KKD+nck5NYpwbTQOhdwxAi3rm0Od6yfGoJ1SXEyv99mrtLwsuV9AE/IaPaJWd/qkNlYrc4I6NUCcxDv+K6ujVl3MiLLcu0qxuElrUrwUIilzzeklokJyAorLwQ1Mb1k4wKHKdm9ZR7te3bX0M7tgoqvxzwD/f7sy2l4EGd2yElvVrGRS5BsnxYVWetju2/D5xGtVOQG5hGXq0rGe5FnRpVkf/rFlKoq7I8W0HThRZKnK9Wtc3hT7bjRMIpneIJMW7LEMP6ybGmcbeun6yUpFrWjfRds2LNjpDRedmdfT10onswhnU3rhv79b10D/Vvwav2ussRPSslim6It1KSAdJiHOheb0ky+eCc2H3praK3O1D2hv6WtphZUTvKsmgQLAwTF0p7YOvI06MI0BsqlauAdCZMdaeMZYA4DoAP0v7/AzglkD1ykEA8pzmx/E8DNUkwwUHr08LmbxvmZyoqbu021Fc7sWazONIHT8D93/9R0yqKdY0uEApFp6xSvDl8Apddn2oQh0jUuTG53WTYtN5IznBHXEz5NoJ1mNw2khblfdlp4DZfZdP7vWSrfOiOHJC9dX9Wjk6p4xVU2vuxJc9EjwZ30lSNFcmnFxLHpcv3stQz2JTBw1Hm0sKF38H5IJDIuI7FR9lQ3UrQv02u2eT0zQl+PvlV1q+b0D4xYF4rkq95ATD8fi7ayWYVgXxbhZ2cn29WvEhex2qrmMsVpvRZzU3bYukOIBInIvZln1LqVUjuh1FRCxyDmsnxiFJcQ9itVZZ9UzlBu9oCn8B5jXWCvk5CoQAuQAAIABJREFUUD3jkWLV65HnHdrNe+KaUkdxze2uTyTXTpUfFWeRewWoK1RbPRuhnsdwZV4n1K8VWm5QIRcvFNdrp8+GeF8jmcfsioMBQNuGQeUw1K1W5dlZySB8rLUTjecv1RU5Z+9+1LOPpmkeAA8AmA1gG4BpmqZtYYzdwxi7J7DbTAB7AGQA+BjAfU6Pb3cj+cXx+ozNf1spCjRY4dO0sF9Ct4thaiBMb8bGwyGrOZ2OcAFV7IsSaiLnQrvdu+l0MQiXxHjjo94goKxEUlFQJCneHdK78ezlchFXP3YKhlNFrpmicmBrh8+/PElwRa5BsrWSwZEFUKvk3wGp9lZKeQLj8GdEXo/4mJ20FuDX0Mm15M+HaBCyehYvOcvf3NjJPNMsxajs8atmJ9SKSdrxwqIUTvJ2g+R4U88fkVBNvWs5eC/uOL89/nnl2QCAeoFFPC2Qz6Uq2x2usMvviU+oVtu1WV1d2KmdGIeLekTXaDpWxLlZ2Eao7i3qIrVRsu0+dncpGvm3T9sGyJyUhpljh+K+4R1DnssJoYShJg4MHzWVaJVgwD8Xqq6hndEnHFKS1MepHzi+0zXHisY2hZFEZO+DK4rz3nVBB8PfVvMWX+9tFTlhTaubaL5WsVivRVSyrd1xVCXpVQonYNUCIEi0SrsKu/XGDvk3i8qs0+sqrjahfrsKu/Xu/Rv7wi0c09r47Gepooek1fVuXi8JbhczVRbmueSX9jQb3FTExP2hadpMTdO6aJrWUdO0fwa2faBp2geBf2uapt0f+LynqsiJ5QBtViuxjw5n3EVd8Pnt5zoeu08Lv7rNoh3Hou7DVJOYOXaoaVuLgKtaLN3MLSvnWbjV+ctidUf7tm1QYa0legphZYB/cdz6wiV4fLR1HLkT3C5mqmrVq3XwXI1qJ+Dy3i1xw8C2+NM5LXFt/9aGfbtL39WPG3i2Vdde5PW/9DYcs03DWhjetQlukEqRc0TFVbbQ8nvpxLImeyGtFuMv/zbQ9jihLE5WHrlyB+8f/66TxWDM2X4FRLwfSZLyP6xLEwDAezf0xbYXRoMxhtuHBBsHq/p1yUJYw4BAUddCqJIRlZ9Lz3Y2qQPAqidHYfWToxzvL9PAgVc2zu3CjQPb4ZnLemDa3f6ciLev74PtL442hJfwsLNwrcBckfYFmoADfuWHH0cD8MFN/cI6ZkUR73KFXZmxQ5M6aNeoNrY8f4lh+3/+GgzbV9pHYhgB0qNlSjAkTHrXwlVOkuJdtt7C5IQ43GHRaLumkxDnsjTYOSUpzm2acy7s3jQmHljA2nvToYnfs23nDQrFiK5N8O8/9zZsG3thZ8Pfl/f25yknSUJzOD2CQxluVOvJJWc10+UVO0VOnLP4fbhlcLBKo50sGomHS7Uu2SlYV/Q253lHaoiO5l5bYeXxDYVsVIzEIyca0wsC7ZHCcQrIRog/9wvKVPWTE1AkyLlOjJwyVkbMjk3qYOOzF6NHS6McyENU5XfIisqtQRwBdjIYvzaiInf9uW1DxsOK3DokNSLrhJOGzpXNyicuDPs7o7qHtmjLDxkAPcFezLXgd2Fo5ya4sJs5J5GHr1m9nGe3qmfrKXj6suBC2UkIq9r6wiWq3XV2TBytL1achDgXkhPiLCfguy7ogF3/HGPYds+wjsp9Ozeri5sGBRWn24ak6labOY9cgMZ1EvHSlT3x5nV98Mo1/sXu/E7+/LhXru6lPCZXjFTXXqRp3SS8ck1v3TJ5w7nt0DQlCS9dGaxix8d9+5D22PL8JbrFSl4EuEfOiWVNjgO3UpZCWemtFiJ+NEtFzqvh41v64+s7g4rinUONQiIfkpPFYPTZzbFj4mhDwjpfCEZ0bYINz1yMTwICdpzbpU/mFwe8c71b18MTY7qbjsuPwRiwc+IYPYzJ7WL44d7Bhn3HnN3c9MyJ1sVwDE4Jca6QgniaUA1RPN8jo7rg1jD6jN1+fnv9/XK7GJLi3YY5mY8jXEspF6Z8mvFe6vO1psHtYtgxcXRYx60IIhHk+M+QQ5wv7N4MXZv58ymYjZ/M7rOwxhEYCAMMz9/W5y/Rm76PPqu5QRH48b7z8OKfzjYcRyU4Tbt7sMEYdfv57dG3bfT5ZHZwg4tTRirWqnBJcLswomt0x3G5mOEa3jSoLUZ2a4bbLd7FeeOG4d0b+jg+vpXxKJzIBSv+cUk3U9GdR0YZhdC3/uJvWi+Xl7c7bycpfLq/lIcmV11XHeuafm3099MtKTA/3DtYN/yLUR6MMeycOAbPCRXKeTrBZb1aYNsLxjknEhlS9R2ra7H9xdHKFiayQnZVH3+KQ6h0D9lg/l8Lg+vYCzvjh3vPw+Qb++KpS4Prm+q549E1f+nfxvRZOIhzqdMlo6Mg33UNrOGiTBYKee6akBaUNd0uhgFC2wwnaQcydutD7cQ43cAghwY7NabVAEUutEdOFCrDsVBMSOuOxy7pGtEiXBHJotEiW/Oc0LB2ZO5wLpAaG5hr+jhuOS9V384fUt0jF+F6cX6nxphy2wD845KuBstaKK+OSsDgFhKrCdgdKN7wkGARsXupxMXJ7XLpv1ElfO99+VJ8+bdzA5+rz+90YdCbQwfGpgrzvHd4R1zVpxUeGtUZjDH9nLIFLRxF7od7z8PdQlhLpKEaqhw/IJjnJ/ex4/f6rFYpuKhHM5zX0a8QN0iOx1NpRos4U3js7ZCfE/EZq5ccr7Sq8RDCWglma7p4DE0zPz/y+RLiXKZzxCJkywrVsV//S288NKpz1OFc4jXnQoPdPDuiq1n4Dl47LbgOsOA7pen7ufH6tb1N369MCkvDN+zJa5sYRqMFfp1qrozEQzP5xr544YqzlJ9xjwhj/nmRX/c4d9AYMLRLY7QUCqv0aVMf1w8wCmxJ8S6Ds/CpS7vj3PYNDcaolvVr4SGp8l6sCTeENxZRIIkODCehcDNmiGzgz4eVdzwp3hWWvJNsEcbOUb2fomLx2p97Wz5DCVK+1+1D2puMsvy3yWkOds4heX2QG607afvhdgXnDLmxer92DfVcW9k4mRDnMtwPHrGSUive5JWRFUQn82fbhuZcdn69xagewG8QVRm55Wd3UCAaKlTRJVlhPKtlCq7u29q0390XdEC/dg1wac8WuFNY789qWc+0b3JCHPa8dCkmXd3T9Fk4hOuRm5DW3VDga3DHRtj1zzHo09Y+rWPPS5dafpaUYAzv7Nu2gS7vROKRC+UBTQwYvOXIJqfGz+qvyDmISxaFhlDxqyJ3DO3gF2wjEELzFZ3aq5poY9xVPHqRetFtVNu8uAQVOTeGdWmie/te/XNvLHlshO6d4S/n2As747PbBjgeS5ybYXjXprh/RKeoK2zFW1joODxh9ZGLumBQh4bKfUTrCX9OG9dJRFrPFvpvVN0Sxpg+KVvdM6d5A3w3PhGUKIr+1KsVj9f/co6+uPQJWMTlCUkPrXQQVndOm/p4QrDQRZqwbiWI3DG0PabcNkDPR+NwT9aUW4Ph078+eL6hvxkALHlshH5tIu2VyZ9Xu8IqXLBwS9Z0+RgqnFyzigo1BswhzuMu6qK3aXASWmmHeM247GQnYMthWUDw2vk0LVj0CsH5WrytVymEkMrEaZN4EfH6Z05Kw+QbzWGioXIZnXJpzxa4ZXCq8jM+B/HncfWTo7DmKX9YLr9n8W6XQdBnjJnmLllwuuU8Y/Ng/XwxLG4RC2Lh2UyIc0VdtEOe8/k7ZJUH5XYx2yhb+dkJ1WhZtRb99lDQm3p1v9amhtCcBLfx2E9fZo5O4MjzpN3zUEdSPuXfq/r9vzxwvqEQkosxvWiUqriQk3keAE4FjDVyjh9gNmTOHXcBfn3wfNvj9WiZgnnjLsCTlwbTO/g9+Pc1wfnwbikPUESWX7hxVi5GJiPPxVa3wEo+kYt4Af41w+ViUc9Z8WHmyEVaWIu/byrPnahA8TGUCpUkwyXUOs6NZ7IxQfwddmkE1V+Rs/n9eo6c8MxGkjhrJczbUVE9aUSrbLiKWSwqZ4lMSOuOBy1idBsoFDluBeJWNK5gJ8W7DRYT/qIP69IE56aqlST9PIJ3SJwso00T4ddKdckS41x4cGQn/W+r+7BFCK/gz+Lt56fC7WJ4OBBWEiq00AqnxgV+LflEUGpRuljkg5v64af7h5jG9nDAUm5V+cuOSI0IYrisSLzLheFdmyoXhX7tGhrKq5/dqh6aBoq+jB3ZCY+N7oo2DZOFHNqIhqZfU7tFkS/+LmYudjGsSxNbK72Taxbrd9qAdHpxEYnWKHTn0KDwwZVdu9+iWoz59fRpRqG0IhL1Ab9h6Ysw8qujxU7g4fNbBf1UA/za81PVS47XC5Pwuby03Gu67owxXNSjGT65pT++u2cwJkqhllYCesX/ptAvvBgGGAu9Mt7tClmVM1TEjIsZc7m93uD6qUK+vqpn9zXBQCJGYOx92e+NGCcYalXvVVNJYFc9s0nxLjSUcozCqUxtJ7PJYWwt6iXhlWt6YWxgfVZFW/RsXc/QnsXFgq1RVHM5F7I9ISrIckOnKopE9mY2rZtkaPdiRaemdXHXBcGUjWCRr+DxRIOpjKwgiKkHdsjjTYhzGd6DL24/F2PObm6ZU5gY58LPDwwxbIu02ImMWxibuC7wvDU519Pp+7vyiQsxb5zR4Js5KQ0T/2T0IMZJyih/L3gucSStRkJF/XHjhvwMis+BXRG6GqDIOQitFCy2kVCRVu9wEa2D4fwmxsITcPiionKnO4HneInwfDn+wN0cSBTuLYUJ8FHy8EUZ/jt+uHcw2goKoPgs8LyvPmHkW4iFTRJ0Rc7//8t6tcAFgdyKD27up/dbAoDbzmsPAOgu9AH5m5S0zy89D7W7Y2gHZE5KCymIW4X9hStI88U+VAVNwJ8roZqM7h/RCZmT0iKyqLmY+T6LyjDnt4eH4pu7gs1CuzQz91YBIq9kNu7irrhveCfDMSJtD9KuUTLcLoZLFblkHH6/4xQeuc9vP1e/j/+4pKvpu05+4m1D2ofeKUKulXIZnDw7ThnSqbE+t3AF0W6eVX0iFjvRlQ0mhlZGdl95LqVsVU5ws4jCZiLF7jXjv0zlLeKPc6wcW7q3U3E87n3IL/HoAqdY3OnjW/pjVI9mGJDaEEnxbsM9iTbaIFLCfd1jcR15znXmpDS8cnUv5bv9yjW98csD1l4at8uvGE+6yi9YciNRS0WvQMB8Hc9pW98YnqtpuFos2lDb2Fswc1KaoZiC6n7ZvbNnt0rBpKt6YvNzl4QsdCEatOTqpXYeOTlHvNzrw7X92+iGZKtoC/HauF1MnzNUXjcexTXOIvqIc0mgZcfoQNGpLs2CXr9YRUM9OMJ/P5zWeZDPy+WAUDlyXMZqlpKI9c9cZEpPuaBLE7x/Uz+TLMBlKJeLGWQkILrqql0FOUCUYy8Q8l276HnDkdG8XhI6NVXLGyJLHx9p+JuvPZf3bom1E0bpkQevXKOub6DCqqo3h8vjdtW47ebNGq3I8YdY0zQs/scIfHvXIMt9gWDvM6vjVAuY+E/n43IpQl1kxEl++4tjkDkpDQOlBtxOGvZmTkpTTjQ8T4QnVY/o2hSZk9JMVj3+TLuYeqHIeOlSZE5KQ792DfHgyOBCI87Zl/duicxJafjffUNM37fi3uFByxd/KbhH8MaB7cCHIpdOH9WjGTInpeleoIHtG5o8ScEwX8fDCZxLvT3c8CM+gVdVNVXGGKY/cL5+XW49LxWPXmxWXro1T8GgDo3w0/1DMGOsX6hJCbNnj1Oi9ch1blYXuyaOsQxJA4JKittl3Ucsc1Ia7h9hVmqdCLQXOShGFCmDpHf/2KlSw99/PH0RHhttvodO4UK9xxeZR06vTqkFhW0GKEMrrZiQ1h2Zk9IMygcXxJIT3MiclKZvZ5JX1SqkWkSs0NvBZu5McLsM5wLs53cuoFbG0mSnNHIB/VSpB2m9WvhbFjxkX0mXY2UQinS95Rb5UCW5NQArnhhpu49ILEIrxfnq2gFtkPFPY/5N4zoJ+L/eLdGzdT3Tc8Dh70CiJNTVkp5TjpsxDBEMqgluFybf2M9QAEpEFRJo/A3m99PuXv364FBcd25bR0WYtgvRKxf3aIbX/twb9ZPjMXZkJ9M8JNKvXQMseHSYbrjlcwgfldUUIA6bMeCKc1rq55aJC7ybt4eoqMrvHVco5jwyLHiMEIK6XT6WyLUD2iBzUprjqBh5nbTzPBq/FxwvT6Vw8hbcO7yj5fPbyGH7CU7mpDT9WGJqhPjMtW9cG8MD+dNcOY1VuLkVXKniCr44nkZiQZ8w5IrQHrlg9IkVttGJzodSNdi9H7xT+n3DO6FNw2STUiLzw73nKbcPD1SbiqRYiB3iAzBW4Z1QcdNAIQY9xPP68wNDMP/RYfquVg/4n/u1RvOUJEy+sR+u6tsKQzubvWmAv8KiqpIdoPYoADCERnKPnBzXLsMXTk0L/VKO6tEMbQLNGJ1Y4Lk10ynN6yUhc1IaBndsJPQlVJ+Hu71VAin/HVbftaKdRR8pcYG+b3hHQ/UuVZlrfk/FeO+LejTTSz5XN85pU19PmN74nLnqaCyMK9HmyAGhla2+gXCLv53fAYlxrrBKMNsp6yO7NcUV57SskMatItefG/TKHSswKnINaycoc2Gdwi/7yMD8et0AYy7C6qeCVXaZYup164q4pk+FjIkGPOdjEYXbDo3rICnehUcCFvi7h3XQjy0q471tQmh4JIBYyfZVRcEVu1BNu0dL/2mKffRCKNZfDwstqMmZ4PMHF4QdH8uGSHPJ+PdCFQDQNC08Q5i0682D2hl6RF7YrakpbNR0CEVhj05N6+gVNJ1cl2D1SGvvkWF/NzOEXYr5jE7GKKOaa0J5EpwizqOMMVzdrzXWP3Mxxl3cFU9f1sMyFx/wt0d4eFRnTEjrjivOaWU4nlW0hfiMuRlD9xYpyJyUhs4WESDREmq9CtcL7VRZkZVo/m6EKnbC73UIfc8xSx4b4bh5dShk5XRAQMbk67h8aWI1D/J7yN8frg9Y3dtwIkLkPnEyTlIo7J6J6q/I2Qy+Xq14ZE5Kwwib8sHihGzlbWpVvxYyJ6WhTxv7KjfhIt7/cRd3ddTzqGfrelg+fqTp+ypSG9fWm3naXae7h3XEyif9QtPr155j2dvL7bL26qk8Crv+OcYQJsdL3zZTJMKK6AK27V5Bru3nFzZVeXky151rX3LWLr5Z1ZdQhCtpqgUvUqWhdmIcfrwvaGBwu5jJ4/nY6G6YNy5o/bttSHtTGEOzlCTdi8n5+Jb+eOd65+WpY4Hq6VFZQWU6NDG+m7FQ5Nwh7mcsaFwnUTcEuFwMm5+3b4UhYvfOfnrrALx1XZ8KjxZ4+ape2PjcxahXK17ZXkM0IIQrf/Pr3raRf37tKYXeisK26tA8zNHFmNJrZHdX5bBJsYBPnaQ4bH9xTNDIoeejGUO9rRooq8YImBWMO85vb5snY3s9hTFF9P0wsFMMUxvXRuakNENbjmiJ9JHm4wxVHVJDdOGb9wzviGXjgx69/9w6ADdZFPkAoBeGkZk3bhgevdh5hU4+ZC7IypEhMvz94SF+fK6Qf3m/ds7kGlUUhNV1tGr+LTe4tzIaiyTEudCluVrB4u97UrwbdwztoP/GvoHwtmFd1LKfOOyKDuUFKi5vN9zzNk3xe4ysevly+DwXjZFTRKyB4ASr6DjAvPbfM6wj3ruhL8YEnAzynChHfEXKmECkBr82Ko+cSDiX7rUQVZVVitx39xjbE9kZp2KjQlcg/KZF+rzNfuQCFJc5y/2wMj6l9WyBGZsOh31uvwYdHLiTd93FgopCKMulmzH4guXcLLFrgikS52Jh5QvKD9/9Izrhzgs6hG7EGKaA/cDITrhrmIPjOmDqnYOQX6KuOMrd5lbn4eEKqjCKq/q0xn+W7I2oel7ftg3w2a0DkFIrzlRuX2Th34frY5j7yAURVcqraPgjKy4Q79zQB0t25uBwfonl9+Y+MgyapuG6j1Yifd+JmFS244p/qGptsUZUuu1wYuyu0GInAVKS4rHh2YuVn/Vr1xDPXt4Dz/+yNezj6rlcFpNTqDLTT17aHYlxLvxlQFus3nvcfyzmTIGJj7NZ9KSJmM9DDMZ+RCkBY0mzlERcN6At3pq/y3Qs8VCigadDk9qYcFkPy7nG/12b0MrA/1V78NAuucdWxMQ45y4UkRon+POkCuUbe2FnvB24Px0a17EVrP+vd0ss352r/y3v6VS4dTFjj0MV4TRe5goHvz6hClbw/b65azB2Hztlud+0uwc7Wmud3pf0CaMsZYoZY4caest+fEt/nCgqC3lMfuZz2zfU33XA+pk8u1U97Jg42nKtblQ7GAIXbTVRJ1RVeo5sVG6WkoQlj43QG6Bboar4HqtiJaGwe34A8zvjdjGk9WqBfbmFAPzPyot/Ohtfr9qPRy/qggu7R98HEvArW09c2l03FHFvt1WUld0bdU6b+lh/4KT+t1UPR45qnZefW9uG9LZHrwZE+37USYxzHO5kJXBEumDKY7dyjV7VtxV+/OOgPgYezhDqp7tdDF6NK33W+4WylkxI6441mcfRpkGyoYJn+Enj6hLsMkHvlf//Qzs3xsVnWec9OD2uE2oluC0LGkxI644uzeroMdkyA9s3Qqv6tfSKlCJtGyVjUxjeGBk7rzJH9Cg3TUmKmSUqlqT1bIEPFu+W+gi6MSqEV86/sDD8946ByDpRHBMr6t8v7opW9WvpSeqVhdP5gs8HSfEuNEhOUHrEqkP6bqqDvFkVujJi8RvEd1pepK7p1xpJ8W69N+CqvbmmY9kJ3Hbhd/I8bFU8pFvzYFNusSjP0M6NhT6iwS+JizH/PXahafZVKwM5cooH4P96t0SXZnXRvUVsvGR2OXKRHsuOSAVrOwfVfcM76orc+DHdDG1YmqUkIjs/GDZ8VssUrNgjKHLSeKyqF17coxn6pzbASzO3A/D/Dl+gKb0VVobRB0Z0QnZ+Cb5bm6VvuyEQTTKoQyO0blDL0MNUBb+ODWsnoGFtcz6n2OLGHbi3V/ZpZSggJiIK0DcPamdpRJIbf4vUTowzVHVMinejhUWxFtVYnRqd/fv654+f7h+CAslg8vTlPfBt+gEAlTOHRmtwe3x0N2zMOhl6R4lhXZqiVf1aBqOuE++Y7vUVHvVHL+6KYwWl+FMgsqoi+PiW/rbPD2CdTyYWvLp5UDvLVhiRkhjnNkTw/X97dx4uR13ne/zzPUtyErLvOyEkk4SEJJADWUiYGBKWRAggICgQRjGOV8ENvQFcZtAZ88z1MjPP6MiNKDAq+owgTxAYBSIgoJcZFK8CEcOICxAg4hUQLjKQ7/2jq8/p06e6urqrl6ru9+t5znN6qa76VZ/TVf2p3za0zAByUd+PJ42M3sdiY4d3a8GUkTqzd6Y+dUvuomnxcSXqsJn6IJf/gOeb69Xq5BW+rfDHqx3VcnCiDl/uyrOW6aaHnurr1J8/eZc74XV1mF4/EL1sqT5vhS5cO0cXBsOFFzZxy/dNq7X+WtbcJ6FUU89GO2hoV+QogaOHdw9ocoPBJo3q0QOXhTc1iqOnu7NmNQ3DhnSW7cCeBuOGD9EPLj0u9Ll6d+yOo9oS5K/2ljo2FfZJjr+bFnP+vfhfrPLn4+L1zp8yUuvmT9QFq2f3PXf+qoN1xZbFOu2f7x+8zY7CIJf7nT8Zzwg5lsYZtTLsnGFBn59a6fs7NaijRbnai9WHjh9QY5aXb1pZ/AXqgtWz+66e93TnJuYuHOyhOKAWv+/zJ4/Qt4PbS2eM7msVYTZwWzvP75WkAUFO8sjPaKmBQC4J+pzng9wPtq/v2+7oYd2DRs4LU00t0N+/dVms9X2qqE9gqb7ctbJyTm5i7kuOn6979/6u7/E4exjWXWLE0C69bcUsXf/AbyKb8dVKnD/FaUdMHzC9RKHCgdgqMe6gIbp/+3rN3n5rRa/L/88W1sj1dHfqH86ub1eMjTG6WZSctqTvTU52TrznI+tinUM+fepiffLmh0t+H6lll42uzg595wPH6re/f6U/yLVSjVze4umj9a3/tlpLYszNUa1Sb1ScUZnCFK8tzj9Ph/VPeLtw2qi+ZgY93R16tWCOsNsuXquuzg4dCK4WhK37lovWDGgqFMcJi6bohr9cJVd/J9Nay5e02tEEgVbQ33m7+WEtSrXlK9U5PWy9ZrnBqHb95Cn9yw9/HdLcTQOWLX6sWCVBbtPhU/Sl+57Q2nkDa+K7Ozp07V8cHWzL9XdnLNHJSwYP+vG1C1do8qihA4JQPjwM6erQVeceOWiybCluTUH9/zfKNYGtZl1RSp0Hp4/J1UKdsmyaFnz8O5KkXe89Rls+f3/RugduJH+h9dErTujbh6iQU7j9yzYt0PmrZuuzt/8it72C6QH+/bINBTWvg+VXE7WtuH2nqqmlrHVNU6my3vHBYwdNGVBrI3u6dceH/rxsv8BKfPLkw/TW3pk6uMxAE7UQ5xgZFaIbLd9iYUGJvonNVKo1TtQ0KZWI+/+w/OCxuuWi0iP0Rv2nVtvqoPBlxRfWoi60pX6wk0JHzhpbdaiKo9SBsdr+OsV/zDir6bBczdD171qhLwZXAKXc1ZzCvjf5+VVGDOnSiYum9C27p2CY38XTR1c1L1Lv7HGhIe7so2bqC28/suL1Ffv0aYu1dt4ELZlRu1DeiKtuQC3FvaB3xvIZ+l/nlR8oqV6qPW/2T2od7wLW8oPHavG08GNCYQ3VoRNzzZ//x5ml5/EpNyBGoeUHj9OvdmzuGwU5r7CJj5nprN6ZocfTY+ZO0NxJIwd8oS/c5RMXTw0dACp6+oHc70Y0C8t/gW/UHHr5K9lHzR4Ybs1yw6/3dHfq3o++SbdevGbAyKHrg+bnS4vmr8q3Jhk+pKtvH+LWVvXOHlcywEwcOTR0gLTbP3isbnzPqr6/cdSm8v+H5T7qcYr7nQ+s1eff1n/+rfUFoFJfoOdNHjlgsKAYuIFsAAAdrUlEQVR6quXAJEO7OiNHnm1nw4Z06hvbVurq849qdlFiyx8vU3PZsw6DqA0YbbXos5DpwU4aqdQXjmoPLsWri/OFJn9wXn1o8WhPFjrfVkeH6aqCL3n1PBnveEv8CRCjLJgyqubNKe/68Dr98bXSV0+BrPrsmdEjXtVbtd8XCwcRKaevubXCa/EKa/e6O/trykrJ19Ik+bJb6QW8Sq/CRk8/0Lja2pVzxuui9XO1taBfaz3NnzxS209aoLOPmql7frFf3/v5c9r1k6cHLBPWz+fkpdO0YeFk9XR36Cv/+9d65OkXdeKiKaEhOepvV/iexpl/tVi+v2ScgdjirjvO33nBlFFaMGWU3nt9rFW2htR8a289UfP3pVGpc0Oz1KNBWeG+FR/DIptw16EsmVX4PpnlRjjcvedZVTuVU3EADPs7nNWbG+Xwxves1q6Hnoq+MhezHDvPW67HnnkpZilbw+jh3X0TduddfNy8vvmeUB9Xn9+rR/e92OxiZNL0McN0ztEzIyccT4Nqm9z1DyIS4wJW0WuSliWsaeVHTpiveTH6X974nlW67WfPRF7A+59nLtXn7np8QKuCwkEeYoW6yMFO8uspv5qkOjpMHz6++onfC8WZW6mjw/oG9tmybLpOXjJNw7o7SwbJj21e2BfW8hcqd5y+RCd/7j6tKDFpe0eHaf2CSfrez5+TJF160gKN7OnWD3/5vM7qnaEv3P2fueUs9//5jmMO0eYllQ2K9PV3rdQNP3pSwyMunsb989Vy1MOlM8fo9COn66L10YOlhHn3n8/Rm+bXZhTAWqhFc996+uo7V+j+//xd+QWrcPH6uX3zlNZy2Wb4p3OO0DMvlB61WpKuv3CFvr+39HtZSQuPRgg7V00b3aOnX3i16rBZuG/F55/I0XGr21xjVDryS1KFXzi6Okwr54zXyjnj9ZUf/qq69RXdL/4HzM9qL+WajR4Z0o8ir7Mj/kHt+EVTIkeBrLXiUZPS4kMRk4yiNjYcNrnsiJQI19Fh+szptanlrqfqa+Ryv4tPQGE1jMXbKD7WVdqKJWzUyrC5MMMsP3jcgPkYw8yZOEJXnjWwz8uIoEn82774gBZMLd/3JLJGrob91hqqisvUHR0W2doj33Sy0OEzRuuej6wrOQKjJH3izYf1Bbl3B8HxbSsGzjOaPyd/4uTDKi730pljyjbdywfPcnNp1jKwd3d2DPrfjOvSkxbWriA1MG1M+kZmLrRm3gStiTFXXjU+VMHFlUqWbYa+OTsjrJ47Qavnln4v84eWZk31UCzf4uT0I6fr0pMWaviQTu174VVtuPIenbJ0mv7t4WckSQ99fGPsdRbuWcsMdlJuYulqfGzzQn361j2hzxX+fwwYSjrkH2fG2GF68v9Gh5cOM/31KYv62tlX8++387zl+txdj+uS4+fr9ZSODnLHh47VnwoGYgHQOqrvIxfePPCM5YPnWixeJqppZRylhrCut9WHTtA3tq0MHUmvWLym9rUoVeM08gxVbtCCuH0z62n4kC49cNlxZftwp33Ao2b44aXrY01dkGZXnbtcL/6/0nNJZt30McMiBwSqpWmje7Tt2Dk6q3dmQ7ZXTv5i26ie7r7BgOZOGqFf7dis117v/z48toLxGwqPA8WBNbNBrh62rp4dEeQG1sjlhYWUWy9aq6VX3D7gsXccc4i+fP8TfffNNKC5SDUH68Latd/98U9llm6O4UO61KC+0AAarcrvmFGTWpd7TdJ1DWnwJPCF4vY9idqXSoNr2uS7DDRT/r2Leg8bMeVCnAvSaallSIM3zZ+oU5ZNy3yIk6QTFzd2DtNGu/ejb2rYtsxMl21KT43xpsOn6p/vflznrRo8n121n+fClw1qWhlxrGq7IBeVagufKqyReyVkEI3OkCu+F6yerbsee05P/O7l/BpLrr8aHOoBNNqonlzf0+LRAstJMj/Z4Bq5/ONx+8il/2gZbx659O9HoXwfxOMWNr+5df6LUFSz3LS8v+S4fteUGcgI6VHLUUazZsroHj34sfBmk9W+LQNq5FqlaWU9RL3BhW/iNX/RPyzrK68Nntk9bFSsWeOH665L1vVNzli8raQnDZpfAGi0RdNG6daLK5+T8kCF4Usq/aW70iZ7cefvaqZYg8CkfzcGOGP5DM2fMlJLKgz99RBvtNS6FyOWSr4brJk7Qfc9Xp8BNgAklz+2v7XCZqADa+SKnyPI9Yk6eebfqIPHDx9wIgoLcnGuMhe/8UlPGvmXh3XkR7+d5y3XiKFt968N1IWZaVGJ+d2ieAXTD4RsNXxdMVdWyTxyzRJZI5eyEdriMrNUhLhCUW9hWi6OVvJ3vu4dR+uNlPaXB5Dz2KdPVHeFzVEKB7caXCNX+nXpP9s1UN/M8UWPvxzSmTPOHEPFb3zippXB67PQbKiZjl80JXL0IwCNU8mX1HLD18cZxfHej75JvcGokwumlB89slkiJwRXkhCMuJodlONMKl6ss8MycaECaGdDuzorbnpqBR/r4n52zCMXU6mD+uwJg0fHKnyTv/rOFerpHnxgHTwSW7KTRv4qXDcHcQAp19dHroqmlaX7yJVfx8xxwzVz3HAdOWusZo0vPTx9MyyePkoPP5WbdzHW9AMpqTHKsrDmutUEqHrYfPhU3fLTfU0PlACaL2weuZ7uDr36XwciB1AhERTIv00vvTqwBi4/eemAZYM3fMKIoVozb4J6Zw+ed6j42Jz0YP1fb+TOSDStBJB2B4LBfqs57JV6SSWrSluIk6RbLlqrC9ccIin6fNA3Siff7+uq2QHqyrOW6T8u39DWg0YAyCk8CuRb/Y0Ymhts7PU3Sk/xRSIokA9nz7/82oDHSyXhq849Urved0zJ9RVPQFu4mvNWDh6ytJwxw3N/0IuPm1fxawGgkfqaB1bwHbX09AOt0yfoQIzaxaz2kUuj6D5yjStHmCFdHX1zUAFob4XH+3zu+JvTFmvKqB6NDr7/h6FpZYGog/rHNi/UPb/Yr3v39o8WdeLiqZHrO+foWQPuF/6Rth07p+Ly9XR36lc7Nlf8OgBotL7AUkE92tjgZDVp5MC5t/qCTQvUXPQH3BijVta7MC0sPwn3BzaUvvBJUAaQFoWHo/yx6YRFU3TCouj5CAlyBaIO6ReunaML187pm1ogyu0fPDZ0pMsZY/snuOT8AaCVeV8fufiv2Xz4VL3+VtfmJQMvkvWHwuzzWPtSef9CDBTnwifvL4C0KDwcVTKpOEGuQt9+3xoNH9oZucyfTQ4fKW3M8CEaf9AQPf/ya3RiB9DSqqlFMzOdesT0QY9PHpVrfjZ1dM+g57ImTsCtZHAXVI/3F0BaDBjspIJjE0GuQJyD+uEzKp9PqVBfJ/ZEawGAdDuQaB65gU47YroOGtqljQsnl1zmIyfM1+tvpL8v3YEYAZfBThqDtxdAWhQejyqp7CHINQknaACtrD+MJD/YmVnZfgLFg0ulVZyA2z8BOicKAGgH1Tb1TjRqpZmNM7M7zGxv8HtsyDIzzewuM9tjZo+Y2fuTbLMW1i+YpCu2LGpqGSoZAAAAsqav5olD3QDvWHOIpo8ZphMWlw6m+RDMewcA7aHa63ZJpx/YLmm3u8+TtDu4X+x1SR9294WSVkp6r5kdlnC7iXz5gqN0/qrZzSwCNXIAWhq1SuEOnThC929fP2hkzjBc8AOA9lDtuTJp08otktYFt6+TdLek/164gLvvk7QvuP2Sme2RNF3Sowm3DQBIqTijM974nlXa++wfG1KeLHFqMwEAMSStkZscBLV8YJsUtbCZzZZ0hKQHEm438zg/A2hlB7z8EPrLDx6ns4vm20R/bSYnivpYM3eCJKlnSPQI1ACQdmVr5MzsTklhjfkvr2RDZjZC0o2SPuDuL0Yst03SNkmaNauFT/CcoAG0sAMMoV+1/j5yvHn1sOMth+ui9XM1qqe72UUBgETKBjl331DqOTN71symuvs+M5sq6bkSy3UrF+K+5u7fKrO9nZJ2SlJvb2/6x5KuEn0fALSy/j5yTS5IFlEhV1dDuzo1Z+KIZhcDABJL2rTyZklbg9tbJe0qXsByvfe+JGmPu1+ZcHuZx5cbAO2EWqXKUSMHAIgjaZDbIWmjme2VtDG4LzObZma3BcscI+k8SevN7CfBz6aE262rzUum1n0bnJ4BtLLPnrlUGxZO0txJ1HxUymP0LwQAINGole7+vKTjQh5/WtKm4PZ9ylhuWTB5ZN23wZDcAFrZ4umjdfXWo5pdjEzq61PAaQIAECFpjVxLqmfGatlOfwCAmmD6AQBAHAS5JuH8DAAI42IydQBAeQS5EJw8AQDNQo0cACAOghwAACnENDUAgCgEuQZzOskBACLkTxM0DgEARCHINQknaABAqPyE4JwnAAARCHIhOHkCAJrFGd8YABADQQ4AgBTJN8GnjxwAIApBLkQ9T55OJzkAQIS/OmWRero71MWwlQCACF3NLkC74korACDMuSsP1rkrD252MQAAKUeNXIh69pFbPH20JKmrkyAHAAAAoDrUyDXYVect1y+eeUkHDeWtBwAAAFAdauRC1LOubFRPt3pnj6vjFgAAAAC0OoIcAAAAAGQMQS4E88gBAAAASDOCHAAAAABkDEEuBFMDAAAAAEgzghwAAAAAZAxj4IegjxwAAACARrn14jUa1dNd0WsIcgAAAADQRIumja74NTStBAAAAICMIcgBAAAAQMYQ5EIYneQAAAAApBhBDgAAAAAyhiAXgvo4AAAAAGlGkAMAAACAjCHIhaCLHAAAAIA0I8gBAAAAQMYQ5EJQIQcAAAAgzQhyAAAAAJAxiYKcmY0zszvMbG/we2zEsp1m9pCZ3ZJkm43APHIAAAAA0ixpjdx2SbvdfZ6k3cH9Ut4vaU/C7QEAAABA20sa5LZIui64fZ2kU8MWMrMZkjZLujrh9hqCCjkAAAAAaZY0yE12932SFPyeVGK5f5D0UUkHEm4PAAAAANpeV7kFzOxOSVNCnro8zgbM7M2SnnP3H5nZuhjLb5O0TZJmzZoVZxM1R4UcAAAAgDQrG+TcfUOp58zsWTOb6u77zGyqpOdCFjtG0ilmtklSj6RRZvZVdz+3xPZ2StopSb29vR5nJwAAAACgnSRtWnmzpK3B7a2SdhUv4O6XuvsMd58t6WxJ3ysV4lKDTnIAAAAAUixpkNshaaOZ7ZW0MbgvM5tmZrclLRwAAAAAYLCyTSujuPvzko4LefxpSZtCHr9b0t1JtgkAAAAA7S5pjVxLomElAAAAgDQjyAEAAABAxhDkQjDWCQAAAIA0I8gBAAAAQMYQ5EIYveQAAAAApBhBDgAAAAAyhiAXgj5yAAAAANKMIAcAAAAAGUOQC0GFHAAAAIA0I8gBAAAAQMYQ5AAAAAAgYwhyAAAAAJAxBDkAAAAAyBiCHAAAAABkDEEOAAAAADKGIAcAAAAAGUOQAwAAAICMIcgBAAAAQMYQ5AAAAAAgYwhyAAAAAJAxBDkAAAAAyBiCHAAAAABkDEEOAAAAADKGIAcAAAAAGUOQAwAAAICMIcgBAAAAQMYQ5AAAAAAgYwhyAAAAAJAxBDkAAAAAyBiCHAAAAABkTKIgZ2bjzOwOM9sb/B5bYrkxZnaDmf3czPaY2aok2wUAAACAdpa0Rm67pN3uPk/S7uB+mH+U9B13XyBpqaQ9CbcLAAAAAG0raZDbIum64PZ1kk4tXsDMRkk6VtKXJMndX3P3PyTcLgAAAAC0raRBbrK775Ok4PekkGXmSNov6Roze8jMrjazgxJuFwAAAADaVtkgZ2Z3mtnDIT9bYm6jS9KRkr7g7kdIelmlm2DKzLaZ2YNm9uD+/ftjbgIAAAAA2kdXuQXcfUOp58zsWTOb6u77zGyqpOdCFntS0pPu/kBw/wZFBDl33ylppyT19vZ6ufIBAAAAQLtJ2rTyZklbg9tbJe0qXsDdn5H0WzObHzx0nKRHE24XAAAAANpW0iC3Q9JGM9sraWNwX2Y2zcxuK1juIklfM7OfSlom6W8TbhcAAAAA2lbZppVR3P155WrYih9/WtKmgvs/kdSbZFsAAAAAgJykNXIAAAAAgAYjyIUwa3YJAAAAAKA0ghwAAAAAZAxBDgAAAAAyhiAHAAAAABlDkAMAAACAjCHIAQAAAEDGEOQAAAAAIGMIcgAAAACQMQQ5AAAAAMgYghwAAAAAZAxBDgAAAAAyhiAHAAAAABlDkAMAAACAjCHIAQAAAEDGEOQAAAAAIGMIcgAAAACQMQQ5AAAAAMgYghwAAAAAZAxBDgAAAAAyhiAHAAAAABlDkAMAAACAjCHIAQAAAEDGEOQAAAAAIGMIcgAAAACQMQQ5AAAAAMgYghwAAAAAZAxBDgAAAAAyhiAHAAAAABlDkAMAAACAjCHIAQAAAEDGJApyZjbOzO4ws73B77EllvugmT1iZg+b2dfNrCfJdgEAAACgnSWtkdsuabe7z5O0O7g/gJlNl3SxpF53XyypU9LZCbcLAAAAAG0raZDbIum64PZ1kk4tsVyXpGFm1iVpuKSnE24XAAAAANpW0iA32d33SVLwe1LxAu7+lKTPSvqNpH2SXnD320ut0My2mdmDZvbg/v37ExYPAAAAAFpP2SBnZncGfduKf7bE2UDQb26LpEMkTZN0kJmdW2p5d9/p7r3u3jtx4sS4+wEAAAAAbaOr3ALuvqHUc2b2rJlNdfd9ZjZV0nMhi22Q9IS77w9e8y1JqyV9tcoyAwAAAEBbS9q08mZJW4PbWyXtClnmN5JWmtlwMzNJx0nak3C7AAAAANC2kga5HZI2mtleSRuD+zKzaWZ2myS5+wOSbpD0Y0k/C7a5M+F2AQAAAKBtlW1aGcXdn1euhq348aclbSq4/0lJn0yyLQAAAABATtIauZbk3uwSAAAAAEBpBDkAAAAAyBiCHAAAAABkDEEOAAAAADKGIAcAAAAAGUOQAwAAAICMIcgBAAAAQMYQ5AAAAAAgYwhyAAAAAJAxBDkAAAAAyBiCHAAAAABkDEEOAAAAADKGIBfCrNklAAAAAIDSCHIAAAAAkDEEOQAAAADIGIIcAAAAAGQMQQ4AAAAAMoYgBwAAAAAZQ5ADAAAAgIwhyAEAAABAxhDkAAAAACBjCHIAAAAAkDEEOQAAAADIGIIcAAAAAGQMQQ4AAAAAMoYgBwAAAAAZQ5ADAAAAgIwhyAEAAABAxhDkAAAAACBjCHIAAAAAkDGJgpyZnWlmj5jZATPrjVjuRDN7zMweN7PtSbYJAAAAAO0uaY3cw5JOl/T9UguYWaekz0s6SdJhks4xs8MSbrcujls4WZK0ZMaYJpcEAAAAAErrSvJid98jSWYWtdjRkh53918Gy35D0hZJjybZdj2csGiK9v7NSerupMUpAAAAgPRqRGKZLum3BfefDB4LZWbbzOxBM3tw//79dS9cMUIcAAAAgLQrWyNnZndKmhLy1OXuvivGNsKq67zUwu6+U9JOSert7S25HAAAAAC0q7JBzt03JNzGk5JmFtyfIenphOsEAAAAgLbViHaE/yFpnpkdYmZDJJ0t6eYGbBcAAAAAWlLS6QdOM7MnJa2SdKuZfTd4fJqZ3SZJ7v66pPdJ+q6kPZL+1d0fSVZsAAAAAGhfSUetvEnSTSGPPy1pU8H92yTdlmRbAAAAAIAchmgEAAAAgIwhyAEAAABAxhDkAAAAACBjCHIAAAAAkDEEOQAAAADIGIIcAAAAAGQMQQ4AAAAAMsbcvdllKMnMXpL0WLPLkcBoSS80uxA11mr7lNX9mSDpdyWey+o+RWGfsqHV9inp/kR9Tpul1f5GEvuUFc3ap3p+Dlvt79Rq+yO1zj7Nd/eRxQ8mmhC8AR5z995mF6JaZrbT3bc1uxy11Gr7lNX9MbMHS302srpPUdinbGi1fUq6P1Gf02Zptb+RxD5lRbP2qZ6fw1b7O7Xa/kits09m9mDY4zStrK9vN7sAddBq+9Rq+yOxT1nBPqVfq+2PxD5lBfuUDa22T622P1Jr7lOftDetTN3VTCAN+GwA6cfnFGg+PodoBaX+j9NeI7ez2QUAUorPBpB+fE6B5uNziFYQ+n+c6ho5AAAAAMBgaa+RAwAAAAAUIcgBAAAAQMYQ5ICUMTM3s68U3O8ys/1mdkszywVgMDM7LfjMLmh2WYB2w/kS7Y4gB6TPy5IWm9mw4P5GSU9VsgIzS/sckUCrOEfSfZLOruRFZtZZn+IAbSXx+RLIMoIckE7/JmlzcPscSV/PP2FmR5vZD8zsoeD3/ODxC8zsm2b2bUm3N77IQHsxsxGSjpH0TgVBzszWmdn3zewmM3vUzK4ys47guT+a2RVm9oCkVc0rOdBSqjlf3mtmywqWu9/MljS01EANEOSAdPqGpLPNrEfSEkkPFDz3c0nHuvsRkj4h6W8Lnlslaau7r29YSYH2daqk77j7LyT93syODB4/WtKHJR0u6VBJpwePHyTpYXdf4e73Nby0QGuq5nx5taQLJMnM/kzSUHf/acNKDNQIQQ5IoeCEMlu5q4u3FT09WtI3zexhSX8vaVHBc3e4++8bUkgA5yj3JVLB73OC2//u7r909zeUqx1YEzz+hqQbG1tEoLVVeb78pqQ3m1m3pHdIurYhhQVqjH40QHrdLOmzktZJGl/w+Kck3eXup5nZbEl3Fzz3coPKBrQ1Mxsvab1y/XNcUqckV+6LZPEErfn7rwbhDkBtVXS+dPdXzOwOSVsknSWpt4FlBWqGIAek15clveDuPzOzdQWPj1Z/Z+4LGl0oAJKkMyT9i7u/O/+Amd2jXO3b0WZ2iKRfS3qrpJ3NKSLQNqo5X14t6duS7qUlC7KKppVASrn7k+7+jyFP/Z2kz5jZ/crVAgBovHMk3VT02I2S3ibph5J2SHpY0hMhywGooWrOl+7+I0kvSrqmAUUE6sLci1uAAACAagS1AZe4+5ubXRYApZnZNOWaWi5w9wNNLg5QFWrkAAAA0DbM7HzlRre8nBCHLKNGDgAAAAAyhho5AAAAAMgYghyQAmY208zuMrM9ZvaImb0/eHycmd1hZnuD32ODx8cHy//RzD5XtK67zewxM/tJ8DOpGfsEAACA+iHIAenwuqQPu/tCSSslvdfMDpO0XdJud58naXdwX5JelfRxSZeUWN/b3X1Z8PNcncsOAACABiPIASng7vvc/cfB7Zck7ZE0XbnJSq8LFrtO0qnBMi+7+33KBToAAAC0GYIckDJmNlvSEcqNqDXZ3fdJubAnKW4zyWuCZpUfNzOrS0EBAADQNAQ5IEXMbIRykwp/wN1frHI1b3f3wyWtDX7Oq1X5AAAAkA4EOSAlzKxbuRD3NXf/VvDws2Y2NXh+qqSy/d3c/ang90uSrpd0dH1KDAAAgGYhyAEpEDR//JKkPe5+ZcFTN0vaGtzeKmlXmfV0mdmE4Ha3pDdLerj2JQYAAEAzMSE4kAJmtkbSvZJ+JulA8PBlyvWT+1dJsyT9RtKZ7v774DW/kjRK0hBJf5B0vKRfS/q+pG5JnZLulPQhd3+jUfsCAACA+iPIAQAAAEDG0LQSAAAAADKGIAcAAAAAGUOQAwAAAICMIcgBAAAAQMYQ5AAAAAAgYwhyAIC2ZmZ/ZWaXRDx/qpkd1sgyAQBQDkEOAIBop0oiyAEAUoV55AAAbcfMLpd0vqTfStov6UeSXpC0TdIQSY9LOk/SMkm3BM+9IOktwSo+L2mipFckvcvdf97I8gMAQJADALQVM1su6VpJKyR1SfqxpKskXePuzwfLfFrSs+7+T2Z2raRb3P2G4Lndkv7S3fea2QpJn3H39Y3fEwBAO+tqdgEAAGiwtZJucvdXJMnMbg4eXxwEuDGSRkj6bvELzWyEpNWSvmlm+YeH1r3EAAAUIcgBANpRWHOUayWd6u7/x8wukLQuZJkOSX9w92X1KxoAAOUx2AkAoN18X9JpZjbMzEZKOjl4fKSkfWbWLentBcu/FDwnd39R0hNmdqYkWc7SxhUdAIAc+sgBANpOwWAnv5b0pKRHJb0s6aPBYz+TNNLdLzCzYyR9UdKfJJ0h6YCkL0iaKqlb0jfc/YqG7wQAoK0R5AAAAAAgY2haCQAAAAAZQ5ADAAAAgIwhyAEAAABAxhDkAAAAACBjCHIAAAAAkDEEOQAAAADIGIIcAAAAAGTM/we88oq5SiRR4gAAAABJRU5ErkJggg==\n",
      "text/plain": [
       "<Figure size 1080x432 with 1 Axes>"
      ]
     },
     "metadata": {
      "needs_background": "light"
     },
     "output_type": "display_data"
    }
   ],
   "source": [
    "df['Humidity_diff'].plot()"
   ]
  },
  {
   "cell_type": "markdown",
   "metadata": {},
   "source": [
    "## MA models"
   ]
  },
  {
   "cell_type": "code",
   "execution_count": 32,
   "metadata": {},
   "outputs": [
    {
     "name": "stdout",
     "output_type": "stream",
     "text": [
      "const        717.839682\n",
      "ma.L1.CO2      0.992392\n",
      "dtype: float64\n"
     ]
    }
   ],
   "source": [
    "from statsmodels.tsa.arima_model import ARMA\n",
    "\n",
    "model = ARMA(df['CO2'], order=(0, 1)).fit()\n",
    "print(model.params)\n",
    "# model.summary()\n",
    "# different model fit different time seriers. humidity cannot be use for MA Models\n",
    "# const is the mean of the data\n",
    "# ma.L1 is the residual\n",
    "# yesterday is above the mean, today is above the mean\n",
    "# ARMA(0,1) = MA (1) ARMA(1,0) = AR(1)\n"
   ]
  },
  {
   "cell_type": "code",
   "execution_count": null,
   "metadata": {},
   "outputs": [],
   "source": [
    "# what if b1 = 1\n",
    "# yt  = b0 + yt-1\n",
    "# blow up\n",
    "# yt+1 = b0"
   ]
  },
  {
   "cell_type": "code",
   "execution_count": 33,
   "metadata": {},
   "outputs": [
    {
     "data": {
      "text/html": [
       "<div>\n",
       "<style scoped>\n",
       "    .dataframe tbody tr th:only-of-type {\n",
       "        vertical-align: middle;\n",
       "    }\n",
       "\n",
       "    .dataframe tbody tr th {\n",
       "        vertical-align: top;\n",
       "    }\n",
       "\n",
       "    .dataframe thead th {\n",
       "        text-align: right;\n",
       "    }\n",
       "</style>\n",
       "<table border=\"1\" class=\"dataframe\">\n",
       "  <thead>\n",
       "    <tr style=\"text-align: right;\">\n",
       "      <th></th>\n",
       "      <th>Prediction</th>\n",
       "      <th>True Values</th>\n",
       "    </tr>\n",
       "  </thead>\n",
       "  <tbody>\n",
       "    <tr>\n",
       "      <th>0</th>\n",
       "      <td>1153.250000</td>\n",
       "      <td>909.931414</td>\n",
       "    </tr>\n",
       "    <tr>\n",
       "      <th>1</th>\n",
       "      <td>1152.400000</td>\n",
       "      <td>959.307167</td>\n",
       "    </tr>\n",
       "    <tr>\n",
       "      <th>2</th>\n",
       "      <td>1146.166667</td>\n",
       "      <td>909.463518</td>\n",
       "    </tr>\n",
       "    <tr>\n",
       "      <th>3</th>\n",
       "      <td>1145.400000</td>\n",
       "      <td>952.742058</td>\n",
       "    </tr>\n",
       "    <tr>\n",
       "      <th>4</th>\n",
       "      <td>1140.800000</td>\n",
       "      <td>909.031935</td>\n",
       "    </tr>\n",
       "    <tr>\n",
       "      <th>5</th>\n",
       "      <td>1150.250000</td>\n",
       "      <td>947.844519</td>\n",
       "    </tr>\n",
       "    <tr>\n",
       "      <th>6</th>\n",
       "      <td>1129.200000</td>\n",
       "      <td>918.705317</td>\n",
       "    </tr>\n",
       "    <tr>\n",
       "      <th>7</th>\n",
       "      <td>1125.800000</td>\n",
       "      <td>926.732978</td>\n",
       "    </tr>\n",
       "    <tr>\n",
       "      <th>8</th>\n",
       "      <td>1123.000000</td>\n",
       "      <td>915.392256</td>\n",
       "    </tr>\n",
       "    <tr>\n",
       "      <th>9</th>\n",
       "      <td>1124.000000</td>\n",
       "      <td>923.868003</td>\n",
       "    </tr>\n",
       "  </tbody>\n",
       "</table>\n",
       "</div>"
      ],
      "text/plain": [
       "    Prediction  True Values\n",
       "0  1153.250000   909.931414\n",
       "1  1152.400000   959.307167\n",
       "2  1146.166667   909.463518\n",
       "3  1145.400000   952.742058\n",
       "4  1140.800000   909.031935\n",
       "5  1150.250000   947.844519\n",
       "6  1129.200000   918.705317\n",
       "7  1125.800000   926.732978\n",
       "8  1123.000000   915.392256\n",
       "9  1124.000000   923.868003"
      ]
     },
     "execution_count": 33,
     "metadata": {},
     "output_type": "execute_result"
    }
   ],
   "source": [
    "(train, test) = df.CO2[:-10], df.CO2[-10:]\n",
    "\n",
    "model = ARMA(df['CO2'], order=(0, 1)).fit()\n",
    "pred = model.predict(start=len(train), end=len(train)+10)\n",
    "pd.DataFrame(zip(test, pred), columns = {'True Values', 'Prediction'})"
   ]
  },
  {
   "cell_type": "code",
   "execution_count": 36,
   "metadata": {},
   "outputs": [
    {
     "data": {
      "text/plain": [
       "[<matplotlib.lines.Line2D at 0x22b3e3ec9a0>]"
      ]
     },
     "execution_count": 36,
     "metadata": {},
     "output_type": "execute_result"
    },
    {
     "data": {
      "image/png": "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\n",
      "text/plain": [
       "<Figure size 1080x432 with 1 Axes>"
      ]
     },
     "metadata": {
      "needs_background": "light"
     },
     "output_type": "display_data"
    }
   ],
   "source": [
    "plt.plot(df['CO2'].resample('D').mean())\n",
    "# big movement\n",
    "# not a time seriers moving around the mean\n",
    "# probably low std would be better"
   ]
  },
  {
   "cell_type": "markdown",
   "metadata": {},
   "source": [
    "## ARMA Models"
   ]
  },
  {
   "cell_type": "code",
   "execution_count": 34,
   "metadata": {},
   "outputs": [
    {
     "name": "stderr",
     "output_type": "stream",
     "text": [
      "C:\\Users\\april\\anaconda3\\lib\\site-packages\\statsmodels\\base\\model.py:567: ConvergenceWarning: Maximum Likelihood optimization failed to converge. Check mle_retvals\n",
      "  warn(\"Maximum Likelihood optimization failed to converge. \"\n"
     ]
    },
    {
     "data": {
      "text/html": [
       "<div>\n",
       "<style scoped>\n",
       "    .dataframe tbody tr th:only-of-type {\n",
       "        vertical-align: middle;\n",
       "    }\n",
       "\n",
       "    .dataframe tbody tr th {\n",
       "        vertical-align: top;\n",
       "    }\n",
       "\n",
       "    .dataframe thead th {\n",
       "        text-align: right;\n",
       "    }\n",
       "</style>\n",
       "<table border=\"1\" class=\"dataframe\">\n",
       "  <thead>\n",
       "    <tr style=\"text-align: right;\">\n",
       "      <th></th>\n",
       "      <th>Prediction</th>\n",
       "      <th>True Values</th>\n",
       "    </tr>\n",
       "  </thead>\n",
       "  <tbody>\n",
       "    <tr>\n",
       "      <th>0</th>\n",
       "      <td>1153.250000</td>\n",
       "      <td>1153.101544</td>\n",
       "    </tr>\n",
       "    <tr>\n",
       "      <th>1</th>\n",
       "      <td>1152.400000</td>\n",
       "      <td>1153.821643</td>\n",
       "    </tr>\n",
       "    <tr>\n",
       "      <th>2</th>\n",
       "      <td>1146.166667</td>\n",
       "      <td>1152.848790</td>\n",
       "    </tr>\n",
       "    <tr>\n",
       "      <th>3</th>\n",
       "      <td>1145.400000</td>\n",
       "      <td>1146.181646</td>\n",
       "    </tr>\n",
       "    <tr>\n",
       "      <th>4</th>\n",
       "      <td>1140.800000</td>\n",
       "      <td>1145.336276</td>\n",
       "    </tr>\n",
       "    <tr>\n",
       "      <th>5</th>\n",
       "      <td>1150.250000</td>\n",
       "      <td>1140.435548</td>\n",
       "    </tr>\n",
       "    <tr>\n",
       "      <th>6</th>\n",
       "      <td>1129.200000</td>\n",
       "      <td>1150.440075</td>\n",
       "    </tr>\n",
       "    <tr>\n",
       "      <th>7</th>\n",
       "      <td>1125.800000</td>\n",
       "      <td>1128.094871</td>\n",
       "    </tr>\n",
       "    <tr>\n",
       "      <th>8</th>\n",
       "      <td>1123.000000</td>\n",
       "      <td>1124.538921</td>\n",
       "    </tr>\n",
       "    <tr>\n",
       "      <th>9</th>\n",
       "      <td>1124.000000</td>\n",
       "      <td>1121.629669</td>\n",
       "    </tr>\n",
       "  </tbody>\n",
       "</table>\n",
       "</div>"
      ],
      "text/plain": [
       "    Prediction  True Values\n",
       "0  1153.250000  1153.101544\n",
       "1  1152.400000  1153.821643\n",
       "2  1146.166667  1152.848790\n",
       "3  1145.400000  1146.181646\n",
       "4  1140.800000  1145.336276\n",
       "5  1150.250000  1140.435548\n",
       "6  1129.200000  1150.440075\n",
       "7  1125.800000  1128.094871\n",
       "8  1123.000000  1124.538921\n",
       "9  1124.000000  1121.629669"
      ]
     },
     "execution_count": 34,
     "metadata": {},
     "output_type": "execute_result"
    }
   ],
   "source": [
    "model = ARMA(df['CO2'], order=(2, 1)).fit()\n",
    "pred = model.predict(start=len(train), end=len(train)+10)\n",
    "pd.DataFrame(zip(test, pred), columns = {'True Values', 'Prediction'})"
   ]
  },
  {
   "cell_type": "code",
   "execution_count": null,
   "metadata": {},
   "outputs": [],
   "source": [
    "# stationarity\n",
    "# If a variable is stationary, then its properties (such as mean) are stable over time"
   ]
  },
  {
   "cell_type": "markdown",
   "metadata": {},
   "source": [
    "## Extra Pointer\n",
    "\n",
    "For those who are especially interested in time series:\n",
    "\n",
    "There is a further class of models called ARIMA models - this stands for Autoregressive Integrated Moving Average\n",
    "\n",
    "The 'integrated' here refers to the number of times needed to difference a series in order to achieve stationarity.\n",
    "So an ARMA model is equivalent to an ARIMA model of the same MA and AR orders with no differencing.\n",
    "\n",
    "ARMA(p,q) is equivalent to ARIMA(p,0,q)\n"
   ]
  },
  {
   "cell_type": "code",
   "execution_count": 35,
   "metadata": {},
   "outputs": [
    {
     "data": {
      "text/html": [
       "<table class=\"simpletable\">\n",
       "<caption>ARMA Model Results</caption>\n",
       "<tr>\n",
       "  <th>Dep. Variable:</th>     <td>Humidity</td>     <th>  No. Observations:  </th>   <td>2663</td>   \n",
       "</tr>\n",
       "<tr>\n",
       "  <th>Model:</th>            <td>ARMA(1, 5)</td>    <th>  Log Likelihood     </th> <td>3956.320</td> \n",
       "</tr>\n",
       "<tr>\n",
       "  <th>Method:</th>             <td>css-mle</td>     <th>  S.D. of innovations</th>   <td>0.055</td>  \n",
       "</tr>\n",
       "<tr>\n",
       "  <th>Date:</th>          <td>Thu, 26 Nov 2020</td> <th>  AIC                </th> <td>-7896.639</td>\n",
       "</tr>\n",
       "<tr>\n",
       "  <th>Time:</th>              <td>18:42:38</td>     <th>  BIC                </th> <td>-7849.542</td>\n",
       "</tr>\n",
       "<tr>\n",
       "  <th>Sample:</th>           <td>02-02-2015</td>    <th>  HQIC               </th> <td>-7879.596</td>\n",
       "</tr>\n",
       "<tr>\n",
       "  <th></th>                 <td>- 05-24-2015</td>   <th>                     </th>     <td> </td>    \n",
       "</tr>\n",
       "</table>\n",
       "<table class=\"simpletable\">\n",
       "<tr>\n",
       "         <td></td>           <th>coef</th>     <th>std err</th>      <th>z</th>      <th>P>|z|</th>  <th>[0.025</th>    <th>0.975]</th>  \n",
       "</tr>\n",
       "<tr>\n",
       "  <th>const</th>          <td>   25.6992</td> <td>    1.454</td> <td>   17.670</td> <td> 0.000</td> <td>   22.849</td> <td>   28.550</td>\n",
       "</tr>\n",
       "<tr>\n",
       "  <th>ar.L1.Humidity</th> <td>    0.9994</td> <td>    0.000</td> <td> 2114.943</td> <td> 0.000</td> <td>    0.998</td> <td>    1.000</td>\n",
       "</tr>\n",
       "<tr>\n",
       "  <th>ma.L1.Humidity</th> <td>   -0.0358</td> <td>    0.019</td> <td>   -1.837</td> <td> 0.066</td> <td>   -0.074</td> <td>    0.002</td>\n",
       "</tr>\n",
       "<tr>\n",
       "  <th>ma.L2.Humidity</th> <td>    0.0644</td> <td>    0.020</td> <td>    3.274</td> <td> 0.001</td> <td>    0.026</td> <td>    0.103</td>\n",
       "</tr>\n",
       "<tr>\n",
       "  <th>ma.L3.Humidity</th> <td>    0.0227</td> <td>    0.018</td> <td>    1.255</td> <td> 0.209</td> <td>   -0.013</td> <td>    0.058</td>\n",
       "</tr>\n",
       "<tr>\n",
       "  <th>ma.L4.Humidity</th> <td>    0.1194</td> <td>    0.019</td> <td>    6.361</td> <td> 0.000</td> <td>    0.083</td> <td>    0.156</td>\n",
       "</tr>\n",
       "<tr>\n",
       "  <th>ma.L5.Humidity</th> <td>    0.1115</td> <td>    0.019</td> <td>    5.971</td> <td> 0.000</td> <td>    0.075</td> <td>    0.148</td>\n",
       "</tr>\n",
       "</table>\n",
       "<table class=\"simpletable\">\n",
       "<caption>Roots</caption>\n",
       "<tr>\n",
       "    <td></td>   <th>            Real</th>  <th>         Imaginary</th> <th>         Modulus</th>  <th>        Frequency</th>\n",
       "</tr>\n",
       "<tr>\n",
       "  <th>AR.1</th> <td>           1.0006</td> <td>          +0.0000j</td> <td>           1.0006</td> <td>           0.0000</td>\n",
       "</tr>\n",
       "<tr>\n",
       "  <th>MA.1</th> <td>           1.0438</td> <td>          -0.9159j</td> <td>           1.3887</td> <td>          -0.1146</td>\n",
       "</tr>\n",
       "<tr>\n",
       "  <th>MA.2</th> <td>           1.0438</td> <td>          +0.9159j</td> <td>           1.3887</td> <td>           0.1146</td>\n",
       "</tr>\n",
       "<tr>\n",
       "  <th>MA.3</th> <td>          -0.6370</td> <td>          -1.4362j</td> <td>           1.5711</td> <td>          -0.3164</td>\n",
       "</tr>\n",
       "<tr>\n",
       "  <th>MA.4</th> <td>          -0.6370</td> <td>          +1.4362j</td> <td>           1.5711</td> <td>           0.3164</td>\n",
       "</tr>\n",
       "<tr>\n",
       "  <th>MA.5</th> <td>          -1.8845</td> <td>          -0.0000j</td> <td>           1.8845</td> <td>          -0.5000</td>\n",
       "</tr>\n",
       "</table>"
      ],
      "text/plain": [
       "<class 'statsmodels.iolib.summary.Summary'>\n",
       "\"\"\"\n",
       "                              ARMA Model Results                              \n",
       "==============================================================================\n",
       "Dep. Variable:               Humidity   No. Observations:                 2663\n",
       "Model:                     ARMA(1, 5)   Log Likelihood                3956.320\n",
       "Method:                       css-mle   S.D. of innovations              0.055\n",
       "Date:                Thu, 26 Nov 2020   AIC                          -7896.639\n",
       "Time:                        18:42:38   BIC                          -7849.542\n",
       "Sample:                    02-02-2015   HQIC                         -7879.596\n",
       "                         - 05-24-2015                                         \n",
       "==================================================================================\n",
       "                     coef    std err          z      P>|z|      [0.025      0.975]\n",
       "----------------------------------------------------------------------------------\n",
       "const             25.6992      1.454     17.670      0.000      22.849      28.550\n",
       "ar.L1.Humidity     0.9994      0.000   2114.943      0.000       0.998       1.000\n",
       "ma.L1.Humidity    -0.0358      0.019     -1.837      0.066      -0.074       0.002\n",
       "ma.L2.Humidity     0.0644      0.020      3.274      0.001       0.026       0.103\n",
       "ma.L3.Humidity     0.0227      0.018      1.255      0.209      -0.013       0.058\n",
       "ma.L4.Humidity     0.1194      0.019      6.361      0.000       0.083       0.156\n",
       "ma.L5.Humidity     0.1115      0.019      5.971      0.000       0.075       0.148\n",
       "                                    Roots                                    \n",
       "=============================================================================\n",
       "                  Real          Imaginary           Modulus         Frequency\n",
       "-----------------------------------------------------------------------------\n",
       "AR.1            1.0006           +0.0000j            1.0006            0.0000\n",
       "MA.1            1.0438           -0.9159j            1.3887           -0.1146\n",
       "MA.2            1.0438           +0.9159j            1.3887            0.1146\n",
       "MA.3           -0.6370           -1.4362j            1.5711           -0.3164\n",
       "MA.4           -0.6370           +1.4362j            1.5711            0.3164\n",
       "MA.5           -1.8845           -0.0000j            1.8845           -0.5000\n",
       "-----------------------------------------------------------------------------\n",
       "\"\"\""
      ]
     },
     "execution_count": 35,
     "metadata": {},
     "output_type": "execute_result"
    }
   ],
   "source": [
    "# ARMA I -> the first difference is 1 \n",
    "# Example:\n",
    "\n",
    "from statsmodels.tsa.arima_model import ARIMA\n",
    "model=ARIMA(df['Humidity'] ,order=(1,0,5)).fit()\n",
    "model.summary()"
   ]
  },
  {
   "cell_type": "code",
   "execution_count": null,
   "metadata": {},
   "outputs": [],
   "source": []
  }
 ],
 "metadata": {
  "kernelspec": {
   "display_name": "Python 3",
   "language": "python",
   "name": "python3"
  },
  "language_info": {
   "codemirror_mode": {
    "name": "ipython",
    "version": 3
   },
   "file_extension": ".py",
   "mimetype": "text/x-python",
   "name": "python",
   "nbconvert_exporter": "python",
   "pygments_lexer": "ipython3",
   "version": "3.8.3"
  }
 },
 "nbformat": 4,
 "nbformat_minor": 4
}
