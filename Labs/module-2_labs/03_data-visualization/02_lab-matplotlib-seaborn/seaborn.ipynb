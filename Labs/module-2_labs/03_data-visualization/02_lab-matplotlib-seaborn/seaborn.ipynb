{
 "cells": [
  {
   "cell_type": "code",
   "execution_count": 3,
   "metadata": {},
   "outputs": [],
   "source": [
    "import seaborn as sns\n",
    "import numpy as np\n",
    "import matplotlib.pyplot as plt\n",
    "import pandas as pd"
   ]
  },
  {
   "cell_type": "code",
   "execution_count": 7,
   "metadata": {},
   "outputs": [
    {
     "data": {
      "text/html": [
       "<div>\n",
       "<style scoped>\n",
       "    .dataframe tbody tr th:only-of-type {\n",
       "        vertical-align: middle;\n",
       "    }\n",
       "\n",
       "    .dataframe tbody tr th {\n",
       "        vertical-align: top;\n",
       "    }\n",
       "\n",
       "    .dataframe thead th {\n",
       "        text-align: right;\n",
       "    }\n",
       "</style>\n",
       "<table border=\"1\" class=\"dataframe\">\n",
       "  <thead>\n",
       "    <tr style=\"text-align: right;\">\n",
       "      <th></th>\n",
       "      <th>x</th>\n",
       "      <th>y</th>\n",
       "    </tr>\n",
       "  </thead>\n",
       "  <tbody>\n",
       "    <tr>\n",
       "      <th>0</th>\n",
       "      <td>0</td>\n",
       "      <td>0</td>\n",
       "    </tr>\n",
       "    <tr>\n",
       "      <th>1</th>\n",
       "      <td>1</td>\n",
       "      <td>1</td>\n",
       "    </tr>\n",
       "    <tr>\n",
       "      <th>2</th>\n",
       "      <td>2</td>\n",
       "      <td>4</td>\n",
       "    </tr>\n",
       "    <tr>\n",
       "      <th>3</th>\n",
       "      <td>3</td>\n",
       "      <td>9</td>\n",
       "    </tr>\n",
       "    <tr>\n",
       "      <th>4</th>\n",
       "      <td>4</td>\n",
       "      <td>16</td>\n",
       "    </tr>\n",
       "    <tr>\n",
       "      <th>5</th>\n",
       "      <td>5</td>\n",
       "      <td>25</td>\n",
       "    </tr>\n",
       "    <tr>\n",
       "      <th>6</th>\n",
       "      <td>6</td>\n",
       "      <td>36</td>\n",
       "    </tr>\n",
       "    <tr>\n",
       "      <th>7</th>\n",
       "      <td>7</td>\n",
       "      <td>49</td>\n",
       "    </tr>\n",
       "    <tr>\n",
       "      <th>8</th>\n",
       "      <td>8</td>\n",
       "      <td>64</td>\n",
       "    </tr>\n",
       "    <tr>\n",
       "      <th>9</th>\n",
       "      <td>9</td>\n",
       "      <td>81</td>\n",
       "    </tr>\n",
       "  </tbody>\n",
       "</table>\n",
       "</div>"
      ],
      "text/plain": [
       "   x   y\n",
       "0  0   0\n",
       "1  1   1\n",
       "2  2   4\n",
       "3  3   9\n",
       "4  4  16\n",
       "5  5  25\n",
       "6  6  36\n",
       "7  7  49\n",
       "8  8  64\n",
       "9  9  81"
      ]
     },
     "execution_count": 7,
     "metadata": {},
     "output_type": "execute_result"
    }
   ],
   "source": [
    "df = pd.DataFrame()\n",
    "df[\"x\"] = np.arange(0, 10, 1)\n",
    "df[\"y\"] = df[\"x\"]**2\n",
    "df"
   ]
  },
  {
   "cell_type": "code",
   "execution_count": 8,
   "metadata": {},
   "outputs": [
    {
     "data": {
      "text/plain": [
       "[<matplotlib.lines.Line2D at 0x26299109640>]"
      ]
     },
     "execution_count": 8,
     "metadata": {},
     "output_type": "execute_result"
    },
    {
     "data": {
      "image/png": "[encoded data removed]",
      "text/plain": [
       "<Figure size 432x288 with 1 Axes>"
      ]
     },
     "metadata": {
      "needs_background": "light"
     },
     "output_type": "display_data"
    }
   ],
   "source": [
    "plt.plot(df[\"x\"], df[\"y\"])"
   ]
  },
  {
   "cell_type": "code",
   "execution_count": null,
   "metadata": {},
   "outputs": [],
   "source": [
    "df.plot(\"x\", \"y\")"
   ]
  },
  {
   "cell_type": "code",
   "execution_count": 9,
   "metadata": {},
   "outputs": [
    {
     "data": {
      "text/plain": [
       "<matplotlib.axes._subplots.AxesSubplot at 0x2629913e250>"
      ]
     },
     "execution_count": 9,
     "metadata": {},
     "output_type": "execute_result"
    },
    {
     "data": {
      "image/png": "[encoded data removed]",
      "text/plain": [
       "<Figure size 432x288 with 1 Axes>"
      ]
     },
     "metadata": {
      "needs_background": "light"
     },
     "output_type": "display_data"
    }
   ],
   "source": [
    "sns.lineplot(df[\"x\"], df[\"y\"])"
   ]
  },
  {
   "cell_type": "code",
   "execution_count": 10,
   "metadata": {
    "collapsed": true
   },
   "outputs": [
    {
     "name": "stdout",
     "output_type": "stream",
     "text": [
      "Help on function lmplot in module seaborn.regression:\n",
      "\n",
      "lmplot(x, y, data, hue=None, col=None, row=None, palette=None, col_wrap=None, height=5, aspect=1, markers='o', sharex=True, sharey=True, hue_order=None, col_order=None, row_order=None, legend=True, legend_out=True, x_estimator=None, x_bins=None, x_ci='ci', scatter=True, fit_reg=True, ci=95, n_boot=1000, units=None, seed=None, order=1, logistic=False, lowess=False, robust=False, logx=False, x_partial=None, y_partial=None, truncate=True, x_jitter=None, y_jitter=None, scatter_kws=None, line_kws=None, size=None)\n",
      "    Plot data and regression model fits across a FacetGrid.\n",
      "    \n",
      "    This function combines :func:`regplot` and :class:`FacetGrid`. It is\n",
      "    intended as a convenient interface to fit regression models across\n",
      "    conditional subsets of a dataset.\n",
      "    \n",
      "    When thinking about how to assign variables to different facets, a general\n",
      "    rule is that it makes sense to use ``hue`` for the most important\n",
      "    comparison, followed by ``col`` and ``row``. However, always think about\n",
      "    your particular dataset and the goals of the visualization you are\n",
      "    creating.\n",
      "    \n",
      "    There are a number of mutually exclusive options for estimating the\n",
      "    regression model. See the :ref:`tutorial <regression_tutorial>` for more\n",
      "    information.    \n",
      "    \n",
      "    The parameters to this function span most of the options in\n",
      "    :class:`FacetGrid`, although there may be occasional cases where you will\n",
      "    want to use that class and :func:`regplot` directly.\n",
      "    \n",
      "    Parameters\n",
      "    ----------\n",
      "    x, y : strings, optional\n",
      "        Input variables; these should be column names in ``data``.\n",
      "    data : DataFrame\n",
      "        Tidy (\"long-form\") dataframe where each column is a variable and each\n",
      "        row is an observation.    \n",
      "    hue, col, row : strings\n",
      "        Variables that define subsets of the data, which will be drawn on\n",
      "        separate facets in the grid. See the ``*_order`` parameters to control\n",
      "        the order of levels of this variable.\n",
      "    palette : palette name, list, or dict, optional\n",
      "        Colors to use for the different levels of the ``hue`` variable. Should\n",
      "        be something that can be interpreted by :func:`color_palette`, or a\n",
      "        dictionary mapping hue levels to matplotlib colors.    \n",
      "    col_wrap : int, optional\n",
      "        \"Wrap\" the column variable at this width, so that the column facets\n",
      "        span multiple rows. Incompatible with a ``row`` facet.    \n",
      "    height : scalar, optional\n",
      "        Height (in inches) of each facet. See also: ``aspect``.    \n",
      "    aspect : scalar, optional\n",
      "        Aspect ratio of each facet, so that ``aspect * height`` gives the width\n",
      "        of each facet in inches.    \n",
      "    markers : matplotlib marker code or list of marker codes, optional\n",
      "        Markers for the scatterplot. If a list, each marker in the list will be\n",
      "        used for each level of the ``hue`` variable.\n",
      "    share{x,y} : bool, 'col', or 'row' optional\n",
      "        If true, the facets will share y axes across columns and/or x axes\n",
      "        across rows.    \n",
      "    {hue,col,row}_order : lists, optional\n",
      "        Order for the levels of the faceting variables. By default, this will\n",
      "        be the order that the levels appear in ``data`` or, if the variables\n",
      "        are pandas categoricals, the category order.\n",
      "    legend : bool, optional\n",
      "        If ``True`` and there is a ``hue`` variable, add a legend.\n",
      "    legend_out : bool, optional\n",
      "        If ``True``, the figure size will be extended, and the legend will be\n",
      "        drawn outside the plot on the center right.    \n",
      "    x_estimator : callable that maps vector -> scalar, optional\n",
      "        Apply this function to each unique value of ``x`` and plot the\n",
      "        resulting estimate. This is useful when ``x`` is a discrete variable.\n",
      "        If ``x_ci`` is given, this estimate will be bootstrapped and a\n",
      "        confidence interval will be drawn.    \n",
      "    x_bins : int or vector, optional\n",
      "        Bin the ``x`` variable into discrete bins and then estimate the central\n",
      "        tendency and a confidence interval. This binning only influences how\n",
      "        the scatterplot is drawn; the regression is still fit to the original\n",
      "        data.  This parameter is interpreted either as the number of\n",
      "        evenly-sized (not necessary spaced) bins or the positions of the bin\n",
      "        centers. When this parameter is used, it implies that the default of\n",
      "        ``x_estimator`` is ``numpy.mean``.    \n",
      "    x_ci : \"ci\", \"sd\", int in [0, 100] or None, optional\n",
      "        Size of the confidence interval used when plotting a central tendency\n",
      "        for discrete values of ``x``. If ``\"ci\"``, defer to the value of the\n",
      "        ``ci`` parameter. If ``\"sd\"``, skip bootstrapping and show the\n",
      "        standard deviation of the observations in each bin.    \n",
      "    scatter : bool, optional\n",
      "        If ``True``, draw a scatterplot with the underlying observations (or\n",
      "        the ``x_estimator`` values).    \n",
      "    fit_reg : bool, optional\n",
      "        If ``True``, estimate and plot a regression model relating the ``x``\n",
      "        and ``y`` variables.    \n",
      "    ci : int in [0, 100] or None, optional\n",
      "        Size of the confidence interval for the regression estimate. This will\n",
      "        be drawn using translucent bands around the regression line. The\n",
      "        confidence interval is estimated using a bootstrap; for large\n",
      "        datasets, it may be advisable to avoid that computation by setting\n",
      "        this parameter to None.    \n",
      "    n_boot : int, optional\n",
      "        Number of bootstrap resamples used to estimate the ``ci``. The default\n",
      "        value attempts to balance time and stability; you may want to increase\n",
      "        this value for \"final\" versions of plots.    \n",
      "    units : variable name in ``data``, optional\n",
      "        If the ``x`` and ``y`` observations are nested within sampling units,\n",
      "        those can be specified here. This will be taken into account when\n",
      "        computing the confidence intervals by performing a multilevel bootstrap\n",
      "        that resamples both units and observations (within unit). This does not\n",
      "        otherwise influence how the regression is estimated or drawn.    \n",
      "    seed : int, numpy.random.Generator, or numpy.random.RandomState, optional\n",
      "        Seed or random number generator for reproducible bootstrapping.    \n",
      "    order : int, optional\n",
      "        If ``order`` is greater than 1, use ``numpy.polyfit`` to estimate a\n",
      "        polynomial regression.    \n",
      "    logistic : bool, optional\n",
      "        If ``True``, assume that ``y`` is a binary variable and use\n",
      "        ``statsmodels`` to estimate a logistic regression model. Note that this\n",
      "        is substantially more computationally intensive than linear regression,\n",
      "        so you may wish to decrease the number of bootstrap resamples\n",
      "        (``n_boot``) or set ``ci`` to None.    \n",
      "    lowess : bool, optional\n",
      "        If ``True``, use ``statsmodels`` to estimate a nonparametric lowess\n",
      "        model (locally weighted linear regression). Note that confidence\n",
      "        intervals cannot currently be drawn for this kind of model.    \n",
      "    robust : bool, optional\n",
      "        If ``True``, use ``statsmodels`` to estimate a robust regression. This\n",
      "        will de-weight outliers. Note that this is substantially more\n",
      "        computationally intensive than standard linear regression, so you may\n",
      "        wish to decrease the number of bootstrap resamples (``n_boot``) or set\n",
      "        ``ci`` to None.    \n",
      "    logx : bool, optional\n",
      "        If ``True``, estimate a linear regression of the form y ~ log(x), but\n",
      "        plot the scatterplot and regression model in the input space. Note that\n",
      "        ``x`` must be positive for this to work.    \n",
      "    {x,y}_partial : strings in ``data`` or matrices\n",
      "        Confounding variables to regress out of the ``x`` or ``y`` variables\n",
      "        before plotting.    \n",
      "    truncate : bool, optional\n",
      "        If ``True``, the regression line is bounded by the data limits. If\n",
      "        ``False``, it extends to the ``x`` axis limits.\n",
      "    \n",
      "    {x,y}_jitter : floats, optional\n",
      "        Add uniform random noise of this size to either the ``x`` or ``y``\n",
      "        variables. The noise is added to a copy of the data after fitting the\n",
      "        regression, and only influences the look of the scatterplot. This can\n",
      "        be helpful when plotting variables that take discrete values.    \n",
      "    {scatter,line}_kws : dictionaries\n",
      "        Additional keyword arguments to pass to ``plt.scatter`` and\n",
      "        ``plt.plot``.    \n",
      "    \n",
      "    See Also\n",
      "    --------\n",
      "    regplot : Plot data and a conditional model fit.\n",
      "    FacetGrid : Subplot grid for plotting conditional relationships.\n",
      "    pairplot : Combine :func:`regplot` and :class:`PairGrid` (when used with\n",
      "               ``kind=\"reg\"``).\n",
      "    \n",
      "    Notes\n",
      "    -----\n",
      "    \n",
      "    The :func:`regplot` and :func:`lmplot` functions are closely related, but\n",
      "    the former is an axes-level function while the latter is a figure-level\n",
      "    function that combines :func:`regplot` and :class:`FacetGrid`.    \n",
      "    \n",
      "    Examples\n",
      "    --------\n",
      "    \n",
      "    These examples focus on basic regression model plots to exhibit the\n",
      "    various faceting options; see the :func:`regplot` docs for demonstrations\n",
      "    of the other options for plotting the data and models. There are also\n",
      "    other examples for how to manipulate plot using the returned object on\n",
      "    the :class:`FacetGrid` docs.\n",
      "    \n",
      "    Plot a simple linear relationship between two variables:\n",
      "    \n",
      "    .. plot::\n",
      "        :context: close-figs\n",
      "    \n",
      "        >>> import seaborn as sns; sns.set(color_codes=True)\n",
      "        >>> tips = sns.load_dataset(\"tips\")\n",
      "        >>> g = sns.lmplot(x=\"total_bill\", y=\"tip\", data=tips)\n",
      "    \n",
      "    Condition on a third variable and plot the levels in different colors:\n",
      "    \n",
      "    .. plot::\n",
      "        :context: close-figs\n",
      "    \n",
      "        >>> g = sns.lmplot(x=\"total_bill\", y=\"tip\", hue=\"smoker\", data=tips)\n",
      "    \n",
      "    Use different markers as well as colors so the plot will reproduce to\n",
      "    black-and-white more easily:\n",
      "    \n",
      "    .. plot::\n",
      "        :context: close-figs\n",
      "    \n",
      "        >>> g = sns.lmplot(x=\"total_bill\", y=\"tip\", hue=\"smoker\", data=tips,\n",
      "        ...                markers=[\"o\", \"x\"])\n",
      "    \n",
      "    Use a different color palette:\n",
      "    \n",
      "    .. plot::\n",
      "        :context: close-figs\n",
      "    \n",
      "        >>> g = sns.lmplot(x=\"total_bill\", y=\"tip\", hue=\"smoker\", data=tips,\n",
      "        ...                palette=\"Set1\")\n",
      "    \n",
      "    Map ``hue`` levels to colors with a dictionary:\n",
      "    \n",
      "    .. plot::\n",
      "        :context: close-figs\n",
      "    \n",
      "        >>> g = sns.lmplot(x=\"total_bill\", y=\"tip\", hue=\"smoker\", data=tips,\n",
      "        ...                palette=dict(Yes=\"g\", No=\"m\"))\n",
      "    \n",
      "    Plot the levels of the third variable across different columns:\n",
      "    \n",
      "    .. plot::\n",
      "        :context: close-figs\n",
      "    \n",
      "        >>> g = sns.lmplot(x=\"total_bill\", y=\"tip\", col=\"smoker\", data=tips)\n",
      "    \n",
      "    Change the height and aspect ratio of the facets:\n",
      "    \n",
      "    .. plot::\n",
      "        :context: close-figs\n",
      "    \n",
      "        >>> g = sns.lmplot(x=\"size\", y=\"total_bill\", hue=\"day\", col=\"day\",\n",
      "        ...                data=tips, height=6, aspect=.4, x_jitter=.1)\n",
      "    \n",
      "    Wrap the levels of the column variable into multiple rows:\n",
      "    \n",
      "    .. plot::\n",
      "        :context: close-figs\n",
      "    \n",
      "        >>> g = sns.lmplot(x=\"total_bill\", y=\"tip\", col=\"day\", hue=\"day\",\n",
      "        ...                data=tips, col_wrap=2, height=3)\n",
      "    \n",
      "    Condition on two variables to make a full grid:\n",
      "    \n",
      "    .. plot::\n",
      "        :context: close-figs\n",
      "    \n",
      "        >>> g = sns.lmplot(x=\"total_bill\", y=\"tip\", row=\"sex\", col=\"time\",\n",
      "        ...                data=tips, height=3)\n",
      "    \n",
      "    Use methods on the returned :class:`FacetGrid` instance to further tweak\n",
      "    the plot:\n",
      "    \n",
      "    .. plot::\n",
      "        :context: close-figs\n",
      "    \n",
      "        >>> g = sns.lmplot(x=\"total_bill\", y=\"tip\", row=\"sex\", col=\"time\",\n",
      "        ...                data=tips, height=3)\n",
      "        >>> g = (g.set_axis_labels(\"Total bill (US Dollars)\", \"Tip\")\n",
      "        ...       .set(xlim=(0, 60), ylim=(0, 12),\n",
      "        ...            xticks=[10, 30, 50], yticks=[2, 6, 10])\n",
      "        ...       .fig.subplots_adjust(wspace=.02))\n",
      "\n"
     ]
    }
   ],
   "source": [
    "help(sns.lmplot)"
   ]
  },
  {
   "cell_type": "code",
   "execution_count": 12,
   "metadata": {},
   "outputs": [
    {
     "data": {
      "text/plain": [
       "<seaborn.axisgrid.FacetGrid at 0x2629924a8e0>"
      ]
     },
     "execution_count": 12,
     "metadata": {},
     "output_type": "execute_result"
    },
    {
     "data": {
      "image/png": "[encoded data removed]",
      "text/plain": [
       "<Figure size 360x360 with 1 Axes>"
      ]
     },
     "metadata": {
      "needs_background": "light"
     },
     "output_type": "display_data"
    }
   ],
   "source": [
    "sns.lmplot(\"x\", \"y\", data=df, fit_reg=False)"
   ]
  },
  {
   "cell_type": "code",
   "execution_count": 13,
   "metadata": {},
   "outputs": [
    {
     "data": {
      "text/plain": [
       "<seaborn.axisgrid.FacetGrid at 0x262992a56a0>"
      ]
     },
     "execution_count": 13,
     "metadata": {},
     "output_type": "execute_result"
    },
    {
     "data": {
      "image/png": "[encoded data removed]",
      "text/plain": [
       "<Figure size 360x360 with 1 Axes>"
      ]
     },
     "metadata": {
      "needs_background": "light"
     },
     "output_type": "display_data"
    }
   ],
   "source": [
    "sns.lmplot(\"x\", \"y\", data=df, fit_reg=True)"
   ]
  },
  {
   "cell_type": "code",
   "execution_count": null,
   "metadata": {},
   "outputs": [],
   "source": []
  },
  {
   "cell_type": "code",
   "execution_count": null,
   "metadata": {},
   "outputs": [],
   "source": []
  },
  {
   "cell_type": "code",
   "execution_count": null,
   "metadata": {},
   "outputs": [],
   "source": []
  },
  {
   "cell_type": "code",
   "execution_count": null,
   "metadata": {},
   "outputs": [],
   "source": []
  },
  {
   "cell_type": "code",
   "execution_count": null,
   "metadata": {},
   "outputs": [],
   "source": []
  },
  {
   "cell_type": "code",
   "execution_count": null,
   "metadata": {},
   "outputs": [],
   "source": []
  }
 ],
 "metadata": {
  "kernelspec": {
   "display_name": "Python 3",
   "language": "python",
   "name": "python3"
  },
  "language_info": {
   "codemirror_mode": {
    "name": "ipython",
    "version": 3
   },
   "file_extension": ".py",
   "mimetype": "text/x-python",
   "name": "python",
   "nbconvert_exporter": "python",
   "pygments_lexer": "ipython3",
   "version": "3.8.3"
  }
 },
 "nbformat": 4,
 "nbformat_minor": 4
}
