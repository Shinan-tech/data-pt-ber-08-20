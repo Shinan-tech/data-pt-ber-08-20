{
 "cells": [
  {
   "cell_type": "code",
   "execution_count": 140,
   "metadata": {},
   "outputs": [],
   "source": [
    "import pandas as pd\n",
    "import numpy as np\n",
    "import seaborn as sns\n",
    "import matplotlib.pyplot as plt\n",
    "from scipy import stats\n"
   ]
  },
  {
   "cell_type": "markdown",
   "metadata": {},
   "source": [
    "### HOW TO SCALE NORMALIZE STANDARDIZE?\n",
    "data pre-processing\n",
    "\n",
    "    remove or fill missing values\n",
    "    transfrom categorical / ordinal into numerical values\n",
    "    deal with outliers (since they will skew the fit of the model)\n",
    "    creating new features from existing ones Goal ist to achieve better ML results\n",
    "\n",
    "scaling\n",
    "\n",
    "regresssion with numbers in widely different scale ist an issue for variance: example 1 number in the dozens the other in the billions: creates problem as large scale number will be considerd \"more important\". We want all in comparable scale\n",
    "\n",
    "option to deal with it\n",
    "\n",
    "    (1) standardization: transform distribution to mean 0 and standard deviation of 1: For each data point subtract the mean and divide by standard deviation\n",
    "    (2) normalization: from each data point substract minimum and divide by (max-min): Achievs that all values are between 0 and 1\n",
    "\n"
   ]
  },
  {
   "cell_type": "code",
   "execution_count": 141,
   "metadata": {},
   "outputs": [],
   "source": [
    "#SET SIZE OF ALL PRINTS\n",
    "plt.rcParams['figure.figsize'] = [25, 6]\n"
   ]
  },
  {
   "cell_type": "code",
   "execution_count": 142,
   "metadata": {
    "scrolled": false
   },
   "outputs": [
    {
     "data": {
      "text/html": [
       "<div>\n",
       "<style scoped>\n",
       "    .dataframe tbody tr th:only-of-type {\n",
       "        vertical-align: middle;\n",
       "    }\n",
       "\n",
       "    .dataframe tbody tr th {\n",
       "        vertical-align: top;\n",
       "    }\n",
       "\n",
       "    .dataframe thead th {\n",
       "        text-align: right;\n",
       "    }\n",
       "</style>\n",
       "<table border=\"1\" class=\"dataframe\">\n",
       "  <thead>\n",
       "    <tr style=\"text-align: right;\">\n",
       "      <th></th>\n",
       "      <th>person_age</th>\n",
       "      <th>person_income</th>\n",
       "      <th>person_home_ownership</th>\n",
       "      <th>person_emp_length</th>\n",
       "      <th>loan_intent</th>\n",
       "      <th>loan_grade</th>\n",
       "      <th>loan_amnt</th>\n",
       "      <th>loan_int_rate</th>\n",
       "      <th>loan_status</th>\n",
       "      <th>loan_percent_income</th>\n",
       "      <th>cb_person_default_on_file</th>\n",
       "      <th>cb_person_cred_hist_length</th>\n",
       "    </tr>\n",
       "  </thead>\n",
       "  <tbody>\n",
       "    <tr>\n",
       "      <th>0</th>\n",
       "      <td>22</td>\n",
       "      <td>59000</td>\n",
       "      <td>RENT</td>\n",
       "      <td>123.0</td>\n",
       "      <td>PERSONAL</td>\n",
       "      <td>D</td>\n",
       "      <td>35000</td>\n",
       "      <td>16.02</td>\n",
       "      <td>1</td>\n",
       "      <td>0.59</td>\n",
       "      <td>Y</td>\n",
       "      <td>3</td>\n",
       "    </tr>\n",
       "    <tr>\n",
       "      <th>1</th>\n",
       "      <td>21</td>\n",
       "      <td>9600</td>\n",
       "      <td>OWN</td>\n",
       "      <td>5.0</td>\n",
       "      <td>EDUCATION</td>\n",
       "      <td>B</td>\n",
       "      <td>1000</td>\n",
       "      <td>11.14</td>\n",
       "      <td>0</td>\n",
       "      <td>0.10</td>\n",
       "      <td>N</td>\n",
       "      <td>2</td>\n",
       "    </tr>\n",
       "    <tr>\n",
       "      <th>2</th>\n",
       "      <td>25</td>\n",
       "      <td>9600</td>\n",
       "      <td>MORTGAGE</td>\n",
       "      <td>1.0</td>\n",
       "      <td>MEDICAL</td>\n",
       "      <td>C</td>\n",
       "      <td>5500</td>\n",
       "      <td>12.87</td>\n",
       "      <td>1</td>\n",
       "      <td>0.57</td>\n",
       "      <td>N</td>\n",
       "      <td>3</td>\n",
       "    </tr>\n",
       "    <tr>\n",
       "      <th>3</th>\n",
       "      <td>23</td>\n",
       "      <td>65500</td>\n",
       "      <td>RENT</td>\n",
       "      <td>4.0</td>\n",
       "      <td>MEDICAL</td>\n",
       "      <td>C</td>\n",
       "      <td>35000</td>\n",
       "      <td>15.23</td>\n",
       "      <td>1</td>\n",
       "      <td>0.53</td>\n",
       "      <td>N</td>\n",
       "      <td>2</td>\n",
       "    </tr>\n",
       "    <tr>\n",
       "      <th>4</th>\n",
       "      <td>24</td>\n",
       "      <td>54400</td>\n",
       "      <td>RENT</td>\n",
       "      <td>8.0</td>\n",
       "      <td>MEDICAL</td>\n",
       "      <td>C</td>\n",
       "      <td>35000</td>\n",
       "      <td>14.27</td>\n",
       "      <td>1</td>\n",
       "      <td>0.55</td>\n",
       "      <td>Y</td>\n",
       "      <td>4</td>\n",
       "    </tr>\n",
       "    <tr>\n",
       "      <th>...</th>\n",
       "      <td>...</td>\n",
       "      <td>...</td>\n",
       "      <td>...</td>\n",
       "      <td>...</td>\n",
       "      <td>...</td>\n",
       "      <td>...</td>\n",
       "      <td>...</td>\n",
       "      <td>...</td>\n",
       "      <td>...</td>\n",
       "      <td>...</td>\n",
       "      <td>...</td>\n",
       "      <td>...</td>\n",
       "    </tr>\n",
       "    <tr>\n",
       "      <th>32576</th>\n",
       "      <td>57</td>\n",
       "      <td>53000</td>\n",
       "      <td>MORTGAGE</td>\n",
       "      <td>1.0</td>\n",
       "      <td>PERSONAL</td>\n",
       "      <td>C</td>\n",
       "      <td>5800</td>\n",
       "      <td>13.16</td>\n",
       "      <td>0</td>\n",
       "      <td>0.11</td>\n",
       "      <td>N</td>\n",
       "      <td>30</td>\n",
       "    </tr>\n",
       "    <tr>\n",
       "      <th>32577</th>\n",
       "      <td>54</td>\n",
       "      <td>120000</td>\n",
       "      <td>MORTGAGE</td>\n",
       "      <td>4.0</td>\n",
       "      <td>PERSONAL</td>\n",
       "      <td>A</td>\n",
       "      <td>17625</td>\n",
       "      <td>7.49</td>\n",
       "      <td>0</td>\n",
       "      <td>0.15</td>\n",
       "      <td>N</td>\n",
       "      <td>19</td>\n",
       "    </tr>\n",
       "    <tr>\n",
       "      <th>32578</th>\n",
       "      <td>65</td>\n",
       "      <td>76000</td>\n",
       "      <td>RENT</td>\n",
       "      <td>3.0</td>\n",
       "      <td>HOMEIMPROVEMENT</td>\n",
       "      <td>B</td>\n",
       "      <td>35000</td>\n",
       "      <td>10.99</td>\n",
       "      <td>1</td>\n",
       "      <td>0.46</td>\n",
       "      <td>N</td>\n",
       "      <td>28</td>\n",
       "    </tr>\n",
       "    <tr>\n",
       "      <th>32579</th>\n",
       "      <td>56</td>\n",
       "      <td>150000</td>\n",
       "      <td>MORTGAGE</td>\n",
       "      <td>5.0</td>\n",
       "      <td>PERSONAL</td>\n",
       "      <td>B</td>\n",
       "      <td>15000</td>\n",
       "      <td>11.48</td>\n",
       "      <td>0</td>\n",
       "      <td>0.10</td>\n",
       "      <td>N</td>\n",
       "      <td>26</td>\n",
       "    </tr>\n",
       "    <tr>\n",
       "      <th>32580</th>\n",
       "      <td>66</td>\n",
       "      <td>42000</td>\n",
       "      <td>RENT</td>\n",
       "      <td>2.0</td>\n",
       "      <td>MEDICAL</td>\n",
       "      <td>B</td>\n",
       "      <td>6475</td>\n",
       "      <td>9.99</td>\n",
       "      <td>0</td>\n",
       "      <td>0.15</td>\n",
       "      <td>N</td>\n",
       "      <td>30</td>\n",
       "    </tr>\n",
       "  </tbody>\n",
       "</table>\n",
       "<p>32581 rows × 12 columns</p>\n",
       "</div>"
      ],
      "text/plain": [
       "       person_age  person_income person_home_ownership  person_emp_length  \\\n",
       "0              22          59000                  RENT              123.0   \n",
       "1              21           9600                   OWN                5.0   \n",
       "2              25           9600              MORTGAGE                1.0   \n",
       "3              23          65500                  RENT                4.0   \n",
       "4              24          54400                  RENT                8.0   \n",
       "...           ...            ...                   ...                ...   \n",
       "32576          57          53000              MORTGAGE                1.0   \n",
       "32577          54         120000              MORTGAGE                4.0   \n",
       "32578          65          76000                  RENT                3.0   \n",
       "32579          56         150000              MORTGAGE                5.0   \n",
       "32580          66          42000                  RENT                2.0   \n",
       "\n",
       "           loan_intent loan_grade  loan_amnt  loan_int_rate  loan_status  \\\n",
       "0             PERSONAL          D      35000          16.02            1   \n",
       "1            EDUCATION          B       1000          11.14            0   \n",
       "2              MEDICAL          C       5500          12.87            1   \n",
       "3              MEDICAL          C      35000          15.23            1   \n",
       "4              MEDICAL          C      35000          14.27            1   \n",
       "...                ...        ...        ...            ...          ...   \n",
       "32576         PERSONAL          C       5800          13.16            0   \n",
       "32577         PERSONAL          A      17625           7.49            0   \n",
       "32578  HOMEIMPROVEMENT          B      35000          10.99            1   \n",
       "32579         PERSONAL          B      15000          11.48            0   \n",
       "32580          MEDICAL          B       6475           9.99            0   \n",
       "\n",
       "       loan_percent_income cb_person_default_on_file  \\\n",
       "0                     0.59                         Y   \n",
       "1                     0.10                         N   \n",
       "2                     0.57                         N   \n",
       "3                     0.53                         N   \n",
       "4                     0.55                         Y   \n",
       "...                    ...                       ...   \n",
       "32576                 0.11                         N   \n",
       "32577                 0.15                         N   \n",
       "32578                 0.46                         N   \n",
       "32579                 0.10                         N   \n",
       "32580                 0.15                         N   \n",
       "\n",
       "       cb_person_cred_hist_length  \n",
       "0                               3  \n",
       "1                               2  \n",
       "2                               3  \n",
       "3                               2  \n",
       "4                               4  \n",
       "...                           ...  \n",
       "32576                          30  \n",
       "32577                          19  \n",
       "32578                          28  \n",
       "32579                          26  \n",
       "32580                          30  \n",
       "\n",
       "[32581 rows x 12 columns]"
      ]
     },
     "execution_count": 142,
     "metadata": {},
     "output_type": "execute_result"
    }
   ],
   "source": [
    "credit_risk=pd.read_csv('credit_risk_dataset.csv')\n",
    "credit_risk"
   ]
  },
  {
   "cell_type": "code",
   "execution_count": 143,
   "metadata": {},
   "outputs": [
    {
     "data": {
      "text/plain": [
       "0    25473\n",
       "1     7108\n",
       "Name: loan_status, dtype: int64"
      ]
     },
     "execution_count": 143,
     "metadata": {},
     "output_type": "execute_result"
    }
   ],
   "source": [
    "credit_risk[\"loan_status\"].value_counts()"
   ]
  },
  {
   "cell_type": "markdown",
   "metadata": {},
   "source": [
    "#### NULL VALUES"
   ]
  },
  {
   "cell_type": "code",
   "execution_count": 144,
   "metadata": {},
   "outputs": [
    {
     "data": {
      "text/plain": [
       "person_age                       0\n",
       "person_income                    0\n",
       "person_home_ownership            0\n",
       "person_emp_length              895\n",
       "loan_intent                      0\n",
       "loan_grade                       0\n",
       "loan_amnt                        0\n",
       "loan_int_rate                 3116\n",
       "loan_status                      0\n",
       "loan_percent_income              0\n",
       "cb_person_default_on_file        0\n",
       "cb_person_cred_hist_length       0\n",
       "dtype: int64"
      ]
     },
     "execution_count": 144,
     "metadata": {},
     "output_type": "execute_result"
    }
   ],
   "source": [
    "credit_risk.isnull().sum()"
   ]
  },
  {
   "cell_type": "code",
   "execution_count": 145,
   "metadata": {},
   "outputs": [
    {
     "data": {
      "text/plain": [
       "person_age                    0\n",
       "person_income                 0\n",
       "person_home_ownership         0\n",
       "person_emp_length             0\n",
       "loan_intent                   0\n",
       "loan_grade                    0\n",
       "loan_amnt                     0\n",
       "loan_int_rate                 0\n",
       "loan_status                   0\n",
       "loan_percent_income           0\n",
       "cb_person_default_on_file     0\n",
       "cb_person_cred_hist_length    0\n",
       "dtype: int64"
      ]
     },
     "execution_count": 145,
     "metadata": {},
     "output_type": "execute_result"
    }
   ],
   "source": [
    "credit_risk=credit_risk.dropna(how='any',axis=0)\n",
    "credit_risk.isnull().sum()"
   ]
  },
  {
   "cell_type": "markdown",
   "metadata": {},
   "source": [
    "# TARGET IS loan_status\n",
    "* We want to predict if someone will default (1) or not (0)\n",
    "* We are dealing with a binary classification problem\n"
   ]
  },
  {
   "cell_type": "code",
   "execution_count": 146,
   "metadata": {},
   "outputs": [],
   "source": [
    "# credit_risk[\"loan_status\"]=np.where(credit_risk.loc[:,[\"loan_status\"]]==1,\"DENY\",\"APPROVE\")"
   ]
  },
  {
   "cell_type": "code",
   "execution_count": 147,
   "metadata": {
    "scrolled": true
   },
   "outputs": [
    {
     "name": "stderr",
     "output_type": "stream",
     "text": [
      "<ipython-input-147-e4c21ee85ba3>:1: SettingWithCopyWarning: \n",
      "A value is trying to be set on a copy of a slice from a DataFrame.\n",
      "Try using .loc[row_indexer,col_indexer] = value instead\n",
      "\n",
      "See the caveats in the documentation: https://pandas.pydata.org/pandas-docs/stable/user_guide/indexing.html#returning-a-view-versus-a-copy\n",
      "  credit_risk[\"loan_status\"] = np.where(credit_risk.loc[:,[\"loan_status\"]]==1,\"DENY\",\"APPROVE\")\n"
     ]
    },
    {
     "data": {
      "text/plain": [
       "APPROVE    22435\n",
       "DENY        6203\n",
       "Name: loan_status, dtype: int64"
      ]
     },
     "execution_count": 147,
     "metadata": {},
     "output_type": "execute_result"
    }
   ],
   "source": [
    "credit_risk[\"loan_status\"] = np.where(credit_risk.loc[:,[\"loan_status\"]]==1,\"DENY\",\"APPROVE\")\n",
    "credit_risk[\"loan_status\"].value_counts()"
   ]
  },
  {
   "cell_type": "code",
   "execution_count": 148,
   "metadata": {},
   "outputs": [
    {
     "data": {
      "text/plain": [
       "0"
      ]
     },
     "execution_count": 148,
     "metadata": {},
     "output_type": "execute_result"
    }
   ],
   "source": [
    "credit_risk['loan_status'].isnull().sum()"
   ]
  },
  {
   "cell_type": "markdown",
   "metadata": {},
   "source": [
    "# INVESTIGATING"
   ]
  },
  {
   "cell_type": "code",
   "execution_count": 149,
   "metadata": {},
   "outputs": [
    {
     "data": {
      "text/plain": [
       "person_age                      int64\n",
       "person_income                   int64\n",
       "person_home_ownership          object\n",
       "person_emp_length             float64\n",
       "loan_intent                    object\n",
       "loan_grade                     object\n",
       "loan_amnt                       int64\n",
       "loan_int_rate                 float64\n",
       "loan_status                    object\n",
       "loan_percent_income           float64\n",
       "cb_person_default_on_file      object\n",
       "cb_person_cred_hist_length      int64\n",
       "dtype: object"
      ]
     },
     "execution_count": 149,
     "metadata": {},
     "output_type": "execute_result"
    }
   ],
   "source": [
    "credit_risk.dtypes"
   ]
  },
  {
   "cell_type": "markdown",
   "metadata": {},
   "source": [
    "### Investigating the numerical variables"
   ]
  },
  {
   "cell_type": "code",
   "execution_count": 150,
   "metadata": {},
   "outputs": [
    {
     "data": {
      "text/html": [
       "<div>\n",
       "<style scoped>\n",
       "    .dataframe tbody tr th:only-of-type {\n",
       "        vertical-align: middle;\n",
       "    }\n",
       "\n",
       "    .dataframe tbody tr th {\n",
       "        vertical-align: top;\n",
       "    }\n",
       "\n",
       "    .dataframe thead th {\n",
       "        text-align: right;\n",
       "    }\n",
       "</style>\n",
       "<table border=\"1\" class=\"dataframe\">\n",
       "  <thead>\n",
       "    <tr style=\"text-align: right;\">\n",
       "      <th></th>\n",
       "      <th>person_age</th>\n",
       "      <th>person_income</th>\n",
       "      <th>person_emp_length</th>\n",
       "      <th>loan_amnt</th>\n",
       "      <th>loan_int_rate</th>\n",
       "      <th>loan_percent_income</th>\n",
       "      <th>cb_person_cred_hist_length</th>\n",
       "    </tr>\n",
       "  </thead>\n",
       "  <tbody>\n",
       "    <tr>\n",
       "      <th>count</th>\n",
       "      <td>28638.000000</td>\n",
       "      <td>2.863800e+04</td>\n",
       "      <td>28638.000000</td>\n",
       "      <td>28638.000000</td>\n",
       "      <td>28638.000000</td>\n",
       "      <td>28638.000000</td>\n",
       "      <td>28638.000000</td>\n",
       "    </tr>\n",
       "    <tr>\n",
       "      <th>mean</th>\n",
       "      <td>27.727216</td>\n",
       "      <td>6.664937e+04</td>\n",
       "      <td>4.788672</td>\n",
       "      <td>9656.493121</td>\n",
       "      <td>11.039867</td>\n",
       "      <td>0.169488</td>\n",
       "      <td>5.793736</td>\n",
       "    </tr>\n",
       "    <tr>\n",
       "      <th>std</th>\n",
       "      <td>6.310441</td>\n",
       "      <td>6.235645e+04</td>\n",
       "      <td>4.154627</td>\n",
       "      <td>6329.683361</td>\n",
       "      <td>3.229372</td>\n",
       "      <td>0.106393</td>\n",
       "      <td>4.038483</td>\n",
       "    </tr>\n",
       "    <tr>\n",
       "      <th>min</th>\n",
       "      <td>20.000000</td>\n",
       "      <td>4.000000e+03</td>\n",
       "      <td>0.000000</td>\n",
       "      <td>500.000000</td>\n",
       "      <td>5.420000</td>\n",
       "      <td>0.000000</td>\n",
       "      <td>2.000000</td>\n",
       "    </tr>\n",
       "    <tr>\n",
       "      <th>25%</th>\n",
       "      <td>23.000000</td>\n",
       "      <td>3.948000e+04</td>\n",
       "      <td>2.000000</td>\n",
       "      <td>5000.000000</td>\n",
       "      <td>7.900000</td>\n",
       "      <td>0.090000</td>\n",
       "      <td>3.000000</td>\n",
       "    </tr>\n",
       "    <tr>\n",
       "      <th>50%</th>\n",
       "      <td>26.000000</td>\n",
       "      <td>5.595600e+04</td>\n",
       "      <td>4.000000</td>\n",
       "      <td>8000.000000</td>\n",
       "      <td>10.990000</td>\n",
       "      <td>0.150000</td>\n",
       "      <td>4.000000</td>\n",
       "    </tr>\n",
       "    <tr>\n",
       "      <th>75%</th>\n",
       "      <td>30.000000</td>\n",
       "      <td>8.000000e+04</td>\n",
       "      <td>7.000000</td>\n",
       "      <td>12500.000000</td>\n",
       "      <td>13.480000</td>\n",
       "      <td>0.230000</td>\n",
       "      <td>8.000000</td>\n",
       "    </tr>\n",
       "    <tr>\n",
       "      <th>max</th>\n",
       "      <td>144.000000</td>\n",
       "      <td>6.000000e+06</td>\n",
       "      <td>123.000000</td>\n",
       "      <td>35000.000000</td>\n",
       "      <td>23.220000</td>\n",
       "      <td>0.830000</td>\n",
       "      <td>30.000000</td>\n",
       "    </tr>\n",
       "  </tbody>\n",
       "</table>\n",
       "</div>"
      ],
      "text/plain": [
       "         person_age  person_income  person_emp_length     loan_amnt  \\\n",
       "count  28638.000000   2.863800e+04       28638.000000  28638.000000   \n",
       "mean      27.727216   6.664937e+04           4.788672   9656.493121   \n",
       "std        6.310441   6.235645e+04           4.154627   6329.683361   \n",
       "min       20.000000   4.000000e+03           0.000000    500.000000   \n",
       "25%       23.000000   3.948000e+04           2.000000   5000.000000   \n",
       "50%       26.000000   5.595600e+04           4.000000   8000.000000   \n",
       "75%       30.000000   8.000000e+04           7.000000  12500.000000   \n",
       "max      144.000000   6.000000e+06         123.000000  35000.000000   \n",
       "\n",
       "       loan_int_rate  loan_percent_income  cb_person_cred_hist_length  \n",
       "count   28638.000000         28638.000000                28638.000000  \n",
       "mean       11.039867             0.169488                    5.793736  \n",
       "std         3.229372             0.106393                    4.038483  \n",
       "min         5.420000             0.000000                    2.000000  \n",
       "25%         7.900000             0.090000                    3.000000  \n",
       "50%        10.990000             0.150000                    4.000000  \n",
       "75%        13.480000             0.230000                    8.000000  \n",
       "max        23.220000             0.830000                   30.000000  "
      ]
     },
     "execution_count": 150,
     "metadata": {},
     "output_type": "execute_result"
    }
   ],
   "source": [
    "credit_risk.describe()"
   ]
  },
  {
   "cell_type": "code",
   "execution_count": 151,
   "metadata": {},
   "outputs": [],
   "source": [
    "# TO BE NOTES\n",
    "# AGE 144 LOOKS SUSPICOUS"
   ]
  },
  {
   "cell_type": "markdown",
   "metadata": {},
   "source": [
    "### Multicollinearity"
   ]
  },
  {
   "cell_type": "code",
   "execution_count": 152,
   "metadata": {},
   "outputs": [
    {
     "data": {
      "image/png": "[encoded data removed]",
      "text/plain": [
       "<Figure size 720x576 with 2 Axes>"
      ]
     },
     "metadata": {
      "needs_background": "light"
     },
     "output_type": "display_data"
    }
   ],
   "source": [
    "# Checking for multicollinearity\n",
    "plt.figure(figsize=(10, 8))\n",
    "ax = sns.heatmap(credit_risk.corr(), annot=True)\n",
    "plt.show()"
   ]
  },
  {
   "cell_type": "code",
   "execution_count": 153,
   "metadata": {},
   "outputs": [
    {
     "name": "stderr",
     "output_type": "stream",
     "text": [
      "C:\\Users\\april\\anaconda3\\lib\\site-packages\\pandas\\core\\frame.py:3990: SettingWithCopyWarning: \n",
      "A value is trying to be set on a copy of a slice from a DataFrame\n",
      "\n",
      "See the caveats in the documentation: https://pandas.pydata.org/pandas-docs/stable/user_guide/indexing.html#returning-a-view-versus-a-copy\n",
      "  return super().drop(\n"
     ]
    }
   ],
   "source": [
    "# Correlation with cb_person_cred_hist_length and age is annoyingly high.\n",
    "# I'll get rid of cb_person_cred_hist_length to avoid multi colinarity \n",
    "credit_risk.drop(columns=\"cb_person_cred_hist_length\",inplace=True)"
   ]
  },
  {
   "cell_type": "markdown",
   "metadata": {},
   "source": [
    "### DISTRIBUTION\n",
    "taking care of distribution of numerical variables and feeding ne distributions into analysis datafram \"df_norm\""
   ]
  },
  {
   "cell_type": "code",
   "execution_count": 154,
   "metadata": {},
   "outputs": [
    {
     "data": {
      "text/html": [
       "<div>\n",
       "<style scoped>\n",
       "    .dataframe tbody tr th:only-of-type {\n",
       "        vertical-align: middle;\n",
       "    }\n",
       "\n",
       "    .dataframe tbody tr th {\n",
       "        vertical-align: top;\n",
       "    }\n",
       "\n",
       "    .dataframe thead th {\n",
       "        text-align: right;\n",
       "    }\n",
       "</style>\n",
       "<table border=\"1\" class=\"dataframe\">\n",
       "  <thead>\n",
       "    <tr style=\"text-align: right;\">\n",
       "      <th></th>\n",
       "      <th>person_age</th>\n",
       "      <th>person_income</th>\n",
       "      <th>person_home_ownership</th>\n",
       "      <th>person_emp_length</th>\n",
       "      <th>loan_intent</th>\n",
       "      <th>loan_grade</th>\n",
       "      <th>loan_amnt</th>\n",
       "      <th>loan_int_rate</th>\n",
       "      <th>loan_status</th>\n",
       "      <th>loan_percent_income</th>\n",
       "      <th>cb_person_default_on_file</th>\n",
       "    </tr>\n",
       "  </thead>\n",
       "  <tbody>\n",
       "    <tr>\n",
       "      <th>0</th>\n",
       "      <td>22</td>\n",
       "      <td>59000</td>\n",
       "      <td>RENT</td>\n",
       "      <td>123.0</td>\n",
       "      <td>PERSONAL</td>\n",
       "      <td>D</td>\n",
       "      <td>35000</td>\n",
       "      <td>16.02</td>\n",
       "      <td>DENY</td>\n",
       "      <td>0.59</td>\n",
       "      <td>Y</td>\n",
       "    </tr>\n",
       "    <tr>\n",
       "      <th>1</th>\n",
       "      <td>21</td>\n",
       "      <td>9600</td>\n",
       "      <td>OWN</td>\n",
       "      <td>5.0</td>\n",
       "      <td>EDUCATION</td>\n",
       "      <td>B</td>\n",
       "      <td>1000</td>\n",
       "      <td>11.14</td>\n",
       "      <td>APPROVE</td>\n",
       "      <td>0.10</td>\n",
       "      <td>N</td>\n",
       "    </tr>\n",
       "    <tr>\n",
       "      <th>2</th>\n",
       "      <td>25</td>\n",
       "      <td>9600</td>\n",
       "      <td>MORTGAGE</td>\n",
       "      <td>1.0</td>\n",
       "      <td>MEDICAL</td>\n",
       "      <td>C</td>\n",
       "      <td>5500</td>\n",
       "      <td>12.87</td>\n",
       "      <td>DENY</td>\n",
       "      <td>0.57</td>\n",
       "      <td>N</td>\n",
       "    </tr>\n",
       "    <tr>\n",
       "      <th>3</th>\n",
       "      <td>23</td>\n",
       "      <td>65500</td>\n",
       "      <td>RENT</td>\n",
       "      <td>4.0</td>\n",
       "      <td>MEDICAL</td>\n",
       "      <td>C</td>\n",
       "      <td>35000</td>\n",
       "      <td>15.23</td>\n",
       "      <td>DENY</td>\n",
       "      <td>0.53</td>\n",
       "      <td>N</td>\n",
       "    </tr>\n",
       "    <tr>\n",
       "      <th>4</th>\n",
       "      <td>24</td>\n",
       "      <td>54400</td>\n",
       "      <td>RENT</td>\n",
       "      <td>8.0</td>\n",
       "      <td>MEDICAL</td>\n",
       "      <td>C</td>\n",
       "      <td>35000</td>\n",
       "      <td>14.27</td>\n",
       "      <td>DENY</td>\n",
       "      <td>0.55</td>\n",
       "      <td>Y</td>\n",
       "    </tr>\n",
       "  </tbody>\n",
       "</table>\n",
       "</div>"
      ],
      "text/plain": [
       "   person_age  person_income person_home_ownership  person_emp_length  \\\n",
       "0          22          59000                  RENT              123.0   \n",
       "1          21           9600                   OWN                5.0   \n",
       "2          25           9600              MORTGAGE                1.0   \n",
       "3          23          65500                  RENT                4.0   \n",
       "4          24          54400                  RENT                8.0   \n",
       "\n",
       "  loan_intent loan_grade  loan_amnt  loan_int_rate loan_status  \\\n",
       "0    PERSONAL          D      35000          16.02        DENY   \n",
       "1   EDUCATION          B       1000          11.14     APPROVE   \n",
       "2     MEDICAL          C       5500          12.87        DENY   \n",
       "3     MEDICAL          C      35000          15.23        DENY   \n",
       "4     MEDICAL          C      35000          14.27        DENY   \n",
       "\n",
       "   loan_percent_income cb_person_default_on_file  \n",
       "0                 0.59                         Y  \n",
       "1                 0.10                         N  \n",
       "2                 0.57                         N  \n",
       "3                 0.53                         N  \n",
       "4                 0.55                         Y  "
      ]
     },
     "execution_count": 154,
     "metadata": {},
     "output_type": "execute_result"
    }
   ],
   "source": [
    "df_norm=credit_risk\n",
    "df_norm.head()"
   ]
  },
  {
   "cell_type": "markdown",
   "metadata": {},
   "source": [
    "#### person_age"
   ]
  },
  {
   "cell_type": "code",
   "execution_count": 155,
   "metadata": {},
   "outputs": [
    {
     "name": "stdout",
     "output_type": "stream",
     "text": [
      "DescribeResult(nobs=28638, minmax=(20, 144), mean=27.727215587680703, variance=39.821664565805136, skewness=2.5647289679115506, kurtosis=18.71526930783637)\n"
     ]
    },
    {
     "data": {
      "text/plain": [
       "<matplotlib.axes._subplots.AxesSubplot at 0x1feef373c10>"
      ]
     },
     "execution_count": 155,
     "metadata": {},
     "output_type": "execute_result"
    },
    {
     "data": {
      "image/png": "[encoded data removed]",
      "text/plain": [
       "<Figure size 1800x432 with 1 Axes>"
      ]
     },
     "metadata": {
      "needs_background": "light"
     },
     "output_type": "display_data"
    }
   ],
   "source": [
    "# AGE\n",
    "#age 144 looked suspicous, but there is more\n",
    "print(stats.describe(df_norm.person_age))\n",
    "sns.boxplot(x=df_norm.person_age)"
   ]
  },
  {
   "cell_type": "code",
   "execution_count": 156,
   "metadata": {},
   "outputs": [
    {
     "name": "stdout",
     "output_type": "stream",
     "text": [
      "DescribeResult(nobs=28638, minmax=(0.41378387686969476, 0.4140799643130171), mean=0.41392553032725304, variance=3.583617084780445e-09, skewness=0.15487746701618882, kurtosis=-0.8817414276372864)\n"
     ]
    },
    {
     "data": {
      "image/png": "[encoded data removed]",
      "text/plain": [
       "<Figure size 1800x432 with 1 Axes>"
      ]
     },
     "metadata": {
      "needs_background": "light"
     },
     "output_type": "display_data"
    }
   ],
   "source": [
    "#boxcox array\n",
    "age_array, lmbda = stats.boxcox(df_norm.person_age)\n",
    "sns.boxplot(x=age_array)\n",
    "print(stats.describe(age_array))\n",
    "\n"
   ]
  },
  {
   "cell_type": "code",
   "execution_count": 157,
   "metadata": {},
   "outputs": [
    {
     "name": "stderr",
     "output_type": "stream",
     "text": [
      "C:\\Users\\april\\anaconda3\\lib\\site-packages\\pandas\\core\\indexing.py:966: SettingWithCopyWarning: \n",
      "A value is trying to be set on a copy of a slice from a DataFrame.\n",
      "Try using .loc[row_indexer,col_indexer] = value instead\n",
      "\n",
      "See the caveats in the documentation: https://pandas.pydata.org/pandas-docs/stable/user_guide/indexing.html#returning-a-view-versus-a-copy\n",
      "  self.obj[item] = s\n"
     ]
    }
   ],
   "source": [
    "# feeding boxcox array to dataframe\n",
    "df_norm.loc[:,[\"person_age\"]]=age_array"
   ]
  },
  {
   "cell_type": "markdown",
   "metadata": {},
   "source": [
    "#### person_income"
   ]
  },
  {
   "cell_type": "code",
   "execution_count": 158,
   "metadata": {},
   "outputs": [
    {
     "name": "stdout",
     "output_type": "stream",
     "text": [
      "DescribeResult(nobs=28638, minmax=(4000, 6000000), mean=66649.37188351141, variance=3888326532.9361815, skewness=35.188780249995624, kurtosis=2955.548413444316)\n"
     ]
    },
    {
     "data": {
      "text/plain": [
       "<matplotlib.axes._subplots.AxesSubplot at 0x1feeeddd7f0>"
      ]
     },
     "execution_count": 158,
     "metadata": {},
     "output_type": "execute_result"
    },
    {
     "data": {
      "image/png": "[encoded data removed]",
      "text/plain": [
       "<Figure size 1800x432 with 1 Axes>"
      ]
     },
     "metadata": {
      "needs_background": "light"
     },
     "output_type": "display_data"
    }
   ],
   "source": [
    "print(stats.describe(df_norm.person_income))\n",
    "sns.boxplot(x=df_norm.person_income)"
   ]
  },
  {
   "cell_type": "code",
   "execution_count": 159,
   "metadata": {},
   "outputs": [
    {
     "name": "stdout",
     "output_type": "stream",
     "text": [
      "DescribeResult(nobs=28638, minmax=(6.012530313700186, 8.791380310871112), mean=7.20867942826867, variance=0.05136271652532924, skewness=-0.01555582268167787, kurtosis=0.9879525089019747)\n"
     ]
    },
    {
     "data": {
      "image/png": "[encoded data removed]",
      "text/plain": [
       "<Figure size 1800x432 with 1 Axes>"
      ]
     },
     "metadata": {
      "needs_background": "light"
     },
     "output_type": "display_data"
    }
   ],
   "source": [
    "#boxcox array\n",
    "income_array, lmbda = stats.boxcox(df_norm.person_income)\n",
    "print(stats.describe(income_array))\n",
    "\n",
    "sns.boxplot(x=income_array)\n",
    "plt.show()"
   ]
  },
  {
   "cell_type": "code",
   "execution_count": 160,
   "metadata": {},
   "outputs": [
    {
     "name": "stderr",
     "output_type": "stream",
     "text": [
      "C:\\Users\\april\\anaconda3\\lib\\site-packages\\pandas\\core\\indexing.py:966: SettingWithCopyWarning: \n",
      "A value is trying to be set on a copy of a slice from a DataFrame.\n",
      "Try using .loc[row_indexer,col_indexer] = value instead\n",
      "\n",
      "See the caveats in the documentation: https://pandas.pydata.org/pandas-docs/stable/user_guide/indexing.html#returning-a-view-versus-a-copy\n",
      "  self.obj[item] = s\n"
     ]
    }
   ],
   "source": [
    "# feeding boxcox array to dataframe\n",
    "df_norm.loc[:,['person_income']]=income_array"
   ]
  },
  {
   "cell_type": "code",
   "execution_count": 161,
   "metadata": {},
   "outputs": [],
   "source": [
    "#OUTLIERS\n",
    "iqr = np.percentile(df_norm['person_income'],75) - np.percentile(df_norm['person_income'],25)\n",
    "upper_limit = np.percentile(df_norm['person_income'],75) + 1.5*iqr \n",
    "lower_limit = np.percentile(df_norm['person_income'],25) - 1.5*iqr\n",
    "\n",
    "df_norm.loc[:,['person_income']] = df_norm['person_income'][(df_norm['person_income']>lower_limit) & (df_norm['person_income']<upper_limit)]"
   ]
  },
  {
   "cell_type": "code",
   "execution_count": 162,
   "metadata": {
    "scrolled": true
   },
   "outputs": [
    {
     "data": {
      "text/plain": [
       "512"
      ]
     },
     "execution_count": 162,
     "metadata": {},
     "output_type": "execute_result"
    }
   ],
   "source": [
    "#nan values were created.lets drop them\n",
    "df_norm[\"person_income\"].isnull().sum()"
   ]
  },
  {
   "cell_type": "code",
   "execution_count": 163,
   "metadata": {},
   "outputs": [],
   "source": [
    "df_norm=df_norm.dropna(how='any',axis=0)"
   ]
  },
  {
   "cell_type": "code",
   "execution_count": 109,
   "metadata": {},
   "outputs": [
    {
     "data": {
      "text/plain": [
       "(28126, 11)"
      ]
     },
     "execution_count": 109,
     "metadata": {},
     "output_type": "execute_result"
    }
   ],
   "source": [
    "df_norm.shape"
   ]
  },
  {
   "cell_type": "code",
   "execution_count": 84,
   "metadata": {},
   "outputs": [
    {
     "name": "stdout",
     "output_type": "stream",
     "text": [
      "DescribeResult(nobs=28126, minmax=(6.63969226109463, 7.784927031505826), mean=7.210428016809628, variance=0.043118098323103336, skewness=-0.015559362208562738, kurtosis=-0.21557560515766205)\n"
     ]
    },
    {
     "data": {
      "image/png": "[encoded data removed]",
      "text/plain": [
       "<Figure size 1800x432 with 1 Axes>"
      ]
     },
     "metadata": {
      "needs_background": "light"
     },
     "output_type": "display_data"
    }
   ],
   "source": [
    "\n",
    "print(stats.describe(df_norm['person_income']))\n",
    "\n",
    "sns.boxplot(x=df_norm['person_income'])\n",
    "plt.show()"
   ]
  },
  {
   "cell_type": "markdown",
   "metadata": {},
   "source": [
    "#### loan_amnt"
   ]
  },
  {
   "cell_type": "code",
   "execution_count": 164,
   "metadata": {},
   "outputs": [
    {
     "name": "stdout",
     "output_type": "stream",
     "text": [
      "DescribeResult(nobs=28126, minmax=(500, 35000), mean=9662.332894830406, variance=39174887.38318598, skewness=1.1621815397547683, kurtosis=1.3265639718039246)\n"
     ]
    },
    {
     "data": {
      "image/png": "[encoded data removed]",
      "text/plain": [
       "<Figure size 1800x432 with 1 Axes>"
      ]
     },
     "metadata": {
      "needs_background": "light"
     },
     "output_type": "display_data"
    }
   ],
   "source": [
    "sns.boxplot(df_norm.loan_amnt)\n",
    "print(stats.describe(df_norm.loan_amnt))\n",
    "\n",
    "plt.show()"
   ]
  },
  {
   "cell_type": "code",
   "execution_count": 165,
   "metadata": {},
   "outputs": [
    {
     "name": "stdout",
     "output_type": "stream",
     "text": [
      "DescribeResult(nobs=28126, minmax=(14.490938203152691, 48.04042495783807), mean=32.58286633853099, variance=36.34454314504282, skewness=-0.020953493367834433, kurtosis=-0.3627510050948164)\n"
     ]
    },
    {
     "data": {
      "image/png": "[encoded data removed]",
      "text/plain": [
       "<Figure size 1800x432 with 1 Axes>"
      ]
     },
     "metadata": {
      "needs_background": "light"
     },
     "output_type": "display_data"
    }
   ],
   "source": [
    "# boxcox loan_amnt\n",
    "loan_amnt_array, lmbda = stats.boxcox(df_norm.loan_amnt)\n",
    "print(stats.describe(loan_amnt_array))\n",
    "sns.boxplot(loan_amnt_array)\n",
    "plt.show()"
   ]
  },
  {
   "cell_type": "code",
   "execution_count": 166,
   "metadata": {},
   "outputs": [
    {
     "name": "stderr",
     "output_type": "stream",
     "text": [
      "<ipython-input-166-f6fb1001135a>:3: SettingWithCopyWarning: \n",
      "A value is trying to be set on a copy of a slice from a DataFrame.\n",
      "Try using .loc[row_indexer,col_indexer] = value instead\n",
      "\n",
      "See the caveats in the documentation: https://pandas.pydata.org/pandas-docs/stable/user_guide/indexing.html#returning-a-view-versus-a-copy\n",
      "  df_norm['loan_amnt']=loan_amnt_array\n"
     ]
    }
   ],
   "source": [
    "# feeding boxcox array to dataframe\n",
    "\n",
    "df_norm['loan_amnt']=loan_amnt_array"
   ]
  },
  {
   "cell_type": "markdown",
   "metadata": {},
   "source": [
    "#### loan_int_rate"
   ]
  },
  {
   "cell_type": "code",
   "execution_count": 167,
   "metadata": {},
   "outputs": [
    {
     "name": "stdout",
     "output_type": "stream",
     "text": [
      "DescribeResult(nobs=28126, minmax=(5.42, 23.22), mean=11.027606485102753, variance=10.420094836216075, skewness=0.2048498571810015, kurtosis=-0.6629540013322761)\n"
     ]
    },
    {
     "data": {
      "image/png": "[encoded data removed]",
      "text/plain": [
       "<Figure size 1800x432 with 1 Axes>"
      ]
     },
     "metadata": {
      "needs_background": "light"
     },
     "output_type": "display_data"
    }
   ],
   "source": [
    "print(stats.describe(df_norm.loan_int_rate))\n",
    "sns.boxplot(df_norm.loan_int_rate)\n",
    "plt.show()"
   ]
  },
  {
   "cell_type": "code",
   "execution_count": 168,
   "metadata": {},
   "outputs": [
    {
     "name": "stdout",
     "output_type": "stream",
     "text": [
      "DescribeResult(nobs=28126, minmax=(2.730828013005394, 8.08366440293936), mean=4.763551588255308, variance=1.108973980603216, skewness=-0.047425469069087685, kurtosis=-0.8320583308111886)\n"
     ]
    },
    {
     "data": {
      "image/png": "[encoded data removed]",
      "text/plain": [
       "<Figure size 1800x432 with 1 Axes>"
      ]
     },
     "metadata": {
      "needs_background": "light"
     },
     "output_type": "display_data"
    }
   ],
   "source": [
    "#BOXCOX WITH AWFULL RESULT\n",
    "loan_int_rate_array, lmbda = stats.boxcox(df_norm.loan_int_rate)\n",
    "print(stats.describe(loan_int_rate_array))\n",
    "sns.boxplot(loan_int_rate_array)\n",
    "plt.show()"
   ]
  },
  {
   "cell_type": "code",
   "execution_count": 169,
   "metadata": {},
   "outputs": [
    {
     "name": "stderr",
     "output_type": "stream",
     "text": [
      "C:\\Users\\april\\anaconda3\\lib\\site-packages\\pandas\\core\\generic.py:5303: SettingWithCopyWarning: \n",
      "A value is trying to be set on a copy of a slice from a DataFrame.\n",
      "Try using .loc[row_indexer,col_indexer] = value instead\n",
      "\n",
      "See the caveats in the documentation: https://pandas.pydata.org/pandas-docs/stable/user_guide/indexing.html#returning-a-view-versus-a-copy\n",
      "  self[name] = value\n"
     ]
    }
   ],
   "source": [
    "df_norm.loan_int_rate=loan_int_rate_array"
   ]
  },
  {
   "cell_type": "markdown",
   "metadata": {},
   "source": [
    "#### loan_percent_income"
   ]
  },
  {
   "cell_type": "code",
   "execution_count": 170,
   "metadata": {},
   "outputs": [
    {
     "name": "stdout",
     "output_type": "stream",
     "text": [
      "DescribeResult(nobs=28126, minmax=(0.01, 0.83), mean=0.16920856147336982, variance=0.01104816293612079, skewness=1.0549705953493662, kurtosis=1.1859946713884897)\n"
     ]
    },
    {
     "data": {
      "image/png": "[encoded data removed]",
      "text/plain": [
       "<Figure size 1800x432 with 1 Axes>"
      ]
     },
     "metadata": {
      "needs_background": "light"
     },
     "output_type": "display_data"
    }
   ],
   "source": [
    "print(stats.describe(df_norm.loan_percent_income))\n",
    "sns.boxplot(df_norm.loan_percent_income)\n",
    "plt.show()"
   ]
  },
  {
   "cell_type": "code",
   "execution_count": 171,
   "metadata": {},
   "outputs": [
    {
     "name": "stdout",
     "output_type": "stream",
     "text": [
      "DescribeResult(nobs=28126, minmax=(-2.5030844447620857, -0.1812438148068888), mean=-1.4602938360552604, variance=0.1373822180154389, skewness=-0.02553593167712781, kurtosis=-0.3641440900388728)\n"
     ]
    },
    {
     "data": {
      "image/png": "[encoded data removed]",
      "text/plain": [
       "<Figure size 1800x432 with 1 Axes>"
      ]
     },
     "metadata": {
      "needs_background": "light"
     },
     "output_type": "display_data"
    }
   ],
   "source": [
    "loan_percent_income_array, lmbda = stats.boxcox(df_norm.loan_percent_income)\n",
    "print(stats.describe(loan_percent_income_array))\n",
    "sns.boxplot(loan_percent_income_array)\n",
    "plt.show()"
   ]
  },
  {
   "cell_type": "code",
   "execution_count": 172,
   "metadata": {},
   "outputs": [
    {
     "name": "stderr",
     "output_type": "stream",
     "text": [
      "C:\\Users\\april\\anaconda3\\lib\\site-packages\\pandas\\core\\generic.py:5303: SettingWithCopyWarning: \n",
      "A value is trying to be set on a copy of a slice from a DataFrame.\n",
      "Try using .loc[row_indexer,col_indexer] = value instead\n",
      "\n",
      "See the caveats in the documentation: https://pandas.pydata.org/pandas-docs/stable/user_guide/indexing.html#returning-a-view-versus-a-copy\n",
      "  self[name] = value\n"
     ]
    }
   ],
   "source": [
    "# feeding boxcox array to dataframe\n",
    "df_norm.loan_percent_income=loan_percent_income_array"
   ]
  },
  {
   "cell_type": "code",
   "execution_count": 173,
   "metadata": {},
   "outputs": [],
   "source": [
    "iqr = np.percentile(df_norm.loan_percent_income,75) - np.percentile(df_norm.loan_percent_income,25)\n",
    "upper_limit = np.percentile(df_norm.loan_percent_income,75) + 1.5*iqr \n",
    "lower_limit = np.percentile(df_norm.loan_percent_income,25) - 1.5*iqr\n",
    "df_norm.loan_percent_income = df_norm.loan_percent_income[(df_norm.loan_percent_income>lower_limit) & (df_norm.loan_percent_income<upper_limit)]\n"
   ]
  },
  {
   "cell_type": "code",
   "execution_count": 174,
   "metadata": {},
   "outputs": [
    {
     "name": "stdout",
     "output_type": "stream",
     "text": [
      "DescribeResult(nobs=28126, minmax=(nan, nan), mean=nan, variance=nan, skewness=nan, kurtosis=nan)\n"
     ]
    },
    {
     "data": {
      "image/png": "[encoded data removed]",
      "text/plain": [
       "<Figure size 1800x432 with 1 Axes>"
      ]
     },
     "metadata": {
      "needs_background": "light"
     },
     "output_type": "display_data"
    }
   ],
   "source": [
    "print(stats.describe(df_norm.loan_percent_income))\n",
    "sns.boxplot(df_norm.loan_percent_income)\n",
    "plt.show()"
   ]
  },
  {
   "cell_type": "code",
   "execution_count": 175,
   "metadata": {},
   "outputs": [
    {
     "data": {
      "text/plain": [
       "person_age                    0\n",
       "person_income                 0\n",
       "person_home_ownership         0\n",
       "person_emp_length             0\n",
       "loan_intent                   0\n",
       "loan_grade                    0\n",
       "loan_amnt                     0\n",
       "loan_int_rate                 0\n",
       "loan_status                   0\n",
       "loan_percent_income          17\n",
       "cb_person_default_on_file     0\n",
       "dtype: int64"
      ]
     },
     "execution_count": 175,
     "metadata": {},
     "output_type": "execute_result"
    }
   ],
   "source": [
    "#resulted in null values again\n",
    "df_norm.isnull().sum()"
   ]
  },
  {
   "cell_type": "code",
   "execution_count": 176,
   "metadata": {},
   "outputs": [],
   "source": [
    "df_norm=df_norm.dropna(how='any',axis=0)"
   ]
  },
  {
   "cell_type": "markdown",
   "metadata": {},
   "source": [
    "#### person_emp_length\n",
    "employment lenght"
   ]
  },
  {
   "cell_type": "code",
   "execution_count": 177,
   "metadata": {},
   "outputs": [
    {
     "name": "stdout",
     "output_type": "stream",
     "text": [
      "DescribeResult(nobs=28109, minmax=(0.0, 123.0), mean=4.799352520545021, variance=17.198105458085738, skewness=2.787637650176403, kurtosis=48.82360230190498)\n"
     ]
    },
    {
     "data": {
      "image/png": "[encoded data removed]",
      "text/plain": [
       "<Figure size 1800x432 with 1 Axes>"
      ]
     },
     "metadata": {
      "needs_background": "light"
     },
     "output_type": "display_data"
    }
   ],
   "source": [
    "print(stats.describe(df_norm.person_emp_length))\n",
    "sns.boxplot(df_norm.person_emp_length)\n",
    "plt.show()"
   ]
  },
  {
   "cell_type": "code",
   "execution_count": null,
   "metadata": {},
   "outputs": [],
   "source": [
    "\"\"\"#boxcox\n",
    "df_norm.person_emp_length_array, lmbda = stats.boxcox(df_norm.person_emp_length)\n",
    "print(stats.describe(df_norm.person_emp_length_array))\n",
    "sns.boxplot(df_norm.person_emp_length_array)\n",
    "plt.show()\"\"\""
   ]
  },
  {
   "cell_type": "code",
   "execution_count": 178,
   "metadata": {},
   "outputs": [],
   "source": [
    "#percentile outliers\n",
    "\n",
    "iqr = np.percentile(df_norm.person_emp_length,75) - np.percentile(df_norm.person_emp_length,25)\n",
    "upper_limit = np.percentile(df_norm.person_emp_length,75) + 1.5*iqr \n",
    "lower_limit = np.percentile(df_norm.person_emp_length,25) - 1.5*iqr\n",
    "df_norm.person_emp_length = df_norm.person_emp_length[(df_norm.person_emp_length>lower_limit) & (df_norm.person_emp_length<upper_limit)]\n"
   ]
  },
  {
   "cell_type": "code",
   "execution_count": 179,
   "metadata": {},
   "outputs": [
    {
     "name": "stdout",
     "output_type": "stream",
     "text": [
      "DescribeResult(nobs=28109, minmax=(nan, nan), mean=nan, variance=nan, skewness=nan, kurtosis=nan)\n"
     ]
    },
    {
     "data": {
      "text/plain": [
       "<matplotlib.axes._subplots.AxesSubplot at 0x1feeeabe070>"
      ]
     },
     "execution_count": 179,
     "metadata": {},
     "output_type": "execute_result"
    },
    {
     "data": {
      "image/png": "[encoded data removed]",
      "text/plain": [
       "<Figure size 1800x432 with 1 Axes>"
      ]
     },
     "metadata": {
      "needs_background": "light"
     },
     "output_type": "display_data"
    }
   ],
   "source": [
    "print(stats.describe(df_norm.person_emp_length))\n",
    "sns.boxplot(df_norm.person_emp_length)"
   ]
  },
  {
   "cell_type": "code",
   "execution_count": 180,
   "metadata": {},
   "outputs": [
    {
     "data": {
      "text/plain": [
       "person_age                     0\n",
       "person_income                  0\n",
       "person_home_ownership          0\n",
       "person_emp_length            755\n",
       "loan_intent                    0\n",
       "loan_grade                     0\n",
       "loan_amnt                      0\n",
       "loan_int_rate                  0\n",
       "loan_status                    0\n",
       "loan_percent_income            0\n",
       "cb_person_default_on_file      0\n",
       "dtype: int64"
      ]
     },
     "execution_count": 180,
     "metadata": {},
     "output_type": "execute_result"
    }
   ],
   "source": [
    "df_norm.isnull().sum()"
   ]
  },
  {
   "cell_type": "code",
   "execution_count": 181,
   "metadata": {},
   "outputs": [],
   "source": [
    "df_norm=df_norm.dropna(how='any',axis=0)"
   ]
  },
  {
   "cell_type": "code",
   "execution_count": 182,
   "metadata": {},
   "outputs": [
    {
     "data": {
      "text/html": [
       "<div>\n",
       "<style scoped>\n",
       "    .dataframe tbody tr th:only-of-type {\n",
       "        vertical-align: middle;\n",
       "    }\n",
       "\n",
       "    .dataframe tbody tr th {\n",
       "        vertical-align: top;\n",
       "    }\n",
       "\n",
       "    .dataframe thead th {\n",
       "        text-align: right;\n",
       "    }\n",
       "</style>\n",
       "<table border=\"1\" class=\"dataframe\">\n",
       "  <thead>\n",
       "    <tr style=\"text-align: right;\">\n",
       "      <th></th>\n",
       "      <th>person_age</th>\n",
       "      <th>person_income</th>\n",
       "      <th>person_home_ownership</th>\n",
       "      <th>person_emp_length</th>\n",
       "      <th>loan_intent</th>\n",
       "      <th>loan_grade</th>\n",
       "      <th>loan_amnt</th>\n",
       "      <th>loan_int_rate</th>\n",
       "      <th>loan_status</th>\n",
       "      <th>loan_percent_income</th>\n",
       "      <th>cb_person_default_on_file</th>\n",
       "    </tr>\n",
       "  </thead>\n",
       "  <tbody>\n",
       "    <tr>\n",
       "      <th>3</th>\n",
       "      <td>0.413869</td>\n",
       "      <td>7.275371</td>\n",
       "      <td>RENT</td>\n",
       "      <td>4.0</td>\n",
       "      <td>MEDICAL</td>\n",
       "      <td>C</td>\n",
       "      <td>48.040425</td>\n",
       "      <td>6.089989</td>\n",
       "      <td>DENY</td>\n",
       "      <td>-0.578360</td>\n",
       "      <td>N</td>\n",
       "    </tr>\n",
       "    <tr>\n",
       "      <th>4</th>\n",
       "      <td>0.413890</td>\n",
       "      <td>7.200196</td>\n",
       "      <td>RENT</td>\n",
       "      <td>8.0</td>\n",
       "      <td>MEDICAL</td>\n",
       "      <td>C</td>\n",
       "      <td>48.040425</td>\n",
       "      <td>5.819926</td>\n",
       "      <td>DENY</td>\n",
       "      <td>-0.547542</td>\n",
       "      <td>Y</td>\n",
       "    </tr>\n",
       "    <tr>\n",
       "      <th>6</th>\n",
       "      <td>0.413924</td>\n",
       "      <td>7.340443</td>\n",
       "      <td>RENT</td>\n",
       "      <td>8.0</td>\n",
       "      <td>EDUCATION</td>\n",
       "      <td>B</td>\n",
       "      <td>48.040425</td>\n",
       "      <td>5.274115</td>\n",
       "      <td>DENY</td>\n",
       "      <td>-0.710495</td>\n",
       "      <td>N</td>\n",
       "    </tr>\n",
       "    <tr>\n",
       "      <th>7</th>\n",
       "      <td>0.413890</td>\n",
       "      <td>7.349864</td>\n",
       "      <td>RENT</td>\n",
       "      <td>5.0</td>\n",
       "      <td>MEDICAL</td>\n",
       "      <td>B</td>\n",
       "      <td>48.040425</td>\n",
       "      <td>4.864053</td>\n",
       "      <td>DENY</td>\n",
       "      <td>-0.728144</td>\n",
       "      <td>N</td>\n",
       "    </tr>\n",
       "    <tr>\n",
       "      <th>8</th>\n",
       "      <td>0.413890</td>\n",
       "      <td>7.369586</td>\n",
       "      <td>RENT</td>\n",
       "      <td>8.0</td>\n",
       "      <td>PERSONAL</td>\n",
       "      <td>A</td>\n",
       "      <td>48.040425</td>\n",
       "      <td>4.116576</td>\n",
       "      <td>DENY</td>\n",
       "      <td>-0.764304</td>\n",
       "      <td>N</td>\n",
       "    </tr>\n",
       "    <tr>\n",
       "      <th>...</th>\n",
       "      <td>...</td>\n",
       "      <td>...</td>\n",
       "      <td>...</td>\n",
       "      <td>...</td>\n",
       "      <td>...</td>\n",
       "      <td>...</td>\n",
       "      <td>...</td>\n",
       "      <td>...</td>\n",
       "      <td>...</td>\n",
       "      <td>...</td>\n",
       "      <td>...</td>\n",
       "    </tr>\n",
       "    <tr>\n",
       "      <th>32576</th>\n",
       "      <td>0.414059</td>\n",
       "      <td>7.189549</td>\n",
       "      <td>MORTGAGE</td>\n",
       "      <td>1.0</td>\n",
       "      <td>PERSONAL</td>\n",
       "      <td>C</td>\n",
       "      <td>29.607430</td>\n",
       "      <td>5.496752</td>\n",
       "      <td>APPROVE</td>\n",
       "      <td>-1.616753</td>\n",
       "      <td>N</td>\n",
       "    </tr>\n",
       "    <tr>\n",
       "      <th>32577</th>\n",
       "      <td>0.414055</td>\n",
       "      <td>7.512662</td>\n",
       "      <td>MORTGAGE</td>\n",
       "      <td>4.0</td>\n",
       "      <td>PERSONAL</td>\n",
       "      <td>A</td>\n",
       "      <td>40.044314</td>\n",
       "      <td>3.592939</td>\n",
       "      <td>APPROVE</td>\n",
       "      <td>-1.448578</td>\n",
       "      <td>N</td>\n",
       "    </tr>\n",
       "    <tr>\n",
       "      <th>32578</th>\n",
       "      <td>0.414065</td>\n",
       "      <td>7.334744</td>\n",
       "      <td>RENT</td>\n",
       "      <td>3.0</td>\n",
       "      <td>HOMEIMPROVEMENT</td>\n",
       "      <td>B</td>\n",
       "      <td>48.040425</td>\n",
       "      <td>4.825377</td>\n",
       "      <td>DENY</td>\n",
       "      <td>-0.693120</td>\n",
       "      <td>N</td>\n",
       "    </tr>\n",
       "    <tr>\n",
       "      <th>32579</th>\n",
       "      <td>0.414058</td>\n",
       "      <td>7.597182</td>\n",
       "      <td>MORTGAGE</td>\n",
       "      <td>5.0</td>\n",
       "      <td>PERSONAL</td>\n",
       "      <td>B</td>\n",
       "      <td>38.350036</td>\n",
       "      <td>4.982080</td>\n",
       "      <td>APPROVE</td>\n",
       "      <td>-1.665383</td>\n",
       "      <td>N</td>\n",
       "    </tr>\n",
       "    <tr>\n",
       "      <th>32580</th>\n",
       "      <td>0.414066</td>\n",
       "      <td>7.093532</td>\n",
       "      <td>RENT</td>\n",
       "      <td>2.0</td>\n",
       "      <td>MEDICAL</td>\n",
       "      <td>B</td>\n",
       "      <td>30.520249</td>\n",
       "      <td>4.494996</td>\n",
       "      <td>APPROVE</td>\n",
       "      <td>-1.448578</td>\n",
       "      <td>N</td>\n",
       "    </tr>\n",
       "  </tbody>\n",
       "</table>\n",
       "<p>27354 rows × 11 columns</p>\n",
       "</div>"
      ],
      "text/plain": [
       "       person_age  person_income person_home_ownership  person_emp_length  \\\n",
       "3        0.413869       7.275371                  RENT                4.0   \n",
       "4        0.413890       7.200196                  RENT                8.0   \n",
       "6        0.413924       7.340443                  RENT                8.0   \n",
       "7        0.413890       7.349864                  RENT                5.0   \n",
       "8        0.413890       7.369586                  RENT                8.0   \n",
       "...           ...            ...                   ...                ...   \n",
       "32576    0.414059       7.189549              MORTGAGE                1.0   \n",
       "32577    0.414055       7.512662              MORTGAGE                4.0   \n",
       "32578    0.414065       7.334744                  RENT                3.0   \n",
       "32579    0.414058       7.597182              MORTGAGE                5.0   \n",
       "32580    0.414066       7.093532                  RENT                2.0   \n",
       "\n",
       "           loan_intent loan_grade  loan_amnt  loan_int_rate loan_status  \\\n",
       "3              MEDICAL          C  48.040425       6.089989        DENY   \n",
       "4              MEDICAL          C  48.040425       5.819926        DENY   \n",
       "6            EDUCATION          B  48.040425       5.274115        DENY   \n",
       "7              MEDICAL          B  48.040425       4.864053        DENY   \n",
       "8             PERSONAL          A  48.040425       4.116576        DENY   \n",
       "...                ...        ...        ...            ...         ...   \n",
       "32576         PERSONAL          C  29.607430       5.496752     APPROVE   \n",
       "32577         PERSONAL          A  40.044314       3.592939     APPROVE   \n",
       "32578  HOMEIMPROVEMENT          B  48.040425       4.825377        DENY   \n",
       "32579         PERSONAL          B  38.350036       4.982080     APPROVE   \n",
       "32580          MEDICAL          B  30.520249       4.494996     APPROVE   \n",
       "\n",
       "       loan_percent_income cb_person_default_on_file  \n",
       "3                -0.578360                         N  \n",
       "4                -0.547542                         Y  \n",
       "6                -0.710495                         N  \n",
       "7                -0.728144                         N  \n",
       "8                -0.764304                         N  \n",
       "...                    ...                       ...  \n",
       "32576            -1.616753                         N  \n",
       "32577            -1.448578                         N  \n",
       "32578            -0.693120                         N  \n",
       "32579            -1.665383                         N  \n",
       "32580            -1.448578                         N  \n",
       "\n",
       "[27354 rows x 11 columns]"
      ]
     },
     "execution_count": 182,
     "metadata": {},
     "output_type": "execute_result"
    }
   ],
   "source": [
    "df_norm"
   ]
  },
  {
   "cell_type": "code",
   "execution_count": 183,
   "metadata": {},
   "outputs": [
    {
     "data": {
      "text/plain": [
       "count    27354.000000\n",
       "mean        32.552362\n",
       "std          6.021182\n",
       "min         14.490938\n",
       "25%         28.414757\n",
       "50%         32.343734\n",
       "75%         36.373989\n",
       "max         48.040425\n",
       "Name: loan_amnt, dtype: float64"
      ]
     },
     "execution_count": 183,
     "metadata": {},
     "output_type": "execute_result"
    }
   ],
   "source": [
    "df_norm.loan_amnt.describe()"
   ]
  },
  {
   "cell_type": "markdown",
   "metadata": {},
   "source": [
    "## STANDARDIZE"
   ]
  },
  {
   "cell_type": "code",
   "execution_count": 184,
   "metadata": {},
   "outputs": [
    {
     "data": {
      "text/plain": [
       "person_age                   0\n",
       "person_income                0\n",
       "person_home_ownership        0\n",
       "person_emp_length            0\n",
       "loan_intent                  0\n",
       "loan_grade                   0\n",
       "loan_amnt                    0\n",
       "loan_int_rate                0\n",
       "loan_status                  0\n",
       "loan_percent_income          0\n",
       "cb_person_default_on_file    0\n",
       "dtype: int64"
      ]
     },
     "execution_count": 184,
     "metadata": {},
     "output_type": "execute_result"
    }
   ],
   "source": [
    "df_norm.isnull().sum()"
   ]
  },
  {
   "cell_type": "code",
   "execution_count": 186,
   "metadata": {},
   "outputs": [
    {
     "data": {
      "text/plain": [
       "'Before standardization:\\n '"
      ]
     },
     "metadata": {},
     "output_type": "display_data"
    },
    {
     "data": {
      "text/html": [
       "<div>\n",
       "<style scoped>\n",
       "    .dataframe tbody tr th:only-of-type {\n",
       "        vertical-align: middle;\n",
       "    }\n",
       "\n",
       "    .dataframe tbody tr th {\n",
       "        vertical-align: top;\n",
       "    }\n",
       "\n",
       "    .dataframe thead th {\n",
       "        text-align: right;\n",
       "    }\n",
       "</style>\n",
       "<table border=\"1\" class=\"dataframe\">\n",
       "  <thead>\n",
       "    <tr style=\"text-align: right;\">\n",
       "      <th></th>\n",
       "      <th>person_age</th>\n",
       "      <th>person_income</th>\n",
       "      <th>person_emp_length</th>\n",
       "      <th>loan_amnt</th>\n",
       "      <th>loan_int_rate</th>\n",
       "      <th>loan_percent_income</th>\n",
       "    </tr>\n",
       "  </thead>\n",
       "  <tbody>\n",
       "    <tr>\n",
       "      <th>3</th>\n",
       "      <td>0.413869</td>\n",
       "      <td>7.275371</td>\n",
       "      <td>4.0</td>\n",
       "      <td>48.040425</td>\n",
       "      <td>6.089989</td>\n",
       "      <td>-0.578360</td>\n",
       "    </tr>\n",
       "    <tr>\n",
       "      <th>4</th>\n",
       "      <td>0.413890</td>\n",
       "      <td>7.200196</td>\n",
       "      <td>8.0</td>\n",
       "      <td>48.040425</td>\n",
       "      <td>5.819926</td>\n",
       "      <td>-0.547542</td>\n",
       "    </tr>\n",
       "    <tr>\n",
       "      <th>6</th>\n",
       "      <td>0.413924</td>\n",
       "      <td>7.340443</td>\n",
       "      <td>8.0</td>\n",
       "      <td>48.040425</td>\n",
       "      <td>5.274115</td>\n",
       "      <td>-0.710495</td>\n",
       "    </tr>\n",
       "    <tr>\n",
       "      <th>7</th>\n",
       "      <td>0.413890</td>\n",
       "      <td>7.349864</td>\n",
       "      <td>5.0</td>\n",
       "      <td>48.040425</td>\n",
       "      <td>4.864053</td>\n",
       "      <td>-0.728144</td>\n",
       "    </tr>\n",
       "    <tr>\n",
       "      <th>8</th>\n",
       "      <td>0.413890</td>\n",
       "      <td>7.369586</td>\n",
       "      <td>8.0</td>\n",
       "      <td>48.040425</td>\n",
       "      <td>4.116576</td>\n",
       "      <td>-0.764304</td>\n",
       "    </tr>\n",
       "  </tbody>\n",
       "</table>\n",
       "</div>"
      ],
      "text/plain": [
       "   person_age  person_income  person_emp_length  loan_amnt  loan_int_rate  \\\n",
       "3    0.413869       7.275371                4.0  48.040425       6.089989   \n",
       "4    0.413890       7.200196                8.0  48.040425       5.819926   \n",
       "6    0.413924       7.340443                8.0  48.040425       5.274115   \n",
       "7    0.413890       7.349864                5.0  48.040425       4.864053   \n",
       "8    0.413890       7.369586                8.0  48.040425       4.116576   \n",
       "\n",
       "   loan_percent_income  \n",
       "3            -0.578360  \n",
       "4            -0.547542  \n",
       "6            -0.710495  \n",
       "7            -0.728144  \n",
       "8            -0.764304  "
      ]
     },
     "metadata": {},
     "output_type": "display_data"
    },
    {
     "data": {
      "text/plain": [
       "'\\nAfter Standardized: \\n'"
      ]
     },
     "metadata": {},
     "output_type": "display_data"
    },
    {
     "data": {
      "text/html": [
       "<div>\n",
       "<style scoped>\n",
       "    .dataframe tbody tr th:only-of-type {\n",
       "        vertical-align: middle;\n",
       "    }\n",
       "\n",
       "    .dataframe tbody tr th {\n",
       "        vertical-align: top;\n",
       "    }\n",
       "\n",
       "    .dataframe thead th {\n",
       "        text-align: right;\n",
       "    }\n",
       "</style>\n",
       "<table border=\"1\" class=\"dataframe\">\n",
       "  <thead>\n",
       "    <tr style=\"text-align: right;\">\n",
       "      <th></th>\n",
       "      <th>person_age</th>\n",
       "      <th>person_income</th>\n",
       "      <th>person_emp_length</th>\n",
       "      <th>loan_amnt</th>\n",
       "      <th>loan_int_rate</th>\n",
       "      <th>loan_percent_income</th>\n",
       "    </tr>\n",
       "  </thead>\n",
       "  <tbody>\n",
       "    <tr>\n",
       "      <th>0</th>\n",
       "      <td>-0.913981</td>\n",
       "      <td>0.324312</td>\n",
       "      <td>-0.128153</td>\n",
       "      <td>2.57231</td>\n",
       "      <td>1.257265</td>\n",
       "      <td>2.387331</td>\n",
       "    </tr>\n",
       "    <tr>\n",
       "      <th>1</th>\n",
       "      <td>-0.559945</td>\n",
       "      <td>-0.038646</td>\n",
       "      <td>1.036661</td>\n",
       "      <td>2.57231</td>\n",
       "      <td>1.000476</td>\n",
       "      <td>2.470844</td>\n",
       "    </tr>\n",
       "    <tr>\n",
       "      <th>2</th>\n",
       "      <td>0.014916</td>\n",
       "      <td>0.638491</td>\n",
       "      <td>1.036661</td>\n",
       "      <td>2.57231</td>\n",
       "      <td>0.481490</td>\n",
       "      <td>2.029261</td>\n",
       "    </tr>\n",
       "    <tr>\n",
       "      <th>3</th>\n",
       "      <td>-0.559945</td>\n",
       "      <td>0.683975</td>\n",
       "      <td>0.163050</td>\n",
       "      <td>2.57231</td>\n",
       "      <td>0.091582</td>\n",
       "      <td>1.981436</td>\n",
       "    </tr>\n",
       "    <tr>\n",
       "      <th>4</th>\n",
       "      <td>-0.559945</td>\n",
       "      <td>0.779194</td>\n",
       "      <td>1.036661</td>\n",
       "      <td>2.57231</td>\n",
       "      <td>-0.619158</td>\n",
       "      <td>1.883447</td>\n",
       "    </tr>\n",
       "  </tbody>\n",
       "</table>\n",
       "</div>"
      ],
      "text/plain": [
       "   person_age  person_income  person_emp_length  loan_amnt  loan_int_rate  \\\n",
       "0   -0.913981       0.324312          -0.128153    2.57231       1.257265   \n",
       "1   -0.559945      -0.038646           1.036661    2.57231       1.000476   \n",
       "2    0.014916       0.638491           1.036661    2.57231       0.481490   \n",
       "3   -0.559945       0.683975           0.163050    2.57231       0.091582   \n",
       "4   -0.559945       0.779194           1.036661    2.57231      -0.619158   \n",
       "\n",
       "   loan_percent_income  \n",
       "0             2.387331  \n",
       "1             2.470844  \n",
       "2             2.029261  \n",
       "3             1.981436  \n",
       "4             1.883447  "
      ]
     },
     "metadata": {},
     "output_type": "display_data"
    }
   ],
   "source": [
    "from sklearn.preprocessing import StandardScaler\n",
    "# selecting only the numerical columns\n",
    "df_norm_num = df_norm.select_dtypes(include = np.number)\n",
    "display('Before standardization:\\n ',df_norm_num .head())\n",
    "# standardize data\n",
    "scaler = StandardScaler(with_mean=True).fit(df_norm_num)\n",
    "df_norm_num_standardized = scaler.transform(df_norm_num)\n",
    "df_norm_num_standardized  = pd.DataFrame(df_norm_num_standardized, columns = df_norm_num.columns)\n",
    "display('\\nAfter Standardized: \\n',df_norm_num_standardized .head())"
   ]
  },
  {
   "cell_type": "markdown",
   "metadata": {},
   "source": [
    "## CREATE DUMMIES OF CATEGORICALS"
   ]
  },
  {
   "cell_type": "code",
   "execution_count": 187,
   "metadata": {},
   "outputs": [],
   "source": [
    "from sklearn.preprocessing import OneHotEncoder\n",
    "df_norm_cat = df_norm.select_dtypes(include = np.object).drop(columns = 'loan_status')\n",
    "\n",
    "enc = OneHotEncoder(drop = \"first\")\n",
    "\n",
    "df_norm_cat = pd.DataFrame(enc.fit_transform(df_norm_cat).toarray(),columns = enc.get_feature_names())"
   ]
  },
  {
   "cell_type": "code",
   "execution_count": 188,
   "metadata": {},
   "outputs": [],
   "source": [
    "df_norm_cat=df_norm_cat.rename(columns={'x0_OTHER':'ownership_other','x0_OWN':'ownership_own','x0_RENT':'ownership_rent','x1_EDUCATION':'intent_education','x1_HOMEIMPROVEMENT':'intent_homeimprovement','x1_MEDICAL':'intent_medical','x1_PERSONAL':'intent_personal','x1_VENTURE':'intentn_venture','x2_B':'grade_B','x2_C':'grade_C','x2_D':'grade_D','x2_E':'grade_E','x2_F':'grade_F','x2_G':'grade_G','x3_Y':'prev_default'})"
   ]
  },
  {
   "cell_type": "code",
   "execution_count": 189,
   "metadata": {},
   "outputs": [
    {
     "data": {
      "text/html": [
       "<div>\n",
       "<style scoped>\n",
       "    .dataframe tbody tr th:only-of-type {\n",
       "        vertical-align: middle;\n",
       "    }\n",
       "\n",
       "    .dataframe tbody tr th {\n",
       "        vertical-align: top;\n",
       "    }\n",
       "\n",
       "    .dataframe thead th {\n",
       "        text-align: right;\n",
       "    }\n",
       "</style>\n",
       "<table border=\"1\" class=\"dataframe\">\n",
       "  <thead>\n",
       "    <tr style=\"text-align: right;\">\n",
       "      <th></th>\n",
       "      <th>ownership_other</th>\n",
       "      <th>ownership_own</th>\n",
       "      <th>ownership_rent</th>\n",
       "      <th>intent_education</th>\n",
       "      <th>intent_homeimprovement</th>\n",
       "      <th>intent_medical</th>\n",
       "      <th>intent_personal</th>\n",
       "      <th>intentn_venture</th>\n",
       "      <th>grade_B</th>\n",
       "      <th>grade_C</th>\n",
       "      <th>grade_D</th>\n",
       "      <th>grade_E</th>\n",
       "      <th>grade_F</th>\n",
       "      <th>grade_G</th>\n",
       "      <th>prev_default</th>\n",
       "    </tr>\n",
       "  </thead>\n",
       "  <tbody>\n",
       "    <tr>\n",
       "      <th>0</th>\n",
       "      <td>0.0</td>\n",
       "      <td>0.0</td>\n",
       "      <td>1.0</td>\n",
       "      <td>0.0</td>\n",
       "      <td>0.0</td>\n",
       "      <td>1.0</td>\n",
       "      <td>0.0</td>\n",
       "      <td>0.0</td>\n",
       "      <td>0.0</td>\n",
       "      <td>1.0</td>\n",
       "      <td>0.0</td>\n",
       "      <td>0.0</td>\n",
       "      <td>0.0</td>\n",
       "      <td>0.0</td>\n",
       "      <td>0.0</td>\n",
       "    </tr>\n",
       "    <tr>\n",
       "      <th>1</th>\n",
       "      <td>0.0</td>\n",
       "      <td>0.0</td>\n",
       "      <td>1.0</td>\n",
       "      <td>0.0</td>\n",
       "      <td>0.0</td>\n",
       "      <td>1.0</td>\n",
       "      <td>0.0</td>\n",
       "      <td>0.0</td>\n",
       "      <td>0.0</td>\n",
       "      <td>1.0</td>\n",
       "      <td>0.0</td>\n",
       "      <td>0.0</td>\n",
       "      <td>0.0</td>\n",
       "      <td>0.0</td>\n",
       "      <td>1.0</td>\n",
       "    </tr>\n",
       "    <tr>\n",
       "      <th>2</th>\n",
       "      <td>0.0</td>\n",
       "      <td>0.0</td>\n",
       "      <td>1.0</td>\n",
       "      <td>1.0</td>\n",
       "      <td>0.0</td>\n",
       "      <td>0.0</td>\n",
       "      <td>0.0</td>\n",
       "      <td>0.0</td>\n",
       "      <td>1.0</td>\n",
       "      <td>0.0</td>\n",
       "      <td>0.0</td>\n",
       "      <td>0.0</td>\n",
       "      <td>0.0</td>\n",
       "      <td>0.0</td>\n",
       "      <td>0.0</td>\n",
       "    </tr>\n",
       "    <tr>\n",
       "      <th>3</th>\n",
       "      <td>0.0</td>\n",
       "      <td>0.0</td>\n",
       "      <td>1.0</td>\n",
       "      <td>0.0</td>\n",
       "      <td>0.0</td>\n",
       "      <td>1.0</td>\n",
       "      <td>0.0</td>\n",
       "      <td>0.0</td>\n",
       "      <td>1.0</td>\n",
       "      <td>0.0</td>\n",
       "      <td>0.0</td>\n",
       "      <td>0.0</td>\n",
       "      <td>0.0</td>\n",
       "      <td>0.0</td>\n",
       "      <td>0.0</td>\n",
       "    </tr>\n",
       "    <tr>\n",
       "      <th>4</th>\n",
       "      <td>0.0</td>\n",
       "      <td>0.0</td>\n",
       "      <td>1.0</td>\n",
       "      <td>0.0</td>\n",
       "      <td>0.0</td>\n",
       "      <td>0.0</td>\n",
       "      <td>1.0</td>\n",
       "      <td>0.0</td>\n",
       "      <td>0.0</td>\n",
       "      <td>0.0</td>\n",
       "      <td>0.0</td>\n",
       "      <td>0.0</td>\n",
       "      <td>0.0</td>\n",
       "      <td>0.0</td>\n",
       "      <td>0.0</td>\n",
       "    </tr>\n",
       "    <tr>\n",
       "      <th>...</th>\n",
       "      <td>...</td>\n",
       "      <td>...</td>\n",
       "      <td>...</td>\n",
       "      <td>...</td>\n",
       "      <td>...</td>\n",
       "      <td>...</td>\n",
       "      <td>...</td>\n",
       "      <td>...</td>\n",
       "      <td>...</td>\n",
       "      <td>...</td>\n",
       "      <td>...</td>\n",
       "      <td>...</td>\n",
       "      <td>...</td>\n",
       "      <td>...</td>\n",
       "      <td>...</td>\n",
       "    </tr>\n",
       "    <tr>\n",
       "      <th>27349</th>\n",
       "      <td>0.0</td>\n",
       "      <td>0.0</td>\n",
       "      <td>0.0</td>\n",
       "      <td>0.0</td>\n",
       "      <td>0.0</td>\n",
       "      <td>0.0</td>\n",
       "      <td>1.0</td>\n",
       "      <td>0.0</td>\n",
       "      <td>0.0</td>\n",
       "      <td>1.0</td>\n",
       "      <td>0.0</td>\n",
       "      <td>0.0</td>\n",
       "      <td>0.0</td>\n",
       "      <td>0.0</td>\n",
       "      <td>0.0</td>\n",
       "    </tr>\n",
       "    <tr>\n",
       "      <th>27350</th>\n",
       "      <td>0.0</td>\n",
       "      <td>0.0</td>\n",
       "      <td>0.0</td>\n",
       "      <td>0.0</td>\n",
       "      <td>0.0</td>\n",
       "      <td>0.0</td>\n",
       "      <td>1.0</td>\n",
       "      <td>0.0</td>\n",
       "      <td>0.0</td>\n",
       "      <td>0.0</td>\n",
       "      <td>0.0</td>\n",
       "      <td>0.0</td>\n",
       "      <td>0.0</td>\n",
       "      <td>0.0</td>\n",
       "      <td>0.0</td>\n",
       "    </tr>\n",
       "    <tr>\n",
       "      <th>27351</th>\n",
       "      <td>0.0</td>\n",
       "      <td>0.0</td>\n",
       "      <td>1.0</td>\n",
       "      <td>0.0</td>\n",
       "      <td>1.0</td>\n",
       "      <td>0.0</td>\n",
       "      <td>0.0</td>\n",
       "      <td>0.0</td>\n",
       "      <td>1.0</td>\n",
       "      <td>0.0</td>\n",
       "      <td>0.0</td>\n",
       "      <td>0.0</td>\n",
       "      <td>0.0</td>\n",
       "      <td>0.0</td>\n",
       "      <td>0.0</td>\n",
       "    </tr>\n",
       "    <tr>\n",
       "      <th>27352</th>\n",
       "      <td>0.0</td>\n",
       "      <td>0.0</td>\n",
       "      <td>0.0</td>\n",
       "      <td>0.0</td>\n",
       "      <td>0.0</td>\n",
       "      <td>0.0</td>\n",
       "      <td>1.0</td>\n",
       "      <td>0.0</td>\n",
       "      <td>1.0</td>\n",
       "      <td>0.0</td>\n",
       "      <td>0.0</td>\n",
       "      <td>0.0</td>\n",
       "      <td>0.0</td>\n",
       "      <td>0.0</td>\n",
       "      <td>0.0</td>\n",
       "    </tr>\n",
       "    <tr>\n",
       "      <th>27353</th>\n",
       "      <td>0.0</td>\n",
       "      <td>0.0</td>\n",
       "      <td>1.0</td>\n",
       "      <td>0.0</td>\n",
       "      <td>0.0</td>\n",
       "      <td>1.0</td>\n",
       "      <td>0.0</td>\n",
       "      <td>0.0</td>\n",
       "      <td>1.0</td>\n",
       "      <td>0.0</td>\n",
       "      <td>0.0</td>\n",
       "      <td>0.0</td>\n",
       "      <td>0.0</td>\n",
       "      <td>0.0</td>\n",
       "      <td>0.0</td>\n",
       "    </tr>\n",
       "  </tbody>\n",
       "</table>\n",
       "<p>27354 rows × 15 columns</p>\n",
       "</div>"
      ],
      "text/plain": [
       "       ownership_other  ownership_own  ownership_rent  intent_education  \\\n",
       "0                  0.0            0.0             1.0               0.0   \n",
       "1                  0.0            0.0             1.0               0.0   \n",
       "2                  0.0            0.0             1.0               1.0   \n",
       "3                  0.0            0.0             1.0               0.0   \n",
       "4                  0.0            0.0             1.0               0.0   \n",
       "...                ...            ...             ...               ...   \n",
       "27349              0.0            0.0             0.0               0.0   \n",
       "27350              0.0            0.0             0.0               0.0   \n",
       "27351              0.0            0.0             1.0               0.0   \n",
       "27352              0.0            0.0             0.0               0.0   \n",
       "27353              0.0            0.0             1.0               0.0   \n",
       "\n",
       "       intent_homeimprovement  intent_medical  intent_personal  \\\n",
       "0                         0.0             1.0              0.0   \n",
       "1                         0.0             1.0              0.0   \n",
       "2                         0.0             0.0              0.0   \n",
       "3                         0.0             1.0              0.0   \n",
       "4                         0.0             0.0              1.0   \n",
       "...                       ...             ...              ...   \n",
       "27349                     0.0             0.0              1.0   \n",
       "27350                     0.0             0.0              1.0   \n",
       "27351                     1.0             0.0              0.0   \n",
       "27352                     0.0             0.0              1.0   \n",
       "27353                     0.0             1.0              0.0   \n",
       "\n",
       "       intentn_venture  grade_B  grade_C  grade_D  grade_E  grade_F  grade_G  \\\n",
       "0                  0.0      0.0      1.0      0.0      0.0      0.0      0.0   \n",
       "1                  0.0      0.0      1.0      0.0      0.0      0.0      0.0   \n",
       "2                  0.0      1.0      0.0      0.0      0.0      0.0      0.0   \n",
       "3                  0.0      1.0      0.0      0.0      0.0      0.0      0.0   \n",
       "4                  0.0      0.0      0.0      0.0      0.0      0.0      0.0   \n",
       "...                ...      ...      ...      ...      ...      ...      ...   \n",
       "27349              0.0      0.0      1.0      0.0      0.0      0.0      0.0   \n",
       "27350              0.0      0.0      0.0      0.0      0.0      0.0      0.0   \n",
       "27351              0.0      1.0      0.0      0.0      0.0      0.0      0.0   \n",
       "27352              0.0      1.0      0.0      0.0      0.0      0.0      0.0   \n",
       "27353              0.0      1.0      0.0      0.0      0.0      0.0      0.0   \n",
       "\n",
       "       prev_default  \n",
       "0               0.0  \n",
       "1               1.0  \n",
       "2               0.0  \n",
       "3               0.0  \n",
       "4               0.0  \n",
       "...             ...  \n",
       "27349           0.0  \n",
       "27350           0.0  \n",
       "27351           0.0  \n",
       "27352           0.0  \n",
       "27353           0.0  \n",
       "\n",
       "[27354 rows x 15 columns]"
      ]
     },
     "execution_count": 189,
     "metadata": {},
     "output_type": "execute_result"
    }
   ],
   "source": [
    "df_norm_cat"
   ]
  },
  {
   "cell_type": "markdown",
   "metadata": {},
   "source": [
    "dropped in dummy creation\n",
    "ownership: MORTGAGE\n",
    "use of loan: DEBTCONSOLIDATION\n",
    "grade: A\n",
    "default in history: No was dropped"
   ]
  },
  {
   "cell_type": "markdown",
   "metadata": {},
   "source": [
    "## CONCATINATE"
   ]
  },
  {
   "cell_type": "code",
   "execution_count": 190,
   "metadata": {},
   "outputs": [],
   "source": [
    "df=pd.concat([df_norm_num_standardized,df_norm_cat],axis=1)"
   ]
  },
  {
   "cell_type": "markdown",
   "metadata": {},
   "source": [
    "## TEST AND TRAIN"
   ]
  },
  {
   "cell_type": "code",
   "execution_count": 191,
   "metadata": {},
   "outputs": [],
   "source": [
    "X=df\n",
    "y=df_norm.loan_status"
   ]
  },
  {
   "cell_type": "code",
   "execution_count": 221,
   "metadata": {},
   "outputs": [],
   "source": [
    "from sklearn.model_selection import train_test_split\n",
    "X_train, X_test, y_train, y_test = train_test_split(X, y, test_size=0.25, random_state=102)"
   ]
  },
  {
   "cell_type": "markdown",
   "metadata": {},
   "source": [
    "# DECISION TREE"
   ]
  },
  {
   "cell_type": "markdown",
   "metadata": {},
   "source": [
    "#### Score, Precision, Recall and the F1 Score"
   ]
  },
  {
   "cell_type": "code",
   "execution_count": 299,
   "metadata": {},
   "outputs": [
    {
     "name": "stdout",
     "output_type": "stream",
     "text": [
      "Score:  0.8863868986693961\n"
     ]
    }
   ],
   "source": [
    "from sklearn.tree import DecisionTreeClassifier\n",
    "decisiontree = DecisionTreeClassifier().fit(X_train, y_train)\n",
    "y_pred_tree=decisiontree.predict(X_test)\n",
    "print('Score: ',decisiontree.score(X_test, y_test))\n",
    "accuracy_tree = decisiontree.score(X_test, y_test)\n"
   ]
  },
  {
   "cell_type": "code",
   "execution_count": 257,
   "metadata": {
    "scrolled": true
   },
   "outputs": [
    {
     "name": "stdout",
     "output_type": "stream",
     "text": [
      "Precision 0.7271487039563438\n",
      "Recall:  0.7480701754385964\n",
      "F1 Score:  0.737461086129367\n"
     ]
    }
   ],
   "source": [
    "from sklearn.metrics import precision_score, recall_score, f1_score\n",
    "print(r'Precision', precision_score(y_test, y_pred_tree, pos_label='DENY'))# we need to tell it what is our positive class. B is class indication costumer got payment trouble\n",
    "print(r'Recall: ', recall_score(y_test, y_pred_tree, pos_label='DENY'))\n",
    "print(r'F1 Score: ',f1_score(y_test, y_pred_tree, pos_label='DENY'))"
   ]
  },
  {
   "cell_type": "code",
   "execution_count": 258,
   "metadata": {},
   "outputs": [],
   "source": [
    "precision_tree = precision_score(y_test, y_pred_tree, pos_label='DENY')\n",
    "recall_tree = recall_score(y_test, y_pred_tree, pos_label='DENY')\n",
    "f1_tree = f1_score(y_test, y_pred_tree, pos_label='DENY')"
   ]
  },
  {
   "cell_type": "code",
   "execution_count": 259,
   "metadata": {},
   "outputs": [
    {
     "name": "stdout",
     "output_type": "stream",
     "text": [
      "Balanced Accuracy;  0.8370938243280903\n"
     ]
    }
   ],
   "source": [
    "#Balanced Accuracy\n",
    "from sklearn.metrics import balanced_accuracy_score\n",
    "print('Balanced Accuracy; ',balanced_accuracy_score(y_test,y_pred_tree))\n",
    "bal_accuracy_tree = balanced_accuracy_score(y_test,y_pred_tree)"
   ]
  },
  {
   "cell_type": "code",
   "execution_count": 276,
   "metadata": {},
   "outputs": [
    {
     "name": "stdout",
     "output_type": "stream",
     "text": [
      "[[5014  400]\n",
      " [ 359 1066]]\n"
     ]
    },
    {
     "data": {
      "image/png": "[encoded data removed]",
      "text/plain": [
       "<Figure size 1800x432 with 2 Axes>"
      ]
     },
     "metadata": {
      "needs_background": "light"
     },
     "output_type": "display_data"
    }
   ],
   "source": [
    "from sklearn.metrics import confusion_matrix\n",
    "cf_matrix_tree = confusion_matrix(y_test, y_pred_tree)\n",
    "print(cf_matrix_tree)\n",
    "# sns.heatmap(cf_matrix/np.sum(cf_matrix), annot=True, \n",
    "           # fmt='.2%', cmap='Blues')\n",
    "\n",
    "fig_tree_cf = sns.heatmap(cf_matrix_tree/np.sum(cf_matrix_tree), annot=True, \n",
    "            fmt='.2%', cmap='Blues').get_figure()\n",
    "plt.title(\"Decision Tree Confusion Matrix\")\n",
    "fig_tree_cf.savefig(fname=\"../Graphs for ppt/tree_cf\")"
   ]
  },
  {
   "cell_type": "code",
   "execution_count": null,
   "metadata": {},
   "outputs": [],
   "source": [
    "# 73.3% we approve them for credit, and they are able to pay it back true/negative\n",
    "# 15.5% we deny them credit. and thats smart. because they are having issues true/positiv\n",
    "# 5.19 we approve credit BUT they cannot pay back! This is RISK. we want this  at Zero false/negative\n",
    "# 5.86 we deny credit BUT they actually could pay it back! Those are \"just\" good clients we refused false/positive"
   ]
  },
  {
   "cell_type": "markdown",
   "metadata": {},
   "source": [
    "## Nearest neighbour"
   ]
  },
  {
   "cell_type": "code",
   "execution_count": 267,
   "metadata": {},
   "outputs": [
    {
     "name": "stdout",
     "output_type": "stream",
     "text": [
      "0.8910659453136424\n"
     ]
    }
   ],
   "source": [
    "from sklearn.neighbors import KNeighborsClassifier\n",
    "\n",
    "nearest_neighbors = KNeighborsClassifier().fit(X_train, y_train)\n",
    "y_pred_nn = nearest_neighbors.predict(X_test)\n",
    "print(nearest_neighbors.score(X_test, y_test))\n",
    "# 0.8910659453136424\n",
    "\n",
    "accuracy_nn = nearest_neighbors.score(X_test, y_test)"
   ]
  },
  {
   "cell_type": "code",
   "execution_count": 273,
   "metadata": {
    "scrolled": true
   },
   "outputs": [
    {
     "name": "stdout",
     "output_type": "stream",
     "text": [
      "Precision 0.8041144901610018\n",
      "Recall:  0.6308771929824561\n",
      "F1 Score:  0.7070389303971687\n"
     ]
    }
   ],
   "source": [
    "print(r'Precision', precision_score(y_test, y_pred_nn, pos_label='DENY'))# we need to tell it what is our positive class. B is class indication costumer got payment trouble\n",
    "print(r'Recall: ', recall_score(y_test, y_pred_nn, pos_label='DENY'))\n",
    "print(r'F1 Score: ',f1_score(y_test, y_pred_nn, pos_label='DENY'))"
   ]
  },
  {
   "cell_type": "code",
   "execution_count": 274,
   "metadata": {},
   "outputs": [],
   "source": [
    "precision_nn = precision_score(y_test, y_pred_nn, pos_label='DENY')\n",
    "recall_nn = recall_score(y_test, y_pred_nn, pos_label='DENY')\n",
    "f1_nn = f1_score(y_test, y_pred_nn, pos_label='DENY')"
   ]
  },
  {
   "cell_type": "code",
   "execution_count": 275,
   "metadata": {},
   "outputs": [
    {
     "name": "stdout",
     "output_type": "stream",
     "text": [
      "Balanced Accuracy;  0.7952132547845416\n"
     ]
    }
   ],
   "source": [
    "#Balanced Accuracy\n",
    "from sklearn.metrics import balanced_accuracy_score\n",
    "print('Balanced Accuracy; ',balanced_accuracy_score(y_test,y_pred_nn))\n",
    "bal_accuracy_nn = balanced_accuracy_score(y_test,y_pred_nn)"
   ]
  },
  {
   "cell_type": "code",
   "execution_count": 281,
   "metadata": {},
   "outputs": [
    {
     "name": "stdout",
     "output_type": "stream",
     "text": [
      "[[5195  219]\n",
      " [ 526  899]]\n"
     ]
    },
    {
     "data": {
      "image/png": "[encoded data removed]",
      "text/plain": [
       "<Figure size 1800x432 with 2 Axes>"
      ]
     },
     "metadata": {
      "needs_background": "light"
     },
     "output_type": "display_data"
    }
   ],
   "source": [
    "from sklearn.metrics import confusion_matrix\n",
    "cf_matrix_nn = confusion_matrix(y_test, y_pred_nn)\n",
    "print(cf_matrix_nn)\n",
    "# sns.heatmap(cf_matrix/np.sum(cf_matrix), annot=True, \n",
    "#             fmt='.2%', cmap='Blues')\n",
    "\n",
    "fig_nn_cf = sns.heatmap(cf_matrix_nn/np.sum(cf_matrix_nn), annot=True, \n",
    "            fmt='.2%', cmap='Blues').get_figure()\n",
    "plt.title(\"K Nearest Neighbour Confusion Matrix\")\n",
    "fig_nn_cf.savefig(fname=\"../Graphs for ppt/nn_cf\")"
   ]
  },
  {
   "cell_type": "code",
   "execution_count": null,
   "metadata": {},
   "outputs": [],
   "source": [
    "# BAD! false negative is larger tan with decisiontree. \n",
    "# We offer credit to 7,69% that actually adre defaulting"
   ]
  },
  {
   "cell_type": "markdown",
   "metadata": {},
   "source": [
    "## SVM SUPPORT VECTOR MACHINE\n"
   ]
  },
  {
   "cell_type": "code",
   "execution_count": 283,
   "metadata": {},
   "outputs": [
    {
     "name": "stdout",
     "output_type": "stream",
     "text": [
      "0.9137300774967101\n"
     ]
    }
   ],
   "source": [
    "from sklearn.svm import SVC\n",
    "\n",
    "svm = SVC().fit(X_train, y_train)\n",
    "y_pred_svm = svm.predict(X_test)\n",
    "print(svm.score(X_test, y_test))\n",
    "accuracy_svm = svm.score(X_test, y_test)"
   ]
  },
  {
   "cell_type": "code",
   "execution_count": 284,
   "metadata": {
    "scrolled": true
   },
   "outputs": [
    {
     "name": "stdout",
     "output_type": "stream",
     "text": [
      "Precision 0.912142152023692\n",
      "Recall:  0.6484210526315789\n",
      "F1 Score:  0.7579983593109105\n"
     ]
    }
   ],
   "source": [
    "print(r'Precision', precision_score(y_test, y_pred_svm, pos_label='DENY'))# we need to tell it what is our positive class. B is class indication costumer got payment trouble\n",
    "print(r'Recall: ', recall_score(y_test, y_pred_svm, pos_label='DENY'))\n",
    "print(r'F1 Score: ',f1_score(y_test, y_pred_svm, pos_label='DENY'))"
   ]
  },
  {
   "cell_type": "code",
   "execution_count": 285,
   "metadata": {},
   "outputs": [],
   "source": [
    "precision_svm = precision_score(y_test, y_pred_svm, pos_label='DENY')\n",
    "recall_svm = recall_score(y_test, y_pred_svm, pos_label='DENY')\n",
    "f1_svm = f1_score(y_test, y_pred_svm, pos_label='DENY')"
   ]
  },
  {
   "cell_type": "code",
   "execution_count": 286,
   "metadata": {},
   "outputs": [
    {
     "name": "stdout",
     "output_type": "stream",
     "text": [
      "Balanced Accuracy;  0.8159910952112457\n"
     ]
    }
   ],
   "source": [
    "#Balanced Accuracy\n",
    "from sklearn.metrics import balanced_accuracy_score\n",
    "print('Balanced Accuracy; ',balanced_accuracy_score(y_test,y_pred_svm))\n",
    "bal_accuracy_svm = balanced_accuracy_score(y_test,y_pred_svm)"
   ]
  },
  {
   "cell_type": "code",
   "execution_count": 287,
   "metadata": {},
   "outputs": [
    {
     "name": "stdout",
     "output_type": "stream",
     "text": [
      "[[5325   89]\n",
      " [ 501  924]]\n"
     ]
    },
    {
     "data": {
      "image/png": "[encoded data removed]",
      "text/plain": [
       "<Figure size 1800x432 with 2 Axes>"
      ]
     },
     "metadata": {
      "needs_background": "light"
     },
     "output_type": "display_data"
    }
   ],
   "source": [
    "cf_matrix_svm = confusion_matrix(y_test, y_pred_svm)\n",
    "print(cf_matrix_svm)\n",
    "# sns.heatmap(cf_matrix_svm/np.sum(cf_matrix_svm), annot=True, \n",
    "#             fmt='.2%', cmap='Blues')\n",
    "\n",
    "\n",
    "fig_svm_cf = sns.heatmap(cf_matrix_svm/np.sum(cf_matrix_svm), annot=True, \n",
    "            fmt='.2%', cmap='Blues').get_figure()\n",
    "plt.title(\"SUPPORT VECTOR MACHINE Confusion Matrix\")\n",
    "fig_svm_cf.savefig(fname=\"../Graphs for ppt/svm_cf\")"
   ]
  },
  {
   "cell_type": "code",
   "execution_count": null,
   "metadata": {},
   "outputs": [],
   "source": [
    "#thats worse. We hand out 7.33% a loan that they will actually default on"
   ]
  },
  {
   "cell_type": "markdown",
   "metadata": {},
   "source": [
    "## Logisitc Regression"
   ]
  },
  {
   "cell_type": "code",
   "execution_count": 288,
   "metadata": {},
   "outputs": [],
   "source": [
    "from sklearn.linear_model import LogisticRegression\n",
    "logistic = LogisticRegression(max_iter = 500).fit(X_train, y_train)\n",
    "y_pred_log = logistic.predict(X_test)\n",
    "logistic.score(X_test, y_test)\n",
    "accuracy_log = logistic.score(X_test, y_test)"
   ]
  },
  {
   "cell_type": "code",
   "execution_count": 231,
   "metadata": {},
   "outputs": [
    {
     "name": "stdout",
     "output_type": "stream",
     "text": [
      "Precision 0.7415384615384616\n",
      "Recall:  0.5073684210526316\n",
      "F1 Score:  0.6025\n"
     ]
    }
   ],
   "source": [
    "print(r'Precision', precision_score(y_test, y_pred_log, pos_label='DENY'))# we need to tell it what is our positive class. B is class indication costumer got payment trouble\n",
    "print(r'Recall: ', recall_score(y_test, y_pred_log, pos_label='DENY'))\n",
    "print(r'F1 Score: ',f1_score(y_test, y_pred_log, pos_label='DENY'))"
   ]
  },
  {
   "cell_type": "code",
   "execution_count": 289,
   "metadata": {},
   "outputs": [],
   "source": [
    "precision_log = precision_score(y_test, y_pred_log, pos_label='DENY')\n",
    "recall_log = recall_score(y_test, y_pred_log, pos_label='DENY')\n",
    "f1_log = f1_score(y_test, y_pred_log, pos_label='DENY')"
   ]
  },
  {
   "cell_type": "code",
   "execution_count": 290,
   "metadata": {},
   "outputs": [
    {
     "name": "stdout",
     "output_type": "stream",
     "text": [
      "Balanced Accuracy;  0.7304112145898547\n"
     ]
    }
   ],
   "source": [
    "#Balanced Accuracy\n",
    "from sklearn.metrics import balanced_accuracy_score\n",
    "print('Balanced Accuracy; ',balanced_accuracy_score(y_test,y_pred_log))\n",
    "bal_accuracy_log = balanced_accuracy_score(y_test,y_pred_log)"
   ]
  },
  {
   "cell_type": "code",
   "execution_count": 291,
   "metadata": {},
   "outputs": [
    {
     "name": "stdout",
     "output_type": "stream",
     "text": [
      "[[5162  252]\n",
      " [ 702  723]]\n"
     ]
    },
    {
     "data": {
      "image/png": "[encoded data removed]",
      "text/plain": [
       "<Figure size 1800x432 with 2 Axes>"
      ]
     },
     "metadata": {
      "needs_background": "light"
     },
     "output_type": "display_data"
    }
   ],
   "source": [
    "cf_matrix_log = confusion_matrix(y_test, y_pred_log)\n",
    "print(cf_matrix_log)\n",
    "# sns.heatmap(cf_matrix/np.sum(cf_matrix), annot=True, \n",
    "#             fmt='.2%', cmap='Blues')\n",
    "fig_log_cf = sns.heatmap(cf_matrix_log/np.sum(cf_matrix_log), annot=True, \n",
    "            fmt='.2%', cmap='Blues').get_figure()\n",
    "plt.title(\"Logistic Confusion Matrix\")\n",
    "fig_log_cf.savefig(fname=\"../Graphs for ppt/log_cf\")"
   ]
  },
  {
   "cell_type": "code",
   "execution_count": null,
   "metadata": {},
   "outputs": [],
   "source": [
    "#WORST_ we assign loads of people a loan that actually will default"
   ]
  },
  {
   "cell_type": "markdown",
   "metadata": {},
   "source": [
    "## RANDOM FOREST"
   ]
  },
  {
   "cell_type": "code",
   "execution_count": 292,
   "metadata": {},
   "outputs": [],
   "source": [
    "from sklearn.ensemble import RandomForestClassifier\n",
    "forest = RandomForestClassifier().fit(X_train, y_train)\n",
    "y_pred_rf = forest.predict(X_test)\n",
    "forest.score(X_test, y_test)\n",
    "accuracy_rf = forest.score(X_test, y_test)"
   ]
  },
  {
   "cell_type": "code",
   "execution_count": 293,
   "metadata": {},
   "outputs": [],
   "source": [
    "precision_rf = precision_score(y_test, y_pred_rf, pos_label='DENY')\n",
    "recall_rf = recall_score(y_test, y_pred_rf, pos_label='DENY')\n",
    "f1_rf = f1_score(y_test, y_pred_rf, pos_label='DENY')"
   ]
  },
  {
   "cell_type": "code",
   "execution_count": 294,
   "metadata": {},
   "outputs": [
    {
     "name": "stdout",
     "output_type": "stream",
     "text": [
      "Precision 0.943449575871819\n",
      "Recall:  0.7024561403508772\n",
      "F1 Score:  0.8053097345132743\n"
     ]
    }
   ],
   "source": [
    "print(r'Precision', precision_score(y_test, y_pred_rf, pos_label='DENY'))# we need to tell it what is our positive class. B is class indication costumer got payment trouble\n",
    "print(r'Recall: ', recall_score(y_test, y_pred_rf, pos_label='DENY'))\n",
    "print(r'F1 Score: ',f1_score(y_test, y_pred_rf, pos_label='DENY'))"
   ]
  },
  {
   "cell_type": "code",
   "execution_count": 295,
   "metadata": {},
   "outputs": [
    {
     "name": "stdout",
     "output_type": "stream",
     "text": [
      "Balanced Accuracy;  0.8456868806667575\n"
     ]
    }
   ],
   "source": [
    "#Balanced Accuracy\n",
    "from sklearn.metrics import balanced_accuracy_score\n",
    "print('Balanced Accuracy; ',balanced_accuracy_score(y_test,y_pred_rf))\n",
    "bal_accuracy_rf = balanced_accuracy_score(y_test,y_pred_rf)"
   ]
  },
  {
   "cell_type": "code",
   "execution_count": 296,
   "metadata": {},
   "outputs": [
    {
     "name": "stdout",
     "output_type": "stream",
     "text": [
      "[[5354   60]\n",
      " [ 424 1001]]\n"
     ]
    },
    {
     "data": {
      "image/png": "[encoded data removed]",
      "text/plain": [
       "<Figure size 1800x432 with 2 Axes>"
      ]
     },
     "metadata": {
      "needs_background": "light"
     },
     "output_type": "display_data"
    }
   ],
   "source": [
    "cf_matrix_rf = confusion_matrix(y_test, y_pred_rf)\n",
    "print(cf_matrix_rf)\n",
    "# sns.heatmap(cf_matrix/np.sum(cf_matrix), annot=True, \n",
    "#             fmt='.2%', cmap='Blues')\n",
    "\n",
    "fig_rf_cf = sns.heatmap(cf_matrix_rf/np.sum(cf_matrix_rf), annot=True, \n",
    "            fmt='.2%', cmap='Blues').get_figure()\n",
    "plt.title(\"RANDOM FOREST Confusion Matrix\")\n",
    "fig_rf_cf.savefig(fname=\"../Graphs for ppt/rf_cf\")"
   ]
  },
  {
   "cell_type": "code",
   "execution_count": 308,
   "metadata": {},
   "outputs": [],
   "source": [
    "pd.set_option('display.max_columns', None)\n",
    "results=pd.DataFrame({\"Models\":[\"Decision Tree\", \"K Nearest Neighbour\", \"Support Vector Machine\", \"Logistic Regression\", \"Random Forest\" ], \n",
    "                      \"Accuracy\":[accuracy_tree, accuracy_nn, accuracy_svm, accuracy_log, accuracy_rf], \n",
    "                      \"Precision\":[precision_tree, precision_nn, precision_svm, precision_log, precision_rf], \n",
    "                      \"Recall\":[recall_tree, recall_nn, recall_svm, recall_log, recall_rf], \n",
    "                      \"f1 Score\":[f1_tree, f1_nn, f1_svm, f1_log, f1_rf], \n",
    "                      \"Balanced Accuracy\":[bal_accuracy_tree, bal_accuracy_nn, bal_accuracy_svm, bal_accuracy_log, bal_accuracy_rf]})\n",
    "results_reset = results.set_index([\"Models\"])\n",
    "results_reset\n",
    "results_reset.to_excel(\"../results_comparison.xlsx\")"
   ]
  },
  {
   "cell_type": "markdown",
   "metadata": {},
   "source": [
    "# INTERPRETATION"
   ]
  },
  {
   "cell_type": "markdown",
   "metadata": {},
   "source": [
    "DECISION TREE TURNED OUT TO BE BEST\n",
    "PARTICULARLY  FALSE POSITIVE IS IMPORTANT TO US"
   ]
  },
  {
   "cell_type": "markdown",
   "metadata": {},
   "source": [
    "# Hyperparameter Tuning for Decision Tree\n",
    "#### DID NOT IMPROVE ANYTHING!\n"
   ]
  },
  {
   "cell_type": "code",
   "execution_count": null,
   "metadata": {},
   "outputs": [],
   "source": [
    "from sklearn.model_selection import GridSearchCV\n"
   ]
  },
  {
   "cell_type": "code",
   "execution_count": null,
   "metadata": {},
   "outputs": [],
   "source": [
    "y_hype_train=np.where(y_train=='DENY',1,0)\n",
    "y_hype_train\n",
    "\n",
    "y_hype_test=np.where(y_test=='DENY',1,0)\n",
    "\n",
    "\n",
    "y_hype_test"
   ]
  },
  {
   "cell_type": "code",
   "execution_count": null,
   "metadata": {},
   "outputs": [],
   "source": [
    "param_grid = {\"criterion\": [\"gini\", \"entropy\"],\n",
    "                 \"splitter\": [\"best\", \"random\"],\n",
    "                 \"max_depth\": [3, 10, None],\n",
    "                 \"max_features\":[\"auto\", \"sqrt\", \"log2\",\n",
    "                                ]\n",
    "             }# max death helps avoiding overfitting by give a maximum depth\n",
    "\n",
    "tune = GridSearchCV(DecisionTreeClassifier(),\n",
    "                       param_grid=param_grid,\n",
    "                       cv=5,scoring='recall')\n",
    "\n",
    "tune.fit(X_train, y_hype_train)\n",
    "tune.best_params_ "
   ]
  },
  {
   "cell_type": "code",
   "execution_count": null,
   "metadata": {},
   "outputs": [],
   "source": [
    "decisiontree_opt = DecisionTreeClassifier(**tune.best_params_).fit(X_train, y_hype_train)\n",
    "y_pred_tree_opt = decisiontree_opt.predict(X_test)\n",
    "decisiontree_opt.score(X_test, y_hype_test)\n"
   ]
  },
  {
   "cell_type": "code",
   "execution_count": null,
   "metadata": {},
   "outputs": [],
   "source": [
    "from sklearn.metrics import precision_score, recall_score, f1_score\n",
    "print(r'Precision', precision_score(y_hype_test, y_pred_tree_opt, pos_label=1))# we need to tell it what is our positive class. B is class indication costumer got payment trouble\n",
    "print(r'Recall: ', recall_score(y_hype_test, y_pred_tree_opt, pos_label=1))\n",
    "print(r'F1 Score: ',f1_score(y_hype_test, y_pred_tree_opt, pos_label=1))"
   ]
  },
  {
   "cell_type": "code",
   "execution_count": null,
   "metadata": {},
   "outputs": [],
   "source": [
    "cf_matrix = confusion_matrix(y_hype_test, y_pred_tree_opt)\n",
    "print(cf_matrix)\n",
    "sns.heatmap(cf_matrix/np.sum(cf_matrix), annot=True, \n",
    "            fmt='.2%', cmap='Blues')"
   ]
  },
  {
   "cell_type": "markdown",
   "metadata": {},
   "source": [
    "### Cross Validation\n",
    "Answers if our split into training and test set biased?\n",
    "or if a different split creates a better result\n",
    "splits "
   ]
  },
  {
   "cell_type": "code",
   "execution_count": null,
   "metadata": {},
   "outputs": [],
   "source": [
    "from sklearn.model_selection import cross_validate\n",
    "\n",
    "cross_validate(DecisionTreeClassifier(),\n",
    "               X_train,\n",
    "               y_hype_train,\n",
    "               cv=100,\n",
    "               scoring=\"recall\")[\"test_score\"].mean()"
   ]
  },
  {
   "cell_type": "markdown",
   "metadata": {},
   "source": [
    "# INSERT / INTERFACE\n"
   ]
  },
  {
   "cell_type": "code",
   "execution_count": 239,
   "metadata": {},
   "outputs": [
    {
     "data": {
      "text/plain": [
       "(0, 21)"
      ]
     },
     "execution_count": 239,
     "metadata": {},
     "output_type": "execute_result"
    }
   ],
   "source": [
    "pd.set_option('display.max_columns', None)\n",
    "customer=pd.DataFrame(columns=X.columns)\n",
    "customer.shape"
   ]
  },
  {
   "cell_type": "code",
   "execution_count": null,
   "metadata": {},
   "outputs": [],
   "source": [
    "credit_risk.person_age.mean()"
   ]
  },
  {
   "cell_type": "code",
   "execution_count": 241,
   "metadata": {},
   "outputs": [],
   "source": [
    "customer.loc[len(df)] = [credit_risk.person_age.mean(),\n",
    "                         credit_risk.person_income.mean(),\n",
    "                         credit_risk.person_emp_length.mean(),\n",
    "                         credit_risk.loan_amnt.mean(),\n",
    "                         credit_risk.loan_int_rate.mean(),\n",
    "                         credit_risk.loan_percent_income.mean(),\n",
    "                         0,#ownership_other,\n",
    "                         1,#ownership_own\n",
    "                         0,#ownership_rent\n",
    "                         0,#intent_education\n",
    "                         0,#intent_homeimprovement\n",
    "                         0,#intent_medical\n",
    "                         0,#'intent_personal'\n",
    "                         1, #intentn_venture\n",
    "                         0, #gradeB\n",
    "                         0, #grade C\n",
    "                         0, #grade d\n",
    "                         0,#grade e\n",
    "                         0,#grade f\n",
    "                         0, #grade g\n",
    "                         0 #prev_default\n",
    "                        ]"
   ]
  },
  {
   "cell_type": "code",
   "execution_count": 242,
   "metadata": {},
   "outputs": [
    {
     "data": {
      "text/html": [
       "<div>\n",
       "<style scoped>\n",
       "    .dataframe tbody tr th:only-of-type {\n",
       "        vertical-align: middle;\n",
       "    }\n",
       "\n",
       "    .dataframe tbody tr th {\n",
       "        vertical-align: top;\n",
       "    }\n",
       "\n",
       "    .dataframe thead th {\n",
       "        text-align: right;\n",
       "    }\n",
       "</style>\n",
       "<table border=\"1\" class=\"dataframe\">\n",
       "  <thead>\n",
       "    <tr style=\"text-align: right;\">\n",
       "      <th></th>\n",
       "      <th>person_age</th>\n",
       "      <th>person_income</th>\n",
       "      <th>person_emp_length</th>\n",
       "      <th>loan_amnt</th>\n",
       "      <th>loan_int_rate</th>\n",
       "      <th>loan_percent_income</th>\n",
       "      <th>ownership_other</th>\n",
       "      <th>ownership_own</th>\n",
       "      <th>ownership_rent</th>\n",
       "      <th>intent_education</th>\n",
       "      <th>intent_homeimprovement</th>\n",
       "      <th>intent_medical</th>\n",
       "      <th>intent_personal</th>\n",
       "      <th>intentn_venture</th>\n",
       "      <th>grade_B</th>\n",
       "      <th>grade_C</th>\n",
       "      <th>grade_D</th>\n",
       "      <th>grade_E</th>\n",
       "      <th>grade_F</th>\n",
       "      <th>grade_G</th>\n",
       "      <th>prev_default</th>\n",
       "    </tr>\n",
       "  </thead>\n",
       "  <tbody>\n",
       "    <tr>\n",
       "      <th>27354</th>\n",
       "      <td>0.413926</td>\n",
       "      <td>7.210428</td>\n",
       "      <td>4.788672</td>\n",
       "      <td>9656.493121</td>\n",
       "      <td>11.039867</td>\n",
       "      <td>0.169488</td>\n",
       "      <td>0.0</td>\n",
       "      <td>1.0</td>\n",
       "      <td>0.0</td>\n",
       "      <td>0.0</td>\n",
       "      <td>0.0</td>\n",
       "      <td>0.0</td>\n",
       "      <td>0.0</td>\n",
       "      <td>1.0</td>\n",
       "      <td>0.0</td>\n",
       "      <td>0.0</td>\n",
       "      <td>0.0</td>\n",
       "      <td>0.0</td>\n",
       "      <td>0.0</td>\n",
       "      <td>0.0</td>\n",
       "      <td>0.0</td>\n",
       "    </tr>\n",
       "  </tbody>\n",
       "</table>\n",
       "</div>"
      ],
      "text/plain": [
       "       person_age  person_income  person_emp_length    loan_amnt  \\\n",
       "27354    0.413926       7.210428           4.788672  9656.493121   \n",
       "\n",
       "       loan_int_rate  loan_percent_income  ownership_other  ownership_own  \\\n",
       "27354      11.039867             0.169488              0.0            1.0   \n",
       "\n",
       "       ownership_rent  intent_education  intent_homeimprovement  \\\n",
       "27354             0.0               0.0                     0.0   \n",
       "\n",
       "       intent_medical  intent_personal  intentn_venture  grade_B  grade_C  \\\n",
       "27354             0.0              0.0              1.0      0.0      0.0   \n",
       "\n",
       "       grade_D  grade_E  grade_F  grade_G  prev_default  \n",
       "27354      0.0      0.0      0.0      0.0           0.0  "
      ]
     },
     "execution_count": 242,
     "metadata": {},
     "output_type": "execute_result"
    }
   ],
   "source": [
    "customer"
   ]
  },
  {
   "cell_type": "code",
   "execution_count": 243,
   "metadata": {},
   "outputs": [
    {
     "data": {
      "text/plain": [
       "array(['APPROVE'], dtype=object)"
      ]
     },
     "execution_count": 243,
     "metadata": {},
     "output_type": "execute_result"
    }
   ],
   "source": [
    "y_customer=decisiontree.predict(customer)\n",
    "y_customer"
   ]
  },
  {
   "cell_type": "code",
   "execution_count": null,
   "metadata": {},
   "outputs": [],
   "source": []
  }
 ],
 "metadata": {
  "kernelspec": {
   "display_name": "Python 3",
   "language": "python",
   "name": "python3"
  },
  "language_info": {
   "codemirror_mode": {
    "name": "ipython",
    "version": 3
   },
   "file_extension": ".py",
   "mimetype": "text/x-python",
   "name": "python",
   "nbconvert_exporter": "python",
   "pygments_lexer": "ipython3",
   "version": "3.8.3"
  }
 },
 "nbformat": 4,
 "nbformat_minor": 4
}
