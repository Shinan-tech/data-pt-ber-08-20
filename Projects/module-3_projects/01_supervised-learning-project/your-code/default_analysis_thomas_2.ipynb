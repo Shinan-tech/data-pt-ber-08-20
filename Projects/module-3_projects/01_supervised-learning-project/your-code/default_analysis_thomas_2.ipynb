{
 "cells": [
  {
   "cell_type": "code",
   "execution_count": 1,
   "metadata": {},
   "outputs": [],
   "source": [
    "import pandas as pd\n",
    "import numpy as np\n",
    "import seaborn as sns\n",
    "import matplotlib.pyplot as plt\n",
    "from scipy import stats\n"
   ]
  },
  {
   "cell_type": "markdown",
   "metadata": {},
   "source": [
    "### HOW TO SCALE NORMALIZE STANDARDIZE?\n",
    "data pre-processing\n",
    "\n",
    "    remove or fill missing values\n",
    "    transfrom categorical / ordinal into numerical values\n",
    "    deal with outliers (since they will skew the fit of the model)\n",
    "    creating new features from existing ones Goal ist to achieve better ML results\n",
    "\n",
    "scaling\n",
    "\n",
    "regresssion with numbers in widely different scale ist an issue for variance: example 1 number in the dozens the other in the billions: creates problem as large scale number will be considerd \"more important\". We want all in comparable scale\n",
    "\n",
    "option to deal with it\n",
    "\n",
    "    (1) standardization: transform distribution to mean 0 and standard deviation of 1: For each data point subtract the mean and divide by standard deviation\n",
    "    (2) normalization: from each data point substract minimum and divide by (max-min): Achievs that all values are between 0 and 1\n",
    "\n"
   ]
  },
  {
   "cell_type": "code",
   "execution_count": 2,
   "metadata": {},
   "outputs": [],
   "source": [
    "#SET SIZE OF ALL PRINTS\n",
    "plt.rcParams['figure.figsize'] = [25, 6]\n"
   ]
  },
  {
   "cell_type": "code",
   "execution_count": 3,
   "metadata": {},
   "outputs": [
    {
     "data": {
      "text/html": [
       "<div>\n",
       "<style scoped>\n",
       "    .dataframe tbody tr th:only-of-type {\n",
       "        vertical-align: middle;\n",
       "    }\n",
       "\n",
       "    .dataframe tbody tr th {\n",
       "        vertical-align: top;\n",
       "    }\n",
       "\n",
       "    .dataframe thead th {\n",
       "        text-align: right;\n",
       "    }\n",
       "</style>\n",
       "<table border=\"1\" class=\"dataframe\">\n",
       "  <thead>\n",
       "    <tr style=\"text-align: right;\">\n",
       "      <th></th>\n",
       "      <th>person_age</th>\n",
       "      <th>person_income</th>\n",
       "      <th>person_home_ownership</th>\n",
       "      <th>person_emp_length</th>\n",
       "      <th>loan_intent</th>\n",
       "      <th>loan_grade</th>\n",
       "      <th>loan_amnt</th>\n",
       "      <th>loan_int_rate</th>\n",
       "      <th>loan_status</th>\n",
       "      <th>loan_percent_income</th>\n",
       "      <th>cb_person_default_on_file</th>\n",
       "      <th>cb_person_cred_hist_length</th>\n",
       "    </tr>\n",
       "  </thead>\n",
       "  <tbody>\n",
       "    <tr>\n",
       "      <th>0</th>\n",
       "      <td>22</td>\n",
       "      <td>59000</td>\n",
       "      <td>RENT</td>\n",
       "      <td>123.0</td>\n",
       "      <td>PERSONAL</td>\n",
       "      <td>D</td>\n",
       "      <td>35000</td>\n",
       "      <td>16.02</td>\n",
       "      <td>1</td>\n",
       "      <td>0.59</td>\n",
       "      <td>Y</td>\n",
       "      <td>3</td>\n",
       "    </tr>\n",
       "    <tr>\n",
       "      <th>1</th>\n",
       "      <td>21</td>\n",
       "      <td>9600</td>\n",
       "      <td>OWN</td>\n",
       "      <td>5.0</td>\n",
       "      <td>EDUCATION</td>\n",
       "      <td>B</td>\n",
       "      <td>1000</td>\n",
       "      <td>11.14</td>\n",
       "      <td>0</td>\n",
       "      <td>0.10</td>\n",
       "      <td>N</td>\n",
       "      <td>2</td>\n",
       "    </tr>\n",
       "    <tr>\n",
       "      <th>2</th>\n",
       "      <td>25</td>\n",
       "      <td>9600</td>\n",
       "      <td>MORTGAGE</td>\n",
       "      <td>1.0</td>\n",
       "      <td>MEDICAL</td>\n",
       "      <td>C</td>\n",
       "      <td>5500</td>\n",
       "      <td>12.87</td>\n",
       "      <td>1</td>\n",
       "      <td>0.57</td>\n",
       "      <td>N</td>\n",
       "      <td>3</td>\n",
       "    </tr>\n",
       "    <tr>\n",
       "      <th>3</th>\n",
       "      <td>23</td>\n",
       "      <td>65500</td>\n",
       "      <td>RENT</td>\n",
       "      <td>4.0</td>\n",
       "      <td>MEDICAL</td>\n",
       "      <td>C</td>\n",
       "      <td>35000</td>\n",
       "      <td>15.23</td>\n",
       "      <td>1</td>\n",
       "      <td>0.53</td>\n",
       "      <td>N</td>\n",
       "      <td>2</td>\n",
       "    </tr>\n",
       "    <tr>\n",
       "      <th>4</th>\n",
       "      <td>24</td>\n",
       "      <td>54400</td>\n",
       "      <td>RENT</td>\n",
       "      <td>8.0</td>\n",
       "      <td>MEDICAL</td>\n",
       "      <td>C</td>\n",
       "      <td>35000</td>\n",
       "      <td>14.27</td>\n",
       "      <td>1</td>\n",
       "      <td>0.55</td>\n",
       "      <td>Y</td>\n",
       "      <td>4</td>\n",
       "    </tr>\n",
       "  </tbody>\n",
       "</table>\n",
       "</div>"
      ],
      "text/plain": [
       "   person_age  person_income person_home_ownership  person_emp_length  \\\n",
       "0          22          59000                  RENT              123.0   \n",
       "1          21           9600                   OWN                5.0   \n",
       "2          25           9600              MORTGAGE                1.0   \n",
       "3          23          65500                  RENT                4.0   \n",
       "4          24          54400                  RENT                8.0   \n",
       "\n",
       "  loan_intent loan_grade  loan_amnt  loan_int_rate  loan_status  \\\n",
       "0    PERSONAL          D      35000          16.02            1   \n",
       "1   EDUCATION          B       1000          11.14            0   \n",
       "2     MEDICAL          C       5500          12.87            1   \n",
       "3     MEDICAL          C      35000          15.23            1   \n",
       "4     MEDICAL          C      35000          14.27            1   \n",
       "\n",
       "   loan_percent_income cb_person_default_on_file  cb_person_cred_hist_length  \n",
       "0                 0.59                         Y                           3  \n",
       "1                 0.10                         N                           2  \n",
       "2                 0.57                         N                           3  \n",
       "3                 0.53                         N                           2  \n",
       "4                 0.55                         Y                           4  "
      ]
     },
     "execution_count": 3,
     "metadata": {},
     "output_type": "execute_result"
    }
   ],
   "source": [
    "credit_risk=pd.read_csv('credit_risk_dataset.csv')\n",
    "credit_risk.head()"
   ]
  },
  {
   "cell_type": "markdown",
   "metadata": {},
   "source": [
    "#### NULL VALUES"
   ]
  },
  {
   "cell_type": "code",
   "execution_count": 4,
   "metadata": {},
   "outputs": [
    {
     "data": {
      "text/plain": [
       "person_age                       0\n",
       "person_income                    0\n",
       "person_home_ownership            0\n",
       "person_emp_length              895\n",
       "loan_intent                      0\n",
       "loan_grade                       0\n",
       "loan_amnt                        0\n",
       "loan_int_rate                 3116\n",
       "loan_status                      0\n",
       "loan_percent_income              0\n",
       "cb_person_default_on_file        0\n",
       "cb_person_cred_hist_length       0\n",
       "dtype: int64"
      ]
     },
     "execution_count": 4,
     "metadata": {},
     "output_type": "execute_result"
    }
   ],
   "source": [
    "credit_risk.isnull().sum()"
   ]
  },
  {
   "cell_type": "code",
   "execution_count": 5,
   "metadata": {},
   "outputs": [
    {
     "data": {
      "text/plain": [
       "person_age                    0\n",
       "person_income                 0\n",
       "person_home_ownership         0\n",
       "person_emp_length             0\n",
       "loan_intent                   0\n",
       "loan_grade                    0\n",
       "loan_amnt                     0\n",
       "loan_int_rate                 0\n",
       "loan_status                   0\n",
       "loan_percent_income           0\n",
       "cb_person_default_on_file     0\n",
       "cb_person_cred_hist_length    0\n",
       "dtype: int64"
      ]
     },
     "execution_count": 5,
     "metadata": {},
     "output_type": "execute_result"
    }
   ],
   "source": [
    "credit_risk=credit_risk.dropna(how='any',axis=0)\n",
    "credit_risk.isnull().sum()"
   ]
  },
  {
   "cell_type": "code",
   "execution_count": null,
   "metadata": {},
   "outputs": [],
   "source": []
  },
  {
   "cell_type": "markdown",
   "metadata": {},
   "source": [
    "# TARGET IS loan_status\n",
    "* We want to predict if someone will default (1) or not (0)\n",
    "* We are dealing with a binary classification problem\n"
   ]
  },
  {
   "cell_type": "code",
   "execution_count": 6,
   "metadata": {},
   "outputs": [],
   "source": [
    "credit_risk['loan_status']=np.where(credit_risk['loan_status']==1,'DENY','APPROVE')"
   ]
  },
  {
   "cell_type": "code",
   "execution_count": 7,
   "metadata": {},
   "outputs": [
    {
     "data": {
      "text/plain": [
       "0"
      ]
     },
     "execution_count": 7,
     "metadata": {},
     "output_type": "execute_result"
    }
   ],
   "source": [
    "credit_risk['loan_status'].isnull().sum()"
   ]
  },
  {
   "cell_type": "code",
   "execution_count": 8,
   "metadata": {},
   "outputs": [
    {
     "data": {
      "text/plain": [
       "\"#removed target column\\ncredit_risk.drop('loan_status',axis=1,inplace=True)\\n\""
      ]
     },
     "execution_count": 8,
     "metadata": {},
     "output_type": "execute_result"
    }
   ],
   "source": [
    "\"\"\"#removed target column\n",
    "credit_risk.drop('loan_status',axis=1,inplace=True)\n",
    "\"\"\""
   ]
  },
  {
   "cell_type": "markdown",
   "metadata": {},
   "source": [
    "# INVESTIGATING"
   ]
  },
  {
   "cell_type": "code",
   "execution_count": 9,
   "metadata": {},
   "outputs": [
    {
     "data": {
      "text/plain": [
       "person_age                      int64\n",
       "person_income                   int64\n",
       "person_home_ownership          object\n",
       "person_emp_length             float64\n",
       "loan_intent                    object\n",
       "loan_grade                     object\n",
       "loan_amnt                       int64\n",
       "loan_int_rate                 float64\n",
       "loan_status                    object\n",
       "loan_percent_income           float64\n",
       "cb_person_default_on_file      object\n",
       "cb_person_cred_hist_length      int64\n",
       "dtype: object"
      ]
     },
     "execution_count": 9,
     "metadata": {},
     "output_type": "execute_result"
    }
   ],
   "source": [
    "credit_risk.dtypes"
   ]
  },
  {
   "cell_type": "markdown",
   "metadata": {},
   "source": [
    "### Investigating the numerical variables"
   ]
  },
  {
   "cell_type": "code",
   "execution_count": 10,
   "metadata": {},
   "outputs": [
    {
     "data": {
      "text/html": [
       "<div>\n",
       "<style scoped>\n",
       "    .dataframe tbody tr th:only-of-type {\n",
       "        vertical-align: middle;\n",
       "    }\n",
       "\n",
       "    .dataframe tbody tr th {\n",
       "        vertical-align: top;\n",
       "    }\n",
       "\n",
       "    .dataframe thead th {\n",
       "        text-align: right;\n",
       "    }\n",
       "</style>\n",
       "<table border=\"1\" class=\"dataframe\">\n",
       "  <thead>\n",
       "    <tr style=\"text-align: right;\">\n",
       "      <th></th>\n",
       "      <th>person_age</th>\n",
       "      <th>person_income</th>\n",
       "      <th>person_emp_length</th>\n",
       "      <th>loan_amnt</th>\n",
       "      <th>loan_int_rate</th>\n",
       "      <th>loan_percent_income</th>\n",
       "      <th>cb_person_cred_hist_length</th>\n",
       "    </tr>\n",
       "  </thead>\n",
       "  <tbody>\n",
       "    <tr>\n",
       "      <th>count</th>\n",
       "      <td>28638.000000</td>\n",
       "      <td>2.863800e+04</td>\n",
       "      <td>28638.000000</td>\n",
       "      <td>28638.000000</td>\n",
       "      <td>28638.000000</td>\n",
       "      <td>28638.000000</td>\n",
       "      <td>28638.000000</td>\n",
       "    </tr>\n",
       "    <tr>\n",
       "      <th>mean</th>\n",
       "      <td>27.727216</td>\n",
       "      <td>6.664937e+04</td>\n",
       "      <td>4.788672</td>\n",
       "      <td>9656.493121</td>\n",
       "      <td>11.039867</td>\n",
       "      <td>0.169488</td>\n",
       "      <td>5.793736</td>\n",
       "    </tr>\n",
       "    <tr>\n",
       "      <th>std</th>\n",
       "      <td>6.310441</td>\n",
       "      <td>6.235645e+04</td>\n",
       "      <td>4.154627</td>\n",
       "      <td>6329.683361</td>\n",
       "      <td>3.229372</td>\n",
       "      <td>0.106393</td>\n",
       "      <td>4.038483</td>\n",
       "    </tr>\n",
       "    <tr>\n",
       "      <th>min</th>\n",
       "      <td>20.000000</td>\n",
       "      <td>4.000000e+03</td>\n",
       "      <td>0.000000</td>\n",
       "      <td>500.000000</td>\n",
       "      <td>5.420000</td>\n",
       "      <td>0.000000</td>\n",
       "      <td>2.000000</td>\n",
       "    </tr>\n",
       "    <tr>\n",
       "      <th>25%</th>\n",
       "      <td>23.000000</td>\n",
       "      <td>3.948000e+04</td>\n",
       "      <td>2.000000</td>\n",
       "      <td>5000.000000</td>\n",
       "      <td>7.900000</td>\n",
       "      <td>0.090000</td>\n",
       "      <td>3.000000</td>\n",
       "    </tr>\n",
       "    <tr>\n",
       "      <th>50%</th>\n",
       "      <td>26.000000</td>\n",
       "      <td>5.595600e+04</td>\n",
       "      <td>4.000000</td>\n",
       "      <td>8000.000000</td>\n",
       "      <td>10.990000</td>\n",
       "      <td>0.150000</td>\n",
       "      <td>4.000000</td>\n",
       "    </tr>\n",
       "    <tr>\n",
       "      <th>75%</th>\n",
       "      <td>30.000000</td>\n",
       "      <td>8.000000e+04</td>\n",
       "      <td>7.000000</td>\n",
       "      <td>12500.000000</td>\n",
       "      <td>13.480000</td>\n",
       "      <td>0.230000</td>\n",
       "      <td>8.000000</td>\n",
       "    </tr>\n",
       "    <tr>\n",
       "      <th>max</th>\n",
       "      <td>144.000000</td>\n",
       "      <td>6.000000e+06</td>\n",
       "      <td>123.000000</td>\n",
       "      <td>35000.000000</td>\n",
       "      <td>23.220000</td>\n",
       "      <td>0.830000</td>\n",
       "      <td>30.000000</td>\n",
       "    </tr>\n",
       "  </tbody>\n",
       "</table>\n",
       "</div>"
      ],
      "text/plain": [
       "         person_age  person_income  person_emp_length     loan_amnt  \\\n",
       "count  28638.000000   2.863800e+04       28638.000000  28638.000000   \n",
       "mean      27.727216   6.664937e+04           4.788672   9656.493121   \n",
       "std        6.310441   6.235645e+04           4.154627   6329.683361   \n",
       "min       20.000000   4.000000e+03           0.000000    500.000000   \n",
       "25%       23.000000   3.948000e+04           2.000000   5000.000000   \n",
       "50%       26.000000   5.595600e+04           4.000000   8000.000000   \n",
       "75%       30.000000   8.000000e+04           7.000000  12500.000000   \n",
       "max      144.000000   6.000000e+06         123.000000  35000.000000   \n",
       "\n",
       "       loan_int_rate  loan_percent_income  cb_person_cred_hist_length  \n",
       "count   28638.000000         28638.000000                28638.000000  \n",
       "mean       11.039867             0.169488                    5.793736  \n",
       "std         3.229372             0.106393                    4.038483  \n",
       "min         5.420000             0.000000                    2.000000  \n",
       "25%         7.900000             0.090000                    3.000000  \n",
       "50%        10.990000             0.150000                    4.000000  \n",
       "75%        13.480000             0.230000                    8.000000  \n",
       "max        23.220000             0.830000                   30.000000  "
      ]
     },
     "execution_count": 10,
     "metadata": {},
     "output_type": "execute_result"
    }
   ],
   "source": [
    "credit_risk.describe()"
   ]
  },
  {
   "cell_type": "code",
   "execution_count": 11,
   "metadata": {},
   "outputs": [],
   "source": [
    "# TO BE NOTES\n",
    "# AGE 144 LOOKS SUSPICOUS"
   ]
  },
  {
   "cell_type": "markdown",
   "metadata": {},
   "source": [
    "### Multicollinearity"
   ]
  },
  {
   "cell_type": "code",
   "execution_count": 12,
   "metadata": {},
   "outputs": [
    {
     "data": {
      "image/png": "[encoded data removed]",
      "text/plain": [
       "<Figure size 720x576 with 2 Axes>"
      ]
     },
     "metadata": {
      "needs_background": "light"
     },
     "output_type": "display_data"
    }
   ],
   "source": [
    "# Checking for multicollinearity\n",
    "plt.figure(figsize=(10, 8))\n",
    "ax = sns.heatmap(credit_risk.corr(), annot=True)\n",
    "plt.show()"
   ]
  },
  {
   "cell_type": "code",
   "execution_count": 13,
   "metadata": {},
   "outputs": [],
   "source": [
    "# Correlation with cb_person_cred_hist_length and age is annoyingly high.\n",
    "# I'll get rid of cb_person_cred_hist_length to avoid multi colinarity \n",
    "credit_risk.drop('cb_person_cred_hist_length',axis=1,inplace=True)"
   ]
  },
  {
   "cell_type": "markdown",
   "metadata": {},
   "source": [
    "### DISTRIBUTION\n",
    "taking care of distribution of numerical variables and feeding ne distributions into analysis datafram \"df_norm\""
   ]
  },
  {
   "cell_type": "code",
   "execution_count": 14,
   "metadata": {},
   "outputs": [
    {
     "data": {
      "text/html": [
       "<div>\n",
       "<style scoped>\n",
       "    .dataframe tbody tr th:only-of-type {\n",
       "        vertical-align: middle;\n",
       "    }\n",
       "\n",
       "    .dataframe tbody tr th {\n",
       "        vertical-align: top;\n",
       "    }\n",
       "\n",
       "    .dataframe thead th {\n",
       "        text-align: right;\n",
       "    }\n",
       "</style>\n",
       "<table border=\"1\" class=\"dataframe\">\n",
       "  <thead>\n",
       "    <tr style=\"text-align: right;\">\n",
       "      <th></th>\n",
       "      <th>person_age</th>\n",
       "      <th>person_income</th>\n",
       "      <th>person_home_ownership</th>\n",
       "      <th>person_emp_length</th>\n",
       "      <th>loan_intent</th>\n",
       "      <th>loan_grade</th>\n",
       "      <th>loan_amnt</th>\n",
       "      <th>loan_int_rate</th>\n",
       "      <th>loan_status</th>\n",
       "      <th>loan_percent_income</th>\n",
       "      <th>cb_person_default_on_file</th>\n",
       "    </tr>\n",
       "  </thead>\n",
       "  <tbody>\n",
       "    <tr>\n",
       "      <th>0</th>\n",
       "      <td>22</td>\n",
       "      <td>59000</td>\n",
       "      <td>RENT</td>\n",
       "      <td>123.0</td>\n",
       "      <td>PERSONAL</td>\n",
       "      <td>D</td>\n",
       "      <td>35000</td>\n",
       "      <td>16.02</td>\n",
       "      <td>DENY</td>\n",
       "      <td>0.59</td>\n",
       "      <td>Y</td>\n",
       "    </tr>\n",
       "    <tr>\n",
       "      <th>1</th>\n",
       "      <td>21</td>\n",
       "      <td>9600</td>\n",
       "      <td>OWN</td>\n",
       "      <td>5.0</td>\n",
       "      <td>EDUCATION</td>\n",
       "      <td>B</td>\n",
       "      <td>1000</td>\n",
       "      <td>11.14</td>\n",
       "      <td>APPROVE</td>\n",
       "      <td>0.10</td>\n",
       "      <td>N</td>\n",
       "    </tr>\n",
       "    <tr>\n",
       "      <th>2</th>\n",
       "      <td>25</td>\n",
       "      <td>9600</td>\n",
       "      <td>MORTGAGE</td>\n",
       "      <td>1.0</td>\n",
       "      <td>MEDICAL</td>\n",
       "      <td>C</td>\n",
       "      <td>5500</td>\n",
       "      <td>12.87</td>\n",
       "      <td>DENY</td>\n",
       "      <td>0.57</td>\n",
       "      <td>N</td>\n",
       "    </tr>\n",
       "    <tr>\n",
       "      <th>3</th>\n",
       "      <td>23</td>\n",
       "      <td>65500</td>\n",
       "      <td>RENT</td>\n",
       "      <td>4.0</td>\n",
       "      <td>MEDICAL</td>\n",
       "      <td>C</td>\n",
       "      <td>35000</td>\n",
       "      <td>15.23</td>\n",
       "      <td>DENY</td>\n",
       "      <td>0.53</td>\n",
       "      <td>N</td>\n",
       "    </tr>\n",
       "    <tr>\n",
       "      <th>4</th>\n",
       "      <td>24</td>\n",
       "      <td>54400</td>\n",
       "      <td>RENT</td>\n",
       "      <td>8.0</td>\n",
       "      <td>MEDICAL</td>\n",
       "      <td>C</td>\n",
       "      <td>35000</td>\n",
       "      <td>14.27</td>\n",
       "      <td>DENY</td>\n",
       "      <td>0.55</td>\n",
       "      <td>Y</td>\n",
       "    </tr>\n",
       "  </tbody>\n",
       "</table>\n",
       "</div>"
      ],
      "text/plain": [
       "   person_age  person_income person_home_ownership  person_emp_length  \\\n",
       "0          22          59000                  RENT              123.0   \n",
       "1          21           9600                   OWN                5.0   \n",
       "2          25           9600              MORTGAGE                1.0   \n",
       "3          23          65500                  RENT                4.0   \n",
       "4          24          54400                  RENT                8.0   \n",
       "\n",
       "  loan_intent loan_grade  loan_amnt  loan_int_rate loan_status  \\\n",
       "0    PERSONAL          D      35000          16.02        DENY   \n",
       "1   EDUCATION          B       1000          11.14     APPROVE   \n",
       "2     MEDICAL          C       5500          12.87        DENY   \n",
       "3     MEDICAL          C      35000          15.23        DENY   \n",
       "4     MEDICAL          C      35000          14.27        DENY   \n",
       "\n",
       "   loan_percent_income cb_person_default_on_file  \n",
       "0                 0.59                         Y  \n",
       "1                 0.10                         N  \n",
       "2                 0.57                         N  \n",
       "3                 0.53                         N  \n",
       "4                 0.55                         Y  "
      ]
     },
     "execution_count": 14,
     "metadata": {},
     "output_type": "execute_result"
    }
   ],
   "source": [
    "df_norm=pd.DataFrame(credit_risk)\n",
    "df_norm.head()"
   ]
  },
  {
   "cell_type": "code",
   "execution_count": 15,
   "metadata": {},
   "outputs": [
    {
     "ename": "AttributeError",
     "evalue": "module 'seaborn' has no attribute 'set_theme'",
     "output_type": "error",
     "traceback": [
      "\u001b[1;31m---------------------------------------------------------------------------\u001b[0m",
      "\u001b[1;31mAttributeError\u001b[0m                            Traceback (most recent call last)",
      "\u001b[1;32m<ipython-input-15-abdc3f4e6eb2>\u001b[0m in \u001b[0;36m<module>\u001b[1;34m\u001b[0m\n\u001b[1;32m----> 1\u001b[1;33m \u001b[0msns\u001b[0m\u001b[1;33m.\u001b[0m\u001b[0mset_theme\u001b[0m\u001b[1;33m(\u001b[0m\u001b[1;33m)\u001b[0m\u001b[1;33m\u001b[0m\u001b[1;33m\u001b[0m\u001b[0m\n\u001b[0m\u001b[0;32m      2\u001b[0m \u001b[0msns\u001b[0m\u001b[1;33m.\u001b[0m\u001b[0mset\u001b[0m\u001b[1;33m(\u001b[0m\u001b[0mstyle\u001b[0m\u001b[1;33m=\u001b[0m\u001b[1;34m\"ticks\"\u001b[0m\u001b[1;33m,\u001b[0m \u001b[0mcontext\u001b[0m\u001b[1;33m=\u001b[0m\u001b[1;34m\"talk\"\u001b[0m\u001b[1;33m)\u001b[0m\u001b[1;33m\u001b[0m\u001b[1;33m\u001b[0m\u001b[0m\n\u001b[0;32m      3\u001b[0m \u001b[0msns\u001b[0m\u001b[1;33m.\u001b[0m\u001b[0mpairplot\u001b[0m\u001b[1;33m(\u001b[0m\u001b[0mdf_norm\u001b[0m\u001b[1;33m,\u001b[0m\u001b[0mcorner\u001b[0m\u001b[1;33m=\u001b[0m\u001b[1;32mTrue\u001b[0m\u001b[1;33m)\u001b[0m\u001b[1;33m\u001b[0m\u001b[1;33m\u001b[0m\u001b[0m\n",
      "\u001b[1;31mAttributeError\u001b[0m: module 'seaborn' has no attribute 'set_theme'"
     ]
    }
   ],
   "source": [
    "sns.set_theme()\n",
    "sns.set(style=\"ticks\", context=\"talk\")\n",
    "sns.pairplot(df_norm,corner=True)"
   ]
  },
  {
   "cell_type": "code",
   "execution_count": null,
   "metadata": {},
   "outputs": [],
   "source": [
    "\n"
   ]
  },
  {
   "cell_type": "code",
   "execution_count": 16,
   "metadata": {},
   "outputs": [
    {
     "name": "stdout",
     "output_type": "stream",
     "text": [
      "DescribeResult(nobs=28638, minmax=(20, 144), mean=27.727215587680703, variance=39.821664565805136, skewness=2.5647289679115506, kurtosis=18.71526930783637)\n"
     ]
    },
    {
     "ename": "AttributeError",
     "evalue": "module 'seaborn' has no attribute 'set_theme'",
     "output_type": "error",
     "traceback": [
      "\u001b[1;31m---------------------------------------------------------------------------\u001b[0m",
      "\u001b[1;31mAttributeError\u001b[0m                            Traceback (most recent call last)",
      "\u001b[1;32m<ipython-input-16-9ea5de79aa4f>\u001b[0m in \u001b[0;36m<module>\u001b[1;34m\u001b[0m\n\u001b[0;32m      3\u001b[0m \u001b[1;31m#age 144 looked suspicous, but there is more\u001b[0m\u001b[1;33m\u001b[0m\u001b[1;33m\u001b[0m\u001b[1;33m\u001b[0m\u001b[0m\n\u001b[0;32m      4\u001b[0m \u001b[0mprint\u001b[0m\u001b[1;33m(\u001b[0m\u001b[0mstats\u001b[0m\u001b[1;33m.\u001b[0m\u001b[0mdescribe\u001b[0m\u001b[1;33m(\u001b[0m\u001b[0mdf_norm\u001b[0m\u001b[1;33m.\u001b[0m\u001b[0mperson_age\u001b[0m\u001b[1;33m)\u001b[0m\u001b[1;33m)\u001b[0m\u001b[1;33m\u001b[0m\u001b[1;33m\u001b[0m\u001b[0m\n\u001b[1;32m----> 5\u001b[1;33m \u001b[0msns\u001b[0m\u001b[1;33m.\u001b[0m\u001b[0mset_theme\u001b[0m\u001b[1;33m(\u001b[0m\u001b[1;33m)\u001b[0m\u001b[1;33m\u001b[0m\u001b[1;33m\u001b[0m\u001b[0m\n\u001b[0m\u001b[0;32m      6\u001b[0m \u001b[0msns\u001b[0m\u001b[1;33m.\u001b[0m\u001b[0mboxplot\u001b[0m\u001b[1;33m(\u001b[0m\u001b[0mdf_norm\u001b[0m\u001b[1;33m.\u001b[0m\u001b[0mperson_age\u001b[0m\u001b[1;33m)\u001b[0m\u001b[1;33m.\u001b[0m\u001b[0mset_title\u001b[0m\u001b[1;33m(\u001b[0m\u001b[1;34m\"PERSON AGE\"\u001b[0m\u001b[1;33m)\u001b[0m\u001b[1;33m\u001b[0m\u001b[1;33m\u001b[0m\u001b[0m\n",
      "\u001b[1;31mAttributeError\u001b[0m: module 'seaborn' has no attribute 'set_theme'"
     ]
    }
   ],
   "source": [
    "# person_age\n",
    "\n",
    "#age 144 looked suspicous, but there is more\n",
    "print(stats.describe(df_norm.person_age))\n",
    "sns.set_theme()\n",
    "sns.boxplot(df_norm.person_age).set_title(\"PERSON AGE\")"
   ]
  },
  {
   "cell_type": "code",
   "execution_count": null,
   "metadata": {},
   "outputs": [],
   "source": [
    "# person_income\n",
    "print(stats.describe(df_norm.person_income))\n",
    "sns.set_theme()\n",
    "sns.boxplot(df_norm.person_income).set_title(\"PERSON INCOME\")"
   ]
  },
  {
   "cell_type": "code",
   "execution_count": null,
   "metadata": {},
   "outputs": [],
   "source": [
    "# loan_amnt\n",
    "sns.boxplot(df_norm.loan_amnt).set_title(\"LOAN AMOUNT\")\n",
    "print(stats.describe(df_norm.loan_amnt))\n",
    "sns.set_theme()\n",
    "plt.show()"
   ]
  },
  {
   "cell_type": "code",
   "execution_count": null,
   "metadata": {},
   "outputs": [],
   "source": [
    "# loan_int_rate\n",
    "print(stats.describe(df_norm.loan_int_rate))\n",
    "sns.set_theme()\n",
    "sns.boxplot(df_norm.loan_int_rate).set_title(\"INTEREST RATE\")\n",
    "plt.show()"
   ]
  },
  {
   "cell_type": "markdown",
   "metadata": {},
   "source": [
    "person_emp_length\n",
    "\n",
    "employment lenght \n",
    "\n",
    "* contains values 0. boxcox need strictly positive values"
   ]
  },
  {
   "cell_type": "code",
   "execution_count": 17,
   "metadata": {},
   "outputs": [
    {
     "name": "stdout",
     "output_type": "stream",
     "text": [
      "DescribeResult(nobs=28638, minmax=(0.0, 123.0), mean=4.788672393323556, variance=17.26092276859986, skewness=2.752794803605464, kurtosis=47.631175404335224)\n"
     ]
    },
    {
     "data": {
      "image/png": "[encoded data removed]",
      "text/plain": [
       "<Figure size 1800x432 with 1 Axes>"
      ]
     },
     "metadata": {
      "needs_background": "light"
     },
     "output_type": "display_data"
    }
   ],
   "source": [
    "# EMPLOYMENT LENGTH\n",
    "print(stats.describe(df_norm.person_emp_length))\n",
    "sns.boxplot(df_norm.person_emp_length).set_title(\"EMPLOYMENT LENGTH\")\n",
    "plt.show()"
   ]
  },
  {
   "cell_type": "code",
   "execution_count": 18,
   "metadata": {},
   "outputs": [
    {
     "name": "stdout",
     "output_type": "stream",
     "text": [
      "DescribeResult(nobs=28638, minmax=(0.0, 0.83), mean=0.1694880927439067, variance=0.011319366394511495, skewness=1.0776534148284151, kurtosis=1.2911130721761417)\n"
     ]
    },
    {
     "ename": "AttributeError",
     "evalue": "module 'seaborn' has no attribute 'set_theme'",
     "output_type": "error",
     "traceback": [
      "\u001b[1;31m---------------------------------------------------------------------------\u001b[0m",
      "\u001b[1;31mAttributeError\u001b[0m                            Traceback (most recent call last)",
      "\u001b[1;32m<ipython-input-18-348ea254eef1>\u001b[0m in \u001b[0;36m<module>\u001b[1;34m\u001b[0m\n\u001b[0;32m      1\u001b[0m \u001b[1;31m# loan_percent_income\u001b[0m\u001b[1;33m\u001b[0m\u001b[1;33m\u001b[0m\u001b[1;33m\u001b[0m\u001b[0m\n\u001b[0;32m      2\u001b[0m \u001b[0mprint\u001b[0m\u001b[1;33m(\u001b[0m\u001b[0mstats\u001b[0m\u001b[1;33m.\u001b[0m\u001b[0mdescribe\u001b[0m\u001b[1;33m(\u001b[0m\u001b[0mdf_norm\u001b[0m\u001b[1;33m.\u001b[0m\u001b[0mloan_percent_income\u001b[0m\u001b[1;33m)\u001b[0m\u001b[1;33m)\u001b[0m\u001b[1;33m\u001b[0m\u001b[1;33m\u001b[0m\u001b[0m\n\u001b[1;32m----> 3\u001b[1;33m \u001b[0msns\u001b[0m\u001b[1;33m.\u001b[0m\u001b[0mset_theme\u001b[0m\u001b[1;33m(\u001b[0m\u001b[1;33m)\u001b[0m\u001b[1;33m\u001b[0m\u001b[1;33m\u001b[0m\u001b[0m\n\u001b[0m\u001b[0;32m      4\u001b[0m \u001b[0msns\u001b[0m\u001b[1;33m.\u001b[0m\u001b[0mboxplot\u001b[0m\u001b[1;33m(\u001b[0m\u001b[0mdf_norm\u001b[0m\u001b[1;33m.\u001b[0m\u001b[0mloan_percent_income\u001b[0m\u001b[1;33m)\u001b[0m\u001b[1;33m.\u001b[0m\u001b[0mset_title\u001b[0m\u001b[1;33m(\u001b[0m\u001b[1;34m\"RATIO INCOME / LOAN\"\u001b[0m\u001b[1;33m)\u001b[0m\u001b[1;33m\u001b[0m\u001b[1;33m\u001b[0m\u001b[0m\n\u001b[0;32m      5\u001b[0m \u001b[0mplt\u001b[0m\u001b[1;33m.\u001b[0m\u001b[0mshow\u001b[0m\u001b[1;33m(\u001b[0m\u001b[1;33m)\u001b[0m\u001b[1;33m\u001b[0m\u001b[1;33m\u001b[0m\u001b[0m\n",
      "\u001b[1;31mAttributeError\u001b[0m: module 'seaborn' has no attribute 'set_theme'"
     ]
    }
   ],
   "source": [
    "# loan_percent_income\n",
    "print(stats.describe(df_norm.loan_percent_income))\n",
    "sns.set_theme()\n",
    "sns.boxplot(df_norm.loan_percent_income).set_title(\"RATIO INCOME / LOAN\")\n",
    "plt.show()"
   ]
  },
  {
   "cell_type": "markdown",
   "metadata": {},
   "source": [
    "#### BOXCOX APPLICATION\n",
    "* person_age  \n",
    "* person_income \n",
    "* loan_amnt \n",
    "* loan_int_rate\n",
    "\n",
    "https://scikit-learn.org/stable/modules/generated/sklearn.preprocessing.PowerTransformer.html"
   ]
  },
  {
   "cell_type": "code",
   "execution_count": null,
   "metadata": {},
   "outputs": [],
   "source": []
  },
  {
   "cell_type": "code",
   "execution_count": 19,
   "metadata": {},
   "outputs": [
    {
     "data": {
      "text/plain": [
       "array([[ 0.41384528,  7.23320056, 46.90579673,  6.3311228 ],\n",
       "       [ 0.41381707,  6.4396164 , 17.64195333,  4.88998743],\n",
       "       [ 0.41390829,  6.4396164 , 28.63100853,  5.42958587],\n",
       "       ...,\n",
       "       [ 0.41406517,  7.33474356, 46.90579673,  4.84140639],\n",
       "       [ 0.41405766,  7.59718204, 37.53232448,  4.99898143],\n",
       "       [ 0.4140658 ,  7.09353186, 29.93743604,  4.5092394 ]])"
      ]
     },
     "execution_count": 19,
     "metadata": {},
     "output_type": "execute_result"
    }
   ],
   "source": [
    "#boxcox\n",
    "from sklearn.preprocessing import PowerTransformer\n",
    "#settting standardize to False since i will use the standardizer on the entire dataframe anyway\n",
    "#setting copy to False as this will result in instant replaement of the input data \n",
    "\n",
    "boxcox=PowerTransformer(method='box-cox', standardize=False, copy=False)\n",
    "\n",
    "boxcox.fit(df_norm[['person_age','person_income','loan_amnt','loan_int_rate']])\n",
    "boxcox.fit_transform(df_norm[['person_age','person_income','loan_amnt','loan_int_rate']], y=None)\n",
    "#creates row wise arrays!"
   ]
  },
  {
   "cell_type": "code",
   "execution_count": null,
   "metadata": {},
   "outputs": [],
   "source": [
    "df_boxcox=pd.DataFrame(boxcox.fit_transform(df_norm[['person_age','person_income','loan_amnt','loan_int_rate']], y=None)\n",
    ", columns=['person_age','person_income','loan_amnt','loan_int_rate'])\n",
    "df_boxcox.isnull().sum()"
   ]
  },
  {
   "cell_type": "code",
   "execution_count": null,
   "metadata": {},
   "outputs": [],
   "source": [
    "#drop columns with original data  and replace with boxcoced data\n",
    "df_norm.drop(['person_age','person_income','loan_amnt','loan_int_rate'],axis=1,inplace=True)"
   ]
  },
  {
   "cell_type": "code",
   "execution_count": null,
   "metadata": {},
   "outputs": [],
   "source": [
    "print(df_norm.shape)\n",
    "print(df_boxcox.shape)"
   ]
  },
  {
   "cell_type": "code",
   "execution_count": null,
   "metadata": {},
   "outputs": [],
   "source": [
    "df_norm_boxcox=pd.concat([df_boxcox.reset_index(drop=True), df_norm.reset_index(drop=True)],axis=1)"
   ]
  },
  {
   "cell_type": "code",
   "execution_count": null,
   "metadata": {},
   "outputs": [],
   "source": [
    "print(df_norm_boxcox.shape)"
   ]
  },
  {
   "cell_type": "code",
   "execution_count": null,
   "metadata": {},
   "outputs": [],
   "source": [
    "df_norm_boxcox.shape"
   ]
  },
  {
   "cell_type": "code",
   "execution_count": null,
   "metadata": {},
   "outputs": [],
   "source": [
    "df_norm_boxcox.isnull().sum()"
   ]
  },
  {
   "cell_type": "code",
   "execution_count": null,
   "metadata": {},
   "outputs": [],
   "source": [
    "df_norm_boxcox"
   ]
  },
  {
   "cell_type": "markdown",
   "metadata": {},
   "source": [
    "#### OUTLIERS"
   ]
  },
  {
   "cell_type": "markdown",
   "metadata": {},
   "source": []
  },
  {
   "cell_type": "code",
   "execution_count": null,
   "metadata": {},
   "outputs": [],
   "source": [
    "#OUTLIERS person_income\n",
    "iqr = np.percentile(df_norm_boxcox['person_income'],75) - np.percentile(df_norm_boxcox['person_income'],25)\n",
    "upper_limit = np.percentile(df_norm_boxcox['person_income'],75) + 1.5*iqr \n",
    "lower_limit = np.percentile(df_norm_boxcox['person_income'],25) - 1.5*iqr\n",
    "\n",
    "df_norm_boxcox['person_income'] = df_norm_boxcox['person_income'][(df_norm_boxcox['person_income']>lower_limit) & (df_norm_boxcox['person_income']<upper_limit)]"
   ]
  },
  {
   "cell_type": "code",
   "execution_count": null,
   "metadata": {},
   "outputs": [],
   "source": [
    "#OUTLIES loan_percent_income\n",
    "iqr = np.percentile(df_norm_boxcox.loan_percent_income,75) - np.percentile(df_norm_boxcox.loan_percent_income,25)\n",
    "upper_limit = np.percentile(df_norm_boxcox.loan_percent_income,75) + 1.5*iqr \n",
    "lower_limit = np.percentile(df_norm_boxcox.loan_percent_income,25) - 1.5*iqr\n",
    "df_norm_boxcox.loan_percent_income = df_norm_boxcox.loan_percent_income[(df_norm_boxcox.loan_percent_income>lower_limit) & (df_norm_boxcox.loan_percent_income<upper_limit)]\n"
   ]
  },
  {
   "cell_type": "code",
   "execution_count": null,
   "metadata": {},
   "outputs": [],
   "source": [
    "#OUTLIES person_emp_length\n",
    "iqr = np.percentile(df_norm_boxcox.person_emp_length,75) - np.percentile(df_norm_boxcox.person_emp_length,25)\n",
    "upper_limit = np.percentile(df_norm_boxcox.person_emp_length,75) + 1.5*iqr \n",
    "lower_limit = np.percentile(df_norm_boxcox.person_emp_length,25) - 1.5*iqr\n",
    "df_norm_boxcox.person_emp_length = df_norm_boxcox.person_emp_length[(df_norm_boxcox.person_emp_length>lower_limit) & (df_norm_boxcox.person_emp_length<upper_limit)]\n"
   ]
  },
  {
   "cell_type": "code",
   "execution_count": null,
   "metadata": {},
   "outputs": [],
   "source": [
    "df_norm_boxcox.isnull().sum()"
   ]
  },
  {
   "cell_type": "code",
   "execution_count": null,
   "metadata": {},
   "outputs": [],
   "source": [
    "df_norm_boxcox=df_norm_boxcox.dropna(how='any',axis=0)"
   ]
  },
  {
   "cell_type": "markdown",
   "metadata": {},
   "source": [
    "## STANDARDIZE"
   ]
  },
  {
   "cell_type": "code",
   "execution_count": null,
   "metadata": {},
   "outputs": [],
   "source": [
    "df_norm=df_norm_boxcox\n",
    "df_norm.isnull().sum()"
   ]
  },
  {
   "cell_type": "code",
   "execution_count": null,
   "metadata": {},
   "outputs": [],
   "source": [
    "from sklearn.preprocessing import StandardScaler\n",
    "# selectiong only the numerical columns\n",
    "df_norm_num = df_norm.select_dtypes(include = np.number)\n",
    "print('Before standardization:\\n ',df_norm_num .head())\n",
    "# standardize data\n",
    "scaler = StandardScaler(with_mean=True).fit(df_norm_num)\n",
    "df_norm_num_standardized = scaler.transform(df_norm_num)\n",
    "df_norm_num_standardized  = pd.DataFrame(df_norm_num_standardized, columns = df_norm_num.columns)\n",
    "print('\\nAfter Standardized: \\n',df_norm_num_standardized .head())"
   ]
  },
  {
   "cell_type": "markdown",
   "metadata": {},
   "source": [
    "#### Distribution after standardizationand scaling"
   ]
  },
  {
   "cell_type": "code",
   "execution_count": null,
   "metadata": {},
   "outputs": [],
   "source": [
    "sns.set_theme()\n",
    "sns.set(style=\"ticks\", context=\"talk\")\n",
    "sns.pairplot(df_norm,corner=True)"
   ]
  },
  {
   "cell_type": "markdown",
   "metadata": {},
   "source": [
    "## CREATE DUMMIES OF CATEGORICALS"
   ]
  },
  {
   "cell_type": "code",
   "execution_count": null,
   "metadata": {},
   "outputs": [],
   "source": [
    "from sklearn.preprocessing import OneHotEncoder\n",
    "df_norm_cat = df_norm.select_dtypes(include = np.object).drop(columns = 'loan_status')\n",
    "\n",
    "enc = OneHotEncoder(drop = \"first\")\n",
    "\n",
    "df_norm_cat = pd.DataFrame(enc.fit_transform(df_norm_cat).toarray(),columns = enc.get_feature_names())"
   ]
  },
  {
   "cell_type": "code",
   "execution_count": null,
   "metadata": {},
   "outputs": [],
   "source": [
    "df_norm_cat=df_norm_cat.rename(columns={'x0_OTHER':'ownership_other','x0_OWN':'ownership_own','x0_RENT':'ownership_rent','x1_EDUCATION':'intent_education','x1_HOMEIMPROVEMENT':'intent_homeimprovement','x1_MEDICAL':'intent_medical','x1_PERSONAL':'intent_personal','x1_VENTURE':'intentn_venture','x2_B':'grade_B','x2_C':'grade_C','x2_D':'grade_D','x2_E':'grade_E','x2_F':'grade_F','x2_G':'grade_G','x3_Y':'prev_default'})"
   ]
  },
  {
   "cell_type": "code",
   "execution_count": null,
   "metadata": {},
   "outputs": [],
   "source": [
    "df_norm_cat"
   ]
  },
  {
   "cell_type": "code",
   "execution_count": null,
   "metadata": {},
   "outputs": [],
   "source": [
    "#dropped in dummy creation\n",
    "#ownership: MORTGAGE\n",
    "#use of loan: DEBTCONSOLIDATION\n",
    "# grade: A\n",
    "# default in history: No was dropped"
   ]
  },
  {
   "cell_type": "code",
   "execution_count": null,
   "metadata": {},
   "outputs": [],
   "source": []
  },
  {
   "cell_type": "markdown",
   "metadata": {},
   "source": [
    "## CONCATINATE"
   ]
  },
  {
   "cell_type": "code",
   "execution_count": null,
   "metadata": {},
   "outputs": [],
   "source": [
    "df=pd.concat([df_norm_num_standardized,df_norm_cat],axis=1)\n",
    "df"
   ]
  },
  {
   "cell_type": "markdown",
   "metadata": {},
   "source": [
    "## TEST AND TRAIN"
   ]
  },
  {
   "cell_type": "code",
   "execution_count": null,
   "metadata": {},
   "outputs": [],
   "source": [
    "X=df\n",
    "y=df_norm.loan_status"
   ]
  },
  {
   "cell_type": "code",
   "execution_count": null,
   "metadata": {},
   "outputs": [],
   "source": [
    "from sklearn.model_selection import train_test_split\n",
    "X_train, X_test, y_train, y_test = train_test_split(X, y, test_size=0.25, random_state=102)"
   ]
  },
  {
   "cell_type": "markdown",
   "metadata": {},
   "source": [
    "# DECISION TREE"
   ]
  },
  {
   "cell_type": "markdown",
   "metadata": {},
   "source": [
    "#### Score, Precision, Recall and the F1 Score"
   ]
  },
  {
   "cell_type": "code",
   "execution_count": null,
   "metadata": {},
   "outputs": [],
   "source": [
    "from sklearn.tree import DecisionTreeClassifier\n",
    "decisiontree = DecisionTreeClassifier().fit(X_train, y_train)\n",
    "y_pred_tree=decisiontree.predict(X_test)\n",
    "print('Score: ',decisiontree.score(X_test, y_test))\n"
   ]
  },
  {
   "cell_type": "code",
   "execution_count": null,
   "metadata": {},
   "outputs": [],
   "source": [
    "from sklearn.metrics import precision_score, recall_score, f1_score\n",
    "print(r'Precision', precision_score(y_test, y_pred_tree, pos_label='DENY'))# we need to tell it what is our positive class. B is class indication costumer got payment trouble\n",
    "print(r'Recall: ', recall_score(y_test, y_pred_tree, pos_label='DENY'))\n",
    "print(r'F1 Score: ',f1_score(y_test, y_pred_tree, pos_label='DENY'))"
   ]
  },
  {
   "cell_type": "code",
   "execution_count": null,
   "metadata": {},
   "outputs": [],
   "source": [
    "#Balanced Accuracy\n",
    "from sklearn.metrics import balanced_accuracy_score\n",
    "print('Balanced Accuracy; ',balanced_accuracy_score(y_test,y_pred_tree))"
   ]
  },
  {
   "cell_type": "code",
   "execution_count": null,
   "metadata": {},
   "outputs": [],
   "source": [
    "from sklearn.metrics import confusion_matrix\n",
    "cf_matrix_tree = confusion_matrix(y_test, y_pred_tree)\n",
    "print(cf_matrix_tree)\n",
    "######\n",
    "plt.figure(figsize=(14, 10))\n",
    "sns.set_theme()\n",
    "sns.heatmap(cf_matrix_tree/np.sum(cf_matrix_tree), annot=True, \n",
    "            fmt='.2%',xticklabels=[ 'Loan Approved', 'Loan Denied'],yticklabels=['Paid','Defaulted'],cmap='Blues').set_title('DECISION TREE')"
   ]
  },
  {
   "cell_type": "code",
   "execution_count": null,
   "metadata": {},
   "outputs": [],
   "source": [
    "# 73.9% we approve them for credit, and they are able to pay it back true/negative\n",
    "# 14.85% we deny them credit. and thats smart. because they are having issues true/positiv\n",
    "# 6.52 we approve credit BUT they cannot pay back! This is RISK. we want this  at Zero false/negative\n",
    "# 4.73 we deny credit BUT they actually could pay it back! Those are \"just\" good clients we refused false/positive"
   ]
  },
  {
   "cell_type": "markdown",
   "metadata": {},
   "source": [
    "## Nearest neighbour"
   ]
  },
  {
   "cell_type": "code",
   "execution_count": null,
   "metadata": {},
   "outputs": [],
   "source": [
    "from sklearn.neighbors import KNeighborsClassifier\n",
    "\n",
    "nearest_neighbors = KNeighborsClassifier().fit(X_train, y_train)\n",
    "y_pred_nn = nearest_neighbors.predict(X_test)\n",
    "print(nearest_neighbors.score(X_test, y_test))"
   ]
  },
  {
   "cell_type": "code",
   "execution_count": null,
   "metadata": {},
   "outputs": [],
   "source": [
    "print(r'Precision', precision_score(y_test, y_pred_nn, pos_label='DENY'))# we need to tell it what is our positive class. B is class indication costumer got payment trouble\n",
    "print(r'Recall: ', recall_score(y_test, y_pred_nn, pos_label='DENY'))\n",
    "print(r'F1 Score: ',f1_score(y_test, y_pred_nn, pos_label='DENY'))"
   ]
  },
  {
   "cell_type": "code",
   "execution_count": null,
   "metadata": {},
   "outputs": [],
   "source": [
    "#Balanced Accuracy\n",
    "from sklearn.metrics import balanced_accuracy_score\n",
    "print('Balanced Accuracy; ',balanced_accuracy_score(y_test,y_pred_nn))"
   ]
  },
  {
   "cell_type": "code",
   "execution_count": null,
   "metadata": {},
   "outputs": [],
   "source": [
    "from sklearn.metrics import confusion_matrix\n",
    "cf_matrix_nn = confusion_matrix(y_test, y_pred_nn)\n",
    "print(cf_matrix_nn)\n",
    "#####\n",
    "plt.figure(figsize=(14, 10))\n",
    "sns.set_theme()\n",
    "sns.heatmap(cf_matrix_nn/np.sum(cf_matrix_nn), annot=True, \n",
    "            fmt='.2%', cmap='Blues',xticklabels=[ 'Loan Approved', 'Loan Denied'],yticklabels=['Paid','Defaulted']).set_title('NEAREST NEIGHBOUR')"
   ]
  },
  {
   "cell_type": "code",
   "execution_count": null,
   "metadata": {},
   "outputs": [],
   "source": [
    "# BAD! false negative is larger tan with decisiontree. \n",
    "# We offer credit to 7,35% that actually adre defaulting"
   ]
  },
  {
   "cell_type": "markdown",
   "metadata": {},
   "source": [
    "## SVM SUPPORT VECTOR MACHINE\n"
   ]
  },
  {
   "cell_type": "code",
   "execution_count": null,
   "metadata": {},
   "outputs": [],
   "source": [
    "from sklearn.svm import SVC\n",
    "\n",
    "svm = SVC().fit(X_train, y_train)\n",
    "y_pred_svm = svm.predict(X_test)\n",
    "print(svm.score(X_test, y_test))"
   ]
  },
  {
   "cell_type": "code",
   "execution_count": null,
   "metadata": {},
   "outputs": [],
   "source": [
    "print(r'Precision', precision_score(y_test, y_pred_svm, pos_label='DENY'))# we need to tell it what is our positive class. B is class indication costumer got payment trouble\n",
    "print(r'Recall: ', recall_score(y_test, y_pred_svm, pos_label='DENY'))\n",
    "print(r'F1 Score: ',f1_score(y_test, y_pred_svm, pos_label='DENY'))"
   ]
  },
  {
   "cell_type": "code",
   "execution_count": null,
   "metadata": {},
   "outputs": [],
   "source": [
    "#Balanced Accuracy\n",
    "from sklearn.metrics import balanced_accuracy_score\n",
    "print('Balanced Accuracy; ',balanced_accuracy_score(y_test,y_pred_svm))"
   ]
  },
  {
   "cell_type": "code",
   "execution_count": null,
   "metadata": {},
   "outputs": [],
   "source": [
    "cf_matrix_svm = confusion_matrix(y_test, y_pred_svm)\n",
    "print(cf_matrix_svm)\n",
    "####\n",
    "plt.figure(figsize=(14, 10))\n",
    "sns.set_theme()\n",
    "sns.heatmap(cf_matrix_svm/np.sum(cf_matrix_svm), annot=True, \n",
    "            fmt='.2%', cmap='Blues',xticklabels=[ 'Loan Approved', 'Loan Denied'],yticklabels=['Paid','Defaulted']).set_title('SUPPORT VECTOR MACHINE')"
   ]
  },
  {
   "cell_type": "code",
   "execution_count": null,
   "metadata": {},
   "outputs": [],
   "source": [
    "#thats worse. We hand out 7.33% a loan that they will actually default on"
   ]
  },
  {
   "cell_type": "markdown",
   "metadata": {},
   "source": [
    "## Logisitc Regression"
   ]
  },
  {
   "cell_type": "code",
   "execution_count": null,
   "metadata": {},
   "outputs": [],
   "source": [
    "from sklearn.linear_model import LogisticRegression\n",
    "logistic = LogisticRegression(max_iter = 500).fit(X_train, y_train)\n",
    "y_pred_log = logistic.predict(X_test)\n",
    "logistic.score(X_test, y_test)"
   ]
  },
  {
   "cell_type": "code",
   "execution_count": null,
   "metadata": {},
   "outputs": [],
   "source": [
    "print(r'Precision', precision_score(y_test, y_pred_log, pos_label='DENY'))# we need to tell it what is our positive class. B is class indication costumer got payment trouble\n",
    "print(r'Recall: ', recall_score(y_test, y_pred_log, pos_label='DENY'))\n",
    "print(r'F1 Score: ',f1_score(y_test, y_pred_log, pos_label='DENY'))"
   ]
  },
  {
   "cell_type": "code",
   "execution_count": null,
   "metadata": {},
   "outputs": [],
   "source": [
    "#Balanced Accuracy\n",
    "from sklearn.metrics import balanced_accuracy_score\n",
    "print('Balanced Accuracy; ',balanced_accuracy_score(y_test,y_pred_log))"
   ]
  },
  {
   "cell_type": "code",
   "execution_count": null,
   "metadata": {},
   "outputs": [],
   "source": [
    "cf_matrix_log = confusion_matrix(y_test, y_pred_log)\n",
    "print(cf_matrix_log)\n",
    "#####\n",
    "plt.figure(figsize=(14, 10))\n",
    "sns.set_theme()\n",
    "sns.heatmap(cf_matrix_log/np.sum(cf_matrix_log), annot=True, \n",
    "            fmt='.2%', cmap='Blues',xticklabels=[ 'Loan Approved', 'Loan Denied'],yticklabels=['Paid','Defaulted']).set_title('LOGISTIC REGRESSION')"
   ]
  },
  {
   "cell_type": "code",
   "execution_count": null,
   "metadata": {},
   "outputs": [],
   "source": [
    "#WORST_ we assign loads of people a loan that actually will default"
   ]
  },
  {
   "cell_type": "markdown",
   "metadata": {},
   "source": [
    "## RANDOM FOREST"
   ]
  },
  {
   "cell_type": "code",
   "execution_count": null,
   "metadata": {},
   "outputs": [],
   "source": [
    "from sklearn.ensemble import RandomForestClassifier\n",
    "forest = RandomForestClassifier().fit(X_train, y_train)\n",
    "y_pred_rf = forest.predict(X_test)\n",
    "forest.score(X_test, y_test)"
   ]
  },
  {
   "cell_type": "code",
   "execution_count": null,
   "metadata": {},
   "outputs": [],
   "source": [
    "print(r'Precision', precision_score(y_test, y_pred_rf, pos_label='DENY'))# we need to tell it what is our positive class. B is class indication costumer got payment trouble\n",
    "print(r'Recall: ', recall_score(y_test, y_pred_rf, pos_label='DENY'))\n",
    "print(r'F1 Score: ',f1_score(y_test, y_pred_rf, pos_label='DENY'))"
   ]
  },
  {
   "cell_type": "code",
   "execution_count": null,
   "metadata": {},
   "outputs": [],
   "source": [
    "#Balanced Accuracy\n",
    "from sklearn.metrics import balanced_accuracy_score\n",
    "print('Balanced Accuracy; ',balanced_accuracy_score(y_test,y_pred_rf))"
   ]
  },
  {
   "cell_type": "code",
   "execution_count": null,
   "metadata": {},
   "outputs": [],
   "source": [
    "cf_matrix_rf = confusion_matrix(y_test, y_pred_rf)\n",
    "print(cf_matrix_rf)\n",
    "########\n",
    "plt.figure(figsize=(14, 10))\n",
    "sns.set_theme()\n",
    "sns.heatmap(cf_matrix_rf/np.sum(cf_matrix_rf), annot=True, \n",
    "            fmt='.2%', cmap='Blues',xticklabels=[ 'Loan Approved', 'Loan Denied'],yticklabels=['Paid','Defaulted']).set_title('RANDOM FOREST')"
   ]
  },
  {
   "cell_type": "code",
   "execution_count": null,
   "metadata": {},
   "outputs": [],
   "source": []
  },
  {
   "cell_type": "markdown",
   "metadata": {},
   "source": [
    "DECISION TREE TURNED OUT TO BE BEST\n",
    "PARTICULARLY  FALSE POSITIVE IS IMPORTANT TO US"
   ]
  },
  {
   "cell_type": "markdown",
   "metadata": {},
   "source": [
    "# Hyperparameter Tuning for Decision Tree\n",
    "#### DID NOT IMPROVE ANYTHING!\n"
   ]
  },
  {
   "cell_type": "code",
   "execution_count": null,
   "metadata": {},
   "outputs": [],
   "source": [
    "from sklearn.model_selection import GridSearchCV\n"
   ]
  },
  {
   "cell_type": "code",
   "execution_count": null,
   "metadata": {},
   "outputs": [],
   "source": [
    "#confusion matrix needs y to be numerical\n",
    "\n",
    "y_hype_train=np.where(y_train=='DENY',1,0)\n",
    "y_hype_test=np.where(y_test=='DENY',1,0)"
   ]
  },
  {
   "cell_type": "code",
   "execution_count": null,
   "metadata": {},
   "outputs": [],
   "source": [
    "param_grid = {\"criterion\": [\"gini\", \"entropy\"],\n",
    "                 \"splitter\": [\"best\", \"random\"],\n",
    "                 \"max_depth\": [3, 10, None],\n",
    "                 \"max_features\":[\"auto\", \"sqrt\", \"log2\",\n",
    "                                ]\n",
    "             }# max death helps avoiding overfitting by give a maximum depth\n",
    "\n",
    "tune = GridSearchCV(DecisionTreeClassifier(),\n",
    "                       param_grid=param_grid,\n",
    "                       cv=5,scoring='recall')\n",
    "\n",
    "tune.fit(X_train, y_hype_train)\n",
    "tune.best_params_ "
   ]
  },
  {
   "cell_type": "code",
   "execution_count": null,
   "metadata": {},
   "outputs": [],
   "source": [
    "decisiontree_opt = DecisionTreeClassifier(**tune.best_params_).fit(X_train, y_hype_train)\n",
    "y_pred_tree_opt = decisiontree_opt.predict(X_test)\n",
    "decisiontree_opt.score(X_test, y_hype_test)\n"
   ]
  },
  {
   "cell_type": "code",
   "execution_count": null,
   "metadata": {},
   "outputs": [],
   "source": [
    "from sklearn.metrics import precision_score, recall_score, f1_score\n",
    "print(r'Precision', precision_score(y_hype_test, y_pred_tree_opt, pos_label=1))# we need to tell it what is our positive class. B is class indication costumer got payment trouble\n",
    "print(r'Recall: ', recall_score(y_hype_test, y_pred_tree_opt, pos_label=1))\n",
    "print(r'F1 Score: ',f1_score(y_hype_test, y_pred_tree_opt, pos_label=1))"
   ]
  },
  {
   "cell_type": "code",
   "execution_count": null,
   "metadata": {},
   "outputs": [],
   "source": [
    "cf_matrix_hyp = confusion_matrix(y_hype_test, y_pred_tree_opt)\n",
    "print(cf_matrix_hyp)\n",
    "#########\n",
    "plt.figure(figsize=(14, 10))\n",
    "sns.set_theme()\n",
    "sns.heatmap(cf_matrix_hyp/np.sum(cf_matrix_hyp), annot=True, \n",
    "            fmt='.2%', cmap='Blues',xticklabels=[ 'Loan Approved', 'Loan Denied'],yticklabels=['Paid','Defaulted']).set_title('HYPERPARAMETER TUNING FOR DECISION TREE')"
   ]
  },
  {
   "cell_type": "markdown",
   "metadata": {},
   "source": [
    "# EVALUATION: COMPARING MODELS"
   ]
  },
  {
   "cell_type": "code",
   "execution_count": null,
   "metadata": {},
   "outputs": [],
   "source": [
    "compare=pd.DataFrame(columns=['models','score','recall','precision','true_positiv','true_negativ','false_positiv','false_negativ'])"
   ]
  },
  {
   "cell_type": "code",
   "execution_count": null,
   "metadata": {},
   "outputs": [],
   "source": [
    "compare.models=['DecisionTree','NearestNeighbour','SupportVectorMachine','LogisticRegression','RandomForest','HyperDecisionTree']\n",
    "compare.score=[decisiontree.score(X_test, y_test),\n",
    "       nearest_neighbors.score(X_test, y_test),\n",
    "       svm.score(X_test, y_test),\n",
    "       logistic.score(X_test, y_test),\n",
    "       forest.score(X_test, y_test),\n",
    "       decisiontree_opt.score(X_test, y_hype_test)\n",
    "      ]\n",
    "compare.recall= [recall_score(y_test, y_pred_tree, pos_label='DENY'),\n",
    "         recall_score(y_test, y_pred_nn, pos_label='DENY'),\n",
    "         recall_score(y_test, y_pred_svm, pos_label='DENY'),\n",
    "         recall_score(y_test, y_pred_log, pos_label='DENY'),\n",
    "         recall_score(y_test, y_pred_rf, pos_label='DENY'),\n",
    "         recall_score(y_hype_test, y_pred_tree_opt, pos_label=1)\n",
    "        ]\n",
    "compare.precision= [precision_score(y_test, y_pred_tree, pos_label='DENY'),\n",
    "            precision_score(y_test, y_pred_nn, pos_label='DENY'),\n",
    "            precision_score(y_test, y_pred_svm, pos_label='DENY'),\n",
    "            precision_score(y_test, y_pred_log, pos_label='DENY'),\n",
    "            precision_score(y_test, y_pred_rf, pos_label='DENY'),\n",
    "            precision_score(y_hype_test, y_pred_tree_opt, pos_label=1)\n",
    "           ]\n",
    "\n",
    "compare.true_positiv=[(cf_matrix_tree/np.sum(cf_matrix_tree))[0][0],\n",
    "              (cf_matrix_nn/np.sum(cf_matrix_nn))[0][0],\n",
    "              (cf_matrix_svm/np.sum(cf_matrix_svm))[0][0],\n",
    "              (cf_matrix_log/np.sum(cf_matrix_log))[0][0],\n",
    "              (cf_matrix_rf/np.sum(cf_matrix_rf))[0][0],\n",
    "              (cf_matrix_hyp/np.sum(cf_matrix_hyp))[0][0]\n",
    "             ]\n",
    "              \n",
    "compare.true_negativ=[(cf_matrix_tree/np.sum(cf_matrix_tree))[1][1],\n",
    "              (cf_matrix_nn/np.sum(cf_matrix_nn))[1][1],\n",
    "              (cf_matrix_svm/np.sum(cf_matrix_svm))[1][1],\n",
    "              (cf_matrix_log/np.sum(cf_matrix_log))[1][1],\n",
    "              (cf_matrix_rf/np.sum(cf_matrix_rf))[1][1],\n",
    "              (cf_matrix_hyp/np.sum(cf_matrix_hyp))[1][1]\n",
    "             ]\n",
    "\n",
    "compare.false_positiv=[(cf_matrix_tree/np.sum(cf_matrix_tree))[0][1],\n",
    "               (cf_matrix_nn/np.sum(cf_matrix_nn))[0][1],\n",
    "               (cf_matrix_svm/np.sum(cf_matrix_svm))[0][1],\n",
    "               (cf_matrix_log/np.sum(cf_matrix_log))[0][1],\n",
    "               (cf_matrix_rf/np.sum(cf_matrix_rf))[0][1],\n",
    "               (cf_matrix_hyp/np.sum(cf_matrix_hyp))[0][1]\n",
    "              ]\n",
    "               \n",
    "compare.false_negativ=[(cf_matrix_tree/np.sum(cf_matrix_tree))[1][0],\n",
    "               (cf_matrix_nn/np.sum(cf_matrix_nn))[1][0],\n",
    "               (cf_matrix_svm/np.sum(cf_matrix_svm))[1][0],\n",
    "               (cf_matrix_log/np.sum(cf_matrix_log))[1][0],\n",
    "               (cf_matrix_rf/np.sum(cf_matrix_rf))[1][0],\n",
    "               (cf_matrix_hyp/np.sum(cf_matrix_hyp))[1][0]\n",
    "              ]"
   ]
  },
  {
   "cell_type": "code",
   "execution_count": null,
   "metadata": {},
   "outputs": [],
   "source": [
    "#compare[compare.select_dtypes(include=[np.number]).columns]\n",
    "compare.sort_values(by='false_negativ').style.background_gradient(cmap='Blues')"
   ]
  },
  {
   "cell_type": "code",
   "execution_count": null,
   "metadata": {},
   "outputs": [],
   "source": [
    "#pd.io.formats.style.Styler.bar(subset=compare.score, color='lightgreen')\n",
    "compare.sort_values(by='false_negativ',ascending=True).style.bar(color='lightblue', vmin=0.0, vmax=1.0).bar(subset='false_negativ',color='steelblue', vmin=0.0, vmax=1.0)"
   ]
  },
  {
   "cell_type": "code",
   "execution_count": null,
   "metadata": {},
   "outputs": [],
   "source": []
  },
  {
   "cell_type": "markdown",
   "metadata": {},
   "source": [
    "### Cross Validation\n",
    "Answers if our split into training and test set biased?\n",
    "or if a different split creates a better result\n",
    "splits "
   ]
  },
  {
   "cell_type": "code",
   "execution_count": null,
   "metadata": {},
   "outputs": [],
   "source": [
    "from sklearn.model_selection import cross_validate\n",
    "\n",
    "cross_validate(DecisionTreeClassifier(),\n",
    "               X_train,\n",
    "               y_hype_train,\n",
    "               cv=100,\n",
    "               scoring=\"recall\")[\"test_score\"].mean()"
   ]
  },
  {
   "cell_type": "markdown",
   "metadata": {},
   "source": [
    "# INSERT / \n"
   ]
  },
  {
   "cell_type": "code",
   "execution_count": null,
   "metadata": {},
   "outputs": [],
   "source": [
    "pd.set_option('display.max_columns', None)\n",
    "#customer=pd.DataFrame(columns=X.columns)\n",
    "customer_boxcox_standard=pd.DataFrame(columns=['person_age', 'person_income', 'loan_amnt', 'loan_int_rate'])\n",
    "customer_standard=pd.DataFrame(columns=['person_emp_length','loan_percent_income'])\n",
    "customer_cat=pd.DataFrame(columns=df_norm_cat.columns)\n"
   ]
  },
  {
   "cell_type": "markdown",
   "metadata": {},
   "source": [
    "# INTERFACE"
   ]
  },
  {
   "cell_type": "code",
   "execution_count": 20,
   "metadata": {},
   "outputs": [
    {
     "name": "stdout",
     "output_type": "stream",
     "text": [
      "\n",
      "---\n",
      "Enter the clients age\n"
     ]
    },
    {
     "ename": "KeyboardInterrupt",
     "evalue": "Interrupted by user",
     "output_type": "error",
     "traceback": [
      "\u001b[1;31m---------------------------------------------------------------------------\u001b[0m",
      "\u001b[1;31mKeyboardInterrupt\u001b[0m                         Traceback (most recent call last)",
      "\u001b[1;32m<ipython-input-20-b4d9494fd548>\u001b[0m in \u001b[0;36m<module>\u001b[1;34m\u001b[0m\n\u001b[0;32m      1\u001b[0m \u001b[0mprint\u001b[0m\u001b[1;33m(\u001b[0m\u001b[1;34m'\\n---\\nEnter the clients age'\u001b[0m\u001b[1;33m)\u001b[0m\u001b[1;33m\u001b[0m\u001b[1;33m\u001b[0m\u001b[0m\n\u001b[1;32m----> 2\u001b[1;33m \u001b[0mperson_age\u001b[0m \u001b[1;33m=\u001b[0m \u001b[0mfloat\u001b[0m\u001b[1;33m(\u001b[0m\u001b[0minput\u001b[0m\u001b[1;33m(\u001b[0m\u001b[1;33m)\u001b[0m\u001b[1;33m)\u001b[0m\u001b[1;33m\u001b[0m\u001b[1;33m\u001b[0m\u001b[0m\n\u001b[0m\u001b[0;32m      3\u001b[0m \u001b[1;33m\u001b[0m\u001b[0m\n\u001b[0;32m      4\u001b[0m \u001b[0mprint\u001b[0m\u001b[1;33m(\u001b[0m\u001b[1;34m'\\n---\\nEnter the clients anual income (float)'\u001b[0m\u001b[1;33m)\u001b[0m\u001b[1;33m\u001b[0m\u001b[1;33m\u001b[0m\u001b[0m\n\u001b[0;32m      5\u001b[0m \u001b[0mperson_income\u001b[0m\u001b[1;33m=\u001b[0m\u001b[0mfloat\u001b[0m\u001b[1;33m(\u001b[0m\u001b[0minput\u001b[0m\u001b[1;33m(\u001b[0m\u001b[1;33m)\u001b[0m\u001b[1;33m)\u001b[0m\u001b[1;33m\u001b[0m\u001b[1;33m\u001b[0m\u001b[0m\n",
      "\u001b[1;32m~\\anaconda3\\lib\\site-packages\\ipykernel\\kernelbase.py\u001b[0m in \u001b[0;36mraw_input\u001b[1;34m(self, prompt)\u001b[0m\n\u001b[0;32m    858\u001b[0m                 \u001b[1;34m\"raw_input was called, but this frontend does not support input requests.\"\u001b[0m\u001b[1;33m\u001b[0m\u001b[1;33m\u001b[0m\u001b[0m\n\u001b[0;32m    859\u001b[0m             )\n\u001b[1;32m--> 860\u001b[1;33m         return self._input_request(str(prompt),\n\u001b[0m\u001b[0;32m    861\u001b[0m             \u001b[0mself\u001b[0m\u001b[1;33m.\u001b[0m\u001b[0m_parent_ident\u001b[0m\u001b[1;33m,\u001b[0m\u001b[1;33m\u001b[0m\u001b[1;33m\u001b[0m\u001b[0m\n\u001b[0;32m    862\u001b[0m             \u001b[0mself\u001b[0m\u001b[1;33m.\u001b[0m\u001b[0m_parent_header\u001b[0m\u001b[1;33m,\u001b[0m\u001b[1;33m\u001b[0m\u001b[1;33m\u001b[0m\u001b[0m\n",
      "\u001b[1;32m~\\anaconda3\\lib\\site-packages\\ipykernel\\kernelbase.py\u001b[0m in \u001b[0;36m_input_request\u001b[1;34m(self, prompt, ident, parent, password)\u001b[0m\n\u001b[0;32m    902\u001b[0m             \u001b[1;32mexcept\u001b[0m \u001b[0mKeyboardInterrupt\u001b[0m\u001b[1;33m:\u001b[0m\u001b[1;33m\u001b[0m\u001b[1;33m\u001b[0m\u001b[0m\n\u001b[0;32m    903\u001b[0m                 \u001b[1;31m# re-raise KeyboardInterrupt, to truncate traceback\u001b[0m\u001b[1;33m\u001b[0m\u001b[1;33m\u001b[0m\u001b[1;33m\u001b[0m\u001b[0m\n\u001b[1;32m--> 904\u001b[1;33m                 \u001b[1;32mraise\u001b[0m \u001b[0mKeyboardInterrupt\u001b[0m\u001b[1;33m(\u001b[0m\u001b[1;34m\"Interrupted by user\"\u001b[0m\u001b[1;33m)\u001b[0m \u001b[1;32mfrom\u001b[0m \u001b[1;32mNone\u001b[0m\u001b[1;33m\u001b[0m\u001b[1;33m\u001b[0m\u001b[0m\n\u001b[0m\u001b[0;32m    905\u001b[0m             \u001b[1;32mexcept\u001b[0m \u001b[0mException\u001b[0m \u001b[1;32mas\u001b[0m \u001b[0me\u001b[0m\u001b[1;33m:\u001b[0m\u001b[1;33m\u001b[0m\u001b[1;33m\u001b[0m\u001b[0m\n\u001b[0;32m    906\u001b[0m                 \u001b[0mself\u001b[0m\u001b[1;33m.\u001b[0m\u001b[0mlog\u001b[0m\u001b[1;33m.\u001b[0m\u001b[0mwarning\u001b[0m\u001b[1;33m(\u001b[0m\u001b[1;34m\"Invalid Message:\"\u001b[0m\u001b[1;33m,\u001b[0m \u001b[0mexc_info\u001b[0m\u001b[1;33m=\u001b[0m\u001b[1;32mTrue\u001b[0m\u001b[1;33m)\u001b[0m\u001b[1;33m\u001b[0m\u001b[1;33m\u001b[0m\u001b[0m\n",
      "\u001b[1;31mKeyboardInterrupt\u001b[0m: Interrupted by user"
     ]
    }
   ],
   "source": [
    "print('\\n---\\nEnter the clients age')\n",
    "person_age = float(input())\n",
    "\n",
    "print('\\n---\\nEnter the clients anual income (float)')\n",
    "person_income=float(input())\n",
    "\n",
    "print('\\n---\\nHow many years has the client been employed (in years)')\n",
    "person_emp_length=float(input())\n",
    "\n",
    "print('\\n---\\nEnter the demanded loan amount (float)')\n",
    "loan_amnt=float(input())\n",
    "\n",
    "print('\\n---\\nEnter the interest rate(float)')\n",
    "loan_int_rate=float(input())\n",
    "\n",
    "loan_percent_income=round(loan_amnt/person_income,2)\n",
    "\n",
    "print('\\n---\\nEnter your client‘s home owner status:\\n*mortgage\\n*other\\n*own\\n*rent\\ncopy paste from above')\n",
    "ownership=input()#categorical\n",
    "\n",
    "print('\\n---\\nIntended purpose of the loan:\\n*debtconsolidation\\n*education\\n*homeimprovement\\n*medical\\n*personal\\n*venture\\ncopy paste from above')\n",
    "intent=input()\n",
    "\n",
    "print('\\n---\\nwhat‘s the client‘s existing credit rating [A-G]')\n",
    "grade=input()\n",
    "      \n",
    "print('\\n---\\nHas there been a previous default [Y/N]')\n",
    "prev_default=input()\n",
    "\n"
   ]
  },
  {
   "cell_type": "code",
   "execution_count": null,
   "metadata": {},
   "outputs": [],
   "source": [
    "#ownership category\n",
    "ownership_other=np.where(ownership=='other',1,0)\n",
    "ownership_own=np.where(ownership=='own',1,0)\n",
    "ownership_rent=np.where(ownership=='rent',1,0)"
   ]
  },
  {
   "cell_type": "code",
   "execution_count": null,
   "metadata": {},
   "outputs": [],
   "source": [
    "#intent category\n",
    "intent_education=np.where(intent=='education',1,0)\n",
    "intent_homeimprovement=np.where(intent=='homeimprovement',1,0)\n",
    "intent_medical=np.where(intent=='medical',1,0)\n",
    "intent_personal=np.where(intent=='personal',1,0)\n",
    "intent_venture=np.where(intent=='venture',1,0)"
   ]
  },
  {
   "cell_type": "code",
   "execution_count": null,
   "metadata": {},
   "outputs": [],
   "source": [
    "#grade category\n",
    "grade_B=np.where(grade=='B',1,0)\n",
    "grade_C=np.where(grade=='C',1,0)\n",
    "grade_D=np.where(grade=='D',1,0)\n",
    "grade_E=np.where(grade=='E',1,0)\n",
    "grade_F=np.where(grade=='F',1,0)\n",
    "grade_G=np.where(grade=='G',1,0)"
   ]
  },
  {
   "cell_type": "code",
   "execution_count": null,
   "metadata": {},
   "outputs": [],
   "source": [
    "#previous default\n",
    "prev_default=np.where(prev_default=='Y',1,0)"
   ]
  },
  {
   "cell_type": "markdown",
   "metadata": {},
   "source": [
    "Entered data must be manuipulated just like the models test and train data\n",
    "\n",
    "#### boxcox and standardizer\n",
    "following features must go through boxcox and standardizer\n",
    "* person_age  \n",
    "* person_income \n",
    "* loan_amnt \n",
    "* loan_int_rate\n",
    "\n",
    "#### standardizer only\n",
    "(they had value 0 in train data but boxcox can only deal with strictly positive values)\n",
    "person_emp_length\n",
    "loan_percent_income"
   ]
  },
  {
   "cell_type": "code",
   "execution_count": null,
   "metadata": {},
   "outputs": [],
   "source": [
    "#must be boxcoxed and standardized\n",
    "customer_boxcox_standard.loc[len(customer_boxcox_standard)]=[person_age,\n",
    "                        person_income,\n",
    "                        loan_amnt,\n",
    "                        loan_int_rate,\n",
    "                        ]\n",
    "\n",
    "#must only be standardized\n",
    "customer_standard.loc[len(customer_standard)]=[person_emp_length, loan_percent_income,]\n",
    "\n",
    "#remain as entered\n",
    "customer_cat.loc[len(customer_cat)] =[\n",
    "                        ownership_other,\n",
    "                        ownership_own,\n",
    "                        ownership_rent,\n",
    "                        intent_education,\n",
    "                        intent_homeimprovement,\n",
    "                        intent_medical,\n",
    "                        intent_personal,\n",
    "                        intent_venture,\n",
    "                        grade_B,\n",
    "                        grade_C,\n",
    "                        grade_D,\n",
    "                        grade_E,\n",
    "                        grade_F,\n",
    "                        grade_G,\n",
    "                        prev_default\n",
    "                       ]"
   ]
  },
  {
   "cell_type": "code",
   "execution_count": null,
   "metadata": {},
   "outputs": [],
   "source": [
    "customer_boxcox_standard"
   ]
  },
  {
   "cell_type": "code",
   "execution_count": null,
   "metadata": {},
   "outputs": [],
   "source": [
    "#concatinating entered data on top of csv data to send it through boxcox transformer of my model\n",
    "boxcoxtransfrom=pd.concat([customer_boxcox_standard.reset_index(drop=True),credit_risk[['person_age','person_income','loan_amnt','loan_int_rate']].reset_index(drop=True)])\n"
   ]
  },
  {
   "cell_type": "code",
   "execution_count": null,
   "metadata": {},
   "outputs": [],
   "source": [
    "boxcoxtransfrom.describe()"
   ]
  },
  {
   "cell_type": "code",
   "execution_count": null,
   "metadata": {},
   "outputs": [],
   "source": [
    "boxcoxtransfrom"
   ]
  },
  {
   "cell_type": "code",
   "execution_count": null,
   "metadata": {},
   "outputs": [],
   "source": [
    "#boxcox transformer on customer_boxcox_standard\n",
    "a=pd.DataFrame(boxcox.fit_transform(boxcoxtransfrom, y=None),columns =customer_boxcox_standard.columns)\n"
   ]
  },
  {
   "cell_type": "code",
   "execution_count": null,
   "metadata": {},
   "outputs": [],
   "source": [
    "a"
   ]
  },
  {
   "cell_type": "code",
   "execution_count": null,
   "metadata": {},
   "outputs": [],
   "source": [
    "a=a.head(1)\n",
    "a"
   ]
  },
  {
   "cell_type": "code",
   "execution_count": null,
   "metadata": {},
   "outputs": [],
   "source": [
    "b=customer_standard.head(1)\n",
    "b"
   ]
  },
  {
   "cell_type": "code",
   "execution_count": null,
   "metadata": {},
   "outputs": [],
   "source": [
    "# next step: standardizer transformer on customer_standard\n",
    "# concatinating for standardize transformer\n",
    "c=pd.concat([a.reset_index(drop=True),b.reset_index(drop=True)],axis=1)\n",
    "#scaler.transform(b)\n",
    "c"
   ]
  },
  {
   "cell_type": "code",
   "execution_count": null,
   "metadata": {},
   "outputs": [],
   "source": [
    "#next step:standardizer transformer on customer_standard\n",
    "d=pd.DataFrame(scaler.transform(c),columns=c.columns)\n",
    "d"
   ]
  },
  {
   "cell_type": "code",
   "execution_count": null,
   "metadata": {},
   "outputs": [],
   "source": [
    "customer_cat"
   ]
  },
  {
   "cell_type": "code",
   "execution_count": null,
   "metadata": {},
   "outputs": [],
   "source": [
    "customer_cat.head(1)"
   ]
  },
  {
   "cell_type": "code",
   "execution_count": null,
   "metadata": {},
   "outputs": [],
   "source": [
    "# next step concatinate \n",
    "customer_data=pd.concat([d.reset_index(drop=True),customer_cat.head(1).reset_index(drop=True)],axis=1)\n",
    "customer_data"
   ]
  },
  {
   "cell_type": "code",
   "execution_count": null,
   "metadata": {},
   "outputs": [],
   "source": [
    "#feed concatinated data to model.predict and return \"approved\" or 'denied'"
   ]
  },
  {
   "cell_type": "code",
   "execution_count": null,
   "metadata": {},
   "outputs": [],
   "source": [
    "decisiontree.predict(customer_data)"
   ]
  },
  {
   "cell_type": "code",
   "execution_count": null,
   "metadata": {},
   "outputs": [],
   "source": []
  },
  {
   "cell_type": "code",
   "execution_count": null,
   "metadata": {},
   "outputs": [],
   "source": []
  },
  {
   "cell_type": "code",
   "execution_count": null,
   "metadata": {},
   "outputs": [],
   "source": []
  },
  {
   "cell_type": "code",
   "execution_count": null,
   "metadata": {},
   "outputs": [],
   "source": []
  },
  {
   "cell_type": "code",
   "execution_count": null,
   "metadata": {},
   "outputs": [],
   "source": []
  },
  {
   "cell_type": "code",
   "execution_count": null,
   "metadata": {},
   "outputs": [],
   "source": []
  },
  {
   "cell_type": "code",
   "execution_count": null,
   "metadata": {},
   "outputs": [],
   "source": [
    "columns=['person_age','person_income','loan_amnt','loan_int_rate','person_emp_length','loan_percent_income']"
   ]
  },
  {
   "cell_type": "code",
   "execution_count": null,
   "metadata": {},
   "outputs": [],
   "source": []
  }
 ],
 "metadata": {
  "kernelspec": {
   "display_name": "Python 3",
   "language": "python",
   "name": "python3"
  },
  "language_info": {
   "codemirror_mode": {
    "name": "ipython",
    "version": 3
   },
   "file_extension": ".py",
   "mimetype": "text/x-python",
   "name": "python",
   "nbconvert_exporter": "python",
   "pygments_lexer": "ipython3",
   "version": "3.8.3"
  }
 },
 "nbformat": 4,
 "nbformat_minor": 4
}
