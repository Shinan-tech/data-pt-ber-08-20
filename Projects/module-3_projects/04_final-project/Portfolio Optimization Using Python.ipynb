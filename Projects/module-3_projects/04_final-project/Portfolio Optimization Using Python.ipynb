{
 "cells": [
  {
   "cell_type": "markdown",
   "metadata": {},
   "source": [
    "#### Portfolio optimization of crypto currencies:\n",
    "a popular technique that financial and investment advisors use to help ensure that their clients are taking appropriate risk to meet their financial objectives.\n",
    "\n",
    "Section 1: Focusing on collecting the data necessary for analysis. Closing price for top10 coins according to marketcap. Use API CoinGecko to grab daily closing price in USD for 365 days during bear market (from 01.01.2019 - 31.12.2019).\n",
    "BTC ETH XRP ADA LTC BNB BCH XLM BSV EOS\n",
    "\n",
    "Section 2: Preparing the data to calculate a few different metrics: expected returns, expected volatility, and the sharp ratio.\n",
    "\n",
    "Section 3: Building a simulation that will randomly generate results that we can use to help to determine the optimal results for a wide range of portfolios.\n",
    "\n",
    "Section 4: Taking this simulation, plot them using matplotlib, using scipy library to run an optimization algorthim that will return the best weights for our simulation\n"
   ]
  },
  {
   "cell_type": "code",
   "execution_count": 3,
   "metadata": {},
   "outputs": [],
   "source": [
    "import pandas as pd\n",
    "import requests\n",
    "import json\n",
    "import numpy as np\n",
    "import matplotlib.pyplot as plt\n",
    "%matplotlib inline\n",
    "import scipy.optimize as sci_plt\n",
    "\n",
    "from pprint import pprint\n",
    "from sklearn.preprocessing import StandardScaler\n",
    "\n",
    "# Set some display option for Pandas\n",
    "\n",
    "pd.set_option(\"display.max_colwidth\", None)\n",
    "pd.set_option(\"expand_frame_repr\", False)"
   ]
  },
  {
   "cell_type": "markdown",
   "metadata": {},
   "source": [
    "### Section 1 \n",
    "Grabbing the data from CoinGecko"
   ]
  },
  {
   "cell_type": "code",
   "execution_count": null,
   "metadata": {},
   "outputs": [],
   "source": [
    "base = 'https://api.coingecko.com/api/v3/'\n",
    "url = base + 'coins/bitcoin/market_chart'\n",
    "param_dict = {'id':'bitcoin', 'vs_currency':'usd', 'days':30}\n",
    "\n",
    "response = requests.get(url, params=param_dict)\n",
    "results = response.json()\n",
    "\n",
    "print(results.keys())"
   ]
  },
  {
   "cell_type": "code",
   "execution_count": null,
   "metadata": {},
   "outputs": [],
   "source": []
  }
 ],
 "metadata": {
  "kernelspec": {
   "display_name": "Python 3",
   "language": "python",
   "name": "python3"
  },
  "language_info": {
   "codemirror_mode": {
    "name": "ipython",
    "version": 3
   },
   "file_extension": ".py",
   "mimetype": "text/x-python",
   "name": "python",
   "nbconvert_exporter": "python",
   "pygments_lexer": "ipython3",
   "version": "3.8.3"
  }
 },
 "nbformat": 4,
 "nbformat_minor": 4
}
